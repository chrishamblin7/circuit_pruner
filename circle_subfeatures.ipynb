{
 "cells": [
  {
   "cell_type": "markdown",
   "id": "258f1cb7",
   "metadata": {},
   "source": [
    "## Simple Shape circuit Extraction Demo notebook"
   ]
  },
  {
   "cell_type": "code",
   "execution_count": 1,
   "id": "66f1e0aa",
   "metadata": {},
   "outputs": [],
   "source": [
    "%load_ext autoreload\n",
    "%autoreload 2"
   ]
  },
  {
   "cell_type": "code",
   "execution_count": null,
   "id": "801e0ad0",
   "metadata": {},
   "outputs": [],
   "source": [
    "#hardware\n",
    "device = 'cuda:0'\n",
    "\n",
    "from circuit_pruner.utils import load_config\n",
    "\n",
    "config = load_config('./configs/alexnet_sparse_config.py')\n",
    "model = config.model.to(device)\n",
    "\n",
    "\n",
    "\n",
    "#general\n",
    "import torch\n",
    "import os\n",
    "from copy import deepcopy\n",
    "from circuit_pruner.force import setup_net_for_circuit_prune, show_model_layer_names"
   ]
  },
  {
   "cell_type": "markdown",
   "id": "9bf63ee2",
   "metadata": {},
   "source": [
    "#### feature target "
   ]
  },
  {
   "cell_type": "code",
   "execution_count": 4,
   "id": "83c448a9",
   "metadata": {},
   "outputs": [],
   "source": [
    "#circle feature\n",
    "layer = 'features_8'\n",
    "unit = 53\n",
    "\n",
    "feature_targets = {layer:[unit]}"
   ]
  },
  {
   "cell_type": "markdown",
   "id": "0abea7b8",
   "metadata": {},
   "source": [
    "### general circuit"
   ]
  },
  {
   "cell_type": "code",
   "execution_count": 5,
   "id": "affd4597",
   "metadata": {},
   "outputs": [
    {
     "name": "stdout",
     "output_type": "stream",
     "text": [
      "alexnet_sparse_features_8:53_1640635535.2542477.pt\n",
      "found\n"
     ]
    }
   ],
   "source": [
    "general_ranks = torch.load('quick_start/features_8_53_alexnetsparse_actgrad_ranks.pt')"
   ]
  },
  {
   "cell_type": "code",
   "execution_count": 6,
   "id": "1c6d1f8d",
   "metadata": {},
   "outputs": [],
   "source": [
    "import pickle\n",
    "df = pickle.load(open('quick_start/dist_df.pkl','rb'))"
   ]
  },
  {
   "cell_type": "code",
   "execution_count": 7,
   "id": "a3372fa9",
   "metadata": {},
   "outputs": [
    {
     "data": {
      "text/html": [
       "<div>\n",
       "<style scoped>\n",
       "    .dataframe tbody tr th:only-of-type {\n",
       "        vertical-align: middle;\n",
       "    }\n",
       "\n",
       "    .dataframe tbody tr th {\n",
       "        vertical-align: top;\n",
       "    }\n",
       "\n",
       "    .dataframe thead th {\n",
       "        text-align: right;\n",
       "    }\n",
       "</style>\n",
       "<table border=\"1\" class=\"dataframe\">\n",
       "  <thead>\n",
       "    <tr style=\"text-align: right;\">\n",
       "      <th></th>\n",
       "      <th>sparsity</th>\n",
       "      <th>effective_sparsity</th>\n",
       "      <th>pruned_pearson</th>\n",
       "    </tr>\n",
       "  </thead>\n",
       "  <tbody>\n",
       "    <tr>\n",
       "      <th>41991</th>\n",
       "      <td>0.001</td>\n",
       "      <td>0.000000</td>\n",
       "      <td>0.000000</td>\n",
       "    </tr>\n",
       "    <tr>\n",
       "      <th>41992</th>\n",
       "      <td>0.005</td>\n",
       "      <td>0.000658</td>\n",
       "      <td>0.304487</td>\n",
       "    </tr>\n",
       "    <tr>\n",
       "      <th>41993</th>\n",
       "      <td>0.010</td>\n",
       "      <td>0.003049</td>\n",
       "      <td>0.131389</td>\n",
       "    </tr>\n",
       "    <tr>\n",
       "      <th>41994</th>\n",
       "      <td>0.050</td>\n",
       "      <td>0.039842</td>\n",
       "      <td>0.495238</td>\n",
       "    </tr>\n",
       "    <tr>\n",
       "      <th>41995</th>\n",
       "      <td>0.100</td>\n",
       "      <td>0.096175</td>\n",
       "      <td>0.815591</td>\n",
       "    </tr>\n",
       "    <tr>\n",
       "      <th>41996</th>\n",
       "      <td>0.200</td>\n",
       "      <td>0.199372</td>\n",
       "      <td>0.951118</td>\n",
       "    </tr>\n",
       "    <tr>\n",
       "      <th>41997</th>\n",
       "      <td>0.300</td>\n",
       "      <td>0.299958</td>\n",
       "      <td>0.992698</td>\n",
       "    </tr>\n",
       "    <tr>\n",
       "      <th>41998</th>\n",
       "      <td>0.400</td>\n",
       "      <td>0.399887</td>\n",
       "      <td>0.999631</td>\n",
       "    </tr>\n",
       "    <tr>\n",
       "      <th>41999</th>\n",
       "      <td>0.500</td>\n",
       "      <td>0.499677</td>\n",
       "      <td>0.999998</td>\n",
       "    </tr>\n",
       "    <tr>\n",
       "      <th>42000</th>\n",
       "      <td>0.600</td>\n",
       "      <td>0.599813</td>\n",
       "      <td>1.000000</td>\n",
       "    </tr>\n",
       "    <tr>\n",
       "      <th>42001</th>\n",
       "      <td>0.700</td>\n",
       "      <td>0.699938</td>\n",
       "      <td>1.000000</td>\n",
       "    </tr>\n",
       "    <tr>\n",
       "      <th>42002</th>\n",
       "      <td>0.800</td>\n",
       "      <td>0.799993</td>\n",
       "      <td>1.000000</td>\n",
       "    </tr>\n",
       "    <tr>\n",
       "      <th>42003</th>\n",
       "      <td>0.900</td>\n",
       "      <td>0.900002</td>\n",
       "      <td>1.000000</td>\n",
       "    </tr>\n",
       "  </tbody>\n",
       "</table>\n",
       "</div>"
      ],
      "text/plain": [
       "       sparsity  effective_sparsity  pruned_pearson\n",
       "41991     0.001            0.000000        0.000000\n",
       "41992     0.005            0.000658        0.304487\n",
       "41993     0.010            0.003049        0.131389\n",
       "41994     0.050            0.039842        0.495238\n",
       "41995     0.100            0.096175        0.815591\n",
       "41996     0.200            0.199372        0.951118\n",
       "41997     0.300            0.299958        0.992698\n",
       "41998     0.400            0.399887        0.999631\n",
       "41999     0.500            0.499677        0.999998\n",
       "42000     0.600            0.599813        1.000000\n",
       "42001     0.700            0.699938        1.000000\n",
       "42002     0.800            0.799993        1.000000\n",
       "42003     0.900            0.900002        1.000000"
      ]
     },
     "execution_count": 7,
     "metadata": {},
     "output_type": "execute_result"
    }
   ],
   "source": [
    "df.loc[(df['model']=='alexnet_sparse') & (df['layer']==layer) & (df['method']=='actxgrad') & (df['unit']==unit)][['sparsity','effective_sparsity','pruned_pearson']]"
   ]
  },
  {
   "cell_type": "code",
   "execution_count": 8,
   "id": "dda1602d",
   "metadata": {},
   "outputs": [
    {
     "name": "stdout",
     "output_type": "stream",
     "text": [
      "features_8 effective last layer\n",
      "target sparsity: 0.4\n",
      "total params to feature: 86592\n",
      "\n",
      "kept params in original mask: 34637      (total params * sparsity)\n",
      "original mask: 483772 params\n",
      "effective mask: 483682 params\n",
      "effective_sparsity: 0.39987527716186255\n",
      "filter sparsity: 0.7236234294161124\n",
      "kernel sparsity: 0.5526013405681456\n"
     ]
    }
   ],
   "source": [
    "from circuit_pruner.extraction import model_ranks_2_circuit_model\n",
    "from circuit_pruner.utils import circuit_2_model_sparsity\n",
    "\n",
    "sparsity = .4\n",
    "\n",
    "general_circuit,general_mask = model_ranks_2_circuit_model(general_ranks,sparsity,model,\n",
    "                                                                     feature_targets,device,structure='edges',\n",
    "                                                                     use_effective_mask=True)\n",
    "\n",
    "general_circuit = general_circuit.eval().to('cpu')\n",
    "\n",
    "for l in general_mask:\n",
    "    l = l.to('cpu')\n",
    "    \n",
    "    \n",
    "circuit_feature_targets = {layer:[0]}\n",
    "\n",
    "general_circuit_sparsity_factor = circuit_2_model_sparsity(general_circuit,model)"
   ]
  },
  {
   "cell_type": "code",
   "execution_count": 9,
   "id": "f2e9192d",
   "metadata": {},
   "outputs": [
    {
     "data": {
      "text/plain": [
       "0.39987527716186255"
      ]
     },
     "execution_count": 9,
     "metadata": {},
     "output_type": "execute_result"
    }
   ],
   "source": [
    "general_circuit_sparsity_factor"
   ]
  },
  {
   "cell_type": "markdown",
   "id": "84b1c8bd",
   "metadata": {},
   "source": [
    "#### feature visualization of general circuit"
   ]
  },
  {
   "cell_type": "code",
   "execution_count": 11,
   "id": "d4160bf4",
   "metadata": {
    "scrolled": true
   },
   "outputs": [
    {
     "name": "stderr",
     "output_type": "stream",
     "text": [
      "  1%|          | 3/512 [00:00<00:17, 29.86it/s]"
     ]
    },
    {
     "name": "stdout",
     "output_type": "stream",
     "text": [
      "------------------------------------------------------------------------------\n",
      "        Layer (type)    map size      start       jump receptive_field \n",
      "==============================================================================\n",
      "        0             [224, 224]        0.5        1.0             1.0 \n",
      "        1               [55, 55]        3.5        4.0            11.0 \n",
      "        2               [55, 55]        3.5        4.0            11.0 \n",
      "        3               [27, 27]        7.5        8.0            19.0 \n",
      "        4               [27, 27]        7.5        8.0            51.0 \n",
      "        5               [27, 27]        7.5        8.0            51.0 \n",
      "        6               [13, 13]       15.5       16.0            67.0 \n",
      "        7               [13, 13]       15.5       16.0            99.0 \n",
      "        8               [13, 13]       15.5       16.0            99.0 \n",
      "        9               [13, 13]       15.5       16.0           131.0 \n",
      "==============================================================================\n"
     ]
    },
    {
     "name": "stderr",
     "output_type": "stream",
     "text": [
      "100%|██████████| 512/512 [00:15<00:00, 32.35it/s]\n"
     ]
    },
    {
     "data": {
      "text/html": [
       "<div style=\"display: flex; flex-direction: row;\"><div style=\"margin-right:10px; margin-top: 4px;\">\n",
       "                            0 <br/>\n",
       "                            <img src=\"data:image/PNG;base64,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\" style=\"image-rendering: pixelated;\">\n",
       "                        </div></div>"
      ],
      "text/plain": [
       "<IPython.core.display.HTML object>"
      ]
     },
     "metadata": {},
     "output_type": "display_data"
    },
    {
     "name": "stdout",
     "output_type": "stream",
     "text": [
      "(13, 13)\n",
      "(6, 6)\n",
      "[(46.0, 177.0), (46.0, 177.0)]\n"
     ]
    },
    {
     "data": {
      "image/png": "[encoded data removed]",
      "text/plain": [
       "<PIL.Image.Image image mode=RGB size=131x131 at 0x7FBF4D22AC50>"
      ]
     },
     "execution_count": 11,
     "metadata": {},
     "output_type": "execute_result"
    }
   ],
   "source": [
    "from circuit_pruner.visualizer.featureviz  import featviz_in_recep_field\n",
    "\n",
    "featviz_in_recep_field(deepcopy(general_circuit),layer,0,margin=0)"
   ]
  },
  {
   "cell_type": "markdown",
   "id": "a0067835",
   "metadata": {},
   "source": [
    "### dataloaders"
   ]
  },
  {
   "cell_type": "markdown",
   "id": "16676eab",
   "metadata": {},
   "source": [
    "#### preprocess"
   ]
  },
  {
   "cell_type": "code",
   "execution_count": 12,
   "id": "735aa988",
   "metadata": {},
   "outputs": [
    {
     "name": "stdout",
     "output_type": "stream",
     "text": [
      "------------------------------------------------------------------------------\n",
      "        Layer (type)    map size      start       jump receptive_field \n",
      "==============================================================================\n",
      "        0             [244, 244]        0.5        1.0             1.0 \n",
      "        1               [60, 60]        3.5        4.0            11.0 \n",
      "        2               [60, 60]        3.5        4.0            11.0 \n",
      "        3               [29, 29]        7.5        8.0            19.0 \n",
      "        4               [29, 29]        7.5        8.0            51.0 \n",
      "        5               [29, 29]        7.5        8.0            51.0 \n",
      "        6               [14, 14]       15.5       16.0            67.0 \n",
      "        7               [14, 14]       15.5       16.0            99.0 \n",
      "        8               [14, 14]       15.5       16.0            99.0 \n",
      "        9               [14, 14]       15.5       16.0           131.0 \n",
      "==============================================================================\n",
      "[(30.0, 161.0), (30.0, 161.0)]\n"
     ]
    }
   ],
   "source": [
    "from torchvision import transforms\n",
    "from circuit_pruner.receptive_fields import receptive_field_fit_transform\n",
    "\n",
    "target_position = [5,5]   #which location of the target filter's activation map do we want to fit these images to\n",
    "rff_transform = receptive_field_fit_transform(layer,target_position,model=general_circuit)\n",
    "#try adding the argument \"shrinkage = .5\" above\n",
    "\n",
    "preprocess = config.preprocess\n",
    "preprocess =  transforms.Compose([preprocess,\n",
    "                                  rff_transform])"
   ]
  },
  {
   "cell_type": "code",
   "execution_count": null,
   "id": "b975326e",
   "metadata": {},
   "outputs": [],
   "source": [
    "from PIL import Image, ImageOps\n",
    "from torchvision import transforms\n",
    "import os\n",
    "\n",
    "topil = transforms.ToPILImage()\n",
    "\n",
    "images = ['empty_circle.jpg','small_circle.jpg']\n",
    "\n",
    "img_root_path = './image_data/sample_data/circles/'\n",
    "for image in images:\n",
    "    img = Image.open(os.path.join(img_root_path,image))\n",
    "    img_t = preprocess(img)\n",
    "    img = topil(img_t)\n",
    "    display(img)"
   ]
  },
  {
   "cell_type": "markdown",
   "id": "ba697e72",
   "metadata": {},
   "source": [
    "#### dataloader classes"
   ]
  },
  {
   "cell_type": "code",
   "execution_count": 15,
   "id": "29d63f76",
   "metadata": {},
   "outputs": [],
   "source": [
    "from circuit_pruner.data_loading import rank_image_data\n",
    "from circuit_pruner.data_loading import single_image_data\n",
    "from torchvision import transforms\n",
    "from torch.utils import data\n",
    "\n",
    "\n",
    "\n",
    "kwargs = {'num_workers': 1, 'pin_memory': True, 'sampler':None} if 'cuda' in device else {}\n",
    "\n",
    "dataloaders = {}\n",
    "\n",
    "for image in images:\n",
    "    dataloaders[image] = data.DataLoader(single_image_data(img_root_path +image,preprocess),\n",
    "                                         batch_size=1,\n",
    "                                         shuffle=False,\n",
    "                                         **kwargs)\n",
    "    \n",
    "\n"
   ]
  },
  {
   "cell_type": "markdown",
   "id": "c03cbd43",
   "metadata": {},
   "source": [
    "#### generate ranks"
   ]
  },
  {
   "cell_type": "code",
   "execution_count": 16,
   "id": "1faf5d85",
   "metadata": {},
   "outputs": [
    {
     "name": "stdout",
     "output_type": "stream",
     "text": [
      "empty_circle.jpg\n",
      "small_circle.jpg\n"
     ]
    }
   ],
   "source": [
    "from circuit_pruner.dissected_Conv2d import set_across_model, set_model_target_node\n",
    "from circuit_pruner.dissected_Conv2d import get_ranklist_from_dissected_Conv2d_modules, clear_ranks_across_model\n",
    "from copy import deepcopy\n",
    "from circuit_pruner.dissected_Conv2d import dissect_model\n",
    "\n",
    "structure = 'kernels'\n",
    "\n",
    "ranks = {}\n",
    "\n",
    "\n",
    "for image in images:\n",
    "    print(image)\n",
    "    \n",
    "    rankable_model = dissect_model(deepcopy(general_circuit), dissect=True,store_ranks = True, device=device)\n",
    "    rankable_model.to(device)\n",
    "\n",
    "    set_model_target_node(rankable_model,layer,0)\n",
    "\n",
    "    set_across_model(rankable_model,'rank_field',target_position)#we want to get ranks with respect to our filters response at the target position \n",
    "\n",
    "    set_across_model(rankable_model,'absolute_rank',True)\n",
    "    \n",
    "    iter_dataloader = iter(dataloaders[image])\n",
    "    iters = len(iter_dataloader)\n",
    "\n",
    "    #actually extract ranks by running images through model\n",
    "    clear_ranks_across_model(rankable_model)\n",
    "\n",
    "    for it in range(iters):\n",
    "\n",
    "        inputs, label = next(iter_dataloader)\n",
    "        inputs = inputs.to(device)\n",
    "\n",
    "        rankable_model.zero_grad()\n",
    "\n",
    "        try:\n",
    "            outputs = rankable_model(inputs)\n",
    "        except:\n",
    "            pass\n",
    "\n",
    "\n",
    "    ranks[image] = get_ranklist_from_dissected_Conv2d_modules(rankable_model)\n",
    "    \n",
    "    del rankable_model\n",
    "    torch.cuda.empty_cache()"
   ]
  },
  {
   "cell_type": "markdown",
   "id": "551d305b",
   "metadata": {},
   "source": [
    "#### activation preservation as function of sparsity"
   ]
  },
  {
   "cell_type": "code",
   "execution_count": null,
   "id": "1eb27fb1",
   "metadata": {},
   "outputs": [],
   "source": [
    "from circuit_pruner.extraction import get_preservation_at_sparsities\n",
    "import numpy as np\n",
    "\n",
    "ranker = ranks\n",
    "\n",
    "structure='kernels'\n",
    "\n",
    "\n",
    "sparsities = np.linspace(.9999, .01, num=10)\n",
    "#in paper num is set to '70' here, but that takes times\n",
    "\n",
    "model_sparsities = []\n",
    "for sparsity in sparsities:\n",
    "    model_sparsities.append(sparsity*general_circuit_sparsity_factor) \n",
    "\n",
    "\n",
    "scores = {}\n",
    "for image in images:\n",
    "    scores[image.replace('.jpg','_circuit')] = {}\n",
    "\n",
    "for rank_image in images:\n",
    "    for data_image in images:\n",
    "        print('\\n\\n\\n')\n",
    "        print(rank_image)\n",
    "        print(data_image)\n",
    "        print('\\n\\n\\n')\n",
    "        scores[rank_image.replace('.jpg','_circuit')][data_image.replace('.jpg','_data')] = get_preservation_at_sparsities(\n",
    "            \n",
    "                                                                general_circuit,\n",
    "                                                                ranker[rank_image],\n",
    "                                                                circuit_feature_targets,\n",
    "                                                                dataloaders[data_image],\n",
    "                                                                sparsities,device,metric='all',\n",
    "                                                                rank_field = target_position,\n",
    "                                                                structure=structure)\n"
   ]
  },
  {
   "cell_type": "code",
   "execution_count": 148,
   "id": "e5105821",
   "metadata": {},
   "outputs": [],
   "source": [
    "means = {}\n",
    "\n",
    "for image in images:\n",
    "    image_root = image.replace('.jpg','')\n",
    "    means[image_root+'_data'] = scores[image_root+'_circuit'][image_root+'_data'][layer+':0']['avg_diff'][6]/scores[image_root+'_circuit'][image_root+'_data'][layer+':0']['mean_normed_diff'][6]"
   ]
  },
  {
   "cell_type": "code",
   "execution_count": 149,
   "id": "828a3b6e",
   "metadata": {},
   "outputs": [
    {
     "data": {
      "application/vnd.plotly.v1+json": {
       "config": {
        "plotlyServerURL": "https://plot.ly"
       },
       "data": [
        {
         "line": {
          "color": "#4C78A8",
          "width": 4
         },
         "name": "big circle circuit : big circle image",
         "type": "scatter",
         "x": [
          0.3998352896341464,
          0.3558534522049766,
          0.3118716147758068,
          0.26788977734663716,
          0.22390793991746738,
          0.17992610248829763,
          0.1359442650591279,
          0.09196242762995814,
          0.04798059020078839
         ],
         "y": [
          0,
          0.00011191565863555297,
          0.004813020583242178,
          0.017069565132260323,
          0.012248453684151173,
          0.013264691457152367,
          0.03686588630080223,
          0.15402765572071075,
          0.13484030961990356
         ]
        },
        {
         "line": {
          "color": "#4C78A8",
          "dash": "dot",
          "width": 4
         },
         "name": "big circle circuit : small circle image",
         "type": "scatter",
         "x": [
          0.3998352896341464,
          0.3558534522049766,
          0.3118716147758068,
          0.26788977734663716,
          0.22390793991746738,
          0.17992610248829763,
          0.1359442650591279,
          0.09196242762995814,
          0.04798059020078839
         ],
         "y": [
          0,
          0.10855690389871597,
          0.2891998589038849,
          0.2895359396934509,
          0.17346182465553284,
          0.4380550980567932,
          0.6686806082725525,
          0.9870398044586182,
          1.0358972549438477
         ]
        },
        {
         "line": {
          "color": "#F58518",
          "dash": "dot",
          "width": 4
         },
         "name": "small circle circuit : big circle image",
         "type": "scatter",
         "x": [
          0.3998352896341464,
          0.3558534522049766,
          0.3118716147758068,
          0.26788977734663716,
          0.22390793991746738,
          0.17992610248829763,
          0.1359442650591279,
          0.09196242762995814,
          0.04798059020078839
         ],
         "y": [
          0,
          0.13860614597797394,
          0.06293077766895294,
          0.06536366045475006,
          0.06692154705524445,
          0.5345658659934998,
          0.7878307104110718,
          0.9279580116271973,
          1.0113065242767334
         ]
        },
        {
         "line": {
          "color": "#F58518",
          "width": 4
         },
         "name": "small circle circuit : small circle image",
         "type": "scatter",
         "x": [
          0.3998352896341464,
          0.3558534522049766,
          0.3118716147758068,
          0.26788977734663716,
          0.22390793991746738,
          0.17992610248829763,
          0.1359442650591279,
          0.09196242762995814,
          0.04798059020078839
         ],
         "y": [
          0,
          0.00016934990708250552,
          0.0006622892688028514,
          0.021219106391072273,
          0.2754373550415039,
          0.3243190348148346,
          0.003248344175517559,
          0.18823128938674927,
          0.1687760055065155
         ]
        }
       ],
       "layout": {
        "legend": {
         "bgcolor": "rgba(255,255,255,0.3)",
         "x": 0.03,
         "xanchor": "left",
         "y": 0.95,
         "yanchor": "top"
        },
        "paper_bgcolor": "rgba(255,255,255,1)",
        "plot_bgcolor": "rgba(255,255,255,1)",
        "template": {
         "data": {
          "bar": [
           {
            "error_x": {
             "color": "#2a3f5f"
            },
            "error_y": {
             "color": "#2a3f5f"
            },
            "marker": {
             "line": {
              "color": "#E5ECF6",
              "width": 0.5
             }
            },
            "type": "bar"
           }
          ],
          "barpolar": [
           {
            "marker": {
             "line": {
              "color": "#E5ECF6",
              "width": 0.5
             }
            },
            "type": "barpolar"
           }
          ],
          "carpet": [
           {
            "aaxis": {
             "endlinecolor": "#2a3f5f",
             "gridcolor": "white",
             "linecolor": "white",
             "minorgridcolor": "white",
             "startlinecolor": "#2a3f5f"
            },
            "baxis": {
             "endlinecolor": "#2a3f5f",
             "gridcolor": "white",
             "linecolor": "white",
             "minorgridcolor": "white",
             "startlinecolor": "#2a3f5f"
            },
            "type": "carpet"
           }
          ],
          "choropleth": [
           {
            "colorbar": {
             "outlinewidth": 0,
             "ticks": ""
            },
            "type": "choropleth"
           }
          ],
          "contour": [
           {
            "colorbar": {
             "outlinewidth": 0,
             "ticks": ""
            },
            "colorscale": [
             [
              0,
              "#0d0887"
             ],
             [
              0.1111111111111111,
              "#46039f"
             ],
             [
              0.2222222222222222,
              "#7201a8"
             ],
             [
              0.3333333333333333,
              "#9c179e"
             ],
             [
              0.4444444444444444,
              "#bd3786"
             ],
             [
              0.5555555555555556,
              "#d8576b"
             ],
             [
              0.6666666666666666,
              "#ed7953"
             ],
             [
              0.7777777777777778,
              "#fb9f3a"
             ],
             [
              0.8888888888888888,
              "#fdca26"
             ],
             [
              1,
              "#f0f921"
             ]
            ],
            "type": "contour"
           }
          ],
          "contourcarpet": [
           {
            "colorbar": {
             "outlinewidth": 0,
             "ticks": ""
            },
            "type": "contourcarpet"
           }
          ],
          "heatmap": [
           {
            "colorbar": {
             "outlinewidth": 0,
             "ticks": ""
            },
            "colorscale": [
             [
              0,
              "#0d0887"
             ],
             [
              0.1111111111111111,
              "#46039f"
             ],
             [
              0.2222222222222222,
              "#7201a8"
             ],
             [
              0.3333333333333333,
              "#9c179e"
             ],
             [
              0.4444444444444444,
              "#bd3786"
             ],
             [
              0.5555555555555556,
              "#d8576b"
             ],
             [
              0.6666666666666666,
              "#ed7953"
             ],
             [
              0.7777777777777778,
              "#fb9f3a"
             ],
             [
              0.8888888888888888,
              "#fdca26"
             ],
             [
              1,
              "#f0f921"
             ]
            ],
            "type": "heatmap"
           }
          ],
          "heatmapgl": [
           {
            "colorbar": {
             "outlinewidth": 0,
             "ticks": ""
            },
            "colorscale": [
             [
              0,
              "#0d0887"
             ],
             [
              0.1111111111111111,
              "#46039f"
             ],
             [
              0.2222222222222222,
              "#7201a8"
             ],
             [
              0.3333333333333333,
              "#9c179e"
             ],
             [
              0.4444444444444444,
              "#bd3786"
             ],
             [
              0.5555555555555556,
              "#d8576b"
             ],
             [
              0.6666666666666666,
              "#ed7953"
             ],
             [
              0.7777777777777778,
              "#fb9f3a"
             ],
             [
              0.8888888888888888,
              "#fdca26"
             ],
             [
              1,
              "#f0f921"
             ]
            ],
            "type": "heatmapgl"
           }
          ],
          "histogram": [
           {
            "marker": {
             "colorbar": {
              "outlinewidth": 0,
              "ticks": ""
             }
            },
            "type": "histogram"
           }
          ],
          "histogram2d": [
           {
            "colorbar": {
             "outlinewidth": 0,
             "ticks": ""
            },
            "colorscale": [
             [
              0,
              "#0d0887"
             ],
             [
              0.1111111111111111,
              "#46039f"
             ],
             [
              0.2222222222222222,
              "#7201a8"
             ],
             [
              0.3333333333333333,
              "#9c179e"
             ],
             [
              0.4444444444444444,
              "#bd3786"
             ],
             [
              0.5555555555555556,
              "#d8576b"
             ],
             [
              0.6666666666666666,
              "#ed7953"
             ],
             [
              0.7777777777777778,
              "#fb9f3a"
             ],
             [
              0.8888888888888888,
              "#fdca26"
             ],
             [
              1,
              "#f0f921"
             ]
            ],
            "type": "histogram2d"
           }
          ],
          "histogram2dcontour": [
           {
            "colorbar": {
             "outlinewidth": 0,
             "ticks": ""
            },
            "colorscale": [
             [
              0,
              "#0d0887"
             ],
             [
              0.1111111111111111,
              "#46039f"
             ],
             [
              0.2222222222222222,
              "#7201a8"
             ],
             [
              0.3333333333333333,
              "#9c179e"
             ],
             [
              0.4444444444444444,
              "#bd3786"
             ],
             [
              0.5555555555555556,
              "#d8576b"
             ],
             [
              0.6666666666666666,
              "#ed7953"
             ],
             [
              0.7777777777777778,
              "#fb9f3a"
             ],
             [
              0.8888888888888888,
              "#fdca26"
             ],
             [
              1,
              "#f0f921"
             ]
            ],
            "type": "histogram2dcontour"
           }
          ],
          "mesh3d": [
           {
            "colorbar": {
             "outlinewidth": 0,
             "ticks": ""
            },
            "type": "mesh3d"
           }
          ],
          "parcoords": [
           {
            "line": {
             "colorbar": {
              "outlinewidth": 0,
              "ticks": ""
             }
            },
            "type": "parcoords"
           }
          ],
          "pie": [
           {
            "automargin": true,
            "type": "pie"
           }
          ],
          "scatter": [
           {
            "marker": {
             "colorbar": {
              "outlinewidth": 0,
              "ticks": ""
             }
            },
            "type": "scatter"
           }
          ],
          "scatter3d": [
           {
            "line": {
             "colorbar": {
              "outlinewidth": 0,
              "ticks": ""
             }
            },
            "marker": {
             "colorbar": {
              "outlinewidth": 0,
              "ticks": ""
             }
            },
            "type": "scatter3d"
           }
          ],
          "scattercarpet": [
           {
            "marker": {
             "colorbar": {
              "outlinewidth": 0,
              "ticks": ""
             }
            },
            "type": "scattercarpet"
           }
          ],
          "scattergeo": [
           {
            "marker": {
             "colorbar": {
              "outlinewidth": 0,
              "ticks": ""
             }
            },
            "type": "scattergeo"
           }
          ],
          "scattergl": [
           {
            "marker": {
             "colorbar": {
              "outlinewidth": 0,
              "ticks": ""
             }
            },
            "type": "scattergl"
           }
          ],
          "scattermapbox": [
           {
            "marker": {
             "colorbar": {
              "outlinewidth": 0,
              "ticks": ""
             }
            },
            "type": "scattermapbox"
           }
          ],
          "scatterpolar": [
           {
            "marker": {
             "colorbar": {
              "outlinewidth": 0,
              "ticks": ""
             }
            },
            "type": "scatterpolar"
           }
          ],
          "scatterpolargl": [
           {
            "marker": {
             "colorbar": {
              "outlinewidth": 0,
              "ticks": ""
             }
            },
            "type": "scatterpolargl"
           }
          ],
          "scatterternary": [
           {
            "marker": {
             "colorbar": {
              "outlinewidth": 0,
              "ticks": ""
             }
            },
            "type": "scatterternary"
           }
          ],
          "surface": [
           {
            "colorbar": {
             "outlinewidth": 0,
             "ticks": ""
            },
            "colorscale": [
             [
              0,
              "#0d0887"
             ],
             [
              0.1111111111111111,
              "#46039f"
             ],
             [
              0.2222222222222222,
              "#7201a8"
             ],
             [
              0.3333333333333333,
              "#9c179e"
             ],
             [
              0.4444444444444444,
              "#bd3786"
             ],
             [
              0.5555555555555556,
              "#d8576b"
             ],
             [
              0.6666666666666666,
              "#ed7953"
             ],
             [
              0.7777777777777778,
              "#fb9f3a"
             ],
             [
              0.8888888888888888,
              "#fdca26"
             ],
             [
              1,
              "#f0f921"
             ]
            ],
            "type": "surface"
           }
          ],
          "table": [
           {
            "cells": {
             "fill": {
              "color": "#EBF0F8"
             },
             "line": {
              "color": "white"
             }
            },
            "header": {
             "fill": {
              "color": "#C8D4E3"
             },
             "line": {
              "color": "white"
             }
            },
            "type": "table"
           }
          ]
         },
         "layout": {
          "annotationdefaults": {
           "arrowcolor": "#2a3f5f",
           "arrowhead": 0,
           "arrowwidth": 1
          },
          "autotypenumbers": "strict",
          "coloraxis": {
           "colorbar": {
            "outlinewidth": 0,
            "ticks": ""
           }
          },
          "colorscale": {
           "diverging": [
            [
             0,
             "#8e0152"
            ],
            [
             0.1,
             "#c51b7d"
            ],
            [
             0.2,
             "#de77ae"
            ],
            [
             0.3,
             "#f1b6da"
            ],
            [
             0.4,
             "#fde0ef"
            ],
            [
             0.5,
             "#f7f7f7"
            ],
            [
             0.6,
             "#e6f5d0"
            ],
            [
             0.7,
             "#b8e186"
            ],
            [
             0.8,
             "#7fbc41"
            ],
            [
             0.9,
             "#4d9221"
            ],
            [
             1,
             "#276419"
            ]
           ],
           "sequential": [
            [
             0,
             "#0d0887"
            ],
            [
             0.1111111111111111,
             "#46039f"
            ],
            [
             0.2222222222222222,
             "#7201a8"
            ],
            [
             0.3333333333333333,
             "#9c179e"
            ],
            [
             0.4444444444444444,
             "#bd3786"
            ],
            [
             0.5555555555555556,
             "#d8576b"
            ],
            [
             0.6666666666666666,
             "#ed7953"
            ],
            [
             0.7777777777777778,
             "#fb9f3a"
            ],
            [
             0.8888888888888888,
             "#fdca26"
            ],
            [
             1,
             "#f0f921"
            ]
           ],
           "sequentialminus": [
            [
             0,
             "#0d0887"
            ],
            [
             0.1111111111111111,
             "#46039f"
            ],
            [
             0.2222222222222222,
             "#7201a8"
            ],
            [
             0.3333333333333333,
             "#9c179e"
            ],
            [
             0.4444444444444444,
             "#bd3786"
            ],
            [
             0.5555555555555556,
             "#d8576b"
            ],
            [
             0.6666666666666666,
             "#ed7953"
            ],
            [
             0.7777777777777778,
             "#fb9f3a"
            ],
            [
             0.8888888888888888,
             "#fdca26"
            ],
            [
             1,
             "#f0f921"
            ]
           ]
          },
          "colorway": [
           "#636efa",
           "#EF553B",
           "#00cc96",
           "#ab63fa",
           "#FFA15A",
           "#19d3f3",
           "#FF6692",
           "#B6E880",
           "#FF97FF",
           "#FECB52"
          ],
          "font": {
           "color": "#2a3f5f"
          },
          "geo": {
           "bgcolor": "white",
           "lakecolor": "white",
           "landcolor": "#E5ECF6",
           "showlakes": true,
           "showland": true,
           "subunitcolor": "white"
          },
          "hoverlabel": {
           "align": "left"
          },
          "hovermode": "closest",
          "mapbox": {
           "style": "light"
          },
          "paper_bgcolor": "white",
          "plot_bgcolor": "#E5ECF6",
          "polar": {
           "angularaxis": {
            "gridcolor": "white",
            "linecolor": "white",
            "ticks": ""
           },
           "bgcolor": "#E5ECF6",
           "radialaxis": {
            "gridcolor": "white",
            "linecolor": "white",
            "ticks": ""
           }
          },
          "scene": {
           "xaxis": {
            "backgroundcolor": "#E5ECF6",
            "gridcolor": "white",
            "gridwidth": 2,
            "linecolor": "white",
            "showbackground": true,
            "ticks": "",
            "zerolinecolor": "white"
           },
           "yaxis": {
            "backgroundcolor": "#E5ECF6",
            "gridcolor": "white",
            "gridwidth": 2,
            "linecolor": "white",
            "showbackground": true,
            "ticks": "",
            "zerolinecolor": "white"
           },
           "zaxis": {
            "backgroundcolor": "#E5ECF6",
            "gridcolor": "white",
            "gridwidth": 2,
            "linecolor": "white",
            "showbackground": true,
            "ticks": "",
            "zerolinecolor": "white"
           }
          },
          "shapedefaults": {
           "line": {
            "color": "#2a3f5f"
           }
          },
          "ternary": {
           "aaxis": {
            "gridcolor": "white",
            "linecolor": "white",
            "ticks": ""
           },
           "baxis": {
            "gridcolor": "white",
            "linecolor": "white",
            "ticks": ""
           },
           "bgcolor": "#E5ECF6",
           "caxis": {
            "gridcolor": "white",
            "linecolor": "white",
            "ticks": ""
           }
          },
          "title": {
           "x": 0.05
          },
          "xaxis": {
           "automargin": true,
           "gridcolor": "white",
           "linecolor": "white",
           "ticks": "",
           "title": {
            "standoff": 15
           },
           "zerolinecolor": "white",
           "zerolinewidth": 2
          },
          "yaxis": {
           "automargin": true,
           "gridcolor": "white",
           "linecolor": "white",
           "ticks": "",
           "title": {
            "standoff": 15
           },
           "zerolinecolor": "white",
           "zerolinewidth": 2
          }
         }
        },
        "width": 720,
        "xaxis": {
         "autorange": "reversed",
         "gridcolor": "rgb(210,210,210)",
         "gridwidth": 1,
         "tickmode": "array",
         "tickvals": [
          0.5,
          0.4,
          0.3,
          0.2,
          0.1
         ],
         "title": {
          "text": "sparsity"
         }
        },
        "yaxis": {
         "gridcolor": "rgb(210,210,210)",
         "gridwidth": 1,
         "title": {
          "text": "${\\Delta\\mathcal{F}_{norm}}$"
         }
        }
       }
      },
      "text/html": [
       "<div>                            <div id=\"945d57a0-74af-443e-802b-a94be81b0b35\" class=\"plotly-graph-div\" style=\"height:525px; width:720px;\"></div>            <script type=\"text/javascript\">                require([\"plotly\"], function(Plotly) {                    window.PLOTLYENV=window.PLOTLYENV || {};                                    if (document.getElementById(\"945d57a0-74af-443e-802b-a94be81b0b35\")) {                    Plotly.newPlot(                        \"945d57a0-74af-443e-802b-a94be81b0b35\",                        [{\"line\": {\"color\": \"#4C78A8\", \"width\": 4}, \"name\": \"big circle circuit : big circle image\", \"type\": \"scatter\", \"x\": [0.3998352896341464, 0.3558534522049766, 0.3118716147758068, 0.26788977734663716, 0.22390793991746738, 0.17992610248829763, 0.1359442650591279, 0.09196242762995814, 0.04798059020078839], \"y\": [0.0, 0.00011191565863555297, 0.004813020583242178, 0.017069565132260323, 0.012248453684151173, 0.013264691457152367, 0.03686588630080223, 0.15402765572071075, 0.13484030961990356]}, {\"line\": {\"color\": \"#4C78A8\", \"dash\": \"dot\", \"width\": 4}, \"name\": \"big circle circuit : small circle image\", \"type\": \"scatter\", \"x\": [0.3998352896341464, 0.3558534522049766, 0.3118716147758068, 0.26788977734663716, 0.22390793991746738, 0.17992610248829763, 0.1359442650591279, 0.09196242762995814, 0.04798059020078839], \"y\": [0.0, 0.10855690389871597, 0.2891998589038849, 0.2895359396934509, 0.17346182465553284, 0.4380550980567932, 0.6686806082725525, 0.9870398044586182, 1.0358972549438477]}, {\"line\": {\"color\": \"#F58518\", \"dash\": \"dot\", \"width\": 4}, \"name\": \"small circle circuit : big circle image\", \"type\": \"scatter\", \"x\": [0.3998352896341464, 0.3558534522049766, 0.3118716147758068, 0.26788977734663716, 0.22390793991746738, 0.17992610248829763, 0.1359442650591279, 0.09196242762995814, 0.04798059020078839], \"y\": [0.0, 0.13860614597797394, 0.06293077766895294, 0.06536366045475006, 0.06692154705524445, 0.5345658659934998, 0.7878307104110718, 0.9279580116271973, 1.0113065242767334]}, {\"line\": {\"color\": \"#F58518\", \"width\": 4}, \"name\": \"small circle circuit : small circle image\", \"type\": \"scatter\", \"x\": [0.3998352896341464, 0.3558534522049766, 0.3118716147758068, 0.26788977734663716, 0.22390793991746738, 0.17992610248829763, 0.1359442650591279, 0.09196242762995814, 0.04798059020078839], \"y\": [0.0, 0.00016934990708250552, 0.0006622892688028514, 0.021219106391072273, 0.2754373550415039, 0.3243190348148346, 0.003248344175517559, 0.18823128938674927, 0.1687760055065155]}],                        {\"legend\": {\"bgcolor\": \"rgba(255,255,255,0.3)\", \"x\": 0.03, \"xanchor\": \"left\", \"y\": 0.95, \"yanchor\": \"top\"}, \"paper_bgcolor\": \"rgba(255,255,255,1)\", \"plot_bgcolor\": \"rgba(255,255,255,1)\", \"template\": {\"data\": {\"bar\": [{\"error_x\": {\"color\": \"#2a3f5f\"}, \"error_y\": {\"color\": \"#2a3f5f\"}, \"marker\": {\"line\": {\"color\": \"#E5ECF6\", \"width\": 0.5}}, \"type\": \"bar\"}], \"barpolar\": [{\"marker\": {\"line\": {\"color\": \"#E5ECF6\", \"width\": 0.5}}, \"type\": \"barpolar\"}], \"carpet\": [{\"aaxis\": {\"endlinecolor\": \"#2a3f5f\", \"gridcolor\": \"white\", \"linecolor\": \"white\", \"minorgridcolor\": \"white\", \"startlinecolor\": \"#2a3f5f\"}, \"baxis\": {\"endlinecolor\": \"#2a3f5f\", \"gridcolor\": \"white\", \"linecolor\": \"white\", \"minorgridcolor\": \"white\", \"startlinecolor\": \"#2a3f5f\"}, \"type\": \"carpet\"}], \"choropleth\": [{\"colorbar\": {\"outlinewidth\": 0, \"ticks\": \"\"}, \"type\": \"choropleth\"}], \"contour\": [{\"colorbar\": {\"outlinewidth\": 0, \"ticks\": \"\"}, \"colorscale\": [[0.0, \"#0d0887\"], [0.1111111111111111, \"#46039f\"], [0.2222222222222222, \"#7201a8\"], [0.3333333333333333, \"#9c179e\"], [0.4444444444444444, \"#bd3786\"], [0.5555555555555556, \"#d8576b\"], [0.6666666666666666, \"#ed7953\"], [0.7777777777777778, \"#fb9f3a\"], [0.8888888888888888, \"#fdca26\"], [1.0, \"#f0f921\"]], \"type\": \"contour\"}], \"contourcarpet\": [{\"colorbar\": {\"outlinewidth\": 0, \"ticks\": \"\"}, \"type\": \"contourcarpet\"}], \"heatmap\": [{\"colorbar\": {\"outlinewidth\": 0, \"ticks\": \"\"}, \"colorscale\": [[0.0, \"#0d0887\"], [0.1111111111111111, \"#46039f\"], [0.2222222222222222, \"#7201a8\"], [0.3333333333333333, \"#9c179e\"], [0.4444444444444444, \"#bd3786\"], [0.5555555555555556, \"#d8576b\"], [0.6666666666666666, \"#ed7953\"], [0.7777777777777778, \"#fb9f3a\"], [0.8888888888888888, \"#fdca26\"], [1.0, \"#f0f921\"]], \"type\": \"heatmap\"}], \"heatmapgl\": [{\"colorbar\": {\"outlinewidth\": 0, \"ticks\": \"\"}, \"colorscale\": [[0.0, \"#0d0887\"], [0.1111111111111111, \"#46039f\"], [0.2222222222222222, \"#7201a8\"], [0.3333333333333333, \"#9c179e\"], [0.4444444444444444, \"#bd3786\"], [0.5555555555555556, \"#d8576b\"], [0.6666666666666666, \"#ed7953\"], [0.7777777777777778, \"#fb9f3a\"], [0.8888888888888888, \"#fdca26\"], [1.0, \"#f0f921\"]], \"type\": \"heatmapgl\"}], \"histogram\": [{\"marker\": {\"colorbar\": {\"outlinewidth\": 0, \"ticks\": \"\"}}, \"type\": \"histogram\"}], \"histogram2d\": [{\"colorbar\": {\"outlinewidth\": 0, \"ticks\": \"\"}, \"colorscale\": [[0.0, \"#0d0887\"], [0.1111111111111111, \"#46039f\"], [0.2222222222222222, \"#7201a8\"], [0.3333333333333333, \"#9c179e\"], [0.4444444444444444, \"#bd3786\"], [0.5555555555555556, \"#d8576b\"], [0.6666666666666666, \"#ed7953\"], [0.7777777777777778, \"#fb9f3a\"], [0.8888888888888888, \"#fdca26\"], [1.0, \"#f0f921\"]], \"type\": \"histogram2d\"}], \"histogram2dcontour\": [{\"colorbar\": {\"outlinewidth\": 0, \"ticks\": \"\"}, \"colorscale\": [[0.0, \"#0d0887\"], [0.1111111111111111, \"#46039f\"], [0.2222222222222222, \"#7201a8\"], [0.3333333333333333, \"#9c179e\"], [0.4444444444444444, \"#bd3786\"], [0.5555555555555556, \"#d8576b\"], [0.6666666666666666, \"#ed7953\"], [0.7777777777777778, \"#fb9f3a\"], [0.8888888888888888, \"#fdca26\"], [1.0, \"#f0f921\"]], \"type\": \"histogram2dcontour\"}], \"mesh3d\": [{\"colorbar\": {\"outlinewidth\": 0, \"ticks\": \"\"}, \"type\": \"mesh3d\"}], \"parcoords\": [{\"line\": {\"colorbar\": {\"outlinewidth\": 0, \"ticks\": \"\"}}, \"type\": \"parcoords\"}], \"pie\": [{\"automargin\": true, \"type\": \"pie\"}], \"scatter\": [{\"marker\": {\"colorbar\": {\"outlinewidth\": 0, \"ticks\": \"\"}}, \"type\": \"scatter\"}], \"scatter3d\": [{\"line\": {\"colorbar\": {\"outlinewidth\": 0, \"ticks\": \"\"}}, \"marker\": {\"colorbar\": {\"outlinewidth\": 0, \"ticks\": \"\"}}, \"type\": \"scatter3d\"}], \"scattercarpet\": [{\"marker\": {\"colorbar\": {\"outlinewidth\": 0, \"ticks\": \"\"}}, \"type\": \"scattercarpet\"}], \"scattergeo\": [{\"marker\": {\"colorbar\": {\"outlinewidth\": 0, \"ticks\": \"\"}}, \"type\": \"scattergeo\"}], \"scattergl\": [{\"marker\": {\"colorbar\": {\"outlinewidth\": 0, \"ticks\": \"\"}}, \"type\": \"scattergl\"}], \"scattermapbox\": [{\"marker\": {\"colorbar\": {\"outlinewidth\": 0, \"ticks\": \"\"}}, \"type\": \"scattermapbox\"}], \"scatterpolar\": [{\"marker\": {\"colorbar\": {\"outlinewidth\": 0, \"ticks\": \"\"}}, \"type\": \"scatterpolar\"}], \"scatterpolargl\": [{\"marker\": {\"colorbar\": {\"outlinewidth\": 0, \"ticks\": \"\"}}, \"type\": \"scatterpolargl\"}], \"scatterternary\": [{\"marker\": {\"colorbar\": {\"outlinewidth\": 0, \"ticks\": \"\"}}, \"type\": \"scatterternary\"}], \"surface\": [{\"colorbar\": {\"outlinewidth\": 0, \"ticks\": \"\"}, \"colorscale\": [[0.0, \"#0d0887\"], [0.1111111111111111, \"#46039f\"], [0.2222222222222222, \"#7201a8\"], [0.3333333333333333, \"#9c179e\"], [0.4444444444444444, \"#bd3786\"], [0.5555555555555556, \"#d8576b\"], [0.6666666666666666, \"#ed7953\"], [0.7777777777777778, \"#fb9f3a\"], [0.8888888888888888, \"#fdca26\"], [1.0, \"#f0f921\"]], \"type\": \"surface\"}], \"table\": [{\"cells\": {\"fill\": {\"color\": \"#EBF0F8\"}, \"line\": {\"color\": \"white\"}}, \"header\": {\"fill\": {\"color\": \"#C8D4E3\"}, \"line\": {\"color\": \"white\"}}, \"type\": \"table\"}]}, \"layout\": {\"annotationdefaults\": {\"arrowcolor\": \"#2a3f5f\", \"arrowhead\": 0, \"arrowwidth\": 1}, \"autotypenumbers\": \"strict\", \"coloraxis\": {\"colorbar\": {\"outlinewidth\": 0, \"ticks\": \"\"}}, \"colorscale\": {\"diverging\": [[0, \"#8e0152\"], [0.1, \"#c51b7d\"], [0.2, \"#de77ae\"], [0.3, \"#f1b6da\"], [0.4, \"#fde0ef\"], [0.5, \"#f7f7f7\"], [0.6, \"#e6f5d0\"], [0.7, \"#b8e186\"], [0.8, \"#7fbc41\"], [0.9, \"#4d9221\"], [1, \"#276419\"]], \"sequential\": [[0.0, \"#0d0887\"], [0.1111111111111111, \"#46039f\"], [0.2222222222222222, \"#7201a8\"], [0.3333333333333333, \"#9c179e\"], [0.4444444444444444, \"#bd3786\"], [0.5555555555555556, \"#d8576b\"], [0.6666666666666666, \"#ed7953\"], [0.7777777777777778, \"#fb9f3a\"], [0.8888888888888888, \"#fdca26\"], [1.0, \"#f0f921\"]], \"sequentialminus\": [[0.0, \"#0d0887\"], [0.1111111111111111, \"#46039f\"], [0.2222222222222222, \"#7201a8\"], [0.3333333333333333, \"#9c179e\"], [0.4444444444444444, \"#bd3786\"], [0.5555555555555556, \"#d8576b\"], [0.6666666666666666, \"#ed7953\"], [0.7777777777777778, \"#fb9f3a\"], [0.8888888888888888, \"#fdca26\"], [1.0, \"#f0f921\"]]}, \"colorway\": [\"#636efa\", \"#EF553B\", \"#00cc96\", \"#ab63fa\", \"#FFA15A\", \"#19d3f3\", \"#FF6692\", \"#B6E880\", \"#FF97FF\", \"#FECB52\"], \"font\": {\"color\": \"#2a3f5f\"}, \"geo\": {\"bgcolor\": \"white\", \"lakecolor\": \"white\", \"landcolor\": \"#E5ECF6\", \"showlakes\": true, \"showland\": true, \"subunitcolor\": \"white\"}, \"hoverlabel\": {\"align\": \"left\"}, \"hovermode\": \"closest\", \"mapbox\": {\"style\": \"light\"}, \"paper_bgcolor\": \"white\", \"plot_bgcolor\": \"#E5ECF6\", \"polar\": {\"angularaxis\": {\"gridcolor\": \"white\", \"linecolor\": \"white\", \"ticks\": \"\"}, \"bgcolor\": \"#E5ECF6\", \"radialaxis\": {\"gridcolor\": \"white\", \"linecolor\": \"white\", \"ticks\": \"\"}}, \"scene\": {\"xaxis\": {\"backgroundcolor\": \"#E5ECF6\", \"gridcolor\": \"white\", \"gridwidth\": 2, \"linecolor\": \"white\", \"showbackground\": true, \"ticks\": \"\", \"zerolinecolor\": \"white\"}, \"yaxis\": {\"backgroundcolor\": \"#E5ECF6\", \"gridcolor\": \"white\", \"gridwidth\": 2, \"linecolor\": \"white\", \"showbackground\": true, \"ticks\": \"\", \"zerolinecolor\": \"white\"}, \"zaxis\": {\"backgroundcolor\": \"#E5ECF6\", \"gridcolor\": \"white\", \"gridwidth\": 2, \"linecolor\": \"white\", \"showbackground\": true, \"ticks\": \"\", \"zerolinecolor\": \"white\"}}, \"shapedefaults\": {\"line\": {\"color\": \"#2a3f5f\"}}, \"ternary\": {\"aaxis\": {\"gridcolor\": \"white\", \"linecolor\": \"white\", \"ticks\": \"\"}, \"baxis\": {\"gridcolor\": \"white\", \"linecolor\": \"white\", \"ticks\": \"\"}, \"bgcolor\": \"#E5ECF6\", \"caxis\": {\"gridcolor\": \"white\", \"linecolor\": \"white\", \"ticks\": \"\"}}, \"title\": {\"x\": 0.05}, \"xaxis\": {\"automargin\": true, \"gridcolor\": \"white\", \"linecolor\": \"white\", \"ticks\": \"\", \"title\": {\"standoff\": 15}, \"zerolinecolor\": \"white\", \"zerolinewidth\": 2}, \"yaxis\": {\"automargin\": true, \"gridcolor\": \"white\", \"linecolor\": \"white\", \"ticks\": \"\", \"title\": {\"standoff\": 15}, \"zerolinecolor\": \"white\", \"zerolinewidth\": 2}}}, \"width\": 720, \"xaxis\": {\"autorange\": \"reversed\", \"gridcolor\": \"rgb(210,210,210)\", \"gridwidth\": 1, \"tickmode\": \"array\", \"tickvals\": [0.5, 0.4, 0.3, 0.2, 0.1], \"title\": {\"text\": \"sparsity\"}}, \"yaxis\": {\"gridcolor\": \"rgb(210,210,210)\", \"gridwidth\": 1, \"title\": {\"text\": \"${\\\\Delta\\\\mathcal{F}_{norm}}$\"}}},                        {\"responsive\": true}                    ).then(function(){\n",
       "                            \n",
       "var gd = document.getElementById('945d57a0-74af-443e-802b-a94be81b0b35');\n",
       "var x = new MutationObserver(function (mutations, observer) {{\n",
       "        var display = window.getComputedStyle(gd).display;\n",
       "        if (!display || display === 'none') {{\n",
       "            console.log([gd, 'removed!']);\n",
       "            Plotly.purge(gd);\n",
       "            observer.disconnect();\n",
       "        }}\n",
       "}});\n",
       "\n",
       "// Listen for the removal of the full notebook cells\n",
       "var notebookContainer = gd.closest('#notebook-container');\n",
       "if (notebookContainer) {{\n",
       "    x.observe(notebookContainer, {childList: true});\n",
       "}}\n",
       "\n",
       "// Listen for the clearing of the current output cell\n",
       "var outputEl = gd.closest('.output');\n",
       "if (outputEl) {{\n",
       "    x.observe(outputEl, {childList: true});\n",
       "}}\n",
       "\n",
       "                        })                };                });            </script>        </div>"
      ]
     },
     "metadata": {},
     "output_type": "display_data"
    }
   ],
   "source": [
    "import plotly.graph_objects as go\n",
    "import plotly.express as px\n",
    "\n",
    "\n",
    "x_axis = model_sparsities\n",
    "\n",
    "metric = 'avg_abs_diff'\n",
    "mean_norm = True\n",
    "\n",
    "\n",
    "color_dict = {\n",
    "               'empty_circle_circuit':px.colors.qualitative.T10[0],\n",
    "               'small_circle_circuit':px.colors.qualitative.T10[1],\n",
    "             }\n",
    "\n",
    "\n",
    "\n",
    "\n",
    "fig = go.Figure()\n",
    "\n",
    "for circuit in scores:\n",
    "    for data in scores[circuit]:\n",
    "        # Create and style traces\n",
    "        if data.replace('_data','') == circuit.replace('_circuit',''):\n",
    "            linetype = None\n",
    "        else:\n",
    "            linetype = 'dot'\n",
    "            \n",
    "        name = (circuit+' : '+data).replace('_',' ').replace('empty','big').replace('data','image')\n",
    "        y = np.array(scores[circuit][data]['%s:%s'%(layer,0)][metric])\n",
    "        if mean_norm:\n",
    "            y = y/means[data]\n",
    "        x = x_axis[0:len(scores[circuit][data]['%s:%s'%(layer,0)][metric])]\n",
    "        fig.add_trace(go.Scatter(x=x, y=y, name=name,\n",
    "                         line=dict(color=color_dict[circuit], width=4,dash=linetype)))\n",
    "\n",
    "# Edit the layout\n",
    "fig.update_layout( width = 720,\n",
    "                   plot_bgcolor = 'rgba(255,255,255,1)',\n",
    "                   paper_bgcolor = 'rgba(255,255,255,1)',\n",
    "                   xaxis_title='sparsity',\n",
    "                   yaxis_title=r'${\\Delta\\mathcal{F}_{norm}}$',\n",
    "                  legend=dict(\n",
    "                                yanchor=\"top\",\n",
    "                                y=0.95,\n",
    "                                xanchor=\"left\",\n",
    "                                x=0.03,\n",
    "                                bgcolor='rgba(255,255,255,0.3)'\n",
    "                              )\n",
    "                 )\n",
    "fig.update_xaxes(autorange=\"reversed\",gridcolor='rgb(210,210,210)',gridwidth=1)\n",
    "fig.update_yaxes(gridcolor='rgb(210,210,210)',gridwidth=1)\n",
    "\n",
    "fig.update_layout(\n",
    "    xaxis = dict(\n",
    "        tickmode = 'array',\n",
    "        tickvals = [.5, .4, .3, .2, .1]\n",
    "    )\n",
    ")\n",
    "\n",
    "\n",
    "\n",
    "fig.show()"
   ]
  },
  {
   "cell_type": "markdown",
   "id": "6681f791",
   "metadata": {},
   "source": [
    "#### Extract circuits at preserving sparsity"
   ]
  },
  {
   "cell_type": "code",
   "execution_count": 142,
   "id": "82a73180",
   "metadata": {},
   "outputs": [
    {
     "name": "stdout",
     "output_type": "stream",
     "text": [
      "features_8 effective last layer\n",
      "target sparsity: 0.068\n",
      "total params to feature: 62660\n",
      "\n",
      "we found 28034 params that were already zero'd out, your model is already a pruned circuit right? . . . \t\t\t   just making sure, we are subtracting these params from the total.\n",
      "\n",
      "new total params: 34626    (after subtracting previously masked params)\n",
      "kept params in original mask: 2355      (total params * sparsity)\n",
      "original mask: 34491 params\n",
      "effective mask: 22583 params\n",
      "effective_sparsity: 0.04433084965055161\n",
      "features_8 effective last layer\n",
      "target sparsity: 0.096\n",
      "total params to feature: 62660\n",
      "\n",
      "we found 28034 params that were already zero'd out, your model is already a pruned circuit right? . . . \t\t\t   just making sure, we are subtracting these params from the total.\n",
      "\n",
      "new total params: 34626    (after subtracting previously masked params)\n",
      "kept params in original mask: 3325      (total params * sparsity)\n",
      "original mask: 48789 params\n",
      "effective mask: 33416 params\n",
      "effective_sparsity: 0.06030150753768844\n"
     ]
    }
   ],
   "source": [
    "# extraction at last good sparsity\n",
    "\n",
    "from circuit_pruner.extraction import model_ranks_2_circuit_model\n",
    "\n",
    "ranker = ranks\n",
    "\n",
    "#sparsities are with respect to the general circuit, not the original model\n",
    "# target_sparsities = {'empty_circle.jpg':0.06738551,\n",
    "#                     'small_circle.jpg':0.09607826} \n",
    "target_sparsities = {'empty_circle.jpg':0.068,\n",
    "                     'small_circle.jpg':0.096} \n",
    "\n",
    "\n",
    "sparse_circuits = {}\n",
    "sparse_masks = {}\n",
    "\n",
    "for image in images:\n",
    "    sparse_circuit,sparse_mask = model_ranks_2_circuit_model(ranker[image],target_sparsities[image],\n",
    "                                                           general_circuit,circuit_feature_targets,device,\n",
    "                                                           structure='kernels',use_effective_mask=True,\n",
    "                                                           rank_field=target_position)\n",
    "    sparse_circuits[image] = sparse_circuit.to(device)\n",
    "    sparse_masks[image] = sparse_mask\n"
   ]
  },
  {
   "cell_type": "code",
   "execution_count": 141,
   "id": "fb8aaddb",
   "metadata": {},
   "outputs": [
    {
     "data": {
      "text/plain": [
       "{'empty_circle.jpg': Sequential(\n",
       "   (features_0): Conv2d(3, 27, kernel_size=(11, 11), stride=(4, 4), padding=(2, 2))\n",
       "   (features_1): ReLU(inplace=True)\n",
       "   (features_2): MaxPool2d(kernel_size=3, stride=2, padding=0, dilation=1, ceil_mode=False)\n",
       "   (features_3): Conv2d(27, 82, kernel_size=(5, 5), stride=(1, 1), padding=(2, 2))\n",
       "   (features_4): ReLU(inplace=True)\n",
       "   (features_5): MaxPool2d(kernel_size=3, stride=2, padding=0, dilation=1, ceil_mode=False)\n",
       "   (features_6): Conv2d(82, 103, kernel_size=(3, 3), stride=(1, 1), padding=(1, 1))\n",
       "   (features_7): ReLU(inplace=True)\n",
       "   (features_8): Conv2d(103, 1, kernel_size=(3, 3), stride=(1, 1), padding=(1, 1))\n",
       " ),\n",
       " 'small_circle.jpg': Sequential(\n",
       "   (features_0): Conv2d(3, 39, kernel_size=(11, 11), stride=(4, 4), padding=(2, 2))\n",
       "   (features_1): ReLU(inplace=True)\n",
       "   (features_2): MaxPool2d(kernel_size=3, stride=2, padding=0, dilation=1, ceil_mode=False)\n",
       "   (features_3): Conv2d(39, 90, kernel_size=(5, 5), stride=(1, 1), padding=(2, 2))\n",
       "   (features_4): ReLU(inplace=True)\n",
       "   (features_5): MaxPool2d(kernel_size=3, stride=2, padding=0, dilation=1, ceil_mode=False)\n",
       "   (features_6): Conv2d(90, 109, kernel_size=(3, 3), stride=(1, 1), padding=(1, 1))\n",
       "   (features_7): ReLU(inplace=True)\n",
       "   (features_8): Conv2d(109, 1, kernel_size=(3, 3), stride=(1, 1), padding=(1, 1))\n",
       " )}"
      ]
     },
     "execution_count": 141,
     "metadata": {},
     "output_type": "execute_result"
    }
   ],
   "source": [
    "sparse_circuits"
   ]
  },
  {
   "cell_type": "code",
   "execution_count": 138,
   "id": "462799e6",
   "metadata": {},
   "outputs": [],
   "source": [
    "from circuit_pruner.visualizer.featureviz  import featviz_in_recep_field"
   ]
  },
  {
   "cell_type": "code",
   "execution_count": 139,
   "id": "19a06931",
   "metadata": {},
   "outputs": [
    {
     "name": "stderr",
     "output_type": "stream",
     "text": [
      "  1%|          | 5/512 [00:00<00:10, 49.74it/s]"
     ]
    },
    {
     "name": "stdout",
     "output_type": "stream",
     "text": [
      "------------------------------------------------------------------------------\n",
      "        Layer (type)    map size      start       jump receptive_field \n",
      "==============================================================================\n",
      "        0             [224, 224]        0.5        1.0             1.0 \n",
      "        1               [55, 55]        3.5        4.0            11.0 \n",
      "        2               [55, 55]        3.5        4.0            11.0 \n",
      "        3               [27, 27]        7.5        8.0            19.0 \n",
      "        4               [27, 27]        7.5        8.0            51.0 \n",
      "        5               [27, 27]        7.5        8.0            51.0 \n",
      "        6               [13, 13]       15.5       16.0            67.0 \n",
      "        7               [13, 13]       15.5       16.0            99.0 \n",
      "        8               [13, 13]       15.5       16.0            99.0 \n",
      "        9               [13, 13]       15.5       16.0           131.0 \n",
      "==============================================================================\n"
     ]
    },
    {
     "name": "stderr",
     "output_type": "stream",
     "text": [
      "100%|██████████| 512/512 [00:09<00:00, 51.51it/s]\n"
     ]
    },
    {
     "data": {
      "text/html": [
       "<div style=\"display: flex; flex-direction: row;\"><div style=\"margin-right:10px; margin-top: 4px;\">\n",
       "                            0 <br/>\n",
       "                            <img src=\"data:image/PNG;base64,iVBORw0KGgoAAAANSUhEUgAAAOAAAADgCAIAAACVT/22AADNkUlEQVR4nIz9d9g1yXUfBp5zqqq7b3jjF+cLA8wMwmCQQQQCFLMkJpmUVpJXYSVTWmlFSrK0a3stS6Qfcf3oWa3Wu9ZjK3h3lSzauzJFMViyKQZRJEWAJEiQyCAwgxlM/vL3phu6u6rO2T8qdPW97wf6YvB+93Z35V/9TqhT1fjX//r/BQAAAQBA8p/hM/6J6Q/mP8WTMn46/cSUS/F8kfy8Us8peiPVkCtIejZlj5jrGf4IAEh4WiTnhemfUTNGTc0PhNKGMjdbWtzG8on8WKp1UbWhiiH/ojnjf+URXQGbQzA09Kv059bt854tbp5Xelnyo/Iaijt32ONPGbVXNovSZZ8Xif5Xfsru32qHjL+MxmT8xKN6U2TUGhwlfSSu8VFPDCDeQPJX++AA8XEfSi4tDAGWhcNmq9OUTte25/aQSgDwPFTEoR4maPG1rBV+lSmf4VIMXSxsdP2R87BszVCRR/HauUga6jC6HRpUNAQRQWORKhf1O2IUQyEDaZT9OWaaTV7ZbsR2xXPKzV4YJ5TQGNyERp71A4bOmR4DcW6y3OibbE3qsoKPrvsI/MUt3Ph9Xq6b6AxVlTJp2aY8ZI/guli/R4kkOE9AwPj5zZS43eBNhArgtmxKbTi/nhGD5XzRuZZYjmeB0Tw/ip4prgzMUtRRypwABqSdC9Rz8LHxW0oWG41EqiMWaWSQcTgMwOY8x/HP82qwXdvcJdtya6suI1A+Qo0YZbxNbsM1TGObMiwUipFYLxuIgMP8GubZJrUXrdgShY+CfMFPKTmOZQum1EPvnK8UnFMPGeafHt8SeQS6N+kGN+qXJigW1YMoPs5lv9GlKMm3Rj39WxSzAc2NfDaIc0MghkEeBmxDSG63XEaoGC6fDzccDdcjyP8RH8x1Gz1dKgLljThOhWhHAClEe/wzEtTpB2506QZxlnL8EVIuq+/nfPJ0KSstsKksf7VPqp8AoB5NqNE8jm2RQLclo57L/AGX25pIAbTzMJXKltE/Q1WLZBl7pQgABAGJQjHRBSbDBseDUdYBR1++imiUMSeeO4Ui2MfgKsvM9uBWYyCiuZg7+CgRmGuK4eGxPH4UzrZ0lA0K3ZoVRZdvdP/vhE4op9o40bnC89yPFA9KYtAtzEMhwQv2HjIZns39vIHHXN+R+EjpC+HxO5jR4wQjoTPQugRGzAUBjlWggmkeUUJZPynaN2pB4UIo051D90WyLO1KChiDKw5s6OiSNhFEtupVCM9R+2Sjj0fNKrScYk5iKWcESvuj7LHz8HHOZyhyo4VZF3kUU8HWvfBdbzy8nRqTQ2l8PXQ3bl5JzR/T4CjNWN7kzkoIKHpOpEhzTq8V6ZK8TuhA3ML9aOYV2BnXeKQebPXB9q1RhliMTOqODbhI+SPdKpwVA0Yl3tpG3DjZ2DaS0qjLrXyUqrBds9E/oXBEAESRceKyMueD9hFQ3lJrx4Q8Jr2xDppujXNO3TekxBKaW2pBlIkbcuT8ym3LyywTBuX+XGhiMdYYgZ0Rst3gkGV8PtdBJI1dYqTx5CpQE/7Bc8cFYZwQU6+kyfhIcZhFkxQMf47AgjEgBvRsssZG925PpdR9qcAhAQ6Dex7LfTUdUjaeOIchs8Nlu2kC296+PIjbAC0qN2L7TWBstG1AVro1fnKzydsEVZLYmDDHMr3UGNLNDZ7IaCkqXdYhtW+o97nEWDyV728NXcGtADLQWURA+pMxPoKRlI1I1TxnfAs+G//eqmzKUGSjV4evAoCy1Y7zAL8pC8+vV3pYtq9tPvcol93YYs0XJRlJ25UodIZzs9vMC0Jnb41yQVaycT3zzlY/5vLPHS3c/DkMfYHIsV6Yq11kWDZiS/HfJMvtYR79lBJdj/CCDeZFsulGc02KL2P0bKITIMqXR40PjIR6ROqIgTfEedIVELGk8kchY0s8JrTE5pVPblcz/3xE3rlwRJBoJG3URDYvJh2p6MTNqZYH+BxRsDlvismC40aWaba7fxN0xYANSqJsgu28kQner4JmHtEaGafM9iWOq5Nzji7YkvJzY4MWgRvu9JE8OEeyDnUaSbOxIB7AVLR6A0RDeZut2qx+WeZGyvHXR0AtDc4WTraRipu/YqVjbUoRPzRnDOP47dzJVMiuYdptPnAOAz4is5ygTDRCwfirIIBEZA6YHCZV+U9h5RbyFaBQQ4uM5FwxK5DL26iOjP5XVKWsMMI5CCi6ouTSuPx4LlrTsCSMDqlx9BTmVo5L/aoLTo8aF0kpH3V3K2HBppupzsEanCux5VE66PB9GG4pVedBmRld2Zy05ZrdOSJ8szabFTzHpzOW4yVBjSfjeBwK2pAg8kbEBXl8RTac8JEQcfCR5DYmAMi4uI06l6QoCXijJ7Y6DTce2H4odn9pjZ77fHxs+L5JaiNejlUsQ3jSxXOguTWCj6bR8yfbZgZFO4pbOj/61Wgt4W8sH4o5upEyuSQeOVGHUkfhIBlauOXyh5HyMFKrNqE/klZpvX40MoKFQVU68/NjOEa1lOvgxQgOylzms5LKpOicBKfNcTxPBhetyislpSCPpQVNdHNhaCQhyila1HdUg/HVjRHJpZV1GzIty8ViGn/1DMa1Cu3Y6In0iM6CDgA21iUFBM8hlM0fW1rc2DT9nT9pfmFWrTI3QsDiWKnLQ1cGqUnxRwIyJPB+uD3gMfj1QkbnBIyMcho1qtQmAEbjOigbo5ZtUr1kwKU8U9oo8GQzaUyZu2ic9/ldX45oGZiwnfcGr41lwobDoShjO6dSjm3cP485x5w2iKDMOwM96Y0ql2m3jfJtv/A26W4Ina0lj62kg8mbpt8GJY7c2BvjktA5CPCYZntcQidi/JxT0LYo2+iI0QI7DmXm34jZYYLDrVFls9ooqauk+FmWW5ImBqqQzKZl/aTs9JKpSk/XRj3Oq97GSI0d/lvfRkmCNMGtObqhz2Tn1iNktRQPBl0I9Xa5I7BK5KhHWLvnXNpg8eFH6NuCVIZcHlH8mCKSLXM+o6dZuG1HR9bEhE4oAAClUjj2DUoWKHlhf7NC4yYX1SuJJbO8jPAEm4VtSP/8CI6HeYMbsKhAlhqJpEb1HPfxyG4qsn0Um2ziFc99fEs9KCu8PS7jJ1HK+ym6QsM5o1ySS/FLcl6PaEepsyMUnVW2YZOuR5Q9/IOjDt6iPISij7NMGxNnkuEBmqMiyh4ualL8yvhMON4SJpgTEKQKbFBI7jHc6vrQoxuMuF0cBmYaIJ41he2C8hwtKnl+EMUYvOPl/nMe35rw6RaGW6lvBQC3XO6PynmroFLuDmn0ef4yAYkq1fD4uJANdG46Z1JX5e7Y5s3hezFGgc+2BXNCZ/pRPhKBWWRUaK9hGXmjJ1IHJ/d0UY+hVIxwO9flX+rHedkCN+y6c+SijDpl/BmHCWUQn+eTLSbLeK3+PBsIi8c2gZmSZaoexMb5Qm0L7TK0OxswZQ9vJNuYMdvQ2/qc42bK1f6qy6/nfMaiZFPEnLdiVIjawaGFCeo45s6hPwe2kxQbkdc/CAcaSzJ3s09i/EMesWE+FSpIGeWzwXHjpYDBwTkSlaWoKF1RIlsjst0xZV3HTw03S5lbLv88grJGLr8NaZBTxb9jQG15UTcrEnok8ee5onWYAFvXt8RxomYAGKz4QD+bZPO/FqPndsggwDdG+jw63RpfCOy1YRXhIMrHmlYqAwk3GEYkN28oeZPKxqjBEuJjLSRVfMMFGSo2wDDcHHVLLnLcq8mVMCAMiqRlu+ERn3OWf7aoYgO4oyW0RAUbNQCAIWJnlN92DUKsNGYZjxtILEbpfC10k1UHz7Me1SANRMHpcp775JzPWFgWqIexeVdkJltFDVeDy2mkBsQsRQQ20JnwGVMNScahZ4KSRM85ND/2I6UKZ6dXHMZAKRiipIcMBj0DIgelNkp0Dw6YK6Zc/BOJZFBTcs5pem+Mt6SaQALewH7nKQ9p0Q3HHVKqFGkwBum05YgoKVC2dqAEeBYSalTjzTr9DteGVjxaxJepUj9tfnBo5qjh248NX0p0jiWhFI8NFveQb4TcAIOgAsAgd8P3LUO+7HwYkJRinAuwbNR19DU1M/8SyaVs5AyDUy/lgDCsSpzTl4hpMSAJWDxnoOP8St2em1SsjG4TfkqYyi90otLQKEuNkndzWoxm+2hyY2LOKF8GWttEw1eRBZs0CgjnADRNAxw/LHJe1N6jJ8GgFGH5ZcQGA4MWqv6WWTP0+oa6mVIPsUK532QTnSkPkUFbLMzNwL0JO/HJ3NwAhgKlqRaSy9qYEWWyzO2PmOR5mwpEoBWEer7sKuR1MT1GpRcDiEVHDxiNZSbVJsv/9CUM1PlQkvH3qH0mhSAFTw27ps6pfpG+4P6i2vmJDYAOTT1PshcehbK48ROjqozQORIXCfabChlg/jNqRMmLgySGwa7ZcEpLMcnHrsECTBGX0U86BqGMpNhIc8hEvmVADPXC8sswj4YukoyIOGtT4RgvYg4MGAnb1ANhhXtMfaM+GxCaQjawLDh3zDBNS6DC6LPByVuToaTPPPUlFVrWrUT9yEgdCYzBvaK3S0+pyzKLWqapsZ1kQJCUCfISbZ4cmJ4bkuVaDQNSaExB7YxjM9pyO2Q4qkPSVQs4ZkoPfwM2EZHS8A/kmfMFhFLRGKN0A52DvyFnnS/m5CJApV8dNsmwnCIbGzU2IoMynArVcmhj8tbhlk5aLLbFC4ilibMJvsRyBXa3iDVhFBI2ZNBUNuZPAdayxcO3jcz1RuKtgjcuDwt5Ga6jpg8/cSNN+b30p49VgJI4B6qT5E7aIPA4RzGPiQAAF/SWabcUBzSsSWHOAAbSja3YsGYQiyIHOousiQMwASH/W1YUklgaU2bSOc6JjhlSDpOyMITDKCRCzWw01g7TRpiCGHEDh5JrlIlkMPm3fRKFwltUMJFxWFXAZCZikflmwzZkfeqZMQw3ddBNyoTtgJHhjmw8m/qg8BOOko7EY1liSVKpN0M3Zqzl++Pg6QwzTCQrIhIxmmEdp/SgQUTwYBRDI6zkWo80yEJGQZ4MERyBh4lGbJs6AYt+yjI2iYNi1m0gZoSJrBAn8T/UFJNLAwBHEz8VNZb9g2zIc0eyTZPvF4gs14K3P+NeASkROShfm7IHMjzPxdXoc74VP4JpeWFrPqReHsi0aGkpr0pxO+qzwumYw4WxIM0Is3Ms+pQ2PMUi4a+IMOc5jjiMb6Y2HCgRAUR4BKHs44phJRu9GJUHLB/A/BlwkntoPEmzOMZNutvo8IH2UlRlqlaoaNFDJT9IziDLhbIGaY1MkjxHBDlvFQjKQd0KgCwpOZlzARr5oCfM/D00ajwLz/2+8dFle0IrJQnhjJeRTBpRe05dzOICciN0ymaq0ae0mQfnTcq4EJWYZWJiggBMFsl/Q7IAl4LRk0DfcC0mAsZUkYDhTUKMHoChOgUoIaM+IlIAoHCGY4ZQdluCCMfMtpcox1eGKZzv5wxLn9rgOik6boPOhmuSHaPjMM4yExgNcQTAGAElaJJMGsT9aOG0IKYxr3+Vjx6KTF7sWJPRrA+ZDkFQuZAB36MPlv+O0fnVP4MlUAzRQBnF9IwPRVNIhDkCNAveQfyXi/LFpEvjlnorTZHsIRhtPJcEr+xxzZ+BQgbCifNosPwS5aX/BgSEbh3BK7W87MiSyYOCgbFzy/7aFn05bfg26M0CXFpYUlio46Eaqpqvb9ZW8uXEawIIcU1jc6JuNnP8kbIRujSnx3Xa1A+2BP+g8AwdOnoCS1x+VdqM3JYl1YgRIm0OX4dbCf0RoNl2jQFGBEmySxpjGbUDo/qVltbyiONYCEZAZEQn+wkhl5A7KFU3UtdYyGSApjYM+nrRQWNAYGERn38s1AjTmdBGWRZhBoVgpISjVKEY2ZTZNDpNt8BfgKYsJPEIQHDCRHhmM7Dw/H2VJpQfHe8WbJiKlaEx+XIa/y2ZlKqf5UD6k+kTcEOJQcgcVdRQcqNLSEYYZQwPAxYZlEsf/GBEl/2IyZbPWn8KF5FscgsAAeTVyagOSNGahJiQe1AWIj1h0YhS0oRGFMI0z5bcGARE2rCtcyioJJ9oanTRwQNbFYOCYWdzlvUAUYMtKSZUOlA9ZjoWgLRkWVqGxeCMLxQzYUQheb5D0hZHbuUir8QAsH0TAUB/dStt00OTkhc5DpIs5ZkiP0aYL+IHNlekcHg4g3ugmNTDQcIObBq7VZLNklWTrHoOYkeG8osbYQhlMIkAicYMlbwB6eGUhUREFy0pOb/E9CBWaMhlbMHl2D5ImgEMCkkk/ThfChRmQGH2FGScJPd/IpT8KGSSx8x1Sa9KqnMmoSQOUArVueDiMV6x7NdhyuSFJcht3jSUy3lTfgTCwQ0b7FmWmh57ZBaDOYMwGtvRKkHJnWN0xl8oxdNFzoPMDiiRQcEZMo/fBItyU8dGjElS1nN1k0sSgSBWPfiJEHOfhp7hXEbq7jxli6GSUhpEoGWM5XkX1YmcEAFkFOMrSc8feilqiYUhWhQTiHJYC5eoXoy0xagXDriIOnzCO+aaDBI4mYwDOnP/ZQfUeJGhGLucxSBIihZujPT456B+hOt6+9mNRFFwJ3EyDP85xudm2qTB5U+eTMXgbld3pKXlxkuik41EaS5u6B8Iwqk7w3EJXOQgAgCEQEhEGP9LRjkOqgTnoiF6TpPdnpuAeTF6mEFImeFhAEHuBSoELYKACA8zqpxJOW0ac4gEPrjN8jiNT2IpEqS+wcTgmFxWWW0YnLVpWqaqDHugcxYlceZzL7cGMRafzMpNDWPzM6C/RIZ89bOZYg/h8DXehyysCuRnToBimm1kPP6RbY2yeZIUy0JxL5qLST5l/QdEkg4apGExbGmecAQqxDyIkBCQUCnKPnZMyMFx7VMtg1UkyZeKQ4NpaEKej5RpZ2j8AO2izYgCTKEZCQLZrh8L09AtwQQcUbls9HcUHWXaMcxT92frY9AewnMZ2Wm4Y3MKyYhD5udZJTG3IL5KfBYVSrXZIJ5iRuv8taD3AnjngH7Qa/JnYMmtWTbSqM6bQtk0iPaicGnkJgYsZkJW/YLckyxlBtunrFhhXgAiEBEiKNxizdThOAguSXIsAEEQKWSfNYH0V2LuIiKCWT5S2drsMU21kaHCFMwVzrJzJKQS/+WZFy5GLi+jRlJ7caDu/GEOFc1MnUdjZKQMWNuepbEIGBk8sc6DjS7l0xmfsHn6aaGGiGzBIt3TAHLuvVLMnEN+JbMWVtGQs0gpHs77JAoY9I3y/1ISkhTyFRKWIHkWJfEnJtUyIzL2HUTyKqU5FatEGPCFAaAFN+ZoNASEAE9ETLAmgIw7il1SNiqybqmcQhiNXKfsGhMAARTg0ShEDRryclRWkNMDCfV5a13ybEo0gyDLzqw7IhTOIExsXsTIlJ8CuZnLMhxHbFomytDDFIknqeji1ogIyzEbPoOIx0c9VRJ7wotsPlRULcvWXO/8o5h22QKOcI90IiCCg+dtEEaJrihcjcZ1HF4p5FNetpaB5QJcCAZcJmEdk6TZkmV31CMi7qPBHkKf4lQJSkK2g5K/awD9UDAOMqcgp1RKbEkIchEp3EuRErmQDBKV5MQC6U6SoFmVBMg5Jdk0EJ9AnoXDGIy1iS2clh6ZAaO5rkMO44SFdJeRw2JEgKkRhWoRa7jxEoWULtV4nMUgsOFRn1HtBk/tkDzkjJjwkWZiFO+SmSPiABI8KdNnRGemTxABzqeIJfbEgSQjwlK5wBI5MI13gmy03hET+EoSTReQaMg/d1Pa5DHI92HhLQCYIcM4/j9KqbQ+G50NwTIb93yc9CVG4mJEGPohqhMRgCEFD0uRDGOnZfV4yCx2U6CiQXxtoTThPWOjkLNb4x/biFsYHRC5AZ2C9jCh5ZzzQQuPBGzfHbQXGZPiQJypysUkjd24IdNhYM1hDbBoMRY4w6jroQhgjFcqU8Vui4KVEIkyww1FR5+RICARZKcnJacm5iYNhnz0FimUWAeBzMNJjkeai/oZMOZ6RcoNASkYRUXoOmHIPt0Q4AJRdRwkZAZ4IZrSLCz7P5N+5M2obg4Z5cEBAA4YLUYi4BOhjMdNjr6BqMo1gmEQo/gYcewwgpIwWugHJd8OOeZGRfCAAEjc1bmZs5SPFhgdSYlNu2c054vOG3SX/BcLBSThjCN5xOolVkOgQVJndYCBRViAGZgDSWYmJEWISEQZawHTQf4GaJGKoAwYVYogRpEgJsdw9B5ljRQFEUiRQBTxoemE2UgRYQ8wChPM8yrWI0xGLgcz8FaapRsDUNoBUWMFFh/n30ACQVlIA42ALATIhapYUt+gjSaPPuYATsicm0ZyAELh1YrJC3LcxFEm2QQRGeRfIrj8JGRKyIMWro9fQzPOvihx899BauNmyUPHRz2imD2JogaRn1gwWTlRc0oEhUg0oDWOLjOzZxaOIx2EKWGwfYiUwqKMPHEwOj4FCRQCIYfsCQCAwwyg7O4HQQBE8cxKYXDiA0TulLxSLyIcrKfsGku8HoieMe2EzgurAaH5+FyJejMCSI62zgAY2iCJgiPYWZJTIWAXkkIi6QoPBlWK1kurAllnYBBKRYwoDLZ+jJUMyGrFYJ6NIDB6NE3CDJ5SMudW4oDNdFNvPgSJ54ucxow6TMWhRZIbnGZyno4pURKgZXYiXDJH7NmE4uETMxcRFmZhn9EZkJSsaiIKSEJAGEyENGaJMhEQOMCRgFAivkFYZZ0ZQ91AK0IKuAyr9CLZkkYQBvYuAizMMQyRqaG/KaiXmEQWQFLDhBFAmNMQY9lj0QeKScmLqmvAIiX6kbziGi8nukSInlJOPyEPKhbCL2lHQFQQUujSDPhivEq7CiAr2FlNkHxtg+AGzi7YcTO+dIA/DqnPOaN+ADqMAs9SKzeQl5ohGzJ+9EnJQvtzu5lBMrgHvSSCEoe2B1MiRnxyAGmkX8xoLhxIEE2joK7GuYAghAjABEgAJIICBJK8oZJsJo46HAkAosKo1Ia6EQWNIWhxQb2wvSVCUshBVUl+pcCR7FkgOy0lUUDQSVkEOThfaZB0SZQWFkU0XFBAiKIpjOVYjIRcMg1FggoCidkjSLKrAAGEgUEQaUyAOBoqgDS1Uhbj8U542xDnA6gGwV3MwhEWB84bHGsoOrZ6BKyBgbOifB7syh4pPkn3wNH9OGwCEiNtBnMh9Vdse3L+5J6XpAowsw8YTZprLA8TNAlVUM5KUg6e4jTkweQHRkKlUKEoQhRGIBSvKLAjAwAQkSIkBSCCBCJABIjCHNhCRBSBJqUV2b4X50OjmCUqxAIAoLT2zglzdCIwxz5hzuwOACmsH4MchyTNBzNYhp6k6IOVbBhHsCIJcGhyzosQeegRiGJHBryJMCLxoG8XUCj89jiMSOE0KANVxs9vwWQE2SDIZcBpubgGkFz8esSsBaTOmU4FcDeKHhCc+ilXI/0qaDIJrU2lFZK/p6iOAIBw2MIRqNMzJ9sdAYCISClSihSRUkgAFBbCk+tGUARBGAkJmEA0MKEoEIVKgZBwsJIRgm4KSISk42IoIhIwoPc+tJVUyju4bBCIUCnFiN45QhIR77zSmpQKfK+U8s5555VCDEoAM2Q7Kw9g4IRIoAlzyeM2zMes5goiJaEPWcXP1BhnerTro7qQh2zQyhBAgm8qndQ3gtFgGm9YcYGMMYNyQwkdjeyAs2IhuciuhE+uvYTT7TI9b0qMobD0bbhZCN/yiTgbMiVK7HIcUmULd8g/y6r0X1a5spIamImjRhfnEBGSVqQVKUJFSEgqBLUhC4elRg6MAqAINAGBaARNgiIKmEgFAa6ItNbKaIqyjgRzVRkBFUWvkgSG9F4EPHv2gorAMyIZY7xnqhV0lh0zg9KKWUBEKSUsfWe1puBJDUyLweWDCACxrakfJa1mRnU0eI6y5o0UXFeY9I0BCjh6mUhaVN3SwsLMhMzPCICR54exEckI3XQ9YJbESbfM6l4JtA22k4TXssoFVGCERz3SObFcHy3/3WLNUImsAAzIlSEWMTUwmqrJSVi4UyJr4OCKyAUlmx0Gvwxnj2eiaVJKaaW0CpIdibIbDJHCyjawiPeaQBNoFAJR4ElEK6W11korbZRSSldaayQSz+wcIDr27D3pFJlBFGQvI3rPJOiZkYMVj0qbMJJhhpgabWdtb711yujQVaSVEvHeaxQiCptUQl0x6TYomLdNIyYPgGTzPi1uESJI9LhH6Zj6Twqiwzw8iAlqI+JJVmYy4srbkoAtWQ1MqeKfYlpg+gMjRI3k8vnit6C/QQHN87Fcix/CNgaTM6IoZT0WSamuBXvHX9lhlm5jmoGllJDEl6Hnh5yyiYdRRhcdEbtChFSkz+jMTCEbaS4iCLAXYCYRo9EoIRElQoh1pU3dGGOUqYg0kVLKKEXsmcUhee89iNcaAYEohhp759kJB9ObiJRWRnn2SQNhZg6qsFKEDSJC1/bdqjW10UYBoK40WxERCi5V9gAgzIACpKJSF5mTEoCyHS8YlI7ofE2dUXJSUg6ZGSBxWtJlUcJiPwJwlg4oIMIQ3BQyvGRsJIYLfX/o4nSvhCKm4NQt7W1TKBdFpEXT0e7niCK99TiWixap7fmBUgHINFjQJ5STINJnwI3kVa5yfpf9gOWdJMeHNoSiMDY/2EOKgFAAESm/UC3aFyHCzjvwjtBrosDJWlNV6cm0MVWtlAE0ilT4sHPsnHfWWyvsiQAVIoh33vdePLMX1CaoC0gkwcYHQgRxTJF9WUCQBAmrxiDCetV26w7AVE1NAKwpWHkY6DYsdLIIOyBFiKAoeB4EAJEk4pKC4wxDqOlo/o9eFlVItOj8yKYDohBA8oIBlisKjBim4jBKkifG2De74Z3FYVoUUByEeGbxvD9PciEl8KRoSsKE5E1zg5RN6mOZXoYg2XQt8mpSHPIqWDbLchnZvVKis9hFUDCnwFBIaj3GjgQQJImlISokRYAUBi06EqMHPCZk78BbFF83ZGqtwGuiptFNbZQx2jQsSKRRKRGxzrm+67tevPWuQ2FE5pV31oXGkqlIK6wUACKhBxQvzMxegCIHoFJie+9ZxOtKKU26Ug3rNft2sRaWujFJNop4jwSIqHRgboGgYQKKgGcBRKUwOCUQMMbLSSZZSspM7LDkWSsOyos/eWPRJ/tOhkESEOJguQ1+8FJzLHcuQaJLyXJ3S00bc2VJcpA4c+MzwEsGYVC+Lx6H1GOHq+TKBFRHkOf5EFdcS1oPjubs/hzVJ2F1iCxLanxhD2IsGoNfKFJjVKMQiRRQsGOiY0+EhSNhAACweNuDd6bCqqnIkELSGqnSngCIrHUigOgRUbxnz13bsXNiO7YWhX1vxbPS2kyMqbSaVMzgky4RLDZxIkGRSHYMGcNgkcW1PSuoJnXVVCKyZrbrVgGb2lCMI0EQJkKFqGvjOYhlxV5C5FVofoytBubotQgdRkkXKtZF0oiE7kSAzJdZokVSgOQFGHiDUUiEg18i5JWeyzSbqbdwCQkmyA+KWSbRMhVk3GDGaMaYQGkZQQac6ERxqbxoQm/gOyoESVeAgWhjwhz1kGqXqpaN0ATcjXxD5+QNWnEFKT9VbiaWpKyE9UyJdrAQQ1g6ZGZMloQ4J8xaYz1r9LQS9k4YQdhZDYjsrQ9yk1jA9s721ncdsXNdL9773ipF9axR0xpr5YkYxPu4eMssCOg5sjuSYhH2ggRESlXCPTN7do5tpyujFVaVcr30bU/AVVNpRaCAPYIwISIIaeUYCBVpshzoWVjClilBJKVi90bIIUXDO0A5GE+R6iTzRx6OQYwNYVR5RCL+opsWMdlMEagim9bV8Cm0zsFMg3MeHoNq9H1wh5YoRITztnwUeE90NdwZy9+smBS7LTHjqVQkBUd5R2spztS4H6f0lQggcJA8wBwHIvI8ERAJAHsOHvpAnSAsPsWaZOu0rqAynXNse6OFvYjz4ELexEjM0naenfW9k76TrnOdU0apqprtzXhiOoVWhDuLyMAQ9wYzkIov6RP2ce5q5buOFCoFujFag/Rtt2qtd6ap60pprdk6ECERrTQpxdZ5BwhApEgrTYpReUF0ApZ76zm581GB0ko8RwoIQMUUcRcc9SxxHQEg+gcKPgh2knC+GsdQCqiKIMXQljQYSagH/0tioJDjKEJkcIKeg5d4OXNkoTqUdwfsRdRgdtQX+uXgH9p0Cgx2TiLkoZjC+ZphWPg/JPfHKIUUykW0S8PGh8FZiuG/PL3CN8/MLETgfbDzU3wTJhWNCElBpTvnmXsC553j3jlvVUVOwAt4wb533llktqs1eM+C1NR60lRN7RSdtE6TGFJahABQkMBprYWQgCWuiSrwLCykiUl59gKiFda11pNZU+v12QK9U8YoBCHD3gsDAhpNpJVzXkRIEWkFyjBqBiTFpFgAnWf2PizSCsWA6eQ9D3DD5JABQQBmTGtSaZIOg4IhnjqtWEE8yqpUtaKRD8JBZwl7owAGSY8CSJKX+0CAi0WmLOcHxaIQn2M4JXF/Di8PNKqj9I5K5AboC17E4YokgA22kQy5lvQped5IEi+DSpTlTLaTADmhPDY/BmBIljiIAmnJG0QEmQWYUTjqaABh7YUEAKH17LuewBI68WvneyZUQmC0deycZ+d833WrjllYGZpO9GQCulKKkEWxVCKaWQkYEgIAcWQBiRAVMARBzR4JAHurjXJWEDyLEsDK6J15vbfbrE7OrBNQ2nsB0kRkFNWVMZVh55zzgIhaC5AgMYT1VS81tJ21QN47yktcoX94GPpCQYydjSAcGTTaDPFBROAYEZsgGzhi008YVnY3UZMpxSOmQ1tCgbGcZKblUYdknwzASHrglhJ5LkyxeF+8lKrDQJBjyhtKHrAbr5TuKSyS5E7E5LOA5C4YGBREgrum9CHIUHrs4fDHR5e9MPsQ6CmeI68QRQ8iCnvnOvGuI3LCvbMrJ15NK6N1165BwLZtu2q7zjohmEzM/h7UUxZw1lEPaP2kricaJwrBeYMkjAQkzGLZKNaowAIJECAKEjM5551lDbUmUkiAtTaq0pPatOveWnGevQdCqSqjkLRSZLTz3vUOEIWUEFFwTWoCQWGFAB6UCDNL3HSKCCFmRQCyJSSQ13azpMM0LNGUkvhc4TzC5FeUAVJIUCyTDkZAJhgQ4KCSYRbOAxWOtNBhJRSHUc1g3VoczVycQDTooIOWKsP9pIMmgy8w6EgHiJyaZXio4saSVLYEQYbpmgAa5Ub2WuUZEqtUrpRItNehVHiFIUSkq7CYLwLCznu2CA7AIjrvWss9NZoq7MR3znLfnx0vu95BZfTBDu3urXWzar1btyhQa9XUxpGsRQTJC0LnxAMCTSaNQmTnLItiAIZKaQJgAC1ARpPRIhLXAARro6mp68b1Pfed9S5IbdCkFCEpFWw+Z1kIkciLaBYgEYJKAQL1wMwUvG1EQapE3GByl4TQsKCAptEs+j+EqgyUGTT7DJOkCMTRTX7DjOcCg4mvJYWSJ1dg4eUvpPBgPQ2XYISN8dfSlEIA0Ql8Mk5QuJkkV3eYARsUKyM4FiZ7ni1xS0O+EVybScEJU5xH0IzCIsdKxhQgjMG3DQCEEpzeAMIiBIQEAuy89ezE90Se0Drure+ZRNVKULrVql0sV4t1a1nqylw8gP2DpYf1qu3bnghJaSIhYPaiRNbWIWAznSpC8mC99R5kbQ3qadMQsPOg2CISkEFUtTGTeTVp9LzCRkvVGDJaWUfUE2K37ryQ63vLFsWYSROULGXIe0EEEzCIyD7tl9fUW590HoHcqcwiIYYwGdCQrPjBJkh8JSx5sTgHI3LUNdPO/qSCMef9iRDt2GL0AnaYJWrFCU15zCDqH2l9MBE6biL0kaIdIgi0jPB+Ls5gwFnhCIgALEk6m1tZJ08TMLvSMrIlIK7QYtN0zVw5mKuIGBbngqQK0U3J7mMRYe9jUCd45xy73vsexKJiz33vOybAyjBIt+q6Vbtedp1jaCp1uA+7Owsny9OVs05UpbVCZi/cO8+kmlo1uzMUFAe+7cV6sVLrppnPpWfviS3bVd8o1kY7FPFM4PuG6mYy220a5ZHQs1catLa2Y0JxwoLUd623DpDMpPbMFDZJgSCiDitMWnnvhdGDGEIfY+kBUUhiVFeY+RFMIZBPJHROMFeSlygL9kgnSIgsAvkMuuQYwPgkEUfftqSxjSNYuiGFo2e25OEN0OEw5glDmOx0KR/b/CYgqAeN7xy9c/N7VmySfI+F5nJG2jAnwBV+tNA3EFcig8GJiRMwP4Y4dC4RYepkxIhHACEiACYCZz2gkEIkEHZsO9evETyhF3HBmU5GAyFbL53168717Emb+Zx2d9verRdL9oxECNa3XdgaMjmY7ezNmtqQ87Bq0fO01kbRbG/G3kgHy3X74P5JhaARdaWaylRNQ1pNprVWRqEyplK1BnH9cmG7zva97VrnmQEFQdWVXXdyuphrUpUREFTEQMlvJURoFDGzIhRBb30Q5mHNFoUx+dqCSQ+px6JWGYktq1YAX91oLhSspBQMQ17yCGQeEQBgLh2EGQcDJjKwirD1kSgfqXYbOemx1pefwPHTgx6xMT2yPR7TF3pBak823NMaZLIasy4liCEAQ3IWwaDiYDMA5+NG0lnKaZ1FnPXsHZEgavAegMWu0fckFtELQVh1FEBnmVjEcbu0HlFP6mpvt7fOni3ZiiB4xwgMiPWFnZ2D+c7uRAuQ7ycGpztmpsxUSPewuN8vHixOjt1qKdO6ns3Mzt5sZ2/STGtUSlVmWqspeN/75enSTWtBb3sr4kmJ1iAs1goaozRSVfnVcnV8Or+wR9p475UmAfLMCIjskYiQCQFBFCIIYzhoB4FD8DXEzUlJwImkLScIkELFONMDJBGXsZbUqQyiDFfhqN/mMZa0fD8MFACEbaIZmQWeE/CCJEzLLOXVrc/mdb2pDWR9okyUaK20ioK2I0PKzecl23zlFQBIgXNBegjGxd/gysx9kro0LAkmFTY5AYNM8847a8VbqrXSqDW61cqvzsRZZUBVSpjJKCZtHRMwCvqVZU9m3jQHu6D1+uTUL5cCyADCXO9Uuzcu7R7u14aaStcgOwqv7812AU9fuffSb710dqs7W4DjWk/2pjvzK49funBpR5FMplVTK+/8tNIVSC2CiA+P13i2IM3TeTWpSYHSerI+W/dt13de9Mw0up6YfrHq1n0z10qTMgRI1nrve3GAgEpp763G4JdIofEIFHa9BF+mj66cuHd5gAiGYJbgsy3HWZLqjinUIXMwZKxJ/H0e6ZYQHez2YV1yUEElP5J2CyTLfxujEVzD9d/hVYiZ51LLkjqazyIftNLzKToDMaJtYNaIThEM10N4JIbtvSwCELbEi4BzHkRCJHFYcScEz+Jtx86SgqpR05npT0/6Bw/8amUM1dMGjfYCjpQwoPOkNVvvO1Go63oyn09Pl6v+4TGSAJDW2Fyd71w6nM0n06lB5t3G3DiYT7vl/S9+8eM/9cW7r6zaXhs9NdO9w+uXn3rf0xcu7EwmxpCfNEqHKDvxE6Ma8NCzYzxyfPvuyeEBXjV61kyNrquJqWd7SPeP7i+7xdLX9WRazQ52XdcBiK5rZQwSoREG8Nx561BYIXthSlo6IgAzIQhKcPVwXKRA8V7SXucknCjrYVnYZ6N9gNlgYuTh5GRGDIM/pq0hcbpWum/K1dLsQCwB80jMlIUUflAYvubpMBRcQn7wco7TFpcHXELkSUkKUgJ9sNajLy1soQTEsMQcqBIJGUCcZ88YdhrFsBFmL+KdeEfAdaV3Z4YXp+tbd9qTU1IwOTww02bVs/UMCkVAHAKA9B56ntSaqsp1dnn3gV8uoVHVfGIOdqq9PdPseDL1ZO/CvKHFg0/95M996aefO7nfiVCta1PPr1y7/DW/+/1vevuTRmm2XnrbGF1XGpwT76cGphNDy9aL84Cs+KHA6dGyVrg3V6rZM80cqDL1xLUvPjzunJVubZtJNd3fEYmHSVBVK/GaGdsO2LHzwEIg3juMa5ECwsyMAuAZAQnAcwJesmGiAzIFg0Z9K2AuOo4EAAYLvbTBB9QGq2LQPIeRH1THAbcRocM/iRRL7RdLGGUIRQMFk7gO97Qkv0MGmgjE7dMxyOg8Hh7qWTik0up9njhJyYHk7t1EZ1h4C2wZ4kSSP0kQCYhAgtgCRALxwozAIgwkKAwgRsG8VrhaLl67bU/PUGSyvze7fGG57K23AspoI9YKg2ud753t2DRmNm9OHz5oH56BAaOVahrUM5SpaQ529+ayPPvV//F/fvmXv2yXjgQJSGs139/9tj/3B975zjdXTQNUd4u1Yz/fqyfTRvqenRLbNdBPjaj9eXd62p6e3bt962GnO+YnLlUiyFAhKK2N2qmuvPmp9edfaDvvne86R3WtTAxbIgVK18yOSADA9z0CkoACEe8onlEOgOBZspee0uEmMZ46bugMbCMAgHEpVDKxRHs9sxEBlmQjUTvNyJQBoqXQH/NY9JuP4ulQMEWsx3jSHNAaq5ZZdwBXxIQuC8kBzRlYGeDjeVLOoUzaRcMh20aDnTQ2jKICL0mVD/9G31OoNBEAeM8scb+I9yLMAIwiIkzMWrgS1l23Xiz6xZqBzM5s9+a11svZWQ/M9WwO1smqs+vWI4p4hTTd37Vnq5PXj3zvzHSC2ABPCXZm80tG7X3hx3/x1Z/9Zd96YVSISqv93emf/cE/+p4Pfbj3gkIEKKz76dSivnAwmxjqlov16UJpPZs2RmvwPcusRnvjDQfPvbS+f9/e75sbHdaqF1ULsarqZmf3xjNv/vyvfRY9+dO1njaqMlRpAkYUramZNH53ytZJpV3viNCzZ2vZIREqTeIZPIOEExkoLMP5sNE59KH3pFAkeuag8DGVoRdx9CXF2mf8SYJwxsKgC2zCIWKUk+qZzqVCgcyqgVcxefxxm/gG0OV5gedEM0kh0AtZn9WT0fo7RLoNX9LyjyRcDopO5s6hsWGa56214W+IbQqYZS/CEM76kmHLnCAIMpN3xFYj+p67tQPdaKN2r10WPTm9fRcc1HVjWPqzVX+28Cxm1vRIuiHputOHD6XrtFEghpqLZnqpqXaqBX7yv/47Z3fvsxcCUkrtz5v/+K99+/u+7Y8RGe99b50hgyxd65pGgVHTuga2rl3y+mS6O6/ripTyPammVra5fP3qk7A4tcs11+JROtf1x7ae6X0UpVHjm9775HOffZ5MzSAeRJPSSpEirTUiaEP9Yrl+uADAalKFEFTX98po8IQqbkwKi/SeBQiBhRCcYNh/AhCsIBAByU5SSOJdEityWrjP+/dLFXOsZkY8Z7lc6q1JKRg2jkRVOIj0RKQwrDjllU3JuJSRnXSukbSpkpbfooNNcOMxGe4lmZ7QGdsTNaRs42FsQGhSpE/O6BcRDgyBKKHHHYdlCwIh79F7QiDSzrMTAlPXOxOq6sXDhV/1ddNUzvuTU79ai3PT/R1vtFt1oIHPFvZ0iQCENdWH4GYTP1184ktf+vWPteuWvFRK7U2qP/ndT3zXf/pfKLMrCCygUFdoNCnbe9LAfV/PJ0jQt47YVhUZDSi9753teqqmVO10Xf/MZUUynTHvHU4rYV6fHb3ykhzvTq9eEvFC/sm3X3doFCEqpTQqo1C8sAOx4vv25Oj41XuIerK/q5paEzpB7qyvtEYdVCokkhSriApZhFi8MIh4x/nASOZg4qOk+KPoEYjegIEy4/pIKYTPo82CxDA/EuV7flNnhHFiz3T4+EjsFnJ9y2CSMUATrvPjxT9F+lzbgf4x/5tlepk6i/sM30FLyHpFThdVghCRE6MN2HlgxtgsFu9BwNQVKdV2axFUWtXTiVjfHy0MQ9O3vF773rKAqmowVbfupbPkvW9bDeRBVWqi9a5e9e1znzr5yhe07Q3K3qx607XZn/0/f9f1d30H0pSUCQsAElhLRERqg6pqAMWzc9zOdmq1XxMq8Q6EdTPpVp1rral2luvusVouVkhCukILVVfRpz766cPruzeevjGdmMmsQd3UTRNi5xDAtn2/XjNbcV2jvVu14sH1PLtwoGaTyazq2zYcAQSIpDAmI6QQv81CwGHhmJmDzBUMm0iRs1gL4ovjAUJJPxvFHm9+olRM3FRwLGamjJYIJj0iQWowk+KdYBElaI8MpjhTog4afEb5GYQiSciv0JvzjJDi4gjDsn09yOwkRlImNMwDScKH07FvImlHLiTNIJxwxAzAYUO3MUYR2db53iNg1TRG68XDU9W15L10HtiTImIRre26dyenIB4UteycFyCaVVO17hfPP9sdH4Ftqwr3ZvUzzxx+6/d8LV16lwWtkDSCAsdstXhNSpiVYbYWAVCcuPW0ob4TACGlrPNmOidV60Y6e7I6XTWm9uv++O6yujytLlLnzhbaTd+y/5XPf7nn4ze/7fpkclnrGqU3xghzv16ujk+65RmCdeuV0lJNzYO77fLobE+afT0xFTWzmbhOQEBp0ggI7IXDxhgEpYiZUdh7hhSXF5zuDCCCDCCAnA4wCy/nk6T7STjOJ0jDISguBtRt0FIJ3TEgJTmc0vpnRH+Obir0iOF0kgKj8S7qxO3ZdTSyk3KCgfCGiVM6tAZ8CmSvRCoSMcd3S8o4RqBC6hcu3GoYA/4DOsP6OgqDsAgThkO/AERsZ33fCbPWqp5U/WLllivterGemdFoa12glvViRc5XxM6xBvEsSArW/eL+7fboftf3TDLZMdef3L/6phurforr/qImREHpxK219FoZQsNixS6VsDC7fgkAQKyQPJDrV/1qNZnvESlTV5dvzpuT9dnRman1neePnnv2Sx0s7h1M52/Yv3JFV3qvfenurd9eVM/IwbVaIwSLx69P+4evnd2+e+vlB7deX61aJD09XZt23fcPWj3r9w+N0lpX4Jg9C2lSGm3nvOPwZsOwyQCB44ksw7ggx5kOgsgyLAolayFFjuJIYCcfVcTvME6F6Esv8cifQdImgx3HoCngP5bbG4A6RwdN8wNl+97mg482xAIWBQcrfkuvzeiM+qoIgER/Z8oEAcR7TGcOEqJCJhYSBpawFq+1MrVG793ZmepbsD14QaXAOQPA7NuznrwIe3ZMJLa3TIqU8OlJf3J8trYCXtc0mdd2LeCl2pnuHc6ImNwx+B7daTW9oFABdMBLUMy2BURTIajKu5YUIeOqtajU2f1bu5ce16SorvcP9HTa2P3J3l5z93PLf/YvP/2Z45Wd0bd+x/Wvu45X37Zrj/zqxefmTaMOLiM7YQvurH3w+k/++Oe+8OrSOpxNZ5euVjt7hxcuz/bnlTJkakMkDIpBADwppSvlrEPxzL4yWkC8dyIceTWKsrAUAj5iEQWptFwjVDl4+RNw4sEmUozUpsaX7d5slRd6aSZOLO2e84CM24I+/Cp2dRaLQ/nLUEh8bFOHxYGNo0wfI1KSkZ/LSdyIyb2UVOa0CRSTNz7xbdwKJypwp4h4h8goQARklCJQCPZsAes19r141kqHksR751icaBD20lunK1LOiUK/7lzf8XoV9qQpxInC65fqxx4/mEzN4VRqOcHVXVPrenKoFYl03J1K+0CcJTNhz6BqEQFxpMhoPcWZd7g+OX3tk7/5+Ac+AqgJoTJodqaaDqv3P/NN2H3iH/6b1evH//q/v+u/6dJ3f+gxM59rnNz/xK/M3/CE2dlz6+Of/58/+8ufe3jnqF2tPQhhhfvXr3/DN79zd7ch8Se37oJznn1vvXNWERvUIX6KSLQCQGHnQDywF/EQzpBkCaqoZ/AsAhTFPgQffxqYGPbM5dE30X8FENfSBxQlixniICa8Rihm/yOMKBazolpALoMtHUoToFUe3FAK+hJOGZGZ9cfL8QMoocgoZ5K0m0GxHfa9D8FZyceEgoDMLCyUNFcQlnAeojChoLC4nsQpo4hAkSgisdat1tyuoe8rIiGAeLgXc2cJUHuPAq634K0TYs9KnAD73jsPJKA17cyqywf1Yxebaa3mc63xtPbHk9nUKKN1DdixXdjlLWUq9K1b3AfdiJ95MQJku67eOayaKaJuZjvzw8uvfOYzl9/yDm1qZiLxuq51M3//h59582+/9Omf+bhdth/9mdWTp0fv/JrHaf+Graef/9lPvHC3/dxry1snfS8K0Ji6anT1zFse//3f+cz+tcuotOvbWvHi4enxg9NO1Lr1lRbTu6BvgrDWwOzbdeedF2QQZs+eE3cIsgDH8EQBUgAIFEcn7k6ObnxJQEAEjgoXZq99EoYxWHrAIEB6113WQpNlM6bV0b0COljAOrredYn0hKJNso2/sxWW3GBFFEwWFtHpm0V85EgeNAfI8XrJ5Cu1mfw3inpgAAnhPAiC7ICdIlEoWitNwF3XnS01O/DeKAqu01Aw9w49ew7nYTNbRygapXPeIYCqVsvlyipAP0E913hpInNtL83Wl2aLHfKGtQJF1AD04q1b3yFswVvSpJsd9tZjjaiQKuv8vc//5u7NxycX36bJ6/n05rvfef/Vu7uXrrH1y4dn3C9ob2qXR3/lj3/gP713+94nnvdt+68+9qC73739G9nMZ7ds91svPXy4dM7DpDFPPXXle77nA09/zYd1Pe+WC0EFylglmna9c4vW9kerVe89i1qxEac0CQJ76HvXtX2gNvaemb3jBMHwX4BpYsUY7hgt97SylF1N4cQRBJAYQzXwC6TwVIBhT7rkVZfEViPls4RZjhsZLxqM8AoYoplKNBZlllcLDXLkUx0oOiu8SdaP/FWYEBmdEWXdMLosoghhDCsShOAZhWP4IzCwB3YoXhEZTZVRbrmyiwX2vao0onZeWBxIcEs58KyCZSCAglq4dw4R0XpB5XvuZYehJQKjugsNV76/sDvdn9up3Glov26uak2IDvzK92ekagGQfgW6QW1QKemsaubeczXZNW9+593P/Hr92ouX3/Wt4h2p2aWb151Foytztbn1xfXrv/SxK7/rSdeu/sr/9ol/OTn95EdvnTn3y88vbq+e/V3fcv3mFfXeN1Rffp1mdfVt3/TEWz/yoemN9zX7V5WppvPDdrloe2sqJNLTPTtb94tlK8KrtZXe14orQ6SVR1ov2753pIi9d9Z5H99SjoQs4Bl82GKIKMCIFPbWS0QMJnsprYgHsRYxF5ZYCTATVVzVHPyamXeyhB4J+hITBVbTDklI8ZZY0PJgxRd6R0LUFqbHKnLizkH7zKpquJ59RpDimHKU8yDoU0ESz/cGgbjcICIegAE8gRAwsBNvDUlV6aap3LrrThfe2kqhqSrx3PcdMqIwsjgvJOS9R6GKoG+dX7dE3IshoabaOe50D9pzN9VuD9c3JvDUAd281E3rRY1skAjm4D2IE6hBHDCws+xJ1qegp6Bq55CcQ1UR9NbzpXe+78Gzn33pV//1tfd+g8YaoNJGaVODqGvveNIhfuof/L3r3/wW25/+b77xwrv22p/8+aMapVvZFz955yO/7+bXfef7J/O91Wl9/BLzaV2ZnVpPlK5ZA2Ili6XzndbGzfx0ZzU5XUwa3a76s7O1NTCdaL/qOivW+TDPvffxuPTgW6K4G9YzhAjG5DqXEJ0T6CKvtEQSCudZhaM0YrwOl0eI5nAQTD6krENGl3wRe5fYbVBBB8MqPxLsMBmYuNw0F6GaTK+0n6T4/wihY1AOWJRsKsWckto6uKckGYixcRw2LQYfZziHW0CEQAQYgQnDgodTBFqryaRW7M8eHtmuJ8JqPq9qc3T7IXkGZvLsPYcVagDUwNz17fJs2fVo9O7OdL2CSu92/azt7nsHSq+vNvZK5Q/3Ko2riTqulFNCJFMUANeBeVzcqbMkXKOuQYHrPbBgNTu6fXuyN5/vXRTPIHLpre84uvXavec+ffGJt5PeB2yItDa61viGdzx19p3f/dmf+ud+t9/ZXb35rTt/5XH8pZ8+JQ/7tvfPHtfvene985b64Nr8senxS6fYKQVaHAggYVM1SL1ybm1MPdvd2T09Wx8h9OgNrduu7/vQ+dYzc1iSi2HL7GMkqCACUHCChhAIQYGwOy9jJKEtupY4SfoQQ8WEBCAcQ/gGXKEM/qiBoJIjdMSjWZ5GS2rYYD8oD6Vc1iN8D3DGDSyO7magpkomN1rSDDISE4jHGeVzWUMXhYnOIsEDn/lcABnFB5cesEdho7CuK4WweHDcdT0AmMrsHu4dv/7ArromHHQpoJXunGdBZ+1MybpdO+sQcXdnR8yuJaOra8u7r9q+03K2R+unp+2OYmXAGKoVahTFQLyPehfURQGFNEM9A1HsEQD0bAYo7Hjv6s31yZ2vPPfCm59+ipmtp8NrT7THD7uTB/NLeyK2Oz2ROSoCRfTk+9+BfOef/3f/ouXlZz/DX/d29S3fMj99me0du3jh7MX/z8fe9B9+TbN7WO0f7lx9W7vsuxVXMyNegL0CxUDhuAf03ig53J/0iwUCiFIPT5bBBxdP5EdRisJ7GnhYU0FIh+UEjHIUVsNIQTKGMLFKlOPIgojIABQzSE8HoyUbSBGwABl8gyG1rYpuWUkDyNKjNLqd/y28RluJ0z8yfMsbgZOBNBAqxEWhqH3HiRa0FBARBmaJpk3cp4QQdhUGz0dIyyBCBNoorak9W66WKy9IWl+4ekk6e3LngXQdMhOirioPiKTFSw3i2nXvnAM0zezw5pvbbrI7v7ZcdOuOxT6Y8uk7q+Ul0013pdnl6bRt1JmhU1V70kJKIRmhGVZXRO04nntuQM3Xi6VzlsVZBkZ17eruL/zkz7Yn9zT0imR2eKGe7/juGEBUTevjY9c7FKl0/eQHP/Lv/e+++WgBL96z/+znF7c+e/bWd5pnvvHq5Scu4cn65f/nPwKoyRN5mcx354f73pHSlTGVVsrocFwvNdNGVisF/uDCzJAcnbZ3j9rbdxcPHi4XZ23b9l1nO+usdV1vvffOh/PHvXeOvfPee+/Zewk2VAgSEw4cEd9TEd9U4eMVSRTCHBefwnBydvVn+ZggAdEgKQkqojetHZZ4GuuPA4QJsITaOU8MFzFS8aaUH5NlejsMZFGPiPGU+WQnRejG+KTwVgSOJWDWLRKaARCEUML4+K5vV60X0EbtH+5NGvP6sy/79Rq8V6auZzNBDOvQYnvbdb31jkGoqnev3r3b+x6955PTJbfPKX98gdqnd+x8yrtXYXfX7e/aqnG6BqWBqhmaK4AzEOV8DWJai521R0fH3fro6NaX16e30C+qSpztPvwt7/zKL3301id+qT952S3vEVmsJkr7qjazw72T2w/WJ0sUJjBPvOd3/Yf/0TdXXrtOfuI325/7R7f3b/SP/Z63PfF9f2D/SvPa3/57WJlgzmilZ7tThQjeubZl54yiqqrne7uX33hDAayPF6+9cvTyi/fv3j15eLxaLjtrvXOeRax11jnnXG99b13vnPMBo957z+zT26bCXx+GQNjzcDegL6IzeO0KrAIklEJejkpIlQKAiaoKb3+ByoIVCxFfwDcrIJLula7QjPhzPlnKJ+9S+hOrVUyrdNpvqRZEfLKPJ2HHRadcV4y+/qCzA4KAUuQd923wXqqmqefzye3nXlstVsIymU4PHrtoRdr12lvn2jV3nQbwjF40qKkyhzOaHE7mtq+Xp19ybkHQvqlxVw9Y7yAZmdTekNcVUGXQ7CLtgxjhyjvd97JoAUkppeqGJpNqVqPuTmFxX7vOaIPMb/nWD+9fv9Lffdm1p3b9AMAhrsigqasLb7iCxnzlN+6c3D1l2T147F0/9APv1kwPLPzLe/5v/CfPT6svNZenV77/Lzz27z3z8v/tbznfC/fsHYJojVrrulZuvXZtqwmM1pPZTEQ9/8XX79878V1HIHWlJo3WOsYwWud66zrrO+us8xGd3jvv2XvvOfyMr0VLMPXeFz8jeyS4RTGY3lWVX0Y5oqN8IUFWSik8kOy2aynyUYZrfCLroNspCr/BBtCTBjJMiw3IJlU7W1HReosaTfQ2BdldZJHqHo5oExZmFZDtw5mA5J0Lry1AIlL69MHZ4nQJQGDUxTdeXy3as+NTcl4LEIuQQvFOkEFPzWSCNYkmxOWtf+fsiRM3Jfe1u2wdzK/oZoazCVcTJK2QasA9lqn30lvVWmLn7bpDaIVbYY9olTIk4k4f0HyqlAIQsJ1qKjW9AsgdW17dgcmOMivQO6aqdg+mT3/z2z7+E59crl678VQzn7z7H//tk2//k5/slLzq8Pf+kS/8zD9u6emZefv7Hn/LM/d/5kcOvvMPozCzQmGlAJp6frD7+nPP96tjPdEPXn3l9gu3jcJLe/XubiWatCYRsN4zS9dbH89gCv46JEQJG6uJADlGQhCF1+QJF+Z3NlswnL6PYQutYAjMHYxiYUYkYUTKxk7WTgcbPW2cK6KYk59Iko89Dnwy+TFvA3j0WvwmIgvUblg8AYI4MHxqaDGNshMhmW9Zzguk3a0AKVo2bjnm8EeQw5t+0Dlhy8JkHSgBpfTqeCECoM3uwR41ze1nX9HekYgC8kLMznrqvHiBaT0HNri8f3L0laOu9dw22H9k6i/sgdfYA16dS0WMnsQhWwStLe8BHICroFcCE0Ouv/eitkdag9LGTOcCQhWs771s5RXX7LJWhmy77nYvXKRq3q5Xk+lef/Z6tTPX1b6iCkB/7R94/2/+5Jde+ImfterZ+dfv/zd//tof+W9e8cinAt/1p174mR/9EXzT9+PksUvf9p7V6581194G0gCDkBbXc9ca33/m536j7Vb71+dXbuzuXlGda9fWH90/Oz3t1h1bz95757wU1okgCmE4TInzljqi8P7leGZzfPESRD0rSC0GJiBhiCtOgU0oeYkgqnhcOACGw2+yGB5WljKoBud84caXAhr5swHQ0f0CllhUaMBmgnmqb6byYgokFOdFiPIgoGw2wbAnKT4lAMAs3nmFoLUmAGs52FEMqE296rGz4ECDonp37/WX7q1bOyEySjGgA+5ZOeaaCKiuzXx1+sD4Y3R979cIvK/gnTsAWs0ery5eIeMtCvGCcK8Gnrr+KkPDTtZnzAz3PvVbi4//tF/3oPTpg+Ous7fAfIF2nXGXpy2SwKVLL93r/tjXH6zW3e4Ft3+4N5ntnrTdpZtv4bPX5GAXNGmjFNAHv+ftX5nstv/8B+7+8NHl37frHHXcI8Lzgj/+H3z+D/74j6mrfxKoqa9eaBf3dDV/8NJRt+jrOQmIruHd3/W+V7/wOTG+uViZ3j+401YKkVhrUU4UiQMOlBRC6uMuWUQCDFvpQ0+DBC9cWEhCBEaiuFtIEIjigQxCzIDISJSOIAt4jeZEWtwsLHgEGHYfR/MnM/TGupFkqTlgZfT5atuOcQOjKXW5nhlLkY10RfmF/ovZzBJJL1bhwcbCCHUf5DsBAwCiT4se1nth8JZZCMm4jtsevMPJZLZ0cPfBKQGirj0gO+uEevZecIpUm1qsP8SW7OKe60R8Q/i2Kd28pGBPqVobcaYTYkWzBtSOt1e9nfPZ0f3X+eg5/vyP/tPj+68+EP2ir17DmdQVkKx109N654B253K4S2dEv/8d1d3Xz97xjpvrjncms/nFx5SeEHg13ZX+BKkiVQMphfotv/fJk4t/68Hf+hOv/1R//Tve+uV/+RkBBob//Nh8/Z/+xUv/9CLOv1moRtxbH98l7F7+2G+s1ou3ftv7m0uHSuzNnSdf+/Jzt199nUlOz1Zdy6goYJE9h/dLWusHYkBAVECI4hEQw9tJQRCEiOL7E1JISEBRCIMipmgSB8wBC1DybEoO/si27KaOmYl2AKtAGf45yNURaEsI6Q0FNPPyyE4qsDdWSRNSc7ZxDSjPjHApH+ufODIuqA21CwwrCOzZOx/21AY7SRN5LwIMhNZC33siDQ7F+o5RUE+b6b2js17Q6KZX9bprFSiFwGgVodIaEbA7Pl2fnq7O7tmOECYaP3xAHqRqtAE2FShANAaolm7Sn0p/evvLnzs4+Y1P3/+Vf/mFXn3J64dUtYqlmc+b3e/44M23vOPg0hW7u7Ood6ZVXdXzi0jGmLl3SGBBhKopqgZII2lVTUgrECSlwTAJ7b/rhvqLf0v/6H/e/PbCTKf9ammdWwv8kdfq/+9f/p/2/7MeZm/qJ0/qg2t7h3vv+TPf8bn/5V9/+Zd/8cY3fo3ZqXu7pAZOzxbrdV83tQg4ywDovQuvc5D0wm8E8cxEiD6yXBoAFADC+JJOESAiYBEkCN+zNRFPwCHAcApTNNsT+Aa5igU2c1hJkL0DhqLNG940do7dMwYnwgaDSkbhGK2p8BGlCmxeCfgbeb0yfYY5mig0K8LRQI9qNIWjGzyID5vBEZVSSNR1jh0TgHXSeiQGA8COOk+KqjMr67VF1KYyK+tQpK4qa9myq0hXWrHrnfMz7ATa+6TmRl2rYToVc6hWlt94BfTCEQmJklPlbnfcnfqj+uInPsG/8bkv9bQW8EjXp/NvevpNX/Oh91774JP1Za0PplSdAB1hdQjSMV4GQWIrNEdk7leAFUqv6h0AQGlRZkAVkkKtQrzb7EMfAPVn/v7P//3v+sma+97Zznn30gL/+Bdn/+0//He7v/vuanZ/8sTb5jffjOhufsM7fvmffOmlH//pq09faS7td+u22a2OTtbLxUI3jfW8bnvLYJ13zvfW+/yicgQRcN5DWEkXwfiupWCJoqAgETNHAyC+QiQMHIvEY8mIwvE6kg8iQYC0gzi59QEi9EtMJSxKNKEG6S958alYXS/lLwxv+Yj21viBkVjHDLpCvdz+V3LSaCVFnsQcBlqsAUTxEKR83BxDiFqLZecdAVBFqLXv2HoPnrvOCyiPxrO2Xes8mmbSrTsBrY1eAnjXsXM7VQ3SM/fTSjHy6fpsl6D3/RGQKDjQ+qmJo52ayT92ASvw2Is5VPJAmDsgi/fu1c99rvv80RcW8rrQOw71X3prc+F3vxuf+CBduGSuXwDTkmFBFKxBV4KXUAy4VmQvLDEoUwEQypSoIiAye6hqRI2kkMIR96IqXz35jVerj//o/Y9+z88qYOW8t969smj/97+qf6h5vTo4W37s01c/8r7LH/zaTuylDz756V/47J1Pv3TljWf1TnW27Fe9dZ2Q69atW6ztcuWsDQ54YZZ8MGIgAO+ZwgvlPAIGwx4YMO2zDJc8kQJmiNuYB8JhkRhYEuV4+I7ppTfZwCmMkQSYchty2ieRQzs3pXe58gTDi7wkbf9NaB1SRqcDbPuVhnwLKI8AnfSHeERQrFRwqWVoAiAFec4i0c2uVDjd21ovHgRJUFu2ltFZrwx5QeuIwVhWwFpADAi53jMrol4Be9d7N1Ow6leIzgGvxTul59pfqvHmDK5c0EiuFuePGRdsEVXHsGzV/pIWvTs6s47fuYsfuYiX3t5MP/ImaObq+lRdrmhKQBaVEqxY1l6s5bVBL+gJW0AAtkg10JTQIGqkBhHDe70REJCQhBqjHOvZPsx/z5v/yCv/7edP/sLLBCKexXp7b7H+wZ9/8O8/03eouuf/7eHHv/CO7/6w25nKweTBi/dOnruzd2mGilbOLxZ9t16t177vfRD0+dQbBgQvlC1PRBEhBAwmT7CZkIQIop3OBNGNlKLNsmWNEA7XGQgx+2qiSE8UOFqQBxhUVhihM+Awbwnd1kTjR4/xDiWit5WEpFwO2u/G+pSUv6OKiQnBCMGNhmmaCISz5EMzhMWLsPMiAESqruNhdK0NgsN6sE48o/fgPFjRgOBFe98TasCgqIJCmFW0smsiuXhp/vJXXpkpvRIArWvsd8hdry1q6NjPuo5mAGtPInLGvLaktXvt1H953T/0vZGLe7T/FjK1Vbqjpy7pG3tYI+At4ZcB5yArlkMkZ/yD5bqfKOyWdybzJ0CYYQ+so/oyoAl2YNgtlF5ChEiEWosYj0+QefLr/tDrb/+7tz7P2AOwiHX9WUs/9Ty97epkjfLSF249d/ILl99yxYIcrXt30r5+f8WI3Nn1yooDZkGB8NpjFTcaJy6h1MWKQmg9ESAxh+PMkRFAkJAEJGxXGAvlgoYSHQdBn6zzyKLpedx8Pj4XmRSG7KPIx0cH5kUd9FzWHEL8sjkjBXsXf2OpEm0aHJIn7TNYjgClVynVHAnyjhWFCF7YO2sRlTFGK92drRi86723zjH2lr0XBHQenVQAAr33DpVR3rN48dbO5rVlt7TtwdQ8WJ214omUAgT0jUZDAGKNQcMW1h498LFXGrxlL6xrhiX71vveT6dUzUQpMW+dqcd36aomc1f4ZWYrcox4kcFY+8CJIOsaG3GaoHXda6q6DNKDiHdrRFDVYdgcIuAJdHL5AtXKHE7XLzSyvgIHu//Blfs/8DL7yH7sXP9gAV+8Awe7lbd+fffkuG0ZcHHatqddeGMTIaBAfHmyIISXgQjSoOUBCIYDxBA5MAaHl5MQpmPBAQjEAxIF60qNAZaGPg1zAFOk1nS9tDcAYNgLlHFdEGxcJxhjPy3Gj3Z9Qo6oz0psjMUqxH1MDIXqGUsuIwQi8qJML4KoRuaRQC4+thAhxsACAAiDIACJ90AOCEGZ2lkQ6KwV69h7EKwF667rWBB0LWwBEdh7IfYCLNTUJyf3rEi1M723XLXg5xNlu847a2olbEnJZAJ970R4tQDXsa6ADJEDdWapF/EsBia7qHZRP6HpqQoO1lg9K/Kc6++zqkXVLFOA2jSPGb/mvgbvQU1UZQQcyEMWRL0HZleEUFYAuwo8Cg0BCYRAiFrrN1xtP3GDcAd3JlPqRcSGgWL2zq5XUGuZHihicet+uezXZ53tvThBgvAOctQgPqpoDAiELJGpw0YERShJ9QxCOqjPGF9oG056Ctsj4l8Z9MYMoGKVPZoryVSCjJQEh9IrL9n1PQB+gxBl+17iusSgG6JZIC+EF7cywvLlsc2U0Rl+BGUmwDPImai1QJwK+T2wRMLsWQCJjBLQypBY17cOgVAZJBb0zvXWMmoFDj1rhkocAjbiW+cFGMSh0Y333FuPWlvE1jrUauUdiasMC3gBe9+5Q9DkpPZAjI2gYVAWoBWDMFGAFYoXvIh0iPSEkQOQ2cqrM/Htan1sdq+KegzhmsEeeIH8kMw+UidiuH8AaiZcA3eqajq3tDzbmx64/kzUxFQNiDCEeEoURDSkdmf2wttN9dnDK68ePHsGLC2KBRFm75G9597aVac0VNOp1+ANGCSvxDsmkHiqHWJwGgugZxAGrRVhvCKMguDj4XnBVCUADAeOhWOFAn0m9VWiMIzok0hYUkCrlPhltHvUSdPJDRnM28Z71mHHlAnDYijAxtlMmOmz/BsKTHMhUXEi7mGRaZgQiUQxaaFUEHpWVigJuzBaisWLAGltmoqQurN1v+zEevZsGUFXgOEYTOUdeq+EKvYgICIalQZgdqeqNrbn3uOkatYePZImbJ0zCIZAwDuSfQ131/7B0r/5knpgpQJSgKbjqiZZ80zQoKgJ4R75Cag9QF4RK9uRE2fBOH9Bu5O6mlB9kV2l+uflpU92v33k3O7i1cVLbvLa5Te8+e1P/9VfXP7177x2s8EP/Ej9qR98z50HR5qPDh57gwgFGSyIoBU1VV9dxPopmvzqvlZr50O/9iDCbJ1n58jZ/bohA9UEeCVegQfwEF4tB+l8MGJhQgoZxEP7iUIHMSTHHiISqrASxJLOqEnAidZMiGNOZJKIJ+5BSnZQMoajvpuMjQJIcg55lvJz03yBYUFJUqkFQAv3Z6FOYCHZi33JgyknhcEO6SC6gkcRQ4PjL4hrnnG3C5IgegFkIaW8FwBSSplmgqhFdHuy6HsrTOzZ9gxYEZl27QUaLxNmJ+IFEbxHrAUqJLSudY65rpaLtWIhrR33ANyLrxWvBFdEOxOoPdzrQVgmBtEhM+GCJzXVDHsz1Aa6uaKZXNkhs4NQaWEDTurqSk2XlRN58dmTX/wRuW3f8f9aOkYNHhBZG6mrau9U6y/NTP1nXvy29XMvPPujv+9b/9an/uF3XzHaTw6vsAM9mWqKr8xhpetL+4xvvfyGvSdq9WqLLuyxRAARx+IcVwgTA8hONXpZ0WrhbOcVYmOIALwT9iDAGilokAIgPopuohTfEQwiRArinAmVpJgPBBGgtO4iAhAOHolQTNuSkkcpLVPniGSIenW5Oynpfpkcs2lUwHITvgM8o/TW2w9nEs14hQGjY3EftcxI4QCA4ZhwTHtUQ7xpBKXkd0jHR4M9GawjFvECwGQMs7jea1NN9rTrueuYPdveswdUlUDlvfc0Yag9VMwtKiV+haAQDJPpXSdUEylxvQh7EEZS4FqWGpkAVnW1BjuZaYeMTh443Jugb73SuK7pwZk/ETgh9dhE/3avvpPMfieTVimqsHr74qUHd/7dT9/5tdt//qP97db23iECgrKqUVoTaGDlBefv+cDFi7N/8Kef/O2H7//vvgA/8ReeuPNwfXDp8d52ANo79ho1EQDqmnDSyN4TsH/YNIbOevGRREVC6Jyw53btZnNdGWgavV4656VnYYYLM6UIrRUvKAJdPDEUQASFIL42CQHCGlPcKSwsqCBAWIZ3AkkRAx9W3SUulUqyxccMJxFKgkCQtoZC2p0kWQAnJ1O5Ri8hQWLTYQ1nDFSdcX3eB7MJHxFYlJQwCgODlvSZdfREmcnsDL1FgIikcng9EShgJBUW1sSLE3EeVD3RU+BF530naFQ1s04BEmDluWbwQhVzCzRHJkVT9iy9U1Q5YXY+aCch8lQjdAqlZ+zEeVh5mNa0Y1BrWPZMAotWLuzAiuBsIfUl9fEX/FPfOv+pZ/XXPjmpbrWX5yf/j//sh3/pK/2iJ8veefEcdpARIiiSeaW/77ue/LnmqX/+Vz9yxvMLe29erLuPHJrJ/IpCunpppqoKlXGMqKAXiG/UBFwhmclkffC0nn6yoqULW62LYZgomUwUO96/OAOCrud1y71jsbJc+X1DBqRCYVJhy6pj8SwgjEKQzp5hiS+MSXFnCSHBvE1+6agZFsI9/BsRlP00kW+i2lD44BNyhgARLCRsvr8NxRx1ly8hxLd8wOjSAM1iuiRdOYv14VbSggfLPbcJwuInQJoieSkYkVRQ1TPaiYiUItLeCQu63jsr1rGApkoD9aAM6ilbL6gEa1ATAC++FzUT34IYoqnIEgSonvX2BNkrZOsYNZIo3/crhHmlG+V1rc4cKCOrVmqSeoLtEqzD9p50Fq/soF7JoeW7n17DATzbT174jYcf/c1br7/ct5a9oI9rfAiIxjSHb3v7Z/6PCt78TnjiD/0lveNRXQWLONlX++hF6wpRke113QTr2GE8Q8EDEEK9U3UntcyuvOmpnZ955cTFJRrQCISgCac1Hlyq75z0RtkbT+0tVv5sYdeWreUTJ6xwVyMiUkUq7toWoECiHJbbQ/+HFaIBmkGwl6szacE+E1ChQ2LCUYDAYDPDcGOgwRiiNmh6GTDjuLuRw+kc0OpU9lg7KAorZboUNn1yM2ByuudaRMsdoriPKjPSgE5ACvI9em2j7AFC1IpMXdlOmB04ZkZBzSCgaj2pQU+8X4Kassy9zDyiwBrEh7qjEUW9WOO9VQCkK2c743sCUkpY63XfI3MDrCcGKlywXax5pwZFuPKKFBxWVHk3nRm9dIsVvOEtjTu17rlb1y9f749fCRuliDwgalU98TUXfuwv1Zc/9O+rnd8LtMOsHCCBGKwId1CUIKAipWsQVrMDIuVZFCEiLh04z4TAgJOZWvfNCVy+8bbD+pdfI0QfwjNDJBcBV4o1k2Iid+l6c3o6Oz7ul620fd9Zz4iocaYRiBBRIYhC5yS+wh6FSAVRRhlSWY1DLAd4bHSHOAlAGkIl499CwEeYjt+UtKFoRmBCMkIiNDPMvtqnNJJyJdK7OIqap5olCyntMy1E/biwwfcJEN7Sm4IREvQTfSaODYdZsWelwTSGUVnnAD1pkp4Fja53rNdgNMiMbcMw86yg2kdpwS8AHeO9ziolgOzAoDCRUtaCX7esaT6rxDkCWHWMx/18hs2edo5NQ6cLqxEncwMa757I4bTxx+0KoKbppbZ943WDL915gftfoLqu9d+/3L/165u9H3wLXPjjot8HoAAMqDmpqkIKu08RKwQFxIAGSYswKAOgKHpCUZgfMF7W0AlUClvAEzZX3nB9Zr5Q9dgDagCFUGtqDF24WmMFzQy8tc0Er96c3nrxbHHiekTHwp7PPNZI6LwyOqyOx3eBQdBCmYgwoTPySD7vPRvkQXNFCpZ6NNATVcVl2rhcHbkp0m4h2QfgbYKnxOrIjsoKwMiFleCrH5HdcMBZQioKJKlQLr0OgCxdVEPVJcIRMb4yD5NKHJ4UCi94QkAAUiQC7DyzIGhdGVN5YtWuHJmaqgl0iNVMZFegEV8BkyiDaiadFl6J3mV7n0AzO79e6oaElKrn/dlDYXfSdgc7tXVI4jVKf+qPW543uDjiC1N9+25/YPTdB5aJXrkte6R3FMhr/Xxpa7Pb37d/qvbfP+Erbzf7f/lJfOwSq4+gvYCKQF1A1SBW4ewNAAJRSBoExHtUGoBAAFEFIRPsHtv1Wui/fBX+6lNV7+TU88Hjl+y9xy/MzL22B4EKRBArhY2BJ946eXDiZnMS56fzqprt+FPLi7t+5U5a8CK9l9NOGgZyQkaTAgUACMyAIUg5BTHF4YzkmNZaon8+/Yx6XDQjJGEY01COyCxDNMvz4rFYxLazCUqRm6ZHKcWT5kBlXhlrBflldOZE2fSBxNHF81HVjJOtVDq3XF+DvCBEAiSiYEQiizjvOofC0715szMjpVRVizLeg6BG0+BsB+q56EakYmxEzcHs0eQCNfs4OWBB9m51tuSuVyRmuku6EsF27byXWume9dqqxRKXJ9D0dHbbNz01p1CduJuAj7fOvrLeE2XuW1kr+1LPr63nhLsXzfzrLvU/37lXLjG9nfVTovaBJgga4zFUhKiRTABlMAzF2TQ5U19734D80nPHf/SyHHtxzEq56dWDU7l8+bFdpRRReMM3GoKL+/rtH9w5ure+dL3ev1AbhAv7O0+8ce/dT8yuNKBAmMWLtF56x5313rOz6YD6uCgU/otLJoFa4z6kBLZyHRsg7V9Mr7CCjfVFLIZv+HLOB3P+Y7Nv46kh53GGEiL3ChtoVFLKtCx763sCY4YkEMbX3cer4d90QhUUrQ2SA5FiIqJw3BoAEaI47i0CeOtIYXOwZ2aNF/RsxXeoEQxBpUERAIAygMr3PSitZrtYz0DXIt71fbdcobCuJ3XdoIBlWPV84tALeoaTlfQd2bXsMN1/KLKGg06619uDju+8sLpAiA96erhctWwZuhV295GvX4Fr78Zqn1RD2BBWiAqRAAyiRjQIAOzBt6iN+AUqI76FxGTA3rctL09+8Z/+1qSCifTPrvoLExADi756/E2XhJRSqkXqARzC137HAVfYTPBgt7p+Y7dmPdOTSxcv3HhsdrnBKYEmEAHr2Qp4FvbiPFvL4kVlsyBKO8HY1QmUMnBXCAJJ6+0UITKYvxFuUgxfGP3SMjkPKiPMCAxlnour/EAomcYZBSTloKSSRFP6UrHFzQkV84lKS+qMRP4C2a8vg1Mg9EH2oMYXorMiUlo56xYPTtrlyuzMppf31LQCjexX0p+p2quGUfdAPemeVAd+6e26Pzuqd2Zqtk+6YgHX9/26tZ21QJ40AHaCikiRmtTVtDITUkL1QV3vCO2T2he65OQm4Ud2aHZrWR11cmwrAQQ1vznFeqLf/mFz9UPV9KLWe4RTFI3QIATi1HHa24eoZ/LgZ1Ef8vHHQE0lHosgbNn1vPz0p9578+yn7rfGr9aumzd4YaKuXdm7dHEfAXugNYMFYE1f//sf/9Ln2scfn1zcnV6ZT3dN04jau/D4lScuKydzg1NDBOKZO+uDwaqJCNGHqNDERQhCYU0PQSEqlbTSkRKZYBCHhApxOiwUwQgegyQscBrF5wZMh1TZOHuUCZ9qkrd8pAirAoyl06qg6EH1xMEPkdhxWCeKAiQCOu2VLnTs2FAsSg/HBSAhkiJShGgXvbOOWURcczCpD2aW19Y7sadYVVQ3Ah7YoV2rKdLKgWu97dbHD5rG1PuX7DGjWwH7vuurylgvEw2O4cxKD1w5uDjRD3pG761QA742uNeQc1SjTCzPkaqJnnjWBo2pdr/mcXzqTUiXUWYAOwAzEIPhLQvDW08NSIvKgF/h3oel/TLtfRjEAWoREM9uZX1nn/2ffukffvS3P/n97/+LX6S//qRB1HtG0bXHXvUHTGYt1otohKtv2j28fP3ilYWu6cal/XrnElX7OLkIoEBPhXB3oioDdz23HkKocq0IFSKIZ2CR8JJvQlCUTG0BpVIETxr9QrlMETxZfwuqSqJPjIOV5GYx5gOyEuNmwzgT2fihjFpINtmmwpCCRZI+ApsMXAK/ZNKEL0irDphriXGDUdIckiIe3V7R1uLglo9VAwGRcI4QiQizZyRVGdIAiKSRkNuzRb1rnHDvO7tYS3ukdg+RkLsOFZOW6sKBvf06gGdrO7sC4GkzQ4tuvQS2vXWKsG9to6QCtMK9BwF/RcmaaEHY9f6iwfsMJPJYhdRQK7qutSz6ptLV4cyeanVU64O3gT4Q2kUxgAoSSSFC2LsjrsfqMt/+BXzsm6WvhT1oE+aw78WBvPSf/Ed/9defu/bGnX/wxS+/oa0rdbNBYqJe6a88f3wGxvqWETyp//vffe/C7u0y33jT4d6Vq+bgSWsnDrTr147JzOorNRnCo9OuC5Vg7npf1UpRdHwqREWoFRFh4iyMxocigLAwP/hYkBCSBpzok6I3iqKMjc8lcpUNeGF+bECLINBwDQsQpX8Kh2tyESAgFn7QMfhGV85VMJKTM+J7rBWEEiWgMzF/DjCI3ZRYXpJfLrykHAmAhdkDM2nUlVLTWik5ufcQq8Y01FycOXds7UpapMmE9Fpsy63jOTbXb7pX7pFotB37ft33lcZ6OuuXZ8I+0BIAds4ziiISgpeX/byiV9b9iWWaqrCjx6Gee9x1DOKqThplqscOXHXBPPNBmB+KaGRgIvTBBZj6IRyRYnZlfRevfgMfv4azi6gMILIX3/m+dff/yU//X3/91xYrOGD7hYf4Z6+dGPVGg8qhRwe/+PxJa73zngirWX3jsTfdfv3ouvGPvfVJkH2aX1NcL1dLuzy9v+DpxenBPr74uYcE0FCIAkEAceGFUoRGAQJoBIWgCAVJYDguDAVQIUBY4SNJFkHCK8U4UgqhT4M9HdGZqTRhZDBKRqgpmbjE6Cj5gOwBkAh5JQkTcjOhJtRB8olugXSLUuPzGXaSqy0QWTkOo8Cg6wbHWzGBhJ0XUADiut62Xtdq/8bFs1NrF2dY96ybejLxFydw3HlukQiNd7YXd+IervVeVR0cyIOHgIydYwbrvLdeoRJ24l0PbIE1siOs0d9eOhZoPYvjDmBX4R3vK41c0dkZv2+mELFCfTCd6NklJXtorqInZBFOwyQc5mJqOIM4EZRuCbN9ofhIOOZn+fLDn/97/6dfX2hAhZ7f+PKzNz7weyeqIUAmOr318IWj0852XpgA/8T3X9b10weTX1YfeFrXE6mv4+SyeHKtvH53+drrx0984PFazn7ll26zgEGoNBlNROhZkEABaESCINyRECX+R0ghoqrwsRAODsEgyjFZsIhIhHHD8aCYjs56yO7tkkShBFyCXWBizEJ7gOYA6IEwUY/0gDHqC01zuAgFmtLR+NFrn0EdBHoQ//Homwz6HIMNkl7JEza2ioRzVvNuGBbb97Z1umrm+83ZyRqRfbcOJ9nWs7lI1XcC0Apxc2HW3TmTtrcP7oG2ppmTJhbL7JD7eLYjYO85GP0syN5bAURklGMr7L0iuWV953h/z3zlxF2cKet4x6vLprqm6xsWp298H+weABsRRcy665BQKg1RRRMQkW7BrgWtUMfXjQp4EQJknOp73/d1P3DEIp2uq9fv4p/89g/PZ/uajPgVsP/e/+qTtn3gXA8EqNQP/oV3tb5t+FRdfBv3PUwOWdXs2gXrT/zWqxevXXjyrRdf+9SnHi6dF6gQG42ziWl9CEBEBaAC3QFSUtsIY6w0UXh3LYYTGWLIRDJ6IyiRgAiBKBxon8QuBiU1+JBSuEVS8cpnBjdW0l9Lsb7FoMP35CgQGIn4kae9TIMlcod9SFnHTr8RoTg7fATyGMCaVNVgQI2daxT11KiRinhnvXf1ZEpKvOsRLHgRhwJerK2bqaoru1yL96Yi2m/cosHVKfSrvlsZdMGcJdQEDCzWOhDwLITihBGxYwAF1jIpYC+KRImwAkvSAy87eZEVe78z14+r5iLuTqyZvdBdfvLC11J/6FY708Yook4jMqK4o3u8OqFdow4OiIKnrUYUEAXKALt/8cTN7zsi8UykBMz3vf9DFx57SqsawHVWPvVA3frtn+3tisVrgHc8WWH9QdPelcaAEiYl+pCFzrr+9nH/2lfuvufrf1c9k5eePe28gEg8bwmyPYThbVKEoJLSGI60AkSlKIQ+BLeTIAVmhXB8SMBleNt0WJROmM1DhUnRTANPaZwjNosYkRKmkCZzoQZg8SRsCPpoJJVYHoeRFmAbjHrM0JNBouflhmKORFCmWBfEVJ/k7A+VjC+bKHxW4hkBxDtC30z06nTRnZ0pJcooIZY+nCdaVbVBVm7dS7syFVT7u15ORWrxa3EdhZPJ4ltsQBNaAAFwjGHVRwS8EwFkAI/QeXCtqAb9qfOWsVYKQUQennYPp6ju9dWnnz+Y3JhUy3/9JfcEuwPdmBO+OfezxT3sH7zhwsNrz1xoaKpgjbQPUCMCohEyL3z7G977y9Z7BvCIQFRrc+X7//Hf1LpG0s71zvOf+Iv/yC5f8a4HEiT1c//2HV5uEt2B3ce9E6mv9LjHrr+zlM/9xuevPnFzNt1jf/Lc544NoffhtG7srSelahUFsCJURBChiXHXHhERUTSbSIgYkIOjD0MMZGkzUYRj9FBlaU5xpCCIRYSkAUB+dcgmzSXTP+ujCeLJSwA5ui3DUo+jPwc1tIhsiqgcuaAGtTXtXEk6aCTIAa+JP7OqOSjMAMIC4WDpMJnJC3jnAQhEiKSaGCR++NrdfnFKVTO9MBfA5WlrHTu/5tbpqkFGu1iK63WldVNzRxKGBYxzihk1KfHeEIlSnr0gEKCgEAJp6L10lsObFkEIPbKwZeIzJgWkkMW1d8+UP4Gz54/f/D733LHlvd/oalwfN8rPJ/ztT7303ptk3jjhCzXWKzC7opTgi8I7T3zwDx49e+K9B3EAQECEpnrsHS986r/XplLKsHh2q7/8PK8/889dvxZhrfCZHYTmm1FOQU4Yasd+pa6yt6dtd//Bg9Nbd7/x27/WqP71zz+7POsbRW04OIRFBDVi2NehiZRCIpIUl6MUkVaIhEREiEQcrPXEE3GckwZZeIkyRiHb7yXCEv6ye3FDJpf0l+V8Ad+ggxaIz5ge+UEz8EZILGA2vpV9TPEgiuFWjKEqDJ9xjbLXFSA4NAQgnnfBLBJe6+dFaWimNQivjx76rjWGZrtaGICpc3q9stZ58Z1SmqbKr0mjJa18ZcQpBQRAxmihBtmG9/sq9gDhuDYghY4dAAEqVCgWBNgxTua18yJnvQgzGduBgIBdy/JVuqDW/+7X4eq7+OGr+sp16lfV0wcVfeWVJ/a+6I/g9mt7D76wnO9+4VP/+t5rry3+35/1p2uIm3MRBBQqpengJ37scx96ExlDZACA2bYef/ZP/x9st/beIQGR+sXPvIPlrQi3RKxn7OXwVHZ22d05Wb7wyS9+03d83WxaY9/9m3/0axNF1ihmBPZhjBSiUQQIFHCoKJzQAkikCAlJBcEdjXeO9IUQz3AIygBkC0niXcqmjyTbKmGaMkKTTMcBh4GbhwdKuA56goyezHdhw0jKk2h4KsNKyoRb+98D3nAD3CGdJALGwjk2VFJAQriNIJEK0OmdeCYEY8ByL65DsZOZ1mDbVYve1fUMkToL3aoD26HS9W4FbUfi1bTyXntRBOSJELX4KMu1NiDgvFUIzKKJmDSwICApFPEAZJdCO7Ww94DgFE0acciihabiarZzPBKwM39rJa49+tnfWlypn//oczA7cy+9IDX3zz7LizNwTsBHl7IIENbz6t2/9b1/7uCv/YGqE9Uo1SASi3W2/cP/5m7/2ue97UCElPqz1wBm30eigFesDpzrTvhqB+qkb1/87Ofe+d5ndqczhfzsxz6xPOsnGhujQKDrpVZUK2q00kaFMWQQQNRaJYAqVJSiwhFCp0tkSIa4pQ4RgVRQBgSJojIaqRQGkozY2jCPIIvvCI5oeWCBWhkSDepmhmlGJwQrfuS/zIqgnI+5nGGU7JL30o2MtLywlDEsJSJjCsEkjwiBFLEIImiNzgkiE4Dvu37dK3DTmbl4eWbbhVuumBFRCI3W4NGydyh1pYmIjcF+2QlIM510KxDqaoXioRcmdK53JIwAjv3UoBNhbWok11mtlGfSWtWHu7a3wggWItM2O9KjSCNrpPtOmQPwEz5h39e88t3de9Lehf41Xr8mbgncA4OID91GlX7zDz39R//Mn/+T8+/c5xoAAGtDCpE8e2u702X3qb/0x1zfi7Ai0kR/41f/sOAbie4LKnarjiev9M11c/xbn3+VHxxdeObtykt7evTRH/14g9B3PG+0RmDHk0rXRk0qrXTY6SWMwICApJUCRUgKVQjLoXCdJb4VgZEUEiNCUI4QkCjJQUxaZvA00UBJGWeZpyJGklGfSTMbJ1vbksZW0UjhRAzvSYr8V9LyRh5jdOZPWkaP4MfyyYKYEWLuhSacSsh6aVAASVCIQCn0DN6Lt51v1yR2vje9cGhuvXjE3VqErO0ZEFTVTBuoK3e25lNb12Zewyla3VQKHLB30ihkstaA0YjHrq8bBdaD41qDUqRr4tY6QwKglAbCST2bXq66Y2d951khV6AOgJ0wYX0JzVWq5lBfYELuvPh9cBdE3ih8V+ATAJ8FOAOy9eUrV777yf/qB/7E1194d4UzJUZEmDwAKEAMTi7bu7b7pu/9r3lxxM4ioDLmV7634ubPK1gBKOHeelrA9cdqY62/uVvXH3imRnZ29Vv/5Ee0873zi46vzJvF2tVGVZWpNBlFpBRqjO+YCrpnWk0SJCISRAXEiMBRvlMIbEYSimtIg4s0CeLBu5Q4JnFVNuY3YDYAFUZIhYTC4WppJ5Vqp865puirsbgfDHEo1YPExThy4EsJ72IFAMrWlLweoV26BcJXbRSLBxHbd3610uh3djS6lnxXac9d73sPRFRPCBkcSL8SL5evHNY1Pbx9Z7Y7IxT0PDNz9I57MGLXXbs/47Z3WlWdZaWAlDKTSoElXniqlFJksFbVY+96or3dnt49Mp68nkpzGfYv9rfuQXVZJpegmdHBRB3U2CKf7QLfAEC8rPXku6cz+JYP4d/+tr2JURpVeBM7s/i4HzbGwXjnXW+96//m3/vZo1/7F77vAEArfaGhN/yN/5GgRwKQE+8f3F+rV60/xAfo9KWr18F6Wa/v/PovPHjluAZ/1HtDuG69QpxMa611YxSEnZyIWiMScTi5W2vUilR0tnN4HTcjxpchRjM/HFPCEFc7S9BFdypGNXEgyPA37oYr1NCBFUvJnq5AcSUdblzIXMwMraFwf46kcgmskaN+SHHeUWIDrhNFluGqoWkIJa8DiAApRIhn2iIhgmithH1vO7ad1jip8ezufdculdb1BJy3fWd9u4BqKj1Bj/v7O0+/6+oXP/UyaT072JOulYXSumHnK4UGrCE8WbAiQFH1xDhrpxpw90Kl1oueUe1oo7RhQJjv7N34hg9+6ac+wT1UauKwFpyomx9knuPBJbg809cm08cnrkOYKpqo3UP8O0/LMzM1MwoxLBwFDTRqoSEAE5iFOb4CRtw/+zu//MN/54e6fsniiZSuqk989PsA95EcYM/uVuubBdTrk7tffOneB9//e0Bmtl+ujm4/+28/T+DXnfMslSGxfqfRVW2QtFGEAKQJiEAhEGqtBBBIIREqBfEUWvQ+DiIRpZM/o9mESPH9noE109J8/A6QCCs/kvE05qiM5nQ3K6uQznUe4Joos8gNAXFwMw1/N7TOdAWHk00ga5VSOOalqOEA87jpKBHnQPmYdGUhSpKfgADZOfEMwgRiNBmDRlN7dro8XVrrfQdY6boBELbLjtfOUFVPp08+tbczxYe3boP0pjb9clFXqt7d61dL5ZQRB4i6dYZM76Ga7Ssl01rZ3bluutNTsQ5RV51Vb3j82oXdi4+96fq9L7WnL981oPxk3s73+MzitAFdCVbVjbqpqdrB5lCpWv+5GzJXfs0MTsKqN4EQAwWCEgb24F3oD+7t8Rfv/Md/6m/+2t1fX9uVZ0+kKlP//37oI+rg20kZRBb/inWru+6xaaX3zWsXrz5W1Ze9ld49uPUrv7Ja277r2fPcIICQolmjVWU4vFmCQERIoQ8ue0UBmoEdBTC8/SdSqaT4Tow+eYnWO6UXBqRbwfefVqgLuwhhGNBBKUAcEJwhWPhHIwSTOVVaSyOi1AOWNgzswv8+uIkSZcY9gSViU9kyRnhiy/RovB+dUwjZSRFep4sA4fw1H+xfraGqtdHQt+t2vQ6v9AFPqKiZaEPGLqxid/Vw+tSbD1547pXTB/ea6WT30u7tO3cmu3MzMc43k/m0EjetLlfT4+N7D2Tdz/VMdGXZT2k+u3Th/j06W1hipSeTV1+RD/3ey4eXL37dH/zmT/3iK/efu2eqHZzuCZt24Ric65cLmLirbJhPapzfNP/ly3B4Fd9zKO/cg7nG6wYV+2saDoyqgmksbNeL09fvPPsvPvZz/+pjv/D6C8du0bsVi1MKq6p+59e95x3f/r2oBFCE79ruK3dX5hT0HCe13n3sqXeTmvrutDt65f5rD9erbr3qaxINKICmUlopVCoiRhFhOGE6xQuogDxKwcgYzsDiuD0VkShSLAU5njxKWawHT2qArECJy2waZ5qEAnA4wC4Ba1AUMb31u0BnWsvJjJk3zY0y2vha8HDGcqlijp1U6X5Gapk0S/Xhd2hgOKeAAnBREbKIsGfP2qDS5DqHhOI9OyeC5BHYV4qMkQnxlUPFbv38559zrq129nUtznX1zoFWiqo5sT/YrfvlGibIqpvolXH+wrWLx2u+9sRjbtK89BqdnD20TteT2cOXXrP+8uNX36DNenG/3j184/EprLURdCy6BwRmvrtyaGgqGvzZV0g1Xs78Jw66T3an125UH7m2M2f22nVk77/y0nO/8hs/969+7Qsv3OvbDrytkAyyQgZiTUpV9YUbb/xr3/ddfn0f8Ypwa939o7P++bNJrTut1P7uW5U+FMZ+9fD2Zz6/WNmVE8dSGfKOgUipKJiTOURKEyKgAo/IgOH1iKQi+XmBntF6cWGMVDgjB0kRKiWIDIQQNdHgnwr4xmFFJutqiNtjvAEfLER5dk6NLPeMsa0rxUpSxDaOnjhHxcylJgU0ifxMk5nzowMU89noBagLiyzWCiGGkCISktZoLYh45xDAh3clIqBCrYxzlq2TvjcKdxp97bBppvD8c68cPbjrXXv5TYfHt17zvp0dTE/unFFt6np6tmwvXLm87KjFkxo68IqdunbzeoXq+s0rd94xefDw2ZMzao86oEs//j+8/A0ffvuTV3dnH2k++6Xlp57rm515fcOYV9dnq8YrTTuCbqVI0HZyfEwXHT14Gckb81Bu3fl3Ly27s1W1OnrxR754+sqZ7QWEjKYLe+YN+9W1pp5Nq4+/0rml6z0308nT735y8dmPydVv9L6Hftla36sbb7l48ODsuD22zf5VRGPdavXglbbrzpZWEh6NIlBaVZWuNBodVtURY4AHAgALSHj7M3gRL9B56Dx4AR8W3RURkdZaaY2KwjlZBMSAhEpI5UX5cMxo1Kc35HLhK8cM2+FbRkdC6AY6S3Mkk2jSAfIR4FEbKCcDDruKR6J8/H2ksRYeJywLTW6tkRiIf5PHQiSdKooQljpAaVLKOS+96y17z0rralq1y7Vbtdz1vfj57hwNrGz/lede69pTMmq2By9+6RVB7bq2b/uJnuhaWzGHNw6m1y7cebBYvHxWC61bd8G2T7zlLfVB893fePDaV/rVS317ZkXWJ68tP3bbfOvjkxuXFK+q+Q6+5vSx17d25tUZrK3IhOyCpbGMy/riWuNtPPli74+gv323u78+WqyfX8yte3zHX36vbgXe+zZ94y3zZ977LsTLd0+uvfTpL86/cvqF19e3bh1d2mvec9gaPRfduPb+qnvlqGvrnau94NTs7l890FQJs22Pu/XC2R4BjSHSZACMVl5pNBUoTUahUkAQDlgLKGIBH/4idJYZ0DIyACBpTUSojUalSOngwGfAeFYKYCROKFxOgmEjf9qniYk/IwoGj1QWjWHYN8V9oUPGoxsGq2gMrSGaCZJyOpg5yUlfOOtThXKMXah3wc3l/xOUy31MUSkQgHQiQEBndBmnmoggKVIESpOIIPlV76zXqIRBkcKqYvbkvIg/Pl0tTt3JybG1q8Prl+3Z3eXRg+n+xdOzBRhyJDCvuaqO2/7qzUu7Ny8v7tzuVv2a9cMHp0+u7LV33KyBf/93vfWHf+xhL9y3JwL8I3/39ff+F09f9HJtPr20X00fMsz1bzae7zpDADUsToguzLHrVLWD9184eGIOD59/15tb4+UDN2dvaczFHa4MmmYH6scdvc3KDeeunz48Xb/6Uotv4O4zD1+83S5W0iupOzh4yp/eaevWiq2A2tMHuhZTXazVBES8a9eLeycPH3aMUOn5Tt17qLQCVEYbUUaISBEqZAGIsU3xcANm6BgZ0QsKkakIAEmhCsaTVoAKiJAUR6c2RWOVlKQ3KWU6lOi6pMRxmPE5YsPEl9mBk8RkCQvMaVIeG7QKEAKWx/pDAqOUV2Dk8Szi7QbTPTuPBkRnYi9MpnyyClL22McGhdD0SNoISESalPYMAoTKkPJKm27ltFK6QmBLyveADHh8srTtCsQ+9sb57S9+xbu1obbvzjRNtPa9661Ij1M9oceevvzlj9t23bYvv+quXcejo91pM9udf33Tfvbl6eLj7eKu8n7tHvY/+Vv2D71JNWJUh09emKwI3nVDHx5WL95pZUaqmlY7oJtL+1PbXH/mPY/JJde8bXdxqG7tVL4yM40MuG/5cq+ecXhZ48QgVfVxNRGCL/4vv/iFB8dnGmXiG7iyc3nPNzUqccCWXVeZC8Si2AOI65fr1fHZ0f3VWXt25nf3JsdLP9lRhAoQRRkghUqHI+qCJAJmx5zELYTQpUrpsDovGI8BB0IPiEoF7hPGFFBHSCoc1MwS1znTkkxyxwxDmsotlLsk5AtQDjxaPJpuF27MAZ1hgp1jJGE0cWR8phgmGx4hvat+SDeGOA6+VUg2UwpDziVHqMezgcJJK6SSlAcAIAEi0oTiEUnXzU4FhN3xKTAbQ6ppUFQHsjharM5WzH0zM8Dd8f1jrbRw25/d92and6yc140B2tEVv/trn/yZ/0Et+vZsbVu989GPfubd3/mupjnUF+vv//3V3cXiWU/t8R1ctV/4tdUnZrvv8dYgHj5eN4RcQd+5vWv13aW/dNX0vWvm1XuuTKdSNd3dS7vfamquaqpMZXANoKzolhpR8ykpLdDa9t5tPnrx/o//8I89PF331pnKPH55731PX7r45M1mZ4aKu36tQSuthC2BeNd7706P77bLs8XDs0qTTJpm5nzHGomIvChQGpV23ofeUyCWRYF4RC1Sk2ZBJIVIHLxehF5A4itqEAm9UAglCbwAKTw0hZHkeJHSK5Rs4NE5XdFZHxTgwcGU3PdZjm8CBodVpeHEEwQQ1CNlMZSTg+OLazGfYe9m6QBNnFgyNJQcXCwW5emU16hk2NwkLOGMAyIlJKQ0KwZib9l5qucNEejaYtjACNJMKuu6tnW2d+x578r8+NbDvutr4/v2DNApQKL/f2XvFnPbkp0HjTGqas611v//+3b26dN9ut0Xx9dO4og0gsRO2oIIqS3HeSASKEgYCZ6MXyIZIUTEA0g8IUW8JBCJyAIJRBIhQUQIICGIjIRQnNgOxJfY3e2+nPve+9//ba0156wag4dRoy5zrX1MZp/+91pz1axZl6++calRVSHAMEX5/nsvf+JrX3jr8fD1X/iZv/3v/1WI+PrFd37l4em/+vf/36fvfm4zXj59h37xXw5/5cnuO7+xOd7fzh/f/NpvhqeflWfLJMEPb41PCXHnkofNfgmX4VvXLjDCQjsMV5t3Xk08Jdlh5Png3JX4zeQ2zoW3vXciS+S7672b0+/+/f/5Ox+9ejgekMU7/4fevny+pYt3PucdCy7D7pIPe0GYY0rHW8bj/v7h9UffW25fSRTnA49+90imhwhCjsh7nxjF+YETM2t7jggJIDhMgoAOBASJgXS7sgS6Gx0KQEYhUGJx2f1JDKj6qADmBZAg0E1vQlbDyhcjJiTbvyTvs4mF9OxDgUa1saDK3g64gHWqs0dkC9pMaVUXBujvQGU98+CiOfY7nq3hzeaj7/2ltp8qkSPSWWIi54dxmoVlSYxALuwuBCQe9yi4sKSEFAakAyE6R/vbB0LhtPBy9KMDmZZ5H6cBvP/o+x+/npdnHn/u6z/ydy628e4+LtcPDP/xL//qL3/jT7mwHYfwxc/hL3xj+C+O8eVrn8bgQN6fvAMJnzw8u3AukCd8veeJvGN4xtHv5ensjzNfXHmM4GSeZofDI5EgOL7l/c45D8gpLYdE8zR877//G//Lb9ztDymlQP7yYvtnfuzi3a//xPadd5BuUoq43NG4Pcbj/c39wq9SdDevbjBO+5s9LyDJoSMJyW8johNGJPKIDA4gYD7qHQSYiMihQ6dBHknPS7DF3yBiC+gwq1YuI1KAACgv4BQLhWyOWs1dpf2nm99qUtPnwABpCDQDqFFJOxQWrDVuUgsbNSd5I+IRdGpBzuQAjW7R3+9+wJoTnvxqgAbIO7Nw3tU3b7MiZoJmsULkXRjHsBkF3OEQcdi5zQUOW3FDFBeZloQMbnO54TlO+5kIdBFSjEuKE+Ey392lw/H2wxff+tbHzsGjQb76538qyXxMh+P08rc+uPnm3/sNiZMDuNyGLz4ffu6nn/z4D1+9fUUhLQ+IH8/y4jbevNojJ/9weCrTu0/cQ4TXr6ZAcJhl2ss24Ze3/rPePQ4D0bgZxs+PfkcUAEkEmZ0T/4/+03/tl/6bj28e5iUCUAjDX/z6uz/wZ/705Y9+zW89BgCaY4rzMr98+fJ4PLy+vn35/nuHFy8fXtwsdwvPECcWIbfZYgjgndsG0Kk2QnTkxgA+gCNwAdEJeHLBOU/knPc6ma4LuwGdhdU755wj0niSEmmPeT7JDCSqxg+avLZ5laIKliCTM955Y86Vjd5/qe4l21ypLiVpnzBW7jHYfijD4+TXfoRgofGMPHNG6JojMajmrwKmkqqeoRuACAs53FztKHggtzCKH/zFVbh6HNktiyQmCuPu6aP5mBTqzrmUOC0LpAXitL+5pYeH3Xb79/7r/yPyAoS/8G/9aQwEniIf4nz9r/9H//vx5Ws57J3IztMf+/L2j35p8/YWn13S7jBfjPgQxo9u+XB3GGHxaQmUkJeti0tw376DQ5RpSbJMAy3HtIAsGzlSmjwvkBZeJkn7b/2lP/dT//b/eHucl5QEaRjGf+Vrn//pX/z5qx/7Wrh8jI6FH5ZlOvLm5vb+4fbu+vpuun4V7x/Sfkr3k8yLbq8IIBQIgnebwW9H8oSO/BjQOSDnh8EPA/ngQnBhcOSc82q0q1Wu03fOEWJGJRFS/o5l/Sfm4wwby6YBH2JZmHmCWuz/W9+sXvviuDfY9IC1bwTdbTh3nWikXUaNc9PqIbXkOZVKluLGyh8EmGvASd4g3dCaHbqkGhS64CkE8p6BYgS/2Y1Xj8PuEjCwuDBuUqIYgZwn70Hn/UAExTsJgeb9Ybdxh9d3337vYwR+ezv883/+n3GDE+IUX6bl/i/80v8VHx5gfwxJrkb6E1+9/Nl/9tEfecs/2bltwMMxHWYWhON+OS68wRQeDsMGjym9eHW4P8zTdIDj6+X2/Xh4QfHWza9h2WM6Sjryt/6nr//Yn/y5//Z7S1xYEhIN4+Zn/9RX/72//p9sPvMD4eoJOmHZL8tyjP72bn51Ew/7uP/ker47LDd7vntIxwXmRJziHGNKLiAGF0XAIQ0enRMBRBq3G+cdhcEH73zw3gsSOo9q/ZCt9SACyB90BVIz1VONbjAvu2KLEPNmDkZ3BkHJeM3LRaFJU4S6wbAh1dVc4gp/JenqIK/8y7m5q6LHSrWzpT5S8No+kTUehOw1NUu+TCnZPIAAZ50n7/1vT+tsh25rFIID2h4PCyeZDsvFk4vtk6dpPi7zTLRMhwdyA7PG5wMiIxKzLCI0ek6A0/zOZx79V3/5f/jKX/43PUx/4ed/8h/+3X+ceMPHOfGL712nv/Y3P/g3fnpyF8/ck6uB3LNn26133/1g8pKunpNgTAeZo2wD4XG5TItsgsQ5pNtlpo/veLz78O1nHpPAMQkty3Ev0+v/7uf/nf/gd14zLwIJEbwPYbv5W7/8iz/8R34KvPPDjhzw8rDMd4fFv7pbXtzKvI/76/t4d6QE8X5BcCQpJhZA58k5WSKjI+AkAOh94iSIzLLE5LcbWKLElJIggg/eFnMXJlAw1xU+aPN/tV8bEd18lJpY7ejMIw1ZdkzV+JmyADfDv2irbZx746JvNEXwhjTJgh8L9DoMGr6gzUQMc6Z0Gmm3T1e0FSVE6uPZ95s9wMyi2jmwgKpLhM47BubIgOA9DZshMQqn436BFP3F1aWnZX+blgVAD+1mdVsxCApEBjc4cgFS3O3C/eu7f/Cb3/zaDz67HP2/+I0v/a9/9/sLYEr30/Vv/pf/2+c+s9t+/QufbL/k6WJ7tQlXg3t+GfZ30ycfPswgFx5nconBxfQI8LCIn45DPBzFPdxPfDV/fPNwuccoMj+8/PW/+rf++q9+65uHmWAREo/ox+Enf/bLf+U//EswPKfgnQ+IiflmWR728+XriQ9xPz9cL3eH6ebheLMfBXBhIo/OQWJwDgHiktCpBUSIEDbhyDIdZ05CLOLIOUDncNGIJdGxnf8DDbDPq+DLXkQsBSIIkJVPOzYJlDlF1C43dyOLeQJMF6yzLo3QrVwKWDfJkYJIhC79yvkO2Q+KZd68/Jrlth1k26TCZnmnpTf32Cr3zJxsc0+tgVaRLXa6BKAIMHN2YIkIs+YQBi8QEwuCbHabJBjnJbEsS0JAN24lLuMFL/t7SeADMidmVupNQmGzSXuY7vZXOG7G8Vf+5v/543/xZ4DlJ/+FH/0n3z5+67dv0yGl6dvLze/9tV//ws7hj84v5fLR9suPnMPIKI6evb2ROL2+m3ZbSsuy3MtmTl+4HPdT+vgY03wr4fbbe8Dl+Oj+/cNv/u63f/13fu39Vy9iDMSCAEN4/pWrv/Gff+Pq+Z8FfzUMW+8DoUh8iNPhEB8f5OJuvjs83PAU968f5ruDT0yCsCTyqFvQpFnAZ6UnbHzkCOAAYHs5psj7+2Nakux5ezEKoAvESREIkNcd6XGwWYXUKDvRRTZGn3ldGCCzoQCzpBd1Deq8jBr2db2kNL0uBT9FSWih0e2O2H0sAJQKagCP69j39YNGib2PSt9bjkvCAuo+Gzui5uT5XCTVR5EFHeXQ5uxpRQ1GT6wHX0kYPMyJlwQUh3EM4zbGRBDjcgQB9KMbIU7RDUjBOV5iimEMLDJPPO8ndDsawiIYHN5/dP0Pf/W3//BXP09h+BN//Nlh+/z933wZb+7j8fduPviR/+zXvvgzP0R/9Nn+3Ytw9XQYB9xtB0l0uGckRidxmdNxfrT1d/MhzTEs8d1LiAd577359uPr7ScfPnp5TUv67EgOhoMPX/rxi1/6d//4Z774DTf8AA3bELbeBYDE8TBPxyldPkR8mO4P+9eHm9vpdr+/3sMU435xRIEcoeeEjlwSiAkYwTlcDouAcFycd5uLcXc1SIrTFFOMy0w+eN2DDRAZ8uncxVyQvNUISg55RDMlSDcWzDHjAnmdjk35lUnA3J/CpoMaIRViK077ZrawHt9peyIUsKzdn83ly7wkrKCt/Fdu5GTYON2leUc3JkpJGlnfmOymiuieZ5a/iK2yx7xxjm44zhwFAFwIOHrysCwcD1O42G52G3K4HD0f9w4hgUtDhDCiMEe3GdENgZcjefKb7d3L/RJ5+3i33QV+Nf2Tf/T+W289ksPy8tXhD//wW4ebx9czMMr86rc+WejvyJd/64n/l/z+h6Zlc+E2V568+K13cY7LMlx4iTPC8vjxZpPgi1fb24/3rye+Cu7dt8cv/eCPPIG35+v35/jaPZd3/tjnn7zzVRze9eNFCLshbJwbAJjjYYmc6CkCTfH++n65efHy9fuvlxcv5TDjwlvnMYqAF/GABOQJAKKAeAAiYAaSmI73ewroRz9cjbQJcY4pMiX2AQkliYAwC+iOyoIoQKCr4ShH0UP2SevUEYnuQMJCei66WlHWxdaN+WgbLPodQgk6N3ktrUQ2PDU3VGZmwDRWT92fHkTyhqsNDDO0GwLNAtzkdIfEVotoFJACeXvARENx1WOTC0AJaZGieIPtWkW8xDgvgYicC8E5R9Oc4uGIDH4IiMAOZfYzY9gkAI7TBIzDbojLDDRePrry4/j6/Ztl4kT+uFCKIhG/9bsfvf2I/OXVcX/8gS8M883FLBfLw/V8+M7L98Px9tnLRb723uEnvkDvPHdXb42bHfqR5si3N/s5TokAD8fjJGmki8eb7Zgut/hoe/HskR/dZ8n9oePN94/kx6dfZvd4O1yNw8Y779BDSomXBFvwA8blEFNMuDzsH17vbz++HlSlSBIGT0gABDigJyDvHQDBsjAk8dshxoQs03GOr+43Vxsg9KPzwcnCkgSZETEmjkmSHlynij4ROI8ASMTMzaZ2TmFp04imgRW90s6rM7Wv2fABWze3NKEkKuUb86iYWQa2ItQ7+EFBeXPKR3kSV+Bpf6+q7sqA71TQ+rVRYbWCnG2iPKDEMsTSAtn0Yl2n7RxyQmGO0+yHwQ3eDY5CmKa4xAggzns3IAOmKY2XxByTCkRABtheDpdXF/evD2lJfrN99MXPfudXf0uWfQIagn91vScX3n4+xOPtZ9+me9q8ei9xuo2H7+xx/vDl2/+3bPej/5OwFzniZ7YsKcaZNm55ddwf9psn48YTi79Z0u3tfDXh1eXoHLowAg6y/YHx4tl48exiM45DcACop2sBJdwBBhQ4JJmXeH93ePXi+tu/8539y9sno1yiOAaGELYbXlgYEb0jDwiRATEu00zj4McBfEwE8xzTw+wcOUfbzUgOIDLHNEdJQAunJJBXyZFzXiGY18cB6vEKKOhE1xMzlu0/8h8DGrId8GUHvdgMujQ4KIKxSmQFnNQYIhCRcuZEY1F3Ln6luKyDNvc/5aq6QMfI3Qdcq8DliUbHbsyuckBZLYeIngEgSEDB+8FhxGWJy3ESwM1lCN6j9zQtMQnHGILHYQzD4rxPKS1TAggCyW/C9tHF9mr38v27GOVzP/Lu4889X46HsBkA3QffuQ5yTAJ+HIVlcOn5Ez7c0nR3H+fjnA7x+GJ++Ozt8ekHt/CNeP+D7nb39CIEYcc4ummiZVp2YTg83HKi4ESS3DyIczTw3o2D335m3Dwaw867QOCAZ0GKi4D3QENiXiLP83J9ffOdb37393/7dz7+5KVP8wHEAfohMAY3boYNpoSJBX2g4PgwC0PycjzMgUYKYRwCH5d5WpYlbjcDL+wcEQADJpGFIQpGFiBkXQ0nKt91JZ3pV+iUSkVAEJglzx1l3hWwKAyTvFlc906o4oc3adob9dAFbKCRXa+aVmwq9YKHit/TSx/IyEItWdGWKwp7g6pVgdV51UxwqS8pf0QoIj+/RPTgTkKUtCQBppTcGIZNcJ7mY5z3R2EZr642220Y/DSlFKMGw7gwDATzNA/bbUwxLYsfyG92iH4+pourRz/yz/347/3j73KS3fPnQO7mo1cB52fPr+5eH+eJLy8c8s3Tx7s7v324WeL8Ih1eHeYX8/7t6fD2q9fw5xL+UDyMuzAjscjDYT/S4CIe5jTv7z0wjf4hyuv37nia332HPrv1Gz8MzlFi5ggoLLCASykicWKZpumjF6++/c1vf/C9372++fgwHR4H4YQcPPhNAk9hHHcbjul4f1yiMIDbbEWOACicjscFErkxjFcXYZvSYfYimBhFNDB5TjgtHJNwPoIKASmxbvaJeZNvzD8JIFcEEhAUfCGClNCQlggr0sCkfD6eAWzSqEjP6oss+xxC1QEbK0jvV9vbV8neJaoY0m+Yv9o0ebetnVKhYbTqGdjnlou6Mt6kJkQRBgYEcY70hOO0RGYOG9G+Ph5Smufj3cOGnN9sNjvH0cWFY4w4eO8oLmnYbWWOgs5vhvFi9/DqIc7ypZ/40UdPHt99+NoNm83jx8vxGBd2HjnGw/20cbjdDIfD/Pkn7nhJ74dwdxPnY4rTHd98eLc8jw+f+du8+8YhffltH956a9gOj55cTPNhWQQDM8TI880tv//Bq3mSq4vgHL79bMfTkCihJxFZluOU0gx+SUkDEF6/vvne977/4fvfvXn1/eXhdcDoKEyRxnF3lMFTgGHrtxtIKUVYjunhkCiIkIvACVHQxQQ0g5e02Y4jeYrJp4gAC9DCaT/zHCUJIpEICRIIApLypTqQBFTKKykqRUg9LTz3OAmzTfKVPq54MaGZHaKG1gqO0v3YCXqs4rgDhdRjPnXJRzGvVlRqaVqoVd2yyObq+KpaB9TRY8xvQgKzP44KwPPZphqfIMxaaEckjAiQligCI5IL/uIqTMc4z3G6vRMWCsERUSCHQ4rMMSKRJ7csEja74WIzz7h/SJvLR5//4S8+vD7wND/5zFtP33l688GHOuimw7JMi3P4ekpCYRckTjeff3pxvdm+eikPEpfDfrm95cPH7/FXfmX7dF4ePsfOX24Y+O7hOC5y+fbuuJc54jItL69vDke8Wy6fvH318LDfepajoyEsaTrM++v7u5vDsp9iQIyC93ev93evX3zw3cP19eFuf7kdx0ePSAakYUpyETYaqEUDeXHOJ5D9YZrFozgn4ESYkEQgLhCJg6dxcJgoJZkX2S9pYWIQi+wkREfkdYNFIhIBhakeJ2vohLwtQfaAAgK2AR6GuRJXLlj6t+C0haM9It3zFSvGV2UdUuMxAIBiJDVZVJ1ACm47s6lKe4Nf+8YGoyVPrQQhJDBLq62AwRyBEBOAxjeRQ+9dZGZOaZpngM3F1m38Zje6wMvC6TgJCw1Bw3Hd4CMAbHFZ4jB4IQfg5jkJ+edf/rzbbF6+94ITXL11dfVo8/p7UQSY/JzEex/nhVxKESc+Xj6+mKd0sV0e7dz3PxruXk7TwyEd7vcfHL/FX/Lx2Vfj7VtP9m4zpCU9xNk9uN3jbTxOn9zcL+gWiBcY9/eHF5/Mbtm7IMdlfnF9/eHr6/v9PXmIjA4Z/JiOd/M0T/d3h4cZadg9eXbx9C2ZYKCwc3S59ZsRCb0ARDcuPsqGOUnk6IJDcsKsZOeJMDEQMidEnIH2c9zPEFn3uCOxNe/oCAGRnAbdWtwYgG4qiOY4zP1FSmdt1GQmN8VimV8pugA2/vme8noSxKbPO0EMJRrZ7pyx4ttB0OO+8xBVH9LpQzYM8qK77NtEJECdE8aaEE3Z1lI7R5ySsCRmcuAHhwjTcVr2kzBvBIbdZrsb3cyJEQQgicb3O496aECOi3J+PsYYWXzYvPU4kX/98t6P42d/+AsxxWWax8vdGADTLNPBgXiARIIOlyW6YUNp2iF/5YuPv4fxGmS6ndJ88/DJ7/8+zEN67GDcbQ8cwmHhsDle0JgYHl064vFu7wcHx/v77x3l5cfxcLy/mY/vv3x5d7h3uOx2tB1cCGEzhGX/MB+izBKG3W67u3z0fHf5JA0yCjzy8vRqs/EgADP5g8S7aYoJUvDzUTw4YfQubz3uUVwEEkAXosBhTvtZogB5ZxwJZVlcDps3tAGACLKwFK5RXTJHHSNLAa2hM08G5ZklLARUO9FwW6wRc1VCM+/U40aK16pounopQKX6eiqy7ZJuqsDU3qLllr8FmmWQVN9p1qC7bXCsEnXo5e9ExCLCzJHJoQ8OcTge5uU4qeN5vMAhBBbSeFnWeWIRSeyJ3DgMQaYpiiMRID/QONzfHY77+eIzb+8eX71476Nxd7ndkUwHdIEGyQzDiZlH77zHcRhpy0kW9+5IANcIy2GSeLd//cF36Zj2m+eP/MWTXSRa0oQOx4CXl5ejnx5dws3L2+nhcIjLtCzf/eDDT66vp/kBcb68pGdPNgekzTCkMRwPC0ZOi/d+vLx8evH42WazHbZ4Afx4hItNQKSHOb4+xhcP02FOBMJC4F1C7wiToPcUHLkUQyBEYaTjkh5mmRmBPDo124UcofO2LSjpABYA0WP9EHTDuvyZ9EhKPVBNSJtXGjujCMAMvcbmwQLCVpZi+X9LlmJyXQoOWoq01UG+0RtXftTmFc3ndYIGp7Yzb+PnN5enqdPFLDRqzejUZrIkpmWnyMJADpxzm+0wHRde4vHhKAzDbqfxjtXPyqIoFRZkCD57Ht0Y4jzfXk9A9Nbnn8WFj3fT7tHjEGSO4mX2YSPLRIDoPCdUJ7kfh4vNENL8mcf4/NH2//nmeP3JbTzOwvPhcLw5BAE8zPe7q1GSe3g5Xb37aPAJPG89w97dTcfbu+NHtw8f3073h2Ocjw4WiLQB2jy+COFiOqZ4ZEdj8GF7efnoybPtuN1tt4+3/gLT1gkhHY7zbaKP9ulhEQEhQUns0Ht0ost+BCUBoQdgIZiF9kuaEgo6ckCOkoigQ0fofd3j02LHdPtQAQ0DEQDIscpkOqXkc9IFKqWZoZ7B1ZrtUP8zesqJKjAKnrGzj21TmQaL+oY6k9RpA4bvTtbLGqMrsJp+2musRvR56VXBbd7OIaenasWJxixokTklYQDH5GjYhLgwp7QcZ40YQxcAnXMOVb9FFBZOjADBORCU0WFA59BBDKNHxIfbA4UQnKRl8mGARHGJg27rDkgkhAiJSfCwoIyXxPH5I/yxr/j3NnT98jBPiSAdD8vgyLkQZpQYb9LdxeCev70bnce4XG79cgzza5mXeZkPzAlYiNzgxpEuNv7RABeMgiGNIYzDsL3cbMft5Xb35HLzaIMjIaR5muLriT+4W26XRIMT8Ok4ozhBQjcQAAoDiyAkFHQuIT0c434WRkKHgMBIzAKqerruUEMgEUEhJNM+FbnknPYD6c4uIMLVesps0poODVFK0QwQwGaiRCo6DaMZAr1fqdUhOzh5M7dP6XNl2XdYNQbOuTR02KVqlFTtfmApo8MGGoKuPMEGo7oVIIiTOaU5JhQ3eHQUNkHjxtK8LIBhBPTAS0LvXd4RGGmglCDGRCKDxwSCnFDk4mpDKCktwZFwIiB0A6JLCSgQCnskEkFB7wiFKIl3Q9hsHMI7MO+G8OrxxfX1cjxy8B7RTRPsIT66HIj57sV+JAmjO949xOm4Py4c4+Bhu/HOb2UJl+PwaByfX26vhh1Exy5sN24M/vJqc3E5bDfDxSaMJCSclpREbpf0YpH7lKa4DEG9w84RhXyCB6QEwLq+jRbwMcoxipATYBEhQt1hgbyjkBcWZwc2arASAKDuPIIWNodkCxq0G8yuN092VsM6a6VyDoIJeL1hK3kRTBmtSJGCt8Zd2mRtamvjqIdithdNtpPla4x2SDyfymy/4rLXo2Ywr+RssFskAwBYxZDIOR88p5SWGGMi78IGXAh6PhoAp2VxAEhOUtLVAYjknYo/YYF5iUgoMzoUNxABg0MIKOwYRSKkFIls9k8EAJ0PkFgig3dpWkgCBXd1eRFc3Dn/7HL34iYdJiHAgYgQHAgxycTzQ4TEcYHj/TTPCzAPiI93W4btZhgux82T7XZHuAkByDECDoP3NGz8ZvTbTfDMPMd5iQyyX/jFBHcLT8sivDgIwRGOgwOElFggJYYcdEQLC0SZlrgwCCI5UiCygJ4wB+RAzWMiRGIGIPN9CudwEJF8CGJWwSzo0XTEIqNPpa3ZIbaIqe/YlrjEcNzyVoZ50VAtfEOB601jrQOnsime4LI1wKGB8zmQdk4EbB+ryYtKkAueoUyiAYmIPngQWVDmaVmmmZn9KGEIzntEyBj1Aikl9khI5HTHkuBJCAFYiJa4OBHiRCjMyQEjAgSKjOgJIfCyoIgPnhdhFE8EgpBSmmYAQvLAElnQhw3ic6GHo8QFCGnjwZEQQUpxf3uYj0DIx+O8zPOIOFxsL2CbGDfj+Naji7eeXF3uRhB5uHu428+AKABpScsMMroUeUlx4rQAPCS4n1JclgGT3wzeOUyAIJBijBrCCcgoIAyCiCklFvHBLTGKADrHmJeak3e6RJMAQTe4U+VVtSx0SGrGknqitFuEUaREjfde7mw+NAvPC3dmumzR20jxtYCtuG+TSp4Gyne8/ZaD/Qxb1TST+q0dNUXFkPw0WBrbE6f6aS1gvimZkX1FqI5BG3MiopGMIuTIhyAAsERhSfOs4XjOeXJqlXIedEzoUEDIEQig6MErpJtQCCdEIU4AQgQcEyGjo5QSIKL3AoQOQGPS0HZqjXGZkLwbglsAAWWzdWHEeQaOQgKEMQk4h9M0HR8OzsEyzYiox2yM4zBshquL7eXgrnbD7mJIIseU0mGa9hMi8OA80pGSDOg8MsiU4BAjJnEszvvgnSROHJ3zwojOQ0qSBBolXgAA1SQi0JOMRXdgoLypogAiARCLCCDrkgXQFZmY+aEoewKgYT0aM6rpELH+aPyDJv+oemLWCSpmWkpulM41bKHsDILYTXVKT5k9W66hX/bTkbI2wMZWoc7GpWTDD2wcQBb0mT4hS3kTIEQsLIDMCUCQyHsPCDGyCKSUZInM4kSccyTggs8lYI2BJESMicPomdPgUELgFEWACMUTgiwLBwQmEAYmEoDIHMhpcxMgOeccATDGGSAgAiFuRs8DpolD/iUSgPByPC7ERw9LmiJIIqLNOIJzu6uLi924G30Qxjjf30wL4H4RCJ4PB0opRXfco8cE4jwERoiJgcWBjA6BiAXjkpzpdITCSAKpBBGLCBABCrCeaYg5HD6vLHbWhSSCDJIXxOh6bzRLPO+hbLHI2UrOxFO0vmzptvsdIOZjFRArTkQASLAFjumv5clO9FcQo5k2+puHduLTtONyBxox3V6GLbEE6uy0EVR8S6UQ3Sg5Nbl6gOqwFhIhZOTEzEmEiZwPmJIO8MRWEucEdEt2BAChTOoMLClG3XOU8kJwiIKsAm30EpeYAAUikvmqISZBYSBZFgbwDgWJKM5zmpGcQEAh58lBYkSgGGMCTrwcOc1IyQEPwQN5coTejwgbRw6YHBym5f4w30+REchT8ISJIUXyPi1pQlgYyKEgOkDnfQKIiSWxA+AkyMmRQ90diEBSnhQ2wxqBMINVbEbTOaVP3buB8/YDwgyJbRUtQT5MrgjoskTcuM7ku3IqVAcP2inbpkuW+ey+s02ES4eJxhmAFfEtPMuapBbGrQIrZ7BZ0pfhVSJSiq1WMd+RaFYHiqPCBk1WP62aiEBIQiAOnE5zJGbRLUJ188s80EU4RjGby3nnPUkU4ARIzpFwJnhJieckzhGCC45TUlNX8yICZknCDOgcMgsKOAJmRgSSxMBIyJw4RXQBgDgysDAzxxmYhReP7BCD84joB4/kgJDn+XifONAEcDhOC8txmlkkYBodBUfjMBARECVWyeYUowkgLYl1C2TnXV42SDkU3qkUZEAs+yWCAAmL7hSSz9B2AISUzXZmYRFmjMwiyNoCqNvXYjYtQVe1oQKochuW/4sUlTCHRNV+LiRczaKWnnJOaDBtMVogW9EijZupHSONltDE8BlY2+QNqjMQVspmA9PMuTkR1BFVfPNa7nJ8GQKgiGNiEsfMILq2RkCEvC6Y5pTERJEAiCNCQmEASeQ8AAIhJxZATwTCKTECI0LQeSadQ4ksBBRcWgQAyDthXRYBAMLMRJhizDEWnACdJBEGTgszk7AjcOiIRDfnCN4DIacEQhxjFEwg8xKP85LmGSShd86F4IP3PgzeOUIH5FDXpCbOETQoQoCIToiARPTMMT3ePbtDmG1zGhFhsO3pdP4dCMlhtgeYhZlBVzCLCOkZXbops1MeZpC8vYtZSCbHs5g0Cqy7jlTtszFFSrqKTKkfW7B290v3FyA38aDNA6s1IgVnbf4AJ1wr7VSm5BHRCH5TQLUGAlC2mCr5SFsDREJkUo5zjgFQmFkQhGMi54gIHAozR1lYI8ViCEGbOi1R93bRgDcAAo6BUATVBNNGd4joHScmRIeAgsLiHIHyEEcBTIkRMcWIgMJCTjhJEowx5dPaGHQrPiLwnojABccOmDnFlKICO3kUJACgwfshjMF7H4L3zgUSYEHSY8NBNBLOdvoAYAAXgJlzy3HKE+iCAMKAzDnOWHSjujxTn8M9WUSEpFkeTw4REfPOIkqfKEACzMU2yquNzXpW+GTWw2bqqELqBIYFse2Fq782w2SMW9GF54NFTn1HNQapf08fLwKQUZqlvGE9f8WWj7FERBUFRv9mms0IJWRCZKUELiu3RbKPhZAwEDOkmOIS9VxDH4IGpqTEIGxb6DAAEuoZF2JLZoGISECQYmSiEtIjKCLMhIgkwnn/TBFA5sgCgMDgPAkLUSDHjtAH7/SgLudc8MQY5yWJMLOIpJQAZByH4J33fhyHYRxccBp5KKjWDJWtKD0K5P0Z8oaGgJw4KbUxi2qVDJT9RAD5jGPyROpAJEDixADCnBRWRCRgJ2070gkOFWeqLGWVSXUGKp1T2RMqazbaJkJLawUNLZYqo5WpJhPV6wfNaeALv+U0KpDPaJ81DK8r0Ak8G/eUqqdaFCmvre/KL6zcnNVQS0GEIESInN3AFCUpOvOi+dy2Tg8SEE5LYkmyvcAwBCRQ0gBmXcTsHCEImfZvS2z0u+qsnKUAczUbhIkQzJclIA6JJR+aAwTOuUDgdU7R5WlF0KkzPQKGRUSC986T9857750bt6MfvO6lwACs00Jqe5s7W81227Quj8ikCjmCMOcoGW1bUt+Ddy7opBgg6sG5GokHVdkHcoiEzjuFLCJwSuYqQCSCxLByazbTRuu/rUWNjYTsYdfoo2jPdFQoa5g28aBgTqmqyBreBOoS+FNMnl4m6itCi3OpDLkcLpKXKkkRI7nOFmuopiixSNkyuLC2CKeUweVx2ARJEJcUl7i/2292mzAOiIgu414QkFkkqXsGda6FJW87lCWfh2Sbkasr0ZRnU0gz/TrKOxvm4zEQHYp34BBEmHKlgByJuGFE1DkeAO+98xSGgI4EAZBiTIKoUtd5rzOZCICEnFJktW1SSgLAzCySAAUkAQJzVpWInIbFkguABJBn1VXvhCy1swRV28h53dkOodaydGFBcpG6ZV7dmqs6BTsAQp9L81P3SWHWawTSlkN/8u2XNUdC67eykDybiTJpfAafYBunWAGz11VqlHNJWUaNTfcWV5PaU0kxiiLEnIhIhEtLKWKS6oOAfhg2Q0hzWqZ4fDikJQ2b4ILT+QTnVP2klBJaDBkCqFmgJ6uC2FIyykuhze0vmVadPkYiqC5Gtasxh64DqGohjEAggkToxDuvNkjZUA7yEV/mlUEiR945InB56xlInOp/iYWTCAuzBRChuoJQJ8/IIXpUmJIzRKrbsyJOLXwkIode91xERMwyRgSY88rb2jk2dVTEe1YlSn9XojUfjZ2M+KmEVvBTlIgO4PrBt7RbAC+yGhjV0hdzK0GeyDBwF61AUVxJ2b7k8osVxW4rDqSDMloaQgQs5jGBSEqi76S8tyqooR3nBQTCOIbNEIawTJFTmo8S2JN32RwmREIPJITMzIkRkVl0G2LK8ZHq2QPMm0MBAehp7Lp5ArCe8KAoIt3SjfLJ6llHBkAWICJ04NAUFAQkJO+s5Iygx2Q5QnDOlagjYYkppRSXJcaYYowidVWQJDZjk5BAkBAcoifnEb3OGIFkH74AiiTVibLRnY+eI+dIp9wE1HrKujJI9YBCQYcBx+bTodEDpVElUWqnr3TSmqogsAjODFQxIFky3yq3hXVPPaD2GNa4auneKLLGqGraJdi1sq+ALWgyXdwqqK6VrH+rvaLbBSERonMuK/J5/k2IEB2BADNI4ihRGIZRwjhsLoa0cFxiSowIQJQSC+s6Z0EE0glA1TmzToGga3RyXAXnMlHemScTBwGCHqSuxdS9OPKwzuoMEAMAiEMCR6qsiI43yKFFurjSOQQQR5h9RnlSVnffTXGJMSb1OQBgIQ4R3UNJM/aAnpxD9Hp4h2T9X+18FpsWzWaUy0cmOjXoQCSxbo8juglJqwm2YlIRhVnNNIC0/NMQWkFcvqe/r3IuxATt8p/WE+QbJaMBdauQlJn7LA8zOjt/Uv9Uwa5UuIGRZ85R8qRZw+q53iJS9/vBvKMVKn1KDghndRWJAIFuFwzMICJpiTMLCITB+6CnETAnhsTgCABY4SGsLmZB8ESJM+1Bdj+rAKNcEL2jO8ADEDkQ0T02EQGEFZeIRQ0CRBOUWWOTQsuKr6yjUB7vLIKSiCAlEeaUYoyJY4wxMYva1SKMgELqCUVEEiJHBOgBfQ6FJwdI2SMvwCm7jwHyeCBHeVLN6dkd2jx6xC1nNTXHcRY4tv2dw+oFCnB6HBhke9fSikqhyt6q3xlRYtFJAAF9Q7rYoA3N9V1stzpKShXqY/Wnc8XqZ+ubpE04FNqvkIOZS85ZLhGBsCMSERCXdM5dW5SFnPOOMnRF4ryAiPfihoDOlQk8zkwnnlAg91wdxAicR7mIxrKBYozAIr6zCMmLzpIAOt01kgo2AQBYNUUEAaHsdFSnhI13yU5NIhRgc0IINyciMwuqKGIp9K0byyA58h6RBJ3OjOYj4RBBgAU4y2vdNyxPZQKByxt9Gy50MiwpoDPlirV6ZogShWnQxNxLfVc3WC26Vyuf2wTlC4LJHGnvWNJ20Vx5SOy3hoHLchTIhkMtLpjCAs0oyNIOTC9YI1fM0CLdPgWrWtCOoUo/CFnUsxNUbtMG5cRaRB9QZRawgpFTSrjodFC105ULEmcNQjWPIgQw07euvGUrkp7HbEYrgBIxoi6IQOcJmKns6KPyFziv4C1DW0RBnJjJocpyDciMullXEbSJOSVVNkBQV2+qcQMI5Bw6h+QAkcjng2OAso4qnO1+zrsBkw4wh0TlDA4AwPI2RacipSKyEatFv4RWi2xlaGddV0rrxb+093IGVfesAG7IzE6aayBUtClTRnvgrmiyUKCYwVfvdJzfQzTj0xbHYHUSaP/m1xfsq6RnpOLbJAQgMFcmJ4mQnAMfPHmnba2yWLpyiMI92w9aDGYdgcIJ8hmMrMwGIHnCFbLUxuydyGPQmlKKPgogRKRZQd6QM+sJuqGuihNO7FTxZE4sqJFIAhokACLMwMwIZAoxAaI6AQAA0aHz6uPS4ycyBJgr5jILagEgxxzZuM8mUWJWH4H5qwoeexld1NAaA1R7tcrBgrRiJ6m8bwm2wbd17xnpa69aMSjCyVUot+aBdTw0gh4lTw/lkprt33uc+voqP6GQrErYqKGQpUtWRrWtMz4hiyYdEGaYE5EztstPgqlXkPfe0SlCKc54LIVB9SIxYJnlA6hBBlnBREDdyE0hYPqAGhnWS9YWSsVY5nrVxEvJ9IFUtJvsq2XIx3hnBUf9UM4cAWgnZpPoso3GnBbJsZ6l0/T5ChwAPTI+txczWPhS9R5VMVYK1rGcKY3GhaVPmxsqvpvZ68qBHYUWVJ1itETUr38vd1r2wUKuOXepUVHVis9/85stRKusnbOnG2JTE8GsFKt50RZKMj1nKjMgglpZVB0VSKBbXrO5z/NmgpVGGx2YRVCVxaqtoFVaUW4VFcmjIQOqYoey01uLZwYeMIBQjngGq1nudEJQzVCAEa1R2WYsBLIPVvPPvIyoXlZEJBLdgl93mOPsgEJTyLOHoyDCoNVUTwCyOsE6A9IpYobMgqUan1SWr1U2bOW9lB6u0O7mtDt9tAXbmzFaD/KS9UOdemBIbFRPyJqpNMUo6/h6swi6kvXeszzks0GSDXkAaXdvLo1AGkDPjEhAjJxHRuaIHD2OnNgBiatz+tmHola0AJcRg+1QUdU/L9IBFZECre6Vs8uOzwzjXGaV3yAAQijKqgg2nV3EmfrSQF0ROidOQLkY2c2t2guoAomAOucE2SMGeQ0BIoBq3KDeMZGiHWcNBE31EqiGrzVBVkKbrhd1olUTWKCrunZ1gzXro8zU0vRZ4RYBUO9e25kFi3q7mejvjK8TI6m9sGC0le999vYZTzEKjXQ/XzYoNq2CA5ubXEjUhqmupUFy5MQBgB5kYY9mcJdF3doHgExkS0ZtbKk6kfHQsIuIlPMDbDodlMWyFtEsGbcp8zoM85aRljll97zpcwLZkWBZge4tkycEDFUCulmXDrsEoOPOuFAnn0Q1DcwLtwo9Nj2MmpIhr1sCkBwpmsuXPf82cnSImXWfO9VYyXoLS3OZOGyQ29BYmwlAsS5yMsuuBxEa6Re5jwDSbX2DPeZa8K0TGMVUiBUdtMw12augjOLebMsILl9E2FZmqsveSEJMS8wFIXImxdh2bTF8Z10xo8tyZjGCBgBAATY/mZTTbI3zdVN8yVNCuftdVjENoLYIBwpkJCkpZS0RdHrHlDe2+HXrX9WGQcP7Qck9y1AWEZ3fAgBAAuGMLVUFshWZzaZixgIYg4rk3f3zuqPcPUime5kSbAI7d1NBr6LIVBRrxl4093y4xs36TgVym2NzSft7fRvi6rTj06twZyX2Nn+s7J0DSvRGXY8i9j9sIpXNEVF+BABhnX/RrkODqxWjGazFba/ZF3lUbbFi0SCqJSRmpGoXEGFeMCEmgkytXL0R1MUtmYKRkCycyhCugVW67yuIgCN0ec92yJohCwhj0Q6NrCSPsuzVtxxRAPQgDshH8whkj20eRcaYZdvOvPux+kyZkwK1dB0hmduvJMqToWY5VEFXFUuozVl6vRrBpYntJoKtBK4sZGyFJwgrgOooq/6mly/fm9/XISOlrNLgoJQfS6HMIV4+YDV1srFd3EkZqHawt4jhk4p2BcKQZSSYRgioK+JAdxVEAGLgyn+5OfMu6YU0MytnSx4BABzVeTaTT3llPdW2Lxdgjq7WQwnYXNpZnOa/kgdD2UxGF/0xM7CY/W7ahRlhojFHqZQ4N3XhMsmrqGp3YjH3dDCbCFL/PHNetolVXc59gpKnPhssIBTdsensN5FdHSDY4MvUjDw5gSuMGrOcZteh7pRW8VQHbcrZiI/6srNpM0yzNSjSlM7Mu1KZ3P4I2N1VjAoxFgO40XyLlBdd14jFYKpjE6v/rszMmTfQ1OIizYo6j80LiqFa65bbVDRGOJsn6geC7JOybLQRRCAHoEgeEylPOIJwlmKquKS8TbuYpaP/Z62LbqNQlKIcZ1MUhFzZDGUz3/NhXZC0kopOsqhjUCI2sSMNUou5Y3KmOKUrXEqLmPrey+1W/6yMWAVw5QKzjuurzoMWQRn0jDrQ9JA0t8utThmunzPesqlpL0adK5RVxvaxwah+sJStBl6sPFUEiREAUraHanCXAQVWLViIydwLtZvrsEODD+TerQqI9aX5cMpugQKQEaBZAwJqyAdnQ0SnumMhJbJTWgV0+65sOrENXgaNIs3zeGhbKIKRjKvmWSehAFjfWEpC+YTOzDVK6aZy5IpAQ3zQmlyta6jBSGYf80y0jdYBybgnt0wrxIuArf1Q9bTV5d9EuOeutWrS3pXma650tZZs5EtN2hiIhsGq0xmllkGNVTwWAOUgTHWP2nC07YG7cpr4MReGEbz+Zh6d3OciqiIICAoy6BZdqkeJQLFUJdMn1j4DtMw5JQAAXSjKbPQIaiMpvCwCU9TQy5t45Ukjp+s3EczgK9qV1dNGhbaciCRzG2WLUDMwLGNhTUVnnuGQ2hDGBwjVt9Zwh3V9J3ZaDqlIKJLXBFIptfWzjdY+buockXpoOnN9fQp4pWfRVh0QK4cZUFk6dS8y1STHUBsKu5hq7dYioIvFLyb18gw1E7e0j9SUTHkCqWnpItSav1hqI3ksCLAtL9GeVcpQQGZo2k0w61zQFldC5qpivxszoWRTPaOOS8QKGetRvtSRWhirXGQBSSAgoPa6xiIVdFrMPBG5HK/dQTMzttFnaTwbwtoL1Rlqg6tturbzmw/SAK9R8bqmb1TojCXIPNthzkT8qW75BtRK+9Pp1ass2pOqmRbTswrq8kxtoKIWtgVgETIAlxLkUSxIRMAgJBb0WEBtamZWHpHIqNyicxrZ3gxl/bXspsMFkaWQmddK26ozvHS4ZHVTIAMGRFBPA6LCT1kN1TcjlvkozCvZlEczehAgew+UNfWv1jaH26cSKgcaGu2cUqyttROWDGO9zFxEG51FohUJmLnZ+r30in6o0eIrzOR+7xs4Mw70tw3QZlLVJ62x9SjEIkBWQvwPkP4nJArQUJ9VV+oEfVH+OnWjsV3akhWPSlVexZBX5wRAgJBUEluDCgvrhhftpo4qV7DLqlTUpFpxDVoAcga4OXSwnK9eXCdSOCfLetu9T6qYLGdVoem2GdmciZOyrqkARSLMEViAhmqFHWUdUaW5LQZhW7AFSq1IpPsDAGgACjNrLJ+w7ShiZlCLzizXrErZcQulJwouc6dg322mkZlzpFEAzhFdi4GqHdRf9V9/okzWz+eVgnYAnGL0PKhNpba5CNP5TbTbhJNImzuYYEV7FiUvk8hf9CkGIdRZT6lPAkDx9pT5M52NgtIlkm+iJSr9Ib3rJHORmLCFPIgad0Hl+L6JIVvcWUvNYi+vg8pjSExpBEBEl99RpXqGq5KmujpZQ4xz0KjqrqiL4NC4U6GbdFUoc0p9yBIa/I0ksUQ8VhO/9KhV4qRz2+4vxlzNdZW2c6cAVPMpt1+xFPQ6Y8Vb254X5aoO1pJVqFUVoPUbNHIZ8+NQObv0nPW0tMBpWVxBiooLRGyHtSp/JrKMBsWSmmzXPFuZJRX8kL2GnQ5iMUqqUiBaIUuBACDHeSAYgnSTXjFuLdZ2cf8W1QxKxupmBdWrqQIzT+cjgkCOeM/caVNTOVkOqNdNbLRVDZ1iAXWSlVHM3mUNwJOmP7ItbaO5DjFrkIa0EFY3ABo19RQIUv60N2q2UF1/ACWeoJuLb0FZMXgK36ryZs9kmWDUjln7tRqOLmzTj5NCViflsFTY3WIN8bFny2597YDMTcClZOsR13JJo+KijXJjMCjGei6Fbc+R1V4w/YClJSPTCIuchqKEQR6oCk+T5pB5UqchsLj6JS825hreYdjXlR85cguL0sKQ18mpTC8B87m5mq0Sq9rVNEupW2+jA0CLuNpLRYdatWzzcC8Z+9/qIw2ZWQrxb3riPH9a/1UErAM9AWBtjHXP2ovNk1jFoBSLvS2BvUnJoqo9nHctKhyUCdoO9MMmB7XV0MaRFGooXGk+iNZs0PeV1RFoiMz4qKpn1SHEuLO1OvQ/LPM9OX2mVQDMpbMol0rr2RPAbFulFkUCy6ZfZRjlZoJSQI2rL8H1uUUQWnQWqmy7r2O93hKR2q6dCF+Z6f210njW1ylamjvoAU7G0Kc/39OjeffWUVJnctF/e66UZtFcFX/tM6ZHNIO5PlyzVwGcEZ4zLTZZGTKqRHS8UOZIM39VNsvaga1xNH9TmePOQIQGHF1T5czstfazgBp4JEUbQ0NNrmx2UGaoWay7vks3BDMZ3Qwu9RwAQA55FrapT2nQaWO3Z5WK09xKWZuylI1YkpxPNZKq8GlzrHZP6bRV+zRXdUEirIB0etLcGbj2t6T/pdx8E+d2v5oUNhJduwrKaJGasNTBBsOJApClIxAQZ/icSjCpGmTOAi3jDM56s3kgU6O0DWcP9lKtyj8Tp3lHLqjqHAJwTop6Vntbk+yMMP+ptZwVzygd2yYANo+lin2lS3UrqdVn4zU3iEA33HPxi3JuH3ueqHd63JWydzeqpt6l6b4DlH56I3iwDRbpMfoHX83oecMrGt47/bG1Z2qJq57XsCX2xRPbFqfn8ozIvC45GwQapiQNqivltXbKuToo7xWby97ddh42dxABxbxdoPjNWmmd1y5DrmCs5IvVjWtzLVJkMlYDqBK2aYuSGxsK+xY1xBwTpUqlXauq1gj02h+rDltZ8FWgY59F0xFNrmsRXJOuophP2PFkVWfp+vXVPokNI5wh8zZ9AXCzMWPJSvHRAaCUt2kgLLaqwQH7Src5A+gGdk0Jq0ZYkalSH4v51NUgKwGl+bsqmWlT6Dw/WM/FECt1lX1ZUmQxbggD8zYBg1TuFBMIoiuV1YfkSqh0bs+cvIibxm7LGgIUzSCbctjWpM4yrufYmoYtzSuleaVm0T4i9YkO3G9E5wqabaZtim6H5VKFFtLNCFnPy1pK68rV6+qE1ppAT+HeGV9FGEnRguyv2ThF4ct2VaMEI+RdSbDJr0o5zDM5mailIQcsdITtcpZWtDS9LE09pBZo9UiNTKXyONZhKQ1tWflzWdEcmjp9hF23SCU7qM2RcSk2uVzKjVAix6zyOjKreXOmc7WoHejKRKYJPMjt1fxc9RZ793mWbTq7bQDEpg3Rdljux0X7YCnQuR/7vE+iUquJUCRzs9JILPMmVtYskDp2rTJShXJhHeOGArr6WsSqcWNDyibibcUpZAcq6CDL5GLLTLGEP0FmHYOWtUamF8QGbLWbVH+kRqz39FIFTWlWNHMtT1U2wft5DEsBk4n4bFMBNLBtejTTvNhIrc9qx6CGP/biQokT642aaZOwlzCNSg1dkjM6wAkj9ykyZYuvX9f5NOlNpP5BxvoZsuxvFpRVX2g3Ik2J1xTWWWDrits1L62QEeicLcUFZC1mGRa3FJRx0xcQ6yhTxNusXf5eyi/Qu8lKqYyroJ0IqjxUhFVpBYDKzNkMOn3MWk+KM8Eos2iuULhYzaAav2/Du9axCD2zq06r31JE6b1eqjfdUH0zRgr1oU4NwNYd3+RRRp8ltJ98m+ZNAO2e6EfayRNnMbrijaxTSm7G3mffpi6eGOtNMXe7oaMScX66El/zXiy/5WwLhFSlLV6VhmKw6acyPiuhiA0PC14u76Zcsqw/FvO7dnnpiG60FERThWYpsIFNLR+DZpXsVeTbgF3P6qyvXknQNM3Aru3VQOOk7xuCroO+uKFAikxqnnkDOu1LFnn2TLeBLZyDN9gDAG27ni1yrnmvhLQvsJ8zRpu0dZCjWSAmwKpsh6YXsOLFpPUZJaPidtXjUOyWOmwbAwVLRdDibVft2iwcaFrGClo6zf6zcSWWvc465oGWn2s9SGIkt4ZSsfTNUrfKr1ui3DCtrukshBJX3kx/l0HZjQ99zKi+ji5s4NZTLbTabRt7B6fXORHflNV336BCS1YpsfKV1Q9g3UNNTKi90nhmXYUiwe2t3fSUDsfGkLBlRlaMriolNqFgFIvxBCLnZrvalmlGZ9crUItXRziWIVa8/2hqXAnmbfwK9dGqSAKARctW5lGaLehshidYE0ph3yrZjb9hHX3WUp00laxCoCZrEA2l+EUfWY8OMDqpoxvXrzspw6oHsP/9nOjWDtSdRU7Y/iyNmspoCU4CTNvStm1vPxr0rL0suyaMomr6iBW3AmJbceVcG/9AiQUu7WNAySaOib1isJ8byBWQIg2fNBpGbVWs8OldCnX0gslrKGOgyIhGGtTyWPVrn3XSQv+tHtIiQU8v6Z5qdJMz1bZcqmjHkyYyIlr59vLf+i8al5S8z5UOmmYu7VrbrmlkAEG0nUV642dFOJ0p1yRTM09qfuUFlT2bEZstneJpxabyOTsFdu5JMeFYrCaWykOZww0XlZxsy7myUjhjMyMUq6GDrVivpTb6KxVp0lah0UOkahL530aNLKZ7U7v6HjEtuDSgnHZFmehpNDu0TKoT58Tx3vRj/VDy6wpf7DQo8OyYs8g3aWRyIwDr+6rMbPq2LcHJQ6cziliIy6+qUoZSi7fmwRrmVO1PE42G1TNroEvC/lb3AskYrRooFoxmnSLTTnHXSI4DaYZjcfE1N6sXqR97CDm4NHNhpstThhULJG0wVGzkBgfl+bwXeBkfpfOqMlsfWYnz9dRLi07smacoDY0jslSu5f6mD2p+ALVH6hSCqcX2/9Z7lvPthGNrQ3S47PDa4vn0epNrCOshCvZsQXIjWPq6Y3343BqSVSmk7RPVoSzripW16DC6EitPaWwx1rGmbFqn5WtLJoVzDaIrXjxj/Zx8bnoHCpAqZ/YLlRELkwM05tVqNHZEaapOS2zYKV7ZkVSjVdsXS03RCJLeQQRZKTfOtGewLVv53OgscgY+HRvXxmhxWfxcLV7eBNGsha3QpJcvKar00lsnaVuqayvUKqbSJWzuNps1NPUt3lVsOkzJqt/B17YSR6j9gYYGKWaqWcZVudHhjwYbbGincTth0wBKVIVsWs6qdqktOin1ahf7dTRtxo02s+oehmsxb0IdoeVzY7w3uNOqaQ3b6TNpWrJh865dVywAPb+WRisDsBSkeeqEb89kmzFQIyb0zwnj1eykFOUUo1XEQ9eq/fd18cCqkKtWGsG4by1aum9FBuCqyP2bi42YESnYCHetc0OQbdWkIHFt2LUivyTuiVo7u7iAzJOwqkLmiFW9Ti9smKiyvRj0dXz1hWnw2grsVgCXAHjr+rUZVLytzag+qYJ5lbE0Ztcm+QUN6ppKwbpXa6L+gVbKdt66U7HejOv68fzudidd3hbJ6L8xXwyjtbqf8nKoSGhdTb2vqb2HfYflh8t4L+RadOBMWr0WdsIfzW2RojcXHaoxba0s2PYBNvZSX1e0+p6K9fbFiivpb+QaNHNmuXblbKQ2m66EFZ3SCfGTslk+ltmq+M1XxFXl8Myn7td+ZK2I7kzAhqWziPKTvH2Rd731CKvWbOsPTe+U/mllcgvF/l9Z1VFgDVJlrfbdK+wZN+qNPAWOdSVcM4+RA4rBXP+lNs1UAlbKbIZ3X9rKTv3oQ2OvMk7tqV5iSSdrsWmUxkPZJIa2PbCg0+psqayMq6td8tsVoFZfYA31mldXv2qyt+O71eoLFsX+vKlYXeOueMgs634wI0DZwjq/+HwG5RfErmfBbr7x6t4p65yLxDaLGI28TSr1j1TSlFLlleqUn+50/1LKnHeWZ+U/MNIrbkbMo734y2tDmNeo9LuZ/pTfgGs9oun2Sm1nGqRBJ9artG+WGwWdxYtgL2g9Cz2frHqoiK+OB8zQbG9J91se7esyQ18pWOeyKs/qhr0U5YQhAaCJB631KnK7gKbmaF2y1skyb7QisK/qp3wrjNzKeitIEXbFjhEAiyYzxzuYZ0rW4OhKaBlgh5TVAGot5RPaLwXHbtN9LAUxsixF7RnsLKF1OkJT8CLxWsedrPI+I7TOStEm5k2kKem6jZrG6Ii6G+1Yk1o3lVp01kip0Zuqq28Ck3xnBpIZSaeCq0fnSdULrE4uXCc9N6BW+UlhpcxdWXA2slnyzLhp/xmjxjFte7eerfxss/apMI4hEoz5Wnv3bCc3JS7tLm3gZe2XdctIrVgd6iWr3pOFUIOmiz1lDzQ+yVPCOW8M926CMyx+rr6f0mvN65veOXlzowd8WjYnNFB+FUT054TOuoLGnPV7IdF+KJ1B5+pqFATpb5evKzqpWyFbcEKdwy7EnU89ApP/aPtmlIDrpjW7GW59u0AT/oPZa1PLWqe1oGuIisVW8Ekz99ZcUvLImLYl0s0suFFmV8jKm+viw8nsj909SznQd/aZYVXf3hW9lSVrYdL4B7vbVq5VK3QjBZpuPLmUinwjlNaZrzEqpxg1YYzVxjixCtf9+YbrjanMRSC22U23E0sumYWIWB7njr7RH05emismVcq0rpG2kXta7sVW+T/aa04kFtYSZEWlLiBcA6QMLWnx9qYGXFEy2ALuExZvoNRjusXACkJg0qvPaB1s3eTbVfmNnb4iqDd0VR+w3F9rjeDNVF3FX+/WkDOJzvyCpUNXfVUSINQFP/qq1icNpsNkyIpFMUFPQ005StMitnynkME8oV8d/O2v+XNjkJgQ7VeJtCPpXCkMow0PN2m6SYET79v6S+XRM5rVKrKkFR996mYCqUnQK+v1oTWeoQKgDs/qgDmp//+/y8PpQDt/yRpgK1UZ+08NWD8le2w/nBH/RaYgNHG+zbNtkep8fDvVZk+fvNgQj6WUK7Gef8/H3lpxTmSNoRNqBt0UYlM+GxTNnQZSPUK7F5y9TGhUp09PDghNwZpx02gq5iK0t5xUzvp3NUqhPlByLADo0heUnArGMgBg3VTNtV7VWUTJSYV7GVzh2N6VVdn0/lnhjatEANWQr8OuS2WQ6WHa5n5+qImFlPSyAs8XSOoIq3dKwM0bNEPpHjjrN+25vF0YBjbXUPMrqc5cpY0yOteQyA/XV5uRXYerjsaGYu21edzKGTEmbRN16CxlxlpraP892wi5slVqnigRAFC2XyzFrDm/wb35qWz7aUrA+Z9NEuTOL9Wtd5uEHfQFSpRwlvCdsarOxBW1SQcZWJNXBxELM7XX2TbWzZKGVX3W/bIaAWtcFl3hVDjk0pU1W82dAtA2chPLEMnl76BZGrBOL62L3o6ME4/CSlZJ98+n1d4I5UxpoFECTkRNU5W8/aL0Barjo/RhIeQupxZAeKaNAU67aXUV+SCnnVmd8Gdu5jt25k2dmcwqF8qbgIKrO3LyoVQveytsjbyNn455mxbuSlYHSxkinzq6oTZ+15g6NBs5ijY/BuVe5bHGQyGnxPkGBqmC/xSdOeN2DXd50xsJqSgBp5rvP+VlOyzDilu68pWCt97E01fiCUXl2yslv6Tr5Ora/18a4jyZN71isz+WbyvCsEi0dkb1tJj9nGOROo3zubwjJ+r9OiAnfFxrVu+25vBJ3XL5u0N+Wn9FR59dY6y96sWRf6IOndBAowG0U2QnvdiM4soFNdsKIil/zjy8vrA+16crd32nH+AKTSfA6MXlycsqsBtldg1X6EyIZnyvZG5fyTWFr9nOAJkdTjVUDbBnuTPPd2mVltGmDTtT0PBVy1kgi21mLQY71kI8+9kGa7NPRZewvLOd9mwaecWa64/NwGgw2k1DSXtDvUNde50ROG13nOUcWLVyxwprglj1TwGHP0m2+t6mL3fX2TVNfHL7BElvML3O5FcAck4Lak2ZduRl8XiOj0uWNbmAepVWr28zrNHqDTwqZM499Skf2tKcdGvfMqcYLYmq5Gy95Pbv2m25yqthQbGI6mrIt9lhTb7qypJhi1F7sndAS/eIHUfYjUYjpDPXmXC7s5Lq5HX9+FkNpSLXV/2yHpTnGLojHDidoQWoMrdY1g31Vll+1sxr0QlFFpyRMGv02ZwqYAeXLre+vkVQnqKzmDZniti4d7EpV8eaRUCcFNkKckZKNyLdnjaJYazZFnJFtCuJf25tecWGlDUyTelU+K+kxWn7tCXt1sWfzqzXcSOZlGpDnENnzQtO8vqnIc5V1iuktx6ZEle/KvfZZVG1VufuNY3ZTCA25SoT3aey8kzGRcPp75+21Rq9uG7e2qJtZ57zXq+lbJ99M6hP+mZd+kqcb7jOkMbJ0z36zIGMJ31zohq3z3UM2tJJ2/hFnHTDG3JfFWnQtEVl8TLwVyCANbRPiRsbid2WvlOPeomC52625VspMFhvSoEgtg+BVdPQWckZSyeukHr6Yc3QZ+rdyIq2maT/VNhilV0/a9K/+RTYOUmR4GdLV6258wyHjZtnHSF1dsyusm/+OXl13dPdn+G1T8m1SVcKs5bbzfN/MGl27YNG/Y1QeVO8VJF+rQBq8VU+N3zSScQT4XJmuJxkaE83G750+ZxI8zPyca0g9GpML2uLUIYTSdJnANBJkpYsPpXE1511ohW8EQ0dGvuu+zQEnSGP82/UFM32i3/wVUS8wHkFb1W21h+wTt7RlJykP8lr/UPx8J9oFF3hzpSycejJGh1wKtnt0yqnfsliV4LCPOs3nyvVqZKdyWjFk29E50nTdoEntbNPHj7ZduM0Z1iN6jPvzZTenOYNZ9Xfjt7ffJ287P8DXT0xM88yGQIAAAAASUVORK5CYII=\" style=\"image-rendering: pixelated;\">\n",
       "                        </div></div>"
      ],
      "text/plain": [
       "<IPython.core.display.HTML object>"
      ]
     },
     "metadata": {},
     "output_type": "display_data"
    },
    {
     "name": "stdout",
     "output_type": "stream",
     "text": [
      "(13, 13)\n",
      "(6, 6)\n",
      "[(46.0, 177.0), (46.0, 177.0)]\n"
     ]
    },
    {
     "data": {
      "image/png": "[encoded data removed]",
      "text/plain": [
       "<PIL.Image.Image image mode=RGB size=131x131 at 0x7FBF49A21850>"
      ]
     },
     "execution_count": 139,
     "metadata": {},
     "output_type": "execute_result"
    }
   ],
   "source": [
    "featviz_in_recep_field(deepcopy(sparse_circuits['empty_circle.jpg']),layer,0,margin=0)"
   ]
  },
  {
   "cell_type": "code",
   "execution_count": 143,
   "id": "19e02cc0",
   "metadata": {},
   "outputs": [
    {
     "name": "stderr",
     "output_type": "stream",
     "text": [
      "  1%|          | 5/512 [00:00<00:10, 46.79it/s]"
     ]
    },
    {
     "name": "stdout",
     "output_type": "stream",
     "text": [
      "------------------------------------------------------------------------------\n",
      "        Layer (type)    map size      start       jump receptive_field \n",
      "==============================================================================\n",
      "        0             [224, 224]        0.5        1.0             1.0 \n",
      "        1               [55, 55]        3.5        4.0            11.0 \n",
      "        2               [55, 55]        3.5        4.0            11.0 \n",
      "        3               [27, 27]        7.5        8.0            19.0 \n",
      "        4               [27, 27]        7.5        8.0            51.0 \n",
      "        5               [27, 27]        7.5        8.0            51.0 \n",
      "        6               [13, 13]       15.5       16.0            67.0 \n",
      "        7               [13, 13]       15.5       16.0            99.0 \n",
      "        8               [13, 13]       15.5       16.0            99.0 \n",
      "        9               [13, 13]       15.5       16.0           131.0 \n",
      "==============================================================================\n"
     ]
    },
    {
     "name": "stderr",
     "output_type": "stream",
     "text": [
      "100%|██████████| 512/512 [00:10<00:00, 46.68it/s]\n"
     ]
    },
    {
     "data": {
      "text/html": [
       "<div style=\"display: flex; flex-direction: row;\"><div style=\"margin-right:10px; margin-top: 4px;\">\n",
       "                            0 <br/>\n",
       "                            <img src=\"data:image/PNG;base64,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\" style=\"image-rendering: pixelated;\">\n",
       "                        </div></div>"
      ],
      "text/plain": [
       "<IPython.core.display.HTML object>"
      ]
     },
     "metadata": {},
     "output_type": "display_data"
    },
    {
     "name": "stdout",
     "output_type": "stream",
     "text": [
      "(13, 13)\n",
      "(6, 6)\n",
      "[(46.0, 177.0), (46.0, 177.0)]\n"
     ]
    },
    {
     "data": {
      "image/png": "[encoded data removed]",
      "text/plain": [
       "<PIL.Image.Image image mode=RGB size=131x131 at 0x7FBF4A0D74D0>"
      ]
     },
     "execution_count": 143,
     "metadata": {},
     "output_type": "execute_result"
    }
   ],
   "source": [
    "featviz_in_recep_field(deepcopy(sparse_circuits['small_circle.jpg']),layer,0,margin=0)"
   ]
  },
  {
   "cell_type": "markdown",
   "id": "38ae5783",
   "metadata": {},
   "source": [
    "#### Compare IoU of extracted circuits"
   ]
  },
  {
   "cell_type": "code",
   "execution_count": 144,
   "id": "4b131add",
   "metadata": {},
   "outputs": [],
   "source": [
    "from circuit_pruner.utils import plot_iou_from_masks"
   ]
  },
  {
   "cell_type": "code",
   "execution_count": 145,
   "id": "316104d0",
   "metadata": {},
   "outputs": [],
   "source": [
    "iou_fig = plot_iou_from_masks(sparse_masks['empty_circle.jpg'],sparse_masks['small_circle.jpg'])\n"
   ]
  },
  {
   "cell_type": "code",
   "execution_count": 146,
   "id": "fe5394fe",
   "metadata": {},
   "outputs": [
    {
     "data": {
      "application/vnd.plotly.v1+json": {
       "config": {
        "plotlyServerURL": "https://plot.ly"
       },
       "data": [
        {
         "fill": "tozeroy",
         "line": {
          "color": "#4C78A8"
         },
         "marker": {
          "size": 20
         },
         "type": "scatter",
         "x": [
          "1",
          "2",
          "3",
          "4"
         ],
         "y": [
          0.380952388048172,
          0.10732538253068924,
          0.09569180011749268,
          0.28484848141670227
         ]
        }
       ],
       "layout": {
        "paper_bgcolor": "rgba(255,255,255,1)",
        "plot_bgcolor": "rgba(255,255,255,1)",
        "template": {
         "data": {
          "bar": [
           {
            "error_x": {
             "color": "#2a3f5f"
            },
            "error_y": {
             "color": "#2a3f5f"
            },
            "marker": {
             "line": {
              "color": "#E5ECF6",
              "width": 0.5
             }
            },
            "type": "bar"
           }
          ],
          "barpolar": [
           {
            "marker": {
             "line": {
              "color": "#E5ECF6",
              "width": 0.5
             }
            },
            "type": "barpolar"
           }
          ],
          "carpet": [
           {
            "aaxis": {
             "endlinecolor": "#2a3f5f",
             "gridcolor": "white",
             "linecolor": "white",
             "minorgridcolor": "white",
             "startlinecolor": "#2a3f5f"
            },
            "baxis": {
             "endlinecolor": "#2a3f5f",
             "gridcolor": "white",
             "linecolor": "white",
             "minorgridcolor": "white",
             "startlinecolor": "#2a3f5f"
            },
            "type": "carpet"
           }
          ],
          "choropleth": [
           {
            "colorbar": {
             "outlinewidth": 0,
             "ticks": ""
            },
            "type": "choropleth"
           }
          ],
          "contour": [
           {
            "colorbar": {
             "outlinewidth": 0,
             "ticks": ""
            },
            "colorscale": [
             [
              0,
              "#0d0887"
             ],
             [
              0.1111111111111111,
              "#46039f"
             ],
             [
              0.2222222222222222,
              "#7201a8"
             ],
             [
              0.3333333333333333,
              "#9c179e"
             ],
             [
              0.4444444444444444,
              "#bd3786"
             ],
             [
              0.5555555555555556,
              "#d8576b"
             ],
             [
              0.6666666666666666,
              "#ed7953"
             ],
             [
              0.7777777777777778,
              "#fb9f3a"
             ],
             [
              0.8888888888888888,
              "#fdca26"
             ],
             [
              1,
              "#f0f921"
             ]
            ],
            "type": "contour"
           }
          ],
          "contourcarpet": [
           {
            "colorbar": {
             "outlinewidth": 0,
             "ticks": ""
            },
            "type": "contourcarpet"
           }
          ],
          "heatmap": [
           {
            "colorbar": {
             "outlinewidth": 0,
             "ticks": ""
            },
            "colorscale": [
             [
              0,
              "#0d0887"
             ],
             [
              0.1111111111111111,
              "#46039f"
             ],
             [
              0.2222222222222222,
              "#7201a8"
             ],
             [
              0.3333333333333333,
              "#9c179e"
             ],
             [
              0.4444444444444444,
              "#bd3786"
             ],
             [
              0.5555555555555556,
              "#d8576b"
             ],
             [
              0.6666666666666666,
              "#ed7953"
             ],
             [
              0.7777777777777778,
              "#fb9f3a"
             ],
             [
              0.8888888888888888,
              "#fdca26"
             ],
             [
              1,
              "#f0f921"
             ]
            ],
            "type": "heatmap"
           }
          ],
          "heatmapgl": [
           {
            "colorbar": {
             "outlinewidth": 0,
             "ticks": ""
            },
            "colorscale": [
             [
              0,
              "#0d0887"
             ],
             [
              0.1111111111111111,
              "#46039f"
             ],
             [
              0.2222222222222222,
              "#7201a8"
             ],
             [
              0.3333333333333333,
              "#9c179e"
             ],
             [
              0.4444444444444444,
              "#bd3786"
             ],
             [
              0.5555555555555556,
              "#d8576b"
             ],
             [
              0.6666666666666666,
              "#ed7953"
             ],
             [
              0.7777777777777778,
              "#fb9f3a"
             ],
             [
              0.8888888888888888,
              "#fdca26"
             ],
             [
              1,
              "#f0f921"
             ]
            ],
            "type": "heatmapgl"
           }
          ],
          "histogram": [
           {
            "marker": {
             "colorbar": {
              "outlinewidth": 0,
              "ticks": ""
             }
            },
            "type": "histogram"
           }
          ],
          "histogram2d": [
           {
            "colorbar": {
             "outlinewidth": 0,
             "ticks": ""
            },
            "colorscale": [
             [
              0,
              "#0d0887"
             ],
             [
              0.1111111111111111,
              "#46039f"
             ],
             [
              0.2222222222222222,
              "#7201a8"
             ],
             [
              0.3333333333333333,
              "#9c179e"
             ],
             [
              0.4444444444444444,
              "#bd3786"
             ],
             [
              0.5555555555555556,
              "#d8576b"
             ],
             [
              0.6666666666666666,
              "#ed7953"
             ],
             [
              0.7777777777777778,
              "#fb9f3a"
             ],
             [
              0.8888888888888888,
              "#fdca26"
             ],
             [
              1,
              "#f0f921"
             ]
            ],
            "type": "histogram2d"
           }
          ],
          "histogram2dcontour": [
           {
            "colorbar": {
             "outlinewidth": 0,
             "ticks": ""
            },
            "colorscale": [
             [
              0,
              "#0d0887"
             ],
             [
              0.1111111111111111,
              "#46039f"
             ],
             [
              0.2222222222222222,
              "#7201a8"
             ],
             [
              0.3333333333333333,
              "#9c179e"
             ],
             [
              0.4444444444444444,
              "#bd3786"
             ],
             [
              0.5555555555555556,
              "#d8576b"
             ],
             [
              0.6666666666666666,
              "#ed7953"
             ],
             [
              0.7777777777777778,
              "#fb9f3a"
             ],
             [
              0.8888888888888888,
              "#fdca26"
             ],
             [
              1,
              "#f0f921"
             ]
            ],
            "type": "histogram2dcontour"
           }
          ],
          "mesh3d": [
           {
            "colorbar": {
             "outlinewidth": 0,
             "ticks": ""
            },
            "type": "mesh3d"
           }
          ],
          "parcoords": [
           {
            "line": {
             "colorbar": {
              "outlinewidth": 0,
              "ticks": ""
             }
            },
            "type": "parcoords"
           }
          ],
          "pie": [
           {
            "automargin": true,
            "type": "pie"
           }
          ],
          "scatter": [
           {
            "marker": {
             "colorbar": {
              "outlinewidth": 0,
              "ticks": ""
             }
            },
            "type": "scatter"
           }
          ],
          "scatter3d": [
           {
            "line": {
             "colorbar": {
              "outlinewidth": 0,
              "ticks": ""
             }
            },
            "marker": {
             "colorbar": {
              "outlinewidth": 0,
              "ticks": ""
             }
            },
            "type": "scatter3d"
           }
          ],
          "scattercarpet": [
           {
            "marker": {
             "colorbar": {
              "outlinewidth": 0,
              "ticks": ""
             }
            },
            "type": "scattercarpet"
           }
          ],
          "scattergeo": [
           {
            "marker": {
             "colorbar": {
              "outlinewidth": 0,
              "ticks": ""
             }
            },
            "type": "scattergeo"
           }
          ],
          "scattergl": [
           {
            "marker": {
             "colorbar": {
              "outlinewidth": 0,
              "ticks": ""
             }
            },
            "type": "scattergl"
           }
          ],
          "scattermapbox": [
           {
            "marker": {
             "colorbar": {
              "outlinewidth": 0,
              "ticks": ""
             }
            },
            "type": "scattermapbox"
           }
          ],
          "scatterpolar": [
           {
            "marker": {
             "colorbar": {
              "outlinewidth": 0,
              "ticks": ""
             }
            },
            "type": "scatterpolar"
           }
          ],
          "scatterpolargl": [
           {
            "marker": {
             "colorbar": {
              "outlinewidth": 0,
              "ticks": ""
             }
            },
            "type": "scatterpolargl"
           }
          ],
          "scatterternary": [
           {
            "marker": {
             "colorbar": {
              "outlinewidth": 0,
              "ticks": ""
             }
            },
            "type": "scatterternary"
           }
          ],
          "surface": [
           {
            "colorbar": {
             "outlinewidth": 0,
             "ticks": ""
            },
            "colorscale": [
             [
              0,
              "#0d0887"
             ],
             [
              0.1111111111111111,
              "#46039f"
             ],
             [
              0.2222222222222222,
              "#7201a8"
             ],
             [
              0.3333333333333333,
              "#9c179e"
             ],
             [
              0.4444444444444444,
              "#bd3786"
             ],
             [
              0.5555555555555556,
              "#d8576b"
             ],
             [
              0.6666666666666666,
              "#ed7953"
             ],
             [
              0.7777777777777778,
              "#fb9f3a"
             ],
             [
              0.8888888888888888,
              "#fdca26"
             ],
             [
              1,
              "#f0f921"
             ]
            ],
            "type": "surface"
           }
          ],
          "table": [
           {
            "cells": {
             "fill": {
              "color": "#EBF0F8"
             },
             "line": {
              "color": "white"
             }
            },
            "header": {
             "fill": {
              "color": "#C8D4E3"
             },
             "line": {
              "color": "white"
             }
            },
            "type": "table"
           }
          ]
         },
         "layout": {
          "annotationdefaults": {
           "arrowcolor": "#2a3f5f",
           "arrowhead": 0,
           "arrowwidth": 1
          },
          "autotypenumbers": "strict",
          "coloraxis": {
           "colorbar": {
            "outlinewidth": 0,
            "ticks": ""
           }
          },
          "colorscale": {
           "diverging": [
            [
             0,
             "#8e0152"
            ],
            [
             0.1,
             "#c51b7d"
            ],
            [
             0.2,
             "#de77ae"
            ],
            [
             0.3,
             "#f1b6da"
            ],
            [
             0.4,
             "#fde0ef"
            ],
            [
             0.5,
             "#f7f7f7"
            ],
            [
             0.6,
             "#e6f5d0"
            ],
            [
             0.7,
             "#b8e186"
            ],
            [
             0.8,
             "#7fbc41"
            ],
            [
             0.9,
             "#4d9221"
            ],
            [
             1,
             "#276419"
            ]
           ],
           "sequential": [
            [
             0,
             "#0d0887"
            ],
            [
             0.1111111111111111,
             "#46039f"
            ],
            [
             0.2222222222222222,
             "#7201a8"
            ],
            [
             0.3333333333333333,
             "#9c179e"
            ],
            [
             0.4444444444444444,
             "#bd3786"
            ],
            [
             0.5555555555555556,
             "#d8576b"
            ],
            [
             0.6666666666666666,
             "#ed7953"
            ],
            [
             0.7777777777777778,
             "#fb9f3a"
            ],
            [
             0.8888888888888888,
             "#fdca26"
            ],
            [
             1,
             "#f0f921"
            ]
           ],
           "sequentialminus": [
            [
             0,
             "#0d0887"
            ],
            [
             0.1111111111111111,
             "#46039f"
            ],
            [
             0.2222222222222222,
             "#7201a8"
            ],
            [
             0.3333333333333333,
             "#9c179e"
            ],
            [
             0.4444444444444444,
             "#bd3786"
            ],
            [
             0.5555555555555556,
             "#d8576b"
            ],
            [
             0.6666666666666666,
             "#ed7953"
            ],
            [
             0.7777777777777778,
             "#fb9f3a"
            ],
            [
             0.8888888888888888,
             "#fdca26"
            ],
            [
             1,
             "#f0f921"
            ]
           ]
          },
          "colorway": [
           "#636efa",
           "#EF553B",
           "#00cc96",
           "#ab63fa",
           "#FFA15A",
           "#19d3f3",
           "#FF6692",
           "#B6E880",
           "#FF97FF",
           "#FECB52"
          ],
          "font": {
           "color": "#2a3f5f"
          },
          "geo": {
           "bgcolor": "white",
           "lakecolor": "white",
           "landcolor": "#E5ECF6",
           "showlakes": true,
           "showland": true,
           "subunitcolor": "white"
          },
          "hoverlabel": {
           "align": "left"
          },
          "hovermode": "closest",
          "mapbox": {
           "style": "light"
          },
          "paper_bgcolor": "white",
          "plot_bgcolor": "#E5ECF6",
          "polar": {
           "angularaxis": {
            "gridcolor": "white",
            "linecolor": "white",
            "ticks": ""
           },
           "bgcolor": "#E5ECF6",
           "radialaxis": {
            "gridcolor": "white",
            "linecolor": "white",
            "ticks": ""
           }
          },
          "scene": {
           "xaxis": {
            "backgroundcolor": "#E5ECF6",
            "gridcolor": "white",
            "gridwidth": 2,
            "linecolor": "white",
            "showbackground": true,
            "ticks": "",
            "zerolinecolor": "white"
           },
           "yaxis": {
            "backgroundcolor": "#E5ECF6",
            "gridcolor": "white",
            "gridwidth": 2,
            "linecolor": "white",
            "showbackground": true,
            "ticks": "",
            "zerolinecolor": "white"
           },
           "zaxis": {
            "backgroundcolor": "#E5ECF6",
            "gridcolor": "white",
            "gridwidth": 2,
            "linecolor": "white",
            "showbackground": true,
            "ticks": "",
            "zerolinecolor": "white"
           }
          },
          "shapedefaults": {
           "line": {
            "color": "#2a3f5f"
           }
          },
          "ternary": {
           "aaxis": {
            "gridcolor": "white",
            "linecolor": "white",
            "ticks": ""
           },
           "baxis": {
            "gridcolor": "white",
            "linecolor": "white",
            "ticks": ""
           },
           "bgcolor": "#E5ECF6",
           "caxis": {
            "gridcolor": "white",
            "linecolor": "white",
            "ticks": ""
           }
          },
          "title": {
           "x": 0.05
          },
          "xaxis": {
           "automargin": true,
           "gridcolor": "white",
           "linecolor": "white",
           "ticks": "",
           "title": {
            "standoff": 15
           },
           "zerolinecolor": "white",
           "zerolinewidth": 2
          },
          "yaxis": {
           "automargin": true,
           "gridcolor": "white",
           "linecolor": "white",
           "ticks": "",
           "title": {
            "standoff": 15
           },
           "zerolinecolor": "white",
           "zerolinewidth": 2
          }
         }
        },
        "width": 500,
        "xaxis": {
         "title": {
          "text": "Layer"
         }
        },
        "yaxis": {
         "range": [
          0,
          1
         ],
         "title": {
          "text": "IoU"
         }
        }
       }
      },
      "text/html": [
       "<div>                            <div id=\"6bd3e9c0-6490-42d4-a707-4b62f1b68e17\" class=\"plotly-graph-div\" style=\"height:525px; width:500px;\"></div>            <script type=\"text/javascript\">                require([\"plotly\"], function(Plotly) {                    window.PLOTLYENV=window.PLOTLYENV || {};                                    if (document.getElementById(\"6bd3e9c0-6490-42d4-a707-4b62f1b68e17\")) {                    Plotly.newPlot(                        \"6bd3e9c0-6490-42d4-a707-4b62f1b68e17\",                        [{\"fill\": \"tozeroy\", \"line\": {\"color\": \"#4C78A8\"}, \"marker\": {\"size\": 20}, \"type\": \"scatter\", \"x\": [\"1\", \"2\", \"3\", \"4\"], \"y\": [0.380952388048172, 0.10732538253068924, 0.09569180011749268, 0.28484848141670227]}],                        {\"paper_bgcolor\": \"rgba(255,255,255,1)\", \"plot_bgcolor\": \"rgba(255,255,255,1)\", \"template\": {\"data\": {\"bar\": [{\"error_x\": {\"color\": \"#2a3f5f\"}, \"error_y\": {\"color\": \"#2a3f5f\"}, \"marker\": {\"line\": {\"color\": \"#E5ECF6\", \"width\": 0.5}}, \"type\": \"bar\"}], \"barpolar\": [{\"marker\": {\"line\": {\"color\": \"#E5ECF6\", \"width\": 0.5}}, \"type\": \"barpolar\"}], \"carpet\": [{\"aaxis\": {\"endlinecolor\": \"#2a3f5f\", \"gridcolor\": \"white\", \"linecolor\": \"white\", \"minorgridcolor\": \"white\", \"startlinecolor\": \"#2a3f5f\"}, \"baxis\": {\"endlinecolor\": \"#2a3f5f\", \"gridcolor\": \"white\", \"linecolor\": \"white\", \"minorgridcolor\": \"white\", \"startlinecolor\": \"#2a3f5f\"}, \"type\": \"carpet\"}], \"choropleth\": [{\"colorbar\": {\"outlinewidth\": 0, \"ticks\": \"\"}, \"type\": \"choropleth\"}], \"contour\": [{\"colorbar\": {\"outlinewidth\": 0, \"ticks\": \"\"}, \"colorscale\": [[0.0, \"#0d0887\"], [0.1111111111111111, \"#46039f\"], [0.2222222222222222, \"#7201a8\"], [0.3333333333333333, \"#9c179e\"], [0.4444444444444444, \"#bd3786\"], [0.5555555555555556, \"#d8576b\"], [0.6666666666666666, \"#ed7953\"], [0.7777777777777778, \"#fb9f3a\"], [0.8888888888888888, \"#fdca26\"], [1.0, \"#f0f921\"]], \"type\": \"contour\"}], \"contourcarpet\": [{\"colorbar\": {\"outlinewidth\": 0, \"ticks\": \"\"}, \"type\": \"contourcarpet\"}], \"heatmap\": [{\"colorbar\": {\"outlinewidth\": 0, \"ticks\": \"\"}, \"colorscale\": [[0.0, \"#0d0887\"], [0.1111111111111111, \"#46039f\"], [0.2222222222222222, \"#7201a8\"], [0.3333333333333333, \"#9c179e\"], [0.4444444444444444, \"#bd3786\"], [0.5555555555555556, \"#d8576b\"], [0.6666666666666666, \"#ed7953\"], [0.7777777777777778, \"#fb9f3a\"], [0.8888888888888888, \"#fdca26\"], [1.0, \"#f0f921\"]], \"type\": \"heatmap\"}], \"heatmapgl\": [{\"colorbar\": {\"outlinewidth\": 0, \"ticks\": \"\"}, \"colorscale\": [[0.0, \"#0d0887\"], [0.1111111111111111, \"#46039f\"], [0.2222222222222222, \"#7201a8\"], [0.3333333333333333, \"#9c179e\"], [0.4444444444444444, \"#bd3786\"], [0.5555555555555556, \"#d8576b\"], [0.6666666666666666, \"#ed7953\"], [0.7777777777777778, \"#fb9f3a\"], [0.8888888888888888, \"#fdca26\"], [1.0, \"#f0f921\"]], \"type\": \"heatmapgl\"}], \"histogram\": [{\"marker\": {\"colorbar\": {\"outlinewidth\": 0, \"ticks\": \"\"}}, \"type\": \"histogram\"}], \"histogram2d\": [{\"colorbar\": {\"outlinewidth\": 0, \"ticks\": \"\"}, \"colorscale\": [[0.0, \"#0d0887\"], [0.1111111111111111, \"#46039f\"], [0.2222222222222222, \"#7201a8\"], [0.3333333333333333, \"#9c179e\"], [0.4444444444444444, \"#bd3786\"], [0.5555555555555556, \"#d8576b\"], [0.6666666666666666, \"#ed7953\"], [0.7777777777777778, \"#fb9f3a\"], [0.8888888888888888, \"#fdca26\"], [1.0, \"#f0f921\"]], \"type\": \"histogram2d\"}], \"histogram2dcontour\": [{\"colorbar\": {\"outlinewidth\": 0, \"ticks\": \"\"}, \"colorscale\": [[0.0, \"#0d0887\"], [0.1111111111111111, \"#46039f\"], [0.2222222222222222, \"#7201a8\"], [0.3333333333333333, \"#9c179e\"], [0.4444444444444444, \"#bd3786\"], [0.5555555555555556, \"#d8576b\"], [0.6666666666666666, \"#ed7953\"], [0.7777777777777778, \"#fb9f3a\"], [0.8888888888888888, \"#fdca26\"], [1.0, \"#f0f921\"]], \"type\": \"histogram2dcontour\"}], \"mesh3d\": [{\"colorbar\": {\"outlinewidth\": 0, \"ticks\": \"\"}, \"type\": \"mesh3d\"}], \"parcoords\": [{\"line\": {\"colorbar\": {\"outlinewidth\": 0, \"ticks\": \"\"}}, \"type\": \"parcoords\"}], \"pie\": [{\"automargin\": true, \"type\": \"pie\"}], \"scatter\": [{\"marker\": {\"colorbar\": {\"outlinewidth\": 0, \"ticks\": \"\"}}, \"type\": \"scatter\"}], \"scatter3d\": [{\"line\": {\"colorbar\": {\"outlinewidth\": 0, \"ticks\": \"\"}}, \"marker\": {\"colorbar\": {\"outlinewidth\": 0, \"ticks\": \"\"}}, \"type\": \"scatter3d\"}], \"scattercarpet\": [{\"marker\": {\"colorbar\": {\"outlinewidth\": 0, \"ticks\": \"\"}}, \"type\": \"scattercarpet\"}], \"scattergeo\": [{\"marker\": {\"colorbar\": {\"outlinewidth\": 0, \"ticks\": \"\"}}, \"type\": \"scattergeo\"}], \"scattergl\": [{\"marker\": {\"colorbar\": {\"outlinewidth\": 0, \"ticks\": \"\"}}, \"type\": \"scattergl\"}], \"scattermapbox\": [{\"marker\": {\"colorbar\": {\"outlinewidth\": 0, \"ticks\": \"\"}}, \"type\": \"scattermapbox\"}], \"scatterpolar\": [{\"marker\": {\"colorbar\": {\"outlinewidth\": 0, \"ticks\": \"\"}}, \"type\": \"scatterpolar\"}], \"scatterpolargl\": [{\"marker\": {\"colorbar\": {\"outlinewidth\": 0, \"ticks\": \"\"}}, \"type\": \"scatterpolargl\"}], \"scatterternary\": [{\"marker\": {\"colorbar\": {\"outlinewidth\": 0, \"ticks\": \"\"}}, \"type\": \"scatterternary\"}], \"surface\": [{\"colorbar\": {\"outlinewidth\": 0, \"ticks\": \"\"}, \"colorscale\": [[0.0, \"#0d0887\"], [0.1111111111111111, \"#46039f\"], [0.2222222222222222, \"#7201a8\"], [0.3333333333333333, \"#9c179e\"], [0.4444444444444444, \"#bd3786\"], [0.5555555555555556, \"#d8576b\"], [0.6666666666666666, \"#ed7953\"], [0.7777777777777778, \"#fb9f3a\"], [0.8888888888888888, \"#fdca26\"], [1.0, \"#f0f921\"]], \"type\": \"surface\"}], \"table\": [{\"cells\": {\"fill\": {\"color\": \"#EBF0F8\"}, \"line\": {\"color\": \"white\"}}, \"header\": {\"fill\": {\"color\": \"#C8D4E3\"}, \"line\": {\"color\": \"white\"}}, \"type\": \"table\"}]}, \"layout\": {\"annotationdefaults\": {\"arrowcolor\": \"#2a3f5f\", \"arrowhead\": 0, \"arrowwidth\": 1}, \"autotypenumbers\": \"strict\", \"coloraxis\": {\"colorbar\": {\"outlinewidth\": 0, \"ticks\": \"\"}}, \"colorscale\": {\"diverging\": [[0, \"#8e0152\"], [0.1, \"#c51b7d\"], [0.2, \"#de77ae\"], [0.3, \"#f1b6da\"], [0.4, \"#fde0ef\"], [0.5, \"#f7f7f7\"], [0.6, \"#e6f5d0\"], [0.7, \"#b8e186\"], [0.8, \"#7fbc41\"], [0.9, \"#4d9221\"], [1, \"#276419\"]], \"sequential\": [[0.0, \"#0d0887\"], [0.1111111111111111, \"#46039f\"], [0.2222222222222222, \"#7201a8\"], [0.3333333333333333, \"#9c179e\"], [0.4444444444444444, \"#bd3786\"], [0.5555555555555556, \"#d8576b\"], [0.6666666666666666, \"#ed7953\"], [0.7777777777777778, \"#fb9f3a\"], [0.8888888888888888, \"#fdca26\"], [1.0, \"#f0f921\"]], \"sequentialminus\": [[0.0, \"#0d0887\"], [0.1111111111111111, \"#46039f\"], [0.2222222222222222, \"#7201a8\"], [0.3333333333333333, \"#9c179e\"], [0.4444444444444444, \"#bd3786\"], [0.5555555555555556, \"#d8576b\"], [0.6666666666666666, \"#ed7953\"], [0.7777777777777778, \"#fb9f3a\"], [0.8888888888888888, \"#fdca26\"], [1.0, \"#f0f921\"]]}, \"colorway\": [\"#636efa\", \"#EF553B\", \"#00cc96\", \"#ab63fa\", \"#FFA15A\", \"#19d3f3\", \"#FF6692\", \"#B6E880\", \"#FF97FF\", \"#FECB52\"], \"font\": {\"color\": \"#2a3f5f\"}, \"geo\": {\"bgcolor\": \"white\", \"lakecolor\": \"white\", \"landcolor\": \"#E5ECF6\", \"showlakes\": true, \"showland\": true, \"subunitcolor\": \"white\"}, \"hoverlabel\": {\"align\": \"left\"}, \"hovermode\": \"closest\", \"mapbox\": {\"style\": \"light\"}, \"paper_bgcolor\": \"white\", \"plot_bgcolor\": \"#E5ECF6\", \"polar\": {\"angularaxis\": {\"gridcolor\": \"white\", \"linecolor\": \"white\", \"ticks\": \"\"}, \"bgcolor\": \"#E5ECF6\", \"radialaxis\": {\"gridcolor\": \"white\", \"linecolor\": \"white\", \"ticks\": \"\"}}, \"scene\": {\"xaxis\": {\"backgroundcolor\": \"#E5ECF6\", \"gridcolor\": \"white\", \"gridwidth\": 2, \"linecolor\": \"white\", \"showbackground\": true, \"ticks\": \"\", \"zerolinecolor\": \"white\"}, \"yaxis\": {\"backgroundcolor\": \"#E5ECF6\", \"gridcolor\": \"white\", \"gridwidth\": 2, \"linecolor\": \"white\", \"showbackground\": true, \"ticks\": \"\", \"zerolinecolor\": \"white\"}, \"zaxis\": {\"backgroundcolor\": \"#E5ECF6\", \"gridcolor\": \"white\", \"gridwidth\": 2, \"linecolor\": \"white\", \"showbackground\": true, \"ticks\": \"\", \"zerolinecolor\": \"white\"}}, \"shapedefaults\": {\"line\": {\"color\": \"#2a3f5f\"}}, \"ternary\": {\"aaxis\": {\"gridcolor\": \"white\", \"linecolor\": \"white\", \"ticks\": \"\"}, \"baxis\": {\"gridcolor\": \"white\", \"linecolor\": \"white\", \"ticks\": \"\"}, \"bgcolor\": \"#E5ECF6\", \"caxis\": {\"gridcolor\": \"white\", \"linecolor\": \"white\", \"ticks\": \"\"}}, \"title\": {\"x\": 0.05}, \"xaxis\": {\"automargin\": true, \"gridcolor\": \"white\", \"linecolor\": \"white\", \"ticks\": \"\", \"title\": {\"standoff\": 15}, \"zerolinecolor\": \"white\", \"zerolinewidth\": 2}, \"yaxis\": {\"automargin\": true, \"gridcolor\": \"white\", \"linecolor\": \"white\", \"ticks\": \"\", \"title\": {\"standoff\": 15}, \"zerolinecolor\": \"white\", \"zerolinewidth\": 2}}}, \"width\": 500, \"xaxis\": {\"title\": {\"text\": \"Layer\"}}, \"yaxis\": {\"range\": [0, 1], \"title\": {\"text\": \"IoU\"}}},                        {\"responsive\": true}                    ).then(function(){\n",
       "                            \n",
       "var gd = document.getElementById('6bd3e9c0-6490-42d4-a707-4b62f1b68e17');\n",
       "var x = new MutationObserver(function (mutations, observer) {{\n",
       "        var display = window.getComputedStyle(gd).display;\n",
       "        if (!display || display === 'none') {{\n",
       "            console.log([gd, 'removed!']);\n",
       "            Plotly.purge(gd);\n",
       "            observer.disconnect();\n",
       "        }}\n",
       "}});\n",
       "\n",
       "// Listen for the removal of the full notebook cells\n",
       "var notebookContainer = gd.closest('#notebook-container');\n",
       "if (notebookContainer) {{\n",
       "    x.observe(notebookContainer, {childList: true});\n",
       "}}\n",
       "\n",
       "// Listen for the clearing of the current output cell\n",
       "var outputEl = gd.closest('.output');\n",
       "if (outputEl) {{\n",
       "    x.observe(outputEl, {childList: true});\n",
       "}}\n",
       "\n",
       "                        })                };                });            </script>        </div>"
      ]
     },
     "metadata": {},
     "output_type": "display_data"
    }
   ],
   "source": [
    "iou_fig"
   ]
  }
 ],
 "metadata": {
  "kernelspec": {
   "display_name": "viscnn",
   "language": "python",
   "name": "viscnn"
  },
  "language_info": {
   "codemirror_mode": {
    "name": "ipython",
    "version": 3
   },
   "file_extension": ".py",
   "mimetype": "text/x-python",
   "name": "python",
   "nbconvert_exporter": "python",
   "pygments_lexer": "ipython3",
   "version": "3.7.10"
  }
 },
 "nbformat": 4,
 "nbformat_minor": 5
}
