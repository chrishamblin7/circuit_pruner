{
 "cells": [
  {
   "cell_type": "code",
   "execution_count": 1,
   "id": "66f1e0aa",
   "metadata": {},
   "outputs": [],
   "source": [
    "%load_ext autoreload\n",
    "%autoreload 2"
   ]
  },
  {
   "cell_type": "markdown",
   "id": "246d21eb",
   "metadata": {},
   "source": [
    "#### model"
   ]
  },
  {
   "cell_type": "code",
   "execution_count": null,
   "id": "801e0ad0",
   "metadata": {},
   "outputs": [],
   "source": [
    "#hardware\n",
    "device = 'cuda:0'\n",
    "\n",
    "from circuit_pruner.utils import load_config\n",
    "\n",
    "config = load_config('./configs/alexnet_sparse_config.py')\n",
    "model = config.model.to(device)\n",
    "\n",
    "\n",
    "\n",
    "#general\n",
    "import torch\n",
    "import os\n",
    "from copy import deepcopy\n",
    "from circuit_pruner.force import setup_net_for_circuit_prune, show_model_layer_names"
   ]
  },
  {
   "cell_type": "markdown",
   "id": "6bc0fbfc",
   "metadata": {},
   "source": [
    "#### feature target"
   ]
  },
  {
   "cell_type": "code",
   "execution_count": 3,
   "id": "28e961fa",
   "metadata": {},
   "outputs": [],
   "source": [
    "nodeid = 905\n",
    "\n",
    "from circuit_pruner.utils import filterid_2_perlayerid\n",
    "\n",
    "layer_num,unit,layer = filterid_2_perlayerid(nodeid,model)\n",
    "\n",
    "feature_targets = {layer:[unit]}"
   ]
  },
  {
   "cell_type": "markdown",
   "id": "929b1044",
   "metadata": {},
   "source": [
    "#### extract general circuit"
   ]
  },
  {
   "cell_type": "code",
   "execution_count": 4,
   "id": "96a81ced",
   "metadata": {},
   "outputs": [],
   "source": [
    "general_ranks = torch.load('quick_start/features_10_9_alexnetsparse_actgrad_ranks.pt')"
   ]
  },
  {
   "cell_type": "code",
   "execution_count": 6,
   "id": "644beb38",
   "metadata": {},
   "outputs": [],
   "source": [
    "import pickle\n",
    "df = pickle.load(open('quick_start/circuit_with_force_and_mag_df.pkl','rb'))"
   ]
  },
  {
   "cell_type": "code",
   "execution_count": 7,
   "id": "1d97eadc",
   "metadata": {},
   "outputs": [
    {
     "data": {
      "text/html": [
       "<div>\n",
       "<style scoped>\n",
       "    .dataframe tbody tr th:only-of-type {\n",
       "        vertical-align: middle;\n",
       "    }\n",
       "\n",
       "    .dataframe tbody tr th {\n",
       "        vertical-align: top;\n",
       "    }\n",
       "\n",
       "    .dataframe thead th {\n",
       "        text-align: right;\n",
       "    }\n",
       "</style>\n",
       "<table border=\"1\" class=\"dataframe\">\n",
       "  <thead>\n",
       "    <tr style=\"text-align: right;\">\n",
       "      <th></th>\n",
       "      <th>sparsity</th>\n",
       "      <th>effective_sparsity</th>\n",
       "      <th>pruned_pearson</th>\n",
       "    </tr>\n",
       "  </thead>\n",
       "  <tbody>\n",
       "    <tr>\n",
       "      <th>31782</th>\n",
       "      <td>0.001</td>\n",
       "      <td>0.000038</td>\n",
       "      <td>0.141962</td>\n",
       "    </tr>\n",
       "    <tr>\n",
       "      <th>31783</th>\n",
       "      <td>0.005</td>\n",
       "      <td>0.001754</td>\n",
       "      <td>0.252371</td>\n",
       "    </tr>\n",
       "    <tr>\n",
       "      <th>31784</th>\n",
       "      <td>0.010</td>\n",
       "      <td>0.005277</td>\n",
       "      <td>0.301975</td>\n",
       "    </tr>\n",
       "    <tr>\n",
       "      <th>31785</th>\n",
       "      <td>0.050</td>\n",
       "      <td>0.045890</td>\n",
       "      <td>0.140092</td>\n",
       "    </tr>\n",
       "    <tr>\n",
       "      <th>31786</th>\n",
       "      <td>0.100</td>\n",
       "      <td>0.099406</td>\n",
       "      <td>0.503945</td>\n",
       "    </tr>\n",
       "    <tr>\n",
       "      <th>31787</th>\n",
       "      <td>0.200</td>\n",
       "      <td>0.199840</td>\n",
       "      <td>0.838351</td>\n",
       "    </tr>\n",
       "    <tr>\n",
       "      <th>31788</th>\n",
       "      <td>0.300</td>\n",
       "      <td>0.299917</td>\n",
       "      <td>0.964347</td>\n",
       "    </tr>\n",
       "    <tr>\n",
       "      <th>31789</th>\n",
       "      <td>0.400</td>\n",
       "      <td>0.399988</td>\n",
       "      <td>0.995799</td>\n",
       "    </tr>\n",
       "    <tr>\n",
       "      <th>31790</th>\n",
       "      <td>0.500</td>\n",
       "      <td>0.499897</td>\n",
       "      <td>0.999939</td>\n",
       "    </tr>\n",
       "    <tr>\n",
       "      <th>31791</th>\n",
       "      <td>0.600</td>\n",
       "      <td>0.599785</td>\n",
       "      <td>0.999999</td>\n",
       "    </tr>\n",
       "    <tr>\n",
       "      <th>31792</th>\n",
       "      <td>0.700</td>\n",
       "      <td>0.699926</td>\n",
       "      <td>1.000000</td>\n",
       "    </tr>\n",
       "    <tr>\n",
       "      <th>31793</th>\n",
       "      <td>0.800</td>\n",
       "      <td>0.799992</td>\n",
       "      <td>1.000000</td>\n",
       "    </tr>\n",
       "    <tr>\n",
       "      <th>31794</th>\n",
       "      <td>0.900</td>\n",
       "      <td>0.900004</td>\n",
       "      <td>1.000000</td>\n",
       "    </tr>\n",
       "    <tr>\n",
       "      <th>31795</th>\n",
       "      <td>0.950</td>\n",
       "      <td>0.950002</td>\n",
       "      <td>1.000000</td>\n",
       "    </tr>\n",
       "  </tbody>\n",
       "</table>\n",
       "</div>"
      ],
      "text/plain": [
       "       sparsity  effective_sparsity  pruned_pearson\n",
       "31782     0.001            0.000038        0.141962\n",
       "31783     0.005            0.001754        0.252371\n",
       "31784     0.010            0.005277        0.301975\n",
       "31785     0.050            0.045890        0.140092\n",
       "31786     0.100            0.099406        0.503945\n",
       "31787     0.200            0.199840        0.838351\n",
       "31788     0.300            0.299917        0.964347\n",
       "31789     0.400            0.399988        0.995799\n",
       "31790     0.500            0.499897        0.999939\n",
       "31791     0.600            0.599785        0.999999\n",
       "31792     0.700            0.699926        1.000000\n",
       "31793     0.800            0.799992        1.000000\n",
       "31794     0.900            0.900004        1.000000\n",
       "31795     0.950            0.950002        1.000000"
      ]
     },
     "execution_count": 7,
     "metadata": {},
     "output_type": "execute_result"
    }
   ],
   "source": [
    "df.loc[(df['model']=='alexnet_sparse') & (df['layer']==layer) & (df['method']=='actxgrad') & (df['unit']==unit)][['sparsity','effective_sparsity','pruned_pearson']]"
   ]
  },
  {
   "cell_type": "code",
   "execution_count": 10,
   "id": "a63410cc",
   "metadata": {},
   "outputs": [
    {
     "name": "stdout",
     "output_type": "stream",
     "text": [
      "features_10 effective last layer\n",
      "target sparsity: 0.5\n",
      "total params to feature: 184768\n",
      "\n",
      "kept params in original mask: 92384      (total params * sparsity)\n",
      "original mask: 1018231 params\n",
      "effective mask: 1018060 params\n",
      "effective_sparsity: 0.49989175614825077\n",
      "filter sparsity: 0.8249696917215102\n",
      "kernel sparsity: 0.6059516624242265\n"
     ]
    }
   ],
   "source": [
    "from circuit_pruner.extraction import model_ranks_2_circuit_model\n",
    "from circuit_pruner.utils import circuit_2_model_sparsity\n",
    "\n",
    "sparsity = .5\n",
    "\n",
    "general_circuit,general_mask = model_ranks_2_circuit_model(general_ranks,sparsity,model,\n",
    "                                                                     feature_targets,device,structure='edges',\n",
    "                                                                     use_effective_mask=True)\n",
    "\n",
    "general_circuit = general_circuit.eval().to('cpu')\n",
    "\n",
    "for l in general_mask:\n",
    "    l = l.to('cpu')\n",
    "    \n",
    "    \n",
    "circuit_feature_targets = {layer:[0]}\n",
    "circuit_unit = 0\n",
    "\n",
    "general_circuit_sparsity_factor = circuit_2_model_sparsity(general_circuit,model)"
   ]
  },
  {
   "cell_type": "code",
   "execution_count": 11,
   "id": "bd28e1fa",
   "metadata": {},
   "outputs": [
    {
     "data": {
      "text/plain": [
       "0.49989175614825077"
      ]
     },
     "execution_count": 11,
     "metadata": {},
     "output_type": "execute_result"
    }
   ],
   "source": [
    "general_circuit_sparsity_factor"
   ]
  },
  {
   "cell_type": "markdown",
   "id": "85072027",
   "metadata": {},
   "source": [
    "###### or use model instead of general circuit"
   ]
  },
  {
   "cell_type": "code",
   "execution_count": 122,
   "id": "00e1ad7c",
   "metadata": {},
   "outputs": [],
   "source": [
    "# circuit_feature_targets = {layer:[unit]}\n",
    "# general_circuit = model\n",
    "# circuit_unit = unit\n",
    "# general_circuit_sparsity_factor = 1"
   ]
  },
  {
   "cell_type": "markdown",
   "id": "a398f20a",
   "metadata": {},
   "source": [
    "#### feature visualization of circuit"
   ]
  },
  {
   "cell_type": "code",
   "execution_count": 11,
   "id": "ed59114e",
   "metadata": {},
   "outputs": [
    {
     "name": "stdout",
     "output_type": "stream",
     "text": [
      "------------------------------------------------------------------------------\n",
      "        Layer (type)    map size      start       jump receptive_field \n",
      "==============================================================================\n",
      "        0             [224, 224]        0.5        1.0             1.0 \n",
      "        1               [55, 55]        3.5        4.0            11.0 \n",
      "        2               [55, 55]        3.5        4.0            11.0 \n",
      "        3               [27, 27]        7.5        8.0            19.0 \n",
      "        4               [27, 27]        7.5        8.0            51.0 \n",
      "        5               [27, 27]        7.5        8.0            51.0 \n",
      "        6               [13, 13]       15.5       16.0            67.0 \n",
      "        7               [13, 13]       15.5       16.0            99.0 \n",
      "        8               [13, 13]       15.5       16.0            99.0 \n",
      "        9               [13, 13]       15.5       16.0           131.0 \n",
      "        10              [13, 13]       15.5       16.0           131.0 \n",
      "        11              [13, 13]       15.5       16.0           163.0 \n",
      "==============================================================================\n"
     ]
    },
    {
     "name": "stderr",
     "output_type": "stream",
     "text": [
      "100%|██████████| 512/512 [00:21<00:00, 23.80it/s]\n"
     ]
    },
    {
     "data": {
      "text/html": [
       "<div style=\"display: flex; flex-direction: row;\"><div style=\"margin-right:10px; margin-top: 4px;\">\n",
       "                            0 <br/>\n",
       "                            <img src=\"data:image/PNG;base64,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\" style=\"image-rendering: pixelated;\">\n",
       "                        </div></div>"
      ],
      "text/plain": [
       "<IPython.core.display.HTML object>"
      ]
     },
     "metadata": {},
     "output_type": "display_data"
    },
    {
     "name": "stdout",
     "output_type": "stream",
     "text": [
      "(13, 13)\n",
      "(6, 6)\n",
      "[(30.0, 193.0), (30.0, 193.0)]\n"
     ]
    },
    {
     "data": {
      "image/png": "[encoded data removed]",
      "text/plain": [
       "<PIL.Image.Image image mode=RGB size=163x163 at 0x7FF7F9FF4CD0>"
      ]
     },
     "execution_count": 11,
     "metadata": {},
     "output_type": "execute_result"
    }
   ],
   "source": [
    "from circuit_pruner.visualizer.featureviz  import featviz_in_recep_field\n",
    "\n",
    "\n",
    "featviz_in_recep_field(deepcopy(general_circuit),layer,circuit_unit,margin=0)"
   ]
  },
  {
   "cell_type": "markdown",
   "id": "5bfcebc2",
   "metadata": {},
   "source": [
    "#### dataloading"
   ]
  },
  {
   "cell_type": "code",
   "execution_count": 12,
   "id": "58763377",
   "metadata": {},
   "outputs": [],
   "source": [
    "image_root_folder = os.path.abspath('image_data/sample_data/polysemantic/'+layer+':'+str(unit)+'/')\n",
    "\n",
    "clusters = ['cluster_0','cluster_1']\n",
    "\n",
    "\n",
    "#You can run the control experiment by uncommenting the following line:\n",
    "\n",
    "#clusters = ['mixed_0','mixed_1']\n",
    "\n",
    "if (clusters == ['mixed_0','mixed_1']) and not (os.path.exists(image_root_folder+'/mixed_0')):\n",
    "\n",
    "    from circuit_pruner.utils import mix_image_folders\n",
    "    \n",
    "    mix_image_folders(image_root_folder,['cluster_0','cluster_1'],clusters)\n",
    "    \n",
    "\n",
    "\n",
    "from circuit_pruner.data_loading import rank_image_data\n",
    "from circuit_pruner.data_loading import single_image_data\n",
    "from torchvision import transforms\n",
    "from torch.utils import data\n",
    "\n",
    "\n",
    "dataloaders = {}\n",
    "\n",
    "#make 'general' filter dataloader\n",
    "kwargs = {'num_workers': 4, 'pin_memory': True, 'sampler':None} if 'cuda' in device else {}\n",
    "\n",
    "\n",
    "for cluster in clusters:\n",
    "\n",
    "    dataloaders[cluster] = data.DataLoader(rank_image_data(image_root_folder+'/'+cluster,\n",
    "                                            config.preprocess,\n",
    "                                            class_folders=False),\n",
    "                                            batch_size=5,\n",
    "                                            shuffle=False,\n",
    "                                            **kwargs)\n",
    "\n"
   ]
  },
  {
   "cell_type": "markdown",
   "id": "c03cbd43",
   "metadata": {},
   "source": [
    "#### generate ranks"
   ]
  },
  {
   "cell_type": "code",
   "execution_count": 13,
   "id": "9a5479c7",
   "metadata": {},
   "outputs": [
    {
     "name": "stdout",
     "output_type": "stream",
     "text": [
      "cluster_0\n",
      "cluster_1\n"
     ]
    }
   ],
   "source": [
    "from circuit_pruner.dissected_Conv2d import set_across_model, set_model_target_node\n",
    "from circuit_pruner.dissected_Conv2d import get_ranklist_from_dissected_Conv2d_modules, clear_ranks_across_model\n",
    "from copy import deepcopy\n",
    "from circuit_pruner.dissected_Conv2d import dissect_model\n",
    "\n",
    "structure = 'kernels'\n",
    "\n",
    "ranks = {}\n",
    "\n",
    "\n",
    "for cluster in clusters:\n",
    "    print(cluster)\n",
    "    \n",
    "    rankable_model = dissect_model(deepcopy(general_circuit), dissect=True,store_ranks = True, device=device)\n",
    "    rankable_model.to(device)\n",
    "\n",
    "    set_model_target_node(rankable_model,layer,circuit_unit)\n",
    "\n",
    "    #we want to get ranks with respect to the maximum activation in each image, these why these image sets\n",
    "    #where constructed, and its based on these activation locations that the images were clustered\n",
    "    set_across_model(rankable_model,'rank_field','max')\n",
    "    \n",
    "\n",
    "    set_across_model(rankable_model,'absolute_rank',True)\n",
    "    \n",
    "    iter_dataloader = iter(dataloaders[cluster])\n",
    "    iters = len(iter_dataloader)\n",
    "\n",
    "    #actually extract ranks by running images through model\n",
    "    clear_ranks_across_model(rankable_model)\n",
    "\n",
    "    for it in range(iters):\n",
    "\n",
    "        inputs, label = next(iter_dataloader)\n",
    "        inputs = inputs.to(device)\n",
    "\n",
    "        rankable_model.zero_grad()\n",
    "\n",
    "        try:\n",
    "            outputs = rankable_model(inputs)\n",
    "        except:\n",
    "            pass\n",
    "\n",
    "\n",
    "    ranks[cluster] = get_ranklist_from_dissected_Conv2d_modules(rankable_model)\n",
    "    \n",
    "    del rankable_model\n",
    "    torch.cuda.empty_cache()"
   ]
  },
  {
   "cell_type": "code",
   "execution_count": 64,
   "id": "78e54427",
   "metadata": {},
   "outputs": [
    {
     "data": {
      "text/plain": [
       "Sequential(\n",
       "  (features_0): Conv2d(3, 64, kernel_size=(11, 11), stride=(4, 4), padding=(2, 2))\n",
       "  (features_1): ReLU(inplace=True)\n",
       "  (features_2): MaxPool2d(kernel_size=3, stride=2, padding=0, dilation=1, ceil_mode=False)\n",
       "  (features_3): Conv2d(64, 192, kernel_size=(5, 5), stride=(1, 1), padding=(2, 2))\n",
       "  (features_4): ReLU(inplace=True)\n",
       "  (features_5): MaxPool2d(kernel_size=3, stride=2, padding=0, dilation=1, ceil_mode=False)\n",
       "  (features_6): Conv2d(192, 384, kernel_size=(3, 3), stride=(1, 1), padding=(1, 1))\n",
       "  (features_7): ReLU(inplace=True)\n",
       "  (features_8): Conv2d(384, 172, kernel_size=(3, 3), stride=(1, 1), padding=(1, 1))\n",
       "  (features_9): ReLU(inplace=True)\n",
       "  (features_10): Conv2d(172, 1, kernel_size=(3, 3), stride=(1, 1), padding=(1, 1))\n",
       ")"
      ]
     },
     "execution_count": 64,
     "metadata": {},
     "output_type": "execute_result"
    }
   ],
   "source": [
    "general_circuit"
   ]
  },
  {
   "cell_type": "markdown",
   "id": "551d305b",
   "metadata": {},
   "source": [
    "#### activation preservation as function of sparsity"
   ]
  },
  {
   "cell_type": "markdown",
   "id": "0bc5fdce",
   "metadata": {},
   "source": [
    "##### dataloaders with larger batchsize"
   ]
  },
  {
   "cell_type": "code",
   "execution_count": 65,
   "id": "4f53bbc5",
   "metadata": {},
   "outputs": [],
   "source": [
    "dataloaders = {}\n",
    "\n",
    "#make 'general' filter dataloader\n",
    "kwargs = {'num_workers': 4, 'pin_memory': True, 'sampler':None} if 'cuda' in device else {}\n",
    "\n",
    "\n",
    "for cluster in clusters:\n",
    "\n",
    "    dataloaders[cluster] = data.DataLoader(rank_image_data(image_root_folder+'/'+cluster,\n",
    "                                            config.preprocess,\n",
    "                                            class_folders=False),\n",
    "                                            batch_size=40,\n",
    "                                            shuffle=False,\n",
    "                                            **kwargs)\n"
   ]
  },
  {
   "cell_type": "code",
   "execution_count": null,
   "id": "399ac6c1",
   "metadata": {},
   "outputs": [],
   "source": [
    "from circuit_pruner.extraction import get_preservation_at_sparsities\n",
    "import numpy as np\n",
    "\n",
    "ranker = ranks\n",
    "\n",
    "structure='kernels'\n",
    "\n",
    "sparsities = np.linspace(.9999, .01, num=10)\n",
    "#in paper num is set to '70' here, but that takes times\n",
    "\n",
    "\n",
    "model_sparsities = []\n",
    "for sparsity in sparsities:\n",
    "    model_sparsities.append(sparsity*general_circuit_sparsity_factor) \n",
    "\n",
    "\n",
    "scores = {}\n",
    "for cluster in clusters:\n",
    "    scores[cluster+'_circuit'] = {}\n",
    "\n",
    "for rank_cluster in clusters:\n",
    "    for data_cluster in clusters:\n",
    "        print('\\n\\n\\n')\n",
    "        print(rank_cluster)\n",
    "        print(data_cluster)\n",
    "        print('\\n\\n\\n')\n",
    "        scores[rank_cluster+'_circuit'][data_cluster+'_data'] = get_preservation_at_sparsities(\n",
    "            \n",
    "                                                                general_circuit,\n",
    "                                                                ranker[rank_cluster],\n",
    "                                                                circuit_feature_targets,\n",
    "                                                                dataloaders[data_cluster],\n",
    "                                                                sparsities,device,metric='all',\n",
    "                                                                rank_field = 'orig_max',\n",
    "                                                                structure=structure)\n"
   ]
  },
  {
   "cell_type": "code",
   "execution_count": 82,
   "id": "ed74b14e",
   "metadata": {},
   "outputs": [
    {
     "data": {
      "text/plain": [
       "{'cluster_0_data': 19.367302, 'cluster_1_data': 19.025387}"
      ]
     },
     "execution_count": 82,
     "metadata": {},
     "output_type": "execute_result"
    }
   ],
   "source": [
    "means = {}\n",
    "\n",
    "for cluster in clusters:\n",
    "    means[cluster+'_data'] = scores[cluster+'_circuit'][cluster+'_data'][layer+':0']['avg_diff'][6]/scores[cluster+'_circuit'][cluster+'_data'][layer+':0']['mean_normed_diff'][6]"
   ]
  },
  {
   "cell_type": "code",
   "execution_count": 84,
   "id": "828a3b6e",
   "metadata": {},
   "outputs": [
    {
     "data": {
      "application/vnd.plotly.v1+json": {
       "config": {
        "plotlyServerURL": "https://plot.ly"
       },
       "data": [
        {
         "line": {
          "color": "#4C78A8",
          "width": 4
         },
         "name": "cluster 1 circuit : cluster 1 images",
         "type": "scatter",
         "x": [
          0.49984176697263594,
          0.44485922814917445,
          0.38987668932571296,
          0.33489415050225146,
          0.27991161167879,
          0.22492907285532848,
          0.16994653403186702,
          0.11496399520840553,
          0.05998145638494402,
          0.0049989175614825075
         ],
         "y": [
          0,
          0.003410594305023551,
          0.007479620631784201,
          0.015472526662051678,
          0.018765198066830635,
          0.04033628851175308,
          0.14916683733463287,
          0.2121421992778778,
          0.6029138565063477,
          0.3526251018047333
         ]
        },
        {
         "line": {
          "color": "#4C78A8",
          "dash": "dot",
          "width": 4
         },
         "name": "cluster 1 circuit : cluster 2 images",
         "type": "scatter",
         "x": [
          0.49984176697263594,
          0.44485922814917445,
          0.38987668932571296,
          0.33489415050225146,
          0.27991161167879,
          0.22492907285532848,
          0.16994653403186702,
          0.11496399520840553,
          0.05998145638494402,
          0.0049989175614825075
         ],
         "y": [
          0,
          0.03249642997980118,
          0.0656670480966568,
          0.1317957192659378,
          0.3018004298210144,
          0.402150958776474,
          0.5952631235122681,
          0.7548210024833679,
          0.9787312746047974,
          0.48395660519599915
         ]
        },
        {
         "line": {
          "color": "#F58518",
          "dash": "dot",
          "width": 4
         },
         "name": "cluster 2 circuit : cluster 1 images",
         "type": "scatter",
         "x": [
          0.49984176697263594,
          0.44485922814917445,
          0.38987668932571296,
          0.33489415050225146,
          0.27991161167879,
          0.22492907285532848,
          0.16994653403186702,
          0.11496399520840553,
          0.05998145638494402,
          0.0049989175614825075
         ],
         "y": [
          0,
          0.6755867004394531,
          0.8369429111480713,
          0.9105899333953857,
          1.056795597076416,
          1.024435043334961,
          0.9867379069328308,
          0.856998085975647,
          0.9282333254814148,
          0.8583881258964539
         ]
        },
        {
         "line": {
          "color": "#F58518",
          "width": 4
         },
         "name": "cluster 2 circuit : cluster 2 images",
         "type": "scatter",
         "x": [
          0.49984176697263594,
          0.44485922814917445,
          0.38987668932571296,
          0.33489415050225146,
          0.27991161167879,
          0.22492907285532848,
          0.16994653403186702,
          0.11496399520840553,
          0.05998145638494402,
          0.0049989175614825075
         ],
         "y": [
          0,
          0.003917719703167677,
          0.017313698306679726,
          0.03828908130526543,
          0.03562374413013458,
          0.05473394691944122,
          0.07187329232692719,
          0.0935468077659607,
          0.3865959346294403,
          0.6348892450332642
         ]
        }
       ],
       "layout": {
        "legend": {
         "bgcolor": "rgba(255,255,255,0.3)",
         "x": 0.03,
         "xanchor": "left",
         "y": 0.95,
         "yanchor": "top"
        },
        "paper_bgcolor": "rgba(255,255,255,1)",
        "plot_bgcolor": "rgba(255,255,255,1)",
        "template": {
         "data": {
          "bar": [
           {
            "error_x": {
             "color": "#2a3f5f"
            },
            "error_y": {
             "color": "#2a3f5f"
            },
            "marker": {
             "line": {
              "color": "#E5ECF6",
              "width": 0.5
             }
            },
            "type": "bar"
           }
          ],
          "barpolar": [
           {
            "marker": {
             "line": {
              "color": "#E5ECF6",
              "width": 0.5
             }
            },
            "type": "barpolar"
           }
          ],
          "carpet": [
           {
            "aaxis": {
             "endlinecolor": "#2a3f5f",
             "gridcolor": "white",
             "linecolor": "white",
             "minorgridcolor": "white",
             "startlinecolor": "#2a3f5f"
            },
            "baxis": {
             "endlinecolor": "#2a3f5f",
             "gridcolor": "white",
             "linecolor": "white",
             "minorgridcolor": "white",
             "startlinecolor": "#2a3f5f"
            },
            "type": "carpet"
           }
          ],
          "choropleth": [
           {
            "colorbar": {
             "outlinewidth": 0,
             "ticks": ""
            },
            "type": "choropleth"
           }
          ],
          "contour": [
           {
            "colorbar": {
             "outlinewidth": 0,
             "ticks": ""
            },
            "colorscale": [
             [
              0,
              "#0d0887"
             ],
             [
              0.1111111111111111,
              "#46039f"
             ],
             [
              0.2222222222222222,
              "#7201a8"
             ],
             [
              0.3333333333333333,
              "#9c179e"
             ],
             [
              0.4444444444444444,
              "#bd3786"
             ],
             [
              0.5555555555555556,
              "#d8576b"
             ],
             [
              0.6666666666666666,
              "#ed7953"
             ],
             [
              0.7777777777777778,
              "#fb9f3a"
             ],
             [
              0.8888888888888888,
              "#fdca26"
             ],
             [
              1,
              "#f0f921"
             ]
            ],
            "type": "contour"
           }
          ],
          "contourcarpet": [
           {
            "colorbar": {
             "outlinewidth": 0,
             "ticks": ""
            },
            "type": "contourcarpet"
           }
          ],
          "heatmap": [
           {
            "colorbar": {
             "outlinewidth": 0,
             "ticks": ""
            },
            "colorscale": [
             [
              0,
              "#0d0887"
             ],
             [
              0.1111111111111111,
              "#46039f"
             ],
             [
              0.2222222222222222,
              "#7201a8"
             ],
             [
              0.3333333333333333,
              "#9c179e"
             ],
             [
              0.4444444444444444,
              "#bd3786"
             ],
             [
              0.5555555555555556,
              "#d8576b"
             ],
             [
              0.6666666666666666,
              "#ed7953"
             ],
             [
              0.7777777777777778,
              "#fb9f3a"
             ],
             [
              0.8888888888888888,
              "#fdca26"
             ],
             [
              1,
              "#f0f921"
             ]
            ],
            "type": "heatmap"
           }
          ],
          "heatmapgl": [
           {
            "colorbar": {
             "outlinewidth": 0,
             "ticks": ""
            },
            "colorscale": [
             [
              0,
              "#0d0887"
             ],
             [
              0.1111111111111111,
              "#46039f"
             ],
             [
              0.2222222222222222,
              "#7201a8"
             ],
             [
              0.3333333333333333,
              "#9c179e"
             ],
             [
              0.4444444444444444,
              "#bd3786"
             ],
             [
              0.5555555555555556,
              "#d8576b"
             ],
             [
              0.6666666666666666,
              "#ed7953"
             ],
             [
              0.7777777777777778,
              "#fb9f3a"
             ],
             [
              0.8888888888888888,
              "#fdca26"
             ],
             [
              1,
              "#f0f921"
             ]
            ],
            "type": "heatmapgl"
           }
          ],
          "histogram": [
           {
            "marker": {
             "colorbar": {
              "outlinewidth": 0,
              "ticks": ""
             }
            },
            "type": "histogram"
           }
          ],
          "histogram2d": [
           {
            "colorbar": {
             "outlinewidth": 0,
             "ticks": ""
            },
            "colorscale": [
             [
              0,
              "#0d0887"
             ],
             [
              0.1111111111111111,
              "#46039f"
             ],
             [
              0.2222222222222222,
              "#7201a8"
             ],
             [
              0.3333333333333333,
              "#9c179e"
             ],
             [
              0.4444444444444444,
              "#bd3786"
             ],
             [
              0.5555555555555556,
              "#d8576b"
             ],
             [
              0.6666666666666666,
              "#ed7953"
             ],
             [
              0.7777777777777778,
              "#fb9f3a"
             ],
             [
              0.8888888888888888,
              "#fdca26"
             ],
             [
              1,
              "#f0f921"
             ]
            ],
            "type": "histogram2d"
           }
          ],
          "histogram2dcontour": [
           {
            "colorbar": {
             "outlinewidth": 0,
             "ticks": ""
            },
            "colorscale": [
             [
              0,
              "#0d0887"
             ],
             [
              0.1111111111111111,
              "#46039f"
             ],
             [
              0.2222222222222222,
              "#7201a8"
             ],
             [
              0.3333333333333333,
              "#9c179e"
             ],
             [
              0.4444444444444444,
              "#bd3786"
             ],
             [
              0.5555555555555556,
              "#d8576b"
             ],
             [
              0.6666666666666666,
              "#ed7953"
             ],
             [
              0.7777777777777778,
              "#fb9f3a"
             ],
             [
              0.8888888888888888,
              "#fdca26"
             ],
             [
              1,
              "#f0f921"
             ]
            ],
            "type": "histogram2dcontour"
           }
          ],
          "mesh3d": [
           {
            "colorbar": {
             "outlinewidth": 0,
             "ticks": ""
            },
            "type": "mesh3d"
           }
          ],
          "parcoords": [
           {
            "line": {
             "colorbar": {
              "outlinewidth": 0,
              "ticks": ""
             }
            },
            "type": "parcoords"
           }
          ],
          "pie": [
           {
            "automargin": true,
            "type": "pie"
           }
          ],
          "scatter": [
           {
            "marker": {
             "colorbar": {
              "outlinewidth": 0,
              "ticks": ""
             }
            },
            "type": "scatter"
           }
          ],
          "scatter3d": [
           {
            "line": {
             "colorbar": {
              "outlinewidth": 0,
              "ticks": ""
             }
            },
            "marker": {
             "colorbar": {
              "outlinewidth": 0,
              "ticks": ""
             }
            },
            "type": "scatter3d"
           }
          ],
          "scattercarpet": [
           {
            "marker": {
             "colorbar": {
              "outlinewidth": 0,
              "ticks": ""
             }
            },
            "type": "scattercarpet"
           }
          ],
          "scattergeo": [
           {
            "marker": {
             "colorbar": {
              "outlinewidth": 0,
              "ticks": ""
             }
            },
            "type": "scattergeo"
           }
          ],
          "scattergl": [
           {
            "marker": {
             "colorbar": {
              "outlinewidth": 0,
              "ticks": ""
             }
            },
            "type": "scattergl"
           }
          ],
          "scattermapbox": [
           {
            "marker": {
             "colorbar": {
              "outlinewidth": 0,
              "ticks": ""
             }
            },
            "type": "scattermapbox"
           }
          ],
          "scatterpolar": [
           {
            "marker": {
             "colorbar": {
              "outlinewidth": 0,
              "ticks": ""
             }
            },
            "type": "scatterpolar"
           }
          ],
          "scatterpolargl": [
           {
            "marker": {
             "colorbar": {
              "outlinewidth": 0,
              "ticks": ""
             }
            },
            "type": "scatterpolargl"
           }
          ],
          "scatterternary": [
           {
            "marker": {
             "colorbar": {
              "outlinewidth": 0,
              "ticks": ""
             }
            },
            "type": "scatterternary"
           }
          ],
          "surface": [
           {
            "colorbar": {
             "outlinewidth": 0,
             "ticks": ""
            },
            "colorscale": [
             [
              0,
              "#0d0887"
             ],
             [
              0.1111111111111111,
              "#46039f"
             ],
             [
              0.2222222222222222,
              "#7201a8"
             ],
             [
              0.3333333333333333,
              "#9c179e"
             ],
             [
              0.4444444444444444,
              "#bd3786"
             ],
             [
              0.5555555555555556,
              "#d8576b"
             ],
             [
              0.6666666666666666,
              "#ed7953"
             ],
             [
              0.7777777777777778,
              "#fb9f3a"
             ],
             [
              0.8888888888888888,
              "#fdca26"
             ],
             [
              1,
              "#f0f921"
             ]
            ],
            "type": "surface"
           }
          ],
          "table": [
           {
            "cells": {
             "fill": {
              "color": "#EBF0F8"
             },
             "line": {
              "color": "white"
             }
            },
            "header": {
             "fill": {
              "color": "#C8D4E3"
             },
             "line": {
              "color": "white"
             }
            },
            "type": "table"
           }
          ]
         },
         "layout": {
          "annotationdefaults": {
           "arrowcolor": "#2a3f5f",
           "arrowhead": 0,
           "arrowwidth": 1
          },
          "autotypenumbers": "strict",
          "coloraxis": {
           "colorbar": {
            "outlinewidth": 0,
            "ticks": ""
           }
          },
          "colorscale": {
           "diverging": [
            [
             0,
             "#8e0152"
            ],
            [
             0.1,
             "#c51b7d"
            ],
            [
             0.2,
             "#de77ae"
            ],
            [
             0.3,
             "#f1b6da"
            ],
            [
             0.4,
             "#fde0ef"
            ],
            [
             0.5,
             "#f7f7f7"
            ],
            [
             0.6,
             "#e6f5d0"
            ],
            [
             0.7,
             "#b8e186"
            ],
            [
             0.8,
             "#7fbc41"
            ],
            [
             0.9,
             "#4d9221"
            ],
            [
             1,
             "#276419"
            ]
           ],
           "sequential": [
            [
             0,
             "#0d0887"
            ],
            [
             0.1111111111111111,
             "#46039f"
            ],
            [
             0.2222222222222222,
             "#7201a8"
            ],
            [
             0.3333333333333333,
             "#9c179e"
            ],
            [
             0.4444444444444444,
             "#bd3786"
            ],
            [
             0.5555555555555556,
             "#d8576b"
            ],
            [
             0.6666666666666666,
             "#ed7953"
            ],
            [
             0.7777777777777778,
             "#fb9f3a"
            ],
            [
             0.8888888888888888,
             "#fdca26"
            ],
            [
             1,
             "#f0f921"
            ]
           ],
           "sequentialminus": [
            [
             0,
             "#0d0887"
            ],
            [
             0.1111111111111111,
             "#46039f"
            ],
            [
             0.2222222222222222,
             "#7201a8"
            ],
            [
             0.3333333333333333,
             "#9c179e"
            ],
            [
             0.4444444444444444,
             "#bd3786"
            ],
            [
             0.5555555555555556,
             "#d8576b"
            ],
            [
             0.6666666666666666,
             "#ed7953"
            ],
            [
             0.7777777777777778,
             "#fb9f3a"
            ],
            [
             0.8888888888888888,
             "#fdca26"
            ],
            [
             1,
             "#f0f921"
            ]
           ]
          },
          "colorway": [
           "#636efa",
           "#EF553B",
           "#00cc96",
           "#ab63fa",
           "#FFA15A",
           "#19d3f3",
           "#FF6692",
           "#B6E880",
           "#FF97FF",
           "#FECB52"
          ],
          "font": {
           "color": "#2a3f5f"
          },
          "geo": {
           "bgcolor": "white",
           "lakecolor": "white",
           "landcolor": "#E5ECF6",
           "showlakes": true,
           "showland": true,
           "subunitcolor": "white"
          },
          "hoverlabel": {
           "align": "left"
          },
          "hovermode": "closest",
          "mapbox": {
           "style": "light"
          },
          "paper_bgcolor": "white",
          "plot_bgcolor": "#E5ECF6",
          "polar": {
           "angularaxis": {
            "gridcolor": "white",
            "linecolor": "white",
            "ticks": ""
           },
           "bgcolor": "#E5ECF6",
           "radialaxis": {
            "gridcolor": "white",
            "linecolor": "white",
            "ticks": ""
           }
          },
          "scene": {
           "xaxis": {
            "backgroundcolor": "#E5ECF6",
            "gridcolor": "white",
            "gridwidth": 2,
            "linecolor": "white",
            "showbackground": true,
            "ticks": "",
            "zerolinecolor": "white"
           },
           "yaxis": {
            "backgroundcolor": "#E5ECF6",
            "gridcolor": "white",
            "gridwidth": 2,
            "linecolor": "white",
            "showbackground": true,
            "ticks": "",
            "zerolinecolor": "white"
           },
           "zaxis": {
            "backgroundcolor": "#E5ECF6",
            "gridcolor": "white",
            "gridwidth": 2,
            "linecolor": "white",
            "showbackground": true,
            "ticks": "",
            "zerolinecolor": "white"
           }
          },
          "shapedefaults": {
           "line": {
            "color": "#2a3f5f"
           }
          },
          "ternary": {
           "aaxis": {
            "gridcolor": "white",
            "linecolor": "white",
            "ticks": ""
           },
           "baxis": {
            "gridcolor": "white",
            "linecolor": "white",
            "ticks": ""
           },
           "bgcolor": "#E5ECF6",
           "caxis": {
            "gridcolor": "white",
            "linecolor": "white",
            "ticks": ""
           }
          },
          "title": {
           "x": 0.05
          },
          "xaxis": {
           "automargin": true,
           "gridcolor": "white",
           "linecolor": "white",
           "ticks": "",
           "title": {
            "standoff": 15
           },
           "zerolinecolor": "white",
           "zerolinewidth": 2
          },
          "yaxis": {
           "automargin": true,
           "gridcolor": "white",
           "linecolor": "white",
           "ticks": "",
           "title": {
            "standoff": 15
           },
           "zerolinecolor": "white",
           "zerolinewidth": 2
          }
         }
        },
        "width": 720,
        "xaxis": {
         "autorange": "reversed",
         "gridcolor": "rgb(210,210,210)",
         "gridwidth": 1,
         "tickmode": "array",
         "tickvals": [
          0.5,
          0.4,
          0.3,
          0.2,
          0.1
         ],
         "title": {
          "text": "sparsity"
         }
        },
        "yaxis": {
         "gridcolor": "rgb(210,210,210)",
         "gridwidth": 1,
         "title": {
          "text": "${\\Delta\\mathcal{F}_{norm}}$"
         }
        }
       }
      },
      "text/html": [
       "<div>                            <div id=\"8862cee2-5f02-4b33-970d-bb831ad9bc37\" class=\"plotly-graph-div\" style=\"height:525px; width:720px;\"></div>            <script type=\"text/javascript\">                require([\"plotly\"], function(Plotly) {                    window.PLOTLYENV=window.PLOTLYENV || {};                                    if (document.getElementById(\"8862cee2-5f02-4b33-970d-bb831ad9bc37\")) {                    Plotly.newPlot(                        \"8862cee2-5f02-4b33-970d-bb831ad9bc37\",                        [{\"line\": {\"color\": \"#4C78A8\", \"width\": 4}, \"name\": \"cluster 1 circuit : cluster 1 images\", \"type\": \"scatter\", \"x\": [0.49984176697263594, 0.44485922814917445, 0.38987668932571296, 0.33489415050225146, 0.27991161167879, 0.22492907285532848, 0.16994653403186702, 0.11496399520840553, 0.05998145638494402, 0.0049989175614825075], \"y\": [0.0, 0.003410594305023551, 0.007479620631784201, 0.015472526662051678, 0.018765198066830635, 0.04033628851175308, 0.14916683733463287, 0.2121421992778778, 0.6029138565063477, 0.3526251018047333]}, {\"line\": {\"color\": \"#4C78A8\", \"dash\": \"dot\", \"width\": 4}, \"name\": \"cluster 1 circuit : cluster 2 images\", \"type\": \"scatter\", \"x\": [0.49984176697263594, 0.44485922814917445, 0.38987668932571296, 0.33489415050225146, 0.27991161167879, 0.22492907285532848, 0.16994653403186702, 0.11496399520840553, 0.05998145638494402, 0.0049989175614825075], \"y\": [0.0, 0.03249642997980118, 0.0656670480966568, 0.1317957192659378, 0.3018004298210144, 0.402150958776474, 0.5952631235122681, 0.7548210024833679, 0.9787312746047974, 0.48395660519599915]}, {\"line\": {\"color\": \"#F58518\", \"dash\": \"dot\", \"width\": 4}, \"name\": \"cluster 2 circuit : cluster 1 images\", \"type\": \"scatter\", \"x\": [0.49984176697263594, 0.44485922814917445, 0.38987668932571296, 0.33489415050225146, 0.27991161167879, 0.22492907285532848, 0.16994653403186702, 0.11496399520840553, 0.05998145638494402, 0.0049989175614825075], \"y\": [0.0, 0.6755867004394531, 0.8369429111480713, 0.9105899333953857, 1.056795597076416, 1.024435043334961, 0.9867379069328308, 0.856998085975647, 0.9282333254814148, 0.8583881258964539]}, {\"line\": {\"color\": \"#F58518\", \"width\": 4}, \"name\": \"cluster 2 circuit : cluster 2 images\", \"type\": \"scatter\", \"x\": [0.49984176697263594, 0.44485922814917445, 0.38987668932571296, 0.33489415050225146, 0.27991161167879, 0.22492907285532848, 0.16994653403186702, 0.11496399520840553, 0.05998145638494402, 0.0049989175614825075], \"y\": [0.0, 0.003917719703167677, 0.017313698306679726, 0.03828908130526543, 0.03562374413013458, 0.05473394691944122, 0.07187329232692719, 0.0935468077659607, 0.3865959346294403, 0.6348892450332642]}],                        {\"legend\": {\"bgcolor\": \"rgba(255,255,255,0.3)\", \"x\": 0.03, \"xanchor\": \"left\", \"y\": 0.95, \"yanchor\": \"top\"}, \"paper_bgcolor\": \"rgba(255,255,255,1)\", \"plot_bgcolor\": \"rgba(255,255,255,1)\", \"template\": {\"data\": {\"bar\": [{\"error_x\": {\"color\": \"#2a3f5f\"}, \"error_y\": {\"color\": \"#2a3f5f\"}, \"marker\": {\"line\": {\"color\": \"#E5ECF6\", \"width\": 0.5}}, \"type\": \"bar\"}], \"barpolar\": [{\"marker\": {\"line\": {\"color\": \"#E5ECF6\", \"width\": 0.5}}, \"type\": \"barpolar\"}], \"carpet\": [{\"aaxis\": {\"endlinecolor\": \"#2a3f5f\", \"gridcolor\": \"white\", \"linecolor\": \"white\", \"minorgridcolor\": \"white\", \"startlinecolor\": \"#2a3f5f\"}, \"baxis\": {\"endlinecolor\": \"#2a3f5f\", \"gridcolor\": \"white\", \"linecolor\": \"white\", \"minorgridcolor\": \"white\", \"startlinecolor\": \"#2a3f5f\"}, \"type\": \"carpet\"}], \"choropleth\": [{\"colorbar\": {\"outlinewidth\": 0, \"ticks\": \"\"}, \"type\": \"choropleth\"}], \"contour\": [{\"colorbar\": {\"outlinewidth\": 0, \"ticks\": \"\"}, \"colorscale\": [[0.0, \"#0d0887\"], [0.1111111111111111, \"#46039f\"], [0.2222222222222222, \"#7201a8\"], [0.3333333333333333, \"#9c179e\"], [0.4444444444444444, \"#bd3786\"], [0.5555555555555556, \"#d8576b\"], [0.6666666666666666, \"#ed7953\"], [0.7777777777777778, \"#fb9f3a\"], [0.8888888888888888, \"#fdca26\"], [1.0, \"#f0f921\"]], \"type\": \"contour\"}], \"contourcarpet\": [{\"colorbar\": {\"outlinewidth\": 0, \"ticks\": \"\"}, \"type\": \"contourcarpet\"}], \"heatmap\": [{\"colorbar\": {\"outlinewidth\": 0, \"ticks\": \"\"}, \"colorscale\": [[0.0, \"#0d0887\"], [0.1111111111111111, \"#46039f\"], [0.2222222222222222, \"#7201a8\"], [0.3333333333333333, \"#9c179e\"], [0.4444444444444444, \"#bd3786\"], [0.5555555555555556, \"#d8576b\"], [0.6666666666666666, \"#ed7953\"], [0.7777777777777778, \"#fb9f3a\"], [0.8888888888888888, \"#fdca26\"], [1.0, \"#f0f921\"]], \"type\": \"heatmap\"}], \"heatmapgl\": [{\"colorbar\": {\"outlinewidth\": 0, \"ticks\": \"\"}, \"colorscale\": [[0.0, \"#0d0887\"], [0.1111111111111111, \"#46039f\"], [0.2222222222222222, \"#7201a8\"], [0.3333333333333333, \"#9c179e\"], [0.4444444444444444, \"#bd3786\"], [0.5555555555555556, \"#d8576b\"], [0.6666666666666666, \"#ed7953\"], [0.7777777777777778, \"#fb9f3a\"], [0.8888888888888888, \"#fdca26\"], [1.0, \"#f0f921\"]], \"type\": \"heatmapgl\"}], \"histogram\": [{\"marker\": {\"colorbar\": {\"outlinewidth\": 0, \"ticks\": \"\"}}, \"type\": \"histogram\"}], \"histogram2d\": [{\"colorbar\": {\"outlinewidth\": 0, \"ticks\": \"\"}, \"colorscale\": [[0.0, \"#0d0887\"], [0.1111111111111111, \"#46039f\"], [0.2222222222222222, \"#7201a8\"], [0.3333333333333333, \"#9c179e\"], [0.4444444444444444, \"#bd3786\"], [0.5555555555555556, \"#d8576b\"], [0.6666666666666666, \"#ed7953\"], [0.7777777777777778, \"#fb9f3a\"], [0.8888888888888888, \"#fdca26\"], [1.0, \"#f0f921\"]], \"type\": \"histogram2d\"}], \"histogram2dcontour\": [{\"colorbar\": {\"outlinewidth\": 0, \"ticks\": \"\"}, \"colorscale\": [[0.0, \"#0d0887\"], [0.1111111111111111, \"#46039f\"], [0.2222222222222222, \"#7201a8\"], [0.3333333333333333, \"#9c179e\"], [0.4444444444444444, \"#bd3786\"], [0.5555555555555556, \"#d8576b\"], [0.6666666666666666, \"#ed7953\"], [0.7777777777777778, \"#fb9f3a\"], [0.8888888888888888, \"#fdca26\"], [1.0, \"#f0f921\"]], \"type\": \"histogram2dcontour\"}], \"mesh3d\": [{\"colorbar\": {\"outlinewidth\": 0, \"ticks\": \"\"}, \"type\": \"mesh3d\"}], \"parcoords\": [{\"line\": {\"colorbar\": {\"outlinewidth\": 0, \"ticks\": \"\"}}, \"type\": \"parcoords\"}], \"pie\": [{\"automargin\": true, \"type\": \"pie\"}], \"scatter\": [{\"marker\": {\"colorbar\": {\"outlinewidth\": 0, \"ticks\": \"\"}}, \"type\": \"scatter\"}], \"scatter3d\": [{\"line\": {\"colorbar\": {\"outlinewidth\": 0, \"ticks\": \"\"}}, \"marker\": {\"colorbar\": {\"outlinewidth\": 0, \"ticks\": \"\"}}, \"type\": \"scatter3d\"}], \"scattercarpet\": [{\"marker\": {\"colorbar\": {\"outlinewidth\": 0, \"ticks\": \"\"}}, \"type\": \"scattercarpet\"}], \"scattergeo\": [{\"marker\": {\"colorbar\": {\"outlinewidth\": 0, \"ticks\": \"\"}}, \"type\": \"scattergeo\"}], \"scattergl\": [{\"marker\": {\"colorbar\": {\"outlinewidth\": 0, \"ticks\": \"\"}}, \"type\": \"scattergl\"}], \"scattermapbox\": [{\"marker\": {\"colorbar\": {\"outlinewidth\": 0, \"ticks\": \"\"}}, \"type\": \"scattermapbox\"}], \"scatterpolar\": [{\"marker\": {\"colorbar\": {\"outlinewidth\": 0, \"ticks\": \"\"}}, \"type\": \"scatterpolar\"}], \"scatterpolargl\": [{\"marker\": {\"colorbar\": {\"outlinewidth\": 0, \"ticks\": \"\"}}, \"type\": \"scatterpolargl\"}], \"scatterternary\": [{\"marker\": {\"colorbar\": {\"outlinewidth\": 0, \"ticks\": \"\"}}, \"type\": \"scatterternary\"}], \"surface\": [{\"colorbar\": {\"outlinewidth\": 0, \"ticks\": \"\"}, \"colorscale\": [[0.0, \"#0d0887\"], [0.1111111111111111, \"#46039f\"], [0.2222222222222222, \"#7201a8\"], [0.3333333333333333, \"#9c179e\"], [0.4444444444444444, \"#bd3786\"], [0.5555555555555556, \"#d8576b\"], [0.6666666666666666, \"#ed7953\"], [0.7777777777777778, \"#fb9f3a\"], [0.8888888888888888, \"#fdca26\"], [1.0, \"#f0f921\"]], \"type\": \"surface\"}], \"table\": [{\"cells\": {\"fill\": {\"color\": \"#EBF0F8\"}, \"line\": {\"color\": \"white\"}}, \"header\": {\"fill\": {\"color\": \"#C8D4E3\"}, \"line\": {\"color\": \"white\"}}, \"type\": \"table\"}]}, \"layout\": {\"annotationdefaults\": {\"arrowcolor\": \"#2a3f5f\", \"arrowhead\": 0, \"arrowwidth\": 1}, \"autotypenumbers\": \"strict\", \"coloraxis\": {\"colorbar\": {\"outlinewidth\": 0, \"ticks\": \"\"}}, \"colorscale\": {\"diverging\": [[0, \"#8e0152\"], [0.1, \"#c51b7d\"], [0.2, \"#de77ae\"], [0.3, \"#f1b6da\"], [0.4, \"#fde0ef\"], [0.5, \"#f7f7f7\"], [0.6, \"#e6f5d0\"], [0.7, \"#b8e186\"], [0.8, \"#7fbc41\"], [0.9, \"#4d9221\"], [1, \"#276419\"]], \"sequential\": [[0.0, \"#0d0887\"], [0.1111111111111111, \"#46039f\"], [0.2222222222222222, \"#7201a8\"], [0.3333333333333333, \"#9c179e\"], [0.4444444444444444, \"#bd3786\"], [0.5555555555555556, \"#d8576b\"], [0.6666666666666666, \"#ed7953\"], [0.7777777777777778, \"#fb9f3a\"], [0.8888888888888888, \"#fdca26\"], [1.0, \"#f0f921\"]], \"sequentialminus\": [[0.0, \"#0d0887\"], [0.1111111111111111, \"#46039f\"], [0.2222222222222222, \"#7201a8\"], [0.3333333333333333, \"#9c179e\"], [0.4444444444444444, \"#bd3786\"], [0.5555555555555556, \"#d8576b\"], [0.6666666666666666, \"#ed7953\"], [0.7777777777777778, \"#fb9f3a\"], [0.8888888888888888, \"#fdca26\"], [1.0, \"#f0f921\"]]}, \"colorway\": [\"#636efa\", \"#EF553B\", \"#00cc96\", \"#ab63fa\", \"#FFA15A\", \"#19d3f3\", \"#FF6692\", \"#B6E880\", \"#FF97FF\", \"#FECB52\"], \"font\": {\"color\": \"#2a3f5f\"}, \"geo\": {\"bgcolor\": \"white\", \"lakecolor\": \"white\", \"landcolor\": \"#E5ECF6\", \"showlakes\": true, \"showland\": true, \"subunitcolor\": \"white\"}, \"hoverlabel\": {\"align\": \"left\"}, \"hovermode\": \"closest\", \"mapbox\": {\"style\": \"light\"}, \"paper_bgcolor\": \"white\", \"plot_bgcolor\": \"#E5ECF6\", \"polar\": {\"angularaxis\": {\"gridcolor\": \"white\", \"linecolor\": \"white\", \"ticks\": \"\"}, \"bgcolor\": \"#E5ECF6\", \"radialaxis\": {\"gridcolor\": \"white\", \"linecolor\": \"white\", \"ticks\": \"\"}}, \"scene\": {\"xaxis\": {\"backgroundcolor\": \"#E5ECF6\", \"gridcolor\": \"white\", \"gridwidth\": 2, \"linecolor\": \"white\", \"showbackground\": true, \"ticks\": \"\", \"zerolinecolor\": \"white\"}, \"yaxis\": {\"backgroundcolor\": \"#E5ECF6\", \"gridcolor\": \"white\", \"gridwidth\": 2, \"linecolor\": \"white\", \"showbackground\": true, \"ticks\": \"\", \"zerolinecolor\": \"white\"}, \"zaxis\": {\"backgroundcolor\": \"#E5ECF6\", \"gridcolor\": \"white\", \"gridwidth\": 2, \"linecolor\": \"white\", \"showbackground\": true, \"ticks\": \"\", \"zerolinecolor\": \"white\"}}, \"shapedefaults\": {\"line\": {\"color\": \"#2a3f5f\"}}, \"ternary\": {\"aaxis\": {\"gridcolor\": \"white\", \"linecolor\": \"white\", \"ticks\": \"\"}, \"baxis\": {\"gridcolor\": \"white\", \"linecolor\": \"white\", \"ticks\": \"\"}, \"bgcolor\": \"#E5ECF6\", \"caxis\": {\"gridcolor\": \"white\", \"linecolor\": \"white\", \"ticks\": \"\"}}, \"title\": {\"x\": 0.05}, \"xaxis\": {\"automargin\": true, \"gridcolor\": \"white\", \"linecolor\": \"white\", \"ticks\": \"\", \"title\": {\"standoff\": 15}, \"zerolinecolor\": \"white\", \"zerolinewidth\": 2}, \"yaxis\": {\"automargin\": true, \"gridcolor\": \"white\", \"linecolor\": \"white\", \"ticks\": \"\", \"title\": {\"standoff\": 15}, \"zerolinecolor\": \"white\", \"zerolinewidth\": 2}}}, \"width\": 720, \"xaxis\": {\"autorange\": \"reversed\", \"gridcolor\": \"rgb(210,210,210)\", \"gridwidth\": 1, \"tickmode\": \"array\", \"tickvals\": [0.5, 0.4, 0.3, 0.2, 0.1], \"title\": {\"text\": \"sparsity\"}}, \"yaxis\": {\"gridcolor\": \"rgb(210,210,210)\", \"gridwidth\": 1, \"title\": {\"text\": \"${\\\\Delta\\\\mathcal{F}_{norm}}$\"}}},                        {\"responsive\": true}                    ).then(function(){\n",
       "                            \n",
       "var gd = document.getElementById('8862cee2-5f02-4b33-970d-bb831ad9bc37');\n",
       "var x = new MutationObserver(function (mutations, observer) {{\n",
       "        var display = window.getComputedStyle(gd).display;\n",
       "        if (!display || display === 'none') {{\n",
       "            console.log([gd, 'removed!']);\n",
       "            Plotly.purge(gd);\n",
       "            observer.disconnect();\n",
       "        }}\n",
       "}});\n",
       "\n",
       "// Listen for the removal of the full notebook cells\n",
       "var notebookContainer = gd.closest('#notebook-container');\n",
       "if (notebookContainer) {{\n",
       "    x.observe(notebookContainer, {childList: true});\n",
       "}}\n",
       "\n",
       "// Listen for the clearing of the current output cell\n",
       "var outputEl = gd.closest('.output');\n",
       "if (outputEl) {{\n",
       "    x.observe(outputEl, {childList: true});\n",
       "}}\n",
       "\n",
       "                        })                };                });            </script>        </div>"
      ]
     },
     "metadata": {},
     "output_type": "display_data"
    }
   ],
   "source": [
    "import plotly.graph_objects as go\n",
    "import plotly.express as px\n",
    "\n",
    "x_axis = model_sparsities\n",
    "\n",
    "metric = 'avg_abs_diff'\n",
    "mean_norm = True\n",
    "\n",
    "color_dict = {\n",
    "               clusters[0]+'_circuit':px.colors.qualitative.T10[0],\n",
    "               clusters[1]+'_circuit':px.colors.qualitative.T10[1],\n",
    "             }\n",
    "\n",
    "\n",
    "fig = go.Figure()\n",
    "##SET WIDTH TO 40 FOR BIG PLOT\n",
    "for circuit in scores:\n",
    "    for data in scores[circuit]:\n",
    "        # Create and style traces\n",
    "        if data.replace('_data','') == circuit.replace('_circuit',''):\n",
    "            linetype = None\n",
    "        else:\n",
    "            linetype = 'dot'\n",
    "            \n",
    "        name = (circuit+' : '+data).replace('_',' ').replace('1','2').replace('0','1').replace('data','images')\n",
    "        y = np.array(scores[circuit][data]['%s:%s'%(layer,0)][metric])\n",
    "        if mean_norm:\n",
    "            y = y/means[data]\n",
    "        x = x_axis[0:len(scores[circuit][data]['%s:%s'%(layer,0)][metric])]\n",
    "        fig.add_trace(go.Scatter(x=x, y=y, name=name,\n",
    "                         line=dict(color=color_dict[circuit], width=4,dash=linetype)))\n",
    "\n",
    "# Edit the layout\n",
    "fig.update_layout( width = 720,\n",
    "                   plot_bgcolor = 'rgba(255,255,255,1)',\n",
    "                   paper_bgcolor = 'rgba(255,255,255,1)',\n",
    "                   xaxis_title='sparsity',\n",
    "                   yaxis_title=r'${\\Delta\\mathcal{F}_{norm}}$',\n",
    "                  legend=dict(\n",
    "                                yanchor=\"top\",\n",
    "                                y=0.95,\n",
    "                                xanchor=\"left\",\n",
    "                                x=0.03,\n",
    "                                bgcolor='rgba(255,255,255,0.3)'\n",
    "                              )\n",
    "                 )\n",
    "\n",
    "fig.update_xaxes(autorange=\"reversed\",gridcolor='rgb(210,210,210)',gridwidth=1)\n",
    "fig.update_yaxes(gridcolor='rgb(210,210,210)',gridwidth=1)\n",
    "\n",
    "fig.update_layout(\n",
    "    xaxis = dict(\n",
    "        tickmode = 'array',\n",
    "        tickvals = [.5, .4, .3, .2, .1]\n",
    "    )\n",
    ")\n",
    "\n",
    "\n",
    "fig.show()"
   ]
  },
  {
   "cell_type": "markdown",
   "id": "1ec0f101",
   "metadata": {},
   "source": [
    "#### extract circuit at particular sparsity"
   ]
  },
  {
   "cell_type": "code",
   "execution_count": 85,
   "id": "69639d2d",
   "metadata": {},
   "outputs": [
    {
     "name": "stdout",
     "output_type": "stream",
     "text": [
      "features_10 effective last layer\n",
      "target sparsity: 0.268\n",
      "total params to feature: 152428\n",
      "\n",
      "we found 60064 params that were already zero'd out, your model is already a pruned circuit right? . . . \t\t\t   just making sure, we are subtracting these params from the total.\n",
      "\n",
      "new total params: 92364    (after subtracting previously masked params)\n",
      "kept params in original mask: 24754      (total params * sparsity)\n",
      "original mask: 316050 params\n",
      "effective mask: 315071 params\n",
      "effective_sparsity: 0.26684639036854185\n",
      "features_10 effective last layer\n",
      "target sparsity: 0.211\n",
      "total params to feature: 152428\n",
      "\n",
      "we found 60064 params that were already zero'd out, your model is already a pruned circuit right? . . . \t\t\t   just making sure, we are subtracting these params from the total.\n",
      "\n",
      "new total params: 92364    (after subtracting previously masked params)\n",
      "kept params in original mask: 19489      (total params * sparsity)\n",
      "original mask: 257609 params\n",
      "effective mask: 256178 params\n",
      "effective_sparsity: 0.2092806721233381\n"
     ]
    }
   ],
   "source": [
    "# extraction at last good sparsity\n",
    "\n",
    "from circuit_pruner.extraction import model_ranks_2_circuit_model\n",
    "\n",
    "ranker = ranks\n",
    "\n",
    "\n",
    "#sparsities are with respect to the general circuit, not the original model\n",
    "\n",
    "target_sparsities = {'cluster_0':0.268,\n",
    "                     'cluster_1':0.211,\n",
    "                     'mixed_0':0.311,\n",
    "                     'mixed_1':0.368\n",
    "                     }\n",
    "\n",
    "\n",
    "sparse_circuits = {}\n",
    "sparse_masks = {}\n",
    "\n",
    "for cluster in clusters:\n",
    "    sparse_circuit,sparse_mask = model_ranks_2_circuit_model(ranker[cluster],target_sparsities[cluster],\n",
    "                                                           general_circuit,circuit_feature_targets,device,\n",
    "                                                           structure='kernels',use_effective_mask=True,\n",
    "                                                           rank_field='max')\n",
    "    sparse_circuits[cluster] = sparse_circuit.to(device)\n",
    "    sparse_masks[cluster] = sparse_mask\n"
   ]
  },
  {
   "cell_type": "code",
   "execution_count": 86,
   "id": "5233f73c",
   "metadata": {},
   "outputs": [],
   "source": [
    "from circuit_pruner.visualizer.featureviz  import featviz_in_recep_field"
   ]
  },
  {
   "cell_type": "code",
   "execution_count": 87,
   "id": "23b59635",
   "metadata": {},
   "outputs": [],
   "source": [
    "keys = list(sparse_circuits.keys())"
   ]
  },
  {
   "cell_type": "code",
   "execution_count": 88,
   "id": "8f698843",
   "metadata": {},
   "outputs": [
    {
     "name": "stdout",
     "output_type": "stream",
     "text": [
      "------------------------------------------------------------------------------\n",
      "        Layer (type)    map size      start       jump receptive_field \n",
      "==============================================================================\n",
      "        0             [224, 224]        0.5        1.0             1.0 \n",
      "        1               [55, 55]        3.5        4.0            11.0 \n",
      "        2               [55, 55]        3.5        4.0            11.0 \n",
      "        3               [27, 27]        7.5        8.0            19.0 \n",
      "        4               [27, 27]        7.5        8.0            51.0 \n",
      "        5               [27, 27]        7.5        8.0            51.0 \n",
      "        6               [13, 13]       15.5       16.0            67.0 \n",
      "        7               [13, 13]       15.5       16.0            99.0 \n",
      "        8               [13, 13]       15.5       16.0            99.0 \n",
      "        9               [13, 13]       15.5       16.0           131.0 \n",
      "        10              [13, 13]       15.5       16.0           131.0 \n",
      "        11              [13, 13]       15.5       16.0           163.0 \n",
      "==============================================================================\n"
     ]
    },
    {
     "name": "stderr",
     "output_type": "stream",
     "text": [
      "100%|██████████| 512/512 [00:19<00:00, 26.74it/s]\n"
     ]
    },
    {
     "data": {
      "text/html": [
       "<div style=\"display: flex; flex-direction: row;\"><div style=\"margin-right:10px; margin-top: 4px;\">\n",
       "                            0 <br/>\n",
       "                            <img src=\"data:image/PNG;base64,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\" style=\"image-rendering: pixelated;\">\n",
       "                        </div></div>"
      ],
      "text/plain": [
       "<IPython.core.display.HTML object>"
      ]
     },
     "metadata": {},
     "output_type": "display_data"
    },
    {
     "name": "stdout",
     "output_type": "stream",
     "text": [
      "(13, 13)\n",
      "(6, 6)\n",
      "[(30.0, 193.0), (30.0, 193.0)]\n"
     ]
    },
    {
     "data": {
      "image/png": "[encoded data removed]",
      "text/plain": [
       "<PIL.Image.Image image mode=RGB size=163x163 at 0x7FF7F8EC9210>"
      ]
     },
     "execution_count": 88,
     "metadata": {},
     "output_type": "execute_result"
    }
   ],
   "source": [
    "featviz_in_recep_field(deepcopy(sparse_circuits[keys[0]]),layer,0,margin=0)"
   ]
  },
  {
   "cell_type": "code",
   "execution_count": 89,
   "id": "6c1e08f2",
   "metadata": {},
   "outputs": [
    {
     "name": "stdout",
     "output_type": "stream",
     "text": [
      "------------------------------------------------------------------------------\n",
      "        Layer (type)    map size      start       jump receptive_field \n",
      "==============================================================================\n",
      "        0             [224, 224]        0.5        1.0             1.0 \n",
      "        1               [55, 55]        3.5        4.0            11.0 \n",
      "        2               [55, 55]        3.5        4.0            11.0 \n",
      "        3               [27, 27]        7.5        8.0            19.0 \n",
      "        4               [27, 27]        7.5        8.0            51.0 \n",
      "        5               [27, 27]        7.5        8.0            51.0 \n",
      "        6               [13, 13]       15.5       16.0            67.0 \n",
      "        7               [13, 13]       15.5       16.0            99.0 \n",
      "        8               [13, 13]       15.5       16.0            99.0 \n",
      "        9               [13, 13]       15.5       16.0           131.0 \n",
      "        10              [13, 13]       15.5       16.0           131.0 \n",
      "        11              [13, 13]       15.5       16.0           163.0 \n",
      "==============================================================================\n"
     ]
    },
    {
     "name": "stderr",
     "output_type": "stream",
     "text": [
      "100%|██████████| 512/512 [00:18<00:00, 27.37it/s]\n"
     ]
    },
    {
     "data": {
      "text/html": [
       "<div style=\"display: flex; flex-direction: row;\"><div style=\"margin-right:10px; margin-top: 4px;\">\n",
       "                            0 <br/>\n",
       "                            <img src=\"data:image/PNG;base64,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\" style=\"image-rendering: pixelated;\">\n",
       "                        </div></div>"
      ],
      "text/plain": [
       "<IPython.core.display.HTML object>"
      ]
     },
     "metadata": {},
     "output_type": "display_data"
    },
    {
     "name": "stdout",
     "output_type": "stream",
     "text": [
      "(13, 13)\n",
      "(6, 6)\n",
      "[(30.0, 193.0), (30.0, 193.0)]\n"
     ]
    },
    {
     "data": {
      "image/png": "[encoded data removed]",
      "text/plain": [
       "<PIL.Image.Image image mode=RGB size=163x163 at 0x7FF7F95C4210>"
      ]
     },
     "execution_count": 89,
     "metadata": {},
     "output_type": "execute_result"
    }
   ],
   "source": [
    "featviz_in_recep_field(deepcopy(sparse_circuits[keys[1]]),layer,0,margin=0)"
   ]
  },
  {
   "cell_type": "markdown",
   "id": "38ae5783",
   "metadata": {},
   "source": [
    "#### Compare IoU of extracted circuits"
   ]
  },
  {
   "cell_type": "code",
   "execution_count": 90,
   "id": "c1f5ce97",
   "metadata": {},
   "outputs": [],
   "source": [
    "from circuit_pruner.utils import plot_iou_from_masks"
   ]
  },
  {
   "cell_type": "code",
   "execution_count": 91,
   "id": "b9d2a1b3",
   "metadata": {},
   "outputs": [],
   "source": [
    "iou_fig = plot_iou_from_masks(sparse_masks[keys[0]],sparse_masks[keys[1]])"
   ]
  },
  {
   "cell_type": "code",
   "execution_count": 92,
   "id": "5f75e152",
   "metadata": {},
   "outputs": [
    {
     "data": {
      "application/vnd.plotly.v1+json": {
       "config": {
        "plotlyServerURL": "https://plot.ly"
       },
       "data": [
        {
         "fill": "tozeroy",
         "line": {
          "color": "#4C78A8"
         },
         "marker": {
          "size": 20
         },
         "type": "scatter",
         "x": [
          "1",
          "2",
          "3",
          "4",
          "5"
         ],
         "y": [
          0.9947368502616882,
          0.6088639497756958,
          0.28806957602500916,
          0.1430669128894806,
          0.5974025726318359
         ]
        }
       ],
       "layout": {
        "paper_bgcolor": "rgba(255,255,255,1)",
        "plot_bgcolor": "rgba(255,255,255,1)",
        "template": {
         "data": {
          "bar": [
           {
            "error_x": {
             "color": "#2a3f5f"
            },
            "error_y": {
             "color": "#2a3f5f"
            },
            "marker": {
             "line": {
              "color": "#E5ECF6",
              "width": 0.5
             }
            },
            "type": "bar"
           }
          ],
          "barpolar": [
           {
            "marker": {
             "line": {
              "color": "#E5ECF6",
              "width": 0.5
             }
            },
            "type": "barpolar"
           }
          ],
          "carpet": [
           {
            "aaxis": {
             "endlinecolor": "#2a3f5f",
             "gridcolor": "white",
             "linecolor": "white",
             "minorgridcolor": "white",
             "startlinecolor": "#2a3f5f"
            },
            "baxis": {
             "endlinecolor": "#2a3f5f",
             "gridcolor": "white",
             "linecolor": "white",
             "minorgridcolor": "white",
             "startlinecolor": "#2a3f5f"
            },
            "type": "carpet"
           }
          ],
          "choropleth": [
           {
            "colorbar": {
             "outlinewidth": 0,
             "ticks": ""
            },
            "type": "choropleth"
           }
          ],
          "contour": [
           {
            "colorbar": {
             "outlinewidth": 0,
             "ticks": ""
            },
            "colorscale": [
             [
              0,
              "#0d0887"
             ],
             [
              0.1111111111111111,
              "#46039f"
             ],
             [
              0.2222222222222222,
              "#7201a8"
             ],
             [
              0.3333333333333333,
              "#9c179e"
             ],
             [
              0.4444444444444444,
              "#bd3786"
             ],
             [
              0.5555555555555556,
              "#d8576b"
             ],
             [
              0.6666666666666666,
              "#ed7953"
             ],
             [
              0.7777777777777778,
              "#fb9f3a"
             ],
             [
              0.8888888888888888,
              "#fdca26"
             ],
             [
              1,
              "#f0f921"
             ]
            ],
            "type": "contour"
           }
          ],
          "contourcarpet": [
           {
            "colorbar": {
             "outlinewidth": 0,
             "ticks": ""
            },
            "type": "contourcarpet"
           }
          ],
          "heatmap": [
           {
            "colorbar": {
             "outlinewidth": 0,
             "ticks": ""
            },
            "colorscale": [
             [
              0,
              "#0d0887"
             ],
             [
              0.1111111111111111,
              "#46039f"
             ],
             [
              0.2222222222222222,
              "#7201a8"
             ],
             [
              0.3333333333333333,
              "#9c179e"
             ],
             [
              0.4444444444444444,
              "#bd3786"
             ],
             [
              0.5555555555555556,
              "#d8576b"
             ],
             [
              0.6666666666666666,
              "#ed7953"
             ],
             [
              0.7777777777777778,
              "#fb9f3a"
             ],
             [
              0.8888888888888888,
              "#fdca26"
             ],
             [
              1,
              "#f0f921"
             ]
            ],
            "type": "heatmap"
           }
          ],
          "heatmapgl": [
           {
            "colorbar": {
             "outlinewidth": 0,
             "ticks": ""
            },
            "colorscale": [
             [
              0,
              "#0d0887"
             ],
             [
              0.1111111111111111,
              "#46039f"
             ],
             [
              0.2222222222222222,
              "#7201a8"
             ],
             [
              0.3333333333333333,
              "#9c179e"
             ],
             [
              0.4444444444444444,
              "#bd3786"
             ],
             [
              0.5555555555555556,
              "#d8576b"
             ],
             [
              0.6666666666666666,
              "#ed7953"
             ],
             [
              0.7777777777777778,
              "#fb9f3a"
             ],
             [
              0.8888888888888888,
              "#fdca26"
             ],
             [
              1,
              "#f0f921"
             ]
            ],
            "type": "heatmapgl"
           }
          ],
          "histogram": [
           {
            "marker": {
             "colorbar": {
              "outlinewidth": 0,
              "ticks": ""
             }
            },
            "type": "histogram"
           }
          ],
          "histogram2d": [
           {
            "colorbar": {
             "outlinewidth": 0,
             "ticks": ""
            },
            "colorscale": [
             [
              0,
              "#0d0887"
             ],
             [
              0.1111111111111111,
              "#46039f"
             ],
             [
              0.2222222222222222,
              "#7201a8"
             ],
             [
              0.3333333333333333,
              "#9c179e"
             ],
             [
              0.4444444444444444,
              "#bd3786"
             ],
             [
              0.5555555555555556,
              "#d8576b"
             ],
             [
              0.6666666666666666,
              "#ed7953"
             ],
             [
              0.7777777777777778,
              "#fb9f3a"
             ],
             [
              0.8888888888888888,
              "#fdca26"
             ],
             [
              1,
              "#f0f921"
             ]
            ],
            "type": "histogram2d"
           }
          ],
          "histogram2dcontour": [
           {
            "colorbar": {
             "outlinewidth": 0,
             "ticks": ""
            },
            "colorscale": [
             [
              0,
              "#0d0887"
             ],
             [
              0.1111111111111111,
              "#46039f"
             ],
             [
              0.2222222222222222,
              "#7201a8"
             ],
             [
              0.3333333333333333,
              "#9c179e"
             ],
             [
              0.4444444444444444,
              "#bd3786"
             ],
             [
              0.5555555555555556,
              "#d8576b"
             ],
             [
              0.6666666666666666,
              "#ed7953"
             ],
             [
              0.7777777777777778,
              "#fb9f3a"
             ],
             [
              0.8888888888888888,
              "#fdca26"
             ],
             [
              1,
              "#f0f921"
             ]
            ],
            "type": "histogram2dcontour"
           }
          ],
          "mesh3d": [
           {
            "colorbar": {
             "outlinewidth": 0,
             "ticks": ""
            },
            "type": "mesh3d"
           }
          ],
          "parcoords": [
           {
            "line": {
             "colorbar": {
              "outlinewidth": 0,
              "ticks": ""
             }
            },
            "type": "parcoords"
           }
          ],
          "pie": [
           {
            "automargin": true,
            "type": "pie"
           }
          ],
          "scatter": [
           {
            "marker": {
             "colorbar": {
              "outlinewidth": 0,
              "ticks": ""
             }
            },
            "type": "scatter"
           }
          ],
          "scatter3d": [
           {
            "line": {
             "colorbar": {
              "outlinewidth": 0,
              "ticks": ""
             }
            },
            "marker": {
             "colorbar": {
              "outlinewidth": 0,
              "ticks": ""
             }
            },
            "type": "scatter3d"
           }
          ],
          "scattercarpet": [
           {
            "marker": {
             "colorbar": {
              "outlinewidth": 0,
              "ticks": ""
             }
            },
            "type": "scattercarpet"
           }
          ],
          "scattergeo": [
           {
            "marker": {
             "colorbar": {
              "outlinewidth": 0,
              "ticks": ""
             }
            },
            "type": "scattergeo"
           }
          ],
          "scattergl": [
           {
            "marker": {
             "colorbar": {
              "outlinewidth": 0,
              "ticks": ""
             }
            },
            "type": "scattergl"
           }
          ],
          "scattermapbox": [
           {
            "marker": {
             "colorbar": {
              "outlinewidth": 0,
              "ticks": ""
             }
            },
            "type": "scattermapbox"
           }
          ],
          "scatterpolar": [
           {
            "marker": {
             "colorbar": {
              "outlinewidth": 0,
              "ticks": ""
             }
            },
            "type": "scatterpolar"
           }
          ],
          "scatterpolargl": [
           {
            "marker": {
             "colorbar": {
              "outlinewidth": 0,
              "ticks": ""
             }
            },
            "type": "scatterpolargl"
           }
          ],
          "scatterternary": [
           {
            "marker": {
             "colorbar": {
              "outlinewidth": 0,
              "ticks": ""
             }
            },
            "type": "scatterternary"
           }
          ],
          "surface": [
           {
            "colorbar": {
             "outlinewidth": 0,
             "ticks": ""
            },
            "colorscale": [
             [
              0,
              "#0d0887"
             ],
             [
              0.1111111111111111,
              "#46039f"
             ],
             [
              0.2222222222222222,
              "#7201a8"
             ],
             [
              0.3333333333333333,
              "#9c179e"
             ],
             [
              0.4444444444444444,
              "#bd3786"
             ],
             [
              0.5555555555555556,
              "#d8576b"
             ],
             [
              0.6666666666666666,
              "#ed7953"
             ],
             [
              0.7777777777777778,
              "#fb9f3a"
             ],
             [
              0.8888888888888888,
              "#fdca26"
             ],
             [
              1,
              "#f0f921"
             ]
            ],
            "type": "surface"
           }
          ],
          "table": [
           {
            "cells": {
             "fill": {
              "color": "#EBF0F8"
             },
             "line": {
              "color": "white"
             }
            },
            "header": {
             "fill": {
              "color": "#C8D4E3"
             },
             "line": {
              "color": "white"
             }
            },
            "type": "table"
           }
          ]
         },
         "layout": {
          "annotationdefaults": {
           "arrowcolor": "#2a3f5f",
           "arrowhead": 0,
           "arrowwidth": 1
          },
          "autotypenumbers": "strict",
          "coloraxis": {
           "colorbar": {
            "outlinewidth": 0,
            "ticks": ""
           }
          },
          "colorscale": {
           "diverging": [
            [
             0,
             "#8e0152"
            ],
            [
             0.1,
             "#c51b7d"
            ],
            [
             0.2,
             "#de77ae"
            ],
            [
             0.3,
             "#f1b6da"
            ],
            [
             0.4,
             "#fde0ef"
            ],
            [
             0.5,
             "#f7f7f7"
            ],
            [
             0.6,
             "#e6f5d0"
            ],
            [
             0.7,
             "#b8e186"
            ],
            [
             0.8,
             "#7fbc41"
            ],
            [
             0.9,
             "#4d9221"
            ],
            [
             1,
             "#276419"
            ]
           ],
           "sequential": [
            [
             0,
             "#0d0887"
            ],
            [
             0.1111111111111111,
             "#46039f"
            ],
            [
             0.2222222222222222,
             "#7201a8"
            ],
            [
             0.3333333333333333,
             "#9c179e"
            ],
            [
             0.4444444444444444,
             "#bd3786"
            ],
            [
             0.5555555555555556,
             "#d8576b"
            ],
            [
             0.6666666666666666,
             "#ed7953"
            ],
            [
             0.7777777777777778,
             "#fb9f3a"
            ],
            [
             0.8888888888888888,
             "#fdca26"
            ],
            [
             1,
             "#f0f921"
            ]
           ],
           "sequentialminus": [
            [
             0,
             "#0d0887"
            ],
            [
             0.1111111111111111,
             "#46039f"
            ],
            [
             0.2222222222222222,
             "#7201a8"
            ],
            [
             0.3333333333333333,
             "#9c179e"
            ],
            [
             0.4444444444444444,
             "#bd3786"
            ],
            [
             0.5555555555555556,
             "#d8576b"
            ],
            [
             0.6666666666666666,
             "#ed7953"
            ],
            [
             0.7777777777777778,
             "#fb9f3a"
            ],
            [
             0.8888888888888888,
             "#fdca26"
            ],
            [
             1,
             "#f0f921"
            ]
           ]
          },
          "colorway": [
           "#636efa",
           "#EF553B",
           "#00cc96",
           "#ab63fa",
           "#FFA15A",
           "#19d3f3",
           "#FF6692",
           "#B6E880",
           "#FF97FF",
           "#FECB52"
          ],
          "font": {
           "color": "#2a3f5f"
          },
          "geo": {
           "bgcolor": "white",
           "lakecolor": "white",
           "landcolor": "#E5ECF6",
           "showlakes": true,
           "showland": true,
           "subunitcolor": "white"
          },
          "hoverlabel": {
           "align": "left"
          },
          "hovermode": "closest",
          "mapbox": {
           "style": "light"
          },
          "paper_bgcolor": "white",
          "plot_bgcolor": "#E5ECF6",
          "polar": {
           "angularaxis": {
            "gridcolor": "white",
            "linecolor": "white",
            "ticks": ""
           },
           "bgcolor": "#E5ECF6",
           "radialaxis": {
            "gridcolor": "white",
            "linecolor": "white",
            "ticks": ""
           }
          },
          "scene": {
           "xaxis": {
            "backgroundcolor": "#E5ECF6",
            "gridcolor": "white",
            "gridwidth": 2,
            "linecolor": "white",
            "showbackground": true,
            "ticks": "",
            "zerolinecolor": "white"
           },
           "yaxis": {
            "backgroundcolor": "#E5ECF6",
            "gridcolor": "white",
            "gridwidth": 2,
            "linecolor": "white",
            "showbackground": true,
            "ticks": "",
            "zerolinecolor": "white"
           },
           "zaxis": {
            "backgroundcolor": "#E5ECF6",
            "gridcolor": "white",
            "gridwidth": 2,
            "linecolor": "white",
            "showbackground": true,
            "ticks": "",
            "zerolinecolor": "white"
           }
          },
          "shapedefaults": {
           "line": {
            "color": "#2a3f5f"
           }
          },
          "ternary": {
           "aaxis": {
            "gridcolor": "white",
            "linecolor": "white",
            "ticks": ""
           },
           "baxis": {
            "gridcolor": "white",
            "linecolor": "white",
            "ticks": ""
           },
           "bgcolor": "#E5ECF6",
           "caxis": {
            "gridcolor": "white",
            "linecolor": "white",
            "ticks": ""
           }
          },
          "title": {
           "x": 0.05
          },
          "xaxis": {
           "automargin": true,
           "gridcolor": "white",
           "linecolor": "white",
           "ticks": "",
           "title": {
            "standoff": 15
           },
           "zerolinecolor": "white",
           "zerolinewidth": 2
          },
          "yaxis": {
           "automargin": true,
           "gridcolor": "white",
           "linecolor": "white",
           "ticks": "",
           "title": {
            "standoff": 15
           },
           "zerolinecolor": "white",
           "zerolinewidth": 2
          }
         }
        },
        "width": 500,
        "xaxis": {
         "title": {
          "text": "Layer"
         }
        },
        "yaxis": {
         "range": [
          0,
          1
         ],
         "title": {
          "text": "IoU"
         }
        }
       }
      },
      "text/html": [
       "<div>                            <div id=\"9be67000-cc06-4364-a284-5b3018ce343c\" class=\"plotly-graph-div\" style=\"height:525px; width:500px;\"></div>            <script type=\"text/javascript\">                require([\"plotly\"], function(Plotly) {                    window.PLOTLYENV=window.PLOTLYENV || {};                                    if (document.getElementById(\"9be67000-cc06-4364-a284-5b3018ce343c\")) {                    Plotly.newPlot(                        \"9be67000-cc06-4364-a284-5b3018ce343c\",                        [{\"fill\": \"tozeroy\", \"line\": {\"color\": \"#4C78A8\"}, \"marker\": {\"size\": 20}, \"type\": \"scatter\", \"x\": [\"1\", \"2\", \"3\", \"4\", \"5\"], \"y\": [0.9947368502616882, 0.6088639497756958, 0.28806957602500916, 0.1430669128894806, 0.5974025726318359]}],                        {\"paper_bgcolor\": \"rgba(255,255,255,1)\", \"plot_bgcolor\": \"rgba(255,255,255,1)\", \"template\": {\"data\": {\"bar\": [{\"error_x\": {\"color\": \"#2a3f5f\"}, \"error_y\": {\"color\": \"#2a3f5f\"}, \"marker\": {\"line\": {\"color\": \"#E5ECF6\", \"width\": 0.5}}, \"type\": \"bar\"}], \"barpolar\": [{\"marker\": {\"line\": {\"color\": \"#E5ECF6\", \"width\": 0.5}}, \"type\": \"barpolar\"}], \"carpet\": [{\"aaxis\": {\"endlinecolor\": \"#2a3f5f\", \"gridcolor\": \"white\", \"linecolor\": \"white\", \"minorgridcolor\": \"white\", \"startlinecolor\": \"#2a3f5f\"}, \"baxis\": {\"endlinecolor\": \"#2a3f5f\", \"gridcolor\": \"white\", \"linecolor\": \"white\", \"minorgridcolor\": \"white\", \"startlinecolor\": \"#2a3f5f\"}, \"type\": \"carpet\"}], \"choropleth\": [{\"colorbar\": {\"outlinewidth\": 0, \"ticks\": \"\"}, \"type\": \"choropleth\"}], \"contour\": [{\"colorbar\": {\"outlinewidth\": 0, \"ticks\": \"\"}, \"colorscale\": [[0.0, \"#0d0887\"], [0.1111111111111111, \"#46039f\"], [0.2222222222222222, \"#7201a8\"], [0.3333333333333333, \"#9c179e\"], [0.4444444444444444, \"#bd3786\"], [0.5555555555555556, \"#d8576b\"], [0.6666666666666666, \"#ed7953\"], [0.7777777777777778, \"#fb9f3a\"], [0.8888888888888888, \"#fdca26\"], [1.0, \"#f0f921\"]], \"type\": \"contour\"}], \"contourcarpet\": [{\"colorbar\": {\"outlinewidth\": 0, \"ticks\": \"\"}, \"type\": \"contourcarpet\"}], \"heatmap\": [{\"colorbar\": {\"outlinewidth\": 0, \"ticks\": \"\"}, \"colorscale\": [[0.0, \"#0d0887\"], [0.1111111111111111, \"#46039f\"], [0.2222222222222222, \"#7201a8\"], [0.3333333333333333, \"#9c179e\"], [0.4444444444444444, \"#bd3786\"], [0.5555555555555556, \"#d8576b\"], [0.6666666666666666, \"#ed7953\"], [0.7777777777777778, \"#fb9f3a\"], [0.8888888888888888, \"#fdca26\"], [1.0, \"#f0f921\"]], \"type\": \"heatmap\"}], \"heatmapgl\": [{\"colorbar\": {\"outlinewidth\": 0, \"ticks\": \"\"}, \"colorscale\": [[0.0, \"#0d0887\"], [0.1111111111111111, \"#46039f\"], [0.2222222222222222, \"#7201a8\"], [0.3333333333333333, \"#9c179e\"], [0.4444444444444444, \"#bd3786\"], [0.5555555555555556, \"#d8576b\"], [0.6666666666666666, \"#ed7953\"], [0.7777777777777778, \"#fb9f3a\"], [0.8888888888888888, \"#fdca26\"], [1.0, \"#f0f921\"]], \"type\": \"heatmapgl\"}], \"histogram\": [{\"marker\": {\"colorbar\": {\"outlinewidth\": 0, \"ticks\": \"\"}}, \"type\": \"histogram\"}], \"histogram2d\": [{\"colorbar\": {\"outlinewidth\": 0, \"ticks\": \"\"}, \"colorscale\": [[0.0, \"#0d0887\"], [0.1111111111111111, \"#46039f\"], [0.2222222222222222, \"#7201a8\"], [0.3333333333333333, \"#9c179e\"], [0.4444444444444444, \"#bd3786\"], [0.5555555555555556, \"#d8576b\"], [0.6666666666666666, \"#ed7953\"], [0.7777777777777778, \"#fb9f3a\"], [0.8888888888888888, \"#fdca26\"], [1.0, \"#f0f921\"]], \"type\": \"histogram2d\"}], \"histogram2dcontour\": [{\"colorbar\": {\"outlinewidth\": 0, \"ticks\": \"\"}, \"colorscale\": [[0.0, \"#0d0887\"], [0.1111111111111111, \"#46039f\"], [0.2222222222222222, \"#7201a8\"], [0.3333333333333333, \"#9c179e\"], [0.4444444444444444, \"#bd3786\"], [0.5555555555555556, \"#d8576b\"], [0.6666666666666666, \"#ed7953\"], [0.7777777777777778, \"#fb9f3a\"], [0.8888888888888888, \"#fdca26\"], [1.0, \"#f0f921\"]], \"type\": \"histogram2dcontour\"}], \"mesh3d\": [{\"colorbar\": {\"outlinewidth\": 0, \"ticks\": \"\"}, \"type\": \"mesh3d\"}], \"parcoords\": [{\"line\": {\"colorbar\": {\"outlinewidth\": 0, \"ticks\": \"\"}}, \"type\": \"parcoords\"}], \"pie\": [{\"automargin\": true, \"type\": \"pie\"}], \"scatter\": [{\"marker\": {\"colorbar\": {\"outlinewidth\": 0, \"ticks\": \"\"}}, \"type\": \"scatter\"}], \"scatter3d\": [{\"line\": {\"colorbar\": {\"outlinewidth\": 0, \"ticks\": \"\"}}, \"marker\": {\"colorbar\": {\"outlinewidth\": 0, \"ticks\": \"\"}}, \"type\": \"scatter3d\"}], \"scattercarpet\": [{\"marker\": {\"colorbar\": {\"outlinewidth\": 0, \"ticks\": \"\"}}, \"type\": \"scattercarpet\"}], \"scattergeo\": [{\"marker\": {\"colorbar\": {\"outlinewidth\": 0, \"ticks\": \"\"}}, \"type\": \"scattergeo\"}], \"scattergl\": [{\"marker\": {\"colorbar\": {\"outlinewidth\": 0, \"ticks\": \"\"}}, \"type\": \"scattergl\"}], \"scattermapbox\": [{\"marker\": {\"colorbar\": {\"outlinewidth\": 0, \"ticks\": \"\"}}, \"type\": \"scattermapbox\"}], \"scatterpolar\": [{\"marker\": {\"colorbar\": {\"outlinewidth\": 0, \"ticks\": \"\"}}, \"type\": \"scatterpolar\"}], \"scatterpolargl\": [{\"marker\": {\"colorbar\": {\"outlinewidth\": 0, \"ticks\": \"\"}}, \"type\": \"scatterpolargl\"}], \"scatterternary\": [{\"marker\": {\"colorbar\": {\"outlinewidth\": 0, \"ticks\": \"\"}}, \"type\": \"scatterternary\"}], \"surface\": [{\"colorbar\": {\"outlinewidth\": 0, \"ticks\": \"\"}, \"colorscale\": [[0.0, \"#0d0887\"], [0.1111111111111111, \"#46039f\"], [0.2222222222222222, \"#7201a8\"], [0.3333333333333333, \"#9c179e\"], [0.4444444444444444, \"#bd3786\"], [0.5555555555555556, \"#d8576b\"], [0.6666666666666666, \"#ed7953\"], [0.7777777777777778, \"#fb9f3a\"], [0.8888888888888888, \"#fdca26\"], [1.0, \"#f0f921\"]], \"type\": \"surface\"}], \"table\": [{\"cells\": {\"fill\": {\"color\": \"#EBF0F8\"}, \"line\": {\"color\": \"white\"}}, \"header\": {\"fill\": {\"color\": \"#C8D4E3\"}, \"line\": {\"color\": \"white\"}}, \"type\": \"table\"}]}, \"layout\": {\"annotationdefaults\": {\"arrowcolor\": \"#2a3f5f\", \"arrowhead\": 0, \"arrowwidth\": 1}, \"autotypenumbers\": \"strict\", \"coloraxis\": {\"colorbar\": {\"outlinewidth\": 0, \"ticks\": \"\"}}, \"colorscale\": {\"diverging\": [[0, \"#8e0152\"], [0.1, \"#c51b7d\"], [0.2, \"#de77ae\"], [0.3, \"#f1b6da\"], [0.4, \"#fde0ef\"], [0.5, \"#f7f7f7\"], [0.6, \"#e6f5d0\"], [0.7, \"#b8e186\"], [0.8, \"#7fbc41\"], [0.9, \"#4d9221\"], [1, \"#276419\"]], \"sequential\": [[0.0, \"#0d0887\"], [0.1111111111111111, \"#46039f\"], [0.2222222222222222, \"#7201a8\"], [0.3333333333333333, \"#9c179e\"], [0.4444444444444444, \"#bd3786\"], [0.5555555555555556, \"#d8576b\"], [0.6666666666666666, \"#ed7953\"], [0.7777777777777778, \"#fb9f3a\"], [0.8888888888888888, \"#fdca26\"], [1.0, \"#f0f921\"]], \"sequentialminus\": [[0.0, \"#0d0887\"], [0.1111111111111111, \"#46039f\"], [0.2222222222222222, \"#7201a8\"], [0.3333333333333333, \"#9c179e\"], [0.4444444444444444, \"#bd3786\"], [0.5555555555555556, \"#d8576b\"], [0.6666666666666666, \"#ed7953\"], [0.7777777777777778, \"#fb9f3a\"], [0.8888888888888888, \"#fdca26\"], [1.0, \"#f0f921\"]]}, \"colorway\": [\"#636efa\", \"#EF553B\", \"#00cc96\", \"#ab63fa\", \"#FFA15A\", \"#19d3f3\", \"#FF6692\", \"#B6E880\", \"#FF97FF\", \"#FECB52\"], \"font\": {\"color\": \"#2a3f5f\"}, \"geo\": {\"bgcolor\": \"white\", \"lakecolor\": \"white\", \"landcolor\": \"#E5ECF6\", \"showlakes\": true, \"showland\": true, \"subunitcolor\": \"white\"}, \"hoverlabel\": {\"align\": \"left\"}, \"hovermode\": \"closest\", \"mapbox\": {\"style\": \"light\"}, \"paper_bgcolor\": \"white\", \"plot_bgcolor\": \"#E5ECF6\", \"polar\": {\"angularaxis\": {\"gridcolor\": \"white\", \"linecolor\": \"white\", \"ticks\": \"\"}, \"bgcolor\": \"#E5ECF6\", \"radialaxis\": {\"gridcolor\": \"white\", \"linecolor\": \"white\", \"ticks\": \"\"}}, \"scene\": {\"xaxis\": {\"backgroundcolor\": \"#E5ECF6\", \"gridcolor\": \"white\", \"gridwidth\": 2, \"linecolor\": \"white\", \"showbackground\": true, \"ticks\": \"\", \"zerolinecolor\": \"white\"}, \"yaxis\": {\"backgroundcolor\": \"#E5ECF6\", \"gridcolor\": \"white\", \"gridwidth\": 2, \"linecolor\": \"white\", \"showbackground\": true, \"ticks\": \"\", \"zerolinecolor\": \"white\"}, \"zaxis\": {\"backgroundcolor\": \"#E5ECF6\", \"gridcolor\": \"white\", \"gridwidth\": 2, \"linecolor\": \"white\", \"showbackground\": true, \"ticks\": \"\", \"zerolinecolor\": \"white\"}}, \"shapedefaults\": {\"line\": {\"color\": \"#2a3f5f\"}}, \"ternary\": {\"aaxis\": {\"gridcolor\": \"white\", \"linecolor\": \"white\", \"ticks\": \"\"}, \"baxis\": {\"gridcolor\": \"white\", \"linecolor\": \"white\", \"ticks\": \"\"}, \"bgcolor\": \"#E5ECF6\", \"caxis\": {\"gridcolor\": \"white\", \"linecolor\": \"white\", \"ticks\": \"\"}}, \"title\": {\"x\": 0.05}, \"xaxis\": {\"automargin\": true, \"gridcolor\": \"white\", \"linecolor\": \"white\", \"ticks\": \"\", \"title\": {\"standoff\": 15}, \"zerolinecolor\": \"white\", \"zerolinewidth\": 2}, \"yaxis\": {\"automargin\": true, \"gridcolor\": \"white\", \"linecolor\": \"white\", \"ticks\": \"\", \"title\": {\"standoff\": 15}, \"zerolinecolor\": \"white\", \"zerolinewidth\": 2}}}, \"width\": 500, \"xaxis\": {\"title\": {\"text\": \"Layer\"}}, \"yaxis\": {\"range\": [0, 1], \"title\": {\"text\": \"IoU\"}}},                        {\"responsive\": true}                    ).then(function(){\n",
       "                            \n",
       "var gd = document.getElementById('9be67000-cc06-4364-a284-5b3018ce343c');\n",
       "var x = new MutationObserver(function (mutations, observer) {{\n",
       "        var display = window.getComputedStyle(gd).display;\n",
       "        if (!display || display === 'none') {{\n",
       "            console.log([gd, 'removed!']);\n",
       "            Plotly.purge(gd);\n",
       "            observer.disconnect();\n",
       "        }}\n",
       "}});\n",
       "\n",
       "// Listen for the removal of the full notebook cells\n",
       "var notebookContainer = gd.closest('#notebook-container');\n",
       "if (notebookContainer) {{\n",
       "    x.observe(notebookContainer, {childList: true});\n",
       "}}\n",
       "\n",
       "// Listen for the clearing of the current output cell\n",
       "var outputEl = gd.closest('.output');\n",
       "if (outputEl) {{\n",
       "    x.observe(outputEl, {childList: true});\n",
       "}}\n",
       "\n",
       "                        })                };                });            </script>        </div>"
      ]
     },
     "metadata": {},
     "output_type": "display_data"
    }
   ],
   "source": [
    "iou_fig"
   ]
  },
  {
   "cell_type": "code",
   "execution_count": null,
   "id": "d51b41bc",
   "metadata": {},
   "outputs": [],
   "source": []
  }
 ],
 "metadata": {
  "kernelspec": {
   "display_name": "circuit_pruner",
   "language": "python",
   "name": "circuit_pruner"
  },
  "language_info": {
   "codemirror_mode": {
    "name": "ipython",
    "version": 3
   },
   "file_extension": ".py",
   "mimetype": "text/x-python",
   "name": "python",
   "nbconvert_exporter": "python",
   "pygments_lexer": "ipython3",
   "version": "3.7.12"
  }
 },
 "nbformat": 4,
 "nbformat_minor": 5
}
