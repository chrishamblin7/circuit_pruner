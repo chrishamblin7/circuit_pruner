{
 "cells": [
  {
   "cell_type": "code",
   "execution_count": 1,
   "id": "66f1e0aa",
   "metadata": {},
   "outputs": [],
   "source": [
    "%load_ext autoreload\n",
    "%autoreload 2"
   ]
  },
  {
   "cell_type": "markdown",
   "id": "bb637480",
   "metadata": {},
   "source": [
    "#### max activations file"
   ]
  },
  {
   "cell_type": "code",
   "execution_count": 2,
   "id": "59f5c903",
   "metadata": {},
   "outputs": [],
   "source": [
    "import pickle\n",
    "\n",
    "#max_activations = pickle.load(open('max_activation_patches.pkl','rb'))\n",
    "max_activations = pickle.load(open('../cnn_subgraph_visualizer/prepped_models/alexnet_sparse/misc_data/all_max_activations.pkl','rb'))\n",
    "\n",
    "import os\n",
    "image_names = os.listdir(max_activations['image_folder'])\n",
    "image_names.sort()"
   ]
  },
  {
   "cell_type": "markdown",
   "id": "42dbac6f",
   "metadata": {},
   "source": [
    "#### generate target max image data"
   ]
  },
  {
   "cell_type": "code",
   "execution_count": 3,
   "id": "7c88e89b",
   "metadata": {},
   "outputs": [
    {
     "ename": "NameError",
     "evalue": "name 'model' is not defined",
     "output_type": "error",
     "traceback": [
      "\u001b[0;31m---------------------------------------------------------------------------\u001b[0m",
      "\u001b[0;31mNameError\u001b[0m                                 Traceback (most recent call last)",
      "\u001b[0;32m<ipython-input-3-83026306d7ed>\u001b[0m in \u001b[0;36m<module>\u001b[0;34m\u001b[0m\n\u001b[1;32m      1\u001b[0m \u001b[0mnodeid\u001b[0m \u001b[0;34m=\u001b[0m \u001b[0;36m1057\u001b[0m\u001b[0;34m\u001b[0m\u001b[0;34m\u001b[0m\u001b[0m\n\u001b[1;32m      2\u001b[0m \u001b[0;32mfrom\u001b[0m \u001b[0mcircuit_pruner\u001b[0m\u001b[0;34m.\u001b[0m\u001b[0mutils\u001b[0m \u001b[0;32mimport\u001b[0m \u001b[0mfilterid_2_perlayerid\u001b[0m\u001b[0;34m\u001b[0m\u001b[0;34m\u001b[0m\u001b[0m\n\u001b[0;32m----> 3\u001b[0;31m \u001b[0mlayer_num\u001b[0m\u001b[0;34m,\u001b[0m\u001b[0munit\u001b[0m\u001b[0;34m,\u001b[0m\u001b[0mlayer\u001b[0m \u001b[0;34m=\u001b[0m \u001b[0mfilterid_2_perlayerid\u001b[0m\u001b[0;34m(\u001b[0m\u001b[0mnodeid\u001b[0m\u001b[0;34m,\u001b[0m\u001b[0mmodel\u001b[0m\u001b[0;34m)\u001b[0m\u001b[0;34m\u001b[0m\u001b[0;34m\u001b[0m\u001b[0m\n\u001b[0m\u001b[1;32m      4\u001b[0m \u001b[0mfeature_targets\u001b[0m \u001b[0;34m=\u001b[0m \u001b[0;34m{\u001b[0m\u001b[0mlayer\u001b[0m\u001b[0;34m:\u001b[0m\u001b[0;34m[\u001b[0m\u001b[0munit\u001b[0m\u001b[0;34m]\u001b[0m\u001b[0;34m}\u001b[0m\u001b[0;34m\u001b[0m\u001b[0;34m\u001b[0m\u001b[0m\n\u001b[1;32m      5\u001b[0m \u001b[0;34m\u001b[0m\u001b[0m\n",
      "\u001b[0;31mNameError\u001b[0m: name 'model' is not defined"
     ]
    }
   ],
   "source": [
    "nodeid = 1057\n",
    "from circuit_pruner.utils import filterid_2_perlayerid\n",
    "layer_num,unit,layer = filterid_2_perlayerid(nodeid,model)\n",
    "feature_targets = {layer:[unit]}\n",
    "\n",
    "from PIL import Image\n",
    "from sklearn.manifold import TSNE\n",
    "import hdbscan\n",
    "import seaborn as sns\n",
    "import matplotlib.pyplot as plt\n",
    "\n",
    "image_root_folder = 'image_data/sample_data/polysemantic/'+layer+':'+str(unit)\n",
    "\n",
    "if os.path.exists(image_root_folder):\n",
    "    raise ValueError('image folder %s already exists.'%image_root_folder)\n",
    " \n",
    "\n",
    "os.mkdir(image_root_folder)\n",
    "\n",
    "#activations of layer to top image patches    \n",
    "patch_acts = pickle.load(open('/mnt/data/chris/dropbox/Research-Hamblin/Projects/cnn_subgraph_visualizer/prepped_models/alexnet_sparse/misc_data/maxpatch_layer_activations/'+str(nodeid)+'_top300.pkl','rb'))\n",
    "\n",
    "#show clustered projection of activations\n",
    "\n",
    "clusterer = hdbscan.HDBSCAN(min_cluster_size=10).fit(patch_acts)\n",
    "projection = TSNE().fit_transform(patch_acts)\n",
    "color_palette = sns.color_palette()\n",
    "cluster_colors = [color_palette[x] if x >= 0\n",
    "          else (0.5, 0.5, 0.5)\n",
    "          for x in clusterer.labels_]\n",
    "cluster_member_colors = [sns.desaturate(x, p) for x, p in\n",
    "                 zip(cluster_colors, clusterer.probabilities_)]\n",
    "plt.scatter(*projection.T, s=20, linewidth=0, c=cluster_member_colors, alpha=0.7)\n",
    "plt.show()\n",
    "\n",
    "\n",
    "select_data_acts = max_activations['layer']['conv'+str(layer_num)][0][:,unit]\n",
    "select_data_positions = max_activations['layer']['conv'+str(layer_num)][1][:,unit,:]\n",
    "\n",
    "top_activations = torch.topk(torch.DoubleTensor(select_data_acts),300)\n",
    "\n",
    "\n",
    "cluster_indices = {}\n",
    "for j in range(300):\n",
    "    clust_i = int(clusterer.labels_[j])\n",
    "    if clust_i >= 0:\n",
    "        if clust_i not in cluster_indices.keys():\n",
    "            cluster_indices[clust_i] = [j]\n",
    "        else:\n",
    "            cluster_indices[clust_i].append(j)\n",
    "\n",
    "for clust in cluster_indices:\n",
    "    image_folder = image_root_folder+'/cluster_'+str(clust)\n",
    "    if not os.path.exists(image_folder):\n",
    "        os.mkdir(image_folder)\n",
    "    print('cluster %s images: %s'%(str(clust),str(len(cluster_indices[clust]))))\n",
    "    count = 0\n",
    "    for ind in cluster_indices[clust]:\n",
    "\n",
    "            image_path = max_activations['image_folder']+'/'+image_names[int(top_activations.indices[ind])]\n",
    "            position = (int(select_data_positions[top_activations.indices[ind],0]),int(select_data_positions[top_activations.indices[ind],1]))\n",
    "            #print(select_data_acts[top_activations.indices[ind]])\n",
    "            #print(position)\n",
    "            #display_image_patch_for_activation(image_path,layer,position,frame=True)\n",
    "            img = Image.open(image_path)\n",
    "            #display(img)\n",
    "            img_name = str(count)+'.jpg'\n",
    "            img.save(image_folder+'/'+img_name)\n",
    "            #print('\\n\\n')\n",
    "            count += 1\n",
    "\n",
    "\n"
   ]
  },
  {
   "cell_type": "markdown",
   "id": "246d21eb",
   "metadata": {},
   "source": [
    "#### model"
   ]
  },
  {
   "cell_type": "code",
   "execution_count": 110,
   "id": "801e0ad0",
   "metadata": {},
   "outputs": [],
   "source": [
    "#hardware\n",
    "device = 'cuda:0'\n",
    "\n",
    "from circuit_pruner.utils import load_config\n",
    "\n",
    "config = load_config('/mnt/data/chris/dropbox/Research-Hamblin/Projects/circuit_pruner_cvpr2022/configs/alexnet_sparse_config.py')\n",
    "model = config.model.to(device)\n",
    "\n",
    "\n",
    "\n",
    "#general\n",
    "import torch\n",
    "import os\n",
    "from copy import deepcopy\n",
    "from circuit_pruner.force import setup_net_for_circuit_prune, show_model_layer_names"
   ]
  },
  {
   "cell_type": "markdown",
   "id": "6bc0fbfc",
   "metadata": {},
   "source": [
    "#### feature target"
   ]
  },
  {
   "cell_type": "code",
   "execution_count": 112,
   "id": "28e961fa",
   "metadata": {},
   "outputs": [],
   "source": [
    "nodeid = 905\n",
    "\n",
    "from circuit_pruner.utils import filterid_2_perlayerid\n",
    "\n",
    "layer_num,unit,layer = filterid_2_perlayerid(nodeid,model)\n",
    "\n",
    "feature_targets = {layer:[unit]}"
   ]
  },
  {
   "cell_type": "code",
   "execution_count": 113,
   "id": "67a99b37",
   "metadata": {},
   "outputs": [
    {
     "data": {
      "text/plain": [
       "{'features_10': [9]}"
      ]
     },
     "execution_count": 113,
     "metadata": {},
     "output_type": "execute_result"
    }
   ],
   "source": [
    "feature_targets"
   ]
  },
  {
   "cell_type": "markdown",
   "id": "929b1044",
   "metadata": {},
   "source": [
    "#### extract general circuit"
   ]
  },
  {
   "cell_type": "code",
   "execution_count": 114,
   "id": "96a81ced",
   "metadata": {},
   "outputs": [
    {
     "name": "stdout",
     "output_type": "stream",
     "text": [
      "found\n"
     ]
    }
   ],
   "source": [
    "import os\n",
    "\n",
    "general_ranks_folder = 'circuit_ranks/alexnet_sparse/imagenet_2/actxgrad/'\n",
    "general_rank_files = os.listdir(general_ranks_folder)\n",
    "for file in general_rank_files:\n",
    "    if '_'+layer+':'+str(unit)+'_' in file:\n",
    "        print('found')\n",
    "        general_ranks = torch.load(general_ranks_folder+file)\n",
    "        break"
   ]
  },
  {
   "cell_type": "code",
   "execution_count": 83,
   "id": "644beb38",
   "metadata": {},
   "outputs": [],
   "source": [
    "import pickle\n",
    "df = pickle.load(open('./extracted_circuits/circuit_with20force_df.pkl','rb'))"
   ]
  },
  {
   "cell_type": "code",
   "execution_count": 84,
   "id": "1d97eadc",
   "metadata": {},
   "outputs": [
    {
     "data": {
      "text/html": [
       "<div>\n",
       "<style scoped>\n",
       "    .dataframe tbody tr th:only-of-type {\n",
       "        vertical-align: middle;\n",
       "    }\n",
       "\n",
       "    .dataframe tbody tr th {\n",
       "        vertical-align: top;\n",
       "    }\n",
       "\n",
       "    .dataframe thead th {\n",
       "        text-align: right;\n",
       "    }\n",
       "</style>\n",
       "<table border=\"1\" class=\"dataframe\">\n",
       "  <thead>\n",
       "    <tr style=\"text-align: right;\">\n",
       "      <th></th>\n",
       "      <th>sparsity</th>\n",
       "      <th>effective_sparsity</th>\n",
       "      <th>pruned_pearson</th>\n",
       "    </tr>\n",
       "  </thead>\n",
       "  <tbody>\n",
       "    <tr>\n",
       "      <th>31782</th>\n",
       "      <td>0.001</td>\n",
       "      <td>0.000038</td>\n",
       "      <td>0.141962</td>\n",
       "    </tr>\n",
       "    <tr>\n",
       "      <th>31783</th>\n",
       "      <td>0.005</td>\n",
       "      <td>0.001754</td>\n",
       "      <td>0.252371</td>\n",
       "    </tr>\n",
       "    <tr>\n",
       "      <th>31784</th>\n",
       "      <td>0.010</td>\n",
       "      <td>0.005277</td>\n",
       "      <td>0.301975</td>\n",
       "    </tr>\n",
       "    <tr>\n",
       "      <th>31785</th>\n",
       "      <td>0.050</td>\n",
       "      <td>0.045890</td>\n",
       "      <td>0.140092</td>\n",
       "    </tr>\n",
       "    <tr>\n",
       "      <th>31786</th>\n",
       "      <td>0.100</td>\n",
       "      <td>0.099406</td>\n",
       "      <td>0.503945</td>\n",
       "    </tr>\n",
       "    <tr>\n",
       "      <th>31787</th>\n",
       "      <td>0.200</td>\n",
       "      <td>0.199840</td>\n",
       "      <td>0.838351</td>\n",
       "    </tr>\n",
       "    <tr>\n",
       "      <th>31788</th>\n",
       "      <td>0.300</td>\n",
       "      <td>0.299917</td>\n",
       "      <td>0.964347</td>\n",
       "    </tr>\n",
       "    <tr>\n",
       "      <th>31789</th>\n",
       "      <td>0.400</td>\n",
       "      <td>0.399988</td>\n",
       "      <td>0.995799</td>\n",
       "    </tr>\n",
       "    <tr>\n",
       "      <th>31790</th>\n",
       "      <td>0.500</td>\n",
       "      <td>0.499897</td>\n",
       "      <td>0.999939</td>\n",
       "    </tr>\n",
       "    <tr>\n",
       "      <th>31791</th>\n",
       "      <td>0.600</td>\n",
       "      <td>0.599785</td>\n",
       "      <td>0.999999</td>\n",
       "    </tr>\n",
       "    <tr>\n",
       "      <th>31792</th>\n",
       "      <td>0.700</td>\n",
       "      <td>0.699926</td>\n",
       "      <td>1.000000</td>\n",
       "    </tr>\n",
       "    <tr>\n",
       "      <th>31793</th>\n",
       "      <td>0.800</td>\n",
       "      <td>0.799992</td>\n",
       "      <td>1.000000</td>\n",
       "    </tr>\n",
       "    <tr>\n",
       "      <th>31794</th>\n",
       "      <td>0.900</td>\n",
       "      <td>0.900004</td>\n",
       "      <td>1.000000</td>\n",
       "    </tr>\n",
       "    <tr>\n",
       "      <th>31795</th>\n",
       "      <td>0.950</td>\n",
       "      <td>0.950002</td>\n",
       "      <td>1.000000</td>\n",
       "    </tr>\n",
       "  </tbody>\n",
       "</table>\n",
       "</div>"
      ],
      "text/plain": [
       "       sparsity  effective_sparsity  pruned_pearson\n",
       "31782     0.001            0.000038        0.141962\n",
       "31783     0.005            0.001754        0.252371\n",
       "31784     0.010            0.005277        0.301975\n",
       "31785     0.050            0.045890        0.140092\n",
       "31786     0.100            0.099406        0.503945\n",
       "31787     0.200            0.199840        0.838351\n",
       "31788     0.300            0.299917        0.964347\n",
       "31789     0.400            0.399988        0.995799\n",
       "31790     0.500            0.499897        0.999939\n",
       "31791     0.600            0.599785        0.999999\n",
       "31792     0.700            0.699926        1.000000\n",
       "31793     0.800            0.799992        1.000000\n",
       "31794     0.900            0.900004        1.000000\n",
       "31795     0.950            0.950002        1.000000"
      ]
     },
     "execution_count": 84,
     "metadata": {},
     "output_type": "execute_result"
    }
   ],
   "source": [
    "df.loc[(df['model']=='alexnet_sparse') & (df['layer']==layer) & (df['method']=='actxgrad') & (df['unit']==unit)][['sparsity','effective_sparsity','pruned_pearson']]"
   ]
  },
  {
   "cell_type": "code",
   "execution_count": 85,
   "id": "a63410cc",
   "metadata": {},
   "outputs": [
    {
     "name": "stdout",
     "output_type": "stream",
     "text": [
      "features_10 effective last layer\n",
      "target sparsity: 0.5\n",
      "total params to feature: 184768\n",
      "\n",
      "kept params in original mask: 92384      (total params * sparsity)\n",
      "original mask: 1018231 params\n",
      "effective mask: 1018060 params\n",
      "effective_sparsity: 0.49989175614825077\n",
      "filter sparsity: 0.8249696917215102\n",
      "kernel sparsity: 0.6059516624242265\n"
     ]
    }
   ],
   "source": [
    "from circuit_pruner.extraction import model_ranks_2_circuit_model\n",
    "from circuit_pruner.utils import circuit_2_model_sparsity\n",
    "\n",
    "sparsity = .5\n",
    "\n",
    "general_circuit,general_mask = model_ranks_2_circuit_model(general_ranks,sparsity,model,\n",
    "                                                                     feature_targets,device,structure='edges',\n",
    "                                                                     use_effective_mask=True)\n",
    "\n",
    "general_circuit = general_circuit.eval().to('cpu')\n",
    "\n",
    "for l in general_mask:\n",
    "    l = l.to('cpu')\n",
    "    \n",
    "    \n",
    "circuit_feature_targets = {layer:[0]}\n",
    "circuit_unit = 0\n",
    "\n",
    "general_circuit_sparsity_factor = circuit_2_model_sparsity(general_circuit,model)"
   ]
  },
  {
   "cell_type": "code",
   "execution_count": 86,
   "id": "bd28e1fa",
   "metadata": {},
   "outputs": [
    {
     "data": {
      "text/plain": [
       "0.49989175614825077"
      ]
     },
     "execution_count": 86,
     "metadata": {},
     "output_type": "execute_result"
    }
   ],
   "source": [
    "general_circuit_sparsity_factor"
   ]
  },
  {
   "cell_type": "markdown",
   "id": "85072027",
   "metadata": {},
   "source": [
    "###### or use model instead of general circuit"
   ]
  },
  {
   "cell_type": "code",
   "execution_count": 122,
   "id": "00e1ad7c",
   "metadata": {},
   "outputs": [],
   "source": [
    "# circuit_feature_targets = {layer:[unit]}\n",
    "# general_circuit = model\n",
    "# circuit_unit = unit\n",
    "# general_circuit_sparsity_factor = 1"
   ]
  },
  {
   "cell_type": "markdown",
   "id": "a398f20a",
   "metadata": {},
   "source": [
    "#### feature visualization of circuit"
   ]
  },
  {
   "cell_type": "code",
   "execution_count": 135,
   "id": "ed59114e",
   "metadata": {},
   "outputs": [
    {
     "name": "stdout",
     "output_type": "stream",
     "text": [
      "------------------------------------------------------------------------------\n",
      "        Layer (type)    map size      start       jump receptive_field \n",
      "==============================================================================\n",
      "        0             [224, 224]        0.5        1.0             1.0 \n",
      "        1               [55, 55]        3.5        4.0            11.0 \n",
      "        2               [55, 55]        3.5        4.0            11.0 \n",
      "        3               [27, 27]        7.5        8.0            19.0 \n",
      "        4               [27, 27]        7.5        8.0            51.0 \n",
      "        5               [27, 27]        7.5        8.0            51.0 \n",
      "        6               [13, 13]       15.5       16.0            67.0 \n",
      "        7               [13, 13]       15.5       16.0            99.0 \n",
      "        8               [13, 13]       15.5       16.0            99.0 \n",
      "        9               [13, 13]       15.5       16.0           131.0 \n",
      "        10              [13, 13]       15.5       16.0           131.0 \n",
      "        11              [13, 13]       15.5       16.0           163.0 \n",
      "==============================================================================\n"
     ]
    },
    {
     "name": "stderr",
     "output_type": "stream",
     "text": [
      "100%|██████████| 512/512 [00:21<00:00, 23.50it/s]\n"
     ]
    },
    {
     "data": {
      "text/html": [
       "<div style=\"display: flex; flex-direction: row;\"><div style=\"margin-right:10px; margin-top: 4px;\">\n",
       "                            0 <br/>\n",
       "                            <img src=\"data:image/PNG;base64,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\" style=\"image-rendering: pixelated;\">\n",
       "                        </div></div>"
      ],
      "text/plain": [
       "<IPython.core.display.HTML object>"
      ]
     },
     "metadata": {},
     "output_type": "display_data"
    },
    {
     "name": "stdout",
     "output_type": "stream",
     "text": [
      "(13, 13)\n",
      "(6, 6)\n",
      "[(30.0, 193.0), (30.0, 193.0)]\n"
     ]
    },
    {
     "data": {
      "image/png": "[encoded data removed]",
      "text/plain": [
       "<PIL.Image.Image image mode=RGB size=163x163 at 0x7FBA04BDA250>"
      ]
     },
     "execution_count": 135,
     "metadata": {},
     "output_type": "execute_result"
    }
   ],
   "source": [
    "from circuit_pruner.visualizer.featureviz  import featviz_in_recep_field\n",
    "\n",
    "\n",
    "featviz_in_recep_field(deepcopy(general_circuit),layer,circuit_unit,margin=0)"
   ]
  },
  {
   "cell_type": "markdown",
   "id": "5bfcebc2",
   "metadata": {},
   "source": [
    "#### dataloading"
   ]
  },
  {
   "cell_type": "code",
   "execution_count": 115,
   "id": "58763377",
   "metadata": {},
   "outputs": [],
   "source": [
    "image_root_folder = 'image_data/sample_data/polysemantic/'+layer+':'+str(unit)\n",
    "#clusters = os.listdir(image_root_folder)\n",
    "clusters = ['cluster_0','cluster_1']\n",
    "#clusters = ['mixed_0','mixed_1']\n",
    "\n",
    "from circuit_pruner.data_loading import rank_image_data\n",
    "from circuit_pruner.data_loading import single_image_data\n",
    "from torchvision import transforms\n",
    "from torch.utils import data\n",
    "\n",
    "\n",
    "dataloaders = {}\n",
    "\n",
    "#make 'general' filter dataloader\n",
    "kwargs = {'num_workers': 4, 'pin_memory': True, 'sampler':None} if 'cuda' in device else {}\n",
    "\n",
    "\n",
    "for cluster in clusters:\n",
    "\n",
    "    dataloaders[cluster] = data.DataLoader(rank_image_data(image_root_folder+'/'+cluster,\n",
    "                                            config.preprocess,\n",
    "                                            class_folders=False),\n",
    "                                            batch_size=5,\n",
    "                                            shuffle=False,\n",
    "                                            **kwargs)\n",
    "\n"
   ]
  },
  {
   "cell_type": "markdown",
   "id": "c03cbd43",
   "metadata": {},
   "source": [
    "#### generate ranks"
   ]
  },
  {
   "cell_type": "code",
   "execution_count": 116,
   "id": "9a5479c7",
   "metadata": {},
   "outputs": [
    {
     "name": "stdout",
     "output_type": "stream",
     "text": [
      "cluster_0\n",
      "cluster_1\n"
     ]
    }
   ],
   "source": [
    "from circuit_pruner.dissected_Conv2d import set_across_model, set_model_target_node\n",
    "from circuit_pruner.dissected_Conv2d import get_ranklist_from_dissected_Conv2d_modules, clear_ranks_across_model\n",
    "from copy import deepcopy\n",
    "from circuit_pruner.dissected_Conv2d import dissect_model\n",
    "\n",
    "structure = 'kernels'\n",
    "\n",
    "ranks = {}\n",
    "\n",
    "\n",
    "for cluster in clusters:\n",
    "    print(cluster)\n",
    "    \n",
    "    rankable_model = dissect_model(deepcopy(general_circuit), dissect=True,store_ranks = True, device=device)\n",
    "    rankable_model.to(device)\n",
    "\n",
    "    set_model_target_node(rankable_model,layer,circuit_unit)\n",
    "\n",
    "    #we want to get ranks with respect to the maximum activation in each image, these why these image sets\n",
    "    #where constructed, and its based on these activation locations that the images were clustered\n",
    "    set_across_model(rankable_model,'rank_field','max')\n",
    "    \n",
    "\n",
    "    set_across_model(rankable_model,'absolute_rank',True)\n",
    "    \n",
    "    iter_dataloader = iter(dataloaders[cluster])\n",
    "    iters = len(iter_dataloader)\n",
    "\n",
    "    #actually extract ranks by running images through model\n",
    "    clear_ranks_across_model(rankable_model)\n",
    "\n",
    "    for it in range(iters):\n",
    "\n",
    "        inputs, label = next(iter_dataloader)\n",
    "        inputs = inputs.to(device)\n",
    "\n",
    "        rankable_model.zero_grad()\n",
    "\n",
    "        try:\n",
    "            outputs = rankable_model(inputs)\n",
    "        except:\n",
    "            pass\n",
    "\n",
    "\n",
    "    ranks[cluster] = get_ranklist_from_dissected_Conv2d_modules(rankable_model)\n",
    "    \n",
    "    del rankable_model\n",
    "    torch.cuda.empty_cache()"
   ]
  },
  {
   "cell_type": "code",
   "execution_count": 117,
   "id": "46f94f83",
   "metadata": {},
   "outputs": [],
   "source": [
    "from circuit_pruner.ranks import minmax_norm_ranks\n",
    "\n",
    "normed_ranks = {}\n",
    "for cluster in clusters:\n",
    "    normed_ranks[cluster] = minmax_norm_ranks(ranks[cluster])"
   ]
  },
  {
   "cell_type": "code",
   "execution_count": 64,
   "id": "78e54427",
   "metadata": {},
   "outputs": [
    {
     "data": {
      "text/plain": [
       "Sequential(\n",
       "  (features_0): Conv2d(3, 64, kernel_size=(11, 11), stride=(4, 4), padding=(2, 2))\n",
       "  (features_1): ReLU(inplace=True)\n",
       "  (features_2): MaxPool2d(kernel_size=3, stride=2, padding=0, dilation=1, ceil_mode=False)\n",
       "  (features_3): Conv2d(64, 192, kernel_size=(5, 5), stride=(1, 1), padding=(2, 2))\n",
       "  (features_4): ReLU(inplace=True)\n",
       "  (features_5): MaxPool2d(kernel_size=3, stride=2, padding=0, dilation=1, ceil_mode=False)\n",
       "  (features_6): Conv2d(192, 384, kernel_size=(3, 3), stride=(1, 1), padding=(1, 1))\n",
       "  (features_7): ReLU(inplace=True)\n",
       "  (features_8): Conv2d(384, 172, kernel_size=(3, 3), stride=(1, 1), padding=(1, 1))\n",
       "  (features_9): ReLU(inplace=True)\n",
       "  (features_10): Conv2d(172, 1, kernel_size=(3, 3), stride=(1, 1), padding=(1, 1))\n",
       ")"
      ]
     },
     "execution_count": 64,
     "metadata": {},
     "output_type": "execute_result"
    }
   ],
   "source": [
    "general_circuit"
   ]
  },
  {
   "cell_type": "markdown",
   "id": "551d305b",
   "metadata": {},
   "source": [
    "#### activation preservation as function of sparsity"
   ]
  },
  {
   "cell_type": "markdown",
   "id": "0bc5fdce",
   "metadata": {},
   "source": [
    "##### dataloaders with larger batchsize"
   ]
  },
  {
   "cell_type": "code",
   "execution_count": 118,
   "id": "4f53bbc5",
   "metadata": {},
   "outputs": [],
   "source": [
    "dataloaders = {}\n",
    "\n",
    "#make 'general' filter dataloader\n",
    "kwargs = {'num_workers': 4, 'pin_memory': True, 'sampler':None} if 'cuda' in device else {}\n",
    "\n",
    "\n",
    "for cluster in clusters:\n",
    "\n",
    "    dataloaders[cluster] = data.DataLoader(rank_image_data(image_root_folder+'/'+cluster,\n",
    "                                            config.preprocess,\n",
    "                                            class_folders=False),\n",
    "                                            batch_size=40,\n",
    "                                            shuffle=False,\n",
    "                                            **kwargs)\n"
   ]
  },
  {
   "cell_type": "code",
   "execution_count": 32,
   "id": "399ac6c1",
   "metadata": {},
   "outputs": [
    {
     "name": "stdout",
     "output_type": "stream",
     "text": [
      "\n",
      "\n",
      "\n",
      "\n",
      "cluster_0\n",
      "cluster_0\n",
      "\n",
      "\n",
      "\n",
      "\n",
      "original\n",
      "features_10 effective last layer\n",
      "average orig acts:\n",
      "feature features_10:0: 19.367305755615234\n",
      "Target Sparsity: 0.9999\n",
      "features_10 effective last layer\n",
      "target sparsity: 0.9999\n",
      "total params to feature: 152428\n",
      "\n",
      "we found 60064 params that were already zero'd out, your model is already a pruned circuit right? . . . \t\t\t   just making sure, we are subtracting these params from the total.\n",
      "\n",
      "new total params: 92364    (after subtracting previously masked params)\n",
      "kept params in original mask: 92355      (total params * sparsity)\n",
      "gradients from this feature are sparse,the minimum acceptable rank at this sparsity has a score of zero! we will return a mask thats smaller than you asked, by masking all parameters with a score of zero.\n",
      "original mask: 1018060 params\n",
      "effective mask: 1018060 params\n",
      "effective_sparsity: 1.0\n"
     ]
    },
    {
     "name": "stderr",
     "output_type": "stream",
     "text": [
      "/mnt/data/chris/dropbox/Research-Hamblin/Projects/circuit_pruner_cvpr2022/circuit_pruner/extraction.py:251: UserWarning: This overload of nonzero is deprecated:\n",
      "\tnonzero()\n",
      "Consider using one of the following signatures instead:\n",
      "\tnonzero(*, bool as_tuple) (Triggered internally at  /opt/conda/conda-bld/pytorch_1595629427478/work/torch/csrc/utils/python_arg_parser.cpp:766.)\n",
      "  possible_flip_indices = possible_flips.nonzero()\n"
     ]
    },
    {
     "name": "stdout",
     "output_type": "stream",
     "text": [
      "features_10 effective last layer\n",
      "average circuit acts:\n",
      "feature features_10:0: 19.367305755615234\n",
      "Target Sparsity: 0.9855536231884058\n",
      "features_10 effective last layer\n",
      "target sparsity: 0.9855536231884058\n",
      "total params to feature: 152428\n",
      "\n",
      "we found 60064 params that were already zero'd out, your model is already a pruned circuit right? . . . \t\t\t   just making sure, we are subtracting these params from the total.\n",
      "\n",
      "new total params: 92364    (after subtracting previously masked params)\n",
      "kept params in original mask: 91030      (total params * sparsity)\n",
      "original mask: 1005951 params\n",
      "effective mask: 1005942 params\n",
      "effective_sparsity: 0.9855571434758131\n"
     ]
    },
    {
     "ename": "KeyboardInterrupt",
     "evalue": "",
     "output_type": "error",
     "traceback": [
      "\u001b[0;31m---------------------------------------------------------------------------\u001b[0m",
      "\u001b[0;31mKeyboardInterrupt\u001b[0m                         Traceback (most recent call last)",
      "\u001b[0;32m<ipython-input-32-1a461fae1bff>\u001b[0m in \u001b[0;36m<module>\u001b[0;34m\u001b[0m\n\u001b[1;32m     33\u001b[0m                                                                 \u001b[0msparsities\u001b[0m\u001b[0;34m,\u001b[0m\u001b[0mdevice\u001b[0m\u001b[0;34m,\u001b[0m\u001b[0mmetric\u001b[0m\u001b[0;34m=\u001b[0m\u001b[0;34m'all'\u001b[0m\u001b[0;34m,\u001b[0m\u001b[0;34m\u001b[0m\u001b[0;34m\u001b[0m\u001b[0m\n\u001b[1;32m     34\u001b[0m                                                                 \u001b[0mrank_field\u001b[0m \u001b[0;34m=\u001b[0m \u001b[0;34m'orig_max'\u001b[0m\u001b[0;34m,\u001b[0m\u001b[0;34m\u001b[0m\u001b[0;34m\u001b[0m\u001b[0m\n\u001b[0;32m---> 35\u001b[0;31m                                                                 structure=structure)\n\u001b[0m",
      "\u001b[0;32m/mnt/data/chris/dropbox/Research-Hamblin/Projects/circuit_pruner_cvpr2022/circuit_pruner/extraction.py\u001b[0m in \u001b[0;36mget_preservation_at_sparsities\u001b[0;34m(model, ranks, feature_targets, dataloader, sparsities, device, rank_field, metric, structure, print_avg_acts)\u001b[0m\n\u001b[1;32m    617\u001b[0m                 \u001b[0mprint\u001b[0m\u001b[0;34m(\u001b[0m\u001b[0;34m'Target Sparsity: %s'\u001b[0m\u001b[0;34m%\u001b[0m\u001b[0mstr\u001b[0m\u001b[0;34m(\u001b[0m\u001b[0msparsity\u001b[0m\u001b[0;34m)\u001b[0m\u001b[0;34m)\u001b[0m\u001b[0;34m\u001b[0m\u001b[0;34m\u001b[0m\u001b[0m\n\u001b[1;32m    618\u001b[0m                 \u001b[0;31m#extract circuit\u001b[0m\u001b[0;34m\u001b[0m\u001b[0;34m\u001b[0m\u001b[0;34m\u001b[0m\u001b[0m\n\u001b[0;32m--> 619\u001b[0;31m                 \u001b[0mcircuit\u001b[0m\u001b[0;34m,\u001b[0m \u001b[0mmask\u001b[0m \u001b[0;34m=\u001b[0m \u001b[0mmodel_ranks_2_circuit_model\u001b[0m\u001b[0;34m(\u001b[0m\u001b[0mranks\u001b[0m\u001b[0;34m,\u001b[0m\u001b[0msparsity\u001b[0m\u001b[0;34m,\u001b[0m\u001b[0mmodel\u001b[0m\u001b[0;34m,\u001b[0m\u001b[0mfeature_targets\u001b[0m\u001b[0;34m,\u001b[0m\u001b[0mdevice\u001b[0m\u001b[0;34m,\u001b[0m\u001b[0mstructure\u001b[0m\u001b[0;34m=\u001b[0m\u001b[0mstructure\u001b[0m\u001b[0;34m)\u001b[0m\u001b[0;34m\u001b[0m\u001b[0;34m\u001b[0m\u001b[0m\n\u001b[0m\u001b[1;32m    620\u001b[0m \u001b[0;34m\u001b[0m\u001b[0m\n\u001b[1;32m    621\u001b[0m                 \u001b[0;32mif\u001b[0m \u001b[0mcircuit\u001b[0m \u001b[0;32mis\u001b[0m \u001b[0;32mnot\u001b[0m \u001b[0;32mNone\u001b[0m\u001b[0;34m:\u001b[0m   \u001b[0;31m#we might have total collapse\u001b[0m\u001b[0;34m\u001b[0m\u001b[0;34m\u001b[0m\u001b[0m\n",
      "\u001b[0;32m/mnt/data/chris/dropbox/Research-Hamblin/Projects/circuit_pruner_cvpr2022/circuit_pruner/extraction.py\u001b[0m in \u001b[0;36mmodel_ranks_2_circuit_model\u001b[0;34m(layer_ranks, sparsity, model, feature_targets, device, method, structure, use_effective_mask, rank_field, zero_zeros)\u001b[0m\n\u001b[1;32m    393\u001b[0m \u001b[0;34m\u001b[0m\u001b[0m\n\u001b[1;32m    394\u001b[0m                 \u001b[0;32mif\u001b[0m \u001b[0;32mnot\u001b[0m \u001b[0mtotal_collapse\u001b[0m\u001b[0;34m:\u001b[0m\u001b[0;34m\u001b[0m\u001b[0;34m\u001b[0m\u001b[0m\n\u001b[0;32m--> 395\u001b[0;31m                         \u001b[0mpruned_model\u001b[0m \u001b[0;34m=\u001b[0m \u001b[0mextract_circuit_with_eff_mask\u001b[0m\u001b[0;34m(\u001b[0m\u001b[0mmodel\u001b[0m\u001b[0;34m,\u001b[0m\u001b[0meffect_mask\u001b[0m\u001b[0;34m)\u001b[0m\u001b[0;34m\u001b[0m\u001b[0;34m\u001b[0m\u001b[0m\n\u001b[0m\u001b[1;32m    396\u001b[0m \u001b[0;34m\u001b[0m\u001b[0m\n\u001b[1;32m    397\u001b[0m \u001b[0;34m\u001b[0m\u001b[0m\n",
      "\u001b[0;32m/mnt/data/chris/dropbox/Research-Hamblin/Projects/circuit_pruner_cvpr2022/circuit_pruner/extraction.py\u001b[0m in \u001b[0;36mextract_circuit_with_eff_mask\u001b[0;34m(model, eff_mask)\u001b[0m\n\u001b[1;32m    177\u001b[0m                                 \u001b[0;32mfor\u001b[0m \u001b[0mo_i\u001b[0m\u001b[0;34m,\u001b[0m\u001b[0mo\u001b[0m \u001b[0;32min\u001b[0m \u001b[0menumerate\u001b[0m\u001b[0;34m(\u001b[0m\u001b[0mout_channels\u001b[0m\u001b[0;34m)\u001b[0m\u001b[0;34m:\u001b[0m\u001b[0;34m\u001b[0m\u001b[0;34m\u001b[0m\u001b[0m\n\u001b[1;32m    178\u001b[0m                                         \u001b[0;32mfor\u001b[0m \u001b[0mi_i\u001b[0m\u001b[0;34m,\u001b[0m\u001b[0mi\u001b[0m \u001b[0;32min\u001b[0m \u001b[0menumerate\u001b[0m\u001b[0;34m(\u001b[0m\u001b[0min_channels\u001b[0m\u001b[0;34m)\u001b[0m\u001b[0;34m:\u001b[0m\u001b[0;34m\u001b[0m\u001b[0;34m\u001b[0m\u001b[0m\n\u001b[0;32m--> 179\u001b[0;31m                                                 \u001b[0;32mif\u001b[0m \u001b[0mlen\u001b[0m\u001b[0;34m(\u001b[0m\u001b[0mlayer_mask\u001b[0m\u001b[0;34m.\u001b[0m\u001b[0mshape\u001b[0m\u001b[0;34m)\u001b[0m \u001b[0;34m==\u001b[0m \u001b[0;36m2\u001b[0m\u001b[0;34m:\u001b[0m\u001b[0;34m\u001b[0m\u001b[0;34m\u001b[0m\u001b[0m\n\u001b[0m\u001b[1;32m    180\u001b[0m                                                         \u001b[0;32mif\u001b[0m \u001b[0mlayer_mask\u001b[0m\u001b[0;34m[\u001b[0m\u001b[0mo\u001b[0m\u001b[0;34m,\u001b[0m\u001b[0mi\u001b[0m\u001b[0;34m]\u001b[0m \u001b[0;34m!=\u001b[0m \u001b[0;36m0\u001b[0m\u001b[0;34m:\u001b[0m\u001b[0;34m\u001b[0m\u001b[0;34m\u001b[0m\u001b[0m\n\u001b[1;32m    181\u001b[0m                                                                 \u001b[0mweights\u001b[0m\u001b[0;34m[\u001b[0m\u001b[0mo_i\u001b[0m\u001b[0;34m,\u001b[0m\u001b[0mi_i\u001b[0m\u001b[0;34m,\u001b[0m\u001b[0;34m:\u001b[0m\u001b[0;34m,\u001b[0m\u001b[0;34m:\u001b[0m\u001b[0;34m]\u001b[0m \u001b[0;34m=\u001b[0m \u001b[0mold_conv\u001b[0m\u001b[0;34m.\u001b[0m\u001b[0mweight\u001b[0m\u001b[0;34m[\u001b[0m\u001b[0mo\u001b[0m\u001b[0;34m,\u001b[0m\u001b[0mi\u001b[0m\u001b[0;34m,\u001b[0m\u001b[0;34m:\u001b[0m\u001b[0;34m,\u001b[0m\u001b[0;34m:\u001b[0m\u001b[0;34m]\u001b[0m\u001b[0;34m\u001b[0m\u001b[0;34m\u001b[0m\u001b[0m\n",
      "\u001b[0;31mKeyboardInterrupt\u001b[0m: "
     ]
    }
   ],
   "source": [
    "from circuit_pruner.extraction import get_preservation_at_sparsities\n",
    "import numpy as np\n",
    "\n",
    "ranker = normed_ranks\n",
    "\n",
    "structure='kernels'\n",
    "\n",
    "sparsities = np.linspace(.9999, .01, num=70)\n",
    "\n",
    "\n",
    "\n",
    "model_sparsities = []\n",
    "for sparsity in sparsities:\n",
    "    model_sparsities.append(sparsity*general_circuit_sparsity_factor) \n",
    "\n",
    "\n",
    "scores = {}\n",
    "for cluster in clusters:\n",
    "    scores[cluster+'_circuit'] = {}\n",
    "\n",
    "for rank_cluster in clusters:\n",
    "    for data_cluster in clusters:\n",
    "        print('\\n\\n\\n')\n",
    "        print(rank_cluster)\n",
    "        print(data_cluster)\n",
    "        print('\\n\\n\\n')\n",
    "        scores[rank_cluster+'_circuit'][data_cluster+'_data'] = get_preservation_at_sparsities(\n",
    "            \n",
    "                                                                general_circuit,\n",
    "                                                                ranker[rank_cluster],\n",
    "                                                                circuit_feature_targets,\n",
    "                                                                dataloaders[data_cluster],\n",
    "                                                                sparsities,device,metric='all',\n",
    "                                                                rank_field = 'orig_max',\n",
    "                                                                structure=structure)\n"
   ]
  },
  {
   "cell_type": "code",
   "execution_count": 178,
   "id": "1eb04362",
   "metadata": {},
   "outputs": [],
   "source": [
    "import pickle\n",
    "\n",
    "#pickle.dump(scores,open('plots/1057_normed_scores.pkl','wb'))"
   ]
  },
  {
   "cell_type": "code",
   "execution_count": 116,
   "id": "93ed0517",
   "metadata": {},
   "outputs": [
    {
     "data": {
      "text/plain": [
       "19.210546"
      ]
     },
     "execution_count": 116,
     "metadata": {},
     "output_type": "execute_result"
    }
   ],
   "source": [
    "scores['mixed_0_circuit']['mixed_0_data']['features_10:0']['avg_diff'][15]/scores['mixed_0_circuit']['mixed_0_data']['features_10:0']['mean_normed_diff'][15]"
   ]
  },
  {
   "cell_type": "code",
   "execution_count": 119,
   "id": "76287797",
   "metadata": {},
   "outputs": [],
   "source": [
    "#scores = pickle.load(open('plots/1057_normed_scores.pkl','rb'))\n",
    "scores = pickle.load(open('plots/905_scores.pkl','rb'))"
   ]
  },
  {
   "cell_type": "code",
   "execution_count": 92,
   "id": "ac828c9b",
   "metadata": {},
   "outputs": [],
   "source": [
    "means = {}\n",
    "\n",
    "for cluster in clusters:\n",
    "    means[cluster+'_data'] = scores[cluster+'_circuit'][cluster+'_data'][layer+':0']['avg_diff'][15]/scores[cluster+'_circuit'][cluster+'_data'][layer+':0']['mean_normed_diff'][15]"
   ]
  },
  {
   "cell_type": "code",
   "execution_count": 93,
   "id": "89185004",
   "metadata": {},
   "outputs": [
    {
     "data": {
      "text/plain": [
       "{'mixed_0_data': 19.210546, 'mixed_1_data': 19.220985}"
      ]
     },
     "execution_count": 93,
     "metadata": {},
     "output_type": "execute_result"
    }
   ],
   "source": [
    "means"
   ]
  },
  {
   "cell_type": "code",
   "execution_count": 94,
   "id": "1c72beea",
   "metadata": {},
   "outputs": [
    {
     "ename": "KeyError",
     "evalue": "'cluster_0_circuit'",
     "output_type": "error",
     "traceback": [
      "\u001b[0;31m---------------------------------------------------------------------------\u001b[0m",
      "\u001b[0;31mKeyError\u001b[0m                                  Traceback (most recent call last)",
      "\u001b[0;32m<ipython-input-94-b4f5918ed64d>\u001b[0m in \u001b[0;36m<module>\u001b[0;34m\u001b[0m\n\u001b[0;32m----> 1\u001b[0;31m \u001b[0mscores\u001b[0m\u001b[0;34m[\u001b[0m\u001b[0;34m'cluster_0_circuit'\u001b[0m\u001b[0;34m]\u001b[0m\u001b[0;34m[\u001b[0m\u001b[0;34m'cluster_0_data'\u001b[0m\u001b[0;34m]\u001b[0m\u001b[0;34m[\u001b[0m\u001b[0;34m'features_10:0'\u001b[0m\u001b[0;34m]\u001b[0m\u001b[0;34m.\u001b[0m\u001b[0mkeys\u001b[0m\u001b[0;34m(\u001b[0m\u001b[0;34m)\u001b[0m\u001b[0;34m\u001b[0m\u001b[0;34m\u001b[0m\u001b[0m\n\u001b[0m",
      "\u001b[0;31mKeyError\u001b[0m: 'cluster_0_circuit'"
     ]
    }
   ],
   "source": [
    "scores['cluster_0_circuit']['cluster_0_data']['features_10:0'].keys()"
   ]
  },
  {
   "cell_type": "code",
   "execution_count": 120,
   "id": "269a73ac",
   "metadata": {},
   "outputs": [],
   "source": [
    "import numpy as np\n",
    "\n",
    "sparsities = np.linspace(.9999, .01, num=70)\n",
    "model_sparsities = []\n",
    "for sparsity in sparsities:\n",
    "    model_sparsities.append(sparsity*general_circuit_sparsity_factor) "
   ]
  },
  {
   "cell_type": "code",
   "execution_count": 99,
   "id": "9d0ccc06",
   "metadata": {},
   "outputs": [
    {
     "name": "stdout",
     "output_type": "stream",
     "text": [
      "tensor(2.1126)\n"
     ]
    }
   ],
   "source": [
    "import torch\n",
    "orig = torch.load('target_activations/alexnet_sparse/imagenet_2/orig_activations.pt')\n",
    "\n",
    "std = orig['activations'][layer+':'+str(unit)].std()\n",
    "print(std)"
   ]
  },
  {
   "cell_type": "code",
   "execution_count": 129,
   "id": "828a3b6e",
   "metadata": {},
   "outputs": [
    {
     "data": {
      "application/vnd.plotly.v1+json": {
       "config": {
        "plotlyServerURL": "https://plot.ly"
       },
       "data": [
        {
         "line": {
          "color": "#4C78A8",
          "width": 15
         },
         "name": "cluster 1 circuit : cluster 1 images",
         "type": "scatter",
         "x": [
          0.49984176697263594,
          0.4926701314739236,
          0.48549849597521116,
          0.47832686047649886,
          0.47115522497778645,
          0.4639835894790741,
          0.4568119539803618,
          0.44964031848164937,
          0.442468682982937,
          0.4352970474842246,
          0.42812541198551224,
          0.4209537764867999,
          0.4137821409880875,
          0.40661050548937516,
          0.3994388699906628,
          0.39226723449195045,
          0.38509559899323803,
          0.37792396349452567,
          0.3707523279958133,
          0.36358069249710095,
          0.3564090569983886,
          0.3492374214996762,
          0.3420657860009639,
          0.33489415050225146,
          0.3277225150035391,
          0.32055087950482675,
          0.31337924400611433,
          0.30620760850740203,
          0.2990359730086896,
          0.29186433750997726,
          0.2846927020112649,
          0.27752106651255254,
          0.2703494310138402,
          0.26317779551512777,
          0.2560061600164154,
          0.24883452451770308,
          0.2416628890189907,
          0.2344912535202783,
          0.22731961802156597,
          0.22014798252285359,
          0.2129763470241412,
          0.20580471152542884,
          0.19863307602671645,
          0.19146144052800412,
          0.18428980502929174,
          0.17711816953057935,
          0.16994653403186702,
          0.16277489853315463,
          0.15560326303444227,
          0.1484316275357299,
          0.1412599920370175,
          0.13408835653830517,
          0.12691672103959278,
          0.11974508554088041,
          0.11257345004216808,
          0.1054018145434557,
          0.09823017904474332,
          0.09105854354603093,
          0.08388690804731855,
          0.07671527254860622,
          0.06954363704989384,
          0.06237200155118146,
          0.055200366052469134,
          0.04802873055375675,
          0.04085709505504437,
          0.03368545955633199,
          0.026513824057619602,
          0.019342188558907278,
          0.012170553060194895,
          0.0049989175614825075
         ],
         "y": [
          0,
          1.1158811048517236e-06,
          -4.4406100641936064e-05,
          -0.0011766408570110798,
          -0.0001300509466091171,
          0.00030070787761360407,
          3.7024146877229214e-06,
          7.878904580138624e-05,
          -0.0030648396350443363,
          -0.0025975301396101713,
          0.003891966538503766,
          0.0030392298940569162,
          0.0022470690310001373,
          0.0046241809614002705,
          0.007253996562212706,
          0.0073214503936469555,
          0.004109907429665327,
          0.002223709598183632,
          0.0022741719149053097,
          0.0029787090606987476,
          0.004681026563048363,
          0.006535583641380072,
          0.012930894270539284,
          -0.004521726630628109,
          -0.025448091328144073,
          -0.038434628397226334,
          -0.03751695156097412,
          -0.039053093641996384,
          0.02046496421098709,
          0.003055283334106207,
          0.004245344549417496,
          -0.006106728222221136,
          -0.004286624491214752,
          -0.008454432711005211,
          -0.005176706239581108,
          -0.022056832909584045,
          -0.02527746371924877,
          -0.023722484707832336,
          -0.030005326494574547,
          -0.018567748367786407,
          -0.062302134931087494,
          -0.07412547618150711,
          -0.06996867805719376,
          -0.08634918183088303,
          -0.10739129036664963,
          -0.12196023762226105,
          -0.14916688203811646,
          -0.16787606477737427,
          -0.1663064807653427,
          -0.15325668454170227,
          -0.18526141345500946,
          -0.14392408728599548,
          -0.15890449285507202,
          -0.18651925027370453,
          -0.21412862837314606,
          -0.27651143074035645,
          -0.3238659203052521,
          -0.319470077753067,
          -0.3391161859035492,
          -0.37277770042419434,
          -0.48341473937034607,
          -0.614625871181488,
          -0.7406800389289856,
          -0.8317793607711792,
          -0.8215234875679016,
          -0.7231405377388,
          -0.7199727296829224,
          -0.6527359485626221,
          -0.5953975319862366,
          -0.35262516140937805
         ]
        },
        {
         "line": {
          "color": "#4C78A8",
          "dash": "dot",
          "width": 15
         },
         "name": "cluster 1 circuit : cluster 2 images",
         "type": "scatter",
         "x": [
          0.49984176697263594,
          0.4926701314739236,
          0.48549849597521116,
          0.47832686047649886,
          0.47115522497778645,
          0.4639835894790741,
          0.4568119539803618,
          0.44964031848164937,
          0.442468682982937,
          0.4352970474842246,
          0.42812541198551224,
          0.4209537764867999,
          0.4137821409880875,
          0.40661050548937516,
          0.3994388699906628,
          0.39226723449195045,
          0.38509559899323803,
          0.37792396349452567,
          0.3707523279958133,
          0.36358069249710095,
          0.3564090569983886,
          0.3492374214996762,
          0.3420657860009639,
          0.33489415050225146,
          0.3277225150035391,
          0.32055087950482675,
          0.31337924400611433,
          0.30620760850740203,
          0.2990359730086896,
          0.29186433750997726,
          0.2846927020112649,
          0.27752106651255254,
          0.2703494310138402,
          0.26317779551512777,
          0.2560061600164154,
          0.24883452451770308,
          0.2416628890189907,
          0.2344912535202783,
          0.22731961802156597,
          0.22014798252285359,
          0.2129763470241412,
          0.20580471152542884,
          0.19863307602671645,
          0.19146144052800412,
          0.18428980502929174,
          0.17711816953057935,
          0.16994653403186702,
          0.16277489853315463,
          0.15560326303444227,
          0.1484316275357299,
          0.1412599920370175,
          0.13408835653830517,
          0.12691672103959278,
          0.11974508554088041,
          0.11257345004216808,
          0.1054018145434557,
          0.09823017904474332,
          0.09105854354603093,
          0.08388690804731855,
          0.07671527254860622,
          0.06954363704989384,
          0.06237200155118146,
          0.055200366052469134,
          0.04802873055375675,
          0.04085709505504437,
          0.03368545955633199,
          0.026513824057619602,
          0.019342188558907278,
          0.012170553060194895,
          0.0049989175614825075
         ],
         "y": [
          0,
          0.0021195588633418083,
          0.010228746570646763,
          -0.0029924085829406977,
          -0.0032244022004306316,
          -0.004882866982370615,
          0.018940391018986702,
          0.0073378742672502995,
          -0.016390670090913773,
          -0.0194904375821352,
          -0.008771502412855625,
          -0.0064330026507377625,
          -0.018330251798033714,
          -0.013135525397956371,
          -0.014623517170548439,
          -0.030591493472456932,
          -0.04873039573431015,
          -0.04271074756979942,
          -0.052637964487075806,
          -0.03821668028831482,
          -0.05676177889108658,
          -0.0697907954454422,
          -0.060993049293756485,
          -0.11818243563175201,
          -0.20735640823841095,
          -0.2196783423423767,
          -0.23257581889629364,
          -0.23750969767570496,
          -0.2586534321308136,
          -0.2658281922340393,
          -0.26732805371284485,
          -0.31389960646629333,
          -0.30727121233940125,
          -0.3282579481601715,
          -0.33002665638923645,
          -0.3405247926712036,
          -0.35624954104423523,
          -0.35138043761253357,
          -0.38776978850364685,
          -0.4086604416370392,
          -0.40275058150291443,
          -0.4045692980289459,
          -0.4264831840991974,
          -0.44098278880119324,
          -0.46338242292404175,
          -0.5281214714050293,
          -0.5952630639076233,
          -0.5922380685806274,
          -0.6154375672340393,
          -0.6056626439094543,
          -0.6386303901672363,
          -0.7013286352157593,
          -0.7298532128334045,
          -0.779273271560669,
          -0.7603455185890198,
          -0.7602124810218811,
          -0.8222103118896484,
          -0.8173816800117493,
          -0.8134880661964417,
          -0.8550637364387512,
          -0.9005144238471985,
          -0.9756383895874023,
          -1.012229323387146,
          -1.0913081169128418,
          -1.1479843854904175,
          -1.1384897232055664,
          -1.1831920146942139,
          -1.0705398321151733,
          -0.8969804048538208,
          -0.48395660519599915
         ]
        },
        {
         "line": {
          "color": "#F58518",
          "dash": "dot",
          "width": 15
         },
         "name": "cluster 2 circuit : cluster 1 images",
         "type": "scatter",
         "x": [
          0.49984176697263594,
          0.4926701314739236,
          0.48549849597521116,
          0.47832686047649886,
          0.47115522497778645,
          0.4639835894790741,
          0.4568119539803618,
          0.44964031848164937,
          0.442468682982937,
          0.4352970474842246,
          0.42812541198551224,
          0.4209537764867999,
          0.4137821409880875,
          0.40661050548937516,
          0.3994388699906628,
          0.39226723449195045,
          0.38509559899323803,
          0.37792396349452567,
          0.3707523279958133,
          0.36358069249710095,
          0.3564090569983886,
          0.3492374214996762,
          0.3420657860009639,
          0.33489415050225146,
          0.3277225150035391,
          0.32055087950482675,
          0.31337924400611433,
          0.30620760850740203,
          0.2990359730086896,
          0.29186433750997726,
          0.2846927020112649,
          0.27752106651255254,
          0.2703494310138402,
          0.26317779551512777,
          0.2560061600164154,
          0.24883452451770308,
          0.2416628890189907,
          0.2344912535202783,
          0.22731961802156597,
          0.22014798252285359,
          0.2129763470241412,
          0.20580471152542884,
          0.19863307602671645,
          0.19146144052800412,
          0.18428980502929174,
          0.17711816953057935,
          0.16994653403186702,
          0.16277489853315463,
          0.15560326303444227,
          0.1484316275357299,
          0.1412599920370175,
          0.13408835653830517,
          0.12691672103959278,
          0.11974508554088041,
          0.11257345004216808,
          0.1054018145434557,
          0.09823017904474332,
          0.09105854354603093,
          0.08388690804731855,
          0.07671527254860622,
          0.06954363704989384,
          0.06237200155118146,
          0.055200366052469134,
          0.04802873055375675,
          0.04085709505504437,
          0.03368545955633199,
          0.026513824057619602,
          0.019342188558907278,
          0.012170553060194895,
          0.0049989175614825075
         ],
         "y": [
          0,
          -0.2589012682437897,
          -0.5161617994308472,
          -0.47045937180519104,
          -0.4993438720703125,
          -0.5384073257446289,
          -0.6072751879692078,
          -0.632652997970581,
          -0.6554324626922607,
          -0.6556257605552673,
          -0.6529852747917175,
          -0.7099882364273071,
          -0.7214885354042053,
          -0.83055579662323,
          -0.8138409852981567,
          -0.8669338226318359,
          -0.8533663153648376,
          -0.8820622563362122,
          -0.8901433944702148,
          -0.9127225875854492,
          -0.9287069439888,
          -0.9002900719642639,
          -0.8734901547431946,
          -0.9105899333953857,
          -1.1564252376556396,
          -1.1501741409301758,
          -1.1544491052627563,
          -1.1621582508087158,
          -1.1541111469268799,
          -1.1020243167877197,
          -1.0746804475784302,
          -1.0635862350463867,
          -1.0323286056518555,
          -1.0592377185821533,
          -1.0236458778381348,
          -1.0132660865783691,
          -1.0523183345794678,
          -1.0460970401763916,
          -1.0237149000167847,
          -0.9919644594192505,
          -0.9714043140411377,
          -0.9491915702819824,
          -0.9427333474159241,
          -0.9581128358840942,
          -1.0009188652038574,
          -1.025843620300293,
          -0.9867379069328308,
          -1.003358006477356,
          -1.0192402601242065,
          -1.023735523223877,
          -0.9477377533912659,
          -0.9233481884002686,
          -0.9065014123916626,
          -0.8665950298309326,
          -0.8322051167488098,
          -0.812113344669342,
          -0.8517715930938721,
          -0.8926233053207397,
          -0.912613034248352,
          -0.9319491982460022,
          -0.9266109466552734,
          -0.9202671647071838,
          -0.9352565407752991,
          -0.9006370306015015,
          -0.9176574349403381,
          -0.9063839316368103,
          -0.8896248936653137,
          -0.8988022208213806,
          -0.8447322249412537,
          -0.8583881855010986
         ]
        },
        {
         "line": {
          "color": "#F58518",
          "width": 15
         },
         "name": "cluster 2 circuit : cluster 2 images",
         "type": "scatter",
         "x": [
          0.49984176697263594,
          0.4926701314739236,
          0.48549849597521116,
          0.47832686047649886,
          0.47115522497778645,
          0.4639835894790741,
          0.4568119539803618,
          0.44964031848164937,
          0.442468682982937,
          0.4352970474842246,
          0.42812541198551224,
          0.4209537764867999,
          0.4137821409880875,
          0.40661050548937516,
          0.3994388699906628,
          0.39226723449195045,
          0.38509559899323803,
          0.37792396349452567,
          0.3707523279958133,
          0.36358069249710095,
          0.3564090569983886,
          0.3492374214996762,
          0.3420657860009639,
          0.33489415050225146,
          0.3277225150035391,
          0.32055087950482675,
          0.31337924400611433,
          0.30620760850740203,
          0.2990359730086896,
          0.29186433750997726,
          0.2846927020112649,
          0.27752106651255254,
          0.2703494310138402,
          0.26317779551512777,
          0.2560061600164154,
          0.24883452451770308,
          0.2416628890189907,
          0.2344912535202783,
          0.22731961802156597,
          0.22014798252285359,
          0.2129763470241412,
          0.20580471152542884,
          0.19863307602671645,
          0.19146144052800412,
          0.18428980502929174,
          0.17711816953057935,
          0.16994653403186702,
          0.16277489853315463,
          0.15560326303444227,
          0.1484316275357299,
          0.1412599920370175,
          0.13408835653830517,
          0.12691672103959278,
          0.11974508554088041,
          0.11257345004216808,
          0.1054018145434557,
          0.09823017904474332,
          0.09105854354603093,
          0.08388690804731855,
          0.07671527254860622,
          0.06954363704989384,
          0.06237200155118146,
          0.055200366052469134,
          0.04802873055375675,
          0.04085709505504437,
          0.03368545955633199,
          0.026513824057619602,
          0.019342188558907278,
          0.012170553060194895,
          0.0049989175614825075
         ],
         "y": [
          0,
          0.0003125509829260409,
          0.00021747409482486546,
          0.000316775927785784,
          0.0008128181798383594,
          0.001513651106506586,
          0.001960325986146927,
          0.005201106425374746,
          0.002484865952283144,
          0.004868015181273222,
          0.006784338504076004,
          0.011395523324608803,
          0.01320979930460453,
          0.011124225333333015,
          0.01475053746253252,
          0.00881071388721466,
          0.009098047390580177,
          0.013006445951759815,
          0.028284572064876556,
          0.027185313403606415,
          0.028500951826572418,
          0.027270661666989326,
          0.03674352914094925,
          0.03185892477631569,
          0.00872618705034256,
          0.00449838861823082,
          0.0005026016151532531,
          0.0005278481403365731,
          0.000436406146036461,
          0.013963676057755947,
          0.026342950761318207,
          0.03049379587173462,
          0.032756589353084564,
          0.024376073852181435,
          0.019316276535391808,
          0.02779664471745491,
          0.03130178526043892,
          0.034382414072752,
          0.02069382183253765,
          0.012186887674033642,
          0.012564807198941708,
          0.016583101823925972,
          -0.004208701197057962,
          0.00279761734418571,
          -0.020323004573583603,
          -0.05669375881552696,
          -0.05033034086227417,
          -0.07217121869325638,
          -0.062058087438344955,
          -0.08609341084957123,
          -0.07388360798358917,
          -0.058952562510967255,
          -0.06719733029603958,
          -0.0722382590174675,
          -0.08212197571992874,
          -0.1316387802362442,
          -0.24130256474018097,
          -0.2879598140716553,
          -0.3267592489719391,
          -0.34203559160232544,
          -0.39908817410469055,
          -0.378928005695343,
          -0.5325832366943359,
          -0.5649116635322571,
          -0.6136768460273743,
          -0.6475735902786255,
          -0.6529520153999329,
          -0.7160940766334534,
          -0.5664817690849304,
          -0.6348891854286194
         ]
        }
       ],
       "layout": {
        "legend": {
         "x": 0.03,
         "xanchor": "left",
         "y": 0.95,
         "yanchor": "top"
        },
        "paper_bgcolor": "rgba(255,255,255,1)",
        "plot_bgcolor": "rgba(255,255,255,1)",
        "template": {
         "data": {
          "bar": [
           {
            "error_x": {
             "color": "#2a3f5f"
            },
            "error_y": {
             "color": "#2a3f5f"
            },
            "marker": {
             "line": {
              "color": "#E5ECF6",
              "width": 0.5
             }
            },
            "type": "bar"
           }
          ],
          "barpolar": [
           {
            "marker": {
             "line": {
              "color": "#E5ECF6",
              "width": 0.5
             }
            },
            "type": "barpolar"
           }
          ],
          "carpet": [
           {
            "aaxis": {
             "endlinecolor": "#2a3f5f",
             "gridcolor": "white",
             "linecolor": "white",
             "minorgridcolor": "white",
             "startlinecolor": "#2a3f5f"
            },
            "baxis": {
             "endlinecolor": "#2a3f5f",
             "gridcolor": "white",
             "linecolor": "white",
             "minorgridcolor": "white",
             "startlinecolor": "#2a3f5f"
            },
            "type": "carpet"
           }
          ],
          "choropleth": [
           {
            "colorbar": {
             "outlinewidth": 0,
             "ticks": ""
            },
            "type": "choropleth"
           }
          ],
          "contour": [
           {
            "colorbar": {
             "outlinewidth": 0,
             "ticks": ""
            },
            "colorscale": [
             [
              0,
              "#0d0887"
             ],
             [
              0.1111111111111111,
              "#46039f"
             ],
             [
              0.2222222222222222,
              "#7201a8"
             ],
             [
              0.3333333333333333,
              "#9c179e"
             ],
             [
              0.4444444444444444,
              "#bd3786"
             ],
             [
              0.5555555555555556,
              "#d8576b"
             ],
             [
              0.6666666666666666,
              "#ed7953"
             ],
             [
              0.7777777777777778,
              "#fb9f3a"
             ],
             [
              0.8888888888888888,
              "#fdca26"
             ],
             [
              1,
              "#f0f921"
             ]
            ],
            "type": "contour"
           }
          ],
          "contourcarpet": [
           {
            "colorbar": {
             "outlinewidth": 0,
             "ticks": ""
            },
            "type": "contourcarpet"
           }
          ],
          "heatmap": [
           {
            "colorbar": {
             "outlinewidth": 0,
             "ticks": ""
            },
            "colorscale": [
             [
              0,
              "#0d0887"
             ],
             [
              0.1111111111111111,
              "#46039f"
             ],
             [
              0.2222222222222222,
              "#7201a8"
             ],
             [
              0.3333333333333333,
              "#9c179e"
             ],
             [
              0.4444444444444444,
              "#bd3786"
             ],
             [
              0.5555555555555556,
              "#d8576b"
             ],
             [
              0.6666666666666666,
              "#ed7953"
             ],
             [
              0.7777777777777778,
              "#fb9f3a"
             ],
             [
              0.8888888888888888,
              "#fdca26"
             ],
             [
              1,
              "#f0f921"
             ]
            ],
            "type": "heatmap"
           }
          ],
          "heatmapgl": [
           {
            "colorbar": {
             "outlinewidth": 0,
             "ticks": ""
            },
            "colorscale": [
             [
              0,
              "#0d0887"
             ],
             [
              0.1111111111111111,
              "#46039f"
             ],
             [
              0.2222222222222222,
              "#7201a8"
             ],
             [
              0.3333333333333333,
              "#9c179e"
             ],
             [
              0.4444444444444444,
              "#bd3786"
             ],
             [
              0.5555555555555556,
              "#d8576b"
             ],
             [
              0.6666666666666666,
              "#ed7953"
             ],
             [
              0.7777777777777778,
              "#fb9f3a"
             ],
             [
              0.8888888888888888,
              "#fdca26"
             ],
             [
              1,
              "#f0f921"
             ]
            ],
            "type": "heatmapgl"
           }
          ],
          "histogram": [
           {
            "marker": {
             "colorbar": {
              "outlinewidth": 0,
              "ticks": ""
             }
            },
            "type": "histogram"
           }
          ],
          "histogram2d": [
           {
            "colorbar": {
             "outlinewidth": 0,
             "ticks": ""
            },
            "colorscale": [
             [
              0,
              "#0d0887"
             ],
             [
              0.1111111111111111,
              "#46039f"
             ],
             [
              0.2222222222222222,
              "#7201a8"
             ],
             [
              0.3333333333333333,
              "#9c179e"
             ],
             [
              0.4444444444444444,
              "#bd3786"
             ],
             [
              0.5555555555555556,
              "#d8576b"
             ],
             [
              0.6666666666666666,
              "#ed7953"
             ],
             [
              0.7777777777777778,
              "#fb9f3a"
             ],
             [
              0.8888888888888888,
              "#fdca26"
             ],
             [
              1,
              "#f0f921"
             ]
            ],
            "type": "histogram2d"
           }
          ],
          "histogram2dcontour": [
           {
            "colorbar": {
             "outlinewidth": 0,
             "ticks": ""
            },
            "colorscale": [
             [
              0,
              "#0d0887"
             ],
             [
              0.1111111111111111,
              "#46039f"
             ],
             [
              0.2222222222222222,
              "#7201a8"
             ],
             [
              0.3333333333333333,
              "#9c179e"
             ],
             [
              0.4444444444444444,
              "#bd3786"
             ],
             [
              0.5555555555555556,
              "#d8576b"
             ],
             [
              0.6666666666666666,
              "#ed7953"
             ],
             [
              0.7777777777777778,
              "#fb9f3a"
             ],
             [
              0.8888888888888888,
              "#fdca26"
             ],
             [
              1,
              "#f0f921"
             ]
            ],
            "type": "histogram2dcontour"
           }
          ],
          "mesh3d": [
           {
            "colorbar": {
             "outlinewidth": 0,
             "ticks": ""
            },
            "type": "mesh3d"
           }
          ],
          "parcoords": [
           {
            "line": {
             "colorbar": {
              "outlinewidth": 0,
              "ticks": ""
             }
            },
            "type": "parcoords"
           }
          ],
          "pie": [
           {
            "automargin": true,
            "type": "pie"
           }
          ],
          "scatter": [
           {
            "marker": {
             "colorbar": {
              "outlinewidth": 0,
              "ticks": ""
             }
            },
            "type": "scatter"
           }
          ],
          "scatter3d": [
           {
            "line": {
             "colorbar": {
              "outlinewidth": 0,
              "ticks": ""
             }
            },
            "marker": {
             "colorbar": {
              "outlinewidth": 0,
              "ticks": ""
             }
            },
            "type": "scatter3d"
           }
          ],
          "scattercarpet": [
           {
            "marker": {
             "colorbar": {
              "outlinewidth": 0,
              "ticks": ""
             }
            },
            "type": "scattercarpet"
           }
          ],
          "scattergeo": [
           {
            "marker": {
             "colorbar": {
              "outlinewidth": 0,
              "ticks": ""
             }
            },
            "type": "scattergeo"
           }
          ],
          "scattergl": [
           {
            "marker": {
             "colorbar": {
              "outlinewidth": 0,
              "ticks": ""
             }
            },
            "type": "scattergl"
           }
          ],
          "scattermapbox": [
           {
            "marker": {
             "colorbar": {
              "outlinewidth": 0,
              "ticks": ""
             }
            },
            "type": "scattermapbox"
           }
          ],
          "scatterpolar": [
           {
            "marker": {
             "colorbar": {
              "outlinewidth": 0,
              "ticks": ""
             }
            },
            "type": "scatterpolar"
           }
          ],
          "scatterpolargl": [
           {
            "marker": {
             "colorbar": {
              "outlinewidth": 0,
              "ticks": ""
             }
            },
            "type": "scatterpolargl"
           }
          ],
          "scatterternary": [
           {
            "marker": {
             "colorbar": {
              "outlinewidth": 0,
              "ticks": ""
             }
            },
            "type": "scatterternary"
           }
          ],
          "surface": [
           {
            "colorbar": {
             "outlinewidth": 0,
             "ticks": ""
            },
            "colorscale": [
             [
              0,
              "#0d0887"
             ],
             [
              0.1111111111111111,
              "#46039f"
             ],
             [
              0.2222222222222222,
              "#7201a8"
             ],
             [
              0.3333333333333333,
              "#9c179e"
             ],
             [
              0.4444444444444444,
              "#bd3786"
             ],
             [
              0.5555555555555556,
              "#d8576b"
             ],
             [
              0.6666666666666666,
              "#ed7953"
             ],
             [
              0.7777777777777778,
              "#fb9f3a"
             ],
             [
              0.8888888888888888,
              "#fdca26"
             ],
             [
              1,
              "#f0f921"
             ]
            ],
            "type": "surface"
           }
          ],
          "table": [
           {
            "cells": {
             "fill": {
              "color": "#EBF0F8"
             },
             "line": {
              "color": "white"
             }
            },
            "header": {
             "fill": {
              "color": "#C8D4E3"
             },
             "line": {
              "color": "white"
             }
            },
            "type": "table"
           }
          ]
         },
         "layout": {
          "annotationdefaults": {
           "arrowcolor": "#2a3f5f",
           "arrowhead": 0,
           "arrowwidth": 1
          },
          "autotypenumbers": "strict",
          "coloraxis": {
           "colorbar": {
            "outlinewidth": 0,
            "ticks": ""
           }
          },
          "colorscale": {
           "diverging": [
            [
             0,
             "#8e0152"
            ],
            [
             0.1,
             "#c51b7d"
            ],
            [
             0.2,
             "#de77ae"
            ],
            [
             0.3,
             "#f1b6da"
            ],
            [
             0.4,
             "#fde0ef"
            ],
            [
             0.5,
             "#f7f7f7"
            ],
            [
             0.6,
             "#e6f5d0"
            ],
            [
             0.7,
             "#b8e186"
            ],
            [
             0.8,
             "#7fbc41"
            ],
            [
             0.9,
             "#4d9221"
            ],
            [
             1,
             "#276419"
            ]
           ],
           "sequential": [
            [
             0,
             "#0d0887"
            ],
            [
             0.1111111111111111,
             "#46039f"
            ],
            [
             0.2222222222222222,
             "#7201a8"
            ],
            [
             0.3333333333333333,
             "#9c179e"
            ],
            [
             0.4444444444444444,
             "#bd3786"
            ],
            [
             0.5555555555555556,
             "#d8576b"
            ],
            [
             0.6666666666666666,
             "#ed7953"
            ],
            [
             0.7777777777777778,
             "#fb9f3a"
            ],
            [
             0.8888888888888888,
             "#fdca26"
            ],
            [
             1,
             "#f0f921"
            ]
           ],
           "sequentialminus": [
            [
             0,
             "#0d0887"
            ],
            [
             0.1111111111111111,
             "#46039f"
            ],
            [
             0.2222222222222222,
             "#7201a8"
            ],
            [
             0.3333333333333333,
             "#9c179e"
            ],
            [
             0.4444444444444444,
             "#bd3786"
            ],
            [
             0.5555555555555556,
             "#d8576b"
            ],
            [
             0.6666666666666666,
             "#ed7953"
            ],
            [
             0.7777777777777778,
             "#fb9f3a"
            ],
            [
             0.8888888888888888,
             "#fdca26"
            ],
            [
             1,
             "#f0f921"
            ]
           ]
          },
          "colorway": [
           "#636efa",
           "#EF553B",
           "#00cc96",
           "#ab63fa",
           "#FFA15A",
           "#19d3f3",
           "#FF6692",
           "#B6E880",
           "#FF97FF",
           "#FECB52"
          ],
          "font": {
           "color": "#2a3f5f"
          },
          "geo": {
           "bgcolor": "white",
           "lakecolor": "white",
           "landcolor": "#E5ECF6",
           "showlakes": true,
           "showland": true,
           "subunitcolor": "white"
          },
          "hoverlabel": {
           "align": "left"
          },
          "hovermode": "closest",
          "mapbox": {
           "style": "light"
          },
          "paper_bgcolor": "white",
          "plot_bgcolor": "#E5ECF6",
          "polar": {
           "angularaxis": {
            "gridcolor": "white",
            "linecolor": "white",
            "ticks": ""
           },
           "bgcolor": "#E5ECF6",
           "radialaxis": {
            "gridcolor": "white",
            "linecolor": "white",
            "ticks": ""
           }
          },
          "scene": {
           "xaxis": {
            "backgroundcolor": "#E5ECF6",
            "gridcolor": "white",
            "gridwidth": 2,
            "linecolor": "white",
            "showbackground": true,
            "ticks": "",
            "zerolinecolor": "white"
           },
           "yaxis": {
            "backgroundcolor": "#E5ECF6",
            "gridcolor": "white",
            "gridwidth": 2,
            "linecolor": "white",
            "showbackground": true,
            "ticks": "",
            "zerolinecolor": "white"
           },
           "zaxis": {
            "backgroundcolor": "#E5ECF6",
            "gridcolor": "white",
            "gridwidth": 2,
            "linecolor": "white",
            "showbackground": true,
            "ticks": "",
            "zerolinecolor": "white"
           }
          },
          "shapedefaults": {
           "line": {
            "color": "#2a3f5f"
           }
          },
          "ternary": {
           "aaxis": {
            "gridcolor": "white",
            "linecolor": "white",
            "ticks": ""
           },
           "baxis": {
            "gridcolor": "white",
            "linecolor": "white",
            "ticks": ""
           },
           "bgcolor": "#E5ECF6",
           "caxis": {
            "gridcolor": "white",
            "linecolor": "white",
            "ticks": ""
           }
          },
          "title": {
           "x": 0.05
          },
          "xaxis": {
           "automargin": true,
           "gridcolor": "white",
           "linecolor": "white",
           "ticks": "",
           "title": {
            "standoff": 15
           },
           "zerolinecolor": "white",
           "zerolinewidth": 2
          },
          "yaxis": {
           "automargin": true,
           "gridcolor": "white",
           "linecolor": "white",
           "ticks": "",
           "title": {
            "standoff": 15
           },
           "zerolinecolor": "white",
           "zerolinewidth": 2
          }
         }
        },
        "width": 720,
        "xaxis": {
         "autorange": "reversed",
         "gridcolor": "rgb(210,210,210)",
         "gridwidth": 4,
         "tickmode": "array",
         "tickvals": [
          0.5,
          0.4,
          0.3,
          0.2,
          0.1
         ],
         "title": {
          "text": "sparsity"
         }
        },
        "yaxis": {
         "gridcolor": "rgb(210,210,210)",
         "gridwidth": 4,
         "title": {
          "text": "$\\Huge{\\Delta\\mathcal{F}}$"
         }
        }
       }
      },
      "text/html": [
       "<div>                            <div id=\"b526bf26-8ea0-4a64-be39-32e60c3da00f\" class=\"plotly-graph-div\" style=\"height:525px; width:720px;\"></div>            <script type=\"text/javascript\">                require([\"plotly\"], function(Plotly) {                    window.PLOTLYENV=window.PLOTLYENV || {};                                    if (document.getElementById(\"b526bf26-8ea0-4a64-be39-32e60c3da00f\")) {                    Plotly.newPlot(                        \"b526bf26-8ea0-4a64-be39-32e60c3da00f\",                        [{\"line\": {\"color\": \"#4C78A8\", \"width\": 15}, \"name\": \"cluster 1 circuit : cluster 1 images\", \"type\": \"scatter\", \"x\": [0.49984176697263594, 0.4926701314739236, 0.48549849597521116, 0.47832686047649886, 0.47115522497778645, 0.4639835894790741, 0.4568119539803618, 0.44964031848164937, 0.442468682982937, 0.4352970474842246, 0.42812541198551224, 0.4209537764867999, 0.4137821409880875, 0.40661050548937516, 0.3994388699906628, 0.39226723449195045, 0.38509559899323803, 0.37792396349452567, 0.3707523279958133, 0.36358069249710095, 0.3564090569983886, 0.3492374214996762, 0.3420657860009639, 0.33489415050225146, 0.3277225150035391, 0.32055087950482675, 0.31337924400611433, 0.30620760850740203, 0.2990359730086896, 0.29186433750997726, 0.2846927020112649, 0.27752106651255254, 0.2703494310138402, 0.26317779551512777, 0.2560061600164154, 0.24883452451770308, 0.2416628890189907, 0.2344912535202783, 0.22731961802156597, 0.22014798252285359, 0.2129763470241412, 0.20580471152542884, 0.19863307602671645, 0.19146144052800412, 0.18428980502929174, 0.17711816953057935, 0.16994653403186702, 0.16277489853315463, 0.15560326303444227, 0.1484316275357299, 0.1412599920370175, 0.13408835653830517, 0.12691672103959278, 0.11974508554088041, 0.11257345004216808, 0.1054018145434557, 0.09823017904474332, 0.09105854354603093, 0.08388690804731855, 0.07671527254860622, 0.06954363704989384, 0.06237200155118146, 0.055200366052469134, 0.04802873055375675, 0.04085709505504437, 0.03368545955633199, 0.026513824057619602, 0.019342188558907278, 0.012170553060194895, 0.0049989175614825075], \"y\": [0.0, 1.1158811048517236e-06, -4.4406100641936064e-05, -0.0011766408570110798, -0.0001300509466091171, 0.00030070787761360407, 3.7024146877229214e-06, 7.878904580138624e-05, -0.0030648396350443363, -0.0025975301396101713, 0.003891966538503766, 0.0030392298940569162, 0.0022470690310001373, 0.0046241809614002705, 0.007253996562212706, 0.0073214503936469555, 0.004109907429665327, 0.002223709598183632, 0.0022741719149053097, 0.0029787090606987476, 0.004681026563048363, 0.006535583641380072, 0.012930894270539284, -0.004521726630628109, -0.025448091328144073, -0.038434628397226334, -0.03751695156097412, -0.039053093641996384, 0.02046496421098709, 0.003055283334106207, 0.004245344549417496, -0.006106728222221136, -0.004286624491214752, -0.008454432711005211, -0.005176706239581108, -0.022056832909584045, -0.02527746371924877, -0.023722484707832336, -0.030005326494574547, -0.018567748367786407, -0.062302134931087494, -0.07412547618150711, -0.06996867805719376, -0.08634918183088303, -0.10739129036664963, -0.12196023762226105, -0.14916688203811646, -0.16787606477737427, -0.1663064807653427, -0.15325668454170227, -0.18526141345500946, -0.14392408728599548, -0.15890449285507202, -0.18651925027370453, -0.21412862837314606, -0.27651143074035645, -0.3238659203052521, -0.319470077753067, -0.3391161859035492, -0.37277770042419434, -0.48341473937034607, -0.614625871181488, -0.7406800389289856, -0.8317793607711792, -0.8215234875679016, -0.7231405377388, -0.7199727296829224, -0.6527359485626221, -0.5953975319862366, -0.35262516140937805]}, {\"line\": {\"color\": \"#4C78A8\", \"dash\": \"dot\", \"width\": 15}, \"name\": \"cluster 1 circuit : cluster 2 images\", \"type\": \"scatter\", \"x\": [0.49984176697263594, 0.4926701314739236, 0.48549849597521116, 0.47832686047649886, 0.47115522497778645, 0.4639835894790741, 0.4568119539803618, 0.44964031848164937, 0.442468682982937, 0.4352970474842246, 0.42812541198551224, 0.4209537764867999, 0.4137821409880875, 0.40661050548937516, 0.3994388699906628, 0.39226723449195045, 0.38509559899323803, 0.37792396349452567, 0.3707523279958133, 0.36358069249710095, 0.3564090569983886, 0.3492374214996762, 0.3420657860009639, 0.33489415050225146, 0.3277225150035391, 0.32055087950482675, 0.31337924400611433, 0.30620760850740203, 0.2990359730086896, 0.29186433750997726, 0.2846927020112649, 0.27752106651255254, 0.2703494310138402, 0.26317779551512777, 0.2560061600164154, 0.24883452451770308, 0.2416628890189907, 0.2344912535202783, 0.22731961802156597, 0.22014798252285359, 0.2129763470241412, 0.20580471152542884, 0.19863307602671645, 0.19146144052800412, 0.18428980502929174, 0.17711816953057935, 0.16994653403186702, 0.16277489853315463, 0.15560326303444227, 0.1484316275357299, 0.1412599920370175, 0.13408835653830517, 0.12691672103959278, 0.11974508554088041, 0.11257345004216808, 0.1054018145434557, 0.09823017904474332, 0.09105854354603093, 0.08388690804731855, 0.07671527254860622, 0.06954363704989384, 0.06237200155118146, 0.055200366052469134, 0.04802873055375675, 0.04085709505504437, 0.03368545955633199, 0.026513824057619602, 0.019342188558907278, 0.012170553060194895, 0.0049989175614825075], \"y\": [0.0, 0.0021195588633418083, 0.010228746570646763, -0.0029924085829406977, -0.0032244022004306316, -0.004882866982370615, 0.018940391018986702, 0.0073378742672502995, -0.016390670090913773, -0.0194904375821352, -0.008771502412855625, -0.0064330026507377625, -0.018330251798033714, -0.013135525397956371, -0.014623517170548439, -0.030591493472456932, -0.04873039573431015, -0.04271074756979942, -0.052637964487075806, -0.03821668028831482, -0.05676177889108658, -0.0697907954454422, -0.060993049293756485, -0.11818243563175201, -0.20735640823841095, -0.2196783423423767, -0.23257581889629364, -0.23750969767570496, -0.2586534321308136, -0.2658281922340393, -0.26732805371284485, -0.31389960646629333, -0.30727121233940125, -0.3282579481601715, -0.33002665638923645, -0.3405247926712036, -0.35624954104423523, -0.35138043761253357, -0.38776978850364685, -0.4086604416370392, -0.40275058150291443, -0.4045692980289459, -0.4264831840991974, -0.44098278880119324, -0.46338242292404175, -0.5281214714050293, -0.5952630639076233, -0.5922380685806274, -0.6154375672340393, -0.6056626439094543, -0.6386303901672363, -0.7013286352157593, -0.7298532128334045, -0.779273271560669, -0.7603455185890198, -0.7602124810218811, -0.8222103118896484, -0.8173816800117493, -0.8134880661964417, -0.8550637364387512, -0.9005144238471985, -0.9756383895874023, -1.012229323387146, -1.0913081169128418, -1.1479843854904175, -1.1384897232055664, -1.1831920146942139, -1.0705398321151733, -0.8969804048538208, -0.48395660519599915]}, {\"line\": {\"color\": \"#F58518\", \"dash\": \"dot\", \"width\": 15}, \"name\": \"cluster 2 circuit : cluster 1 images\", \"type\": \"scatter\", \"x\": [0.49984176697263594, 0.4926701314739236, 0.48549849597521116, 0.47832686047649886, 0.47115522497778645, 0.4639835894790741, 0.4568119539803618, 0.44964031848164937, 0.442468682982937, 0.4352970474842246, 0.42812541198551224, 0.4209537764867999, 0.4137821409880875, 0.40661050548937516, 0.3994388699906628, 0.39226723449195045, 0.38509559899323803, 0.37792396349452567, 0.3707523279958133, 0.36358069249710095, 0.3564090569983886, 0.3492374214996762, 0.3420657860009639, 0.33489415050225146, 0.3277225150035391, 0.32055087950482675, 0.31337924400611433, 0.30620760850740203, 0.2990359730086896, 0.29186433750997726, 0.2846927020112649, 0.27752106651255254, 0.2703494310138402, 0.26317779551512777, 0.2560061600164154, 0.24883452451770308, 0.2416628890189907, 0.2344912535202783, 0.22731961802156597, 0.22014798252285359, 0.2129763470241412, 0.20580471152542884, 0.19863307602671645, 0.19146144052800412, 0.18428980502929174, 0.17711816953057935, 0.16994653403186702, 0.16277489853315463, 0.15560326303444227, 0.1484316275357299, 0.1412599920370175, 0.13408835653830517, 0.12691672103959278, 0.11974508554088041, 0.11257345004216808, 0.1054018145434557, 0.09823017904474332, 0.09105854354603093, 0.08388690804731855, 0.07671527254860622, 0.06954363704989384, 0.06237200155118146, 0.055200366052469134, 0.04802873055375675, 0.04085709505504437, 0.03368545955633199, 0.026513824057619602, 0.019342188558907278, 0.012170553060194895, 0.0049989175614825075], \"y\": [0.0, -0.2589012682437897, -0.5161617994308472, -0.47045937180519104, -0.4993438720703125, -0.5384073257446289, -0.6072751879692078, -0.632652997970581, -0.6554324626922607, -0.6556257605552673, -0.6529852747917175, -0.7099882364273071, -0.7214885354042053, -0.83055579662323, -0.8138409852981567, -0.8669338226318359, -0.8533663153648376, -0.8820622563362122, -0.8901433944702148, -0.9127225875854492, -0.9287069439888, -0.9002900719642639, -0.8734901547431946, -0.9105899333953857, -1.1564252376556396, -1.1501741409301758, -1.1544491052627563, -1.1621582508087158, -1.1541111469268799, -1.1020243167877197, -1.0746804475784302, -1.0635862350463867, -1.0323286056518555, -1.0592377185821533, -1.0236458778381348, -1.0132660865783691, -1.0523183345794678, -1.0460970401763916, -1.0237149000167847, -0.9919644594192505, -0.9714043140411377, -0.9491915702819824, -0.9427333474159241, -0.9581128358840942, -1.0009188652038574, -1.025843620300293, -0.9867379069328308, -1.003358006477356, -1.0192402601242065, -1.023735523223877, -0.9477377533912659, -0.9233481884002686, -0.9065014123916626, -0.8665950298309326, -0.8322051167488098, -0.812113344669342, -0.8517715930938721, -0.8926233053207397, -0.912613034248352, -0.9319491982460022, -0.9266109466552734, -0.9202671647071838, -0.9352565407752991, -0.9006370306015015, -0.9176574349403381, -0.9063839316368103, -0.8896248936653137, -0.8988022208213806, -0.8447322249412537, -0.8583881855010986]}, {\"line\": {\"color\": \"#F58518\", \"width\": 15}, \"name\": \"cluster 2 circuit : cluster 2 images\", \"type\": \"scatter\", \"x\": [0.49984176697263594, 0.4926701314739236, 0.48549849597521116, 0.47832686047649886, 0.47115522497778645, 0.4639835894790741, 0.4568119539803618, 0.44964031848164937, 0.442468682982937, 0.4352970474842246, 0.42812541198551224, 0.4209537764867999, 0.4137821409880875, 0.40661050548937516, 0.3994388699906628, 0.39226723449195045, 0.38509559899323803, 0.37792396349452567, 0.3707523279958133, 0.36358069249710095, 0.3564090569983886, 0.3492374214996762, 0.3420657860009639, 0.33489415050225146, 0.3277225150035391, 0.32055087950482675, 0.31337924400611433, 0.30620760850740203, 0.2990359730086896, 0.29186433750997726, 0.2846927020112649, 0.27752106651255254, 0.2703494310138402, 0.26317779551512777, 0.2560061600164154, 0.24883452451770308, 0.2416628890189907, 0.2344912535202783, 0.22731961802156597, 0.22014798252285359, 0.2129763470241412, 0.20580471152542884, 0.19863307602671645, 0.19146144052800412, 0.18428980502929174, 0.17711816953057935, 0.16994653403186702, 0.16277489853315463, 0.15560326303444227, 0.1484316275357299, 0.1412599920370175, 0.13408835653830517, 0.12691672103959278, 0.11974508554088041, 0.11257345004216808, 0.1054018145434557, 0.09823017904474332, 0.09105854354603093, 0.08388690804731855, 0.07671527254860622, 0.06954363704989384, 0.06237200155118146, 0.055200366052469134, 0.04802873055375675, 0.04085709505504437, 0.03368545955633199, 0.026513824057619602, 0.019342188558907278, 0.012170553060194895, 0.0049989175614825075], \"y\": [0.0, 0.0003125509829260409, 0.00021747409482486546, 0.000316775927785784, 0.0008128181798383594, 0.001513651106506586, 0.001960325986146927, 0.005201106425374746, 0.002484865952283144, 0.004868015181273222, 0.006784338504076004, 0.011395523324608803, 0.01320979930460453, 0.011124225333333015, 0.01475053746253252, 0.00881071388721466, 0.009098047390580177, 0.013006445951759815, 0.028284572064876556, 0.027185313403606415, 0.028500951826572418, 0.027270661666989326, 0.03674352914094925, 0.03185892477631569, 0.00872618705034256, 0.00449838861823082, 0.0005026016151532531, 0.0005278481403365731, 0.000436406146036461, 0.013963676057755947, 0.026342950761318207, 0.03049379587173462, 0.032756589353084564, 0.024376073852181435, 0.019316276535391808, 0.02779664471745491, 0.03130178526043892, 0.034382414072752, 0.02069382183253765, 0.012186887674033642, 0.012564807198941708, 0.016583101823925972, -0.004208701197057962, 0.00279761734418571, -0.020323004573583603, -0.05669375881552696, -0.05033034086227417, -0.07217121869325638, -0.062058087438344955, -0.08609341084957123, -0.07388360798358917, -0.058952562510967255, -0.06719733029603958, -0.0722382590174675, -0.08212197571992874, -0.1316387802362442, -0.24130256474018097, -0.2879598140716553, -0.3267592489719391, -0.34203559160232544, -0.39908817410469055, -0.378928005695343, -0.5325832366943359, -0.5649116635322571, -0.6136768460273743, -0.6475735902786255, -0.6529520153999329, -0.7160940766334534, -0.5664817690849304, -0.6348891854286194]}],                        {\"legend\": {\"x\": 0.03, \"xanchor\": \"left\", \"y\": 0.95, \"yanchor\": \"top\"}, \"paper_bgcolor\": \"rgba(255,255,255,1)\", \"plot_bgcolor\": \"rgba(255,255,255,1)\", \"template\": {\"data\": {\"bar\": [{\"error_x\": {\"color\": \"#2a3f5f\"}, \"error_y\": {\"color\": \"#2a3f5f\"}, \"marker\": {\"line\": {\"color\": \"#E5ECF6\", \"width\": 0.5}}, \"type\": \"bar\"}], \"barpolar\": [{\"marker\": {\"line\": {\"color\": \"#E5ECF6\", \"width\": 0.5}}, \"type\": \"barpolar\"}], \"carpet\": [{\"aaxis\": {\"endlinecolor\": \"#2a3f5f\", \"gridcolor\": \"white\", \"linecolor\": \"white\", \"minorgridcolor\": \"white\", \"startlinecolor\": \"#2a3f5f\"}, \"baxis\": {\"endlinecolor\": \"#2a3f5f\", \"gridcolor\": \"white\", \"linecolor\": \"white\", \"minorgridcolor\": \"white\", \"startlinecolor\": \"#2a3f5f\"}, \"type\": \"carpet\"}], \"choropleth\": [{\"colorbar\": {\"outlinewidth\": 0, \"ticks\": \"\"}, \"type\": \"choropleth\"}], \"contour\": [{\"colorbar\": {\"outlinewidth\": 0, \"ticks\": \"\"}, \"colorscale\": [[0.0, \"#0d0887\"], [0.1111111111111111, \"#46039f\"], [0.2222222222222222, \"#7201a8\"], [0.3333333333333333, \"#9c179e\"], [0.4444444444444444, \"#bd3786\"], [0.5555555555555556, \"#d8576b\"], [0.6666666666666666, \"#ed7953\"], [0.7777777777777778, \"#fb9f3a\"], [0.8888888888888888, \"#fdca26\"], [1.0, \"#f0f921\"]], \"type\": \"contour\"}], \"contourcarpet\": [{\"colorbar\": {\"outlinewidth\": 0, \"ticks\": \"\"}, \"type\": \"contourcarpet\"}], \"heatmap\": [{\"colorbar\": {\"outlinewidth\": 0, \"ticks\": \"\"}, \"colorscale\": [[0.0, \"#0d0887\"], [0.1111111111111111, \"#46039f\"], [0.2222222222222222, \"#7201a8\"], [0.3333333333333333, \"#9c179e\"], [0.4444444444444444, \"#bd3786\"], [0.5555555555555556, \"#d8576b\"], [0.6666666666666666, \"#ed7953\"], [0.7777777777777778, \"#fb9f3a\"], [0.8888888888888888, \"#fdca26\"], [1.0, \"#f0f921\"]], \"type\": \"heatmap\"}], \"heatmapgl\": [{\"colorbar\": {\"outlinewidth\": 0, \"ticks\": \"\"}, \"colorscale\": [[0.0, \"#0d0887\"], [0.1111111111111111, \"#46039f\"], [0.2222222222222222, \"#7201a8\"], [0.3333333333333333, \"#9c179e\"], [0.4444444444444444, \"#bd3786\"], [0.5555555555555556, \"#d8576b\"], [0.6666666666666666, \"#ed7953\"], [0.7777777777777778, \"#fb9f3a\"], [0.8888888888888888, \"#fdca26\"], [1.0, \"#f0f921\"]], \"type\": \"heatmapgl\"}], \"histogram\": [{\"marker\": {\"colorbar\": {\"outlinewidth\": 0, \"ticks\": \"\"}}, \"type\": \"histogram\"}], \"histogram2d\": [{\"colorbar\": {\"outlinewidth\": 0, \"ticks\": \"\"}, \"colorscale\": [[0.0, \"#0d0887\"], [0.1111111111111111, \"#46039f\"], [0.2222222222222222, \"#7201a8\"], [0.3333333333333333, \"#9c179e\"], [0.4444444444444444, \"#bd3786\"], [0.5555555555555556, \"#d8576b\"], [0.6666666666666666, \"#ed7953\"], [0.7777777777777778, \"#fb9f3a\"], [0.8888888888888888, \"#fdca26\"], [1.0, \"#f0f921\"]], \"type\": \"histogram2d\"}], \"histogram2dcontour\": [{\"colorbar\": {\"outlinewidth\": 0, \"ticks\": \"\"}, \"colorscale\": [[0.0, \"#0d0887\"], [0.1111111111111111, \"#46039f\"], [0.2222222222222222, \"#7201a8\"], [0.3333333333333333, \"#9c179e\"], [0.4444444444444444, \"#bd3786\"], [0.5555555555555556, \"#d8576b\"], [0.6666666666666666, \"#ed7953\"], [0.7777777777777778, \"#fb9f3a\"], [0.8888888888888888, \"#fdca26\"], [1.0, \"#f0f921\"]], \"type\": \"histogram2dcontour\"}], \"mesh3d\": [{\"colorbar\": {\"outlinewidth\": 0, \"ticks\": \"\"}, \"type\": \"mesh3d\"}], \"parcoords\": [{\"line\": {\"colorbar\": {\"outlinewidth\": 0, \"ticks\": \"\"}}, \"type\": \"parcoords\"}], \"pie\": [{\"automargin\": true, \"type\": \"pie\"}], \"scatter\": [{\"marker\": {\"colorbar\": {\"outlinewidth\": 0, \"ticks\": \"\"}}, \"type\": \"scatter\"}], \"scatter3d\": [{\"line\": {\"colorbar\": {\"outlinewidth\": 0, \"ticks\": \"\"}}, \"marker\": {\"colorbar\": {\"outlinewidth\": 0, \"ticks\": \"\"}}, \"type\": \"scatter3d\"}], \"scattercarpet\": [{\"marker\": {\"colorbar\": {\"outlinewidth\": 0, \"ticks\": \"\"}}, \"type\": \"scattercarpet\"}], \"scattergeo\": [{\"marker\": {\"colorbar\": {\"outlinewidth\": 0, \"ticks\": \"\"}}, \"type\": \"scattergeo\"}], \"scattergl\": [{\"marker\": {\"colorbar\": {\"outlinewidth\": 0, \"ticks\": \"\"}}, \"type\": \"scattergl\"}], \"scattermapbox\": [{\"marker\": {\"colorbar\": {\"outlinewidth\": 0, \"ticks\": \"\"}}, \"type\": \"scattermapbox\"}], \"scatterpolar\": [{\"marker\": {\"colorbar\": {\"outlinewidth\": 0, \"ticks\": \"\"}}, \"type\": \"scatterpolar\"}], \"scatterpolargl\": [{\"marker\": {\"colorbar\": {\"outlinewidth\": 0, \"ticks\": \"\"}}, \"type\": \"scatterpolargl\"}], \"scatterternary\": [{\"marker\": {\"colorbar\": {\"outlinewidth\": 0, \"ticks\": \"\"}}, \"type\": \"scatterternary\"}], \"surface\": [{\"colorbar\": {\"outlinewidth\": 0, \"ticks\": \"\"}, \"colorscale\": [[0.0, \"#0d0887\"], [0.1111111111111111, \"#46039f\"], [0.2222222222222222, \"#7201a8\"], [0.3333333333333333, \"#9c179e\"], [0.4444444444444444, \"#bd3786\"], [0.5555555555555556, \"#d8576b\"], [0.6666666666666666, \"#ed7953\"], [0.7777777777777778, \"#fb9f3a\"], [0.8888888888888888, \"#fdca26\"], [1.0, \"#f0f921\"]], \"type\": \"surface\"}], \"table\": [{\"cells\": {\"fill\": {\"color\": \"#EBF0F8\"}, \"line\": {\"color\": \"white\"}}, \"header\": {\"fill\": {\"color\": \"#C8D4E3\"}, \"line\": {\"color\": \"white\"}}, \"type\": \"table\"}]}, \"layout\": {\"annotationdefaults\": {\"arrowcolor\": \"#2a3f5f\", \"arrowhead\": 0, \"arrowwidth\": 1}, \"autotypenumbers\": \"strict\", \"coloraxis\": {\"colorbar\": {\"outlinewidth\": 0, \"ticks\": \"\"}}, \"colorscale\": {\"diverging\": [[0, \"#8e0152\"], [0.1, \"#c51b7d\"], [0.2, \"#de77ae\"], [0.3, \"#f1b6da\"], [0.4, \"#fde0ef\"], [0.5, \"#f7f7f7\"], [0.6, \"#e6f5d0\"], [0.7, \"#b8e186\"], [0.8, \"#7fbc41\"], [0.9, \"#4d9221\"], [1, \"#276419\"]], \"sequential\": [[0.0, \"#0d0887\"], [0.1111111111111111, \"#46039f\"], [0.2222222222222222, \"#7201a8\"], [0.3333333333333333, \"#9c179e\"], [0.4444444444444444, \"#bd3786\"], [0.5555555555555556, \"#d8576b\"], [0.6666666666666666, \"#ed7953\"], [0.7777777777777778, \"#fb9f3a\"], [0.8888888888888888, \"#fdca26\"], [1.0, \"#f0f921\"]], \"sequentialminus\": [[0.0, \"#0d0887\"], [0.1111111111111111, \"#46039f\"], [0.2222222222222222, \"#7201a8\"], [0.3333333333333333, \"#9c179e\"], [0.4444444444444444, \"#bd3786\"], [0.5555555555555556, \"#d8576b\"], [0.6666666666666666, \"#ed7953\"], [0.7777777777777778, \"#fb9f3a\"], [0.8888888888888888, \"#fdca26\"], [1.0, \"#f0f921\"]]}, \"colorway\": [\"#636efa\", \"#EF553B\", \"#00cc96\", \"#ab63fa\", \"#FFA15A\", \"#19d3f3\", \"#FF6692\", \"#B6E880\", \"#FF97FF\", \"#FECB52\"], \"font\": {\"color\": \"#2a3f5f\"}, \"geo\": {\"bgcolor\": \"white\", \"lakecolor\": \"white\", \"landcolor\": \"#E5ECF6\", \"showlakes\": true, \"showland\": true, \"subunitcolor\": \"white\"}, \"hoverlabel\": {\"align\": \"left\"}, \"hovermode\": \"closest\", \"mapbox\": {\"style\": \"light\"}, \"paper_bgcolor\": \"white\", \"plot_bgcolor\": \"#E5ECF6\", \"polar\": {\"angularaxis\": {\"gridcolor\": \"white\", \"linecolor\": \"white\", \"ticks\": \"\"}, \"bgcolor\": \"#E5ECF6\", \"radialaxis\": {\"gridcolor\": \"white\", \"linecolor\": \"white\", \"ticks\": \"\"}}, \"scene\": {\"xaxis\": {\"backgroundcolor\": \"#E5ECF6\", \"gridcolor\": \"white\", \"gridwidth\": 2, \"linecolor\": \"white\", \"showbackground\": true, \"ticks\": \"\", \"zerolinecolor\": \"white\"}, \"yaxis\": {\"backgroundcolor\": \"#E5ECF6\", \"gridcolor\": \"white\", \"gridwidth\": 2, \"linecolor\": \"white\", \"showbackground\": true, \"ticks\": \"\", \"zerolinecolor\": \"white\"}, \"zaxis\": {\"backgroundcolor\": \"#E5ECF6\", \"gridcolor\": \"white\", \"gridwidth\": 2, \"linecolor\": \"white\", \"showbackground\": true, \"ticks\": \"\", \"zerolinecolor\": \"white\"}}, \"shapedefaults\": {\"line\": {\"color\": \"#2a3f5f\"}}, \"ternary\": {\"aaxis\": {\"gridcolor\": \"white\", \"linecolor\": \"white\", \"ticks\": \"\"}, \"baxis\": {\"gridcolor\": \"white\", \"linecolor\": \"white\", \"ticks\": \"\"}, \"bgcolor\": \"#E5ECF6\", \"caxis\": {\"gridcolor\": \"white\", \"linecolor\": \"white\", \"ticks\": \"\"}}, \"title\": {\"x\": 0.05}, \"xaxis\": {\"automargin\": true, \"gridcolor\": \"white\", \"linecolor\": \"white\", \"ticks\": \"\", \"title\": {\"standoff\": 15}, \"zerolinecolor\": \"white\", \"zerolinewidth\": 2}, \"yaxis\": {\"automargin\": true, \"gridcolor\": \"white\", \"linecolor\": \"white\", \"ticks\": \"\", \"title\": {\"standoff\": 15}, \"zerolinecolor\": \"white\", \"zerolinewidth\": 2}}}, \"width\": 720, \"xaxis\": {\"autorange\": \"reversed\", \"gridcolor\": \"rgb(210,210,210)\", \"gridwidth\": 4, \"tickmode\": \"array\", \"tickvals\": [0.5, 0.4, 0.3, 0.2, 0.1], \"title\": {\"text\": \"sparsity\"}}, \"yaxis\": {\"gridcolor\": \"rgb(210,210,210)\", \"gridwidth\": 4, \"title\": {\"text\": \"$\\\\Huge{\\\\Delta\\\\mathcal{F}}$\"}}},                        {\"responsive\": true}                    ).then(function(){\n",
       "                            \n",
       "var gd = document.getElementById('b526bf26-8ea0-4a64-be39-32e60c3da00f');\n",
       "var x = new MutationObserver(function (mutations, observer) {{\n",
       "        var display = window.getComputedStyle(gd).display;\n",
       "        if (!display || display === 'none') {{\n",
       "            console.log([gd, 'removed!']);\n",
       "            Plotly.purge(gd);\n",
       "            observer.disconnect();\n",
       "        }}\n",
       "}});\n",
       "\n",
       "// Listen for the removal of the full notebook cells\n",
       "var notebookContainer = gd.closest('#notebook-container');\n",
       "if (notebookContainer) {{\n",
       "    x.observe(notebookContainer, {childList: true});\n",
       "}}\n",
       "\n",
       "// Listen for the clearing of the current output cell\n",
       "var outputEl = gd.closest('.output');\n",
       "if (outputEl) {{\n",
       "    x.observe(outputEl, {childList: true});\n",
       "}}\n",
       "\n",
       "                        })                };                });            </script>        </div>"
      ]
     },
     "metadata": {},
     "output_type": "display_data"
    }
   ],
   "source": [
    "import plotly.graph_objects as go\n",
    "import plotly.express as px\n",
    "\n",
    "x_axis = model_sparsities\n",
    "\n",
    "metric = 'mean_normed_diff'\n",
    "mean_norm = False\n",
    "\n",
    "color_dict = {\n",
    "               'cluster_0_circuit':px.colors.qualitative.T10[0],\n",
    "               'cluster_1_circuit':px.colors.qualitative.T10[1],\n",
    "               #'right_circuit':px.colors.qualitative.T10[4],\n",
    "             }\n",
    "# color_dict = {\n",
    "#                'mixed_0_circuit':px.colors.qualitative.T10[0],\n",
    "#                'mixed_1_circuit':px.colors.qualitative.T10[1],\n",
    "#                #'right_circuit':px.colors.qualitative.T10[4],\n",
    "#              }\n",
    "\n",
    "\n",
    "\n",
    "fig = go.Figure()\n",
    "##SET WIDTH TO 40 FOR BIG PLOT\n",
    "for circuit in scores:\n",
    "    for data in scores[circuit]:\n",
    "        # Create and style traces\n",
    "        if data.replace('_data','') == circuit.replace('_circuit',''):\n",
    "            linetype = None\n",
    "        else:\n",
    "            linetype = 'dot'\n",
    "            \n",
    "        name = (circuit+' : '+data).replace('_',' ').replace('1','2').replace('0','1').replace('data','images')\n",
    "        y = np.array(scores[circuit][data]['%s:%s'%(layer,0)][metric])\n",
    "        if mean_norm:\n",
    "            y = y/means[data]\n",
    "        x = x_axis[0:len(scores[circuit][data]['%s:%s'%(layer,0)][metric])]\n",
    "        fig.add_trace(go.Scatter(x=x, y=y, name=name,\n",
    "                         line=dict(color=color_dict[circuit], width=15,dash=linetype)))\n",
    "\n",
    "# Edit the layout\n",
    "fig.update_layout( width = 720,\n",
    "                   plot_bgcolor = 'rgba(255,255,255,1)',\n",
    "                   paper_bgcolor = 'rgba(255,255,255,1)',\n",
    "                   xaxis_title='sparsity',\n",
    "                   yaxis_title=r'$\\Huge{\\Delta\\mathcal{F}}$',\n",
    "                  legend=dict(\n",
    "                                yanchor=\"top\",\n",
    "                                y=0.95,\n",
    "                                xanchor=\"left\",\n",
    "                                x=0.03\n",
    "                              )\n",
    "                 )\n",
    "fig.update_xaxes(autorange=\"reversed\",gridcolor='rgb(210,210,210)',gridwidth=4)\n",
    "fig.update_yaxes(gridcolor='rgb(210,210,210)',gridwidth=4)\n",
    "\n",
    "fig.update_layout(\n",
    "    xaxis = dict(\n",
    "        tickmode = 'array',\n",
    "        tickvals = [.5, .4, .3, .2, .1]\n",
    "    )\n",
    ")\n",
    "\n",
    "\n",
    "fig.show()"
   ]
  },
  {
   "cell_type": "code",
   "execution_count": 132,
   "id": "8fb7a27c",
   "metadata": {},
   "outputs": [
    {
     "data": {
      "application/vnd.plotly.v1+json": {
       "config": {
        "plotlyServerURL": "https://plot.ly"
       },
       "data": [
        {
         "line": {
          "color": "#4C78A8",
          "width": 15
         },
         "name": "cluster 1 circuit : cluster 1 images",
         "type": "scatter",
         "x": [
          0.49984176697263594,
          0.4926701314739236,
          0.48549849597521116,
          0.47832686047649886,
          0.47115522497778645,
          0.4639835894790741,
          0.4568119539803618,
          0.44964031848164937,
          0.442468682982937,
          0.4352970474842246,
          0.42812541198551224,
          0.4209537764867999,
          0.4137821409880875,
          0.40661050548937516,
          0.3994388699906628,
          0.39226723449195045,
          0.38509559899323803,
          0.37792396349452567,
          0.3707523279958133,
          0.36358069249710095,
          0.3564090569983886,
          0.3492374214996762,
          0.3420657860009639,
          0.33489415050225146,
          0.3277225150035391,
          0.32055087950482675,
          0.31337924400611433,
          0.30620760850740203,
          0.2990359730086896,
          0.29186433750997726,
          0.2846927020112649,
          0.27752106651255254,
          0.2703494310138402,
          0.26317779551512777,
          0.2560061600164154,
          0.24883452451770308,
          0.2416628890189907,
          0.2344912535202783,
          0.22731961802156597,
          0.22014798252285359,
          0.2129763470241412,
          0.20580471152542884,
          0.19863307602671645,
          0.19146144052800412,
          0.18428980502929174,
          0.17711816953057935,
          0.16994653403186702,
          0.16277489853315463,
          0.15560326303444227,
          0.1484316275357299,
          0.1412599920370175,
          0.13408835653830517,
          0.12691672103959278,
          0.11974508554088041,
          0.11257345004216808,
          0.1054018145434557,
          0.09823017904474332,
          0.09105854354603093,
          0.08388690804731855,
          0.07671527254860622,
          0.06954363704989384,
          0.06237200155118146,
          0.055200366052469134,
          0.04802873055375675,
          0.04085709505504437,
          0.03368545955633199,
          0.026513824057619602,
          0.019342188558907278,
          0.012170553060194895,
          0.0049989175614825075
         ],
         "y": [
          0,
          1.1158811048517236e-06,
          -4.4406100641936064e-05,
          -0.0011766408570110798,
          -0.0001300509466091171,
          0.00030070787761360407,
          3.7024146877229214e-06,
          7.878904580138624e-05,
          -0.0030648396350443363,
          -0.0025975301396101713,
          0.003891966538503766,
          0.0030392298940569162,
          0.0022470690310001373,
          0.0046241809614002705,
          0.007253996562212706,
          0.0073214503936469555,
          0.004109907429665327,
          0.002223709598183632,
          0.0022741719149053097,
          0.0029787090606987476,
          0.004681026563048363,
          0.006535583641380072,
          0.012930894270539284,
          -0.004521726630628109,
          -0.025448091328144073,
          -0.038434628397226334,
          -0.03751695156097412,
          -0.039053093641996384,
          0.02046496421098709,
          0.003055283334106207,
          0.004245344549417496,
          -0.006106728222221136,
          -0.004286624491214752,
          -0.008454432711005211,
          -0.005176706239581108,
          -0.022056832909584045,
          -0.02527746371924877,
          -0.023722484707832336,
          -0.030005326494574547,
          -0.018567748367786407,
          -0.062302134931087494,
          -0.07412547618150711,
          -0.06996867805719376,
          -0.08634918183088303,
          -0.10739129036664963,
          -0.12196023762226105,
          -0.14916688203811646,
          -0.16787606477737427,
          -0.1663064807653427,
          -0.15325668454170227,
          -0.18526141345500946,
          -0.14392408728599548,
          -0.15890449285507202,
          -0.18651925027370453,
          -0.21412862837314606,
          -0.27651143074035645,
          -0.3238659203052521,
          -0.319470077753067,
          -0.3391161859035492,
          -0.37277770042419434,
          -0.48341473937034607,
          -0.614625871181488,
          -0.7406800389289856,
          -0.8317793607711792,
          -0.8215234875679016,
          -0.7231405377388,
          -0.7199727296829224,
          -0.6527359485626221,
          -0.5953975319862366,
          -0.35262516140937805
         ]
        },
        {
         "line": {
          "color": "#4C78A8",
          "dash": "dot",
          "width": 15
         },
         "name": "cluster 1 circuit : cluster 2 images",
         "type": "scatter",
         "x": [
          0.49984176697263594,
          0.4926701314739236,
          0.48549849597521116,
          0.47832686047649886,
          0.47115522497778645,
          0.4639835894790741,
          0.4568119539803618,
          0.44964031848164937,
          0.442468682982937,
          0.4352970474842246,
          0.42812541198551224,
          0.4209537764867999,
          0.4137821409880875,
          0.40661050548937516,
          0.3994388699906628,
          0.39226723449195045,
          0.38509559899323803,
          0.37792396349452567,
          0.3707523279958133,
          0.36358069249710095,
          0.3564090569983886,
          0.3492374214996762,
          0.3420657860009639,
          0.33489415050225146,
          0.3277225150035391,
          0.32055087950482675,
          0.31337924400611433,
          0.30620760850740203,
          0.2990359730086896,
          0.29186433750997726,
          0.2846927020112649,
          0.27752106651255254,
          0.2703494310138402,
          0.26317779551512777,
          0.2560061600164154,
          0.24883452451770308,
          0.2416628890189907,
          0.2344912535202783,
          0.22731961802156597,
          0.22014798252285359,
          0.2129763470241412,
          0.20580471152542884,
          0.19863307602671645,
          0.19146144052800412,
          0.18428980502929174,
          0.17711816953057935,
          0.16994653403186702,
          0.16277489853315463,
          0.15560326303444227,
          0.1484316275357299,
          0.1412599920370175,
          0.13408835653830517,
          0.12691672103959278,
          0.11974508554088041,
          0.11257345004216808,
          0.1054018145434557,
          0.09823017904474332,
          0.09105854354603093,
          0.08388690804731855,
          0.07671527254860622,
          0.06954363704989384,
          0.06237200155118146,
          0.055200366052469134,
          0.04802873055375675,
          0.04085709505504437,
          0.03368545955633199,
          0.026513824057619602,
          0.019342188558907278,
          0.012170553060194895,
          0.0049989175614825075
         ],
         "y": [
          0,
          0.0021195588633418083,
          0.010228746570646763,
          -0.0029924085829406977,
          -0.0032244022004306316,
          -0.004882866982370615,
          0.018940391018986702,
          0.0073378742672502995,
          -0.016390670090913773,
          -0.0194904375821352,
          -0.008771502412855625,
          -0.0064330026507377625,
          -0.018330251798033714,
          -0.013135525397956371,
          -0.014623517170548439,
          -0.030591493472456932,
          -0.04873039573431015,
          -0.04271074756979942,
          -0.052637964487075806,
          -0.03821668028831482,
          -0.05676177889108658,
          -0.0697907954454422,
          -0.060993049293756485,
          -0.11818243563175201,
          -0.20735640823841095,
          -0.2196783423423767,
          -0.23257581889629364,
          -0.23750969767570496,
          -0.2586534321308136,
          -0.2658281922340393,
          -0.26732805371284485,
          -0.31389960646629333,
          -0.30727121233940125,
          -0.3282579481601715,
          -0.33002665638923645,
          -0.3405247926712036,
          -0.35624954104423523,
          -0.35138043761253357,
          -0.38776978850364685,
          -0.4086604416370392,
          -0.40275058150291443,
          -0.4045692980289459,
          -0.4264831840991974,
          -0.44098278880119324,
          -0.46338242292404175,
          -0.5281214714050293,
          -0.5952630639076233,
          -0.5922380685806274,
          -0.6154375672340393,
          -0.6056626439094543,
          -0.6386303901672363,
          -0.7013286352157593,
          -0.7298532128334045,
          -0.779273271560669,
          -0.7603455185890198,
          -0.7602124810218811,
          -0.8222103118896484,
          -0.8173816800117493,
          -0.8134880661964417,
          -0.8550637364387512,
          -0.9005144238471985,
          -0.9756383895874023,
          -1.012229323387146,
          -1.0913081169128418,
          -1.1479843854904175,
          -1.1384897232055664,
          -1.1831920146942139,
          -1.0705398321151733,
          -0.8969804048538208,
          -0.48395660519599915
         ]
        },
        {
         "line": {
          "color": "#F58518",
          "dash": "dot",
          "width": 15
         },
         "name": "cluster 2 circuit : cluster 1 images",
         "type": "scatter",
         "x": [
          0.49984176697263594,
          0.4926701314739236,
          0.48549849597521116,
          0.47832686047649886,
          0.47115522497778645,
          0.4639835894790741,
          0.4568119539803618,
          0.44964031848164937,
          0.442468682982937,
          0.4352970474842246,
          0.42812541198551224,
          0.4209537764867999,
          0.4137821409880875,
          0.40661050548937516,
          0.3994388699906628,
          0.39226723449195045,
          0.38509559899323803,
          0.37792396349452567,
          0.3707523279958133,
          0.36358069249710095,
          0.3564090569983886,
          0.3492374214996762,
          0.3420657860009639,
          0.33489415050225146,
          0.3277225150035391,
          0.32055087950482675,
          0.31337924400611433,
          0.30620760850740203,
          0.2990359730086896,
          0.29186433750997726,
          0.2846927020112649,
          0.27752106651255254,
          0.2703494310138402,
          0.26317779551512777,
          0.2560061600164154,
          0.24883452451770308,
          0.2416628890189907,
          0.2344912535202783,
          0.22731961802156597,
          0.22014798252285359,
          0.2129763470241412,
          0.20580471152542884,
          0.19863307602671645,
          0.19146144052800412,
          0.18428980502929174,
          0.17711816953057935,
          0.16994653403186702,
          0.16277489853315463,
          0.15560326303444227,
          0.1484316275357299,
          0.1412599920370175,
          0.13408835653830517,
          0.12691672103959278,
          0.11974508554088041,
          0.11257345004216808,
          0.1054018145434557,
          0.09823017904474332,
          0.09105854354603093,
          0.08388690804731855,
          0.07671527254860622,
          0.06954363704989384,
          0.06237200155118146,
          0.055200366052469134,
          0.04802873055375675,
          0.04085709505504437,
          0.03368545955633199,
          0.026513824057619602,
          0.019342188558907278,
          0.012170553060194895,
          0.0049989175614825075
         ],
         "y": [
          0,
          -0.2589012682437897,
          -0.5161617994308472,
          -0.47045937180519104,
          -0.4993438720703125,
          -0.5384073257446289,
          -0.6072751879692078,
          -0.632652997970581,
          -0.6554324626922607,
          -0.6556257605552673,
          -0.6529852747917175,
          -0.7099882364273071,
          -0.7214885354042053,
          -0.83055579662323,
          -0.8138409852981567,
          -0.8669338226318359,
          -0.8533663153648376,
          -0.8820622563362122,
          -0.8901433944702148,
          -0.9127225875854492,
          -0.9287069439888,
          -0.9002900719642639,
          -0.8734901547431946,
          -0.9105899333953857,
          -1.1564252376556396,
          -1.1501741409301758,
          -1.1544491052627563,
          -1.1621582508087158,
          -1.1541111469268799,
          -1.1020243167877197,
          -1.0746804475784302,
          -1.0635862350463867,
          -1.0323286056518555,
          -1.0592377185821533,
          -1.0236458778381348,
          -1.0132660865783691,
          -1.0523183345794678,
          -1.0460970401763916,
          -1.0237149000167847,
          -0.9919644594192505,
          -0.9714043140411377,
          -0.9491915702819824,
          -0.9427333474159241,
          -0.9581128358840942,
          -1.0009188652038574,
          -1.025843620300293,
          -0.9867379069328308,
          -1.003358006477356,
          -1.0192402601242065,
          -1.023735523223877,
          -0.9477377533912659,
          -0.9233481884002686,
          -0.9065014123916626,
          -0.8665950298309326,
          -0.8322051167488098,
          -0.812113344669342,
          -0.8517715930938721,
          -0.8926233053207397,
          -0.912613034248352,
          -0.9319491982460022,
          -0.9266109466552734,
          -0.9202671647071838,
          -0.9352565407752991,
          -0.9006370306015015,
          -0.9176574349403381,
          -0.9063839316368103,
          -0.8896248936653137,
          -0.8988022208213806,
          -0.8447322249412537,
          -0.8583881855010986
         ]
        },
        {
         "line": {
          "color": "#F58518",
          "width": 15
         },
         "name": "cluster 2 circuit : cluster 2 images",
         "type": "scatter",
         "x": [
          0.49984176697263594,
          0.4926701314739236,
          0.48549849597521116,
          0.47832686047649886,
          0.47115522497778645,
          0.4639835894790741,
          0.4568119539803618,
          0.44964031848164937,
          0.442468682982937,
          0.4352970474842246,
          0.42812541198551224,
          0.4209537764867999,
          0.4137821409880875,
          0.40661050548937516,
          0.3994388699906628,
          0.39226723449195045,
          0.38509559899323803,
          0.37792396349452567,
          0.3707523279958133,
          0.36358069249710095,
          0.3564090569983886,
          0.3492374214996762,
          0.3420657860009639,
          0.33489415050225146,
          0.3277225150035391,
          0.32055087950482675,
          0.31337924400611433,
          0.30620760850740203,
          0.2990359730086896,
          0.29186433750997726,
          0.2846927020112649,
          0.27752106651255254,
          0.2703494310138402,
          0.26317779551512777,
          0.2560061600164154,
          0.24883452451770308,
          0.2416628890189907,
          0.2344912535202783,
          0.22731961802156597,
          0.22014798252285359,
          0.2129763470241412,
          0.20580471152542884,
          0.19863307602671645,
          0.19146144052800412,
          0.18428980502929174,
          0.17711816953057935,
          0.16994653403186702,
          0.16277489853315463,
          0.15560326303444227,
          0.1484316275357299,
          0.1412599920370175,
          0.13408835653830517,
          0.12691672103959278,
          0.11974508554088041,
          0.11257345004216808,
          0.1054018145434557,
          0.09823017904474332,
          0.09105854354603093,
          0.08388690804731855,
          0.07671527254860622,
          0.06954363704989384,
          0.06237200155118146,
          0.055200366052469134,
          0.04802873055375675,
          0.04085709505504437,
          0.03368545955633199,
          0.026513824057619602,
          0.019342188558907278,
          0.012170553060194895,
          0.0049989175614825075
         ],
         "y": [
          0,
          0.0003125509829260409,
          0.00021747409482486546,
          0.000316775927785784,
          0.0008128181798383594,
          0.001513651106506586,
          0.001960325986146927,
          0.005201106425374746,
          0.002484865952283144,
          0.004868015181273222,
          0.006784338504076004,
          0.011395523324608803,
          0.01320979930460453,
          0.011124225333333015,
          0.01475053746253252,
          0.00881071388721466,
          0.009098047390580177,
          0.013006445951759815,
          0.028284572064876556,
          0.027185313403606415,
          0.028500951826572418,
          0.027270661666989326,
          0.03674352914094925,
          0.03185892477631569,
          0.00872618705034256,
          0.00449838861823082,
          0.0005026016151532531,
          0.0005278481403365731,
          0.000436406146036461,
          0.013963676057755947,
          0.026342950761318207,
          0.03049379587173462,
          0.032756589353084564,
          0.024376073852181435,
          0.019316276535391808,
          0.02779664471745491,
          0.03130178526043892,
          0.034382414072752,
          0.02069382183253765,
          0.012186887674033642,
          0.012564807198941708,
          0.016583101823925972,
          -0.004208701197057962,
          0.00279761734418571,
          -0.020323004573583603,
          -0.05669375881552696,
          -0.05033034086227417,
          -0.07217121869325638,
          -0.062058087438344955,
          -0.08609341084957123,
          -0.07388360798358917,
          -0.058952562510967255,
          -0.06719733029603958,
          -0.0722382590174675,
          -0.08212197571992874,
          -0.1316387802362442,
          -0.24130256474018097,
          -0.2879598140716553,
          -0.3267592489719391,
          -0.34203559160232544,
          -0.39908817410469055,
          -0.378928005695343,
          -0.5325832366943359,
          -0.5649116635322571,
          -0.6136768460273743,
          -0.6475735902786255,
          -0.6529520153999329,
          -0.7160940766334534,
          -0.5664817690849304,
          -0.6348891854286194
         ]
        }
       ],
       "layout": {
        "font": {
         "size": 50
        },
        "height": 1200,
        "legend": {
         "bgcolor": "rgba(255,255,255,0.3)",
         "font": {
          "size": 40
         },
         "x": 0.03,
         "xanchor": "left",
         "y": 0.3,
         "yanchor": "top"
        },
        "margin": {
         "b": 100,
         "l": 100,
         "r": 100,
         "t": 100
        },
        "paper_bgcolor": "rgba(255,255,255,1)",
        "plot_bgcolor": "rgba(255,255,255,1)",
        "showlegend": false,
        "template": {
         "data": {
          "bar": [
           {
            "error_x": {
             "color": "#2a3f5f"
            },
            "error_y": {
             "color": "#2a3f5f"
            },
            "marker": {
             "line": {
              "color": "#E5ECF6",
              "width": 0.5
             }
            },
            "type": "bar"
           }
          ],
          "barpolar": [
           {
            "marker": {
             "line": {
              "color": "#E5ECF6",
              "width": 0.5
             }
            },
            "type": "barpolar"
           }
          ],
          "carpet": [
           {
            "aaxis": {
             "endlinecolor": "#2a3f5f",
             "gridcolor": "white",
             "linecolor": "white",
             "minorgridcolor": "white",
             "startlinecolor": "#2a3f5f"
            },
            "baxis": {
             "endlinecolor": "#2a3f5f",
             "gridcolor": "white",
             "linecolor": "white",
             "minorgridcolor": "white",
             "startlinecolor": "#2a3f5f"
            },
            "type": "carpet"
           }
          ],
          "choropleth": [
           {
            "colorbar": {
             "outlinewidth": 0,
             "ticks": ""
            },
            "type": "choropleth"
           }
          ],
          "contour": [
           {
            "colorbar": {
             "outlinewidth": 0,
             "ticks": ""
            },
            "colorscale": [
             [
              0,
              "#0d0887"
             ],
             [
              0.1111111111111111,
              "#46039f"
             ],
             [
              0.2222222222222222,
              "#7201a8"
             ],
             [
              0.3333333333333333,
              "#9c179e"
             ],
             [
              0.4444444444444444,
              "#bd3786"
             ],
             [
              0.5555555555555556,
              "#d8576b"
             ],
             [
              0.6666666666666666,
              "#ed7953"
             ],
             [
              0.7777777777777778,
              "#fb9f3a"
             ],
             [
              0.8888888888888888,
              "#fdca26"
             ],
             [
              1,
              "#f0f921"
             ]
            ],
            "type": "contour"
           }
          ],
          "contourcarpet": [
           {
            "colorbar": {
             "outlinewidth": 0,
             "ticks": ""
            },
            "type": "contourcarpet"
           }
          ],
          "heatmap": [
           {
            "colorbar": {
             "outlinewidth": 0,
             "ticks": ""
            },
            "colorscale": [
             [
              0,
              "#0d0887"
             ],
             [
              0.1111111111111111,
              "#46039f"
             ],
             [
              0.2222222222222222,
              "#7201a8"
             ],
             [
              0.3333333333333333,
              "#9c179e"
             ],
             [
              0.4444444444444444,
              "#bd3786"
             ],
             [
              0.5555555555555556,
              "#d8576b"
             ],
             [
              0.6666666666666666,
              "#ed7953"
             ],
             [
              0.7777777777777778,
              "#fb9f3a"
             ],
             [
              0.8888888888888888,
              "#fdca26"
             ],
             [
              1,
              "#f0f921"
             ]
            ],
            "type": "heatmap"
           }
          ],
          "heatmapgl": [
           {
            "colorbar": {
             "outlinewidth": 0,
             "ticks": ""
            },
            "colorscale": [
             [
              0,
              "#0d0887"
             ],
             [
              0.1111111111111111,
              "#46039f"
             ],
             [
              0.2222222222222222,
              "#7201a8"
             ],
             [
              0.3333333333333333,
              "#9c179e"
             ],
             [
              0.4444444444444444,
              "#bd3786"
             ],
             [
              0.5555555555555556,
              "#d8576b"
             ],
             [
              0.6666666666666666,
              "#ed7953"
             ],
             [
              0.7777777777777778,
              "#fb9f3a"
             ],
             [
              0.8888888888888888,
              "#fdca26"
             ],
             [
              1,
              "#f0f921"
             ]
            ],
            "type": "heatmapgl"
           }
          ],
          "histogram": [
           {
            "marker": {
             "colorbar": {
              "outlinewidth": 0,
              "ticks": ""
             }
            },
            "type": "histogram"
           }
          ],
          "histogram2d": [
           {
            "colorbar": {
             "outlinewidth": 0,
             "ticks": ""
            },
            "colorscale": [
             [
              0,
              "#0d0887"
             ],
             [
              0.1111111111111111,
              "#46039f"
             ],
             [
              0.2222222222222222,
              "#7201a8"
             ],
             [
              0.3333333333333333,
              "#9c179e"
             ],
             [
              0.4444444444444444,
              "#bd3786"
             ],
             [
              0.5555555555555556,
              "#d8576b"
             ],
             [
              0.6666666666666666,
              "#ed7953"
             ],
             [
              0.7777777777777778,
              "#fb9f3a"
             ],
             [
              0.8888888888888888,
              "#fdca26"
             ],
             [
              1,
              "#f0f921"
             ]
            ],
            "type": "histogram2d"
           }
          ],
          "histogram2dcontour": [
           {
            "colorbar": {
             "outlinewidth": 0,
             "ticks": ""
            },
            "colorscale": [
             [
              0,
              "#0d0887"
             ],
             [
              0.1111111111111111,
              "#46039f"
             ],
             [
              0.2222222222222222,
              "#7201a8"
             ],
             [
              0.3333333333333333,
              "#9c179e"
             ],
             [
              0.4444444444444444,
              "#bd3786"
             ],
             [
              0.5555555555555556,
              "#d8576b"
             ],
             [
              0.6666666666666666,
              "#ed7953"
             ],
             [
              0.7777777777777778,
              "#fb9f3a"
             ],
             [
              0.8888888888888888,
              "#fdca26"
             ],
             [
              1,
              "#f0f921"
             ]
            ],
            "type": "histogram2dcontour"
           }
          ],
          "mesh3d": [
           {
            "colorbar": {
             "outlinewidth": 0,
             "ticks": ""
            },
            "type": "mesh3d"
           }
          ],
          "parcoords": [
           {
            "line": {
             "colorbar": {
              "outlinewidth": 0,
              "ticks": ""
             }
            },
            "type": "parcoords"
           }
          ],
          "pie": [
           {
            "automargin": true,
            "type": "pie"
           }
          ],
          "scatter": [
           {
            "marker": {
             "colorbar": {
              "outlinewidth": 0,
              "ticks": ""
             }
            },
            "type": "scatter"
           }
          ],
          "scatter3d": [
           {
            "line": {
             "colorbar": {
              "outlinewidth": 0,
              "ticks": ""
             }
            },
            "marker": {
             "colorbar": {
              "outlinewidth": 0,
              "ticks": ""
             }
            },
            "type": "scatter3d"
           }
          ],
          "scattercarpet": [
           {
            "marker": {
             "colorbar": {
              "outlinewidth": 0,
              "ticks": ""
             }
            },
            "type": "scattercarpet"
           }
          ],
          "scattergeo": [
           {
            "marker": {
             "colorbar": {
              "outlinewidth": 0,
              "ticks": ""
             }
            },
            "type": "scattergeo"
           }
          ],
          "scattergl": [
           {
            "marker": {
             "colorbar": {
              "outlinewidth": 0,
              "ticks": ""
             }
            },
            "type": "scattergl"
           }
          ],
          "scattermapbox": [
           {
            "marker": {
             "colorbar": {
              "outlinewidth": 0,
              "ticks": ""
             }
            },
            "type": "scattermapbox"
           }
          ],
          "scatterpolar": [
           {
            "marker": {
             "colorbar": {
              "outlinewidth": 0,
              "ticks": ""
             }
            },
            "type": "scatterpolar"
           }
          ],
          "scatterpolargl": [
           {
            "marker": {
             "colorbar": {
              "outlinewidth": 0,
              "ticks": ""
             }
            },
            "type": "scatterpolargl"
           }
          ],
          "scatterternary": [
           {
            "marker": {
             "colorbar": {
              "outlinewidth": 0,
              "ticks": ""
             }
            },
            "type": "scatterternary"
           }
          ],
          "surface": [
           {
            "colorbar": {
             "outlinewidth": 0,
             "ticks": ""
            },
            "colorscale": [
             [
              0,
              "#0d0887"
             ],
             [
              0.1111111111111111,
              "#46039f"
             ],
             [
              0.2222222222222222,
              "#7201a8"
             ],
             [
              0.3333333333333333,
              "#9c179e"
             ],
             [
              0.4444444444444444,
              "#bd3786"
             ],
             [
              0.5555555555555556,
              "#d8576b"
             ],
             [
              0.6666666666666666,
              "#ed7953"
             ],
             [
              0.7777777777777778,
              "#fb9f3a"
             ],
             [
              0.8888888888888888,
              "#fdca26"
             ],
             [
              1,
              "#f0f921"
             ]
            ],
            "type": "surface"
           }
          ],
          "table": [
           {
            "cells": {
             "fill": {
              "color": "#EBF0F8"
             },
             "line": {
              "color": "white"
             }
            },
            "header": {
             "fill": {
              "color": "#C8D4E3"
             },
             "line": {
              "color": "white"
             }
            },
            "type": "table"
           }
          ]
         },
         "layout": {
          "annotationdefaults": {
           "arrowcolor": "#2a3f5f",
           "arrowhead": 0,
           "arrowwidth": 1
          },
          "autotypenumbers": "strict",
          "coloraxis": {
           "colorbar": {
            "outlinewidth": 0,
            "ticks": ""
           }
          },
          "colorscale": {
           "diverging": [
            [
             0,
             "#8e0152"
            ],
            [
             0.1,
             "#c51b7d"
            ],
            [
             0.2,
             "#de77ae"
            ],
            [
             0.3,
             "#f1b6da"
            ],
            [
             0.4,
             "#fde0ef"
            ],
            [
             0.5,
             "#f7f7f7"
            ],
            [
             0.6,
             "#e6f5d0"
            ],
            [
             0.7,
             "#b8e186"
            ],
            [
             0.8,
             "#7fbc41"
            ],
            [
             0.9,
             "#4d9221"
            ],
            [
             1,
             "#276419"
            ]
           ],
           "sequential": [
            [
             0,
             "#0d0887"
            ],
            [
             0.1111111111111111,
             "#46039f"
            ],
            [
             0.2222222222222222,
             "#7201a8"
            ],
            [
             0.3333333333333333,
             "#9c179e"
            ],
            [
             0.4444444444444444,
             "#bd3786"
            ],
            [
             0.5555555555555556,
             "#d8576b"
            ],
            [
             0.6666666666666666,
             "#ed7953"
            ],
            [
             0.7777777777777778,
             "#fb9f3a"
            ],
            [
             0.8888888888888888,
             "#fdca26"
            ],
            [
             1,
             "#f0f921"
            ]
           ],
           "sequentialminus": [
            [
             0,
             "#0d0887"
            ],
            [
             0.1111111111111111,
             "#46039f"
            ],
            [
             0.2222222222222222,
             "#7201a8"
            ],
            [
             0.3333333333333333,
             "#9c179e"
            ],
            [
             0.4444444444444444,
             "#bd3786"
            ],
            [
             0.5555555555555556,
             "#d8576b"
            ],
            [
             0.6666666666666666,
             "#ed7953"
            ],
            [
             0.7777777777777778,
             "#fb9f3a"
            ],
            [
             0.8888888888888888,
             "#fdca26"
            ],
            [
             1,
             "#f0f921"
            ]
           ]
          },
          "colorway": [
           "#636efa",
           "#EF553B",
           "#00cc96",
           "#ab63fa",
           "#FFA15A",
           "#19d3f3",
           "#FF6692",
           "#B6E880",
           "#FF97FF",
           "#FECB52"
          ],
          "font": {
           "color": "#2a3f5f"
          },
          "geo": {
           "bgcolor": "white",
           "lakecolor": "white",
           "landcolor": "#E5ECF6",
           "showlakes": true,
           "showland": true,
           "subunitcolor": "white"
          },
          "hoverlabel": {
           "align": "left"
          },
          "hovermode": "closest",
          "mapbox": {
           "style": "light"
          },
          "paper_bgcolor": "white",
          "plot_bgcolor": "#E5ECF6",
          "polar": {
           "angularaxis": {
            "gridcolor": "white",
            "linecolor": "white",
            "ticks": ""
           },
           "bgcolor": "#E5ECF6",
           "radialaxis": {
            "gridcolor": "white",
            "linecolor": "white",
            "ticks": ""
           }
          },
          "scene": {
           "xaxis": {
            "backgroundcolor": "#E5ECF6",
            "gridcolor": "white",
            "gridwidth": 2,
            "linecolor": "white",
            "showbackground": true,
            "ticks": "",
            "zerolinecolor": "white"
           },
           "yaxis": {
            "backgroundcolor": "#E5ECF6",
            "gridcolor": "white",
            "gridwidth": 2,
            "linecolor": "white",
            "showbackground": true,
            "ticks": "",
            "zerolinecolor": "white"
           },
           "zaxis": {
            "backgroundcolor": "#E5ECF6",
            "gridcolor": "white",
            "gridwidth": 2,
            "linecolor": "white",
            "showbackground": true,
            "ticks": "",
            "zerolinecolor": "white"
           }
          },
          "shapedefaults": {
           "line": {
            "color": "#2a3f5f"
           }
          },
          "ternary": {
           "aaxis": {
            "gridcolor": "white",
            "linecolor": "white",
            "ticks": ""
           },
           "baxis": {
            "gridcolor": "white",
            "linecolor": "white",
            "ticks": ""
           },
           "bgcolor": "#E5ECF6",
           "caxis": {
            "gridcolor": "white",
            "linecolor": "white",
            "ticks": ""
           }
          },
          "title": {
           "x": 0.05
          },
          "xaxis": {
           "automargin": true,
           "gridcolor": "white",
           "linecolor": "white",
           "ticks": "",
           "title": {
            "standoff": 15
           },
           "zerolinecolor": "white",
           "zerolinewidth": 2
          },
          "yaxis": {
           "automargin": true,
           "gridcolor": "white",
           "linecolor": "white",
           "ticks": "",
           "title": {
            "standoff": 15
           },
           "zerolinecolor": "white",
           "zerolinewidth": 2
          }
         }
        },
        "width": 1600,
        "xaxis": {
         "autorange": "reversed",
         "gridcolor": "rgb(210,210,210)",
         "gridwidth": 4,
         "tickmode": "array",
         "tickvals": [
          0.5,
          0.4,
          0.3,
          0.2,
          0.1
         ],
         "title": {
          "text": "sparsity"
         }
        },
        "yaxis": {
         "gridcolor": "rgb(210,210,210)",
         "gridwidth": 4,
         "title": {
          "text": "$\\Huge{\\Delta\\mathcal{F}}$"
         }
        }
       }
      },
      "text/html": [
       "<div>                            <div id=\"1b3161e1-6c44-44f5-a0c3-a899a1049876\" class=\"plotly-graph-div\" style=\"height:1200px; width:1600px;\"></div>            <script type=\"text/javascript\">                require([\"plotly\"], function(Plotly) {                    window.PLOTLYENV=window.PLOTLYENV || {};                                    if (document.getElementById(\"1b3161e1-6c44-44f5-a0c3-a899a1049876\")) {                    Plotly.newPlot(                        \"1b3161e1-6c44-44f5-a0c3-a899a1049876\",                        [{\"line\": {\"color\": \"#4C78A8\", \"width\": 15}, \"name\": \"cluster 1 circuit : cluster 1 images\", \"type\": \"scatter\", \"x\": [0.49984176697263594, 0.4926701314739236, 0.48549849597521116, 0.47832686047649886, 0.47115522497778645, 0.4639835894790741, 0.4568119539803618, 0.44964031848164937, 0.442468682982937, 0.4352970474842246, 0.42812541198551224, 0.4209537764867999, 0.4137821409880875, 0.40661050548937516, 0.3994388699906628, 0.39226723449195045, 0.38509559899323803, 0.37792396349452567, 0.3707523279958133, 0.36358069249710095, 0.3564090569983886, 0.3492374214996762, 0.3420657860009639, 0.33489415050225146, 0.3277225150035391, 0.32055087950482675, 0.31337924400611433, 0.30620760850740203, 0.2990359730086896, 0.29186433750997726, 0.2846927020112649, 0.27752106651255254, 0.2703494310138402, 0.26317779551512777, 0.2560061600164154, 0.24883452451770308, 0.2416628890189907, 0.2344912535202783, 0.22731961802156597, 0.22014798252285359, 0.2129763470241412, 0.20580471152542884, 0.19863307602671645, 0.19146144052800412, 0.18428980502929174, 0.17711816953057935, 0.16994653403186702, 0.16277489853315463, 0.15560326303444227, 0.1484316275357299, 0.1412599920370175, 0.13408835653830517, 0.12691672103959278, 0.11974508554088041, 0.11257345004216808, 0.1054018145434557, 0.09823017904474332, 0.09105854354603093, 0.08388690804731855, 0.07671527254860622, 0.06954363704989384, 0.06237200155118146, 0.055200366052469134, 0.04802873055375675, 0.04085709505504437, 0.03368545955633199, 0.026513824057619602, 0.019342188558907278, 0.012170553060194895, 0.0049989175614825075], \"y\": [0.0, 1.1158811048517236e-06, -4.4406100641936064e-05, -0.0011766408570110798, -0.0001300509466091171, 0.00030070787761360407, 3.7024146877229214e-06, 7.878904580138624e-05, -0.0030648396350443363, -0.0025975301396101713, 0.003891966538503766, 0.0030392298940569162, 0.0022470690310001373, 0.0046241809614002705, 0.007253996562212706, 0.0073214503936469555, 0.004109907429665327, 0.002223709598183632, 0.0022741719149053097, 0.0029787090606987476, 0.004681026563048363, 0.006535583641380072, 0.012930894270539284, -0.004521726630628109, -0.025448091328144073, -0.038434628397226334, -0.03751695156097412, -0.039053093641996384, 0.02046496421098709, 0.003055283334106207, 0.004245344549417496, -0.006106728222221136, -0.004286624491214752, -0.008454432711005211, -0.005176706239581108, -0.022056832909584045, -0.02527746371924877, -0.023722484707832336, -0.030005326494574547, -0.018567748367786407, -0.062302134931087494, -0.07412547618150711, -0.06996867805719376, -0.08634918183088303, -0.10739129036664963, -0.12196023762226105, -0.14916688203811646, -0.16787606477737427, -0.1663064807653427, -0.15325668454170227, -0.18526141345500946, -0.14392408728599548, -0.15890449285507202, -0.18651925027370453, -0.21412862837314606, -0.27651143074035645, -0.3238659203052521, -0.319470077753067, -0.3391161859035492, -0.37277770042419434, -0.48341473937034607, -0.614625871181488, -0.7406800389289856, -0.8317793607711792, -0.8215234875679016, -0.7231405377388, -0.7199727296829224, -0.6527359485626221, -0.5953975319862366, -0.35262516140937805]}, {\"line\": {\"color\": \"#4C78A8\", \"dash\": \"dot\", \"width\": 15}, \"name\": \"cluster 1 circuit : cluster 2 images\", \"type\": \"scatter\", \"x\": [0.49984176697263594, 0.4926701314739236, 0.48549849597521116, 0.47832686047649886, 0.47115522497778645, 0.4639835894790741, 0.4568119539803618, 0.44964031848164937, 0.442468682982937, 0.4352970474842246, 0.42812541198551224, 0.4209537764867999, 0.4137821409880875, 0.40661050548937516, 0.3994388699906628, 0.39226723449195045, 0.38509559899323803, 0.37792396349452567, 0.3707523279958133, 0.36358069249710095, 0.3564090569983886, 0.3492374214996762, 0.3420657860009639, 0.33489415050225146, 0.3277225150035391, 0.32055087950482675, 0.31337924400611433, 0.30620760850740203, 0.2990359730086896, 0.29186433750997726, 0.2846927020112649, 0.27752106651255254, 0.2703494310138402, 0.26317779551512777, 0.2560061600164154, 0.24883452451770308, 0.2416628890189907, 0.2344912535202783, 0.22731961802156597, 0.22014798252285359, 0.2129763470241412, 0.20580471152542884, 0.19863307602671645, 0.19146144052800412, 0.18428980502929174, 0.17711816953057935, 0.16994653403186702, 0.16277489853315463, 0.15560326303444227, 0.1484316275357299, 0.1412599920370175, 0.13408835653830517, 0.12691672103959278, 0.11974508554088041, 0.11257345004216808, 0.1054018145434557, 0.09823017904474332, 0.09105854354603093, 0.08388690804731855, 0.07671527254860622, 0.06954363704989384, 0.06237200155118146, 0.055200366052469134, 0.04802873055375675, 0.04085709505504437, 0.03368545955633199, 0.026513824057619602, 0.019342188558907278, 0.012170553060194895, 0.0049989175614825075], \"y\": [0.0, 0.0021195588633418083, 0.010228746570646763, -0.0029924085829406977, -0.0032244022004306316, -0.004882866982370615, 0.018940391018986702, 0.0073378742672502995, -0.016390670090913773, -0.0194904375821352, -0.008771502412855625, -0.0064330026507377625, -0.018330251798033714, -0.013135525397956371, -0.014623517170548439, -0.030591493472456932, -0.04873039573431015, -0.04271074756979942, -0.052637964487075806, -0.03821668028831482, -0.05676177889108658, -0.0697907954454422, -0.060993049293756485, -0.11818243563175201, -0.20735640823841095, -0.2196783423423767, -0.23257581889629364, -0.23750969767570496, -0.2586534321308136, -0.2658281922340393, -0.26732805371284485, -0.31389960646629333, -0.30727121233940125, -0.3282579481601715, -0.33002665638923645, -0.3405247926712036, -0.35624954104423523, -0.35138043761253357, -0.38776978850364685, -0.4086604416370392, -0.40275058150291443, -0.4045692980289459, -0.4264831840991974, -0.44098278880119324, -0.46338242292404175, -0.5281214714050293, -0.5952630639076233, -0.5922380685806274, -0.6154375672340393, -0.6056626439094543, -0.6386303901672363, -0.7013286352157593, -0.7298532128334045, -0.779273271560669, -0.7603455185890198, -0.7602124810218811, -0.8222103118896484, -0.8173816800117493, -0.8134880661964417, -0.8550637364387512, -0.9005144238471985, -0.9756383895874023, -1.012229323387146, -1.0913081169128418, -1.1479843854904175, -1.1384897232055664, -1.1831920146942139, -1.0705398321151733, -0.8969804048538208, -0.48395660519599915]}, {\"line\": {\"color\": \"#F58518\", \"dash\": \"dot\", \"width\": 15}, \"name\": \"cluster 2 circuit : cluster 1 images\", \"type\": \"scatter\", \"x\": [0.49984176697263594, 0.4926701314739236, 0.48549849597521116, 0.47832686047649886, 0.47115522497778645, 0.4639835894790741, 0.4568119539803618, 0.44964031848164937, 0.442468682982937, 0.4352970474842246, 0.42812541198551224, 0.4209537764867999, 0.4137821409880875, 0.40661050548937516, 0.3994388699906628, 0.39226723449195045, 0.38509559899323803, 0.37792396349452567, 0.3707523279958133, 0.36358069249710095, 0.3564090569983886, 0.3492374214996762, 0.3420657860009639, 0.33489415050225146, 0.3277225150035391, 0.32055087950482675, 0.31337924400611433, 0.30620760850740203, 0.2990359730086896, 0.29186433750997726, 0.2846927020112649, 0.27752106651255254, 0.2703494310138402, 0.26317779551512777, 0.2560061600164154, 0.24883452451770308, 0.2416628890189907, 0.2344912535202783, 0.22731961802156597, 0.22014798252285359, 0.2129763470241412, 0.20580471152542884, 0.19863307602671645, 0.19146144052800412, 0.18428980502929174, 0.17711816953057935, 0.16994653403186702, 0.16277489853315463, 0.15560326303444227, 0.1484316275357299, 0.1412599920370175, 0.13408835653830517, 0.12691672103959278, 0.11974508554088041, 0.11257345004216808, 0.1054018145434557, 0.09823017904474332, 0.09105854354603093, 0.08388690804731855, 0.07671527254860622, 0.06954363704989384, 0.06237200155118146, 0.055200366052469134, 0.04802873055375675, 0.04085709505504437, 0.03368545955633199, 0.026513824057619602, 0.019342188558907278, 0.012170553060194895, 0.0049989175614825075], \"y\": [0.0, -0.2589012682437897, -0.5161617994308472, -0.47045937180519104, -0.4993438720703125, -0.5384073257446289, -0.6072751879692078, -0.632652997970581, -0.6554324626922607, -0.6556257605552673, -0.6529852747917175, -0.7099882364273071, -0.7214885354042053, -0.83055579662323, -0.8138409852981567, -0.8669338226318359, -0.8533663153648376, -0.8820622563362122, -0.8901433944702148, -0.9127225875854492, -0.9287069439888, -0.9002900719642639, -0.8734901547431946, -0.9105899333953857, -1.1564252376556396, -1.1501741409301758, -1.1544491052627563, -1.1621582508087158, -1.1541111469268799, -1.1020243167877197, -1.0746804475784302, -1.0635862350463867, -1.0323286056518555, -1.0592377185821533, -1.0236458778381348, -1.0132660865783691, -1.0523183345794678, -1.0460970401763916, -1.0237149000167847, -0.9919644594192505, -0.9714043140411377, -0.9491915702819824, -0.9427333474159241, -0.9581128358840942, -1.0009188652038574, -1.025843620300293, -0.9867379069328308, -1.003358006477356, -1.0192402601242065, -1.023735523223877, -0.9477377533912659, -0.9233481884002686, -0.9065014123916626, -0.8665950298309326, -0.8322051167488098, -0.812113344669342, -0.8517715930938721, -0.8926233053207397, -0.912613034248352, -0.9319491982460022, -0.9266109466552734, -0.9202671647071838, -0.9352565407752991, -0.9006370306015015, -0.9176574349403381, -0.9063839316368103, -0.8896248936653137, -0.8988022208213806, -0.8447322249412537, -0.8583881855010986]}, {\"line\": {\"color\": \"#F58518\", \"width\": 15}, \"name\": \"cluster 2 circuit : cluster 2 images\", \"type\": \"scatter\", \"x\": [0.49984176697263594, 0.4926701314739236, 0.48549849597521116, 0.47832686047649886, 0.47115522497778645, 0.4639835894790741, 0.4568119539803618, 0.44964031848164937, 0.442468682982937, 0.4352970474842246, 0.42812541198551224, 0.4209537764867999, 0.4137821409880875, 0.40661050548937516, 0.3994388699906628, 0.39226723449195045, 0.38509559899323803, 0.37792396349452567, 0.3707523279958133, 0.36358069249710095, 0.3564090569983886, 0.3492374214996762, 0.3420657860009639, 0.33489415050225146, 0.3277225150035391, 0.32055087950482675, 0.31337924400611433, 0.30620760850740203, 0.2990359730086896, 0.29186433750997726, 0.2846927020112649, 0.27752106651255254, 0.2703494310138402, 0.26317779551512777, 0.2560061600164154, 0.24883452451770308, 0.2416628890189907, 0.2344912535202783, 0.22731961802156597, 0.22014798252285359, 0.2129763470241412, 0.20580471152542884, 0.19863307602671645, 0.19146144052800412, 0.18428980502929174, 0.17711816953057935, 0.16994653403186702, 0.16277489853315463, 0.15560326303444227, 0.1484316275357299, 0.1412599920370175, 0.13408835653830517, 0.12691672103959278, 0.11974508554088041, 0.11257345004216808, 0.1054018145434557, 0.09823017904474332, 0.09105854354603093, 0.08388690804731855, 0.07671527254860622, 0.06954363704989384, 0.06237200155118146, 0.055200366052469134, 0.04802873055375675, 0.04085709505504437, 0.03368545955633199, 0.026513824057619602, 0.019342188558907278, 0.012170553060194895, 0.0049989175614825075], \"y\": [0.0, 0.0003125509829260409, 0.00021747409482486546, 0.000316775927785784, 0.0008128181798383594, 0.001513651106506586, 0.001960325986146927, 0.005201106425374746, 0.002484865952283144, 0.004868015181273222, 0.006784338504076004, 0.011395523324608803, 0.01320979930460453, 0.011124225333333015, 0.01475053746253252, 0.00881071388721466, 0.009098047390580177, 0.013006445951759815, 0.028284572064876556, 0.027185313403606415, 0.028500951826572418, 0.027270661666989326, 0.03674352914094925, 0.03185892477631569, 0.00872618705034256, 0.00449838861823082, 0.0005026016151532531, 0.0005278481403365731, 0.000436406146036461, 0.013963676057755947, 0.026342950761318207, 0.03049379587173462, 0.032756589353084564, 0.024376073852181435, 0.019316276535391808, 0.02779664471745491, 0.03130178526043892, 0.034382414072752, 0.02069382183253765, 0.012186887674033642, 0.012564807198941708, 0.016583101823925972, -0.004208701197057962, 0.00279761734418571, -0.020323004573583603, -0.05669375881552696, -0.05033034086227417, -0.07217121869325638, -0.062058087438344955, -0.08609341084957123, -0.07388360798358917, -0.058952562510967255, -0.06719733029603958, -0.0722382590174675, -0.08212197571992874, -0.1316387802362442, -0.24130256474018097, -0.2879598140716553, -0.3267592489719391, -0.34203559160232544, -0.39908817410469055, -0.378928005695343, -0.5325832366943359, -0.5649116635322571, -0.6136768460273743, -0.6475735902786255, -0.6529520153999329, -0.7160940766334534, -0.5664817690849304, -0.6348891854286194]}],                        {\"font\": {\"size\": 50}, \"height\": 1200, \"legend\": {\"bgcolor\": \"rgba(255,255,255,0.3)\", \"font\": {\"size\": 40}, \"x\": 0.03, \"xanchor\": \"left\", \"y\": 0.3, \"yanchor\": \"top\"}, \"margin\": {\"b\": 100, \"l\": 100, \"r\": 100, \"t\": 100}, \"paper_bgcolor\": \"rgba(255,255,255,1)\", \"plot_bgcolor\": \"rgba(255,255,255,1)\", \"showlegend\": false, \"template\": {\"data\": {\"bar\": [{\"error_x\": {\"color\": \"#2a3f5f\"}, \"error_y\": {\"color\": \"#2a3f5f\"}, \"marker\": {\"line\": {\"color\": \"#E5ECF6\", \"width\": 0.5}}, \"type\": \"bar\"}], \"barpolar\": [{\"marker\": {\"line\": {\"color\": \"#E5ECF6\", \"width\": 0.5}}, \"type\": \"barpolar\"}], \"carpet\": [{\"aaxis\": {\"endlinecolor\": \"#2a3f5f\", \"gridcolor\": \"white\", \"linecolor\": \"white\", \"minorgridcolor\": \"white\", \"startlinecolor\": \"#2a3f5f\"}, \"baxis\": {\"endlinecolor\": \"#2a3f5f\", \"gridcolor\": \"white\", \"linecolor\": \"white\", \"minorgridcolor\": \"white\", \"startlinecolor\": \"#2a3f5f\"}, \"type\": \"carpet\"}], \"choropleth\": [{\"colorbar\": {\"outlinewidth\": 0, \"ticks\": \"\"}, \"type\": \"choropleth\"}], \"contour\": [{\"colorbar\": {\"outlinewidth\": 0, \"ticks\": \"\"}, \"colorscale\": [[0.0, \"#0d0887\"], [0.1111111111111111, \"#46039f\"], [0.2222222222222222, \"#7201a8\"], [0.3333333333333333, \"#9c179e\"], [0.4444444444444444, \"#bd3786\"], [0.5555555555555556, \"#d8576b\"], [0.6666666666666666, \"#ed7953\"], [0.7777777777777778, \"#fb9f3a\"], [0.8888888888888888, \"#fdca26\"], [1.0, \"#f0f921\"]], \"type\": \"contour\"}], \"contourcarpet\": [{\"colorbar\": {\"outlinewidth\": 0, \"ticks\": \"\"}, \"type\": \"contourcarpet\"}], \"heatmap\": [{\"colorbar\": {\"outlinewidth\": 0, \"ticks\": \"\"}, \"colorscale\": [[0.0, \"#0d0887\"], [0.1111111111111111, \"#46039f\"], [0.2222222222222222, \"#7201a8\"], [0.3333333333333333, \"#9c179e\"], [0.4444444444444444, \"#bd3786\"], [0.5555555555555556, \"#d8576b\"], [0.6666666666666666, \"#ed7953\"], [0.7777777777777778, \"#fb9f3a\"], [0.8888888888888888, \"#fdca26\"], [1.0, \"#f0f921\"]], \"type\": \"heatmap\"}], \"heatmapgl\": [{\"colorbar\": {\"outlinewidth\": 0, \"ticks\": \"\"}, \"colorscale\": [[0.0, \"#0d0887\"], [0.1111111111111111, \"#46039f\"], [0.2222222222222222, \"#7201a8\"], [0.3333333333333333, \"#9c179e\"], [0.4444444444444444, \"#bd3786\"], [0.5555555555555556, \"#d8576b\"], [0.6666666666666666, \"#ed7953\"], [0.7777777777777778, \"#fb9f3a\"], [0.8888888888888888, \"#fdca26\"], [1.0, \"#f0f921\"]], \"type\": \"heatmapgl\"}], \"histogram\": [{\"marker\": {\"colorbar\": {\"outlinewidth\": 0, \"ticks\": \"\"}}, \"type\": \"histogram\"}], \"histogram2d\": [{\"colorbar\": {\"outlinewidth\": 0, \"ticks\": \"\"}, \"colorscale\": [[0.0, \"#0d0887\"], [0.1111111111111111, \"#46039f\"], [0.2222222222222222, \"#7201a8\"], [0.3333333333333333, \"#9c179e\"], [0.4444444444444444, \"#bd3786\"], [0.5555555555555556, \"#d8576b\"], [0.6666666666666666, \"#ed7953\"], [0.7777777777777778, \"#fb9f3a\"], [0.8888888888888888, \"#fdca26\"], [1.0, \"#f0f921\"]], \"type\": \"histogram2d\"}], \"histogram2dcontour\": [{\"colorbar\": {\"outlinewidth\": 0, \"ticks\": \"\"}, \"colorscale\": [[0.0, \"#0d0887\"], [0.1111111111111111, \"#46039f\"], [0.2222222222222222, \"#7201a8\"], [0.3333333333333333, \"#9c179e\"], [0.4444444444444444, \"#bd3786\"], [0.5555555555555556, \"#d8576b\"], [0.6666666666666666, \"#ed7953\"], [0.7777777777777778, \"#fb9f3a\"], [0.8888888888888888, \"#fdca26\"], [1.0, \"#f0f921\"]], \"type\": \"histogram2dcontour\"}], \"mesh3d\": [{\"colorbar\": {\"outlinewidth\": 0, \"ticks\": \"\"}, \"type\": \"mesh3d\"}], \"parcoords\": [{\"line\": {\"colorbar\": {\"outlinewidth\": 0, \"ticks\": \"\"}}, \"type\": \"parcoords\"}], \"pie\": [{\"automargin\": true, \"type\": \"pie\"}], \"scatter\": [{\"marker\": {\"colorbar\": {\"outlinewidth\": 0, \"ticks\": \"\"}}, \"type\": \"scatter\"}], \"scatter3d\": [{\"line\": {\"colorbar\": {\"outlinewidth\": 0, \"ticks\": \"\"}}, \"marker\": {\"colorbar\": {\"outlinewidth\": 0, \"ticks\": \"\"}}, \"type\": \"scatter3d\"}], \"scattercarpet\": [{\"marker\": {\"colorbar\": {\"outlinewidth\": 0, \"ticks\": \"\"}}, \"type\": \"scattercarpet\"}], \"scattergeo\": [{\"marker\": {\"colorbar\": {\"outlinewidth\": 0, \"ticks\": \"\"}}, \"type\": \"scattergeo\"}], \"scattergl\": [{\"marker\": {\"colorbar\": {\"outlinewidth\": 0, \"ticks\": \"\"}}, \"type\": \"scattergl\"}], \"scattermapbox\": [{\"marker\": {\"colorbar\": {\"outlinewidth\": 0, \"ticks\": \"\"}}, \"type\": \"scattermapbox\"}], \"scatterpolar\": [{\"marker\": {\"colorbar\": {\"outlinewidth\": 0, \"ticks\": \"\"}}, \"type\": \"scatterpolar\"}], \"scatterpolargl\": [{\"marker\": {\"colorbar\": {\"outlinewidth\": 0, \"ticks\": \"\"}}, \"type\": \"scatterpolargl\"}], \"scatterternary\": [{\"marker\": {\"colorbar\": {\"outlinewidth\": 0, \"ticks\": \"\"}}, \"type\": \"scatterternary\"}], \"surface\": [{\"colorbar\": {\"outlinewidth\": 0, \"ticks\": \"\"}, \"colorscale\": [[0.0, \"#0d0887\"], [0.1111111111111111, \"#46039f\"], [0.2222222222222222, \"#7201a8\"], [0.3333333333333333, \"#9c179e\"], [0.4444444444444444, \"#bd3786\"], [0.5555555555555556, \"#d8576b\"], [0.6666666666666666, \"#ed7953\"], [0.7777777777777778, \"#fb9f3a\"], [0.8888888888888888, \"#fdca26\"], [1.0, \"#f0f921\"]], \"type\": \"surface\"}], \"table\": [{\"cells\": {\"fill\": {\"color\": \"#EBF0F8\"}, \"line\": {\"color\": \"white\"}}, \"header\": {\"fill\": {\"color\": \"#C8D4E3\"}, \"line\": {\"color\": \"white\"}}, \"type\": \"table\"}]}, \"layout\": {\"annotationdefaults\": {\"arrowcolor\": \"#2a3f5f\", \"arrowhead\": 0, \"arrowwidth\": 1}, \"autotypenumbers\": \"strict\", \"coloraxis\": {\"colorbar\": {\"outlinewidth\": 0, \"ticks\": \"\"}}, \"colorscale\": {\"diverging\": [[0, \"#8e0152\"], [0.1, \"#c51b7d\"], [0.2, \"#de77ae\"], [0.3, \"#f1b6da\"], [0.4, \"#fde0ef\"], [0.5, \"#f7f7f7\"], [0.6, \"#e6f5d0\"], [0.7, \"#b8e186\"], [0.8, \"#7fbc41\"], [0.9, \"#4d9221\"], [1, \"#276419\"]], \"sequential\": [[0.0, \"#0d0887\"], [0.1111111111111111, \"#46039f\"], [0.2222222222222222, \"#7201a8\"], [0.3333333333333333, \"#9c179e\"], [0.4444444444444444, \"#bd3786\"], [0.5555555555555556, \"#d8576b\"], [0.6666666666666666, \"#ed7953\"], [0.7777777777777778, \"#fb9f3a\"], [0.8888888888888888, \"#fdca26\"], [1.0, \"#f0f921\"]], \"sequentialminus\": [[0.0, \"#0d0887\"], [0.1111111111111111, \"#46039f\"], [0.2222222222222222, \"#7201a8\"], [0.3333333333333333, \"#9c179e\"], [0.4444444444444444, \"#bd3786\"], [0.5555555555555556, \"#d8576b\"], [0.6666666666666666, \"#ed7953\"], [0.7777777777777778, \"#fb9f3a\"], [0.8888888888888888, \"#fdca26\"], [1.0, \"#f0f921\"]]}, \"colorway\": [\"#636efa\", \"#EF553B\", \"#00cc96\", \"#ab63fa\", \"#FFA15A\", \"#19d3f3\", \"#FF6692\", \"#B6E880\", \"#FF97FF\", \"#FECB52\"], \"font\": {\"color\": \"#2a3f5f\"}, \"geo\": {\"bgcolor\": \"white\", \"lakecolor\": \"white\", \"landcolor\": \"#E5ECF6\", \"showlakes\": true, \"showland\": true, \"subunitcolor\": \"white\"}, \"hoverlabel\": {\"align\": \"left\"}, \"hovermode\": \"closest\", \"mapbox\": {\"style\": \"light\"}, \"paper_bgcolor\": \"white\", \"plot_bgcolor\": \"#E5ECF6\", \"polar\": {\"angularaxis\": {\"gridcolor\": \"white\", \"linecolor\": \"white\", \"ticks\": \"\"}, \"bgcolor\": \"#E5ECF6\", \"radialaxis\": {\"gridcolor\": \"white\", \"linecolor\": \"white\", \"ticks\": \"\"}}, \"scene\": {\"xaxis\": {\"backgroundcolor\": \"#E5ECF6\", \"gridcolor\": \"white\", \"gridwidth\": 2, \"linecolor\": \"white\", \"showbackground\": true, \"ticks\": \"\", \"zerolinecolor\": \"white\"}, \"yaxis\": {\"backgroundcolor\": \"#E5ECF6\", \"gridcolor\": \"white\", \"gridwidth\": 2, \"linecolor\": \"white\", \"showbackground\": true, \"ticks\": \"\", \"zerolinecolor\": \"white\"}, \"zaxis\": {\"backgroundcolor\": \"#E5ECF6\", \"gridcolor\": \"white\", \"gridwidth\": 2, \"linecolor\": \"white\", \"showbackground\": true, \"ticks\": \"\", \"zerolinecolor\": \"white\"}}, \"shapedefaults\": {\"line\": {\"color\": \"#2a3f5f\"}}, \"ternary\": {\"aaxis\": {\"gridcolor\": \"white\", \"linecolor\": \"white\", \"ticks\": \"\"}, \"baxis\": {\"gridcolor\": \"white\", \"linecolor\": \"white\", \"ticks\": \"\"}, \"bgcolor\": \"#E5ECF6\", \"caxis\": {\"gridcolor\": \"white\", \"linecolor\": \"white\", \"ticks\": \"\"}}, \"title\": {\"x\": 0.05}, \"xaxis\": {\"automargin\": true, \"gridcolor\": \"white\", \"linecolor\": \"white\", \"ticks\": \"\", \"title\": {\"standoff\": 15}, \"zerolinecolor\": \"white\", \"zerolinewidth\": 2}, \"yaxis\": {\"automargin\": true, \"gridcolor\": \"white\", \"linecolor\": \"white\", \"ticks\": \"\", \"title\": {\"standoff\": 15}, \"zerolinecolor\": \"white\", \"zerolinewidth\": 2}}}, \"width\": 1600, \"xaxis\": {\"autorange\": \"reversed\", \"gridcolor\": \"rgb(210,210,210)\", \"gridwidth\": 4, \"tickmode\": \"array\", \"tickvals\": [0.5, 0.4, 0.3, 0.2, 0.1], \"title\": {\"text\": \"sparsity\"}}, \"yaxis\": {\"gridcolor\": \"rgb(210,210,210)\", \"gridwidth\": 4, \"title\": {\"text\": \"$\\\\Huge{\\\\Delta\\\\mathcal{F}}$\"}}},                        {\"responsive\": true}                    ).then(function(){\n",
       "                            \n",
       "var gd = document.getElementById('1b3161e1-6c44-44f5-a0c3-a899a1049876');\n",
       "var x = new MutationObserver(function (mutations, observer) {{\n",
       "        var display = window.getComputedStyle(gd).display;\n",
       "        if (!display || display === 'none') {{\n",
       "            console.log([gd, 'removed!']);\n",
       "            Plotly.purge(gd);\n",
       "            observer.disconnect();\n",
       "        }}\n",
       "}});\n",
       "\n",
       "// Listen for the removal of the full notebook cells\n",
       "var notebookContainer = gd.closest('#notebook-container');\n",
       "if (notebookContainer) {{\n",
       "    x.observe(notebookContainer, {childList: true});\n",
       "}}\n",
       "\n",
       "// Listen for the clearing of the current output cell\n",
       "var outputEl = gd.closest('.output');\n",
       "if (outputEl) {{\n",
       "    x.observe(outputEl, {childList: true});\n",
       "}}\n",
       "\n",
       "                        })                };                });            </script>        </div>"
      ]
     },
     "metadata": {},
     "output_type": "display_data"
    }
   ],
   "source": [
    "from circuit_pruner.visualizer.layouts import big_fig_layout\n",
    "\n",
    "fig.update_layout(big_fig_layout)\n",
    "#fig.update_layout({ 'width':3000})\n",
    "\n",
    "fig.update\n",
    "\n",
    "fig.update_layout({\n",
    "                    'height':1200,\n",
    "                    'width':1600,\n",
    "                    'font':{'size':50}},\n",
    ")\n",
    "\n",
    "\n",
    "fig.update_layout(legend= {'bgcolor': 'rgba(255,255,255,0.3)'})\n",
    "\n",
    "fig.update_layout(legend=dict(\n",
    "                                yanchor=\"top\",\n",
    "                                y=0.3,\n",
    "                                xanchor=\"left\",\n",
    "                                x=0.03\n",
    "                              ))\n",
    "\n",
    "\n",
    "\n",
    "fig.update_layout(legend=dict(\n",
    "                             font=dict(size=40)\n",
    "                    ))\n",
    "\n",
    "#for single line plots\n",
    "fig.update_layout({'showlegend':False})\n",
    "#                     )\n",
    "# fig.update_yaxes(range=[-1.23, .09])"
   ]
  },
  {
   "cell_type": "code",
   "execution_count": 134,
   "id": "c154d451",
   "metadata": {},
   "outputs": [],
   "source": [
    "fig.write_html(\"plots/905_mean_diff_big.html\")\n",
    "fig.write_image(\"plots/905_mean_diff_big.svg\")\n",
    "fig.write_image(\"plots/905_mean_diff_big.png\")"
   ]
  },
  {
   "cell_type": "code",
   "execution_count": 103,
   "id": "69639d2d",
   "metadata": {},
   "outputs": [
    {
     "name": "stdout",
     "output_type": "stream",
     "text": [
      "features_10 effective last layer\n",
      "target sparsity: 0.311\n",
      "total params to feature: 152428\n",
      "\n",
      "we found 60064 params that were already zero'd out, your model is already a pruned circuit right? . . . \t\t\t   just making sure, we are subtracting these params from the total.\n",
      "\n",
      "new total params: 92364    (after subtracting previously masked params)\n",
      "kept params in original mask: 28726      (total params * sparsity)\n",
      "original mask: 359414 params\n",
      "effective mask: 357902 params\n",
      "effective_sparsity: 0.30918972759949764\n",
      "features_10 effective last layer\n",
      "target sparsity: 0.368\n",
      "total params to feature: 152428\n",
      "\n",
      "we found 60064 params that were already zero'd out, your model is already a pruned circuit right? . . . \t\t\t   just making sure, we are subtracting these params from the total.\n",
      "\n",
      "new total params: 92364    (after subtracting previously masked params)\n",
      "kept params in original mask: 33990      (total params * sparsity)\n",
      "original mask: 416118 params\n",
      "effective mask: 415373 params\n",
      "effective_sparsity: 0.3671235546316747\n"
     ]
    }
   ],
   "source": [
    "# extraction at last good sparsity\n",
    "\n",
    "from circuit_pruner.extraction import model_ranks_2_circuit_model\n",
    "\n",
    "ranker = ranks\n",
    "\n",
    "target_sparsities = {'cluster_0':0.31,\n",
    "                     'cluster_1':0.36}\n",
    "\n",
    "target_sparsities = {'mixed_0':0.311,\n",
    "                     'mixed_1':0.368}\n",
    "\n",
    "\n",
    "sparse_circuits = {}\n",
    "sparse_masks = {}\n",
    "\n",
    "for cluster in clusters:\n",
    "    sparse_circuit,sparse_mask = model_ranks_2_circuit_model(ranker[cluster],target_sparsities[cluster],\n",
    "                                                           general_circuit,circuit_feature_targets,device,\n",
    "                                                           structure='kernels',use_effective_mask=True,\n",
    "                                                           rank_field='max')\n",
    "    sparse_circuits[cluster] = sparse_circuit.to(device)\n",
    "    sparse_masks[cluster] = sparse_mask\n"
   ]
  },
  {
   "cell_type": "code",
   "execution_count": 71,
   "id": "5233f73c",
   "metadata": {},
   "outputs": [],
   "source": [
    "from circuit_pruner.visualizer.featureviz  import featviz_in_recep_field"
   ]
  },
  {
   "cell_type": "code",
   "execution_count": 72,
   "id": "8f698843",
   "metadata": {},
   "outputs": [
    {
     "name": "stdout",
     "output_type": "stream",
     "text": [
      "------------------------------------------------------------------------------\n",
      "        Layer (type)    map size      start       jump receptive_field \n",
      "==============================================================================\n",
      "        0             [224, 224]        0.5        1.0             1.0 \n",
      "        1               [55, 55]        3.5        4.0            11.0 \n",
      "        2               [55, 55]        3.5        4.0            11.0 \n",
      "        3               [27, 27]        7.5        8.0            19.0 \n",
      "        4               [27, 27]        7.5        8.0            51.0 \n",
      "        5               [27, 27]        7.5        8.0            51.0 \n",
      "        6               [13, 13]       15.5       16.0            67.0 \n",
      "        7               [13, 13]       15.5       16.0            99.0 \n",
      "        8               [13, 13]       15.5       16.0            99.0 \n",
      "        9               [13, 13]       15.5       16.0           131.0 \n",
      "        10              [13, 13]       15.5       16.0           131.0 \n",
      "        11              [13, 13]       15.5       16.0           163.0 \n",
      "==============================================================================\n"
     ]
    },
    {
     "name": "stderr",
     "output_type": "stream",
     "text": [
      "100%|██████████| 512/512 [00:19<00:00, 26.53it/s]\n"
     ]
    },
    {
     "data": {
      "text/html": [
       "<div style=\"display: flex; flex-direction: row;\"><div style=\"margin-right:10px; margin-top: 4px;\">\n",
       "                            0 <br/>\n",
       "                            <img src=\"data:image/PNG;base64,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\" style=\"image-rendering: pixelated;\">\n",
       "                        </div></div>"
      ],
      "text/plain": [
       "<IPython.core.display.HTML object>"
      ]
     },
     "metadata": {},
     "output_type": "display_data"
    },
    {
     "name": "stdout",
     "output_type": "stream",
     "text": [
      "(13, 13)\n",
      "(6, 6)\n",
      "[(30.0, 193.0), (30.0, 193.0)]\n"
     ]
    },
    {
     "data": {
      "image/png": "[encoded data removed]",
      "text/plain": [
       "<PIL.Image.Image image mode=RGB size=163x163 at 0x7F4C74B7F910>"
      ]
     },
     "execution_count": 72,
     "metadata": {},
     "output_type": "execute_result"
    }
   ],
   "source": [
    "featviz_in_recep_field(deepcopy(sparse_circuits['cluster_0']),layer,0,margin=0)"
   ]
  },
  {
   "cell_type": "code",
   "execution_count": 73,
   "id": "6c1e08f2",
   "metadata": {},
   "outputs": [
    {
     "name": "stdout",
     "output_type": "stream",
     "text": [
      "------------------------------------------------------------------------------\n",
      "        Layer (type)    map size      start       jump receptive_field \n",
      "==============================================================================\n",
      "        0             [224, 224]        0.5        1.0             1.0 \n",
      "        1               [55, 55]        3.5        4.0            11.0 \n",
      "        2               [55, 55]        3.5        4.0            11.0 \n",
      "        3               [27, 27]        7.5        8.0            19.0 \n",
      "        4               [27, 27]        7.5        8.0            51.0 \n",
      "        5               [27, 27]        7.5        8.0            51.0 \n",
      "        6               [13, 13]       15.5       16.0            67.0 \n",
      "        7               [13, 13]       15.5       16.0            99.0 \n",
      "        8               [13, 13]       15.5       16.0            99.0 \n",
      "        9               [13, 13]       15.5       16.0           131.0 \n",
      "        10              [13, 13]       15.5       16.0           131.0 \n",
      "        11              [13, 13]       15.5       16.0           163.0 \n",
      "==============================================================================\n"
     ]
    },
    {
     "name": "stderr",
     "output_type": "stream",
     "text": [
      "100%|██████████| 512/512 [00:18<00:00, 27.59it/s]\n"
     ]
    },
    {
     "data": {
      "text/html": [
       "<div style=\"display: flex; flex-direction: row;\"><div style=\"margin-right:10px; margin-top: 4px;\">\n",
       "                            0 <br/>\n",
       "                            <img src=\"data:image/PNG;base64,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\" style=\"image-rendering: pixelated;\">\n",
       "                        </div></div>"
      ],
      "text/plain": [
       "<IPython.core.display.HTML object>"
      ]
     },
     "metadata": {},
     "output_type": "display_data"
    },
    {
     "name": "stdout",
     "output_type": "stream",
     "text": [
      "(13, 13)\n",
      "(6, 6)\n",
      "[(30.0, 193.0), (30.0, 193.0)]\n"
     ]
    },
    {
     "data": {
      "image/png": "[encoded data removed]",
      "text/plain": [
       "<PIL.Image.Image image mode=RGB size=163x163 at 0x7F4C74B7F2D0>"
      ]
     },
     "execution_count": 73,
     "metadata": {},
     "output_type": "execute_result"
    }
   ],
   "source": [
    "featviz_in_recep_field(deepcopy(sparse_circuits['cluster_1']),layer,0,margin=0)"
   ]
  },
  {
   "cell_type": "markdown",
   "id": "38ae5783",
   "metadata": {},
   "source": [
    "#### Compare IoU of extracted circuits"
   ]
  },
  {
   "cell_type": "code",
   "execution_count": 104,
   "id": "c1f5ce97",
   "metadata": {},
   "outputs": [],
   "source": [
    "from circuit_pruner.utils import plot_iou_from_masks"
   ]
  },
  {
   "cell_type": "code",
   "execution_count": 107,
   "id": "b9d2a1b3",
   "metadata": {},
   "outputs": [],
   "source": [
    "iou_fig = plot_iou_from_masks(sparse_masks['mixed_0'],sparse_masks['mixed_1'])"
   ]
  },
  {
   "cell_type": "code",
   "execution_count": null,
   "id": "6bdd1022",
   "metadata": {},
   "outputs": [],
   "source": [
    "iou_fig.update_layout(height = 350)"
   ]
  },
  {
   "cell_type": "code",
   "execution_count": 108,
   "id": "65787a8c",
   "metadata": {},
   "outputs": [
    {
     "data": {
      "application/vnd.plotly.v1+json": {
       "config": {
        "plotlyServerURL": "https://plot.ly"
       },
       "data": [
        {
         "fill": "tozeroy",
         "line": {
          "color": "#4C78A8"
         },
         "marker": {
          "size": 20
         },
         "type": "scatter",
         "x": [
          "1",
          "2",
          "3",
          "4",
          "5"
         ],
         "y": [
          1,
          0.8770272731781006,
          0.7855827212333679,
          0.7269847989082336,
          0.9602649211883545
         ]
        }
       ],
       "layout": {
        "font": {
         "size": 80
        },
        "height": 1500,
        "paper_bgcolor": "rgba(255,255,255,1)",
        "plot_bgcolor": "rgba(255,255,255,1)",
        "template": {
         "data": {
          "bar": [
           {
            "error_x": {
             "color": "#2a3f5f"
            },
            "error_y": {
             "color": "#2a3f5f"
            },
            "marker": {
             "line": {
              "color": "#E5ECF6",
              "width": 0.5
             }
            },
            "type": "bar"
           }
          ],
          "barpolar": [
           {
            "marker": {
             "line": {
              "color": "#E5ECF6",
              "width": 0.5
             }
            },
            "type": "barpolar"
           }
          ],
          "carpet": [
           {
            "aaxis": {
             "endlinecolor": "#2a3f5f",
             "gridcolor": "white",
             "linecolor": "white",
             "minorgridcolor": "white",
             "startlinecolor": "#2a3f5f"
            },
            "baxis": {
             "endlinecolor": "#2a3f5f",
             "gridcolor": "white",
             "linecolor": "white",
             "minorgridcolor": "white",
             "startlinecolor": "#2a3f5f"
            },
            "type": "carpet"
           }
          ],
          "choropleth": [
           {
            "colorbar": {
             "outlinewidth": 0,
             "ticks": ""
            },
            "type": "choropleth"
           }
          ],
          "contour": [
           {
            "colorbar": {
             "outlinewidth": 0,
             "ticks": ""
            },
            "colorscale": [
             [
              0,
              "#0d0887"
             ],
             [
              0.1111111111111111,
              "#46039f"
             ],
             [
              0.2222222222222222,
              "#7201a8"
             ],
             [
              0.3333333333333333,
              "#9c179e"
             ],
             [
              0.4444444444444444,
              "#bd3786"
             ],
             [
              0.5555555555555556,
              "#d8576b"
             ],
             [
              0.6666666666666666,
              "#ed7953"
             ],
             [
              0.7777777777777778,
              "#fb9f3a"
             ],
             [
              0.8888888888888888,
              "#fdca26"
             ],
             [
              1,
              "#f0f921"
             ]
            ],
            "type": "contour"
           }
          ],
          "contourcarpet": [
           {
            "colorbar": {
             "outlinewidth": 0,
             "ticks": ""
            },
            "type": "contourcarpet"
           }
          ],
          "heatmap": [
           {
            "colorbar": {
             "outlinewidth": 0,
             "ticks": ""
            },
            "colorscale": [
             [
              0,
              "#0d0887"
             ],
             [
              0.1111111111111111,
              "#46039f"
             ],
             [
              0.2222222222222222,
              "#7201a8"
             ],
             [
              0.3333333333333333,
              "#9c179e"
             ],
             [
              0.4444444444444444,
              "#bd3786"
             ],
             [
              0.5555555555555556,
              "#d8576b"
             ],
             [
              0.6666666666666666,
              "#ed7953"
             ],
             [
              0.7777777777777778,
              "#fb9f3a"
             ],
             [
              0.8888888888888888,
              "#fdca26"
             ],
             [
              1,
              "#f0f921"
             ]
            ],
            "type": "heatmap"
           }
          ],
          "heatmapgl": [
           {
            "colorbar": {
             "outlinewidth": 0,
             "ticks": ""
            },
            "colorscale": [
             [
              0,
              "#0d0887"
             ],
             [
              0.1111111111111111,
              "#46039f"
             ],
             [
              0.2222222222222222,
              "#7201a8"
             ],
             [
              0.3333333333333333,
              "#9c179e"
             ],
             [
              0.4444444444444444,
              "#bd3786"
             ],
             [
              0.5555555555555556,
              "#d8576b"
             ],
             [
              0.6666666666666666,
              "#ed7953"
             ],
             [
              0.7777777777777778,
              "#fb9f3a"
             ],
             [
              0.8888888888888888,
              "#fdca26"
             ],
             [
              1,
              "#f0f921"
             ]
            ],
            "type": "heatmapgl"
           }
          ],
          "histogram": [
           {
            "marker": {
             "colorbar": {
              "outlinewidth": 0,
              "ticks": ""
             }
            },
            "type": "histogram"
           }
          ],
          "histogram2d": [
           {
            "colorbar": {
             "outlinewidth": 0,
             "ticks": ""
            },
            "colorscale": [
             [
              0,
              "#0d0887"
             ],
             [
              0.1111111111111111,
              "#46039f"
             ],
             [
              0.2222222222222222,
              "#7201a8"
             ],
             [
              0.3333333333333333,
              "#9c179e"
             ],
             [
              0.4444444444444444,
              "#bd3786"
             ],
             [
              0.5555555555555556,
              "#d8576b"
             ],
             [
              0.6666666666666666,
              "#ed7953"
             ],
             [
              0.7777777777777778,
              "#fb9f3a"
             ],
             [
              0.8888888888888888,
              "#fdca26"
             ],
             [
              1,
              "#f0f921"
             ]
            ],
            "type": "histogram2d"
           }
          ],
          "histogram2dcontour": [
           {
            "colorbar": {
             "outlinewidth": 0,
             "ticks": ""
            },
            "colorscale": [
             [
              0,
              "#0d0887"
             ],
             [
              0.1111111111111111,
              "#46039f"
             ],
             [
              0.2222222222222222,
              "#7201a8"
             ],
             [
              0.3333333333333333,
              "#9c179e"
             ],
             [
              0.4444444444444444,
              "#bd3786"
             ],
             [
              0.5555555555555556,
              "#d8576b"
             ],
             [
              0.6666666666666666,
              "#ed7953"
             ],
             [
              0.7777777777777778,
              "#fb9f3a"
             ],
             [
              0.8888888888888888,
              "#fdca26"
             ],
             [
              1,
              "#f0f921"
             ]
            ],
            "type": "histogram2dcontour"
           }
          ],
          "mesh3d": [
           {
            "colorbar": {
             "outlinewidth": 0,
             "ticks": ""
            },
            "type": "mesh3d"
           }
          ],
          "parcoords": [
           {
            "line": {
             "colorbar": {
              "outlinewidth": 0,
              "ticks": ""
             }
            },
            "type": "parcoords"
           }
          ],
          "pie": [
           {
            "automargin": true,
            "type": "pie"
           }
          ],
          "scatter": [
           {
            "marker": {
             "colorbar": {
              "outlinewidth": 0,
              "ticks": ""
             }
            },
            "type": "scatter"
           }
          ],
          "scatter3d": [
           {
            "line": {
             "colorbar": {
              "outlinewidth": 0,
              "ticks": ""
             }
            },
            "marker": {
             "colorbar": {
              "outlinewidth": 0,
              "ticks": ""
             }
            },
            "type": "scatter3d"
           }
          ],
          "scattercarpet": [
           {
            "marker": {
             "colorbar": {
              "outlinewidth": 0,
              "ticks": ""
             }
            },
            "type": "scattercarpet"
           }
          ],
          "scattergeo": [
           {
            "marker": {
             "colorbar": {
              "outlinewidth": 0,
              "ticks": ""
             }
            },
            "type": "scattergeo"
           }
          ],
          "scattergl": [
           {
            "marker": {
             "colorbar": {
              "outlinewidth": 0,
              "ticks": ""
             }
            },
            "type": "scattergl"
           }
          ],
          "scattermapbox": [
           {
            "marker": {
             "colorbar": {
              "outlinewidth": 0,
              "ticks": ""
             }
            },
            "type": "scattermapbox"
           }
          ],
          "scatterpolar": [
           {
            "marker": {
             "colorbar": {
              "outlinewidth": 0,
              "ticks": ""
             }
            },
            "type": "scatterpolar"
           }
          ],
          "scatterpolargl": [
           {
            "marker": {
             "colorbar": {
              "outlinewidth": 0,
              "ticks": ""
             }
            },
            "type": "scatterpolargl"
           }
          ],
          "scatterternary": [
           {
            "marker": {
             "colorbar": {
              "outlinewidth": 0,
              "ticks": ""
             }
            },
            "type": "scatterternary"
           }
          ],
          "surface": [
           {
            "colorbar": {
             "outlinewidth": 0,
             "ticks": ""
            },
            "colorscale": [
             [
              0,
              "#0d0887"
             ],
             [
              0.1111111111111111,
              "#46039f"
             ],
             [
              0.2222222222222222,
              "#7201a8"
             ],
             [
              0.3333333333333333,
              "#9c179e"
             ],
             [
              0.4444444444444444,
              "#bd3786"
             ],
             [
              0.5555555555555556,
              "#d8576b"
             ],
             [
              0.6666666666666666,
              "#ed7953"
             ],
             [
              0.7777777777777778,
              "#fb9f3a"
             ],
             [
              0.8888888888888888,
              "#fdca26"
             ],
             [
              1,
              "#f0f921"
             ]
            ],
            "type": "surface"
           }
          ],
          "table": [
           {
            "cells": {
             "fill": {
              "color": "#EBF0F8"
             },
             "line": {
              "color": "white"
             }
            },
            "header": {
             "fill": {
              "color": "#C8D4E3"
             },
             "line": {
              "color": "white"
             }
            },
            "type": "table"
           }
          ]
         },
         "layout": {
          "annotationdefaults": {
           "arrowcolor": "#2a3f5f",
           "arrowhead": 0,
           "arrowwidth": 1
          },
          "autotypenumbers": "strict",
          "coloraxis": {
           "colorbar": {
            "outlinewidth": 0,
            "ticks": ""
           }
          },
          "colorscale": {
           "diverging": [
            [
             0,
             "#8e0152"
            ],
            [
             0.1,
             "#c51b7d"
            ],
            [
             0.2,
             "#de77ae"
            ],
            [
             0.3,
             "#f1b6da"
            ],
            [
             0.4,
             "#fde0ef"
            ],
            [
             0.5,
             "#f7f7f7"
            ],
            [
             0.6,
             "#e6f5d0"
            ],
            [
             0.7,
             "#b8e186"
            ],
            [
             0.8,
             "#7fbc41"
            ],
            [
             0.9,
             "#4d9221"
            ],
            [
             1,
             "#276419"
            ]
           ],
           "sequential": [
            [
             0,
             "#0d0887"
            ],
            [
             0.1111111111111111,
             "#46039f"
            ],
            [
             0.2222222222222222,
             "#7201a8"
            ],
            [
             0.3333333333333333,
             "#9c179e"
            ],
            [
             0.4444444444444444,
             "#bd3786"
            ],
            [
             0.5555555555555556,
             "#d8576b"
            ],
            [
             0.6666666666666666,
             "#ed7953"
            ],
            [
             0.7777777777777778,
             "#fb9f3a"
            ],
            [
             0.8888888888888888,
             "#fdca26"
            ],
            [
             1,
             "#f0f921"
            ]
           ],
           "sequentialminus": [
            [
             0,
             "#0d0887"
            ],
            [
             0.1111111111111111,
             "#46039f"
            ],
            [
             0.2222222222222222,
             "#7201a8"
            ],
            [
             0.3333333333333333,
             "#9c179e"
            ],
            [
             0.4444444444444444,
             "#bd3786"
            ],
            [
             0.5555555555555556,
             "#d8576b"
            ],
            [
             0.6666666666666666,
             "#ed7953"
            ],
            [
             0.7777777777777778,
             "#fb9f3a"
            ],
            [
             0.8888888888888888,
             "#fdca26"
            ],
            [
             1,
             "#f0f921"
            ]
           ]
          },
          "colorway": [
           "#636efa",
           "#EF553B",
           "#00cc96",
           "#ab63fa",
           "#FFA15A",
           "#19d3f3",
           "#FF6692",
           "#B6E880",
           "#FF97FF",
           "#FECB52"
          ],
          "font": {
           "color": "#2a3f5f"
          },
          "geo": {
           "bgcolor": "white",
           "lakecolor": "white",
           "landcolor": "#E5ECF6",
           "showlakes": true,
           "showland": true,
           "subunitcolor": "white"
          },
          "hoverlabel": {
           "align": "left"
          },
          "hovermode": "closest",
          "mapbox": {
           "style": "light"
          },
          "paper_bgcolor": "white",
          "plot_bgcolor": "#E5ECF6",
          "polar": {
           "angularaxis": {
            "gridcolor": "white",
            "linecolor": "white",
            "ticks": ""
           },
           "bgcolor": "#E5ECF6",
           "radialaxis": {
            "gridcolor": "white",
            "linecolor": "white",
            "ticks": ""
           }
          },
          "scene": {
           "xaxis": {
            "backgroundcolor": "#E5ECF6",
            "gridcolor": "white",
            "gridwidth": 2,
            "linecolor": "white",
            "showbackground": true,
            "ticks": "",
            "zerolinecolor": "white"
           },
           "yaxis": {
            "backgroundcolor": "#E5ECF6",
            "gridcolor": "white",
            "gridwidth": 2,
            "linecolor": "white",
            "showbackground": true,
            "ticks": "",
            "zerolinecolor": "white"
           },
           "zaxis": {
            "backgroundcolor": "#E5ECF6",
            "gridcolor": "white",
            "gridwidth": 2,
            "linecolor": "white",
            "showbackground": true,
            "ticks": "",
            "zerolinecolor": "white"
           }
          },
          "shapedefaults": {
           "line": {
            "color": "#2a3f5f"
           }
          },
          "ternary": {
           "aaxis": {
            "gridcolor": "white",
            "linecolor": "white",
            "ticks": ""
           },
           "baxis": {
            "gridcolor": "white",
            "linecolor": "white",
            "ticks": ""
           },
           "bgcolor": "#E5ECF6",
           "caxis": {
            "gridcolor": "white",
            "linecolor": "white",
            "ticks": ""
           }
          },
          "title": {
           "x": 0.05
          },
          "xaxis": {
           "automargin": true,
           "gridcolor": "white",
           "linecolor": "white",
           "ticks": "",
           "title": {
            "standoff": 15
           },
           "zerolinecolor": "white",
           "zerolinewidth": 2
          },
          "yaxis": {
           "automargin": true,
           "gridcolor": "white",
           "linecolor": "white",
           "ticks": "",
           "title": {
            "standoff": 15
           },
           "zerolinecolor": "white",
           "zerolinewidth": 2
          }
         }
        },
        "width": 1500,
        "xaxis": {
         "title": {
          "text": "Layer"
         }
        },
        "yaxis": {
         "range": [
          0,
          1
         ],
         "title": {
          "text": "IoU"
         }
        }
       }
      },
      "text/html": [
       "<div>                            <div id=\"a7007416-4f16-48a8-96b5-a392f43b9436\" class=\"plotly-graph-div\" style=\"height:1500px; width:1500px;\"></div>            <script type=\"text/javascript\">                require([\"plotly\"], function(Plotly) {                    window.PLOTLYENV=window.PLOTLYENV || {};                                    if (document.getElementById(\"a7007416-4f16-48a8-96b5-a392f43b9436\")) {                    Plotly.newPlot(                        \"a7007416-4f16-48a8-96b5-a392f43b9436\",                        [{\"fill\": \"tozeroy\", \"line\": {\"color\": \"#4C78A8\"}, \"marker\": {\"size\": 20}, \"type\": \"scatter\", \"x\": [\"1\", \"2\", \"3\", \"4\", \"5\"], \"y\": [1.0, 0.8770272731781006, 0.7855827212333679, 0.7269847989082336, 0.9602649211883545]}],                        {\"font\": {\"size\": 80}, \"height\": 1500, \"paper_bgcolor\": \"rgba(255,255,255,1)\", \"plot_bgcolor\": \"rgba(255,255,255,1)\", \"template\": {\"data\": {\"bar\": [{\"error_x\": {\"color\": \"#2a3f5f\"}, \"error_y\": {\"color\": \"#2a3f5f\"}, \"marker\": {\"line\": {\"color\": \"#E5ECF6\", \"width\": 0.5}}, \"type\": \"bar\"}], \"barpolar\": [{\"marker\": {\"line\": {\"color\": \"#E5ECF6\", \"width\": 0.5}}, \"type\": \"barpolar\"}], \"carpet\": [{\"aaxis\": {\"endlinecolor\": \"#2a3f5f\", \"gridcolor\": \"white\", \"linecolor\": \"white\", \"minorgridcolor\": \"white\", \"startlinecolor\": \"#2a3f5f\"}, \"baxis\": {\"endlinecolor\": \"#2a3f5f\", \"gridcolor\": \"white\", \"linecolor\": \"white\", \"minorgridcolor\": \"white\", \"startlinecolor\": \"#2a3f5f\"}, \"type\": \"carpet\"}], \"choropleth\": [{\"colorbar\": {\"outlinewidth\": 0, \"ticks\": \"\"}, \"type\": \"choropleth\"}], \"contour\": [{\"colorbar\": {\"outlinewidth\": 0, \"ticks\": \"\"}, \"colorscale\": [[0.0, \"#0d0887\"], [0.1111111111111111, \"#46039f\"], [0.2222222222222222, \"#7201a8\"], [0.3333333333333333, \"#9c179e\"], [0.4444444444444444, \"#bd3786\"], [0.5555555555555556, \"#d8576b\"], [0.6666666666666666, \"#ed7953\"], [0.7777777777777778, \"#fb9f3a\"], [0.8888888888888888, \"#fdca26\"], [1.0, \"#f0f921\"]], \"type\": \"contour\"}], \"contourcarpet\": [{\"colorbar\": {\"outlinewidth\": 0, \"ticks\": \"\"}, \"type\": \"contourcarpet\"}], \"heatmap\": [{\"colorbar\": {\"outlinewidth\": 0, \"ticks\": \"\"}, \"colorscale\": [[0.0, \"#0d0887\"], [0.1111111111111111, \"#46039f\"], [0.2222222222222222, \"#7201a8\"], [0.3333333333333333, \"#9c179e\"], [0.4444444444444444, \"#bd3786\"], [0.5555555555555556, \"#d8576b\"], [0.6666666666666666, \"#ed7953\"], [0.7777777777777778, \"#fb9f3a\"], [0.8888888888888888, \"#fdca26\"], [1.0, \"#f0f921\"]], \"type\": \"heatmap\"}], \"heatmapgl\": [{\"colorbar\": {\"outlinewidth\": 0, \"ticks\": \"\"}, \"colorscale\": [[0.0, \"#0d0887\"], [0.1111111111111111, \"#46039f\"], [0.2222222222222222, \"#7201a8\"], [0.3333333333333333, \"#9c179e\"], [0.4444444444444444, \"#bd3786\"], [0.5555555555555556, \"#d8576b\"], [0.6666666666666666, \"#ed7953\"], [0.7777777777777778, \"#fb9f3a\"], [0.8888888888888888, \"#fdca26\"], [1.0, \"#f0f921\"]], \"type\": \"heatmapgl\"}], \"histogram\": [{\"marker\": {\"colorbar\": {\"outlinewidth\": 0, \"ticks\": \"\"}}, \"type\": \"histogram\"}], \"histogram2d\": [{\"colorbar\": {\"outlinewidth\": 0, \"ticks\": \"\"}, \"colorscale\": [[0.0, \"#0d0887\"], [0.1111111111111111, \"#46039f\"], [0.2222222222222222, \"#7201a8\"], [0.3333333333333333, \"#9c179e\"], [0.4444444444444444, \"#bd3786\"], [0.5555555555555556, \"#d8576b\"], [0.6666666666666666, \"#ed7953\"], [0.7777777777777778, \"#fb9f3a\"], [0.8888888888888888, \"#fdca26\"], [1.0, \"#f0f921\"]], \"type\": \"histogram2d\"}], \"histogram2dcontour\": [{\"colorbar\": {\"outlinewidth\": 0, \"ticks\": \"\"}, \"colorscale\": [[0.0, \"#0d0887\"], [0.1111111111111111, \"#46039f\"], [0.2222222222222222, \"#7201a8\"], [0.3333333333333333, \"#9c179e\"], [0.4444444444444444, \"#bd3786\"], [0.5555555555555556, \"#d8576b\"], [0.6666666666666666, \"#ed7953\"], [0.7777777777777778, \"#fb9f3a\"], [0.8888888888888888, \"#fdca26\"], [1.0, \"#f0f921\"]], \"type\": \"histogram2dcontour\"}], \"mesh3d\": [{\"colorbar\": {\"outlinewidth\": 0, \"ticks\": \"\"}, \"type\": \"mesh3d\"}], \"parcoords\": [{\"line\": {\"colorbar\": {\"outlinewidth\": 0, \"ticks\": \"\"}}, \"type\": \"parcoords\"}], \"pie\": [{\"automargin\": true, \"type\": \"pie\"}], \"scatter\": [{\"marker\": {\"colorbar\": {\"outlinewidth\": 0, \"ticks\": \"\"}}, \"type\": \"scatter\"}], \"scatter3d\": [{\"line\": {\"colorbar\": {\"outlinewidth\": 0, \"ticks\": \"\"}}, \"marker\": {\"colorbar\": {\"outlinewidth\": 0, \"ticks\": \"\"}}, \"type\": \"scatter3d\"}], \"scattercarpet\": [{\"marker\": {\"colorbar\": {\"outlinewidth\": 0, \"ticks\": \"\"}}, \"type\": \"scattercarpet\"}], \"scattergeo\": [{\"marker\": {\"colorbar\": {\"outlinewidth\": 0, \"ticks\": \"\"}}, \"type\": \"scattergeo\"}], \"scattergl\": [{\"marker\": {\"colorbar\": {\"outlinewidth\": 0, \"ticks\": \"\"}}, \"type\": \"scattergl\"}], \"scattermapbox\": [{\"marker\": {\"colorbar\": {\"outlinewidth\": 0, \"ticks\": \"\"}}, \"type\": \"scattermapbox\"}], \"scatterpolar\": [{\"marker\": {\"colorbar\": {\"outlinewidth\": 0, \"ticks\": \"\"}}, \"type\": \"scatterpolar\"}], \"scatterpolargl\": [{\"marker\": {\"colorbar\": {\"outlinewidth\": 0, \"ticks\": \"\"}}, \"type\": \"scatterpolargl\"}], \"scatterternary\": [{\"marker\": {\"colorbar\": {\"outlinewidth\": 0, \"ticks\": \"\"}}, \"type\": \"scatterternary\"}], \"surface\": [{\"colorbar\": {\"outlinewidth\": 0, \"ticks\": \"\"}, \"colorscale\": [[0.0, \"#0d0887\"], [0.1111111111111111, \"#46039f\"], [0.2222222222222222, \"#7201a8\"], [0.3333333333333333, \"#9c179e\"], [0.4444444444444444, \"#bd3786\"], [0.5555555555555556, \"#d8576b\"], [0.6666666666666666, \"#ed7953\"], [0.7777777777777778, \"#fb9f3a\"], [0.8888888888888888, \"#fdca26\"], [1.0, \"#f0f921\"]], \"type\": \"surface\"}], \"table\": [{\"cells\": {\"fill\": {\"color\": \"#EBF0F8\"}, \"line\": {\"color\": \"white\"}}, \"header\": {\"fill\": {\"color\": \"#C8D4E3\"}, \"line\": {\"color\": \"white\"}}, \"type\": \"table\"}]}, \"layout\": {\"annotationdefaults\": {\"arrowcolor\": \"#2a3f5f\", \"arrowhead\": 0, \"arrowwidth\": 1}, \"autotypenumbers\": \"strict\", \"coloraxis\": {\"colorbar\": {\"outlinewidth\": 0, \"ticks\": \"\"}}, \"colorscale\": {\"diverging\": [[0, \"#8e0152\"], [0.1, \"#c51b7d\"], [0.2, \"#de77ae\"], [0.3, \"#f1b6da\"], [0.4, \"#fde0ef\"], [0.5, \"#f7f7f7\"], [0.6, \"#e6f5d0\"], [0.7, \"#b8e186\"], [0.8, \"#7fbc41\"], [0.9, \"#4d9221\"], [1, \"#276419\"]], \"sequential\": [[0.0, \"#0d0887\"], [0.1111111111111111, \"#46039f\"], [0.2222222222222222, \"#7201a8\"], [0.3333333333333333, \"#9c179e\"], [0.4444444444444444, \"#bd3786\"], [0.5555555555555556, \"#d8576b\"], [0.6666666666666666, \"#ed7953\"], [0.7777777777777778, \"#fb9f3a\"], [0.8888888888888888, \"#fdca26\"], [1.0, \"#f0f921\"]], \"sequentialminus\": [[0.0, \"#0d0887\"], [0.1111111111111111, \"#46039f\"], [0.2222222222222222, \"#7201a8\"], [0.3333333333333333, \"#9c179e\"], [0.4444444444444444, \"#bd3786\"], [0.5555555555555556, \"#d8576b\"], [0.6666666666666666, \"#ed7953\"], [0.7777777777777778, \"#fb9f3a\"], [0.8888888888888888, \"#fdca26\"], [1.0, \"#f0f921\"]]}, \"colorway\": [\"#636efa\", \"#EF553B\", \"#00cc96\", \"#ab63fa\", \"#FFA15A\", \"#19d3f3\", \"#FF6692\", \"#B6E880\", \"#FF97FF\", \"#FECB52\"], \"font\": {\"color\": \"#2a3f5f\"}, \"geo\": {\"bgcolor\": \"white\", \"lakecolor\": \"white\", \"landcolor\": \"#E5ECF6\", \"showlakes\": true, \"showland\": true, \"subunitcolor\": \"white\"}, \"hoverlabel\": {\"align\": \"left\"}, \"hovermode\": \"closest\", \"mapbox\": {\"style\": \"light\"}, \"paper_bgcolor\": \"white\", \"plot_bgcolor\": \"#E5ECF6\", \"polar\": {\"angularaxis\": {\"gridcolor\": \"white\", \"linecolor\": \"white\", \"ticks\": \"\"}, \"bgcolor\": \"#E5ECF6\", \"radialaxis\": {\"gridcolor\": \"white\", \"linecolor\": \"white\", \"ticks\": \"\"}}, \"scene\": {\"xaxis\": {\"backgroundcolor\": \"#E5ECF6\", \"gridcolor\": \"white\", \"gridwidth\": 2, \"linecolor\": \"white\", \"showbackground\": true, \"ticks\": \"\", \"zerolinecolor\": \"white\"}, \"yaxis\": {\"backgroundcolor\": \"#E5ECF6\", \"gridcolor\": \"white\", \"gridwidth\": 2, \"linecolor\": \"white\", \"showbackground\": true, \"ticks\": \"\", \"zerolinecolor\": \"white\"}, \"zaxis\": {\"backgroundcolor\": \"#E5ECF6\", \"gridcolor\": \"white\", \"gridwidth\": 2, \"linecolor\": \"white\", \"showbackground\": true, \"ticks\": \"\", \"zerolinecolor\": \"white\"}}, \"shapedefaults\": {\"line\": {\"color\": \"#2a3f5f\"}}, \"ternary\": {\"aaxis\": {\"gridcolor\": \"white\", \"linecolor\": \"white\", \"ticks\": \"\"}, \"baxis\": {\"gridcolor\": \"white\", \"linecolor\": \"white\", \"ticks\": \"\"}, \"bgcolor\": \"#E5ECF6\", \"caxis\": {\"gridcolor\": \"white\", \"linecolor\": \"white\", \"ticks\": \"\"}}, \"title\": {\"x\": 0.05}, \"xaxis\": {\"automargin\": true, \"gridcolor\": \"white\", \"linecolor\": \"white\", \"ticks\": \"\", \"title\": {\"standoff\": 15}, \"zerolinecolor\": \"white\", \"zerolinewidth\": 2}, \"yaxis\": {\"automargin\": true, \"gridcolor\": \"white\", \"linecolor\": \"white\", \"ticks\": \"\", \"title\": {\"standoff\": 15}, \"zerolinecolor\": \"white\", \"zerolinewidth\": 2}}}, \"width\": 1500, \"xaxis\": {\"title\": {\"text\": \"Layer\"}}, \"yaxis\": {\"range\": [0, 1], \"title\": {\"text\": \"IoU\"}}},                        {\"responsive\": true}                    ).then(function(){\n",
       "                            \n",
       "var gd = document.getElementById('a7007416-4f16-48a8-96b5-a392f43b9436');\n",
       "var x = new MutationObserver(function (mutations, observer) {{\n",
       "        var display = window.getComputedStyle(gd).display;\n",
       "        if (!display || display === 'none') {{\n",
       "            console.log([gd, 'removed!']);\n",
       "            Plotly.purge(gd);\n",
       "            observer.disconnect();\n",
       "        }}\n",
       "}});\n",
       "\n",
       "// Listen for the removal of the full notebook cells\n",
       "var notebookContainer = gd.closest('#notebook-container');\n",
       "if (notebookContainer) {{\n",
       "    x.observe(notebookContainer, {childList: true});\n",
       "}}\n",
       "\n",
       "// Listen for the clearing of the current output cell\n",
       "var outputEl = gd.closest('.output');\n",
       "if (outputEl) {{\n",
       "    x.observe(outputEl, {childList: true});\n",
       "}}\n",
       "\n",
       "                        })                };                });            </script>        </div>"
      ]
     },
     "metadata": {},
     "output_type": "display_data"
    }
   ],
   "source": [
    "from circuit_pruner.visualizer.layouts import big_fig_layout\n",
    "\n",
    "#iou_fig.update_layout(big_fig_layout)\n",
    "#fig.update_layout({ 'width':3000})\n",
    "\n",
    "fig.update_xaxes(title_standoff = 60)\n",
    "fig.update_yaxes(title_standoff = 60)\n",
    "\n",
    "iou_fig.update_layout({\n",
    "                    'height':1500,\n",
    "                    'width':1500,\n",
    "                    'font':{'size':80}})"
   ]
  },
  {
   "cell_type": "code",
   "execution_count": 109,
   "id": "77399d3c",
   "metadata": {},
   "outputs": [],
   "source": [
    "iou_fig.write_html(\"plots/905_mixed_iou.html\")\n",
    "iou_fig.write_image(\"plots/905_mixed_iou.svg\")\n",
    "iou_fig.write_image(\"plots/905_mixed_iou.png\")"
   ]
  },
  {
   "cell_type": "code",
   "execution_count": null,
   "id": "005a9b77",
   "metadata": {},
   "outputs": [],
   "source": []
  },
  {
   "cell_type": "code",
   "execution_count": null,
   "id": "9050e6ed",
   "metadata": {},
   "outputs": [],
   "source": []
  },
  {
   "cell_type": "code",
   "execution_count": 2,
   "id": "553ffede",
   "metadata": {},
   "outputs": [
    {
     "data": {
      "text/plain": [
       "17"
      ]
     },
     "execution_count": 2,
     "metadata": {},
     "output_type": "execute_result"
    }
   ],
   "source": [
    "import math\n",
    "math.floor(35/2)"
   ]
  },
  {
   "cell_type": "markdown",
   "id": "38fa9e75",
   "metadata": {},
   "source": [
    "#### make shuffled data"
   ]
  },
  {
   "cell_type": "code",
   "execution_count": 7,
   "id": "fe320dcb",
   "metadata": {},
   "outputs": [],
   "source": [
    "import os\n",
    "from subprocess import call\n",
    "import math\n",
    "import random\n",
    "\n",
    "#only works for 2 outfolders!!!\n",
    "\n",
    "root_folder = '/mnt/data/chris/dropbox/Research-Hamblin/Projects/circuit_pruner_cvpr2022/image_data/sample_data/polysemantic/features_10:9/'\n",
    "\n",
    "outfolders = ['mixed_1','mixed_2']\n",
    "\n",
    "for outfolder in outfolders:\n",
    "    if not os.path.exists(root_folder+outfolder):\n",
    "        os.mkdir(root_folder+outfolder)\n",
    "\n",
    "infolders = ['cluster_0','cluster_1']\n",
    "\n",
    "max_num = 35\n",
    "\n",
    "for infolder in infolders:\n",
    "    fs = os.listdir(root_folder+infolder)\n",
    "    random.shuffle(fs)\n",
    "    for f in fs[0:math.floor(max_num/2)]:\n",
    "        new_name = f.replace('.jpg','_'+infolder+'.jpg')\n",
    "        call('cp %s %s'%(os.path.join(root_folder,infolder,f),os.path.join(root_folder,outfolders[0],new_name)),shell=True)\n",
    "    for f in fs[math.floor(max_num/2):max_num]:\n",
    "        new_name = f.replace('.jpg','_'+infolder+'.jpg')\n",
    "        call('cp %s %s'%(os.path.join(root_folder,infolder,f),os.path.join(root_folder,outfolders[1],new_name)),shell=True)\n",
    "        \n",
    "    "
   ]
  },
  {
   "cell_type": "code",
   "execution_count": null,
   "id": "b60ec518",
   "metadata": {},
   "outputs": [],
   "source": []
  }
 ],
 "metadata": {
  "kernelspec": {
   "display_name": "circuit_pruner",
   "language": "python",
   "name": "circuit_pruner"
  },
  "language_info": {
   "codemirror_mode": {
    "name": "ipython",
    "version": 3
   },
   "file_extension": ".py",
   "mimetype": "text/x-python",
   "name": "python",
   "nbconvert_exporter": "python",
   "pygments_lexer": "ipython3",
   "version": "3.7.12"
  }
 },
 "nbformat": 4,
 "nbformat_minor": 5
}
