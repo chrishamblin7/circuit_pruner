{
 "cells": [
  {
   "cell_type": "code",
   "execution_count": 1,
   "id": "6c33879d",
   "metadata": {},
   "outputs": [],
   "source": [
    "import torch\n",
    "import os\n",
    "\n",
    "mask_folder = 'circuit_masks/alexnet_sparse/force/'\n",
    "\n",
    "\n",
    "\n",
    "masks = []\n",
    "\n",
    "for f in os.listdir(mask_folder):\n",
    "    if '.pt' in f:\n",
    "        masks.append(torch.load(mask_folder+f))\n"
   ]
  },
  {
   "cell_type": "code",
   "execution_count": 2,
   "id": "53413ce9",
   "metadata": {},
   "outputs": [],
   "source": [
    "target_folder = 'target_activations/alexnet_sparse/imagenet_2/'\n",
    "\n",
    "for m in masks:\n",
    "    feature = m['layer']+':'+str(m['unit'])\n",
    "    if not os.path.exists(target_folder+feature+'.pt'):\n",
    "        torch.save(m['full_target_activations'],target_folder+feature+'.pt')\n"
   ]
  },
  {
   "cell_type": "code",
   "execution_count": 3,
   "id": "33ddd218",
   "metadata": {},
   "outputs": [],
   "source": [
    "import numpy as np\n",
    "from scipy.stats import spearmanr, pearsonr\n",
    "\n",
    "\n",
    "def get_circuit_accuracy(mask_dict,metric = 'spearman'):\n",
    "    target = mask_dict['full_target_activations'][mask_dict['layer']+':'+str(mask_dict['unit'])].flatten().numpy()\n",
    "    output = mask_dict['pruned_target_activations'][mask_dict['layer']+':'+str(mask_dict['unit'])].flatten().numpy()\n",
    "    if metric == 'spearman':\n",
    "        out = spearmanr(output,target).correlation\n",
    "        if out is np.nan:\n",
    "            out = 0.\n",
    "        return out\n",
    "    elif metric == 'pearson':\n",
    "        out = pearsonr(output,target)[0]\n",
    "        if out is np.nan:\n",
    "            out = 0.\n",
    "        return out\n",
    "    elif metric == 'avg_diff':\n",
    "        return np.mean(np.abs(output - target))\n",
    "    else:\n",
    "        print('unknown metric %s, options [\"spearman\",\"pearson\",\"avg_diff\"]'%metric)\n",
    "    "
   ]
  },
  {
   "cell_type": "code",
   "execution_count": 4,
   "id": "27a9938c",
   "metadata": {},
   "outputs": [
    {
     "name": "stdout",
     "output_type": "stream",
     "text": [
      "features_10\n",
      "kernels\n",
      "FORCE\n",
      "0.2\n",
      "0.7904956176007432\n",
      "\n",
      "\n",
      "features_6\n",
      "kernels\n",
      "FORCE\n",
      "0.1\n",
      "0.8679699668849037\n",
      "\n",
      "\n",
      "features_10\n",
      "kernels\n",
      "FORCE\n",
      "0.001\n",
      "0.182701910434121\n",
      "\n",
      "\n",
      "features_8\n",
      "kernels\n",
      "FORCE\n",
      "0.05\n",
      "0.45673073395947905\n",
      "\n",
      "\n",
      "features_3\n",
      "kernels\n",
      "FORCE\n",
      "0.01\n",
      "0.7623504227871774\n",
      "\n",
      "\n",
      "features_8\n",
      "kernels\n",
      "FORCE\n",
      "0.5\n",
      "0.9999862468094265\n",
      "\n",
      "\n",
      "features_8\n",
      "kernels\n",
      "FORCE\n",
      "0.05\n",
      "0.7535761722736042\n",
      "\n",
      "\n",
      "features_3\n",
      "kernels\n",
      "FORCE\n",
      "0.2\n",
      "0.7196407410070141\n",
      "\n",
      "\n",
      "features_8\n",
      "kernels\n",
      "FORCE\n",
      "0.001\n",
      "-0.2736830821034252\n",
      "\n",
      "\n",
      "features_6\n",
      "kernels\n",
      "FORCE\n",
      "0.1\n",
      "0.6537393402424412\n",
      "\n",
      "\n",
      "features_3\n",
      "kernels\n",
      "FORCE\n",
      "0.001\n",
      "0.06329375768732035\n",
      "\n",
      "\n",
      "features_3\n",
      "kernels\n",
      "FORCE\n",
      "0.2\n",
      "0.9524578242749078\n",
      "\n",
      "\n",
      "features_8\n",
      "kernels\n",
      "FORCE\n",
      "0.005\n",
      "-0.14299631817770853\n",
      "\n",
      "\n",
      "features_10\n",
      "kernels\n",
      "FORCE\n",
      "0.5\n",
      "0.9999965799525401\n",
      "\n",
      "\n",
      "features_3\n",
      "kernels\n",
      "FORCE\n",
      "0.01\n",
      "-0.24548852152282996\n",
      "\n",
      "\n",
      "features_8\n",
      "kernels\n",
      "FORCE\n",
      "0.1\n",
      "0.7957460912094758\n",
      "\n",
      "\n",
      "features_3\n",
      "kernels\n",
      "FORCE\n",
      "0.2\n",
      "0.6287352210296906\n",
      "\n",
      "\n",
      "features_6\n",
      "kernels\n",
      "FORCE\n",
      "0.5\n",
      "0.9999985326649299\n",
      "\n",
      "\n",
      "features_8\n",
      "kernels\n",
      "FORCE\n",
      "0.5\n",
      "0.999993599840705\n",
      "\n",
      "\n",
      "features_8\n",
      "kernels\n",
      "FORCE\n",
      "0.05\n",
      "0.7057486783718127\n",
      "\n",
      "\n",
      "features_8\n",
      "kernels\n",
      "FORCE\n",
      "0.5\n",
      "0.9999869688615173\n",
      "\n",
      "\n",
      "features_6\n",
      "kernels\n",
      "FORCE\n",
      "0.5\n",
      "0.9983074478111967\n",
      "\n",
      "\n",
      "features_3\n",
      "kernels\n",
      "FORCE\n",
      "0.2\n",
      "0.9450605105132377\n",
      "\n",
      "\n",
      "features_3\n",
      "kernels\n",
      "FORCE\n",
      "0.005\n",
      "0.25505625633575757\n",
      "\n",
      "\n",
      "features_6\n",
      "kernels\n",
      "FORCE\n",
      "0.5\n",
      "0.999818103138212\n",
      "\n",
      "\n",
      "features_8\n",
      "kernels\n",
      "FORCE\n",
      "0.5\n",
      "0.9999739822561164\n",
      "\n",
      "\n",
      "features_10\n",
      "kernels\n",
      "FORCE\n",
      "0.2\n",
      "0.854770481420132\n",
      "\n",
      "\n",
      "features_3\n",
      "kernels\n",
      "FORCE\n",
      "0.001\n",
      "0.036495120364312614\n",
      "\n",
      "\n",
      "features_10\n",
      "kernels\n",
      "FORCE\n",
      "0.005\n",
      "0.1665694790983361\n",
      "\n",
      "\n",
      "features_10\n",
      "kernels\n",
      "FORCE\n",
      "0.05\n",
      "0.20634445642349197\n",
      "\n",
      "\n",
      "features_3\n",
      "kernels\n",
      "FORCE\n",
      "0.01\n",
      "0.11916838036168297\n",
      "\n",
      "\n",
      "features_8\n",
      "kernels\n",
      "FORCE\n",
      "0.001\n",
      "0.32494679865267767\n",
      "\n",
      "\n",
      "features_10\n",
      "kernels\n",
      "FORCE\n",
      "0.001\n",
      "-0.041676643592852586\n",
      "\n",
      "\n",
      "features_6\n",
      "kernels\n",
      "FORCE\n",
      "0.05\n",
      "0.7660992572271811\n",
      "\n",
      "\n",
      "features_10\n",
      "kernels\n",
      "FORCE\n",
      "0.5\n",
      "0.9999845376412809\n",
      "\n",
      "\n",
      "features_3\n",
      "kernels\n",
      "FORCE\n",
      "0.1\n",
      "0.8144608253064474\n",
      "\n",
      "\n",
      "features_10\n",
      "kernels\n",
      "FORCE\n",
      "0.005\n",
      "0.2733036966335358\n",
      "\n",
      "\n",
      "features_3\n",
      "kernels\n",
      "FORCE\n",
      "0.2\n",
      "0.26859173254955127\n",
      "\n",
      "\n",
      "features_10\n",
      "kernels\n",
      "FORCE\n",
      "0.1\n",
      "0.5046313178269134\n",
      "\n",
      "\n",
      "features_3\n",
      "kernels\n",
      "FORCE\n",
      "0.001\n",
      "0.3074859503281911\n",
      "\n",
      "\n",
      "features_6\n",
      "kernels\n",
      "FORCE\n",
      "0.2\n",
      "0.9961917507322064\n",
      "\n",
      "\n",
      "features_8\n",
      "kernels\n",
      "FORCE\n",
      "0.005\n",
      "0.4991329575049146\n",
      "\n",
      "\n",
      "features_3\n",
      "kernels\n",
      "FORCE\n",
      "0.01\n",
      "0.040272039620573935\n",
      "\n",
      "\n",
      "features_6\n",
      "kernels\n",
      "FORCE\n",
      "0.005\n",
      "-0.17198469850617043\n",
      "\n",
      "\n",
      "features_10\n",
      "kernels\n",
      "FORCE\n",
      "0.001\n",
      "-0.03669797123276249\n",
      "\n",
      "\n",
      "features_6\n",
      "kernels\n",
      "FORCE\n",
      "0.05\n",
      "0.5963764516899106\n",
      "\n",
      "\n",
      "features_8\n",
      "kernels\n",
      "FORCE\n",
      "0.01\n",
      "0.11115664104279437\n",
      "\n",
      "\n",
      "features_3\n",
      "kernels\n",
      "FORCE\n",
      "0.5\n",
      "0.9073234883424591\n",
      "\n",
      "\n",
      "features_10\n",
      "kernels\n",
      "FORCE\n",
      "0.2\n",
      "0.8527492495827185\n",
      "\n",
      "\n",
      "features_10\n",
      "kernels\n",
      "FORCE\n",
      "0.05\n",
      "0.19497718870552844\n",
      "\n",
      "\n",
      "features_3\n",
      "kernels\n",
      "FORCE\n",
      "0.2\n",
      "0.9084551401495602\n",
      "\n",
      "\n",
      "features_6\n",
      "kernels\n",
      "FORCE\n",
      "0.05\n",
      "0.4012882751174776\n",
      "\n",
      "\n",
      "features_10\n",
      "kernels\n",
      "FORCE\n",
      "0.5\n",
      "0.9999840170683556\n",
      "\n",
      "\n",
      "features_3\n",
      "kernels\n",
      "FORCE\n",
      "0.001\n",
      "0.0\n",
      "\n",
      "\n",
      "features_3\n",
      "kernels\n",
      "FORCE\n",
      "0.1\n",
      "0.7667163238599115\n",
      "\n",
      "\n",
      "features_3\n",
      "kernels\n",
      "FORCE\n",
      "0.5\n",
      "0.9884864873381288\n",
      "\n",
      "\n",
      "features_8\n",
      "kernels\n",
      "FORCE\n",
      "0.1\n",
      "0.687933260586038\n",
      "\n",
      "\n",
      "features_6\n",
      "kernels\n",
      "FORCE\n",
      "0.005\n",
      "-0.08017869825267701\n",
      "\n",
      "\n",
      "features_3\n",
      "kernels\n",
      "FORCE\n",
      "0.05\n"
     ]
    },
    {
     "name": "stderr",
     "output_type": "stream",
     "text": [
      "/home/chris/miniconda3/envs/viscnn/lib/python3.7/site-packages/scipy/stats/stats.py:3913: PearsonRConstantInputWarning: An input array is constant; the correlation coefficent is not defined.\n",
      "  warnings.warn(PearsonRConstantInputWarning())\n"
     ]
    },
    {
     "name": "stdout",
     "output_type": "stream",
     "text": [
      "0.3210682630781655\n",
      "\n",
      "\n",
      "features_6\n",
      "kernels\n",
      "FORCE\n",
      "0.001\n",
      "0.04895669874389751\n",
      "\n",
      "\n",
      "features_10\n",
      "kernels\n",
      "FORCE\n",
      "0.2\n",
      "0.7762001005587295\n",
      "\n",
      "\n",
      "features_10\n",
      "kernels\n",
      "FORCE\n",
      "0.01\n",
      "-0.09306644876653655\n",
      "\n",
      "\n",
      "features_6\n",
      "kernels\n",
      "FORCE\n",
      "0.5\n",
      "0.9984069480359752\n",
      "\n",
      "\n",
      "features_3\n",
      "kernels\n",
      "FORCE\n",
      "0.005\n",
      "0.12125788121884622\n",
      "\n",
      "\n",
      "features_8\n",
      "kernels\n",
      "FORCE\n",
      "0.01\n",
      "0.47502049148410774\n",
      "\n",
      "\n",
      "features_6\n",
      "kernels\n",
      "FORCE\n",
      "0.1\n",
      "0.7065540713843944\n",
      "\n",
      "\n",
      "features_3\n",
      "kernels\n",
      "FORCE\n",
      "0.2\n",
      "0.8555936018683197\n",
      "\n",
      "\n",
      "features_6\n",
      "kernels\n",
      "FORCE\n",
      "0.5\n",
      "0.9999998565078394\n",
      "\n",
      "\n",
      "features_6\n",
      "kernels\n",
      "FORCE\n",
      "0.01\n",
      "-0.025664949374791024\n",
      "\n",
      "\n",
      "features_6\n",
      "kernels\n",
      "FORCE\n",
      "0.1\n",
      "0.8080387062593645\n",
      "\n",
      "\n",
      "features_10\n",
      "kernels\n",
      "FORCE\n",
      "0.5\n",
      "0.9998946352545348\n",
      "\n",
      "\n",
      "features_8\n",
      "kernels\n",
      "FORCE\n",
      "0.1\n",
      "0.8926973818211792\n",
      "\n",
      "\n",
      "features_3\n",
      "kernels\n",
      "FORCE\n",
      "0.05\n",
      "0.4214004542995777\n",
      "\n",
      "\n",
      "features_10\n",
      "kernels\n",
      "FORCE\n",
      "0.2\n",
      "0.813367483699262\n",
      "\n",
      "\n",
      "features_8\n",
      "kernels\n",
      "FORCE\n",
      "0.01\n",
      "0.32396437800959377\n",
      "\n",
      "\n",
      "features_3\n",
      "kernels\n",
      "FORCE\n",
      "0.5\n",
      "0.9930439899131205\n",
      "\n",
      "\n",
      "features_8\n",
      "kernels\n",
      "FORCE\n",
      "0.001\n",
      "0.2529027337574855\n",
      "\n",
      "\n",
      "features_10\n",
      "kernels\n",
      "FORCE\n",
      "0.2\n",
      "0.7493848865841042\n",
      "\n",
      "\n",
      "features_8\n",
      "kernels\n",
      "FORCE\n",
      "0.2\n",
      "0.8563797954062173\n",
      "\n",
      "\n",
      "features_8\n",
      "kernels\n",
      "FORCE\n",
      "0.5\n",
      "0.9999302884876123\n",
      "\n",
      "\n",
      "features_10\n",
      "kernels\n",
      "FORCE\n",
      "0.01\n",
      "0.26578713383432323\n",
      "\n",
      "\n",
      "features_8\n",
      "kernels\n",
      "FORCE\n",
      "0.005\n",
      "0.417224412890497\n",
      "\n",
      "\n",
      "features_6\n",
      "kernels\n",
      "FORCE\n",
      "0.005\n",
      "0.14976751494169604\n",
      "\n",
      "\n",
      "features_6\n",
      "kernels\n",
      "FORCE\n",
      "0.001\n",
      "0.0764031315206522\n",
      "\n",
      "\n",
      "features_8\n",
      "kernels\n",
      "FORCE\n",
      "0.01\n",
      "0.09906844241720983\n",
      "\n",
      "\n",
      "features_8\n",
      "kernels\n",
      "FORCE\n",
      "0.001\n",
      "0.1775890017876078\n",
      "\n",
      "\n",
      "features_3\n",
      "kernels\n",
      "FORCE\n",
      "0.05\n",
      "0.10710049861055351\n",
      "\n",
      "\n",
      "features_8\n",
      "kernels\n",
      "FORCE\n",
      "0.1\n",
      "0.6156349367172089\n",
      "\n",
      "\n",
      "features_10\n",
      "kernels\n",
      "FORCE\n",
      "0.1\n",
      "0.6402668206997953\n",
      "\n",
      "\n",
      "features_10\n",
      "kernels\n",
      "FORCE\n",
      "0.001\n",
      "-0.06031809263885107\n",
      "\n",
      "\n",
      "features_3\n",
      "kernels\n",
      "FORCE\n",
      "0.2\n",
      "0.8131078578648161\n",
      "\n",
      "\n",
      "features_6\n",
      "kernels\n",
      "FORCE\n",
      "0.005\n",
      "-0.01912399814839358\n",
      "\n",
      "\n",
      "features_6\n",
      "kernels\n",
      "FORCE\n",
      "0.2\n",
      "0.9982148143994056\n",
      "\n",
      "\n",
      "features_8\n",
      "kernels\n",
      "FORCE\n",
      "0.01\n",
      "0.024114516441626134\n",
      "\n",
      "\n",
      "features_3\n",
      "kernels\n",
      "FORCE\n",
      "0.1\n",
      "0.7027466452006506\n",
      "\n",
      "\n",
      "features_8\n",
      "kernels\n",
      "FORCE\n",
      "0.1\n",
      "0.5689009291058436\n",
      "\n",
      "\n",
      "features_8\n",
      "kernels\n",
      "FORCE\n",
      "0.1\n",
      "0.873227102219416\n",
      "\n",
      "\n",
      "features_6\n",
      "kernels\n",
      "FORCE\n",
      "0.5\n",
      "0.9999986092252819\n",
      "\n",
      "\n",
      "features_3\n",
      "kernels\n",
      "FORCE\n",
      "0.2\n",
      "0.859521465123157\n",
      "\n",
      "\n",
      "features_3\n",
      "kernels\n",
      "FORCE\n",
      "0.01\n",
      "0.0\n",
      "\n",
      "\n",
      "features_8\n",
      "kernels\n",
      "FORCE\n",
      "0.001\n",
      "0.11555730660757163\n",
      "\n",
      "\n",
      "features_3\n",
      "kernels\n",
      "FORCE\n",
      "0.005\n",
      "-0.07480127934108248\n",
      "\n",
      "\n",
      "features_6\n",
      "kernels\n",
      "FORCE\n",
      "0.2\n",
      "0.9142457268200797\n",
      "\n",
      "\n",
      "features_10\n",
      "kernels\n",
      "FORCE\n",
      "0.2\n",
      "0.8018855126854094\n",
      "\n",
      "\n",
      "features_3\n",
      "kernels\n",
      "FORCE\n",
      "0.001\n",
      "0.11670480916747605\n",
      "\n",
      "\n",
      "features_10\n",
      "kernels\n",
      "FORCE\n",
      "0.001\n",
      "0.06293794638511173\n",
      "\n",
      "\n",
      "features_10\n",
      "kernels\n",
      "FORCE\n",
      "0.01\n",
      "0.18397854663344093\n",
      "\n",
      "\n",
      "features_10\n",
      "kernels\n",
      "FORCE\n",
      "0.05\n",
      "0.4134545810840622\n",
      "\n",
      "\n",
      "features_8\n",
      "kernels\n",
      "FORCE\n",
      "0.001\n",
      "0.14337025419321425\n",
      "\n",
      "\n",
      "features_3\n",
      "kernels\n",
      "FORCE\n",
      "0.01\n",
      "0.28575725342443586\n",
      "\n",
      "\n",
      "features_8\n",
      "kernels\n",
      "FORCE\n",
      "0.001\n",
      "0.08177231033856923\n",
      "\n",
      "\n",
      "features_10\n",
      "kernels\n",
      "FORCE\n",
      "0.2\n",
      "0.7538655601023931\n",
      "\n",
      "\n",
      "features_3\n",
      "kernels\n",
      "FORCE\n",
      "0.5\n",
      "0.9778481219706248\n",
      "\n",
      "\n",
      "features_3\n",
      "kernels\n",
      "FORCE\n",
      "0.01\n",
      "0.4212752529252484\n",
      "\n",
      "\n",
      "features_10\n",
      "kernels\n",
      "FORCE\n",
      "0.01\n",
      "0.1312080297379528\n",
      "\n",
      "\n",
      "features_10\n",
      "kernels\n",
      "FORCE\n",
      "0.001\n",
      "0.08727848629144301\n",
      "\n",
      "\n",
      "features_3\n",
      "kernels\n",
      "FORCE\n",
      "0.05\n",
      "0.6463189901444102\n",
      "\n",
      "\n",
      "features_8\n",
      "kernels\n",
      "FORCE\n",
      "0.001\n",
      "0.05124462631319546\n",
      "\n",
      "\n",
      "features_10\n",
      "kernels\n",
      "FORCE\n",
      "0.005\n",
      "-0.17559096959560638\n",
      "\n",
      "\n",
      "features_3\n",
      "kernels\n",
      "FORCE\n",
      "0.01\n",
      "-0.0339997048657792\n",
      "\n",
      "\n",
      "features_3\n",
      "kernels\n",
      "FORCE\n",
      "0.005\n",
      "0.2513091065057312\n",
      "\n",
      "\n",
      "features_8\n",
      "kernels\n",
      "FORCE\n",
      "0.01\n",
      "0.5571638546946489\n",
      "\n",
      "\n",
      "features_6\n",
      "kernels\n",
      "FORCE\n",
      "0.01\n",
      "0.18954396199798695\n",
      "\n",
      "\n",
      "features_8\n",
      "kernels\n",
      "FORCE\n",
      "0.01\n",
      "0.15099290076116187\n",
      "\n",
      "\n",
      "features_3\n",
      "kernels\n",
      "FORCE\n",
      "0.001\n",
      "0.4212752529252484\n",
      "\n",
      "\n",
      "features_3\n",
      "kernels\n",
      "FORCE\n",
      "0.01\n",
      "0.5199654055840536\n",
      "\n",
      "\n",
      "features_6\n",
      "kernels\n",
      "FORCE\n",
      "0.001\n",
      "0.32704356913835925\n",
      "\n",
      "\n",
      "features_10\n",
      "kernels\n",
      "FORCE\n",
      "0.005\n",
      "0.22138592043187066\n",
      "\n",
      "\n",
      "features_8\n",
      "kernels\n",
      "FORCE\n",
      "0.005\n",
      "0.22241067865635616\n",
      "\n",
      "\n",
      "features_3\n",
      "kernels\n",
      "FORCE\n",
      "0.001\n",
      "0.0\n",
      "\n",
      "\n",
      "features_6\n",
      "kernels\n",
      "FORCE\n",
      "0.01\n",
      "0.46965797769942585\n",
      "\n",
      "\n",
      "features_3\n",
      "kernels\n",
      "FORCE\n",
      "0.001\n",
      "-0.24548852152282996\n",
      "\n",
      "\n",
      "features_3\n",
      "kernels\n",
      "FORCE\n",
      "0.005\n",
      "0.0\n",
      "\n",
      "\n",
      "features_8\n",
      "kernels\n",
      "FORCE\n",
      "0.005\n",
      "0.21919773911480867\n",
      "\n",
      "\n",
      "features_8\n",
      "kernels\n",
      "FORCE\n",
      "0.1\n",
      "0.7336426169755954\n",
      "\n",
      "\n",
      "features_10\n",
      "kernels\n",
      "FORCE\n",
      "0.5\n",
      "0.999933377721222\n",
      "\n",
      "\n",
      "features_10\n",
      "kernels\n",
      "FORCE\n",
      "0.5\n",
      "0.9995238461458194\n",
      "\n",
      "\n",
      "features_6\n",
      "kernels\n",
      "FORCE\n",
      "0.05\n",
      "0.541043008033999\n",
      "\n",
      "\n",
      "features_8\n",
      "kernels\n",
      "FORCE\n",
      "0.2\n",
      "0.75829255121472\n",
      "\n",
      "\n",
      "features_10\n",
      "kernels\n",
      "FORCE\n",
      "0.1\n",
      "0.6023465773060982\n",
      "\n",
      "\n",
      "features_6\n",
      "kernels\n",
      "FORCE\n",
      "0.01\n",
      "0.5002110291500904\n",
      "\n",
      "\n",
      "features_6\n",
      "kernels\n",
      "FORCE\n",
      "0.2\n",
      "0.8523442126309038\n",
      "\n",
      "\n",
      "features_8\n",
      "kernels\n",
      "FORCE\n",
      "0.005\n",
      "0.1854273886955945\n",
      "\n",
      "\n",
      "features_10\n",
      "kernels\n",
      "FORCE\n",
      "0.1\n",
      "0.5756203524725834\n",
      "\n",
      "\n",
      "features_8\n",
      "kernels\n",
      "FORCE\n",
      "0.1\n",
      "0.6562628980067176\n",
      "\n",
      "\n",
      "features_3\n",
      "kernels\n",
      "FORCE\n",
      "0.05\n",
      "-0.03794783153410729\n",
      "\n",
      "\n",
      "features_8\n",
      "kernels\n",
      "FORCE\n",
      "0.005\n",
      "0.116974329853158\n",
      "\n",
      "\n",
      "features_10\n",
      "kernels\n",
      "FORCE\n",
      "0.1\n",
      "0.5123888545165706\n",
      "\n",
      "\n",
      "features_10\n",
      "kernels\n",
      "FORCE\n",
      "0.005\n",
      "0.13743112935213167\n",
      "\n",
      "\n",
      "features_8\n",
      "kernels\n",
      "FORCE\n",
      "0.05\n",
      "0.4811393754124626\n",
      "\n",
      "\n",
      "features_6\n",
      "kernels\n",
      "FORCE\n",
      "0.05\n",
      "0.89074009317556\n",
      "\n",
      "\n",
      "features_10\n",
      "kernels\n",
      "FORCE\n",
      "0.01\n",
      "0.014989743479091924\n",
      "\n",
      "\n",
      "features_6\n",
      "kernels\n",
      "FORCE\n",
      "0.01\n",
      "0.3678056679671614\n",
      "\n",
      "\n",
      "features_3\n",
      "kernels\n",
      "FORCE\n",
      "0.001\n",
      "0.23993723835707545\n",
      "\n",
      "\n",
      "features_8\n",
      "kernels\n",
      "FORCE\n",
      "0.1\n",
      "0.7476123347546995\n",
      "\n",
      "\n",
      "features_6\n",
      "kernels\n",
      "FORCE\n",
      "0.01\n",
      "0.15353312360480237\n",
      "\n",
      "\n",
      "features_6\n",
      "kernels\n",
      "FORCE\n",
      "0.2\n",
      "0.9819617601170693\n",
      "\n",
      "\n",
      "features_10\n",
      "kernels\n",
      "FORCE\n",
      "0.001\n",
      "0.08611810204806387\n",
      "\n",
      "\n",
      "features_3\n",
      "kernels\n",
      "FORCE\n",
      "0.005\n",
      "-0.24548852152282996\n",
      "\n",
      "\n",
      "features_10\n",
      "kernels\n",
      "FORCE\n",
      "0.2\n",
      "0.8488167286767618\n",
      "\n",
      "\n",
      "features_10\n",
      "kernels\n",
      "FORCE\n",
      "0.005\n",
      "0.1579670022094141\n",
      "\n",
      "\n",
      "features_6\n",
      "kernels\n",
      "FORCE\n",
      "0.05\n",
      "0.5500564401364462\n",
      "\n",
      "\n",
      "features_6\n",
      "kernels\n",
      "FORCE\n",
      "0.01\n",
      "-0.07041094818072804\n",
      "\n",
      "\n",
      "features_10\n",
      "kernels\n",
      "FORCE\n",
      "0.05\n",
      "0.4552860963450873\n",
      "\n",
      "\n",
      "features_6\n",
      "kernels\n",
      "FORCE\n",
      "0.005\n",
      "0.6571070471924009\n",
      "\n",
      "\n",
      "features_8\n",
      "kernels\n",
      "FORCE\n",
      "0.2\n",
      "0.8657929783788405\n",
      "\n",
      "\n",
      "features_8\n",
      "kernels\n",
      "FORCE\n",
      "0.005\n",
      "0.004197488583594797\n",
      "\n",
      "\n",
      "features_8\n",
      "kernels\n",
      "FORCE\n",
      "0.05\n",
      "0.2957874570323549\n",
      "\n",
      "\n",
      "features_10\n",
      "kernels\n",
      "FORCE\n",
      "0.005\n",
      "-0.030733761808310483\n",
      "\n",
      "\n",
      "features_6\n",
      "kernels\n",
      "FORCE\n",
      "0.001\n",
      "-0.03417484035467179\n",
      "\n",
      "\n",
      "features_8\n",
      "kernels\n",
      "FORCE\n",
      "0.1\n",
      "0.8410460448382566\n",
      "\n",
      "\n",
      "features_3\n",
      "kernels\n",
      "FORCE\n",
      "0.1\n",
      "0.233623988223379\n",
      "\n",
      "\n",
      "features_10\n",
      "kernels\n",
      "FORCE\n",
      "0.1\n",
      "0.3346301341369673\n",
      "\n",
      "\n",
      "features_6\n",
      "kernels\n",
      "FORCE\n",
      "0.2\n",
      "0.9657815005577572\n",
      "\n",
      "\n",
      "features_3\n",
      "kernels\n",
      "FORCE\n",
      "0.2\n",
      "0.83799928511369\n",
      "\n",
      "\n",
      "features_3\n",
      "kernels\n",
      "FORCE\n",
      "0.001\n",
      "0.11670480916747605\n",
      "\n",
      "\n",
      "features_8\n",
      "kernels\n",
      "FORCE\n",
      "0.005\n",
      "-0.15385081892001493\n",
      "\n",
      "\n",
      "features_8\n",
      "kernels\n",
      "FORCE\n",
      "0.001\n",
      "-0.05801066286188673\n",
      "\n",
      "\n",
      "features_3\n",
      "kernels\n",
      "FORCE\n",
      "0.05\n",
      "0.052628859624269546\n",
      "\n",
      "\n",
      "features_3\n",
      "kernels\n",
      "FORCE\n",
      "0.2\n",
      "0.8483838472133899\n",
      "\n",
      "\n",
      "features_6\n",
      "kernels\n",
      "FORCE\n",
      "0.1\n",
      "0.9200129569666997\n",
      "\n",
      "\n",
      "features_6\n",
      "kernels\n",
      "FORCE\n",
      "0.1\n",
      "0.9421169630754704\n",
      "\n",
      "\n",
      "features_6\n",
      "kernels\n",
      "FORCE\n",
      "0.005\n",
      "0.31337633273460763\n",
      "\n",
      "\n",
      "features_10\n",
      "kernels\n",
      "FORCE\n",
      "0.1\n",
      "0.5189148555817427\n",
      "\n",
      "\n",
      "features_10\n",
      "kernels\n",
      "FORCE\n",
      "0.001\n",
      "0.14861926097727576\n",
      "\n",
      "\n",
      "features_3\n",
      "kernels\n",
      "FORCE\n",
      "0.05\n",
      "0.43296043612012103\n",
      "\n",
      "\n",
      "features_8\n",
      "kernels\n",
      "FORCE\n",
      "0.05\n",
      "0.5412435509521589\n",
      "\n",
      "\n",
      "features_8\n",
      "kernels\n",
      "FORCE\n",
      "0.2\n",
      "0.7820255644288258\n",
      "\n",
      "\n",
      "features_6\n",
      "kernels\n",
      "FORCE\n",
      "0.1\n",
      "0.9036664714668126\n",
      "\n",
      "\n",
      "features_6\n",
      "kernels\n",
      "FORCE\n",
      "0.001\n",
      "0.149008470557034\n",
      "\n",
      "\n",
      "features_3\n",
      "kernels\n",
      "FORCE\n",
      "0.01\n",
      "0.30920178986392766\n",
      "\n",
      "\n",
      "features_10\n",
      "kernels\n",
      "FORCE\n",
      "0.001\n",
      "0.040584754530773134\n",
      "\n",
      "\n",
      "features_10\n",
      "kernels\n",
      "FORCE\n",
      "0.001\n",
      "-0.03263807315561648\n",
      "\n",
      "\n",
      "features_10\n",
      "kernels\n",
      "FORCE\n",
      "0.05\n",
      "0.4497040120702951\n",
      "\n",
      "\n",
      "features_3\n",
      "kernels\n",
      "FORCE\n",
      "0.001\n",
      "0.21219820810338436\n",
      "\n",
      "\n",
      "features_6\n",
      "kernels\n",
      "FORCE\n",
      "0.1\n",
      "0.8163175291155118\n",
      "\n",
      "\n",
      "features_8\n",
      "kernels\n",
      "FORCE\n",
      "0.2\n",
      "0.879362666209318\n",
      "\n",
      "\n",
      "features_3\n",
      "kernels\n",
      "FORCE\n",
      "0.01\n",
      "0.7655232008008033\n",
      "\n",
      "\n",
      "features_3\n",
      "kernels\n",
      "FORCE\n",
      "0.001\n",
      "-0.0018863119457255182\n",
      "\n",
      "\n",
      "features_6\n",
      "kernels\n",
      "FORCE\n",
      "0.2\n",
      "0.993952470712838\n",
      "\n",
      "\n",
      "features_6\n",
      "kernels\n",
      "FORCE\n",
      "0.1\n",
      "0.9032424293512465\n",
      "\n",
      "\n",
      "features_3\n",
      "kernels\n",
      "FORCE\n",
      "0.001\n",
      "0.0\n",
      "\n",
      "\n",
      "features_10\n",
      "kernels\n",
      "FORCE\n",
      "0.1\n",
      "0.46684782175107037\n",
      "\n",
      "\n",
      "features_8\n",
      "kernels\n",
      "FORCE\n",
      "0.2\n",
      "0.9798307227256356\n",
      "\n",
      "\n",
      "features_8\n",
      "kernels\n",
      "FORCE\n",
      "0.001\n",
      "0.21806276882428782\n",
      "\n",
      "\n",
      "features_3\n",
      "kernels\n",
      "FORCE\n",
      "0.05\n",
      "-0.12687168235646057\n",
      "\n",
      "\n",
      "features_6\n",
      "kernels\n",
      "FORCE\n",
      "0.1\n",
      "0.6821404431671073\n",
      "\n",
      "\n",
      "features_10\n",
      "kernels\n",
      "FORCE\n",
      "0.5\n",
      "0.9999334819138934\n",
      "\n",
      "\n",
      "features_8\n",
      "kernels\n",
      "FORCE\n",
      "0.001\n",
      "-0.20127855388610078\n",
      "\n",
      "\n",
      "features_6\n",
      "kernels\n",
      "FORCE\n",
      "0.1\n",
      "0.9255408678149697\n",
      "\n",
      "\n",
      "features_8\n",
      "kernels\n",
      "FORCE\n",
      "0.2\n",
      "0.9159014998919267\n",
      "\n",
      "\n",
      "features_8\n",
      "kernels\n",
      "FORCE\n",
      "0.5\n",
      "0.9999610599123491\n",
      "\n",
      "\n",
      "features_10\n",
      "kernels\n",
      "FORCE\n",
      "0.001\n",
      "-0.042339345613141774\n",
      "\n",
      "\n",
      "features_6\n",
      "kernels\n",
      "FORCE\n",
      "0.2\n",
      "0.9909909371966616\n",
      "\n",
      "\n",
      "features_8\n",
      "kernels\n",
      "FORCE\n",
      "0.005\n",
      "0.2571850394644032\n",
      "\n",
      "\n",
      "features_6\n",
      "kernels\n",
      "FORCE\n",
      "0.5\n",
      "0.9999256811535577\n",
      "\n",
      "\n",
      "features_10\n",
      "kernels\n",
      "FORCE\n",
      "0.001\n",
      "-0.04398336870357121\n",
      "\n",
      "\n",
      "features_10\n",
      "kernels\n",
      "FORCE\n",
      "0.2\n",
      "0.7695853730523207\n",
      "\n",
      "\n",
      "features_3\n",
      "kernels\n",
      "FORCE\n",
      "0.005\n"
     ]
    },
    {
     "name": "stdout",
     "output_type": "stream",
     "text": [
      "-0.0933969338491892\n",
      "\n",
      "\n",
      "features_8\n",
      "kernels\n",
      "FORCE\n",
      "0.01\n",
      "0.2070382090793795\n",
      "\n",
      "\n",
      "features_10\n",
      "kernels\n",
      "FORCE\n",
      "0.01\n",
      "0.4122269015516997\n",
      "\n",
      "\n",
      "features_6\n",
      "kernels\n",
      "FORCE\n",
      "0.01\n",
      "0.11938932911426645\n",
      "\n",
      "\n",
      "features_6\n",
      "kernels\n",
      "FORCE\n",
      "0.005\n",
      "0.023468257953038654\n",
      "\n",
      "\n",
      "features_3\n",
      "kernels\n",
      "FORCE\n",
      "0.01\n",
      "0.08832034196418857\n",
      "\n",
      "\n",
      "features_6\n",
      "kernels\n",
      "FORCE\n",
      "0.005\n",
      "0.40006042910455514\n",
      "\n",
      "\n",
      "features_8\n",
      "kernels\n",
      "FORCE\n",
      "0.005\n",
      "0.1599467957323781\n",
      "\n",
      "\n",
      "features_6\n",
      "kernels\n",
      "FORCE\n",
      "0.5\n",
      "0.9999466315188545\n",
      "\n",
      "\n",
      "features_3\n",
      "kernels\n",
      "FORCE\n",
      "0.001\n",
      "0.0\n",
      "\n",
      "\n",
      "features_6\n",
      "kernels\n",
      "FORCE\n",
      "0.2\n",
      "0.998370860091506\n",
      "\n",
      "\n",
      "features_8\n",
      "kernels\n",
      "FORCE\n",
      "0.1\n",
      "0.7031901913858118\n",
      "\n",
      "\n",
      "features_8\n",
      "kernels\n",
      "FORCE\n",
      "0.05\n",
      "0.6362857886906327\n",
      "\n",
      "\n",
      "features_6\n",
      "kernels\n",
      "FORCE\n",
      "0.005\n",
      "0.49464694628474226\n",
      "\n",
      "\n",
      "features_10\n",
      "kernels\n",
      "FORCE\n",
      "0.5\n",
      "0.9999960414340999\n",
      "\n",
      "\n",
      "features_3\n",
      "kernels\n",
      "FORCE\n",
      "0.005\n",
      "0.0\n",
      "\n",
      "\n",
      "features_3\n",
      "kernels\n",
      "FORCE\n",
      "0.05\n",
      "0.7250385401394863\n",
      "\n",
      "\n",
      "features_6\n",
      "kernels\n",
      "FORCE\n",
      "0.01\n",
      "0.18598328135450504\n",
      "\n",
      "\n",
      "features_8\n",
      "kernels\n",
      "FORCE\n",
      "0.5\n",
      "0.9999906044815912\n",
      "\n",
      "\n",
      "features_10\n",
      "kernels\n",
      "FORCE\n",
      "0.05\n",
      "0.3923925861689199\n",
      "\n",
      "\n",
      "features_6\n",
      "kernels\n",
      "FORCE\n",
      "0.1\n",
      "0.850787392023486\n",
      "\n",
      "\n",
      "features_10\n",
      "kernels\n",
      "FORCE\n",
      "0.1\n",
      "0.3807429389586963\n",
      "\n",
      "\n",
      "features_3\n",
      "kernels\n",
      "FORCE\n",
      "0.1\n",
      "0.8721732471764609\n",
      "\n",
      "\n",
      "features_8\n",
      "kernels\n",
      "FORCE\n",
      "0.005\n",
      "-0.1657272377230345\n",
      "\n",
      "\n",
      "features_8\n",
      "kernels\n",
      "FORCE\n",
      "0.1\n",
      "0.6749152407902622\n",
      "\n",
      "\n",
      "features_10\n",
      "kernels\n",
      "FORCE\n",
      "0.05\n",
      "0.23834921430722952\n",
      "\n",
      "\n",
      "features_8\n",
      "kernels\n",
      "FORCE\n",
      "0.001\n",
      "0.027587306141794554\n",
      "\n",
      "\n",
      "features_10\n",
      "kernels\n",
      "FORCE\n",
      "0.5\n",
      "0.9999795201946724\n",
      "\n",
      "\n",
      "features_8\n",
      "kernels\n",
      "FORCE\n",
      "0.001\n",
      "-0.10717998914778648\n",
      "\n",
      "\n",
      "features_3\n",
      "kernels\n",
      "FORCE\n",
      "0.2\n",
      "0.9165134367709964\n",
      "\n",
      "\n",
      "features_3\n",
      "kernels\n",
      "FORCE\n",
      "0.1\n",
      "0.5496271564567884\n",
      "\n",
      "\n",
      "features_8\n",
      "kernels\n",
      "FORCE\n",
      "0.001\n",
      "-0.09723353783816976\n",
      "\n",
      "\n",
      "features_3\n",
      "kernels\n",
      "FORCE\n",
      "0.5\n",
      "0.9999822257834946\n",
      "\n",
      "\n",
      "features_6\n",
      "kernels\n",
      "FORCE\n",
      "0.2\n",
      "0.9160667170844129\n",
      "\n",
      "\n",
      "features_3\n",
      "kernels\n",
      "FORCE\n",
      "0.2\n",
      "0.7786878611696176\n",
      "\n",
      "\n",
      "features_3\n",
      "kernels\n",
      "FORCE\n",
      "0.05\n",
      "0.6666684258413423\n",
      "\n",
      "\n",
      "features_6\n",
      "kernels\n",
      "FORCE\n",
      "0.01\n",
      "0.4102441558049721\n",
      "\n",
      "\n",
      "features_3\n",
      "kernels\n",
      "FORCE\n",
      "0.005\n",
      "0.1274392763348443\n",
      "\n",
      "\n",
      "features_3\n",
      "kernels\n",
      "FORCE\n",
      "0.5\n",
      "0.9930828121099304\n",
      "\n",
      "\n",
      "features_6\n",
      "kernels\n",
      "FORCE\n",
      "0.005\n",
      "0.26172684974067234\n",
      "\n",
      "\n",
      "features_8\n",
      "kernels\n",
      "FORCE\n",
      "0.5\n",
      "0.9999991614416873\n",
      "\n",
      "\n",
      "features_6\n",
      "kernels\n",
      "FORCE\n",
      "0.005\n",
      "0.02744918939381685\n",
      "\n",
      "\n",
      "features_6\n",
      "kernels\n",
      "FORCE\n",
      "0.2\n",
      "0.9915528160921973\n",
      "\n",
      "\n",
      "features_8\n",
      "kernels\n",
      "FORCE\n",
      "0.2\n",
      "0.9253871812317477\n",
      "\n",
      "\n",
      "features_3\n",
      "kernels\n",
      "FORCE\n",
      "0.2\n",
      "0.4717804126284089\n",
      "\n",
      "\n",
      "features_3\n",
      "kernels\n",
      "FORCE\n",
      "0.05\n",
      "0.10447804080323653\n",
      "\n",
      "\n",
      "features_3\n",
      "kernels\n",
      "FORCE\n",
      "0.2\n",
      "0.8113591020222324\n",
      "\n",
      "\n",
      "features_8\n",
      "kernels\n",
      "FORCE\n",
      "0.05\n",
      "0.5719867164658965\n",
      "\n",
      "\n",
      "features_6\n",
      "kernels\n",
      "FORCE\n",
      "0.05\n",
      "0.857496023078187\n",
      "\n",
      "\n",
      "features_3\n",
      "kernels\n",
      "FORCE\n",
      "0.2\n",
      "0.21744245169509002\n",
      "\n",
      "\n",
      "features_3\n",
      "kernels\n",
      "FORCE\n",
      "0.01\n",
      "0.2554297060742067\n",
      "\n",
      "\n",
      "features_10\n",
      "kernels\n",
      "FORCE\n",
      "0.2\n",
      "0.6906230732490541\n",
      "\n",
      "\n",
      "features_6\n",
      "kernels\n",
      "FORCE\n",
      "0.05\n",
      "0.33711132379387426\n",
      "\n",
      "\n",
      "features_8\n",
      "kernels\n",
      "FORCE\n",
      "0.2\n",
      "0.9279918343199267\n",
      "\n",
      "\n",
      "features_3\n",
      "kernels\n",
      "FORCE\n",
      "0.005\n",
      "0.0\n",
      "\n",
      "\n",
      "features_10\n",
      "kernels\n",
      "FORCE\n",
      "0.5\n",
      "0.9999679000111419\n",
      "\n",
      "\n",
      "features_10\n",
      "kernels\n",
      "FORCE\n",
      "0.005\n",
      "0.13525052656269998\n",
      "\n",
      "\n",
      "features_8\n",
      "kernels\n",
      "FORCE\n",
      "0.5\n",
      "0.9999595359551204\n",
      "\n",
      "\n",
      "features_3\n",
      "kernels\n",
      "FORCE\n",
      "0.5\n",
      "0.9957186660623197\n",
      "\n",
      "\n",
      "features_8\n",
      "kernels\n",
      "FORCE\n",
      "0.5\n",
      "0.9998832877352994\n",
      "\n",
      "\n",
      "features_6\n",
      "kernels\n",
      "FORCE\n",
      "0.05\n",
      "0.3040043865668657\n",
      "\n",
      "\n",
      "features_8\n",
      "kernels\n",
      "FORCE\n",
      "0.5\n",
      "0.9999930980829851\n",
      "\n",
      "\n",
      "features_8\n",
      "kernels\n",
      "FORCE\n",
      "0.05\n",
      "0.5398094288235715\n",
      "\n",
      "\n",
      "features_6\n",
      "kernels\n",
      "FORCE\n",
      "0.01\n",
      "0.2855283112279718\n",
      "\n",
      "\n",
      "features_10\n",
      "kernels\n",
      "FORCE\n",
      "0.01\n",
      "0.2792926960170381\n",
      "\n",
      "\n",
      "features_10\n",
      "kernels\n",
      "FORCE\n",
      "0.005\n",
      "0.2248516771502515\n",
      "\n",
      "\n",
      "features_6\n",
      "kernels\n",
      "FORCE\n",
      "0.05\n",
      "0.8162423378628327\n",
      "\n",
      "\n",
      "features_6\n",
      "kernels\n",
      "FORCE\n",
      "0.001\n",
      "-0.06199529009622262\n",
      "\n",
      "\n",
      "features_10\n",
      "kernels\n",
      "FORCE\n",
      "0.2\n",
      "0.7876244615552058\n",
      "\n",
      "\n",
      "features_3\n",
      "kernels\n",
      "FORCE\n",
      "0.001\n",
      "-0.07480127934108248\n",
      "\n",
      "\n",
      "features_6\n",
      "kernels\n",
      "FORCE\n",
      "0.01\n",
      "0.39490203003347146\n",
      "\n",
      "\n",
      "features_10\n",
      "kernels\n",
      "FORCE\n",
      "0.2\n",
      "0.7960927841056644\n",
      "\n",
      "\n",
      "features_3\n",
      "kernels\n",
      "FORCE\n",
      "0.1\n",
      "0.5723880417613595\n",
      "\n",
      "\n",
      "features_8\n",
      "kernels\n",
      "FORCE\n",
      "0.01\n",
      "0.10042446861248924\n",
      "\n",
      "\n",
      "features_8\n",
      "kernels\n",
      "FORCE\n",
      "0.5\n",
      "0.9999877460364159\n",
      "\n",
      "\n",
      "features_10\n",
      "kernels\n",
      "FORCE\n",
      "0.01\n",
      "0.023161010354371556\n",
      "\n",
      "\n",
      "features_10\n",
      "kernels\n",
      "FORCE\n",
      "0.05\n",
      "0.1788684467216568\n",
      "\n",
      "\n",
      "features_3\n",
      "kernels\n",
      "FORCE\n",
      "0.1\n",
      "-0.25515684207973616\n",
      "\n",
      "\n",
      "features_10\n",
      "kernels\n",
      "FORCE\n",
      "0.005\n",
      "-0.2202702987850716\n",
      "\n",
      "\n",
      "features_3\n",
      "kernels\n",
      "FORCE\n",
      "0.005\n",
      "0.1118505344363263\n",
      "\n",
      "\n",
      "features_10\n",
      "kernels\n",
      "FORCE\n",
      "0.005\n",
      "-0.024835891641708865\n",
      "\n",
      "\n",
      "features_10\n",
      "kernels\n",
      "FORCE\n",
      "0.1\n",
      "0.6449755458892674\n",
      "\n",
      "\n",
      "features_8\n",
      "kernels\n",
      "FORCE\n",
      "0.1\n",
      "0.7544601315844603\n",
      "\n",
      "\n",
      "features_8\n",
      "kernels\n",
      "FORCE\n",
      "0.005\n",
      "0.32728093012828546\n",
      "\n",
      "\n",
      "features_10\n",
      "kernels\n",
      "FORCE\n",
      "0.05\n",
      "0.19641016336327666\n",
      "\n",
      "\n",
      "features_8\n",
      "kernels\n",
      "FORCE\n",
      "0.5\n",
      "0.9999820469020302\n",
      "\n",
      "\n",
      "features_10\n",
      "kernels\n",
      "FORCE\n",
      "0.2\n",
      "0.6498757959808187\n",
      "\n",
      "\n",
      "features_3\n",
      "kernels\n",
      "FORCE\n",
      "0.05\n",
      "-0.008762162949829204\n",
      "\n",
      "\n",
      "features_10\n",
      "kernels\n",
      "FORCE\n",
      "0.5\n",
      "0.999961853586956\n",
      "\n",
      "\n",
      "features_3\n",
      "kernels\n",
      "FORCE\n",
      "0.1\n",
      "0.9167586847365818\n",
      "\n",
      "\n",
      "features_6\n",
      "kernels\n",
      "FORCE\n",
      "0.2\n",
      "0.9769577234794828\n",
      "\n",
      "\n",
      "features_8\n",
      "kernels\n",
      "FORCE\n",
      "0.01\n",
      "0.12444625787183544\n",
      "\n",
      "\n",
      "features_6\n",
      "kernels\n",
      "FORCE\n",
      "0.05\n",
      "0.27850689351616126\n",
      "\n",
      "\n",
      "features_8\n",
      "kernels\n",
      "FORCE\n",
      "0.1\n",
      "0.7993833942829504\n",
      "\n",
      "\n",
      "features_3\n",
      "kernels\n",
      "FORCE\n",
      "0.1\n",
      "0.7961222984912798\n",
      "\n",
      "\n",
      "features_6\n",
      "kernels\n",
      "FORCE\n",
      "0.2\n",
      "0.9878040521521282\n",
      "\n",
      "\n",
      "features_3\n",
      "kernels\n",
      "FORCE\n",
      "0.001\n",
      "0.07180385673613568\n",
      "\n",
      "\n",
      "features_10\n",
      "kernels\n",
      "FORCE\n",
      "0.1\n",
      "0.4873679250102485\n",
      "\n",
      "\n",
      "features_3\n",
      "kernels\n",
      "FORCE\n",
      "0.1\n",
      "-0.2597556223673707\n",
      "\n",
      "\n",
      "features_10\n",
      "kernels\n",
      "FORCE\n",
      "0.001\n",
      "-0.09960535800720668\n",
      "\n",
      "\n",
      "features_8\n",
      "kernels\n",
      "FORCE\n",
      "0.005\n",
      "0.29211124244904796\n",
      "\n",
      "\n",
      "features_3\n",
      "kernels\n",
      "FORCE\n",
      "0.001\n",
      "0.0\n",
      "\n",
      "\n",
      "features_3\n",
      "kernels\n",
      "FORCE\n",
      "0.1\n",
      "0.9648997656764167\n",
      "\n",
      "\n",
      "features_10\n",
      "kernels\n",
      "FORCE\n",
      "0.2\n",
      "0.7696113276291419\n",
      "\n",
      "\n",
      "features_6\n",
      "kernels\n",
      "FORCE\n",
      "0.1\n",
      "0.8142918718510928\n",
      "\n",
      "\n",
      "features_6\n",
      "kernels\n",
      "FORCE\n",
      "0.2\n",
      "0.9620692116464581\n",
      "\n",
      "\n",
      "features_10\n",
      "kernels\n",
      "FORCE\n",
      "0.01\n",
      "0.2389640245118686\n",
      "\n",
      "\n",
      "features_10\n",
      "kernels\n",
      "FORCE\n",
      "0.001\n",
      "-0.08521560275483347\n",
      "\n",
      "\n",
      "features_3\n",
      "kernels\n",
      "FORCE\n",
      "0.05\n",
      "0.0636305269490901\n",
      "\n",
      "\n",
      "features_8\n",
      "kernels\n",
      "FORCE\n",
      "0.005\n",
      "0.1473285626924667\n",
      "\n",
      "\n",
      "features_10\n",
      "kernels\n",
      "FORCE\n",
      "0.5\n",
      "0.9985164455169918\n",
      "\n",
      "\n",
      "features_3\n",
      "kernels\n",
      "FORCE\n",
      "0.1\n",
      "0.005225174289860987\n",
      "\n",
      "\n",
      "features_3\n",
      "kernels\n",
      "FORCE\n",
      "0.001\n",
      "-0.28228703738981503\n",
      "\n",
      "\n",
      "features_3\n",
      "kernels\n",
      "FORCE\n",
      "0.01\n",
      "0.747548782804496\n",
      "\n",
      "\n",
      "features_10\n",
      "kernels\n",
      "FORCE\n",
      "0.05\n",
      "0.41108924469694896\n",
      "\n",
      "\n",
      "features_8\n",
      "kernels\n",
      "FORCE\n",
      "0.5\n",
      "0.9999769416745603\n",
      "\n",
      "\n",
      "features_10\n",
      "kernels\n",
      "FORCE\n",
      "0.1\n",
      "0.5385862954338524\n",
      "\n",
      "\n",
      "features_10\n",
      "kernels\n",
      "FORCE\n",
      "0.1\n",
      "0.4880751225721994\n",
      "\n",
      "\n",
      "features_10\n",
      "kernels\n",
      "FORCE\n",
      "0.1\n",
      "0.6131595146300899\n",
      "\n",
      "\n",
      "features_8\n",
      "kernels\n",
      "FORCE\n",
      "0.5\n",
      "0.9999487991737159\n",
      "\n",
      "\n",
      "features_6\n",
      "kernels\n",
      "FORCE\n",
      "0.2\n",
      "0.9096971217062568\n",
      "\n",
      "\n",
      "features_8\n",
      "kernels\n",
      "FORCE\n",
      "0.2\n",
      "0.9145600557929308\n",
      "\n",
      "\n",
      "features_8\n",
      "kernels\n",
      "FORCE\n",
      "0.001\n",
      "0.18975080917880327\n",
      "\n",
      "\n",
      "features_10\n",
      "kernels\n",
      "FORCE\n",
      "0.5\n",
      "0.9999649738615033\n",
      "\n",
      "\n",
      "features_8\n",
      "kernels\n",
      "FORCE\n",
      "0.005\n",
      "-0.07645380184832716\n",
      "\n",
      "\n",
      "features_6\n",
      "kernels\n",
      "FORCE\n",
      "0.5\n",
      "0.9999998968993009\n",
      "\n",
      "\n",
      "features_6\n",
      "kernels\n",
      "FORCE\n",
      "0.1\n",
      "0.8919337371671667\n",
      "\n",
      "\n",
      "features_6\n",
      "kernels\n",
      "FORCE\n",
      "0.2\n",
      "0.937853726920791\n",
      "\n",
      "\n",
      "features_6\n",
      "kernels\n",
      "FORCE\n",
      "0.5\n",
      "0.995755133221765\n",
      "\n",
      "\n",
      "features_3\n",
      "kernels\n",
      "FORCE\n",
      "0.001\n",
      "0.03874754896526753\n",
      "\n",
      "\n",
      "features_6\n",
      "kernels\n",
      "FORCE\n",
      "0.05\n",
      "0.5391571080527688\n",
      "\n",
      "\n",
      "features_6\n",
      "kernels\n",
      "FORCE\n",
      "0.01\n",
      "0.5087724705081346\n",
      "\n",
      "\n",
      "features_3\n",
      "kernels\n",
      "FORCE\n",
      "0.005\n",
      "0.7488393996160511\n",
      "\n",
      "\n",
      "features_6\n",
      "kernels\n",
      "FORCE\n",
      "0.05\n",
      "0.4389174508664806\n",
      "\n",
      "\n",
      "features_10\n",
      "kernels\n",
      "FORCE\n",
      "0.001\n",
      "-0.010687001432825798\n",
      "\n",
      "\n",
      "features_8\n",
      "kernels\n",
      "FORCE\n",
      "0.001\n",
      "0.08870354176969598\n",
      "\n",
      "\n",
      "features_10\n",
      "kernels\n",
      "FORCE\n",
      "0.5\n",
      "0.9999254559432635\n",
      "\n",
      "\n",
      "features_10\n",
      "kernels\n",
      "FORCE\n",
      "0.5\n",
      "0.9999576852366052\n",
      "\n",
      "\n",
      "features_8\n",
      "kernels\n",
      "FORCE\n",
      "0.5\n",
      "0.9999888002577956\n",
      "\n",
      "\n",
      "features_10\n",
      "kernels\n",
      "FORCE\n",
      "0.1\n",
      "0.4168917560938961\n",
      "\n",
      "\n",
      "features_10\n",
      "kernels\n",
      "FORCE\n",
      "0.05\n",
      "0.2740238614894526\n",
      "\n",
      "\n",
      "features_10\n",
      "kernels\n",
      "FORCE\n",
      "0.1\n",
      "0.3906351424995593\n",
      "\n",
      "\n",
      "features_3\n",
      "kernels\n",
      "FORCE\n",
      "0.05\n",
      "0.7675792582758535\n",
      "\n",
      "\n",
      "features_10\n",
      "kernels\n",
      "FORCE\n",
      "0.01\n",
      "0.2397422798619378\n",
      "\n",
      "\n",
      "features_10\n",
      "kernels\n",
      "FORCE\n",
      "0.05\n",
      "0.4542421287525904\n",
      "\n",
      "\n",
      "features_8\n",
      "kernels\n",
      "FORCE\n",
      "0.01\n",
      "0.06938770832426272\n",
      "\n",
      "\n",
      "features_6\n",
      "kernels\n",
      "FORCE\n",
      "0.5\n",
      "0.999785834039012\n",
      "\n",
      "\n",
      "features_3\n",
      "kernels\n",
      "FORCE\n",
      "0.1\n",
      "0.08833167156589233\n",
      "\n",
      "\n",
      "features_10\n",
      "kernels\n",
      "FORCE\n",
      "0.05\n",
      "0.3515325752172508\n",
      "\n",
      "\n",
      "features_6\n",
      "kernels\n",
      "FORCE\n",
      "0.2\n",
      "0.8529721776089552\n",
      "\n",
      "\n",
      "features_10\n",
      "kernels\n",
      "FORCE\n",
      "0.001\n",
      "0.05610614379604998\n",
      "\n",
      "\n",
      "features_10\n",
      "kernels\n",
      "FORCE\n",
      "0.1\n",
      "0.39719180495440803\n",
      "\n",
      "\n",
      "features_10\n",
      "kernels\n",
      "FORCE\n",
      "0.005\n",
      "0.07269416050613621\n",
      "\n",
      "\n",
      "features_6\n",
      "kernels\n",
      "FORCE\n",
      "0.1\n",
      "0.9298336339006781\n",
      "\n",
      "\n",
      "features_10\n",
      "kernels\n",
      "FORCE\n",
      "0.01\n",
      "0.24913824247641791\n",
      "\n",
      "\n",
      "features_3\n",
      "kernels\n",
      "FORCE\n",
      "0.005\n",
      "0.0\n",
      "\n",
      "\n",
      "features_8\n",
      "kernels\n",
      "FORCE\n",
      "0.01\n",
      "0.6797707738600096\n",
      "\n",
      "\n",
      "features_3\n",
      "kernels\n",
      "FORCE\n",
      "0.01\n",
      "-0.18156187133503415\n",
      "\n",
      "\n",
      "features_3\n",
      "kernels\n",
      "FORCE\n",
      "0.005\n",
      "-0.2665852330935778\n",
      "\n",
      "\n",
      "features_10\n",
      "kernels\n",
      "FORCE\n",
      "0.1\n",
      "0.45019178628628\n",
      "\n",
      "\n",
      "features_6\n",
      "kernels\n",
      "FORCE\n",
      "0.2\n",
      "0.9876168441173515\n",
      "\n",
      "\n",
      "features_8\n",
      "kernels\n",
      "FORCE\n",
      "0.05\n",
      "0.3224324455285961\n",
      "\n",
      "\n",
      "features_3\n",
      "kernels\n",
      "FORCE\n",
      "0.2\n",
      "0.9380644791057384\n",
      "\n",
      "\n",
      "features_6\n",
      "kernels\n",
      "FORCE\n",
      "0.05\n",
      "0.6583471592899651\n",
      "\n",
      "\n",
      "features_10\n",
      "kernels\n",
      "FORCE\n",
      "0.01\n",
      "0.057236439893248815\n",
      "\n",
      "\n",
      "features_6\n",
      "kernels\n",
      "FORCE\n",
      "0.5\n",
      "0.9999983489554989\n",
      "\n",
      "\n",
      "features_8\n",
      "kernels\n",
      "FORCE\n",
      "0.001\n",
      "-0.05897686349588102\n",
      "\n",
      "\n",
      "features_3\n",
      "kernels\n",
      "FORCE\n",
      "0.5\n",
      "0.9772154402089828\n",
      "\n",
      "\n",
      "features_3\n",
      "kernels\n",
      "FORCE\n",
      "0.001\n",
      "0.0\n",
      "\n",
      "\n",
      "features_6\n",
      "kernels\n",
      "FORCE\n",
      "0.1\n",
      "0.7342607595709975\n",
      "\n",
      "\n",
      "features_8\n",
      "kernels\n",
      "FORCE\n",
      "0.05\n",
      "0.24320796988754698\n",
      "\n",
      "\n",
      "features_8\n",
      "kernels\n",
      "FORCE\n",
      "0.1\n",
      "0.7421158883387002\n",
      "\n",
      "\n",
      "features_8\n",
      "kernels\n",
      "FORCE\n",
      "0.05\n",
      "0.4493686174373069\n",
      "\n",
      "\n",
      "features_10\n",
      "kernels\n",
      "FORCE\n",
      "0.005\n",
      "-0.08570189438828235\n",
      "\n",
      "\n",
      "features_8\n",
      "kernels\n",
      "FORCE\n",
      "0.01\n"
     ]
    },
    {
     "name": "stdout",
     "output_type": "stream",
     "text": [
      "-0.034887155990520655\n",
      "\n",
      "\n",
      "features_3\n",
      "kernels\n",
      "FORCE\n",
      "0.05\n",
      "0.7184749480002753\n",
      "\n",
      "\n",
      "features_3\n",
      "kernels\n",
      "FORCE\n",
      "0.005\n",
      "0.30920178986392766\n",
      "\n",
      "\n",
      "features_8\n",
      "kernels\n",
      "FORCE\n",
      "0.01\n",
      "0.31476789029903857\n",
      "\n",
      "\n",
      "features_3\n",
      "kernels\n",
      "FORCE\n",
      "0.001\n",
      "0.0\n",
      "\n",
      "\n",
      "features_8\n",
      "kernels\n",
      "FORCE\n",
      "0.05\n",
      "0.10504476789166696\n",
      "\n",
      "\n",
      "features_6\n",
      "kernels\n",
      "FORCE\n",
      "0.01\n",
      "0.23129219572395288\n",
      "\n",
      "\n",
      "features_6\n",
      "kernels\n",
      "FORCE\n",
      "0.001\n",
      "-0.08156934558939734\n",
      "\n",
      "\n",
      "features_3\n",
      "kernels\n",
      "FORCE\n",
      "0.01\n",
      "0.0\n",
      "\n",
      "\n",
      "features_6\n",
      "kernels\n",
      "FORCE\n",
      "0.01\n",
      "0.60213918469601\n",
      "\n",
      "\n",
      "features_10\n",
      "kernels\n",
      "FORCE\n",
      "0.5\n",
      "0.9999379834580204\n",
      "\n",
      "\n",
      "features_8\n",
      "kernels\n",
      "FORCE\n",
      "0.5\n",
      "0.9999293576563634\n",
      "\n",
      "\n",
      "features_10\n",
      "kernels\n",
      "FORCE\n",
      "0.2\n",
      "0.8018968720742004\n",
      "\n",
      "\n",
      "features_10\n",
      "kernels\n",
      "FORCE\n",
      "0.2\n",
      "0.8106509689917465\n",
      "\n",
      "\n",
      "features_3\n",
      "kernels\n",
      "FORCE\n",
      "0.005\n",
      "0.06961045386991258\n",
      "\n",
      "\n",
      "features_3\n",
      "kernels\n",
      "FORCE\n",
      "0.1\n",
      "0.8887919117980769\n",
      "\n",
      "\n",
      "features_6\n",
      "kernels\n",
      "FORCE\n",
      "0.1\n",
      "0.5761544298044515\n",
      "\n",
      "\n",
      "features_6\n",
      "kernels\n",
      "FORCE\n",
      "0.2\n",
      "0.8555368587956175\n",
      "\n",
      "\n",
      "features_3\n",
      "kernels\n",
      "FORCE\n",
      "0.5\n",
      "0.9687882564045747\n",
      "\n",
      "\n",
      "features_3\n",
      "kernels\n",
      "FORCE\n",
      "0.05\n",
      "0.741456546443299\n",
      "\n",
      "\n",
      "features_3\n",
      "kernels\n",
      "FORCE\n",
      "0.5\n",
      "0.9678349641694826\n",
      "\n",
      "\n",
      "features_3\n",
      "kernels\n",
      "FORCE\n",
      "0.005\n",
      "0.06329375768732035\n",
      "\n",
      "\n",
      "features_10\n",
      "kernels\n",
      "FORCE\n",
      "0.001\n",
      "-0.08264795417127015\n",
      "\n",
      "\n",
      "features_8\n",
      "kernels\n",
      "FORCE\n",
      "0.2\n",
      "0.9016981049652613\n",
      "\n",
      "\n",
      "features_3\n",
      "kernels\n",
      "FORCE\n",
      "0.1\n",
      "-0.13405030229959322\n",
      "\n",
      "\n",
      "features_10\n",
      "kernels\n",
      "FORCE\n",
      "0.005\n",
      "0.19258332133984882\n",
      "\n",
      "\n",
      "features_8\n",
      "kernels\n",
      "FORCE\n",
      "0.001\n",
      "-0.040492883492150765\n",
      "\n",
      "\n",
      "features_3\n",
      "kernels\n",
      "FORCE\n",
      "0.005\n",
      "0.0\n",
      "\n",
      "\n",
      "features_6\n",
      "kernels\n",
      "FORCE\n",
      "0.01\n",
      "0.02950532878979372\n",
      "\n",
      "\n",
      "features_10\n",
      "kernels\n",
      "FORCE\n",
      "0.5\n",
      "0.9999662703717384\n",
      "\n",
      "\n",
      "features_10\n",
      "kernels\n",
      "FORCE\n",
      "0.5\n",
      "0.999721785716247\n",
      "\n",
      "\n",
      "features_10\n",
      "kernels\n",
      "FORCE\n",
      "0.05\n",
      "0.3072974742739212\n",
      "\n",
      "\n",
      "features_10\n",
      "kernels\n",
      "FORCE\n",
      "0.1\n",
      "0.4749415733351813\n",
      "\n",
      "\n",
      "features_3\n",
      "kernels\n",
      "FORCE\n",
      "0.05\n",
      "-0.09323192704664775\n",
      "\n",
      "\n",
      "features_10\n",
      "kernels\n",
      "FORCE\n",
      "0.1\n",
      "0.635956642829131\n",
      "\n",
      "\n",
      "features_10\n",
      "kernels\n",
      "FORCE\n",
      "0.005\n",
      "0.16200151861207998\n",
      "\n",
      "\n",
      "features_8\n",
      "kernels\n",
      "FORCE\n",
      "0.005\n",
      "0.1453735313147\n",
      "\n",
      "\n",
      "features_6\n",
      "kernels\n",
      "FORCE\n",
      "0.5\n",
      "0.9999988643597715\n",
      "\n",
      "\n",
      "features_10\n",
      "kernels\n",
      "FORCE\n",
      "0.01\n",
      "0.3552562994158607\n",
      "\n",
      "\n",
      "features_6\n",
      "kernels\n",
      "FORCE\n",
      "0.05\n",
      "0.6339946418492977\n",
      "\n",
      "\n",
      "features_3\n",
      "kernels\n",
      "FORCE\n",
      "0.5\n",
      "0.9999820064144518\n",
      "\n",
      "\n",
      "features_8\n",
      "kernels\n",
      "FORCE\n",
      "0.001\n",
      "0.10320729013854889\n",
      "\n",
      "\n",
      "features_3\n",
      "kernels\n",
      "FORCE\n",
      "0.001\n",
      "0.2513091065057312\n",
      "\n",
      "\n",
      "features_10\n",
      "kernels\n",
      "FORCE\n",
      "0.1\n",
      "0.6280997216195405\n",
      "\n",
      "\n",
      "features_8\n",
      "kernels\n",
      "FORCE\n",
      "0.01\n",
      "0.36126427259135985\n",
      "\n",
      "\n",
      "features_8\n",
      "kernels\n",
      "FORCE\n",
      "0.01\n",
      "0.2873281549276168\n",
      "\n",
      "\n",
      "features_6\n",
      "kernels\n",
      "FORCE\n",
      "0.05\n",
      "0.5581987566270149\n",
      "\n",
      "\n",
      "features_8\n",
      "kernels\n",
      "FORCE\n",
      "0.05\n",
      "0.7412948634983799\n",
      "\n",
      "\n",
      "features_6\n",
      "kernels\n",
      "FORCE\n",
      "0.001\n",
      "0.08684460509668133\n",
      "\n",
      "\n",
      "features_10\n",
      "kernels\n",
      "FORCE\n",
      "0.01\n",
      "0.32493172404968595\n",
      "\n",
      "\n",
      "features_6\n",
      "kernels\n",
      "FORCE\n",
      "0.05\n",
      "0.7855196633905064\n",
      "\n",
      "\n",
      "features_6\n",
      "kernels\n",
      "FORCE\n",
      "0.005\n",
      "0.15649676302049176\n",
      "\n",
      "\n",
      "features_10\n",
      "kernels\n",
      "FORCE\n",
      "0.2\n",
      "0.7152077235715125\n",
      "\n",
      "\n",
      "features_8\n",
      "kernels\n",
      "FORCE\n",
      "0.01\n",
      "0.11015078605695611\n",
      "\n",
      "\n",
      "features_3\n",
      "kernels\n",
      "FORCE\n",
      "0.01\n",
      "0.06322068439606893\n",
      "\n",
      "\n",
      "features_3\n",
      "kernels\n",
      "FORCE\n",
      "0.001\n",
      "0.0\n",
      "\n",
      "\n",
      "features_10\n",
      "kernels\n",
      "FORCE\n",
      "0.2\n",
      "0.7329600010242422\n",
      "\n",
      "\n",
      "features_8\n",
      "kernels\n",
      "FORCE\n",
      "0.2\n",
      "0.8745897279111009\n",
      "\n",
      "\n",
      "features_6\n",
      "kernels\n",
      "FORCE\n",
      "0.1\n",
      "0.43660448281811703\n",
      "\n",
      "\n",
      "features_8\n",
      "kernels\n",
      "FORCE\n",
      "0.2\n",
      "0.8537999738619706\n",
      "\n",
      "\n",
      "features_10\n",
      "kernels\n",
      "FORCE\n",
      "0.1\n",
      "0.5963450855896031\n",
      "\n",
      "\n",
      "features_10\n",
      "kernels\n",
      "FORCE\n",
      "0.005\n",
      "0.0022323768484114382\n",
      "\n",
      "\n",
      "features_3\n",
      "kernels\n",
      "FORCE\n",
      "0.5\n",
      "0.9225898311901777\n",
      "\n",
      "\n",
      "features_8\n",
      "kernels\n",
      "FORCE\n",
      "0.5\n",
      "0.9999968636820414\n",
      "\n",
      "\n",
      "features_8\n",
      "kernels\n",
      "FORCE\n",
      "0.01\n",
      "0.5259413438530494\n",
      "\n",
      "\n",
      "features_8\n",
      "kernels\n",
      "FORCE\n",
      "0.01\n",
      "0.1571410495431357\n",
      "\n",
      "\n",
      "features_3\n",
      "kernels\n",
      "FORCE\n",
      "0.001\n",
      "0.13940056910032222\n",
      "\n",
      "\n",
      "features_3\n",
      "kernels\n",
      "FORCE\n",
      "0.5\n",
      "0.986078074639843\n",
      "\n",
      "\n",
      "features_3\n",
      "kernels\n",
      "FORCE\n",
      "0.1\n",
      "0.41436858554798195\n",
      "\n",
      "\n",
      "features_6\n",
      "kernels\n",
      "FORCE\n",
      "0.5\n",
      "0.9966607673998645\n",
      "\n",
      "\n",
      "features_10\n",
      "kernels\n",
      "FORCE\n",
      "0.5\n",
      "0.9995170029111753\n",
      "\n",
      "\n",
      "features_6\n",
      "kernels\n",
      "FORCE\n",
      "0.5\n",
      "0.9991795368704104\n",
      "\n",
      "\n",
      "features_8\n",
      "kernels\n",
      "FORCE\n",
      "0.01\n",
      "0.08473283949303853\n",
      "\n",
      "\n",
      "features_6\n",
      "kernels\n",
      "FORCE\n",
      "0.05\n",
      "0.5952949282339328\n",
      "\n",
      "\n",
      "features_8\n",
      "kernels\n",
      "FORCE\n",
      "0.05\n",
      "0.4651421621227894\n",
      "\n",
      "\n",
      "features_3\n",
      "kernels\n",
      "FORCE\n",
      "0.001\n",
      "-0.0933969338491892\n",
      "\n",
      "\n",
      "features_6\n",
      "kernels\n",
      "FORCE\n",
      "0.2\n",
      "0.9807780376573014\n",
      "\n",
      "\n",
      "features_10\n",
      "kernels\n",
      "FORCE\n",
      "0.005\n",
      "-0.12068901801681658\n",
      "\n",
      "\n",
      "features_10\n",
      "kernels\n",
      "FORCE\n",
      "0.1\n",
      "0.4627425425619065\n",
      "\n",
      "\n",
      "features_3\n",
      "kernels\n",
      "FORCE\n",
      "0.001\n",
      "0.0\n",
      "\n",
      "\n",
      "features_3\n",
      "kernels\n",
      "FORCE\n",
      "0.5\n",
      "0.9758104413350719\n",
      "\n",
      "\n",
      "features_10\n",
      "kernels\n",
      "FORCE\n",
      "0.1\n",
      "0.6410412526407715\n",
      "\n",
      "\n",
      "features_10\n",
      "kernels\n",
      "FORCE\n",
      "0.01\n",
      "0.08387051269027615\n",
      "\n",
      "\n",
      "features_3\n",
      "kernels\n",
      "FORCE\n",
      "0.1\n",
      "-0.03784451193784998\n",
      "\n",
      "\n",
      "features_3\n",
      "kernels\n",
      "FORCE\n",
      "0.005\n",
      "0.0\n",
      "\n",
      "\n",
      "features_8\n",
      "kernels\n",
      "FORCE\n",
      "0.5\n",
      "0.9997600204542096\n",
      "\n",
      "\n",
      "features_3\n",
      "kernels\n",
      "FORCE\n",
      "0.5\n",
      "0.9804674376267645\n",
      "\n",
      "\n",
      "features_6\n",
      "kernels\n",
      "FORCE\n",
      "0.1\n",
      "0.9587583163760138\n",
      "\n",
      "\n",
      "features_6\n",
      "kernels\n",
      "FORCE\n",
      "0.001\n",
      "-0.10569583314354672\n",
      "\n",
      "\n",
      "features_8\n",
      "kernels\n",
      "FORCE\n",
      "0.1\n",
      "0.8497463001434534\n",
      "\n",
      "\n",
      "features_10\n",
      "kernels\n",
      "FORCE\n",
      "0.01\n",
      "0.2292895765592979\n",
      "\n",
      "\n",
      "features_3\n",
      "kernels\n",
      "FORCE\n",
      "0.5\n",
      "0.8705611388643649\n",
      "\n",
      "\n",
      "features_6\n",
      "kernels\n",
      "FORCE\n",
      "0.1\n",
      "0.706794592810295\n",
      "\n",
      "\n",
      "features_6\n",
      "kernels\n",
      "FORCE\n",
      "0.2\n",
      "0.8308821695848787\n",
      "\n",
      "\n",
      "features_8\n",
      "kernels\n",
      "FORCE\n",
      "0.5\n",
      "0.9999990811779893\n",
      "\n",
      "\n",
      "features_3\n",
      "kernels\n",
      "FORCE\n",
      "0.2\n",
      "0.39538148613003476\n",
      "\n",
      "\n",
      "features_6\n",
      "kernels\n",
      "FORCE\n",
      "0.01\n",
      "0.3150603218468261\n",
      "\n",
      "\n",
      "features_10\n",
      "kernels\n",
      "FORCE\n",
      "0.005\n",
      "0.28927416454390154\n",
      "\n",
      "\n",
      "features_8\n",
      "kernels\n",
      "FORCE\n",
      "0.001\n",
      "0.07336135242725422\n",
      "\n",
      "\n",
      "features_10\n",
      "kernels\n",
      "FORCE\n",
      "0.001\n",
      "-0.11385009988951608\n",
      "\n",
      "\n",
      "features_3\n",
      "kernels\n",
      "FORCE\n",
      "0.001\n",
      "-0.24548852152282996\n",
      "\n",
      "\n",
      "features_8\n",
      "kernels\n",
      "FORCE\n",
      "0.001\n",
      "-0.04538238706647246\n",
      "\n",
      "\n",
      "features_8\n",
      "kernels\n",
      "FORCE\n",
      "0.5\n",
      "0.9999549491556501\n",
      "\n",
      "\n",
      "features_3\n",
      "kernels\n",
      "FORCE\n",
      "0.5\n",
      "0.9095885921886657\n",
      "\n",
      "\n",
      "features_8\n",
      "kernels\n",
      "FORCE\n",
      "0.5\n",
      "0.999996224244946\n",
      "\n",
      "\n",
      "features_3\n",
      "kernels\n",
      "FORCE\n",
      "0.2\n",
      "0.2608155765780278\n",
      "\n",
      "\n",
      "features_6\n",
      "kernels\n",
      "FORCE\n",
      "0.5\n",
      "0.9995071807432062\n",
      "\n",
      "\n",
      "features_6\n",
      "kernels\n",
      "FORCE\n",
      "0.5\n",
      "0.9998544430450909\n",
      "\n",
      "\n",
      "features_6\n",
      "kernels\n",
      "FORCE\n",
      "0.01\n",
      "0.11961054727311062\n",
      "\n",
      "\n",
      "features_3\n",
      "kernels\n",
      "FORCE\n",
      "0.01\n",
      "0.46029315188704845\n",
      "\n",
      "\n",
      "features_6\n",
      "kernels\n",
      "FORCE\n",
      "0.2\n",
      "0.9233912144691507\n",
      "\n",
      "\n",
      "features_6\n",
      "kernels\n",
      "FORCE\n",
      "0.01\n",
      "-0.09124266051428648\n",
      "\n",
      "\n",
      "features_8\n",
      "kernels\n",
      "FORCE\n",
      "0.001\n",
      "0.4183711806263183\n",
      "\n",
      "\n",
      "features_6\n",
      "kernels\n",
      "FORCE\n",
      "0.1\n",
      "0.7667651301078398\n",
      "\n",
      "\n",
      "features_3\n",
      "kernels\n",
      "FORCE\n",
      "0.5\n",
      "0.9010061390791534\n",
      "\n",
      "\n",
      "features_10\n",
      "kernels\n",
      "FORCE\n",
      "0.001\n",
      "-0.15225350443197694\n",
      "\n",
      "\n",
      "features_10\n",
      "kernels\n",
      "FORCE\n",
      "0.05\n",
      "0.5168918416698924\n",
      "\n",
      "\n",
      "features_8\n",
      "kernels\n",
      "FORCE\n",
      "0.1\n",
      "0.6256757126295748\n",
      "\n",
      "\n",
      "features_3\n",
      "kernels\n",
      "FORCE\n",
      "0.2\n",
      "0.9336880687072991\n",
      "\n",
      "\n",
      "features_6\n",
      "kernels\n",
      "FORCE\n",
      "0.05\n",
      "0.7560348282136755\n",
      "\n",
      "\n",
      "features_10\n",
      "kernels\n",
      "FORCE\n",
      "0.05\n",
      "0.4706188740690538\n",
      "\n",
      "\n",
      "features_6\n",
      "kernels\n",
      "FORCE\n",
      "0.5\n",
      "0.9999980676361077\n",
      "\n",
      "\n",
      "features_3\n",
      "kernels\n",
      "FORCE\n",
      "0.2\n",
      "0.8502012142895874\n",
      "\n",
      "\n",
      "features_3\n",
      "kernels\n",
      "FORCE\n",
      "0.05\n",
      "0.6665080090141617\n",
      "\n",
      "\n",
      "features_10\n",
      "kernels\n",
      "FORCE\n",
      "0.2\n",
      "0.8865591042812307\n",
      "\n",
      "\n",
      "features_8\n",
      "kernels\n",
      "FORCE\n",
      "0.05\n",
      "0.3718580482450421\n",
      "\n",
      "\n",
      "features_8\n",
      "kernels\n",
      "FORCE\n",
      "0.05\n",
      "0.5543138166941255\n",
      "\n",
      "\n",
      "features_8\n",
      "kernels\n",
      "FORCE\n",
      "0.005\n",
      "0.09244455917876353\n",
      "\n",
      "\n",
      "features_6\n",
      "kernels\n",
      "FORCE\n",
      "0.001\n",
      "0.07494162838717162\n",
      "\n",
      "\n",
      "features_3\n",
      "kernels\n",
      "FORCE\n",
      "0.1\n",
      "-0.04272333809601512\n",
      "\n",
      "\n",
      "features_6\n",
      "kernels\n",
      "FORCE\n",
      "0.01\n",
      "-0.04476840520142481\n",
      "\n",
      "\n",
      "features_3\n",
      "kernels\n",
      "FORCE\n",
      "0.05\n",
      "0.24476494354192285\n",
      "\n",
      "\n",
      "features_10\n",
      "kernels\n",
      "FORCE\n",
      "0.05\n",
      "0.46330652587821264\n",
      "\n",
      "\n",
      "features_6\n",
      "kernels\n",
      "FORCE\n",
      "0.5\n",
      "0.9999983166311145\n",
      "\n",
      "\n",
      "features_10\n",
      "kernels\n",
      "FORCE\n",
      "0.2\n",
      "0.8211747162441638\n",
      "\n",
      "\n",
      "features_6\n",
      "kernels\n",
      "FORCE\n",
      "0.1\n",
      "0.7151081921384067\n",
      "\n",
      "\n",
      "features_6\n",
      "kernels\n",
      "FORCE\n",
      "0.001\n",
      "-0.003449223582683114\n",
      "\n",
      "\n",
      "features_6\n",
      "kernels\n",
      "FORCE\n",
      "0.5\n",
      "0.9999966444669691\n",
      "\n",
      "\n",
      "features_10\n",
      "kernels\n",
      "FORCE\n",
      "0.005\n",
      "0.11596020862524499\n",
      "\n",
      "\n",
      "features_8\n",
      "kernels\n",
      "FORCE\n",
      "0.001\n",
      "0.10254682409859285\n",
      "\n",
      "\n",
      "features_8\n",
      "kernels\n",
      "FORCE\n",
      "0.001\n",
      "-0.134851770046864\n",
      "\n",
      "\n",
      "features_3\n",
      "kernels\n",
      "FORCE\n",
      "0.5\n",
      "0.8825856130184925\n",
      "\n",
      "\n",
      "features_3\n",
      "kernels\n",
      "FORCE\n",
      "0.2\n",
      "0.9361069744941187\n",
      "\n",
      "\n",
      "features_10\n",
      "kernels\n",
      "FORCE\n",
      "0.005\n",
      "-0.15402898262072562\n",
      "\n",
      "\n",
      "features_3\n",
      "kernels\n",
      "FORCE\n",
      "0.001\n",
      "-0.09211793117670354\n",
      "\n",
      "\n",
      "features_6\n",
      "kernels\n",
      "FORCE\n",
      "0.5\n",
      "0.999871675065352\n",
      "\n",
      "\n",
      "features_8\n",
      "kernels\n",
      "FORCE\n",
      "0.1\n",
      "0.7603738174482024\n",
      "\n",
      "\n",
      "features_10\n",
      "kernels\n",
      "FORCE\n",
      "0.2\n",
      "0.7066995785029094\n",
      "\n",
      "\n",
      "features_3\n",
      "kernels\n",
      "FORCE\n",
      "0.5\n",
      "0.9802724902752631\n",
      "\n",
      "\n",
      "features_10\n",
      "kernels\n",
      "FORCE\n",
      "0.5\n",
      "0.9997016074516254\n",
      "\n",
      "\n",
      "features_6\n",
      "kernels\n",
      "FORCE\n",
      "0.005\n",
      "0.00042330765615498185\n",
      "\n",
      "\n",
      "features_8\n",
      "kernels\n",
      "FORCE\n",
      "0.1\n",
      "0.7734469470944414\n",
      "\n",
      "\n",
      "features_10\n",
      "kernels\n",
      "FORCE\n",
      "0.5\n",
      "0.9999792668707403\n",
      "\n",
      "\n",
      "features_6\n",
      "kernels\n",
      "FORCE\n",
      "0.5\n",
      "0.9964540363957188\n",
      "\n",
      "\n",
      "features_8\n",
      "kernels\n",
      "FORCE\n",
      "0.005\n",
      "0.05000626112783697\n",
      "\n",
      "\n",
      "features_3\n",
      "kernels\n",
      "FORCE\n",
      "0.005\n",
      "0.7574423539648041\n",
      "\n",
      "\n",
      "features_10\n",
      "kernels\n",
      "FORCE\n",
      "0.05\n",
      "0.4604018032202287\n",
      "\n",
      "\n",
      "features_6\n",
      "kernels\n",
      "FORCE\n",
      "0.5\n",
      "0.9995008074682\n",
      "\n",
      "\n",
      "features_10\n",
      "kernels\n",
      "FORCE\n",
      "0.01\n",
      "0.006011010093267432\n",
      "\n",
      "\n",
      "features_8\n",
      "kernels\n",
      "FORCE\n",
      "0.01\n",
      "-0.002206255693370636\n",
      "\n",
      "\n",
      "features_3\n",
      "kernels\n",
      "FORCE\n",
      "0.05\n",
      "0.794475320044089\n",
      "\n",
      "\n",
      "features_10\n",
      "kernels\n",
      "FORCE\n",
      "0.001\n",
      "-0.08403795735059959\n",
      "\n",
      "\n",
      "features_10\n",
      "kernels\n",
      "FORCE\n",
      "0.2\n",
      "0.71670083829098\n",
      "\n",
      "\n",
      "features_8\n",
      "kernels\n",
      "FORCE\n",
      "0.1\n",
      "0.6130682914290078\n",
      "\n",
      "\n",
      "features_3\n",
      "kernels\n",
      "FORCE\n",
      "0.5\n"
     ]
    },
    {
     "name": "stdout",
     "output_type": "stream",
     "text": [
      "0.9672833819755993\n",
      "\n",
      "\n",
      "features_3\n",
      "kernels\n",
      "FORCE\n",
      "0.1\n",
      "0.5933503650873075\n",
      "\n",
      "\n",
      "features_6\n",
      "kernels\n",
      "FORCE\n",
      "0.1\n",
      "0.5838355193108475\n",
      "\n",
      "\n",
      "features_10\n",
      "kernels\n",
      "FORCE\n",
      "0.01\n",
      "0.13624742225130718\n",
      "\n",
      "\n",
      "features_6\n",
      "kernels\n",
      "FORCE\n",
      "0.2\n",
      "0.9289779717076436\n",
      "\n",
      "\n",
      "features_10\n",
      "kernels\n",
      "FORCE\n",
      "0.05\n",
      "0.24635720181181997\n",
      "\n",
      "\n",
      "features_10\n",
      "kernels\n",
      "FORCE\n",
      "0.005\n",
      "-0.02019008114487635\n",
      "\n",
      "\n",
      "features_3\n",
      "kernels\n",
      "FORCE\n",
      "0.01\n",
      "-0.008729066399888283\n",
      "\n",
      "\n",
      "features_8\n",
      "kernels\n",
      "FORCE\n",
      "0.05\n",
      "0.5710473398125322\n",
      "\n",
      "\n",
      "features_3\n",
      "kernels\n",
      "FORCE\n",
      "0.005\n",
      "0.4212752529252484\n",
      "\n",
      "\n",
      "features_10\n",
      "kernels\n",
      "FORCE\n",
      "0.01\n",
      "0.13735982676663794\n",
      "\n",
      "\n",
      "features_10\n",
      "kernels\n",
      "FORCE\n",
      "0.5\n",
      "0.9999568742230129\n",
      "\n",
      "\n",
      "features_6\n",
      "kernels\n",
      "FORCE\n",
      "0.01\n",
      "0.19489364435664702\n",
      "\n",
      "\n",
      "features_6\n",
      "kernels\n",
      "FORCE\n",
      "0.001\n",
      "0.0753837058572544\n",
      "\n",
      "\n",
      "features_8\n",
      "kernels\n",
      "FORCE\n",
      "0.1\n",
      "0.7439927638181418\n",
      "\n",
      "\n",
      "features_3\n",
      "kernels\n",
      "FORCE\n",
      "0.005\n",
      "0.12371833933480449\n",
      "\n",
      "\n",
      "features_8\n",
      "kernels\n",
      "FORCE\n",
      "0.1\n",
      "0.8460741157993923\n",
      "\n",
      "\n",
      "features_3\n",
      "kernels\n",
      "FORCE\n",
      "0.01\n",
      "0.20581648138478237\n",
      "\n",
      "\n",
      "features_6\n",
      "kernels\n",
      "FORCE\n",
      "0.1\n",
      "0.8565356815062778\n",
      "\n",
      "\n",
      "features_6\n",
      "kernels\n",
      "FORCE\n",
      "0.01\n",
      "0.2817671890974205\n",
      "\n",
      "\n",
      "features_3\n",
      "kernels\n",
      "FORCE\n",
      "0.001\n",
      "-0.04121242504452672\n",
      "\n",
      "\n",
      "features_3\n",
      "kernels\n",
      "FORCE\n",
      "0.5\n",
      "0.9509664295343448\n",
      "\n",
      "\n",
      "features_8\n",
      "kernels\n",
      "FORCE\n",
      "0.1\n",
      "0.5630064326078025\n",
      "\n",
      "\n",
      "features_6\n",
      "kernels\n",
      "FORCE\n",
      "0.001\n",
      "-0.06898141664765334\n",
      "\n",
      "\n",
      "features_8\n",
      "kernels\n",
      "FORCE\n",
      "0.005\n",
      "-0.29835612430138464\n",
      "\n",
      "\n",
      "features_8\n",
      "kernels\n",
      "FORCE\n",
      "0.01\n",
      "-0.10826595655146859\n",
      "\n",
      "\n",
      "features_8\n",
      "kernels\n",
      "FORCE\n",
      "0.5\n",
      "0.9999874279085625\n",
      "\n",
      "\n",
      "features_8\n",
      "kernels\n",
      "FORCE\n",
      "0.5\n",
      "0.9999712807129357\n",
      "\n",
      "\n",
      "features_3\n",
      "kernels\n",
      "FORCE\n",
      "0.001\n",
      "0.049585256680518955\n",
      "\n",
      "\n",
      "features_10\n",
      "kernels\n",
      "FORCE\n",
      "0.1\n",
      "0.47601785724894924\n",
      "\n",
      "\n",
      "features_6\n",
      "kernels\n",
      "FORCE\n",
      "0.5\n",
      "0.9992246310918522\n",
      "\n",
      "\n",
      "features_6\n",
      "kernels\n",
      "FORCE\n",
      "0.01\n",
      "0.01361064240072718\n",
      "\n",
      "\n",
      "features_8\n",
      "kernels\n",
      "FORCE\n",
      "0.001\n",
      "0.3374070877735359\n",
      "\n",
      "\n",
      "features_8\n",
      "kernels\n",
      "FORCE\n",
      "0.005\n",
      "-0.015627543010183348\n",
      "\n",
      "\n",
      "features_10\n",
      "kernels\n",
      "FORCE\n",
      "0.001\n",
      "-0.17679452105241752\n",
      "\n",
      "\n",
      "features_3\n",
      "kernels\n",
      "FORCE\n",
      "0.2\n",
      "0.9452739095630001\n",
      "\n",
      "\n",
      "features_3\n",
      "kernels\n",
      "FORCE\n",
      "0.01\n",
      "0.4884459814032536\n",
      "\n",
      "\n",
      "features_3\n",
      "kernels\n",
      "FORCE\n",
      "0.5\n",
      "0.9867142706753512\n",
      "\n",
      "\n",
      "features_8\n",
      "kernels\n",
      "FORCE\n",
      "0.001\n",
      "-0.0913522002771727\n",
      "\n",
      "\n",
      "features_3\n",
      "kernels\n",
      "FORCE\n",
      "0.05\n",
      "0.32288307260226107\n",
      "\n",
      "\n",
      "features_3\n",
      "kernels\n",
      "FORCE\n",
      "0.2\n",
      "0.8098251813236417\n",
      "\n",
      "\n",
      "features_8\n",
      "kernels\n",
      "FORCE\n",
      "0.005\n",
      "0.3575339192625713\n",
      "\n",
      "\n",
      "features_10\n",
      "kernels\n",
      "FORCE\n",
      "0.01\n",
      "0.1679163110865714\n",
      "\n",
      "\n",
      "features_10\n",
      "kernels\n",
      "FORCE\n",
      "0.05\n",
      "0.4328358176607199\n",
      "\n",
      "\n",
      "features_3\n",
      "kernels\n",
      "FORCE\n",
      "0.2\n",
      "0.5373268170409502\n",
      "\n",
      "\n",
      "features_8\n",
      "kernels\n",
      "FORCE\n",
      "0.1\n",
      "0.6719924627808337\n",
      "\n",
      "\n",
      "features_3\n",
      "kernels\n",
      "FORCE\n",
      "0.001\n",
      "0.12125788121884622\n",
      "\n",
      "\n",
      "features_10\n",
      "kernels\n",
      "FORCE\n",
      "0.2\n",
      "0.8589699809855879\n",
      "\n",
      "\n",
      "features_8\n",
      "kernels\n",
      "FORCE\n",
      "0.001\n",
      "-0.05325558162996434\n",
      "\n",
      "\n",
      "features_3\n",
      "kernels\n",
      "FORCE\n",
      "0.005\n",
      "0.0\n",
      "\n",
      "\n",
      "features_6\n",
      "kernels\n",
      "FORCE\n",
      "0.001\n",
      "0.12805219238712814\n",
      "\n",
      "\n",
      "features_6\n",
      "kernels\n",
      "FORCE\n",
      "0.005\n",
      "-0.4103330112841212\n",
      "\n",
      "\n",
      "features_6\n",
      "kernels\n",
      "FORCE\n",
      "0.1\n",
      "0.6391029902140908\n",
      "\n",
      "\n",
      "features_6\n",
      "kernels\n",
      "FORCE\n",
      "0.005\n",
      "0.41611199389252956\n",
      "\n",
      "\n",
      "features_8\n",
      "kernels\n",
      "FORCE\n",
      "0.001\n",
      "-0.18308377322399438\n",
      "\n",
      "\n",
      "features_8\n",
      "kernels\n",
      "FORCE\n",
      "0.1\n",
      "0.6433076627642151\n",
      "\n",
      "\n",
      "features_10\n",
      "kernels\n",
      "FORCE\n",
      "0.5\n",
      "0.999929714089903\n",
      "\n",
      "\n",
      "features_10\n",
      "kernels\n",
      "FORCE\n",
      "0.01\n",
      "0.057592244837164554\n",
      "\n",
      "\n",
      "features_3\n",
      "kernels\n",
      "FORCE\n",
      "0.5\n",
      "0.9847384669014553\n",
      "\n",
      "\n",
      "features_6\n",
      "kernels\n",
      "FORCE\n",
      "0.01\n",
      "0.44670718699232737\n",
      "\n",
      "\n",
      "features_6\n",
      "kernels\n",
      "FORCE\n",
      "0.01\n",
      "0.4437698933885348\n",
      "\n",
      "\n",
      "features_10\n",
      "kernels\n",
      "FORCE\n",
      "0.05\n",
      "0.5065539680040877\n",
      "\n",
      "\n",
      "features_8\n",
      "kernels\n",
      "FORCE\n",
      "0.5\n",
      "0.9999670786661885\n",
      "\n",
      "\n",
      "features_3\n",
      "kernels\n",
      "FORCE\n",
      "0.5\n",
      "0.8790611033553672\n",
      "\n",
      "\n",
      "features_6\n",
      "kernels\n",
      "FORCE\n",
      "0.005\n",
      "0.23869584602860738\n",
      "\n",
      "\n",
      "features_10\n",
      "kernels\n",
      "FORCE\n",
      "0.2\n",
      "0.6986297076757164\n",
      "\n",
      "\n",
      "features_10\n",
      "kernels\n",
      "FORCE\n",
      "0.005\n",
      "0.1297709192384398\n",
      "\n",
      "\n",
      "features_6\n",
      "kernels\n",
      "FORCE\n",
      "0.001\n",
      "-0.052816326304272285\n",
      "\n",
      "\n",
      "features_8\n",
      "kernels\n",
      "FORCE\n",
      "0.1\n",
      "0.6897306662427601\n",
      "\n",
      "\n",
      "features_3\n",
      "kernels\n",
      "FORCE\n",
      "0.05\n",
      "-0.2707851845119515\n",
      "\n",
      "\n",
      "features_10\n",
      "kernels\n",
      "FORCE\n",
      "0.001\n",
      "-0.14992096750686487\n",
      "\n",
      "\n",
      "features_3\n",
      "kernels\n",
      "FORCE\n",
      "0.005\n",
      "0.0714594431148089\n",
      "\n",
      "\n",
      "features_3\n",
      "kernels\n",
      "FORCE\n",
      "0.5\n",
      "0.9999956507479602\n",
      "\n",
      "\n",
      "features_3\n",
      "kernels\n",
      "FORCE\n",
      "0.001\n",
      "0.0\n",
      "\n",
      "\n",
      "features_6\n",
      "kernels\n",
      "FORCE\n",
      "0.05\n",
      "0.6964769423278089\n",
      "\n",
      "\n",
      "features_10\n",
      "kernels\n",
      "FORCE\n",
      "0.001\n",
      "0.003118096713210779\n",
      "\n",
      "\n",
      "features_6\n",
      "kernels\n",
      "FORCE\n",
      "0.2\n",
      "0.9396782444199101\n",
      "\n",
      "\n",
      "features_10\n",
      "kernels\n",
      "FORCE\n",
      "0.1\n",
      "0.5659768598022872\n",
      "\n",
      "\n",
      "features_8\n",
      "kernels\n",
      "FORCE\n",
      "0.2\n",
      "0.9221018566292004\n",
      "\n",
      "\n",
      "features_3\n",
      "kernels\n",
      "FORCE\n",
      "0.01\n",
      "0.2120260240608794\n",
      "\n",
      "\n",
      "features_10\n",
      "kernels\n",
      "FORCE\n",
      "0.005\n",
      "0.14202010776841853\n",
      "\n",
      "\n",
      "features_10\n",
      "kernels\n",
      "FORCE\n",
      "0.2\n",
      "0.8437962368654577\n",
      "\n",
      "\n",
      "features_8\n",
      "kernels\n",
      "FORCE\n",
      "0.05\n",
      "0.47113713739778557\n",
      "\n",
      "\n",
      "features_6\n",
      "kernels\n",
      "FORCE\n",
      "0.005\n",
      "0.13877922229951814\n",
      "\n",
      "\n",
      "features_8\n",
      "kernels\n",
      "FORCE\n",
      "0.05\n",
      "0.6106345110862881\n",
      "\n",
      "\n",
      "features_6\n",
      "kernels\n",
      "FORCE\n",
      "0.001\n",
      "0.7212592521535985\n",
      "\n",
      "\n",
      "features_10\n",
      "kernels\n",
      "FORCE\n",
      "0.2\n",
      "0.7367941212261949\n",
      "\n",
      "\n",
      "features_3\n",
      "kernels\n",
      "FORCE\n",
      "0.05\n",
      "-0.09982311803561124\n",
      "\n",
      "\n",
      "features_6\n",
      "kernels\n",
      "FORCE\n",
      "0.001\n",
      "0.1045827149139766\n",
      "\n",
      "\n",
      "features_8\n",
      "kernels\n",
      "FORCE\n",
      "0.5\n",
      "0.9999923146092273\n",
      "\n",
      "\n",
      "features_6\n",
      "kernels\n",
      "FORCE\n",
      "0.05\n",
      "0.570765152597619\n",
      "\n",
      "\n",
      "features_10\n",
      "kernels\n",
      "FORCE\n",
      "0.2\n",
      "0.7195509247516506\n",
      "\n",
      "\n",
      "features_8\n",
      "kernels\n",
      "FORCE\n",
      "0.5\n",
      "0.9999829599369772\n",
      "\n",
      "\n",
      "features_3\n",
      "kernels\n",
      "FORCE\n",
      "0.05\n",
      "0.22219883537072962\n",
      "\n",
      "\n",
      "features_3\n",
      "kernels\n",
      "FORCE\n",
      "0.2\n",
      "0.158565089644077\n",
      "\n",
      "\n",
      "features_8\n",
      "kernels\n",
      "FORCE\n",
      "0.05\n",
      "0.39544315804760943\n",
      "\n",
      "\n",
      "features_10\n",
      "kernels\n",
      "FORCE\n",
      "0.5\n",
      "0.9996780135435266\n",
      "\n",
      "\n",
      "features_3\n",
      "kernels\n",
      "FORCE\n",
      "0.05\n",
      "-0.1409427867067066\n",
      "\n",
      "\n",
      "features_10\n",
      "kernels\n",
      "FORCE\n",
      "0.001\n",
      "-0.05636629294389489\n",
      "\n",
      "\n",
      "features_8\n",
      "kernels\n",
      "FORCE\n",
      "0.05\n",
      "0.6425115508050722\n",
      "\n",
      "\n",
      "features_10\n",
      "kernels\n",
      "FORCE\n",
      "0.005\n",
      "-0.044251008086043944\n",
      "\n",
      "\n",
      "features_3\n",
      "kernels\n",
      "FORCE\n",
      "0.001\n",
      "0.1274392763348443\n",
      "\n",
      "\n",
      "features_6\n",
      "kernels\n",
      "FORCE\n",
      "0.2\n",
      "0.9125136863880412\n",
      "\n",
      "\n",
      "features_6\n",
      "kernels\n",
      "FORCE\n",
      "0.005\n",
      "0.1053866970888965\n",
      "\n",
      "\n",
      "features_3\n",
      "kernels\n",
      "FORCE\n",
      "0.005\n",
      "-0.04121242504452672\n",
      "\n",
      "\n",
      "features_3\n",
      "kernels\n",
      "FORCE\n",
      "0.5\n",
      "0.9915664249641022\n",
      "\n",
      "\n",
      "features_6\n",
      "kernels\n",
      "FORCE\n",
      "0.01\n",
      "0.3794946974515156\n",
      "\n",
      "\n",
      "features_8\n",
      "kernels\n",
      "FORCE\n",
      "0.05\n",
      "0.3196795131665218\n",
      "\n",
      "\n",
      "features_3\n",
      "kernels\n",
      "FORCE\n",
      "0.5\n",
      "0.9881567161363072\n",
      "\n",
      "\n",
      "features_10\n",
      "kernels\n",
      "FORCE\n",
      "0.005\n",
      "0.08815622858167076\n",
      "\n",
      "\n",
      "features_8\n",
      "kernels\n",
      "FORCE\n",
      "0.01\n",
      "-0.05826620762258802\n",
      "\n",
      "\n",
      "features_3\n",
      "kernels\n",
      "FORCE\n",
      "0.05\n",
      "0.11826199361352865\n",
      "\n",
      "\n",
      "features_10\n",
      "kernels\n",
      "FORCE\n",
      "0.001\n",
      "0.1443884173011332\n",
      "\n",
      "\n",
      "features_8\n",
      "kernels\n",
      "FORCE\n",
      "0.005\n",
      "0.2823569646569738\n",
      "\n",
      "\n",
      "features_10\n",
      "kernels\n",
      "FORCE\n",
      "0.01\n",
      "0.15943961776562104\n",
      "\n",
      "\n",
      "features_3\n",
      "kernels\n",
      "FORCE\n",
      "0.5\n",
      "0.9912178229670681\n",
      "\n",
      "\n",
      "features_10\n",
      "kernels\n",
      "FORCE\n",
      "0.2\n",
      "0.8252192807414356\n",
      "\n",
      "\n",
      "features_6\n",
      "kernels\n",
      "FORCE\n",
      "0.005\n",
      "0.587232774956318\n",
      "\n",
      "\n",
      "features_6\n",
      "kernels\n",
      "FORCE\n",
      "0.05\n",
      "0.5262648651710082\n",
      "\n",
      "\n",
      "features_6\n",
      "kernels\n",
      "FORCE\n",
      "0.05\n",
      "0.6226365068103952\n",
      "\n",
      "\n",
      "features_10\n",
      "kernels\n",
      "FORCE\n",
      "0.001\n",
      "-0.03271492582744378\n",
      "\n",
      "\n",
      "features_8\n",
      "kernels\n",
      "FORCE\n",
      "0.1\n",
      "0.8063222110147517\n",
      "\n",
      "\n",
      "features_10\n",
      "kernels\n",
      "FORCE\n",
      "0.1\n",
      "0.5980187734661272\n",
      "\n",
      "\n",
      "features_8\n",
      "kernels\n",
      "FORCE\n",
      "0.1\n",
      "0.6739211016153485\n",
      "\n",
      "\n",
      "features_10\n",
      "kernels\n",
      "FORCE\n",
      "0.05\n",
      "0.2901285640112888\n",
      "\n",
      "\n",
      "features_6\n",
      "kernels\n",
      "FORCE\n",
      "0.005\n",
      "0.09839128745435781\n",
      "\n",
      "\n",
      "features_8\n",
      "kernels\n",
      "FORCE\n",
      "0.05\n",
      "0.4695254832262559\n",
      "\n",
      "\n",
      "features_3\n",
      "kernels\n",
      "FORCE\n",
      "0.01\n",
      "0.0\n",
      "\n",
      "\n",
      "features_10\n",
      "kernels\n",
      "FORCE\n",
      "0.005\n",
      "-0.028085508674237425\n",
      "\n",
      "\n",
      "features_6\n",
      "kernels\n",
      "FORCE\n",
      "0.05\n",
      "0.49306584992385666\n",
      "\n",
      "\n",
      "features_3\n",
      "kernels\n",
      "FORCE\n",
      "0.2\n",
      "0.9829372803300493\n",
      "\n",
      "\n",
      "features_6\n",
      "kernels\n",
      "FORCE\n",
      "0.2\n",
      "0.9748717637176938\n",
      "\n",
      "\n",
      "features_10\n",
      "kernels\n",
      "FORCE\n",
      "0.005\n",
      "0.00030754730694188773\n",
      "\n",
      "\n",
      "features_3\n",
      "kernels\n",
      "FORCE\n",
      "0.2\n",
      "0.9449956514611443\n",
      "\n",
      "\n",
      "features_8\n",
      "kernels\n",
      "FORCE\n",
      "0.05\n",
      "0.5554195232169351\n",
      "\n",
      "\n",
      "features_6\n",
      "kernels\n",
      "FORCE\n",
      "0.2\n",
      "0.934907304517063\n",
      "\n",
      "\n",
      "features_3\n",
      "kernels\n",
      "FORCE\n",
      "0.005\n",
      "0.4212752529252484\n",
      "\n",
      "\n",
      "features_8\n",
      "kernels\n",
      "FORCE\n",
      "0.2\n",
      "0.8762992751843014\n",
      "\n",
      "\n",
      "features_3\n",
      "kernels\n",
      "FORCE\n",
      "0.01\n",
      "-0.15919999112604494\n",
      "\n",
      "\n",
      "features_8\n",
      "kernels\n",
      "FORCE\n",
      "0.2\n",
      "0.9103175795852434\n",
      "\n",
      "\n",
      "features_3\n",
      "kernels\n",
      "FORCE\n",
      "0.1\n",
      "0.7212400981024735\n",
      "\n",
      "\n",
      "features_8\n",
      "kernels\n",
      "FORCE\n",
      "0.005\n",
      "-0.05943016325633532\n",
      "\n",
      "\n",
      "features_8\n",
      "kernels\n",
      "FORCE\n",
      "0.2\n",
      "0.7913761895019932\n",
      "\n",
      "\n",
      "features_6\n",
      "kernels\n",
      "FORCE\n",
      "0.2\n",
      "0.9961474625140576\n",
      "\n",
      "\n",
      "features_8\n",
      "kernels\n",
      "FORCE\n",
      "0.2\n",
      "0.9048267235879126\n",
      "\n",
      "\n",
      "features_6\n",
      "kernels\n",
      "FORCE\n",
      "0.1\n",
      "0.9405518915413412\n",
      "\n",
      "\n",
      "features_6\n",
      "kernels\n",
      "FORCE\n",
      "0.5\n",
      "0.9989377468708239\n",
      "\n",
      "\n",
      "features_6\n",
      "kernels\n",
      "FORCE\n",
      "0.001\n",
      "0.46329648243341565\n",
      "\n",
      "\n",
      "features_8\n",
      "kernels\n",
      "FORCE\n",
      "0.2\n",
      "0.8803672946144245\n",
      "\n",
      "\n",
      "features_3\n",
      "kernels\n",
      "FORCE\n",
      "0.2\n",
      "0.8770616284903228\n",
      "\n",
      "\n",
      "features_10\n",
      "kernels\n",
      "FORCE\n",
      "0.1\n",
      "0.42566447050002043\n",
      "\n",
      "\n",
      "features_6\n",
      "kernels\n",
      "FORCE\n",
      "0.001\n",
      "0.0033376692021717834\n",
      "\n",
      "\n",
      "features_8\n",
      "kernels\n",
      "FORCE\n",
      "0.5\n",
      "0.9999918487307415\n",
      "\n",
      "\n",
      "features_6\n",
      "kernels\n",
      "FORCE\n",
      "0.05\n",
      "0.5537434168912025\n",
      "\n",
      "\n",
      "features_10\n",
      "kernels\n",
      "FORCE\n",
      "0.005\n",
      "-0.03211002404499264\n",
      "\n",
      "\n",
      "features_3\n",
      "kernels\n",
      "FORCE\n",
      "0.1\n",
      "0.8619439750357772\n",
      "\n",
      "\n",
      "features_10\n",
      "kernels\n",
      "FORCE\n",
      "0.1\n",
      "0.7105295165939863\n",
      "\n",
      "\n",
      "features_10\n",
      "kernels\n",
      "FORCE\n",
      "0.01\n",
      "-0.07914188286860468\n",
      "\n",
      "\n",
      "features_3\n",
      "kernels\n",
      "FORCE\n",
      "0.1\n",
      "0.8749363514464803\n",
      "\n",
      "\n",
      "features_6\n",
      "kernels\n",
      "FORCE\n",
      "0.01\n",
      "0.7237684509426214\n",
      "\n",
      "\n",
      "features_8\n",
      "kernels\n",
      "FORCE\n",
      "0.01\n",
      "0.2917449622061157\n",
      "\n",
      "\n",
      "features_8\n",
      "kernels\n",
      "FORCE\n",
      "0.2\n",
      "0.9109922973841866\n",
      "\n",
      "\n",
      "features_8\n",
      "kernels\n",
      "FORCE\n",
      "0.1\n",
      "0.8404414599913925\n",
      "\n",
      "\n",
      "features_6\n",
      "kernels\n",
      "FORCE\n",
      "0.01\n",
      "0.09286654060510749\n",
      "\n",
      "\n",
      "features_3\n",
      "kernels\n",
      "FORCE\n",
      "0.005\n",
      "-0.0018863119457255182\n",
      "\n",
      "\n",
      "features_10\n",
      "kernels\n",
      "FORCE\n",
      "0.5\n",
      "0.9999628694362502\n",
      "\n",
      "\n",
      "features_3\n",
      "kernels\n",
      "FORCE\n",
      "0.5\n"
     ]
    },
    {
     "name": "stdout",
     "output_type": "stream",
     "text": [
      "0.772690665958508\n",
      "\n",
      "\n",
      "features_6\n",
      "kernels\n",
      "FORCE\n",
      "0.2\n",
      "0.8614157312324774\n",
      "\n",
      "\n",
      "features_6\n",
      "kernels\n",
      "FORCE\n",
      "0.05\n",
      "0.7206967826701853\n",
      "\n",
      "\n",
      "features_8\n",
      "kernels\n",
      "FORCE\n",
      "0.01\n",
      "0.010668971789019436\n",
      "\n",
      "\n",
      "features_6\n",
      "kernels\n",
      "FORCE\n",
      "0.2\n",
      "0.9914286447732372\n",
      "\n",
      "\n",
      "features_6\n",
      "kernels\n",
      "FORCE\n",
      "0.005\n",
      "0.22421455276727192\n",
      "\n",
      "\n",
      "features_6\n",
      "kernels\n",
      "FORCE\n",
      "0.2\n",
      "0.9106575514869408\n",
      "\n",
      "\n",
      "features_6\n",
      "kernels\n",
      "FORCE\n",
      "0.05\n",
      "0.21721473227784946\n",
      "\n",
      "\n",
      "features_8\n",
      "kernels\n",
      "FORCE\n",
      "0.005\n",
      "0.4493765126312408\n",
      "\n",
      "\n",
      "features_6\n",
      "kernels\n",
      "FORCE\n",
      "0.01\n",
      "0.6921164541468904\n",
      "\n",
      "\n",
      "features_10\n",
      "kernels\n",
      "FORCE\n",
      "0.1\n",
      "0.6778019173991354\n",
      "\n",
      "\n",
      "features_10\n",
      "kernels\n",
      "FORCE\n",
      "0.005\n",
      "0.09880873983358153\n",
      "\n",
      "\n",
      "features_6\n",
      "kernels\n",
      "FORCE\n",
      "0.1\n",
      "0.5334030661345874\n",
      "\n",
      "\n",
      "features_8\n",
      "kernels\n",
      "FORCE\n",
      "0.005\n",
      "0.19428989489681808\n",
      "\n",
      "\n",
      "features_10\n",
      "kernels\n",
      "FORCE\n",
      "0.1\n",
      "0.45749386442713147\n",
      "\n",
      "\n",
      "features_8\n",
      "kernels\n",
      "FORCE\n",
      "0.01\n",
      "0.16573121390906181\n",
      "\n",
      "\n",
      "features_6\n",
      "kernels\n",
      "FORCE\n",
      "0.05\n",
      "0.7233142067996179\n",
      "\n",
      "\n",
      "features_8\n",
      "kernels\n",
      "FORCE\n",
      "0.2\n",
      "0.9380760975767107\n",
      "\n",
      "\n",
      "features_3\n",
      "kernels\n",
      "FORCE\n",
      "0.001\n",
      "0.0\n",
      "\n",
      "\n",
      "features_6\n",
      "kernels\n",
      "FORCE\n",
      "0.1\n",
      "0.751743618348857\n",
      "\n",
      "\n",
      "features_3\n",
      "kernels\n",
      "FORCE\n",
      "0.1\n",
      "0.47095126723416\n",
      "\n",
      "\n",
      "features_3\n",
      "kernels\n",
      "FORCE\n",
      "0.1\n",
      "-0.06902160725754039\n",
      "\n",
      "\n",
      "features_8\n",
      "kernels\n",
      "FORCE\n",
      "0.1\n",
      "0.6649532291411109\n",
      "\n",
      "\n",
      "features_6\n",
      "kernels\n",
      "FORCE\n",
      "0.05\n",
      "0.6391360655896802\n",
      "\n",
      "\n",
      "features_8\n",
      "kernels\n",
      "FORCE\n",
      "0.05\n",
      "0.2886600353298996\n",
      "\n",
      "\n",
      "features_10\n",
      "kernels\n",
      "FORCE\n",
      "0.5\n",
      "0.9999367961592602\n",
      "\n",
      "\n",
      "features_6\n",
      "kernels\n",
      "FORCE\n",
      "0.001\n",
      "0.06006583310401444\n",
      "\n",
      "\n",
      "features_10\n",
      "kernels\n",
      "FORCE\n",
      "0.05\n",
      "0.343694985882667\n",
      "\n",
      "\n",
      "features_8\n",
      "kernels\n",
      "FORCE\n",
      "0.05\n",
      "0.4362309322412241\n",
      "\n",
      "\n",
      "features_8\n",
      "kernels\n",
      "FORCE\n",
      "0.05\n",
      "0.7612349254838063\n",
      "\n",
      "\n",
      "features_10\n",
      "kernels\n",
      "FORCE\n",
      "0.1\n",
      "0.44405660040135875\n",
      "\n",
      "\n",
      "features_3\n",
      "kernels\n",
      "FORCE\n",
      "0.2\n",
      "0.8748515663363026\n",
      "\n",
      "\n",
      "features_6\n",
      "kernels\n",
      "FORCE\n",
      "0.001\n",
      "0.07912601268786916\n",
      "\n",
      "\n",
      "features_6\n",
      "kernels\n",
      "FORCE\n",
      "0.05\n",
      "0.25722585167095124\n",
      "\n",
      "\n",
      "features_3\n",
      "kernels\n",
      "FORCE\n",
      "0.1\n",
      "0.8065321605052321\n",
      "\n",
      "\n",
      "features_10\n",
      "kernels\n",
      "FORCE\n",
      "0.05\n",
      "0.3044672905794504\n",
      "\n",
      "\n",
      "features_8\n",
      "kernels\n",
      "FORCE\n",
      "0.1\n",
      "0.6817226912131409\n",
      "\n",
      "\n",
      "features_10\n",
      "kernels\n",
      "FORCE\n",
      "0.001\n",
      "-0.12494049688934156\n",
      "\n",
      "\n",
      "features_3\n",
      "kernels\n",
      "FORCE\n",
      "0.01\n",
      "0.5797494000051866\n",
      "\n",
      "\n",
      "features_6\n",
      "kernels\n",
      "FORCE\n",
      "0.01\n",
      "0.2826478992303359\n",
      "\n",
      "\n",
      "features_10\n",
      "kernels\n",
      "FORCE\n",
      "0.001\n",
      "-0.015621020518090006\n",
      "\n",
      "\n",
      "features_3\n",
      "kernels\n",
      "FORCE\n",
      "0.005\n",
      "0.7930485467690522\n",
      "\n",
      "\n",
      "features_8\n",
      "kernels\n",
      "FORCE\n",
      "0.01\n",
      "0.025368279390655234\n",
      "\n",
      "\n",
      "features_6\n",
      "kernels\n",
      "FORCE\n",
      "0.2\n",
      "0.9794514463821987\n",
      "\n",
      "\n",
      "features_3\n",
      "kernels\n",
      "FORCE\n",
      "0.05\n",
      "0.8887848503773753\n",
      "\n",
      "\n",
      "features_6\n",
      "kernels\n",
      "FORCE\n",
      "0.001\n",
      "0.09836879478071094\n",
      "\n",
      "\n",
      "features_6\n",
      "kernels\n",
      "FORCE\n",
      "0.1\n",
      "0.7732693040602682\n",
      "\n",
      "\n",
      "features_8\n",
      "kernels\n",
      "FORCE\n",
      "0.001\n",
      "-0.25126272761498164\n",
      "\n",
      "\n",
      "features_10\n",
      "kernels\n",
      "FORCE\n",
      "0.01\n",
      "0.21372731094001576\n",
      "\n",
      "\n",
      "features_6\n",
      "kernels\n",
      "FORCE\n",
      "0.2\n",
      "0.805262419427058\n",
      "\n",
      "\n",
      "features_6\n",
      "kernels\n",
      "FORCE\n",
      "0.2\n",
      "0.8910841463007623\n",
      "\n",
      "\n",
      "features_3\n",
      "kernels\n",
      "FORCE\n",
      "0.01\n",
      "0.8050256285544192\n",
      "\n",
      "\n",
      "features_3\n",
      "kernels\n",
      "FORCE\n",
      "0.5\n",
      "0.9999745572297315\n",
      "\n",
      "\n",
      "features_8\n",
      "kernels\n",
      "FORCE\n",
      "0.05\n",
      "0.28867168645721347\n",
      "\n",
      "\n",
      "features_8\n",
      "kernels\n",
      "FORCE\n",
      "0.005\n",
      "0.16332184517025272\n",
      "\n",
      "\n",
      "features_10\n",
      "kernels\n",
      "FORCE\n",
      "0.05\n",
      "0.22386470161602345\n",
      "\n",
      "\n",
      "features_8\n",
      "kernels\n",
      "FORCE\n",
      "0.005\n",
      "0.1552847612138952\n",
      "\n",
      "\n",
      "features_3\n",
      "kernels\n",
      "FORCE\n",
      "0.05\n",
      "0.2154582870401146\n",
      "\n",
      "\n",
      "features_3\n",
      "kernels\n",
      "FORCE\n",
      "0.2\n",
      "0.7446837861947964\n",
      "\n",
      "\n",
      "features_10\n",
      "kernels\n",
      "FORCE\n",
      "0.2\n",
      "0.8806200892937519\n",
      "\n",
      "\n",
      "features_10\n",
      "kernels\n",
      "FORCE\n",
      "0.2\n",
      "0.8718819483031957\n",
      "\n",
      "\n",
      "features_10\n",
      "kernels\n",
      "FORCE\n",
      "0.2\n",
      "0.8885269370563844\n",
      "\n",
      "\n",
      "features_8\n",
      "kernels\n",
      "FORCE\n",
      "0.01\n",
      "0.33329299722875805\n",
      "\n",
      "\n",
      "features_8\n",
      "kernels\n",
      "FORCE\n",
      "0.005\n",
      "0.1802725939919219\n",
      "\n",
      "\n",
      "features_6\n",
      "kernels\n",
      "FORCE\n",
      "0.001\n",
      "0.003975073155580228\n",
      "\n",
      "\n",
      "features_10\n",
      "kernels\n",
      "FORCE\n",
      "0.5\n",
      "0.9999653457754134\n",
      "\n",
      "\n",
      "features_10\n",
      "kernels\n",
      "FORCE\n",
      "0.01\n",
      "0.1827793718016261\n",
      "\n",
      "\n",
      "features_6\n",
      "kernels\n",
      "FORCE\n",
      "0.001\n",
      "-0.0004481788012043221\n",
      "\n",
      "\n",
      "features_8\n",
      "kernels\n",
      "FORCE\n",
      "0.005\n",
      "0.040440607670678856\n",
      "\n",
      "\n",
      "features_3\n",
      "kernels\n",
      "FORCE\n",
      "0.2\n",
      "0.8466529879843324\n",
      "\n",
      "\n",
      "features_10\n",
      "kernels\n",
      "FORCE\n",
      "0.05\n",
      "0.4051350329611264\n",
      "\n",
      "\n",
      "features_8\n",
      "kernels\n",
      "FORCE\n",
      "0.05\n",
      "0.40875077800942405\n",
      "\n",
      "\n",
      "features_6\n",
      "kernels\n",
      "FORCE\n",
      "0.5\n",
      "0.9999991678362311\n",
      "\n",
      "\n",
      "features_3\n",
      "kernels\n",
      "FORCE\n",
      "0.005\n",
      "0.021896489790947972\n",
      "\n",
      "\n",
      "features_8\n",
      "kernels\n",
      "FORCE\n",
      "0.1\n",
      "0.7091288899687729\n",
      "\n",
      "\n",
      "features_8\n",
      "kernels\n",
      "FORCE\n",
      "0.005\n",
      "0.20456990686999835\n",
      "\n",
      "\n",
      "features_8\n",
      "kernels\n",
      "FORCE\n",
      "0.005\n",
      "0.2385780774900894\n",
      "\n",
      "\n",
      "features_3\n",
      "kernels\n",
      "FORCE\n",
      "0.01\n",
      "-0.0933969338491892\n",
      "\n",
      "\n",
      "features_6\n",
      "kernels\n",
      "FORCE\n",
      "0.01\n",
      "0.4689142877484805\n",
      "\n",
      "\n",
      "features_8\n",
      "kernels\n",
      "FORCE\n",
      "0.2\n",
      "0.8792900883969308\n",
      "\n",
      "\n",
      "features_8\n",
      "kernels\n",
      "FORCE\n",
      "0.5\n",
      "0.9999969987568222\n",
      "\n",
      "\n",
      "features_10\n",
      "kernels\n",
      "FORCE\n",
      "0.005\n",
      "0.16633848912023255\n",
      "\n",
      "\n",
      "features_8\n",
      "kernels\n",
      "FORCE\n",
      "0.005\n",
      "0.21921104718835818\n",
      "\n",
      "\n",
      "features_8\n",
      "kernels\n",
      "FORCE\n",
      "0.01\n",
      "0.06323175308388597\n",
      "\n",
      "\n",
      "features_3\n",
      "kernels\n",
      "FORCE\n",
      "0.1\n",
      "0.8943406823785274\n",
      "\n",
      "\n",
      "features_10\n",
      "kernels\n",
      "FORCE\n",
      "0.005\n",
      "0.038235349690824656\n",
      "\n",
      "\n",
      "features_10\n",
      "kernels\n",
      "FORCE\n",
      "0.1\n",
      "0.5885521801899977\n",
      "\n",
      "\n",
      "features_6\n",
      "kernels\n",
      "FORCE\n",
      "0.001\n",
      "0.08323209505364826\n",
      "\n",
      "\n",
      "features_8\n",
      "kernels\n",
      "FORCE\n",
      "0.005\n",
      "0.025248826987707224\n",
      "\n",
      "\n",
      "features_8\n",
      "kernels\n",
      "FORCE\n",
      "0.005\n",
      "0.12311577068838163\n",
      "\n",
      "\n",
      "features_6\n",
      "kernels\n",
      "FORCE\n",
      "0.5\n",
      "0.9999998901245488\n",
      "\n",
      "\n",
      "features_8\n",
      "kernels\n",
      "FORCE\n",
      "0.001\n",
      "0.1007556094731404\n",
      "\n",
      "\n",
      "features_10\n",
      "kernels\n",
      "FORCE\n",
      "0.05\n",
      "0.18177670111184846\n",
      "\n",
      "\n",
      "features_3\n",
      "kernels\n",
      "FORCE\n",
      "0.01\n",
      "0.4323774518360062\n",
      "\n",
      "\n",
      "features_6\n",
      "kernels\n",
      "FORCE\n",
      "0.5\n",
      "0.9999983144639488\n",
      "\n",
      "\n",
      "features_8\n",
      "kernels\n",
      "FORCE\n",
      "0.1\n",
      "0.8563415659264333\n",
      "\n",
      "\n",
      "features_6\n",
      "kernels\n",
      "FORCE\n",
      "0.005\n",
      "0.3520033141216687\n",
      "\n",
      "\n",
      "features_8\n",
      "kernels\n",
      "FORCE\n",
      "0.5\n",
      "0.999997066628497\n",
      "\n",
      "\n",
      "features_3\n",
      "kernels\n",
      "FORCE\n",
      "0.005\n",
      "0.0\n",
      "\n",
      "\n",
      "features_10\n",
      "kernels\n",
      "FORCE\n",
      "0.2\n",
      "0.837200878521283\n",
      "\n",
      "\n",
      "features_3\n",
      "kernels\n",
      "FORCE\n",
      "0.01\n",
      "0.2030475594004724\n",
      "\n",
      "\n",
      "features_10\n",
      "kernels\n",
      "FORCE\n",
      "0.5\n",
      "0.9999847712153953\n",
      "\n",
      "\n",
      "features_8\n",
      "kernels\n",
      "FORCE\n",
      "0.2\n",
      "0.9496022258040382\n",
      "\n",
      "\n",
      "features_10\n",
      "kernels\n",
      "FORCE\n",
      "0.05\n",
      "0.11823140953444015\n",
      "\n",
      "\n",
      "features_10\n",
      "kernels\n",
      "FORCE\n",
      "0.5\n",
      "0.9999327649582008\n",
      "\n",
      "\n",
      "features_3\n",
      "kernels\n",
      "FORCE\n",
      "0.01\n",
      "0.16979452414589088\n",
      "\n",
      "\n",
      "features_10\n",
      "kernels\n",
      "FORCE\n",
      "0.001\n",
      "0.146221044312532\n",
      "\n",
      "\n",
      "features_10\n",
      "kernels\n",
      "FORCE\n",
      "0.005\n",
      "0.053661077751873135\n",
      "\n",
      "\n",
      "features_3\n",
      "kernels\n",
      "FORCE\n",
      "0.05\n",
      "0.233623988223379\n",
      "\n",
      "\n",
      "features_3\n",
      "kernels\n",
      "FORCE\n",
      "0.1\n",
      "-0.05166891151746861\n",
      "\n",
      "\n",
      "features_6\n",
      "kernels\n",
      "FORCE\n",
      "0.05\n",
      "0.6444836114533506\n",
      "\n",
      "\n",
      "features_10\n",
      "kernels\n",
      "FORCE\n",
      "0.01\n",
      "0.10766151384122785\n",
      "\n",
      "\n",
      "features_3\n",
      "kernels\n",
      "FORCE\n",
      "0.05\n",
      "0.25583330105972235\n",
      "\n",
      "\n",
      "features_3\n",
      "kernels\n",
      "FORCE\n",
      "0.01\n",
      "0.39510118221827717\n",
      "\n",
      "\n",
      "features_8\n",
      "kernels\n",
      "FORCE\n",
      "0.2\n",
      "0.8846855770648767\n",
      "\n",
      "\n",
      "features_6\n",
      "kernels\n",
      "FORCE\n",
      "0.001\n",
      "0.19970959598219504\n",
      "\n",
      "\n",
      "features_8\n",
      "kernels\n",
      "FORCE\n",
      "0.001\n",
      "0.194264588921112\n",
      "\n",
      "\n",
      "features_10\n",
      "kernels\n",
      "FORCE\n",
      "0.01\n",
      "0.16173511445802854\n",
      "\n",
      "\n",
      "features_6\n",
      "kernels\n",
      "FORCE\n",
      "0.005\n",
      "0.2730476989419156\n",
      "\n",
      "\n",
      "features_10\n",
      "kernels\n",
      "FORCE\n",
      "0.005\n",
      "0.1594409737229255\n",
      "\n",
      "\n",
      "features_3\n",
      "kernels\n",
      "FORCE\n",
      "0.01\n",
      "0.2553338920263894\n",
      "\n",
      "\n",
      "features_6\n",
      "kernels\n",
      "FORCE\n",
      "0.01\n",
      "-0.14013825989509004\n",
      "\n",
      "\n",
      "features_10\n",
      "kernels\n",
      "FORCE\n",
      "0.01\n",
      "0.2995349058135371\n",
      "\n",
      "\n",
      "features_10\n",
      "kernels\n",
      "FORCE\n",
      "0.001\n",
      "0.03587951612333699\n",
      "\n",
      "\n",
      "features_3\n",
      "kernels\n",
      "FORCE\n",
      "0.5\n",
      "0.9133111663976583\n",
      "\n",
      "\n",
      "features_10\n",
      "kernels\n",
      "FORCE\n",
      "0.5\n",
      "0.9999588447449057\n",
      "\n",
      "\n",
      "features_10\n",
      "kernels\n",
      "FORCE\n",
      "0.05\n",
      "0.1729400377072376\n",
      "\n",
      "\n",
      "features_6\n",
      "kernels\n",
      "FORCE\n",
      "0.001\n",
      "0.19485689915101911\n",
      "\n",
      "\n",
      "features_3\n",
      "kernels\n",
      "FORCE\n",
      "0.1\n",
      "0.9159052927766327\n",
      "\n",
      "\n",
      "features_8\n",
      "kernels\n",
      "FORCE\n",
      "0.001\n",
      "0.09958538203470102\n",
      "\n",
      "\n",
      "features_10\n",
      "kernels\n",
      "FORCE\n",
      "0.5\n",
      "0.9998894255537861\n",
      "\n",
      "\n",
      "features_10\n",
      "kernels\n",
      "FORCE\n",
      "0.001\n",
      "-0.02769759512266183\n",
      "\n",
      "\n",
      "features_6\n",
      "kernels\n",
      "FORCE\n",
      "0.001\n",
      "-0.006492533339105449\n",
      "\n",
      "\n",
      "features_8\n",
      "kernels\n",
      "FORCE\n",
      "0.005\n",
      "0.062312734450661544\n",
      "\n",
      "\n",
      "features_3\n",
      "kernels\n",
      "FORCE\n",
      "0.1\n",
      "0.13860022875790418\n",
      "\n",
      "\n",
      "features_10\n",
      "kernels\n",
      "FORCE\n",
      "0.1\n",
      "0.521365164090824\n",
      "\n",
      "\n",
      "features_8\n",
      "kernels\n",
      "FORCE\n",
      "0.5\n",
      "0.9999404525624834\n",
      "\n",
      "\n",
      "features_8\n",
      "kernels\n",
      "FORCE\n",
      "0.2\n",
      "0.9133084946108023\n",
      "\n",
      "\n",
      "features_6\n",
      "kernels\n",
      "FORCE\n",
      "0.1\n",
      "0.9017008749164552\n",
      "\n",
      "\n",
      "features_10\n",
      "kernels\n",
      "FORCE\n",
      "0.001\n",
      "0.012452981151072818\n",
      "\n",
      "\n",
      "features_10\n",
      "kernels\n",
      "FORCE\n",
      "0.2\n",
      "0.8632055937287026\n",
      "\n",
      "\n",
      "features_6\n",
      "kernels\n",
      "FORCE\n",
      "0.005\n",
      "0.17687299520293673\n",
      "\n",
      "\n",
      "features_6\n",
      "kernels\n",
      "FORCE\n",
      "0.5\n",
      "0.9999981040856465\n",
      "\n",
      "\n",
      "features_3\n",
      "kernels\n",
      "FORCE\n",
      "0.005\n",
      "0.0\n",
      "\n",
      "\n",
      "features_3\n",
      "kernels\n",
      "FORCE\n",
      "0.05\n",
      "0.05899584048870846\n",
      "\n",
      "\n",
      "features_8\n",
      "kernels\n",
      "FORCE\n",
      "0.5\n",
      "0.9999814051528297\n",
      "\n",
      "\n",
      "features_6\n",
      "kernels\n",
      "FORCE\n",
      "0.05\n",
      "0.342884288303818\n",
      "\n",
      "\n",
      "features_8\n",
      "kernels\n",
      "FORCE\n",
      "0.2\n",
      "0.8927855980487751\n",
      "\n",
      "\n",
      "features_6\n",
      "kernels\n",
      "FORCE\n",
      "0.1\n",
      "0.9633946592334341\n",
      "\n",
      "\n",
      "features_3\n",
      "kernels\n",
      "FORCE\n",
      "0.001\n",
      "0.0\n",
      "\n",
      "\n",
      "features_8\n",
      "kernels\n",
      "FORCE\n",
      "0.5\n",
      "0.9999936859943261\n",
      "\n",
      "\n",
      "features_8\n",
      "kernels\n",
      "FORCE\n",
      "0.5\n",
      "0.9999985499621634\n",
      "\n",
      "\n",
      "features_6\n",
      "kernels\n",
      "FORCE\n",
      "0.5\n",
      "0.9963841476394968\n",
      "\n",
      "\n",
      "features_3\n",
      "kernels\n",
      "FORCE\n",
      "0.001\n",
      "0.4212752529252484\n",
      "\n",
      "\n",
      "features_10\n",
      "kernels\n",
      "FORCE\n",
      "0.05\n",
      "0.22033581128631363\n",
      "\n",
      "\n",
      "features_3\n",
      "kernels\n",
      "FORCE\n",
      "0.1\n",
      "0.07138434930650762\n",
      "\n",
      "\n",
      "features_8\n",
      "kernels\n",
      "FORCE\n",
      "0.05\n",
      "0.6507208886278754\n",
      "\n",
      "\n",
      "features_10\n",
      "kernels\n",
      "FORCE\n",
      "0.005\n",
      "-0.05181934778267533\n",
      "\n",
      "\n",
      "features_6\n",
      "kernels\n",
      "FORCE\n",
      "0.2\n",
      "0.8225124650803423\n",
      "\n",
      "\n",
      "features_10\n",
      "kernels\n",
      "FORCE\n",
      "0.001\n",
      "0.28214752851250885\n",
      "\n",
      "\n",
      "features_6\n",
      "kernels\n",
      "FORCE\n",
      "0.05\n",
      "0.6185253608479911\n",
      "\n",
      "\n",
      "features_8\n",
      "kernels\n",
      "FORCE\n",
      "0.005\n",
      "0.09104418124932077\n",
      "\n",
      "\n",
      "features_3\n",
      "kernels\n",
      "FORCE\n",
      "0.5\n",
      "0.9942335615305935\n",
      "\n",
      "\n",
      "features_10\n",
      "kernels\n",
      "FORCE\n",
      "0.01\n",
      "0.000880160014907016\n",
      "\n",
      "\n",
      "features_6\n",
      "kernels\n",
      "FORCE\n",
      "0.001\n",
      "0.05327229196592573\n",
      "\n",
      "\n",
      "features_10\n",
      "kernels\n",
      "FORCE\n",
      "0.001\n",
      "0.09954607106409176\n",
      "\n",
      "\n",
      "features_3\n",
      "kernels\n",
      "FORCE\n",
      "0.05\n",
      "0.8545832797850691\n",
      "\n",
      "\n",
      "features_10\n",
      "kernels\n",
      "FORCE\n",
      "0.005\n",
      "0.21113929282147714\n",
      "\n",
      "\n",
      "features_3\n",
      "kernels\n",
      "FORCE\n",
      "0.5\n",
      "0.9899887206376186\n",
      "\n",
      "\n",
      "features_6\n",
      "kernels\n",
      "FORCE\n",
      "0.005\n",
      "-0.12470175643403532\n",
      "\n",
      "\n",
      "features_3\n",
      "kernels\n",
      "FORCE\n",
      "0.1\n",
      "0.42113486826189545\n",
      "\n",
      "\n",
      "features_10\n",
      "kernels\n",
      "FORCE\n",
      "0.05\n",
      "0.08641820632309441\n",
      "\n",
      "\n",
      "features_6\n",
      "kernels\n",
      "FORCE\n",
      "0.001\n",
      "0.2904410759647288\n",
      "\n",
      "\n",
      "features_6\n",
      "kernels\n",
      "FORCE\n",
      "0.005\n"
     ]
    },
    {
     "name": "stdout",
     "output_type": "stream",
     "text": [
      "0.6699876488404081\n",
      "\n",
      "\n",
      "features_10\n",
      "kernels\n",
      "FORCE\n",
      "0.005\n",
      "0.3378752545040201\n",
      "\n",
      "\n",
      "features_3\n",
      "kernels\n",
      "FORCE\n",
      "0.01\n",
      "-0.04510538341518529\n",
      "\n",
      "\n",
      "features_8\n",
      "kernels\n",
      "FORCE\n",
      "0.1\n",
      "0.7709053484128265\n",
      "\n",
      "\n",
      "features_8\n",
      "kernels\n",
      "FORCE\n",
      "0.2\n",
      "0.9239730078067903\n",
      "\n",
      "\n",
      "features_10\n",
      "kernels\n",
      "FORCE\n",
      "0.5\n",
      "0.9999845882003924\n",
      "\n",
      "\n",
      "features_8\n",
      "kernels\n",
      "FORCE\n",
      "0.01\n",
      "0.14363527017236197\n",
      "\n",
      "\n",
      "features_3\n",
      "kernels\n",
      "FORCE\n",
      "0.1\n",
      "0.2831840129625759\n",
      "\n",
      "\n",
      "features_3\n",
      "kernels\n",
      "FORCE\n",
      "0.05\n",
      "0.8642526894714757\n",
      "\n",
      "\n",
      "features_10\n",
      "kernels\n",
      "FORCE\n",
      "0.1\n",
      "0.5178788438711083\n",
      "\n",
      "\n",
      "features_6\n",
      "kernels\n",
      "FORCE\n",
      "0.001\n",
      "0.04082258122287392\n",
      "\n",
      "\n",
      "features_6\n",
      "kernels\n",
      "FORCE\n",
      "0.5\n",
      "0.9987856408325331\n",
      "\n",
      "\n",
      "features_10\n",
      "kernels\n",
      "FORCE\n",
      "0.001\n",
      "0.12895269028497217\n",
      "\n",
      "\n",
      "features_3\n",
      "kernels\n",
      "FORCE\n",
      "0.005\n",
      "-0.09211793117670354\n",
      "\n",
      "\n",
      "features_6\n",
      "kernels\n",
      "FORCE\n",
      "0.05\n",
      "0.7288195213962668\n",
      "\n",
      "\n",
      "features_6\n",
      "kernels\n",
      "FORCE\n",
      "0.1\n",
      "0.6772114883956468\n",
      "\n",
      "\n",
      "features_10\n",
      "kernels\n",
      "FORCE\n",
      "0.001\n",
      "-0.04798004056547491\n",
      "\n",
      "\n",
      "features_3\n",
      "kernels\n",
      "FORCE\n",
      "0.005\n",
      "0.040272039620573935\n",
      "\n",
      "\n",
      "features_10\n",
      "kernels\n",
      "FORCE\n",
      "0.001\n",
      "-0.015525649963988423\n",
      "\n",
      "\n",
      "features_3\n",
      "kernels\n",
      "FORCE\n",
      "0.1\n",
      "0.7971181250940761\n",
      "\n",
      "\n",
      "features_8\n",
      "kernels\n",
      "FORCE\n",
      "0.01\n",
      "0.07696929166356559\n",
      "\n",
      "\n",
      "features_3\n",
      "kernels\n",
      "FORCE\n",
      "0.01\n",
      "0.233623988223379\n",
      "\n",
      "\n",
      "features_8\n",
      "kernels\n",
      "FORCE\n",
      "0.005\n",
      "0.07889912835952509\n",
      "\n",
      "\n",
      "features_10\n",
      "kernels\n",
      "FORCE\n",
      "0.005\n",
      "0.1848567549791644\n",
      "\n",
      "\n",
      "features_10\n",
      "kernels\n",
      "FORCE\n",
      "0.001\n",
      "-0.15755561745970798\n",
      "\n",
      "\n",
      "features_8\n",
      "kernels\n",
      "FORCE\n",
      "0.2\n",
      "0.8984686988766775\n",
      "\n",
      "\n",
      "features_6\n",
      "kernels\n",
      "FORCE\n",
      "0.005\n",
      "0.05561736576526466\n",
      "\n",
      "\n",
      "features_6\n",
      "kernels\n",
      "FORCE\n",
      "0.5\n",
      "0.9999584450345436\n",
      "\n",
      "\n",
      "features_10\n",
      "kernels\n",
      "FORCE\n",
      "0.05\n",
      "0.16076517768816473\n",
      "\n",
      "\n",
      "features_8\n",
      "kernels\n",
      "FORCE\n",
      "0.001\n",
      "-0.03350161404343413\n",
      "\n",
      "\n",
      "features_8\n",
      "kernels\n",
      "FORCE\n",
      "0.01\n",
      "0.4631161054478763\n",
      "\n",
      "\n",
      "features_6\n",
      "kernels\n",
      "FORCE\n",
      "0.05\n",
      "0.7507419564894221\n",
      "\n",
      "\n",
      "features_8\n",
      "kernels\n",
      "FORCE\n",
      "0.05\n",
      "0.6165756010990254\n",
      "\n",
      "\n",
      "features_6\n",
      "kernels\n",
      "FORCE\n",
      "0.005\n",
      "-0.048779841085572394\n",
      "\n",
      "\n",
      "features_10\n",
      "kernels\n",
      "FORCE\n",
      "0.01\n",
      "-0.06551336510539263\n",
      "\n",
      "\n",
      "features_6\n",
      "kernels\n",
      "FORCE\n",
      "0.001\n",
      "0.05324439263678803\n",
      "\n",
      "\n",
      "features_10\n",
      "kernels\n",
      "FORCE\n",
      "0.1\n",
      "0.6560989111626645\n",
      "\n",
      "\n",
      "features_3\n",
      "kernels\n",
      "FORCE\n",
      "0.1\n",
      "0.7748842933426601\n",
      "\n",
      "\n",
      "features_8\n",
      "kernels\n",
      "FORCE\n",
      "0.005\n",
      "-0.027261227104093948\n",
      "\n",
      "\n",
      "features_6\n",
      "kernels\n",
      "FORCE\n",
      "0.05\n",
      "0.7400404855912704\n",
      "\n",
      "\n",
      "features_8\n",
      "kernels\n",
      "FORCE\n",
      "0.2\n",
      "0.8577500436055387\n",
      "\n",
      "\n",
      "features_10\n",
      "kernels\n",
      "FORCE\n",
      "0.001\n",
      "-0.028183140704619497\n",
      "\n",
      "\n",
      "features_6\n",
      "kernels\n",
      "FORCE\n",
      "0.001\n",
      "0.016137610821773896\n",
      "\n",
      "\n",
      "features_10\n",
      "kernels\n",
      "FORCE\n",
      "0.005\n",
      "0.15892844988640298\n",
      "\n",
      "\n",
      "features_3\n",
      "kernels\n",
      "FORCE\n",
      "0.05\n",
      "0.06648351309788088\n",
      "\n",
      "\n",
      "features_6\n",
      "kernels\n",
      "FORCE\n",
      "0.1\n",
      "0.6228143177583434\n",
      "\n",
      "\n",
      "features_6\n",
      "kernels\n",
      "FORCE\n",
      "0.1\n",
      "0.8807306725984683\n",
      "\n",
      "\n",
      "features_10\n",
      "kernels\n",
      "FORCE\n",
      "0.05\n",
      "0.30231891503140385\n",
      "\n",
      "\n",
      "features_3\n",
      "kernels\n",
      "FORCE\n",
      "0.01\n",
      "0.653484266554981\n",
      "\n",
      "\n",
      "features_3\n",
      "kernels\n",
      "FORCE\n",
      "0.5\n",
      "0.9892672727181686\n",
      "\n",
      "\n",
      "features_3\n",
      "kernels\n",
      "FORCE\n",
      "0.5\n",
      "0.9045401313752961\n",
      "\n",
      "\n",
      "features_3\n",
      "kernels\n",
      "FORCE\n",
      "0.005\n",
      "-0.24548852152282996\n",
      "\n",
      "\n",
      "features_8\n",
      "kernels\n",
      "FORCE\n",
      "0.5\n",
      "0.9999987171089998\n",
      "\n",
      "\n",
      "features_10\n",
      "kernels\n",
      "FORCE\n",
      "0.5\n",
      "0.9999648626424318\n",
      "\n",
      "\n",
      "features_6\n",
      "kernels\n",
      "FORCE\n",
      "0.005\n",
      "-0.06630998698539856\n",
      "\n",
      "\n",
      "features_10\n",
      "kernels\n",
      "FORCE\n",
      "0.2\n",
      "0.7411774391439705\n",
      "\n",
      "\n",
      "features_3\n",
      "kernels\n",
      "FORCE\n",
      "0.5\n",
      "0.9846102776350963\n",
      "\n",
      "\n",
      "features_6\n",
      "kernels\n",
      "FORCE\n",
      "0.1\n",
      "0.48059041004406683\n",
      "\n",
      "\n",
      "features_6\n",
      "kernels\n",
      "FORCE\n",
      "0.5\n",
      "0.9999975377002729\n",
      "\n",
      "\n",
      "features_3\n",
      "kernels\n",
      "FORCE\n",
      "0.5\n",
      "0.9438996181612345\n",
      "\n",
      "\n",
      "features_10\n",
      "kernels\n",
      "FORCE\n",
      "0.05\n",
      "0.10722724656951896\n",
      "\n",
      "\n",
      "features_6\n",
      "kernels\n",
      "FORCE\n",
      "0.5\n",
      "0.9999993722191152\n",
      "\n",
      "\n",
      "features_3\n",
      "kernels\n",
      "FORCE\n",
      "0.005\n",
      "0.2554297060742067\n",
      "\n",
      "\n",
      "features_6\n",
      "kernels\n",
      "FORCE\n",
      "0.001\n",
      "0.06752700812410566\n",
      "\n",
      "\n",
      "features_8\n",
      "kernels\n",
      "FORCE\n",
      "0.01\n",
      "0.07079105967050316\n",
      "\n",
      "\n",
      "features_8\n",
      "kernels\n",
      "FORCE\n",
      "0.5\n",
      "0.9999837224032381\n",
      "\n",
      "\n",
      "features_3\n",
      "kernels\n",
      "FORCE\n",
      "0.001\n",
      "0.2513091065057312\n",
      "\n",
      "\n",
      "features_6\n",
      "kernels\n",
      "FORCE\n",
      "0.2\n",
      "0.9820054370960208\n",
      "\n",
      "\n",
      "features_6\n",
      "kernels\n",
      "FORCE\n",
      "0.005\n",
      "-0.11207256424810524\n",
      "\n",
      "\n",
      "features_8\n",
      "kernels\n",
      "FORCE\n",
      "0.05\n",
      "0.5339347996533754\n",
      "\n",
      "\n",
      "features_8\n",
      "kernels\n",
      "FORCE\n",
      "0.01\n",
      "0.2809219511815543\n",
      "\n",
      "\n",
      "features_6\n",
      "kernels\n",
      "FORCE\n",
      "0.2\n",
      "0.9324359262120095\n",
      "\n",
      "\n",
      "features_6\n",
      "kernels\n",
      "FORCE\n",
      "0.01\n",
      "0.11255423188731846\n",
      "\n",
      "\n",
      "features_8\n",
      "kernels\n",
      "FORCE\n",
      "0.1\n",
      "0.6092445073910708\n",
      "\n",
      "\n",
      "features_3\n",
      "kernels\n",
      "FORCE\n",
      "0.005\n",
      "0.07951347520745852\n",
      "\n",
      "\n",
      "features_10\n",
      "kernels\n",
      "FORCE\n",
      "0.01\n",
      "-0.0803524224632407\n",
      "\n",
      "\n",
      "features_6\n",
      "kernels\n",
      "FORCE\n",
      "0.05\n",
      "0.7054281131456617\n",
      "\n",
      "\n",
      "features_3\n",
      "kernels\n",
      "FORCE\n",
      "0.5\n",
      "0.995622006598496\n",
      "\n",
      "\n",
      "features_8\n",
      "kernels\n",
      "FORCE\n",
      "0.2\n",
      "0.8163656264117541\n",
      "\n",
      "\n",
      "features_6\n",
      "kernels\n",
      "FORCE\n",
      "0.1\n",
      "0.8918409074826561\n",
      "\n",
      "\n",
      "features_10\n",
      "kernels\n",
      "FORCE\n",
      "0.01\n",
      "0.16492424978963094\n",
      "\n",
      "\n",
      "features_8\n",
      "kernels\n",
      "FORCE\n",
      "0.01\n",
      "0.14975133640171986\n",
      "\n",
      "\n",
      "features_6\n",
      "kernels\n",
      "FORCE\n",
      "0.5\n",
      "0.9999261586908433\n",
      "\n",
      "\n",
      "features_3\n",
      "kernels\n",
      "FORCE\n",
      "0.2\n",
      "0.2980933787054457\n",
      "\n",
      "\n",
      "features_6\n",
      "kernels\n",
      "FORCE\n",
      "0.005\n",
      "-0.09081811350091211\n",
      "\n",
      "\n",
      "features_8\n",
      "kernels\n",
      "FORCE\n",
      "0.2\n",
      "0.8507274661576387\n",
      "\n",
      "\n",
      "features_8\n",
      "kernels\n",
      "FORCE\n",
      "0.01\n",
      "0.2492994807565484\n",
      "\n",
      "\n",
      "features_8\n",
      "kernels\n",
      "FORCE\n",
      "0.5\n",
      "0.999874044385022\n",
      "\n",
      "\n",
      "features_6\n",
      "kernels\n",
      "FORCE\n",
      "0.01\n",
      "0.28940917561327933\n",
      "\n",
      "\n",
      "features_3\n",
      "kernels\n",
      "FORCE\n",
      "0.2\n",
      "0.6247922689477058\n",
      "\n",
      "\n",
      "features_10\n",
      "kernels\n",
      "FORCE\n",
      "0.2\n",
      "0.780971437695079\n",
      "\n",
      "\n",
      "features_6\n",
      "kernels\n",
      "FORCE\n",
      "0.01\n",
      "0.43684098844184516\n",
      "\n",
      "\n",
      "features_3\n",
      "kernels\n",
      "FORCE\n",
      "0.001\n",
      "0.1274392763348443\n",
      "\n",
      "\n",
      "features_6\n",
      "kernels\n",
      "FORCE\n",
      "0.001\n",
      "0.26688691498905703\n",
      "\n",
      "\n",
      "features_10\n",
      "kernels\n",
      "FORCE\n",
      "0.2\n",
      "0.7804183477376073\n",
      "\n",
      "\n",
      "features_3\n",
      "kernels\n",
      "FORCE\n",
      "0.1\n",
      "0.7839390398407625\n",
      "\n",
      "\n",
      "features_8\n",
      "kernels\n",
      "FORCE\n",
      "0.01\n",
      "0.25369746313763125\n",
      "\n",
      "\n",
      "features_3\n",
      "kernels\n",
      "FORCE\n",
      "0.001\n",
      "0.06329375768732035\n",
      "\n",
      "\n",
      "features_6\n",
      "kernels\n",
      "FORCE\n",
      "0.005\n",
      "0.38822680407865795\n",
      "\n",
      "\n",
      "features_10\n",
      "kernels\n",
      "FORCE\n",
      "0.2\n",
      "0.7892533639243239\n",
      "\n",
      "\n",
      "features_6\n",
      "kernels\n",
      "FORCE\n",
      "0.001\n",
      "0.0715299087104228\n",
      "\n",
      "\n",
      "features_10\n",
      "kernels\n",
      "FORCE\n",
      "0.5\n",
      "0.9983364276016671\n",
      "\n",
      "\n",
      "features_10\n",
      "kernels\n",
      "FORCE\n",
      "0.5\n",
      "0.9999608866219543\n",
      "\n",
      "\n",
      "features_8\n",
      "kernels\n",
      "FORCE\n",
      "0.2\n",
      "0.9109310011909482\n",
      "\n",
      "\n",
      "features_6\n",
      "kernels\n",
      "FORCE\n",
      "0.01\n",
      "0.25070229428491125\n",
      "\n",
      "\n",
      "features_3\n",
      "kernels\n",
      "FORCE\n",
      "0.05\n",
      "0.5104084666043268\n",
      "\n",
      "\n",
      "features_8\n",
      "kernels\n",
      "FORCE\n",
      "0.1\n",
      "0.6992481696069623\n",
      "\n",
      "\n",
      "features_3\n",
      "kernels\n",
      "FORCE\n",
      "0.005\n",
      "0.21219820810338436\n",
      "\n",
      "\n",
      "features_8\n",
      "kernels\n",
      "FORCE\n",
      "0.2\n",
      "0.9243200343789859\n",
      "\n",
      "\n",
      "features_6\n",
      "kernels\n",
      "FORCE\n",
      "0.005\n",
      "0.1874775947338688\n",
      "\n",
      "\n",
      "features_10\n",
      "kernels\n",
      "FORCE\n",
      "0.005\n",
      "0.13906265781330274\n",
      "\n",
      "\n",
      "features_3\n",
      "kernels\n",
      "FORCE\n",
      "0.1\n",
      "0.3971636638016095\n",
      "\n",
      "\n",
      "features_6\n",
      "kernels\n",
      "FORCE\n",
      "0.2\n",
      "0.9743935746555771\n",
      "\n",
      "\n",
      "features_6\n",
      "kernels\n",
      "FORCE\n",
      "0.5\n",
      "0.9999986043788036\n",
      "\n",
      "\n",
      "features_8\n",
      "kernels\n",
      "FORCE\n",
      "0.2\n",
      "0.8974236265133715\n",
      "\n",
      "\n",
      "features_8\n",
      "kernels\n",
      "FORCE\n",
      "0.001\n",
      "0.04074471714189161\n",
      "\n",
      "\n",
      "features_3\n",
      "kernels\n",
      "FORCE\n",
      "0.005\n",
      "0.039399968457954154\n",
      "\n",
      "\n",
      "features_10\n",
      "kernels\n",
      "FORCE\n",
      "0.01\n",
      "0.0992767981581046\n",
      "\n",
      "\n",
      "features_8\n",
      "kernels\n",
      "FORCE\n",
      "0.2\n",
      "0.9786443019956426\n",
      "\n",
      "\n",
      "features_3\n",
      "kernels\n",
      "FORCE\n",
      "0.01\n",
      "0.32805292377633155\n",
      "\n",
      "\n",
      "features_6\n",
      "kernels\n",
      "FORCE\n",
      "0.01\n",
      "-0.0019766679452399016\n",
      "\n",
      "\n",
      "features_8\n",
      "kernels\n",
      "FORCE\n",
      "0.05\n",
      "0.7633142658582786\n",
      "\n",
      "\n",
      "features_10\n",
      "kernels\n",
      "FORCE\n",
      "0.001\n",
      "-0.005347794192894136\n",
      "\n",
      "\n",
      "features_8\n",
      "kernels\n",
      "FORCE\n",
      "0.05\n",
      "0.7355273789378154\n",
      "\n",
      "\n",
      "features_3\n",
      "kernels\n",
      "FORCE\n",
      "0.5\n",
      "0.9791908333060213\n",
      "\n",
      "\n",
      "features_8\n",
      "kernels\n",
      "FORCE\n",
      "0.1\n",
      "0.6025747381352543\n",
      "\n",
      "\n",
      "features_10\n",
      "kernels\n",
      "FORCE\n",
      "0.01\n",
      "-0.0687269413483644\n",
      "\n",
      "\n",
      "features_6\n",
      "kernels\n",
      "FORCE\n",
      "0.05\n",
      "0.44036656210160224\n",
      "\n",
      "\n",
      "features_3\n",
      "kernels\n",
      "FORCE\n",
      "0.05\n",
      "0.1365243054181864\n",
      "\n",
      "\n",
      "features_10\n",
      "kernels\n",
      "FORCE\n",
      "0.01\n",
      "0.16414698588355267\n",
      "\n",
      "\n",
      "features_6\n",
      "kernels\n",
      "FORCE\n",
      "0.2\n",
      "0.8766263617212509\n",
      "\n",
      "\n",
      "features_3\n",
      "kernels\n",
      "FORCE\n",
      "0.01\n",
      "0.5476717549931067\n",
      "\n",
      "\n",
      "features_3\n",
      "kernels\n",
      "FORCE\n",
      "0.1\n",
      "-0.17132828931440752\n",
      "\n",
      "\n",
      "features_10\n",
      "kernels\n",
      "FORCE\n",
      "0.05\n",
      "0.11485711976715653\n",
      "\n",
      "\n",
      "features_6\n",
      "kernels\n",
      "FORCE\n",
      "0.005\n",
      "0.3730302187188317\n",
      "\n",
      "\n",
      "features_10\n",
      "kernels\n",
      "FORCE\n",
      "0.005\n",
      "-0.24805738445444067\n",
      "\n",
      "\n",
      "features_6\n",
      "kernels\n",
      "FORCE\n",
      "0.1\n",
      "0.6956679626572848\n",
      "\n",
      "\n",
      "features_3\n",
      "kernels\n",
      "FORCE\n",
      "0.05\n",
      "0.26323184681805695\n",
      "\n",
      "\n",
      "features_3\n",
      "kernels\n",
      "FORCE\n",
      "0.05\n",
      "0.09736509230352443\n",
      "\n",
      "\n",
      "features_8\n",
      "kernels\n",
      "FORCE\n",
      "0.001\n",
      "0.15052895847010933\n",
      "\n",
      "\n",
      "features_3\n",
      "kernels\n",
      "FORCE\n",
      "0.01\n",
      "-0.03800782722907873\n",
      "\n",
      "\n",
      "features_10\n",
      "kernels\n",
      "FORCE\n",
      "0.1\n",
      "0.39381849521470685\n",
      "\n",
      "\n",
      "features_6\n",
      "kernels\n",
      "FORCE\n",
      "0.001\n",
      "0.6841395208900204\n",
      "\n",
      "\n",
      "features_10\n",
      "kernels\n",
      "FORCE\n",
      "0.5\n",
      "0.9999072889611347\n",
      "\n",
      "\n",
      "features_6\n",
      "kernels\n",
      "FORCE\n",
      "0.005\n",
      "-0.015514521005519429\n",
      "\n",
      "\n",
      "features_6\n",
      "kernels\n",
      "FORCE\n",
      "0.5\n",
      "0.9992326349365099\n",
      "\n",
      "\n",
      "features_3\n",
      "kernels\n",
      "FORCE\n",
      "0.005\n",
      "-0.055038690161295145\n",
      "\n",
      "\n",
      "features_8\n",
      "kernels\n",
      "FORCE\n",
      "0.001\n",
      "0.28048282361936244\n",
      "\n",
      "\n",
      "features_8\n",
      "kernels\n",
      "FORCE\n",
      "0.005\n",
      "0.06038109473727277\n",
      "\n",
      "\n",
      "features_10\n",
      "kernels\n",
      "FORCE\n",
      "0.05\n",
      "0.23618533960985227\n",
      "\n",
      "\n",
      "features_10\n",
      "kernels\n",
      "FORCE\n",
      "0.01\n",
      "0.13176809693718394\n",
      "\n",
      "\n",
      "features_6\n",
      "kernels\n",
      "FORCE\n",
      "0.05\n",
      "0.5944008043314116\n",
      "\n",
      "\n",
      "features_10\n",
      "kernels\n",
      "FORCE\n",
      "0.5\n",
      "0.9999605171925312\n",
      "\n",
      "\n",
      "features_3\n",
      "kernels\n",
      "FORCE\n",
      "0.005\n",
      "0.13940056910032222\n",
      "\n",
      "\n",
      "features_6\n",
      "kernels\n",
      "FORCE\n",
      "0.1\n",
      "0.883838196725807\n",
      "\n",
      "\n",
      "features_10\n",
      "kernels\n",
      "FORCE\n",
      "0.2\n",
      "0.7590442047459686\n",
      "\n",
      "\n",
      "features_10\n",
      "kernels\n",
      "FORCE\n",
      "0.01\n",
      "0.17956590545461945\n",
      "\n",
      "\n",
      "features_8\n",
      "kernels\n",
      "FORCE\n",
      "0.001\n",
      "0.09201014644168173\n",
      "\n",
      "\n",
      "features_6\n",
      "kernels\n",
      "FORCE\n",
      "0.5\n",
      "0.9997510553392732\n",
      "\n",
      "\n",
      "features_6\n",
      "kernels\n",
      "FORCE\n",
      "0.005\n",
      "0.10678451475771923\n",
      "\n",
      "\n",
      "features_10\n",
      "kernels\n",
      "FORCE\n",
      "0.5\n",
      "0.9999836937395513\n",
      "\n",
      "\n",
      "features_3\n",
      "kernels\n",
      "FORCE\n",
      "0.2\n",
      "0.9022960323307816\n",
      "\n",
      "\n",
      "features_10\n",
      "kernels\n",
      "FORCE\n",
      "0.1\n",
      "0.4825413324706616\n",
      "\n",
      "\n",
      "features_8\n",
      "kernels\n",
      "FORCE\n",
      "0.01\n",
      "0.5714571043558119\n",
      "\n",
      "\n",
      "features_8\n",
      "kernels\n",
      "FORCE\n",
      "0.01\n",
      "0.08296111325333914\n",
      "\n",
      "\n",
      "features_8\n",
      "kernels\n",
      "FORCE\n",
      "0.1\n",
      "0.7766295677231875\n",
      "\n",
      "\n",
      "features_6\n",
      "kernels\n",
      "FORCE\n",
      "0.005\n",
      "0.0652164956286492\n",
      "\n",
      "\n",
      "features_3\n",
      "kernels\n",
      "FORCE\n",
      "0.2\n"
     ]
    },
    {
     "name": "stdout",
     "output_type": "stream",
     "text": [
      "0.7233055654951442\n",
      "\n",
      "\n",
      "features_8\n",
      "kernels\n",
      "FORCE\n",
      "0.5\n",
      "0.9999917042836377\n",
      "\n",
      "\n",
      "features_8\n",
      "kernels\n",
      "FORCE\n",
      "0.5\n",
      "0.9999909232453763\n",
      "\n",
      "\n",
      "features_8\n",
      "kernels\n",
      "FORCE\n",
      "0.05\n",
      "0.44068279696917473\n",
      "\n",
      "\n",
      "features_3\n",
      "kernels\n",
      "FORCE\n",
      "0.1\n",
      "0.9214843733844441\n",
      "\n",
      "\n",
      "features_10\n",
      "kernels\n",
      "FORCE\n",
      "0.01\n",
      "-0.029660042764897664\n",
      "\n",
      "\n",
      "features_6\n",
      "kernels\n",
      "FORCE\n",
      "0.1\n",
      "0.8719145332162088\n",
      "\n",
      "\n",
      "features_6\n",
      "kernels\n",
      "FORCE\n",
      "0.001\n",
      "-0.03807253466703523\n",
      "\n",
      "\n",
      "features_8\n",
      "kernels\n",
      "FORCE\n",
      "0.1\n",
      "0.672548598897828\n",
      "\n",
      "\n",
      "features_6\n",
      "kernels\n",
      "FORCE\n",
      "0.01\n",
      "0.29956940076455163\n",
      "\n",
      "\n",
      "features_3\n",
      "kernels\n",
      "FORCE\n",
      "0.2\n",
      "0.8561231316728752\n",
      "\n",
      "\n",
      "features_10\n",
      "kernels\n",
      "FORCE\n",
      "0.01\n",
      "0.3011714115311854\n",
      "\n",
      "\n",
      "features_10\n",
      "kernels\n",
      "FORCE\n",
      "0.5\n",
      "0.9997338393930493\n",
      "\n",
      "\n",
      "features_6\n",
      "kernels\n",
      "FORCE\n",
      "0.001\n",
      "-0.02614248521369794\n",
      "\n",
      "\n",
      "features_3\n",
      "kernels\n",
      "FORCE\n",
      "0.01\n",
      "0.11439319079570888\n",
      "\n",
      "\n",
      "features_8\n",
      "kernels\n",
      "FORCE\n",
      "0.05\n",
      "0.42768837470668125\n",
      "\n",
      "\n",
      "features_8\n",
      "kernels\n",
      "FORCE\n",
      "0.5\n",
      "0.9997604965051559\n",
      "\n",
      "\n",
      "features_3\n",
      "kernels\n",
      "FORCE\n",
      "0.001\n",
      "0.03874754896526753\n",
      "\n",
      "\n",
      "features_8\n",
      "kernels\n",
      "FORCE\n",
      "0.2\n",
      "0.8420191299432793\n",
      "\n",
      "\n",
      "features_3\n",
      "kernels\n",
      "FORCE\n",
      "0.1\n",
      "-0.07788909491284346\n",
      "\n",
      "\n",
      "features_8\n",
      "kernels\n",
      "FORCE\n",
      "0.05\n",
      "0.3877292665600313\n",
      "\n",
      "\n",
      "features_8\n",
      "kernels\n",
      "FORCE\n",
      "0.01\n",
      "0.163580630754799\n",
      "\n",
      "\n",
      "features_3\n",
      "kernels\n",
      "FORCE\n",
      "0.05\n",
      "-0.008568376262994108\n",
      "\n",
      "\n",
      "features_6\n",
      "kernels\n",
      "FORCE\n",
      "0.1\n",
      "0.8074552409608546\n",
      "\n",
      "\n",
      "features_10\n",
      "kernels\n",
      "FORCE\n",
      "0.05\n",
      "0.31142193667195617\n",
      "\n",
      "\n",
      "features_3\n",
      "kernels\n",
      "FORCE\n",
      "0.01\n",
      "0.12205291979798602\n",
      "\n",
      "\n",
      "features_3\n",
      "kernels\n",
      "FORCE\n",
      "0.2\n",
      "0.9754891608174939\n",
      "\n",
      "\n",
      "features_10\n",
      "kernels\n",
      "FORCE\n",
      "0.05\n",
      "0.5098707571929111\n",
      "\n",
      "\n",
      "features_8\n",
      "kernels\n",
      "FORCE\n",
      "0.2\n",
      "0.8601158464457854\n",
      "\n",
      "\n",
      "features_6\n",
      "kernels\n",
      "FORCE\n",
      "0.005\n",
      "0.14780148572056942\n",
      "\n",
      "\n",
      "features_8\n",
      "kernels\n",
      "FORCE\n",
      "0.2\n",
      "0.8972970723515921\n",
      "\n",
      "\n",
      "features_8\n",
      "kernels\n",
      "FORCE\n",
      "0.1\n",
      "0.7204225003354042\n",
      "\n",
      "\n",
      "features_6\n",
      "kernels\n",
      "FORCE\n",
      "0.05\n",
      "0.6832440614916587\n",
      "\n",
      "\n",
      "features_8\n",
      "kernels\n",
      "FORCE\n",
      "0.05\n",
      "0.2884299564063189\n",
      "\n",
      "\n",
      "features_6\n",
      "kernels\n",
      "FORCE\n",
      "0.2\n",
      "0.9766351443830705\n",
      "\n",
      "\n",
      "features_8\n",
      "kernels\n",
      "FORCE\n",
      "0.05\n",
      "0.4824338903723647\n",
      "\n",
      "\n",
      "features_3\n",
      "kernels\n",
      "FORCE\n",
      "0.2\n",
      "0.7587299293955058\n",
      "\n",
      "\n",
      "features_6\n",
      "kernels\n",
      "FORCE\n",
      "0.005\n",
      "0.04249699746519671\n",
      "\n",
      "\n",
      "features_8\n",
      "kernels\n",
      "FORCE\n",
      "0.001\n",
      "-0.010309132179853667\n",
      "\n",
      "\n",
      "features_10\n",
      "kernels\n",
      "FORCE\n",
      "0.1\n",
      "0.48367634054611947\n",
      "\n",
      "\n",
      "features_6\n",
      "kernels\n",
      "FORCE\n",
      "0.5\n",
      "0.9999965403275013\n",
      "\n",
      "\n",
      "features_10\n",
      "kernels\n",
      "FORCE\n",
      "0.1\n",
      "0.5013812698188669\n",
      "\n",
      "\n",
      "features_10\n",
      "kernels\n",
      "FORCE\n",
      "0.05\n",
      "0.5418210988498933\n",
      "\n",
      "\n",
      "features_6\n",
      "kernels\n",
      "FORCE\n",
      "0.01\n",
      "-0.020211163138300046\n",
      "\n",
      "\n",
      "features_8\n",
      "kernels\n",
      "FORCE\n",
      "0.001\n",
      "0.2737917040414282\n",
      "\n",
      "\n",
      "features_8\n",
      "kernels\n",
      "FORCE\n",
      "0.2\n",
      "0.8421449226914643\n",
      "\n",
      "\n",
      "features_10\n",
      "kernels\n",
      "FORCE\n",
      "0.2\n",
      "0.8253964363278858\n",
      "\n",
      "\n",
      "features_3\n",
      "kernels\n",
      "FORCE\n",
      "0.05\n",
      "-0.2470350707033511\n",
      "\n",
      "\n",
      "features_10\n",
      "kernels\n",
      "FORCE\n",
      "0.01\n",
      "0.06838119754480249\n",
      "\n",
      "\n",
      "features_8\n",
      "kernels\n",
      "FORCE\n",
      "0.001\n",
      "-0.08626062734546726\n",
      "\n",
      "\n",
      "features_6\n",
      "kernels\n",
      "FORCE\n",
      "0.01\n",
      "0.31864157618245015\n",
      "\n",
      "\n",
      "features_10\n",
      "kernels\n",
      "FORCE\n",
      "0.5\n",
      "0.9999824675217723\n",
      "\n",
      "\n",
      "features_8\n",
      "kernels\n",
      "FORCE\n",
      "0.2\n",
      "0.9487814815222049\n",
      "\n",
      "\n",
      "features_6\n",
      "kernels\n",
      "FORCE\n",
      "0.5\n",
      "0.9999998918581035\n",
      "\n",
      "\n",
      "features_10\n",
      "kernels\n",
      "FORCE\n",
      "0.05\n",
      "0.5097056046607308\n",
      "\n",
      "\n",
      "features_3\n",
      "kernels\n",
      "FORCE\n",
      "0.2\n",
      "0.9532930405977308\n",
      "\n",
      "\n",
      "features_6\n",
      "kernels\n",
      "FORCE\n",
      "0.005\n",
      "0.11155729173499805\n",
      "\n",
      "\n",
      "features_6\n",
      "kernels\n",
      "FORCE\n",
      "0.001\n",
      "0.10652369546997423\n",
      "\n",
      "\n"
     ]
    }
   ],
   "source": [
    "for i in range(len(masks)):\n",
    "    print(masks[i]['layer'])\n",
    "    print(masks[i]['structure'])\n",
    "    print(masks[i]['method'])\n",
    "    print(masks[i]['keep_ratio'])\n",
    "    print(get_circuit_accuracy(masks[i],metric = 'pearson'))\n",
    "    print('\\n')"
   ]
  },
  {
   "cell_type": "code",
   "execution_count": 31,
   "id": "d03dd021",
   "metadata": {},
   "outputs": [
    {
     "data": {
      "text/plain": [
       "200"
      ]
     },
     "execution_count": 31,
     "metadata": {},
     "output_type": "execute_result"
    }
   ],
   "source": [
    "masks[100]['batch_size']"
   ]
  },
  {
   "cell_type": "code",
   "execution_count": 5,
   "id": "e2b87e7a",
   "metadata": {},
   "outputs": [],
   "source": [
    "import pandas as pd\n",
    "import os\n",
    "\n",
    "def gen_accuracies_df_from_masks_folder(folder_path):\n",
    "    \n",
    "    big_list = []\n",
    "    columns = ['model_name','method','keep_ratio','T','layer','unit','id','structure','rank_field','data_path','spearman','pearson','avg_diff']\n",
    "    fs = os.listdir(folder_path)\n",
    "    for f in fs:\n",
    "\n",
    "        mask = torch.load(folder_path+'/'+f)\n",
    "        \n",
    "        if 'structure' not in mask.keys():\n",
    "            print(f)\n",
    "            continue\n",
    "        \n",
    "        \n",
    "\n",
    "        model_name = folder_path.split('/')[-1]\n",
    "        if 'method' in mask.keys():\n",
    "            method = mask['method']\n",
    "        else:\n",
    "            method = 'FORCE'\n",
    "        \n",
    "        if 'T' in mask.keys():\n",
    "            T = mask['T']\n",
    "        else:\n",
    "            T = 1\n",
    "            \n",
    "        spearman = get_circuit_accuracy(mask,metric = 'spearman')\n",
    "        pearson = get_circuit_accuracy(mask,metric = 'pearson')\n",
    "        avg_diff = get_circuit_accuracy(mask,metric = 'avg_diff')\n",
    "        \n",
    "        f_id = mask['layer']+':'+str(mask['unit'])\n",
    "        \n",
    "        big_list.append([model_name,method,mask['keep_ratio'],T,mask['layer'],mask['unit'],f_id,mask['structure'],mask['rank_field'],mask['data_path'],spearman,pearson,avg_diff])\n",
    "            \n",
    "    df = pd.DataFrame(big_list,columns=columns)\n",
    "    return df"
   ]
  },
  {
   "cell_type": "code",
   "execution_count": 33,
   "id": "7dcd868f",
   "metadata": {},
   "outputs": [
    {
     "name": "stderr",
     "output_type": "stream",
     "text": [
      "/home/chris/miniconda3/envs/viscnn/lib/python3.7/site-packages/scipy/stats/stats.py:4264: SpearmanRConstantInputWarning:\n",
      "\n",
      "An input array is constant; the correlation coefficent is not defined.\n",
      "\n"
     ]
    }
   ],
   "source": [
    "acc_df = gen_accuracies_df_from_masks_folder(mask_folder)"
   ]
  },
  {
   "cell_type": "code",
   "execution_count": 34,
   "id": "dab6c2fb",
   "metadata": {},
   "outputs": [
    {
     "data": {
      "text/html": [
       "<div>\n",
       "<style scoped>\n",
       "    .dataframe tbody tr th:only-of-type {\n",
       "        vertical-align: middle;\n",
       "    }\n",
       "\n",
       "    .dataframe tbody tr th {\n",
       "        vertical-align: top;\n",
       "    }\n",
       "\n",
       "    .dataframe thead th {\n",
       "        text-align: right;\n",
       "    }\n",
       "</style>\n",
       "<table border=\"1\" class=\"dataframe\">\n",
       "  <thead>\n",
       "    <tr style=\"text-align: right;\">\n",
       "      <th></th>\n",
       "      <th>model_name</th>\n",
       "      <th>method</th>\n",
       "      <th>keep_ratio</th>\n",
       "      <th>T</th>\n",
       "      <th>layer</th>\n",
       "      <th>unit</th>\n",
       "      <th>id</th>\n",
       "      <th>structure</th>\n",
       "      <th>rank_field</th>\n",
       "      <th>data_path</th>\n",
       "      <th>spearman</th>\n",
       "      <th>pearson</th>\n",
       "      <th>avg_diff</th>\n",
       "    </tr>\n",
       "  </thead>\n",
       "  <tbody>\n",
       "    <tr>\n",
       "      <th>0</th>\n",
       "      <td></td>\n",
       "      <td>FORCE</td>\n",
       "      <td>0.200</td>\n",
       "      <td>1</td>\n",
       "      <td>features_10</td>\n",
       "      <td>13</td>\n",
       "      <td>features_10:13</td>\n",
       "      <td>kernels</td>\n",
       "      <td>image</td>\n",
       "      <td>image_data/imagenet_2/</td>\n",
       "      <td>0.747674</td>\n",
       "      <td>0.790496</td>\n",
       "      <td>1.869828</td>\n",
       "    </tr>\n",
       "    <tr>\n",
       "      <th>1</th>\n",
       "      <td></td>\n",
       "      <td>FORCE</td>\n",
       "      <td>0.100</td>\n",
       "      <td>1</td>\n",
       "      <td>features_6</td>\n",
       "      <td>1</td>\n",
       "      <td>features_6:1</td>\n",
       "      <td>kernels</td>\n",
       "      <td>image</td>\n",
       "      <td>image_data/imagenet_2/</td>\n",
       "      <td>0.847219</td>\n",
       "      <td>0.867970</td>\n",
       "      <td>2.267001</td>\n",
       "    </tr>\n",
       "    <tr>\n",
       "      <th>2</th>\n",
       "      <td></td>\n",
       "      <td>FORCE</td>\n",
       "      <td>0.001</td>\n",
       "      <td>8</td>\n",
       "      <td>features_10</td>\n",
       "      <td>13</td>\n",
       "      <td>features_10:13</td>\n",
       "      <td>kernels</td>\n",
       "      <td>image</td>\n",
       "      <td>image_data/imagenet_2/</td>\n",
       "      <td>0.186479</td>\n",
       "      <td>0.182702</td>\n",
       "      <td>2.526336</td>\n",
       "    </tr>\n",
       "    <tr>\n",
       "      <th>3</th>\n",
       "      <td></td>\n",
       "      <td>FORCE</td>\n",
       "      <td>0.050</td>\n",
       "      <td>1</td>\n",
       "      <td>features_8</td>\n",
       "      <td>2</td>\n",
       "      <td>features_8:2</td>\n",
       "      <td>kernels</td>\n",
       "      <td>image</td>\n",
       "      <td>image_data/imagenet_2/</td>\n",
       "      <td>0.433226</td>\n",
       "      <td>0.456731</td>\n",
       "      <td>3.065464</td>\n",
       "    </tr>\n",
       "    <tr>\n",
       "      <th>4</th>\n",
       "      <td></td>\n",
       "      <td>FORCE</td>\n",
       "      <td>0.010</td>\n",
       "      <td>8</td>\n",
       "      <td>features_3</td>\n",
       "      <td>4</td>\n",
       "      <td>features_3:4</td>\n",
       "      <td>kernels</td>\n",
       "      <td>image</td>\n",
       "      <td>image_data/imagenet_2/</td>\n",
       "      <td>0.758324</td>\n",
       "      <td>0.762350</td>\n",
       "      <td>5.562233</td>\n",
       "    </tr>\n",
       "    <tr>\n",
       "      <th>...</th>\n",
       "      <td>...</td>\n",
       "      <td>...</td>\n",
       "      <td>...</td>\n",
       "      <td>...</td>\n",
       "      <td>...</td>\n",
       "      <td>...</td>\n",
       "      <td>...</td>\n",
       "      <td>...</td>\n",
       "      <td>...</td>\n",
       "      <td>...</td>\n",
       "      <td>...</td>\n",
       "      <td>...</td>\n",
       "      <td>...</td>\n",
       "    </tr>\n",
       "    <tr>\n",
       "      <th>1115</th>\n",
       "      <td></td>\n",
       "      <td>FORCE</td>\n",
       "      <td>0.500</td>\n",
       "      <td>8</td>\n",
       "      <td>features_6</td>\n",
       "      <td>19</td>\n",
       "      <td>features_6:19</td>\n",
       "      <td>kernels</td>\n",
       "      <td>image</td>\n",
       "      <td>image_data/imagenet_2/</td>\n",
       "      <td>1.000000</td>\n",
       "      <td>1.000000</td>\n",
       "      <td>0.000869</td>\n",
       "    </tr>\n",
       "    <tr>\n",
       "      <th>1116</th>\n",
       "      <td></td>\n",
       "      <td>FORCE</td>\n",
       "      <td>0.050</td>\n",
       "      <td>8</td>\n",
       "      <td>features_10</td>\n",
       "      <td>3</td>\n",
       "      <td>features_10:3</td>\n",
       "      <td>kernels</td>\n",
       "      <td>image</td>\n",
       "      <td>image_data/imagenet_2/</td>\n",
       "      <td>0.496394</td>\n",
       "      <td>0.509706</td>\n",
       "      <td>1.897411</td>\n",
       "    </tr>\n",
       "    <tr>\n",
       "      <th>1117</th>\n",
       "      <td></td>\n",
       "      <td>FORCE</td>\n",
       "      <td>0.200</td>\n",
       "      <td>8</td>\n",
       "      <td>features_3</td>\n",
       "      <td>13</td>\n",
       "      <td>features_3:13</td>\n",
       "      <td>kernels</td>\n",
       "      <td>image</td>\n",
       "      <td>image_data/imagenet_2/</td>\n",
       "      <td>0.885753</td>\n",
       "      <td>0.953293</td>\n",
       "      <td>1.973063</td>\n",
       "    </tr>\n",
       "    <tr>\n",
       "      <th>1118</th>\n",
       "      <td></td>\n",
       "      <td>FORCE</td>\n",
       "      <td>0.005</td>\n",
       "      <td>8</td>\n",
       "      <td>features_6</td>\n",
       "      <td>7</td>\n",
       "      <td>features_6:7</td>\n",
       "      <td>kernels</td>\n",
       "      <td>image</td>\n",
       "      <td>image_data/imagenet_2/</td>\n",
       "      <td>0.091203</td>\n",
       "      <td>0.111557</td>\n",
       "      <td>5.156613</td>\n",
       "    </tr>\n",
       "    <tr>\n",
       "      <th>1119</th>\n",
       "      <td></td>\n",
       "      <td>FORCE</td>\n",
       "      <td>0.001</td>\n",
       "      <td>1</td>\n",
       "      <td>features_6</td>\n",
       "      <td>11</td>\n",
       "      <td>features_6:11</td>\n",
       "      <td>kernels</td>\n",
       "      <td>image</td>\n",
       "      <td>image_data/imagenet_2/</td>\n",
       "      <td>0.144030</td>\n",
       "      <td>0.106524</td>\n",
       "      <td>3.607367</td>\n",
       "    </tr>\n",
       "  </tbody>\n",
       "</table>\n",
       "<p>1120 rows × 13 columns</p>\n",
       "</div>"
      ],
      "text/plain": [
       "     model_name method  keep_ratio  T        layer  unit              id  \\\n",
       "0                FORCE       0.200  1  features_10    13  features_10:13   \n",
       "1                FORCE       0.100  1   features_6     1    features_6:1   \n",
       "2                FORCE       0.001  8  features_10    13  features_10:13   \n",
       "3                FORCE       0.050  1   features_8     2    features_8:2   \n",
       "4                FORCE       0.010  8   features_3     4    features_3:4   \n",
       "...         ...    ...         ... ..          ...   ...             ...   \n",
       "1115             FORCE       0.500  8   features_6    19   features_6:19   \n",
       "1116             FORCE       0.050  8  features_10     3   features_10:3   \n",
       "1117             FORCE       0.200  8   features_3    13   features_3:13   \n",
       "1118             FORCE       0.005  8   features_6     7    features_6:7   \n",
       "1119             FORCE       0.001  1   features_6    11   features_6:11   \n",
       "\n",
       "     structure rank_field               data_path  spearman   pearson  \\\n",
       "0      kernels      image  image_data/imagenet_2/  0.747674  0.790496   \n",
       "1      kernels      image  image_data/imagenet_2/  0.847219  0.867970   \n",
       "2      kernels      image  image_data/imagenet_2/  0.186479  0.182702   \n",
       "3      kernels      image  image_data/imagenet_2/  0.433226  0.456731   \n",
       "4      kernels      image  image_data/imagenet_2/  0.758324  0.762350   \n",
       "...        ...        ...                     ...       ...       ...   \n",
       "1115   kernels      image  image_data/imagenet_2/  1.000000  1.000000   \n",
       "1116   kernels      image  image_data/imagenet_2/  0.496394  0.509706   \n",
       "1117   kernels      image  image_data/imagenet_2/  0.885753  0.953293   \n",
       "1118   kernels      image  image_data/imagenet_2/  0.091203  0.111557   \n",
       "1119   kernels      image  image_data/imagenet_2/  0.144030  0.106524   \n",
       "\n",
       "      avg_diff  \n",
       "0     1.869828  \n",
       "1     2.267001  \n",
       "2     2.526336  \n",
       "3     3.065464  \n",
       "4     5.562233  \n",
       "...        ...  \n",
       "1115  0.000869  \n",
       "1116  1.897411  \n",
       "1117  1.973063  \n",
       "1118  5.156613  \n",
       "1119  3.607367  \n",
       "\n",
       "[1120 rows x 13 columns]"
      ]
     },
     "execution_count": 34,
     "metadata": {},
     "output_type": "execute_result"
    }
   ],
   "source": [
    "acc_df"
   ]
  },
  {
   "cell_type": "code",
   "execution_count": 35,
   "id": "691e0850",
   "metadata": {},
   "outputs": [
    {
     "name": "stdout",
     "output_type": "stream",
     "text": [
      "total\n",
      "0.5134276231992592\n",
      "0.4151002603420854\n",
      "r: 0.5\n",
      "0.9920266083318298\n",
      "0.9873781184693513\n",
      "r: 0.2\n",
      "0.8734611923457141\n",
      "0.808966083474607\n",
      "r: 0.1\n",
      "0.7003036756975304\n",
      "0.541398506104701\n",
      "r: 0.05\n",
      "0.477032520900881\n",
      "0.36879792701723196\n",
      "r: 0.01\n",
      "0.2925920997174039\n",
      "0.12447133276550311\n",
      "r: 0.005\n",
      "0.17665923933557087\n",
      "0.05294488449967873\n",
      "r: 0.001\n",
      "0.08191802606588365\n",
      "0.02174497006352468\n"
     ]
    }
   ],
   "source": [
    "#compare t8 and t1\n",
    "\n",
    "t8_df = acc_df.loc[acc_df['T']==8]\n",
    "t1_df = acc_df.loc[acc_df['T']==1]\n",
    "\n",
    "print('total')\n",
    "print(np.mean(t8_df.pearson))\n",
    "print(np.mean(t1_df.pearson))\n",
    "\n",
    "for r in [.5,.2,.1,.05,.01,.005,.001]:\n",
    "    print('r: %s'%r)\n",
    "    print(np.mean(t8_df.loc[t8_df['keep_ratio']==r].pearson))\n",
    "    print(np.mean(t1_df.loc[t1_df['keep_ratio']==r].pearson))\n"
   ]
  },
  {
   "cell_type": "code",
   "execution_count": null,
   "id": "f692da6b",
   "metadata": {},
   "outputs": [],
   "source": [
    "\n",
    "\n",
    "print('total')\n",
    "print(np.mean(df.correlations))\n",
    "\n",
    "\n",
    "for r in [.5,.2,.1,.05,.01,.005,.001]:\n",
    "    print('r: %s'%r)\n",
    "    print(np.mean(df.loc[df['keep_ratios']==r].correlations))\n",
    "\n"
   ]
  },
  {
   "cell_type": "code",
   "execution_count": null,
   "id": "78eb66c8",
   "metadata": {},
   "outputs": [],
   "source": [
    "import plotly.express as px\n",
    "\n",
    "fig = px.scatter(acc_df, x=\"keep_ratio\", y=\"pearson\", color=\"id\",\n",
    "                 log_x=True,custom_data=['id','structure','method','T'])\n",
    "fig.update_traces(\n",
    "    hovertemplate=\"<br>\".join([\n",
    "        \"id: %{customdata[0]}\",\n",
    "        \"structure: %{customdata[1]}\",\n",
    "        \"method: %{customdata[2]}\",\n",
    "        \"T: %{customdata[3]}\"\n",
    "    ])\n",
    ")\n",
    "fig.show()"
   ]
  },
  {
   "cell_type": "code",
   "execution_count": null,
   "id": "2dff3640",
   "metadata": {},
   "outputs": [],
   "source": [
    "import plotly.express as px\n",
    "\n",
    "fig = px.scatter(acc_df, x=\"keep_ratio\", y=\"pearson\", color=\"structure\",\n",
    "                 log_x=True))\n",
    "fig.show()"
   ]
  },
  {
   "cell_type": "code",
   "execution_count": null,
   "id": "72598357",
   "metadata": {},
   "outputs": [],
   "source": [
    "\n",
    "import matplotlib.pyplot as plt\n",
    "   \n",
    "\n",
    "acc_df.loc[acc_df['structure']=='kernels'].plot(x ='keep_ratio', y='pearson', kind = 'scatter', logx=True)\n",
    "plt.show()"
   ]
  },
  {
   "cell_type": "code",
   "execution_count": null,
   "id": "ee79d5eb",
   "metadata": {},
   "outputs": [],
   "source": [
    "acc_df.loc[acc_df['structure']=='kernels'].sort_values(by=['id'])"
   ]
  },
  {
   "cell_type": "code",
   "execution_count": null,
   "id": "173e4a4c",
   "metadata": {},
   "outputs": [],
   "source": [
    "m2 = []\n",
    "\n",
    "for m in masks:\n",
    "    if m['layer'] == 'features_6' and m['unit'] ==0 and m['T'] == 1:\n",
    "        m2.append(m)"
   ]
  },
  {
   "cell_type": "code",
   "execution_count": null,
   "id": "136a1a84",
   "metadata": {},
   "outputs": [],
   "source": [
    "m3 = []\n",
    "\n",
    "for m in masks:\n",
    "    if m['layer'] == 'features_6' and m['unit'] ==0:\n",
    "        m3.append(m)"
   ]
  },
  {
   "cell_type": "code",
   "execution_count": null,
   "id": "be0a3dd1",
   "metadata": {},
   "outputs": [],
   "source": [
    "for m in m2:\n",
    "    print(str(m['keep_ratio'])+ ' '+str(m['structure'])+' '+str(m['T']))\n",
    "    \n",
    "\n",
    "for m in m2:    \n",
    "    print(m['pruned_target_activations']['features_6:0'][0,0,0])"
   ]
  },
  {
   "cell_type": "code",
   "execution_count": null,
   "id": "34c91c75",
   "metadata": {},
   "outputs": [],
   "source": [
    "print(m2[0]['mask'])"
   ]
  },
  {
   "cell_type": "code",
   "execution_count": 6,
   "id": "34b578c0",
   "metadata": {},
   "outputs": [],
   "source": [
    "def get_mask_ratios_by_layer(mask):\n",
    "    out = []\n",
    "    for l in range(len(mask)):\n",
    "        arr = mask[l]\n",
    "        out.append(float((arr == 1.).sum())/float(arr.flatten().size()[0]))\n",
    "    return out\n",
    "        \n"
   ]
  },
  {
   "cell_type": "code",
   "execution_count": 7,
   "id": "21e7ebed",
   "metadata": {},
   "outputs": [],
   "source": [
    "def get_mask_ratio_all_layers(mask):\n",
    "    total = 0\n",
    "    ones = 0\n",
    "    for l in range(len(mask)-2):\n",
    "        arr = mask[l]\n",
    "        ones += float((arr == 1.).sum())\n",
    "        total+= float(arr.flatten().size()[0])\n",
    "    return ones/total\n",
    "        "
   ]
  },
  {
   "cell_type": "code",
   "execution_count": null,
   "id": "75cbfb5a",
   "metadata": {},
   "outputs": [],
   "source": [
    "for mask in m2:\n",
    "    print(mask['keep_ratio'])\n",
    "    print(mask['method'])\n",
    "    print(mask['structure'])\n",
    "    print(get_mask_ratios_by_layer(mask['mask']))\n",
    "    print(get_mask_ratio_all_layers(mask['mask']))\n",
    "    print(mask['mask'][0].sum()+mask['mask'][1].sum()+mask['mask'][2].sum())\n"
   ]
  },
  {
   "cell_type": "code",
   "execution_count": null,
   "id": "051ca1e8",
   "metadata": {},
   "outputs": [],
   "source": [
    "for mask in m3:\n",
    "    print(mask['keep_ratio'])\n",
    "    print(mask['method'])\n",
    "    print(mask['structure'])\n",
    "    print(get_mask_ratios_by_layer(mask['mask']))\n",
    "    print(get_mask_ratio_all_layers(mask['mask']))\n",
    "    print(mask['mask'][0].sum()+mask['mask'][1].sum()+mask['mask'][2].sum())\n",
    "    \n"
   ]
  },
  {
   "cell_type": "code",
   "execution_count": null,
   "id": "ba1065a3",
   "metadata": {},
   "outputs": [],
   "source": [
    "for m in m3:\n",
    "    print(m['mask'])"
   ]
  },
  {
   "cell_type": "code",
   "execution_count": null,
   "id": "f3842244",
   "metadata": {},
   "outputs": [],
   "source": []
  },
  {
   "cell_type": "markdown",
   "id": "37f0a428",
   "metadata": {},
   "source": [
    "## cummulative sparsity versus sparsity"
   ]
  },
  {
   "cell_type": "markdown",
   "id": "b51ad18d",
   "metadata": {},
   "source": [
    "### generate MASK"
   ]
  },
  {
   "cell_type": "code",
   "execution_count": 8,
   "id": "0190063f",
   "metadata": {},
   "outputs": [],
   "source": [
    "import torch\n",
    "from circuit_pruner.force import *\n",
    "from circuit_pruner.custom_exceptions import TargetReached\n",
    "import time\n",
    "import os\n",
    "from circuit_pruner.utils import update_sys_path\n",
    "import torch.utils.data as data\n",
    "import torchvision.datasets as datasets\n",
    "from circuit_pruner.data_loading import rank_image_data\n",
    "from circuit_pruner.dissected_Conv2d import *\n",
    "from copy import deepcopy\n",
    "\n",
    "def mask_from_sparsity(rank_list, k):\n",
    "\n",
    "    all_scores = torch.cat([torch.flatten(x) for x in rank_list])\n",
    "    norm_factor = torch.sum(all_scores)\n",
    "    all_scores.div_(norm_factor)\n",
    "\n",
    "    threshold, _ = torch.topk(all_scores, k, sorted=True)\n",
    "    acceptable_score = threshold[-1]\n",
    "\n",
    "    mask = []\n",
    "\n",
    "    for g in rank_list:\n",
    "        mask.append(((g / norm_factor) >= acceptable_score).float())\n",
    "        \n",
    "    return mask\n",
    "\n",
    "def mask_from_cum_salience(rank_list, cum_sal):\n",
    "\n",
    "    all_scores = torch.cat([torch.flatten(x) for x in rank_list])\n",
    "    norm_factor = torch.sum(all_scores)\n",
    "    all_scores.div_(norm_factor)\n",
    "\n",
    "    \n",
    "    all_scores_sorted = torch.sort(all_scores, descending=True).values\n",
    "    \n",
    "    cum_total = 0.\n",
    "    for i in range(len(all_scores_sorted)):\n",
    "        cum_total += all_scores_sorted[i]\n",
    "        if cum_total > cum_sal:\n",
    "            print(i)\n",
    "            threshold = all_scores_sorted[i]\n",
    "            print(threshold)\n",
    "            break\n",
    "            \n",
    "\n",
    "    mask = []\n",
    "\n",
    "    for g in rank_list:\n",
    "        mask.append(((g / norm_factor) >= threshold).float())\n",
    "        \n",
    "    return mask,i\n",
    "\n",
    "\n"
   ]
  },
  {
   "cell_type": "code",
   "execution_count": null,
   "id": "e7c8330f",
   "metadata": {},
   "outputs": [],
   "source": [
    "\n",
    "cum_sparsities = [.99,.95]\n",
    "for i in range(18):\n",
    "    cum_sparsities.append(round(cum_sparsities[-1]-.05,2))"
   ]
  },
  {
   "cell_type": "markdown",
   "id": "534df750",
   "metadata": {},
   "source": [
    "## setup"
   ]
  },
  {
   "cell_type": "code",
   "execution_count": null,
   "id": "6269586c",
   "metadata": {},
   "outputs": [],
   "source": [
    "layer = 'features_3'\n",
    "unit = 11\n",
    "\n",
    "feature_name = layer+':'+str(unit)\n",
    "method = 'actxgrad'\n",
    "structure = 'edges'\n",
    "device = 'cuda:0'\n",
    "batch_size = 200\n",
    "\n",
    "\n",
    "#get ranks\n",
    "\n",
    "ranks_folder = 'circuit_ranks/alexnet_sparse/actgrad/'\n",
    "\n",
    "for f in os.listdir(ranks_folder):\n",
    "    if feature_name in f:\n",
    "        layer_ranks = torch.load(ranks_folder+f)\n",
    "        break\n",
    "        \n",
    "rank_list = []\n",
    "\n",
    "for l in range(len(layer_ranks['ranks'][structure][method])):\n",
    "    print(layer_ranks['ranks'][structure][method][l][0])\n",
    "    rank_list.append(torch.tensor(layer_ranks['ranks'][structure][method][l][1]))\n",
    "\n",
    "    \n",
    "#params\n",
    "\n",
    "config = layer_ranks['config']\n",
    "\n",
    "if '/' in config:\n",
    "    config_root_path = ('/').join(config.split('/')[:-1])\n",
    "    update_sys_path(config_root_path)\n",
    "config_module = config.split('/')[-1].replace('.py','')\n",
    "params = __import__(config_module)\n",
    "\n",
    "\n",
    "\n",
    "#target_activations\n",
    "\n",
    "target_activations = torch.load('target_activations/alexnet_sparse/imagenet_2/'+feature_name+'.pt')\n",
    "    \n",
    "\n",
    "    \n",
    "#model\n",
    "\n",
    "model = params.model\n",
    "\n",
    "feature_target = {layer:[unit]}\n",
    "\n",
    "\n",
    "pruned_model = deepcopy(model)\n",
    "pruned_model = pruned_model.to(device)\n",
    "\n",
    "setup_net_for_circuit_prune(pruned_model, feature_targets=feature_target, rank_field = 'image',save_target_activations=True)\n",
    "\n",
    "pruned_model = pruned_model.to(device)\n",
    "\n",
    "reset_masks_in_net(pruned_model)\n",
    "\n",
    "\n",
    "#dataloader\n",
    "kwargs = {'num_workers': params.num_workers, 'pin_memory': True, 'sampler':None} if 'cuda' in device else {}\n",
    "dataloader = data.DataLoader(rank_image_data(params.data_path,\n",
    "                                            params.preprocess,\n",
    "                                            label_file_path = params.label_file_path,class_folders=True),\n",
    "                                            batch_size=batch_size,\n",
    "                                            shuffle=False,\n",
    "                                            **kwargs)\n",
    "\n",
    "\n",
    "\n",
    "#total params\n",
    "\n",
    "\n",
    "total_params = 0\n",
    "for l in pruned_model.modules():\n",
    "    if isinstance(l, nn.Conv2d):\n",
    "        if not l.last_layer:  #all params potentially relevant\n",
    "            if structure in ['kernels','edges']:\n",
    "                total_params += int(l.weight.shape[0]*l.weight.shape[1])\n",
    "            else:\n",
    "                total_params += int(l.weight.shape[0])\n",
    "\n",
    "        else: #only weights leading into feature targets are relevant\n",
    "            if structure in ['kernels','edges']:\n",
    "                total_params += int(len(l.feature_targets_indices)*l.weight.shape[1])\n",
    "            else:\n",
    "                total_params += len(l.feature_targets_indices)\n",
    "\n",
    "            break\n",
    "\n"
   ]
  },
  {
   "cell_type": "markdown",
   "id": "927a4c4b",
   "metadata": {},
   "source": [
    "### set up mask"
   ]
  },
  {
   "cell_type": "code",
   "execution_count": null,
   "id": "f0a37fb5",
   "metadata": {},
   "outputs": [],
   "source": [
    "#set up cum sals\n",
    "\n",
    "\n",
    "\n",
    "\n",
    "cum_sals = [.99,.95]\n",
    "for i in range(18):\n",
    "    cum_sals.append(round(cum_sals[-1]-.05,2))\n",
    "\n",
    "    \n",
    "pearsons = []\n",
    "sparsities = []\n",
    "for cum_sal in cum_sals:\n",
    "\n",
    "    #setup mask\n",
    "    mask,k = mask_from_cum_salience(rank_list, cum_sal)\n",
    "    sparsities.append(float(k)/total_params)\n",
    "\n",
    "\n",
    "    if structure is not 'weights':\n",
    "        expanded_mask = expand_structured_mask(mask,pruned_model) #this weight mask will get applied to the network on the next iteration\n",
    "    else:\n",
    "        expanded_mask = mask\n",
    "\n",
    "    for l in expanded_mask:\n",
    "        l = l.to(device)\n",
    "\n",
    "    #import pdb; pdb.set_trace()\n",
    "    ###GET ACTIVATIONS FROM PRUNED MODEL\n",
    "    #get feature outputs from pruned model\n",
    "    if structure == 'filters':\n",
    "        reset_masks_in_net(pruned_model)\n",
    "        apply_filter_mask(pruned_model,mask) #different than masking weights, because it also masks biases\n",
    "    else:\n",
    "        apply_mask(pruned_model,expanded_mask) \n",
    "        \n",
    "        \n",
    "    #run model\n",
    "    save_target_activations_in_net(pruned_model,save=True)\n",
    "\n",
    "    iter_dataloader = iter(dataloader)\n",
    "    iters = len(iter_dataloader)\n",
    "\n",
    "\n",
    "\n",
    "    pruned_target_activations = {}\n",
    "\n",
    "    for it in range(iters):\n",
    "        #clear_feature_targets_from_net(pruned_model)\n",
    "\n",
    "        # Grab a single batch from the training dataset\n",
    "        inputs, targets = next(iter_dataloader)\n",
    "        inputs = inputs.to(device)\n",
    "\n",
    "        pruned_model.zero_grad()\n",
    "\n",
    "        #Run model forward until all targets reached\n",
    "        try:\n",
    "            outputs = pruned_model.forward(inputs)\n",
    "        except:\n",
    "            #except:\n",
    "            pass\n",
    "\n",
    "\n",
    "        activations = get_saved_target_activations_from_net(pruned_model)\n",
    "        for l in activations:\n",
    "            activations[l] = activations[l].to('cpu')\n",
    "            if l not in pruned_target_activations.keys():\n",
    "                pruned_target_activations[l] = activations[l]\n",
    "            else:\n",
    "                pruned_target_activations[l] = torch.cat((pruned_target_activations[l],activations[l]),dim=0)\n",
    "\n",
    "    #compare\n",
    "    cor = pearsonr(target_activations[feature_name].flatten().numpy(),pruned_target_activations[feature_name].flatten().numpy())[0]\n",
    "    if cor == np.nan:\n",
    "        cor = 0.\n",
    "    print(cor)\n",
    "    \n",
    "    pearsons.append(cor)"
   ]
  },
  {
   "cell_type": "code",
   "execution_count": null,
   "id": "4fcb4872",
   "metadata": {},
   "outputs": [],
   "source": [
    "#setup mask\n",
    "cum_sal = .4\n",
    "mask,k = mask_from_cum_salience(rank_list, cum_sal)\n",
    "#sparsities.append(float(k)/total_params)\n",
    "\n",
    "\n",
    "if structure is not 'weights':\n",
    "    expanded_mask = expand_structured_mask(mask,pruned_model) #this weight mask will get applied to the network on the next iteration\n",
    "else:\n",
    "    expanded_mask = mask\n",
    "\n",
    "for l in expanded_mask:\n",
    "    l = l.to(device)\n",
    "\n",
    "#import pdb; pdb.set_trace()\n",
    "###GET ACTIVATIONS FROM PRUNED MODEL\n",
    "#get feature outputs from pruned model\n",
    "if structure == 'filters':\n",
    "    reset_masks_in_net(pruned_model)\n",
    "    apply_filter_mask(pruned_model,mask) #different than masking weights, because it also masks biases\n",
    "else:\n",
    "    apply_mask(pruned_model,expanded_mask) \n",
    "\n",
    "\n",
    "#run model\n",
    "save_target_activations_in_net(pruned_model,save=True)\n",
    "\n",
    "iter_dataloader = iter(dataloader)\n",
    "iters = len(iter_dataloader)\n",
    "\n",
    "\n",
    "\n",
    "pruned_target_activations = {}\n",
    "\n",
    "for it in range(iters):\n",
    "    #clear_feature_targets_from_net(pruned_model)\n",
    "\n",
    "    # Grab a single batch from the training dataset\n",
    "    inputs, targets = next(iter_dataloader)\n",
    "    inputs = inputs.to(device)\n",
    "\n",
    "    pruned_model.zero_grad()\n",
    "\n",
    "    #Run model forward until all targets reached\n",
    "    try:\n",
    "        outputs = pruned_model.forward(inputs)\n",
    "    except:\n",
    "        #except:\n",
    "        pass\n",
    "\n",
    "\n",
    "    activations = get_saved_target_activations_from_net(pruned_model)\n",
    "    for l in activations:\n",
    "        activations[l] = activations[l].to('cpu')\n",
    "        if l not in pruned_target_activations.keys():\n",
    "            pruned_target_activations[l] = activations[l]\n",
    "        else:\n",
    "            pruned_target_activations[l] = torch.cat((pruned_target_activations[l],activations[l]),dim=0)\n",
    "\n",
    "#compare\n",
    "cor = pearsonr(target_activations[feature_name].flatten().numpy(),pruned_target_activations[feature_name].flatten().numpy())[0]\n",
    "if cor == np.nan:\n",
    "    cor = 0.\n",
    "print(cor)"
   ]
  },
  {
   "cell_type": "code",
   "execution_count": null,
   "id": "95f01216",
   "metadata": {},
   "outputs": [],
   "source": [
    "import plotly.express as px\n",
    "\n",
    "fig = px.scatter(x=target_activations[feature_name].flatten().numpy(), y=pearsons)\n",
    "fig.update_xaxes(autorange=\"reversed\")\n",
    "fig.show()"
   ]
  },
  {
   "cell_type": "code",
   "execution_count": null,
   "id": "b17e26e2",
   "metadata": {},
   "outputs": [],
   "source": [
    "import plotly.express as px\n",
    "\n",
    "fig = px.scatter(x=cum_sals, y=pearsons)\n",
    "fig.update_xaxes(autorange=\"reversed\")\n",
    "fig.show()"
   ]
  },
  {
   "cell_type": "code",
   "execution_count": null,
   "id": "552ab26f",
   "metadata": {},
   "outputs": [],
   "source": [
    "import plotly.express as px\n",
    "\n",
    "fig = px.scatter(x=sparsities, y=pearsons)\n",
    "fig.update_xaxes(autorange=\"reversed\")\n",
    "fig.show()"
   ]
  },
  {
   "cell_type": "code",
   "execution_count": null,
   "id": "a751b412",
   "metadata": {},
   "outputs": [],
   "source": [
    "total_params"
   ]
  },
  {
   "cell_type": "markdown",
   "id": "ee52b2dc",
   "metadata": {},
   "source": [
    "### run model"
   ]
  },
  {
   "cell_type": "code",
   "execution_count": null,
   "id": "05062762",
   "metadata": {},
   "outputs": [],
   "source": [
    "start = time.time()\n",
    "\n",
    "save_target_activations_in_net(pruned_model,save=True)\n",
    "\n",
    "iter_dataloader = iter(dataloader)\n",
    "iters = len(iter_dataloader)\n",
    "\n",
    "\n",
    "\n",
    "pruned_target_activations = {}\n",
    "\n",
    "for it in range(iters):\n",
    "    #clear_feature_targets_from_net(pruned_model)\n",
    "\n",
    "    # Grab a single batch from the training dataset\n",
    "    inputs, targets = next(iter_dataloader)\n",
    "    inputs = inputs.to(device)\n",
    "\n",
    "    pruned_model.zero_grad()\n",
    "\n",
    "    #Run model forward until all targets reached\n",
    "    try:\n",
    "        outputs = pruned_model.forward(inputs)\n",
    "    except:\n",
    "        #except:\n",
    "        pass\n",
    "\n",
    "\n",
    "    activations = get_saved_target_activations_from_net(pruned_model)\n",
    "    for l in activations:\n",
    "        activations[l] = activations[l].to('cpu')\n",
    "        if l not in pruned_target_activations.keys():\n",
    "            pruned_target_activations[l] = activations[l]\n",
    "        else:\n",
    "            pruned_target_activations[l] = torch.cat((pruned_target_activations[l],activations[l]),dim=0)\n",
    "\n",
    "        \n",
    "print(time.time()-start)"
   ]
  },
  {
   "cell_type": "markdown",
   "id": "220e7399",
   "metadata": {},
   "source": [
    "### compare"
   ]
  },
  {
   "cell_type": "code",
   "execution_count": null,
   "id": "684d285f",
   "metadata": {},
   "outputs": [],
   "source": [
    "pearsonr(target_activations[feature].flatten().numpy(),pruned_target_activations[feature].flatten().numpy())[0]"
   ]
  },
  {
   "cell_type": "markdown",
   "id": "58534383",
   "metadata": {},
   "source": [
    "### Get feature responses"
   ]
  },
  {
   "cell_type": "code",
   "execution_count": null,
   "id": "c4c3b248",
   "metadata": {},
   "outputs": [],
   "source": [
    "#params\n",
    "\n",
    "config = layer_ranks['config']\n",
    "\n",
    "if '/' in config:\n",
    "    config_root_path = ('/').join(args.config.split('/')[:-1])\n",
    "    update_sys_path(config_root_path)\n",
    "config_module = args.config.split('/')[-1].replace('.py','')\n",
    "params = __import__(config_module)\n",
    "\n",
    "\n",
    "\n",
    "\n",
    "layer = args.layer\n",
    "unit = args.unit\n",
    "ratios = args.ratio\n",
    "device= args.device\n",
    "rank_field = args.rank_field\n",
    "structure = args.structure\n",
    "\n",
    "\n",
    "if args.data_path is None:\n",
    "    data_path = params.data_path\n",
    "else:\n",
    "    data_path = args.data_path\n",
    "\n",
    "if args.batch_size is None:\n",
    "    batch_size = params.batch_size\n",
    "else:\n",
    "    batch_size = args.batch_size\n",
    "\n",
    "\n",
    "\n",
    "\n",
    "\n",
    "\n",
    "\n",
    "\n",
    "\n",
    "\n",
    "\n",
    "\n",
    "#target_activations\n",
    "\n",
    "target_activations = torch.load('target_activations/alexnet_sparse/imagenet_2/'+feature+'.pt')\n",
    "\n",
    "\n",
    "\n",
    "\n",
    "\n",
    "\n",
    "#model\n",
    "\n",
    "model = params.model\n",
    "\n"
   ]
  },
  {
   "cell_type": "code",
   "execution_count": null,
   "id": "45e59c79",
   "metadata": {},
   "outputs": [],
   "source": []
  },
  {
   "cell_type": "markdown",
   "id": "4f97868e",
   "metadata": {},
   "source": [
    "## plotting cumulative salience"
   ]
  },
  {
   "cell_type": "code",
   "execution_count": 19,
   "id": "48ef8b48",
   "metadata": {},
   "outputs": [],
   "source": [
    "import os\n",
    "import torch\n",
    "import pandas as pd\n",
    "import numpy as np\n",
    "\n",
    "def load_acc_df_from_folder(folder,keep_ratios = None):\n",
    "    cum_sal_datas = []\n",
    "    for f in os.listdir(folder):\n",
    "\n",
    "        cum_sal_datas.append(torch.load(folder+f))\n",
    "        \n",
    "\n",
    "        \n",
    "        \n",
    "    \n",
    "    #fix\n",
    "\n",
    "    cum_sals = [.99,.95]\n",
    "    for i in range(18):\n",
    "        cum_sals.append(round(cum_sals[-1]-.05,2))\n",
    "\n",
    "\n",
    "    for f in os.listdir(cumulative_folder):\n",
    "        d = torch.load(cumulative_folder+f)\n",
    "        if 'cum_sals' not in d.keys():\n",
    "            d['cum_sals'] = cum_sals\n",
    "            torch.save(d,cumulative_folder+f)    \n",
    "            \n",
    "            \n",
    "    biglist = []\n",
    "            \n",
    "    columns = ['correlations','keep_ratios','cum_sals','method','layer','unit','feature_name','batch_size','data_path']\n",
    "\n",
    "\n",
    "    ind = -1\n",
    "    for d in cum_sal_datas:\n",
    "        ind+=1\n",
    "        feature_name = d['layer']+':'+str(d['unit'])\n",
    "        if not (0 <= d['correlations'][0] <= 1):\n",
    "            print(ind)\n",
    "            continue\n",
    "        for i in range(len(d['correlations'])):\n",
    "            cor = d['correlations'][i]\n",
    "            ratio = d['keep_ratios'][i]\n",
    "            cum_sal = d['cum_sals'][i]\n",
    "            biglist.append([cor,ratio,cum_sal,d['method'],d['layer'],\n",
    "                 d['unit'],feature_name,d['batch_size'],d['data_path']])\n",
    "\n",
    "\n",
    "\n",
    "    df = pd.DataFrame(biglist,columns=columns)\n",
    "\n",
    "\n",
    "    \n",
    "    #cleanup\n",
    "\n",
    "    df.fillna(0, inplace=True)  \n",
    "    df = df.replace([np.inf, -np.inf], 0) \n",
    "    \n",
    "    if keep_ratios:\n",
    "        df_out = pd.DataFrame([],columns=columns)\n",
    "        for i in keep_ratios:\n",
    "            df_out = df_out.append(df.loc[df['keep_ratios']==i]) \n",
    "    else:\n",
    "        df_out = df\n",
    "        \n",
    "    return df_out\n",
    "    \n",
    "    \n",
    "\n",
    "cumulative_folder = 'cum_salience_accuracies/alexnet_sparse/imagenet_2/actxgrad/'\n",
    "\n",
    "\n",
    "\n",
    "cum_sal_datas = []\n",
    "for f in os.listdir(cumulative_folder):\n",
    " \n",
    "    cum_sal_datas.append(torch.load(cumulative_folder+f))"
   ]
  },
  {
   "cell_type": "code",
   "execution_count": 20,
   "id": "4a3d9f34",
   "metadata": {},
   "outputs": [],
   "source": [
    "#fix\n",
    "\n",
    "cum_sals = [.99,.95]\n",
    "for i in range(18):\n",
    "    cum_sals.append(round(cum_sals[-1]-.05,2))\n",
    "\n",
    "\n",
    "for f in os.listdir(cumulative_folder):\n",
    "    d = torch.load(cumulative_folder+f)\n",
    "    if 'cum_sals' not in d.keys():\n",
    "        d['cum_sals'] = cum_sals\n",
    "        torch.save(d,cumulative_folder+f)"
   ]
  },
  {
   "cell_type": "code",
   "execution_count": 21,
   "id": "3b6c3c6f",
   "metadata": {},
   "outputs": [
    {
     "name": "stdout",
     "output_type": "stream",
     "text": [
      "16\n",
      "33\n",
      "37\n",
      "46\n",
      "75\n",
      "101\n",
      "144\n",
      "157\n"
     ]
    }
   ],
   "source": [
    "import pandas as pd\n",
    "\n",
    "biglist = []\n",
    "\n",
    "columns = ['correlations','keep_ratios','cum_sals','method','layer','unit','feature_name','batch_size','data_path']\n",
    "\n",
    "\n",
    "ind = -1\n",
    "for d in cum_sal_datas:\n",
    "    ind+=1\n",
    "    feature_name = d['layer']+':'+str(d['unit'])\n",
    "    if not (0 <= d['correlations'][0] <= 1):\n",
    "        print(ind)\n",
    "        continue\n",
    "    for i in range(len(d['correlations'])):\n",
    "        cor = d['correlations'][i]\n",
    "        ratio = d['keep_ratios'][i]\n",
    "        cum_sal = d['cum_sals'][i]\n",
    "        biglist.append([cor,ratio,cum_sal,d['method'],d['layer'],\n",
    "             d['unit'],feature_name,d['batch_size'],d['data_path']])\n",
    "    \n",
    "\n",
    "            \n",
    "df = pd.DataFrame(biglist,columns=columns)"
   ]
  },
  {
   "cell_type": "code",
   "execution_count": 22,
   "id": "93f70778",
   "metadata": {},
   "outputs": [
    {
     "data": {
      "text/html": [
       "<div>\n",
       "<style scoped>\n",
       "    .dataframe tbody tr th:only-of-type {\n",
       "        vertical-align: middle;\n",
       "    }\n",
       "\n",
       "    .dataframe tbody tr th {\n",
       "        vertical-align: top;\n",
       "    }\n",
       "\n",
       "    .dataframe thead th {\n",
       "        text-align: right;\n",
       "    }\n",
       "</style>\n",
       "<table border=\"1\" class=\"dataframe\">\n",
       "  <thead>\n",
       "    <tr style=\"text-align: right;\">\n",
       "      <th></th>\n",
       "      <th>correlations</th>\n",
       "      <th>keep_ratios</th>\n",
       "      <th>cum_sals</th>\n",
       "      <th>method</th>\n",
       "      <th>layer</th>\n",
       "      <th>unit</th>\n",
       "      <th>feature_name</th>\n",
       "      <th>batch_size</th>\n",
       "      <th>data_path</th>\n",
       "    </tr>\n",
       "  </thead>\n",
       "  <tbody>\n",
       "    <tr>\n",
       "      <th>0</th>\n",
       "      <td>0.999999</td>\n",
       "      <td>0.500000</td>\n",
       "      <td>tensor(0.9995)</td>\n",
       "      <td>actxgrad</td>\n",
       "      <td>features_6</td>\n",
       "      <td>4</td>\n",
       "      <td>features_6:4</td>\n",
       "      <td>200</td>\n",
       "      <td>/mnt/data/chris/dropbox/Research-Hamblin/Proje...</td>\n",
       "    </tr>\n",
       "    <tr>\n",
       "      <th>1</th>\n",
       "      <td>0.983820</td>\n",
       "      <td>0.200000</td>\n",
       "      <td>tensor(0.9484)</td>\n",
       "      <td>actxgrad</td>\n",
       "      <td>features_6</td>\n",
       "      <td>4</td>\n",
       "      <td>features_6:4</td>\n",
       "      <td>200</td>\n",
       "      <td>/mnt/data/chris/dropbox/Research-Hamblin/Proje...</td>\n",
       "    </tr>\n",
       "    <tr>\n",
       "      <th>2</th>\n",
       "      <td>0.896475</td>\n",
       "      <td>0.100000</td>\n",
       "      <td>tensor(0.8449)</td>\n",
       "      <td>actxgrad</td>\n",
       "      <td>features_6</td>\n",
       "      <td>4</td>\n",
       "      <td>features_6:4</td>\n",
       "      <td>200</td>\n",
       "      <td>/mnt/data/chris/dropbox/Research-Hamblin/Proje...</td>\n",
       "    </tr>\n",
       "    <tr>\n",
       "      <th>3</th>\n",
       "      <td>0.674877</td>\n",
       "      <td>0.050000</td>\n",
       "      <td>tensor(0.7279)</td>\n",
       "      <td>actxgrad</td>\n",
       "      <td>features_6</td>\n",
       "      <td>4</td>\n",
       "      <td>features_6:4</td>\n",
       "      <td>200</td>\n",
       "      <td>/mnt/data/chris/dropbox/Research-Hamblin/Proje...</td>\n",
       "    </tr>\n",
       "    <tr>\n",
       "      <th>4</th>\n",
       "      <td>0.276994</td>\n",
       "      <td>0.010000</td>\n",
       "      <td>tensor(0.4995)</td>\n",
       "      <td>actxgrad</td>\n",
       "      <td>features_6</td>\n",
       "      <td>4</td>\n",
       "      <td>features_6:4</td>\n",
       "      <td>200</td>\n",
       "      <td>/mnt/data/chris/dropbox/Research-Hamblin/Proje...</td>\n",
       "    </tr>\n",
       "    <tr>\n",
       "      <th>...</th>\n",
       "      <td>...</td>\n",
       "      <td>...</td>\n",
       "      <td>...</td>\n",
       "      <td>...</td>\n",
       "      <td>...</td>\n",
       "      <td>...</td>\n",
       "      <td>...</td>\n",
       "      <td>...</td>\n",
       "      <td>...</td>\n",
       "    </tr>\n",
       "    <tr>\n",
       "      <th>2047</th>\n",
       "      <td>0.233624</td>\n",
       "      <td>0.031250</td>\n",
       "      <td>0.25</td>\n",
       "      <td>actxgrad</td>\n",
       "      <td>features_3</td>\n",
       "      <td>0</td>\n",
       "      <td>features_3:0</td>\n",
       "      <td>200</td>\n",
       "      <td>/mnt/data/chris/dropbox/Research-Hamblin/Proje...</td>\n",
       "    </tr>\n",
       "    <tr>\n",
       "      <th>2048</th>\n",
       "      <td>0.000000</td>\n",
       "      <td>0.023438</td>\n",
       "      <td>0.2</td>\n",
       "      <td>actxgrad</td>\n",
       "      <td>features_3</td>\n",
       "      <td>0</td>\n",
       "      <td>features_3:0</td>\n",
       "      <td>200</td>\n",
       "      <td>/mnt/data/chris/dropbox/Research-Hamblin/Proje...</td>\n",
       "    </tr>\n",
       "    <tr>\n",
       "      <th>2049</th>\n",
       "      <td>0.000000</td>\n",
       "      <td>0.011719</td>\n",
       "      <td>0.15</td>\n",
       "      <td>actxgrad</td>\n",
       "      <td>features_3</td>\n",
       "      <td>0</td>\n",
       "      <td>features_3:0</td>\n",
       "      <td>200</td>\n",
       "      <td>/mnt/data/chris/dropbox/Research-Hamblin/Proje...</td>\n",
       "    </tr>\n",
       "    <tr>\n",
       "      <th>2050</th>\n",
       "      <td>0.000000</td>\n",
       "      <td>0.003906</td>\n",
       "      <td>0.1</td>\n",
       "      <td>actxgrad</td>\n",
       "      <td>features_3</td>\n",
       "      <td>0</td>\n",
       "      <td>features_3:0</td>\n",
       "      <td>200</td>\n",
       "      <td>/mnt/data/chris/dropbox/Research-Hamblin/Proje...</td>\n",
       "    </tr>\n",
       "    <tr>\n",
       "      <th>2051</th>\n",
       "      <td>0.000000</td>\n",
       "      <td>0.000000</td>\n",
       "      <td>0.05</td>\n",
       "      <td>actxgrad</td>\n",
       "      <td>features_3</td>\n",
       "      <td>0</td>\n",
       "      <td>features_3:0</td>\n",
       "      <td>200</td>\n",
       "      <td>/mnt/data/chris/dropbox/Research-Hamblin/Proje...</td>\n",
       "    </tr>\n",
       "  </tbody>\n",
       "</table>\n",
       "<p>2052 rows × 9 columns</p>\n",
       "</div>"
      ],
      "text/plain": [
       "      correlations  keep_ratios        cum_sals    method       layer  unit  \\\n",
       "0         0.999999     0.500000  tensor(0.9995)  actxgrad  features_6     4   \n",
       "1         0.983820     0.200000  tensor(0.9484)  actxgrad  features_6     4   \n",
       "2         0.896475     0.100000  tensor(0.8449)  actxgrad  features_6     4   \n",
       "3         0.674877     0.050000  tensor(0.7279)  actxgrad  features_6     4   \n",
       "4         0.276994     0.010000  tensor(0.4995)  actxgrad  features_6     4   \n",
       "...            ...          ...             ...       ...         ...   ...   \n",
       "2047      0.233624     0.031250            0.25  actxgrad  features_3     0   \n",
       "2048      0.000000     0.023438             0.2  actxgrad  features_3     0   \n",
       "2049      0.000000     0.011719            0.15  actxgrad  features_3     0   \n",
       "2050      0.000000     0.003906             0.1  actxgrad  features_3     0   \n",
       "2051      0.000000     0.000000            0.05  actxgrad  features_3     0   \n",
       "\n",
       "      feature_name  batch_size  \\\n",
       "0     features_6:4         200   \n",
       "1     features_6:4         200   \n",
       "2     features_6:4         200   \n",
       "3     features_6:4         200   \n",
       "4     features_6:4         200   \n",
       "...            ...         ...   \n",
       "2047  features_3:0         200   \n",
       "2048  features_3:0         200   \n",
       "2049  features_3:0         200   \n",
       "2050  features_3:0         200   \n",
       "2051  features_3:0         200   \n",
       "\n",
       "                                              data_path  \n",
       "0     /mnt/data/chris/dropbox/Research-Hamblin/Proje...  \n",
       "1     /mnt/data/chris/dropbox/Research-Hamblin/Proje...  \n",
       "2     /mnt/data/chris/dropbox/Research-Hamblin/Proje...  \n",
       "3     /mnt/data/chris/dropbox/Research-Hamblin/Proje...  \n",
       "4     /mnt/data/chris/dropbox/Research-Hamblin/Proje...  \n",
       "...                                                 ...  \n",
       "2047  /mnt/data/chris/dropbox/Research-Hamblin/Proje...  \n",
       "2048  /mnt/data/chris/dropbox/Research-Hamblin/Proje...  \n",
       "2049  /mnt/data/chris/dropbox/Research-Hamblin/Proje...  \n",
       "2050  /mnt/data/chris/dropbox/Research-Hamblin/Proje...  \n",
       "2051  /mnt/data/chris/dropbox/Research-Hamblin/Proje...  \n",
       "\n",
       "[2052 rows x 9 columns]"
      ]
     },
     "execution_count": 22,
     "metadata": {},
     "output_type": "execute_result"
    }
   ],
   "source": [
    "#cleanup\n",
    "\n",
    "df.fillna(0, inplace=True)  \n",
    "df = df.replace([np.inf, -np.inf], 0) \n",
    "df"
   ]
  },
  {
   "cell_type": "code",
   "execution_count": null,
   "id": "3e16e67c",
   "metadata": {},
   "outputs": [],
   "source": []
  },
  {
   "cell_type": "code",
   "execution_count": 29,
   "id": "0c44a037",
   "metadata": {},
   "outputs": [
    {
     "data": {
      "application/vnd.plotly.v1+json": {
       "config": {
        "plotlyServerURL": "https://plot.ly"
       },
       "data": [
        {
         "customdata": [
          [
           "features_6:4",
           "features_6",
           0.9995379447937012,
           0.5
          ],
          [
           "features_6:4",
           "features_6",
           0.9484217762947083,
           0.2
          ],
          [
           "features_6:4",
           "features_6",
           0.8449053764343262,
           0.1
          ],
          [
           "features_6:4",
           "features_6",
           0.7278922200202942,
           0.05
          ],
          [
           "features_6:4",
           "features_6",
           0.499479204416275,
           0.01
          ],
          [
           "features_6:4",
           "features_6",
           0.4039950966835022,
           0.005
          ],
          [
           "features_6:4",
           "features_6",
           0.15228722989559174,
           0.001
          ],
          [
           "features_6:4",
           "features_6",
           0.99,
           0.3222064393939394
          ],
          [
           "features_6:4",
           "features_6",
           0.95,
           0.20265151515151514
          ],
          [
           "features_6:4",
           "features_6",
           0.9,
           0.14086174242424243
          ],
          [
           "features_6:4",
           "features_6",
           0.85,
           0.10306186868686869
          ],
          [
           "features_6:4",
           "features_6",
           0.8,
           0.07702020202020202
          ],
          [
           "features_6:4",
           "features_6",
           0.75,
           0.057291666666666664
          ],
          [
           "features_6:4",
           "features_6",
           0.7,
           0.04190340909090909
          ],
          [
           "features_6:4",
           "features_6",
           0.65,
           0.03006628787878788
          ],
          [
           "features_6:4",
           "features_6",
           0.6,
           0.02130681818181818
          ],
          [
           "features_6:4",
           "features_6",
           0.55,
           0.014599116161616162
          ],
          [
           "features_6:4",
           "features_6",
           0.5,
           0.01002209595959596
          ],
          [
           "features_6:4",
           "features_6",
           0.45,
           0.006786616161616162
          ],
          [
           "features_6:4",
           "features_6",
           0.4,
           0.004892676767676768
          ],
          [
           "features_6:4",
           "features_6",
           0.35,
           0.0037089646464646465
          ],
          [
           "features_6:4",
           "features_6",
           0.3,
           0.0027619949494949495
          ],
          [
           "features_6:4",
           "features_6",
           0.25,
           0.002051767676767677
          ],
          [
           "features_6:4",
           "features_6",
           0.2,
           0.0014204545454545455
          ],
          [
           "features_6:4",
           "features_6",
           0.15,
           0.000946969696969697
          ],
          [
           "features_6:4",
           "features_6",
           0.1,
           0.0005523989898989899
          ],
          [
           "features_6:4",
           "features_6",
           0.05,
           0.00023674242424242425
          ]
         ],
         "hovertemplate": "feature_name=features_6:4<br>keep_ratios=%{x}<br>correlations=%{y}<extra></extra>",
         "legendgroup": "features_6:4",
         "marker": {
          "color": "#636efa",
          "symbol": "circle"
         },
         "mode": "markers",
         "name": "features_6:4",
         "showlegend": true,
         "type": "scattergl",
         "x": [
          0.5,
          0.2,
          0.1,
          0.05,
          0.01,
          0.005,
          0.001,
          0.3222064393939394,
          0.20265151515151514,
          0.14086174242424243,
          0.10306186868686869,
          0.07702020202020202,
          0.057291666666666664,
          0.04190340909090909,
          0.03006628787878788,
          0.02130681818181818,
          0.014599116161616162,
          0.01002209595959596,
          0.006786616161616162,
          0.004892676767676768,
          0.0037089646464646465,
          0.0027619949494949495,
          0.002051767676767677,
          0.0014204545454545455,
          0.000946969696969697,
          0.0005523989898989899,
          0.00023674242424242425
         ],
         "xaxis": "x",
         "y": [
          0.9999994887976086,
          0.9838203866700239,
          0.8964746667255683,
          0.6748772520422552,
          0.27699375919949465,
          0.06922183368300315,
          0.02055538650712048,
          0.9982477101134414,
          0.9847400319393762,
          0.952986653480715,
          0.8972279339901508,
          0.8451966588676181,
          0.7264579780063203,
          0.5777897398887853,
          0.6224685321165718,
          0.5818783736711381,
          0.3512737966845547,
          0.27699375919949465,
          0.4258546623841839,
          0.06925816951537966,
          0.060017614090964226,
          0.07415881555011475,
          0.049505378346555357,
          0.049505378346555357,
          0.02055538650712048,
          0.005524346965362458,
          -0.011171479072739602
         ],
         "yaxis": "y"
        },
        {
         "customdata": [
          [
           "features_10:10",
           "features_10",
           0.99,
           0.4484596899896086
          ],
          [
           "features_10:10",
           "features_10",
           0.95,
           0.3404215015587115
          ],
          [
           "features_10:10",
           "features_10",
           0.9,
           0.2717083044683062
          ],
          [
           "features_10:10",
           "features_10",
           0.85,
           0.2243191461724974
          ],
          [
           "features_10:10",
           "features_10",
           0.8,
           0.18778684620713543
          ],
          [
           "features_10:10",
           "features_10",
           0.75,
           0.15804684793903706
          ],
          [
           "features_10:10",
           "features_10",
           0.7,
           0.13298839625909248
          ],
          [
           "features_10:10",
           "features_10",
           0.65,
           0.1116264721163838
          ],
          [
           "features_10:10",
           "features_10",
           0.6,
           0.09317089539314168
          ],
          [
           "features_10:10",
           "features_10",
           0.55,
           0.0771670419120194
          ],
          [
           "features_10:10",
           "features_10",
           0.5,
           0.06319817284378247
          ],
          [
           "features_10:10",
           "features_10",
           0.45,
           0.05096661759612054
          ],
          [
           "features_10:10",
           "features_10",
           0.4,
           0.040293773813647384
          ],
          [
           "features_10:10",
           "features_10",
           0.35,
           0.031065985452026323
          ],
          [
           "features_10:10",
           "features_10",
           0.3,
           0.023104650155871147
          ],
          [
           "features_10:10",
           "features_10",
           0.25,
           0.01630693626602009
          ],
          [
           "features_10:10",
           "features_10",
           0.2,
           0.010640370626948389
          ],
          [
           "features_10:10",
           "features_10",
           0.15,
           0.0060941288534811225
          ],
          [
           "features_10:10",
           "features_10",
           0.1,
           0.002695271908555594
          ],
          [
           "features_10:10",
           "features_10",
           0.05,
           0.00068193626602009
          ],
          [
           "features_10:10",
           "features_10",
           0.9970391392707825,
           0.5
          ],
          [
           "features_10:10",
           "features_10",
           0.8179831504821777,
           0.2
          ],
          [
           "features_10:10",
           "features_10",
           0.6193528771400452,
           0.1
          ],
          [
           "features_10:10",
           "features_10",
           0.4457481801509857,
           0.05
          ],
          [
           "features_10:10",
           "features_10",
           0.19365066289901733,
           0.01
          ],
          [
           "features_10:10",
           "features_10",
           0.13570508360862732,
           0.005
          ],
          [
           "features_10:10",
           "features_10",
           0.060909297317266464,
           0.001
          ]
         ],
         "hovertemplate": "feature_name=features_10:10<br>keep_ratios=%{x}<br>correlations=%{y}<extra></extra>",
         "legendgroup": "features_10:10",
         "marker": {
          "color": "#EF553B",
          "symbol": "circle"
         },
         "mode": "markers",
         "name": "features_10:10",
         "showlegend": true,
         "type": "scattergl",
         "x": [
          0.4484596899896086,
          0.3404215015587115,
          0.2717083044683062,
          0.2243191461724974,
          0.18778684620713543,
          0.15804684793903706,
          0.13298839625909248,
          0.1116264721163838,
          0.09317089539314168,
          0.0771670419120194,
          0.06319817284378247,
          0.05096661759612054,
          0.040293773813647384,
          0.031065985452026323,
          0.023104650155871147,
          0.01630693626602009,
          0.010640370626948389,
          0.0060941288534811225,
          0.002695271908555594,
          0.00068193626602009,
          0.5,
          0.2,
          0.1,
          0.05,
          0.01,
          0.005,
          0.001
         ],
         "xaxis": "x",
         "y": [
          0.997827432707522,
          0.9735910504811143,
          0.9133535972830302,
          0.8007470292010607,
          0.621501937079284,
          0.5289971146062524,
          0.4120708595802642,
          0.33616403144872875,
          0.28990981266431104,
          0.2910533378533984,
          0.2475629064272845,
          0.24979425009641404,
          0.23795697665769427,
          0.26805363492198286,
          0.2650911593598235,
          0.2098574375903667,
          0.18288312971293913,
          0.11986376505958463,
          -0.16120449127563913,
          -0.06228995420125114,
          0.999671045496649,
          0.698554634411399,
          0.28613500322803365,
          0.25676703399660183,
          0.17322373166699986,
          0.1048444434789212,
          -0.07652030979308908
         ],
         "yaxis": "y"
        },
        {
         "customdata": [
          [
           "features_3:17",
           "features_3",
           0.99,
           0.671875
          ],
          [
           "features_3:17",
           "features_3",
           0.95,
           0.44921875
          ],
          [
           "features_3:17",
           "features_3",
           0.9,
           0.31640625
          ],
          [
           "features_3:17",
           "features_3",
           0.85,
           0.23828125
          ],
          [
           "features_3:17",
           "features_3",
           0.8,
           0.1875
          ],
          [
           "features_3:17",
           "features_3",
           0.75,
           0.15234375
          ],
          [
           "features_3:17",
           "features_3",
           0.7,
           0.125
          ],
          [
           "features_3:17",
           "features_3",
           0.65,
           0.1015625
          ],
          [
           "features_3:17",
           "features_3",
           0.6,
           0.0859375
          ],
          [
           "features_3:17",
           "features_3",
           0.55,
           0.0703125
          ],
          [
           "features_3:17",
           "features_3",
           0.5,
           0.0546875
          ],
          [
           "features_3:17",
           "features_3",
           0.45,
           0.04296875
          ],
          [
           "features_3:17",
           "features_3",
           0.4,
           0.03125
          ],
          [
           "features_3:17",
           "features_3",
           0.35,
           0.0234375
          ],
          [
           "features_3:17",
           "features_3",
           0.3,
           0.015625
          ],
          [
           "features_3:17",
           "features_3",
           0.25,
           0.0078125
          ],
          [
           "features_3:17",
           "features_3",
           0.2,
           0.00390625
          ],
          [
           "features_3:17",
           "features_3",
           0.15,
           0.00390625
          ],
          [
           "features_3:17",
           "features_3",
           0.1,
           0
          ],
          [
           "features_3:17",
           "features_3",
           0.05,
           0
          ],
          [
           "features_3:17",
           "features_3",
           0.9630895853042603,
           0.5
          ],
          [
           "features_3:17",
           "features_3",
           0.816446840763092,
           0.2
          ],
          [
           "features_3:17",
           "features_3",
           0.6401499509811401,
           0.1
          ],
          [
           "features_3:17",
           "features_3",
           0.47637686133384705,
           0.05
          ],
          [
           "features_3:17",
           "features_3",
           0.2597665786743164,
           0.01
          ],
          [
           "features_3:17",
           "features_3",
           0.22631298005580902,
           0.005
          ],
          [
           "features_3:17",
           "features_3",
           0.13482840359210968,
           0.001
          ]
         ],
         "hovertemplate": "feature_name=features_3:17<br>keep_ratios=%{x}<br>correlations=%{y}<extra></extra>",
         "legendgroup": "features_3:17",
         "marker": {
          "color": "#00cc96",
          "symbol": "circle"
         },
         "mode": "markers",
         "name": "features_3:17",
         "showlegend": true,
         "type": "scattergl",
         "x": [
          0.671875,
          0.44921875,
          0.31640625,
          0.23828125,
          0.1875,
          0.15234375,
          0.125,
          0.1015625,
          0.0859375,
          0.0703125,
          0.0546875,
          0.04296875,
          0.03125,
          0.0234375,
          0.015625,
          0.0078125,
          0.00390625,
          0.00390625,
          0,
          0,
          0.5,
          0.2,
          0.1,
          0.05,
          0.01,
          0.005,
          0.001
         ],
         "xaxis": "x",
         "y": [
          0.9975073577825407,
          0.9810979276374596,
          0.9232668150778844,
          0.8829190911239637,
          0.8807328918916455,
          0.8494755144822086,
          0.8483772415752536,
          0.8483772415752536,
          0.8051286556761574,
          0.8050964082286393,
          0.7959842377100567,
          0.7959842377100567,
          0.7930685705597318,
          0.12058798875293894,
          0.12058798875293894,
          0.12058798875293894,
          0.1118505344363264,
          0.1118505344363264,
          0.11670480916747604,
          0.11670480916747604,
          0.9847527147420099,
          0.8961865220576195,
          0.8359430729793554,
          0.7959842377100567,
          0.12058798875293894,
          0.1118505344363264,
          0.11670480916747604
         ],
         "yaxis": "y"
        },
        {
         "customdata": [
          [
           "features_10:18",
           "features_10",
           0.9990323781967163,
           0.5
          ],
          [
           "features_10:18",
           "features_10",
           0.8467137813568115,
           0.2
          ],
          [
           "features_10:18",
           "features_10",
           0.6488339900970459,
           0.1
          ],
          [
           "features_10:18",
           "features_10",
           0.46853309869766235,
           0.05
          ],
          [
           "features_10:18",
           "features_10",
           0.2005997896194458,
           0.01
          ],
          [
           "features_10:18",
           "features_10",
           0.1380876749753952,
           0.005
          ],
          [
           "features_10:18",
           "features_10",
           0.06133200600743294,
           0.001
          ],
          [
           "features_10:18",
           "features_10",
           0.99,
           0.41067176134395567
          ],
          [
           "features_10:18",
           "features_10",
           0.95,
           0.30887924315898857
          ],
          [
           "features_10:18",
           "features_10",
           0.9,
           0.24568107031520608
          ],
          [
           "features_10:18",
           "features_10",
           0.85,
           0.202432239348805
          ],
          [
           "features_10:18",
           "features_10",
           0.8,
           0.16912019397298234
          ],
          [
           "features_10:18",
           "features_10",
           0.75,
           0.1420971163837894
          ],
          [
           "features_10:18",
           "features_10",
           0.7,
           0.11954992206442674
          ],
          [
           "features_10:18",
           "features_10",
           0.65,
           0.10041240907516454
          ],
          [
           "features_10:18",
           "features_10",
           0.6,
           0.08392687045375823
          ],
          [
           "features_10:18",
           "features_10",
           0.55,
           0.06960079667474887
          ],
          [
           "features_10:18",
           "features_10",
           0.5,
           0.057060746449601664
          ],
          [
           "features_10:18",
           "features_10",
           0.45,
           0.046117293037755455
          ],
          [
           "features_10:18",
           "features_10",
           0.4,
           0.03658642189123658
          ],
          [
           "features_10:18",
           "features_10",
           0.35,
           0.02831117942500866
          ],
          [
           "features_10:18",
           "features_10",
           0.3,
           0.021161673016972637
          ],
          [
           "features_10:18",
           "features_10",
           0.25,
           0.01504589539314167
          ],
          [
           "features_10:18",
           "features_10",
           0.2,
           0.009942197783165916
          ],
          [
           "features_10:18",
           "features_10",
           0.15,
           0.005839755801870454
          ],
          [
           "features_10:18",
           "features_10",
           0.1,
           0.002684447523380672
          ],
          [
           "features_10:18",
           "features_10",
           0.05,
           0.0006602874956702459
          ]
         ],
         "hovertemplate": "feature_name=features_10:18<br>keep_ratios=%{x}<br>correlations=%{y}<extra></extra>",
         "legendgroup": "features_10:18",
         "marker": {
          "color": "#ab63fa",
          "symbol": "circle"
         },
         "mode": "markers",
         "name": "features_10:18",
         "showlegend": true,
         "type": "scattergl",
         "x": [
          0.5,
          0.2,
          0.1,
          0.05,
          0.01,
          0.005,
          0.001,
          0.41067176134395567,
          0.30887924315898857,
          0.24568107031520608,
          0.202432239348805,
          0.16912019397298234,
          0.1420971163837894,
          0.11954992206442674,
          0.10041240907516454,
          0.08392687045375823,
          0.06960079667474887,
          0.057060746449601664,
          0.046117293037755455,
          0.03658642189123658,
          0.02831117942500866,
          0.021161673016972637,
          0.01504589539314167,
          0.009942197783165916,
          0.005839755801870454,
          0.002684447523380672,
          0.0006602874956702459
         ],
         "xaxis": "x",
         "y": [
          0.9999826631870414,
          0.8839754621967313,
          0.6470746199018212,
          0.29888004286479786,
          0.08052978099971037,
          0.11693923006142015,
          0.14732698520221446,
          0.9984233437538507,
          0.9806375111329096,
          0.9415890801775644,
          0.884849174969074,
          0.8273263395801788,
          0.7530036177645415,
          0.719936203957103,
          0.6515891842247753,
          0.5856590295160371,
          0.4826273689526294,
          0.3826102315168254,
          0.2900991049269111,
          0.16875949143666757,
          0.09120230767519075,
          0.15408988051655154,
          0.1523380596506662,
          0.08071254736509087,
          0.09581500529127689,
          0.15927412250091372,
          0.14779446581470912
         ],
         "yaxis": "y"
        },
        {
         "customdata": [
          [
           "features_3:7",
           "features_3",
           0.9807968139648438,
           0.5
          ],
          [
           "features_3:7",
           "features_3",
           0.8153446912765503,
           0.2
          ],
          [
           "features_3:7",
           "features_3",
           0.6099146604537964,
           0.1
          ],
          [
           "features_3:7",
           "features_3",
           0.4414062201976776,
           0.05
          ],
          [
           "features_3:7",
           "features_3",
           0.16772834956645966,
           0.01
          ],
          [
           "features_3:7",
           "features_3",
           0.12365712225437164,
           0.005
          ],
          [
           "features_3:7",
           "features_3",
           0.06596239656209946,
           0.001
          ],
          [
           "features_3:7",
           "features_3",
           0.99,
           0.56640625
          ],
          [
           "features_3:7",
           "features_3",
           0.95,
           0.3828125
          ],
          [
           "features_3:7",
           "features_3",
           0.9,
           0.2890625
          ],
          [
           "features_3:7",
           "features_3",
           0.85,
           0.23046875
          ],
          [
           "features_3:7",
           "features_3",
           0.8,
           0.19140625
          ],
          [
           "features_3:7",
           "features_3",
           0.75,
           0.16015625
          ],
          [
           "features_3:7",
           "features_3",
           0.7,
           0.13671875
          ],
          [
           "features_3:7",
           "features_3",
           0.65,
           0.11328125
          ],
          [
           "features_3:7",
           "features_3",
           0.6,
           0.09765625
          ],
          [
           "features_3:7",
           "features_3",
           0.55,
           0.078125
          ],
          [
           "features_3:7",
           "features_3",
           0.5,
           0.0625
          ],
          [
           "features_3:7",
           "features_3",
           0.45,
           0.05078125
          ],
          [
           "features_3:7",
           "features_3",
           0.4,
           0.0390625
          ],
          [
           "features_3:7",
           "features_3",
           0.35,
           0.03125
          ],
          [
           "features_3:7",
           "features_3",
           0.3,
           0.0234375
          ],
          [
           "features_3:7",
           "features_3",
           0.25,
           0.01953125
          ],
          [
           "features_3:7",
           "features_3",
           0.2,
           0.01171875
          ],
          [
           "features_3:7",
           "features_3",
           0.15,
           0.0078125
          ],
          [
           "features_3:7",
           "features_3",
           0.1,
           0.00390625
          ],
          [
           "features_3:7",
           "features_3",
           0.05,
           0
          ]
         ],
         "hovertemplate": "feature_name=features_3:7<br>keep_ratios=%{x}<br>correlations=%{y}<extra></extra>",
         "legendgroup": "features_3:7",
         "marker": {
          "color": "#FFA15A",
          "symbol": "circle"
         },
         "mode": "markers",
         "name": "features_3:7",
         "showlegend": true,
         "type": "scattergl",
         "x": [
          0.5,
          0.2,
          0.1,
          0.05,
          0.01,
          0.005,
          0.001,
          0.56640625,
          0.3828125,
          0.2890625,
          0.23046875,
          0.19140625,
          0.16015625,
          0.13671875,
          0.11328125,
          0.09765625,
          0.078125,
          0.0625,
          0.05078125,
          0.0390625,
          0.03125,
          0.0234375,
          0.01953125,
          0.01171875,
          0.0078125,
          0.00390625,
          0
         ],
         "xaxis": "x",
         "y": [
          0.9874738491747128,
          0.9285210830091243,
          0.6880646976511552,
          0.5263143664364818,
          0.2058164813847825,
          0,
          0,
          0.9964516131753138,
          0.9716225124244411,
          0.9408392199706626,
          0.9475364082661886,
          0.9271782606005634,
          0.9252005706929219,
          0.9014698221233756,
          0.7989047067526805,
          0.6880646976511552,
          0.8015145272578643,
          0.7030953165519749,
          0.5263143664364818,
          0.5263226239854575,
          0.5262404682564574,
          0.19931087202816047,
          0.19931087202816047,
          0.2058164813847825,
          0.2058164813847825,
          0,
          0
         ],
         "yaxis": "y"
        },
        {
         "customdata": [
          [
           "features_6:14",
           "features_6",
           0.9961631894111633,
           0.5
          ],
          [
           "features_6:14",
           "features_6",
           0.9121453762054443,
           0.2
          ],
          [
           "features_6:14",
           "features_6",
           0.802064061164856,
           0.1
          ],
          [
           "features_6:14",
           "features_6",
           0.6855157613754272,
           0.05
          ],
          [
           "features_6:14",
           "features_6",
           0.44435739517211914,
           0.01
          ],
          [
           "features_6:14",
           "features_6",
           0.33831679821014404,
           0.005
          ],
          [
           "features_6:14",
           "features_6",
           0.13857440650463104,
           0.001
          ],
          [
           "features_6:14",
           "features_6",
           0.99,
           0.43134469696969696
          ],
          [
           "features_6:14",
           "features_6",
           0.95,
           0.2689393939393939
          ],
          [
           "features_6:14",
           "features_6",
           0.9,
           0.1838699494949495
          ],
          [
           "features_6:14",
           "features_6",
           0.85,
           0.13328598484848486
          ],
          [
           "features_6:14",
           "features_6",
           0.8,
           0.09880050505050506
          ],
          [
           "features_6:14",
           "features_6",
           0.75,
           0.07378472222222222
          ],
          [
           "features_6:14",
           "features_6",
           0.7,
           0.0546875
          ],
          [
           "features_6:14",
           "features_6",
           0.65,
           0.040009469696969696
          ],
          [
           "features_6:14",
           "features_6",
           0.6,
           0.02904040404040404
          ],
          [
           "features_6:14",
           "features_6",
           0.55,
           0.020833333333333332
          ],
          [
           "features_6:14",
           "features_6",
           0.5,
           0.014835858585858586
          ],
          [
           "features_6:14",
           "features_6",
           0.45,
           0.010416666666666666
          ],
          [
           "features_6:14",
           "features_6",
           0.4,
           0.007339015151515152
          ],
          [
           "features_6:14",
           "features_6",
           0.35,
           0.005366161616161616
          ],
          [
           "features_6:14",
           "features_6",
           0.3,
           0.003945707070707071
          ],
          [
           "features_6:14",
           "features_6",
           0.25,
           0.0027619949494949495
          ],
          [
           "features_6:14",
           "features_6",
           0.2,
           0.0018150252525252525
          ],
          [
           "features_6:14",
           "features_6",
           0.15,
           0.0011047979797979798
          ],
          [
           "features_6:14",
           "features_6",
           0.1,
           0.0006313131313131314
          ],
          [
           "features_6:14",
           "features_6",
           0.05,
           0.00023674242424242425
          ]
         ],
         "hovertemplate": "feature_name=features_6:14<br>keep_ratios=%{x}<br>correlations=%{y}<extra></extra>",
         "legendgroup": "features_6:14",
         "marker": {
          "color": "#19d3f3",
          "symbol": "circle"
         },
         "mode": "markers",
         "name": "features_6:14",
         "showlegend": true,
         "type": "scattergl",
         "x": [
          0.5,
          0.2,
          0.1,
          0.05,
          0.01,
          0.005,
          0.001,
          0.43134469696969696,
          0.2689393939393939,
          0.1838699494949495,
          0.13328598484848486,
          0.09880050505050506,
          0.07378472222222222,
          0.0546875,
          0.040009469696969696,
          0.02904040404040404,
          0.020833333333333332,
          0.014835858585858586,
          0.010416666666666666,
          0.007339015151515152,
          0.005366161616161616,
          0.003945707070707071,
          0.0027619949494949495,
          0.0018150252525252525,
          0.0011047979797979798,
          0.0006313131313131314,
          0.00023674242424242425
         ],
         "xaxis": "x",
         "y": [
          0.9996239966356064,
          0.9585563142974269,
          0.8694436200820348,
          0.7064150455316958,
          0.09627818308351581,
          -0.060595846607957374,
          -0.0658106378874776,
          0.9984192424043957,
          0.9847093539319454,
          0.9604250686934319,
          0.9326631220142189,
          0.8636364681185769,
          0.8348791545237672,
          0.7211683635481434,
          0.7113081177889002,
          0.46548943560506195,
          0.27133021331539364,
          0.0769826172012094,
          0.09607028464311967,
          -0.03302398923630992,
          -0.056027698500895895,
          -0.04303838996195313,
          -0.04565801139007958,
          -0.05132715720016266,
          -0.06685108994339373,
          -0.06898141664765342,
          -0.06898141664765342
         ],
         "yaxis": "y"
        },
        {
         "customdata": [
          [
           "features_8:8",
           "features_8",
           0.99,
           0.4047718033998522
          ],
          [
           "features_8:8",
           "features_8",
           0.95,
           0.29772958240946046
          ],
          [
           "features_8:8",
           "features_8",
           0.9,
           0.2309220251293422
          ],
          [
           "features_8:8",
           "features_8",
           0.85,
           0.18591786770140428
          ],
          [
           "features_8:8",
           "features_8",
           0.8,
           0.15201173318551367
          ],
          [
           "features_8:8",
           "features_8",
           0.75,
           0.12502309682187732
          ],
          [
           "features_8:8",
           "features_8",
           0.7,
           0.10291943828529194
          ],
          [
           "features_8:8",
           "features_8",
           0.65,
           0.08449972283813748
          ],
          [
           "features_8:8",
           "features_8",
           0.6,
           0.06882852919438286
          ],
          [
           "features_8:8",
           "features_8",
           0.55,
           0.05545546932742055
          ],
          [
           "features_8:8",
           "features_8",
           0.5,
           0.04405718773096822
          ],
          [
           "features_8:8",
           "features_8",
           0.45,
           0.03435652254249815
          ],
          [
           "features_8:8",
           "features_8",
           0.4,
           0.0262379896526238
          ],
          [
           "features_8:8",
           "features_8",
           0.35,
           0.019505266075388026
          ],
          [
           "features_8:8",
           "features_8",
           0.3,
           0.013950480413895048
          ],
          [
           "features_8:8",
           "features_8",
           0.25,
           0.009435051736881006
          ],
          [
           "features_8:8",
           "features_8",
           0.2,
           0.005889689578713969
          ],
          [
           "features_8:8",
           "features_8",
           0.15,
           0.0032912971175166296
          ],
          [
           "features_8:8",
           "features_8",
           0.1,
           0.0015590354767184035
          ],
          [
           "features_8:8",
           "features_8",
           0.05,
           0.0005312269031781227
          ],
          [
           "features_8:8",
           "features_8",
           0.9989365339279175,
           0.5
          ],
          [
           "features_8:8",
           "features_8",
           0.8673901557922363,
           0.2
          ],
          [
           "features_8:8",
           "features_8",
           0.6926352381706238,
           0.1
          ],
          [
           "features_8:8",
           "features_8",
           0.5270916223526001,
           0.05
          ],
          [
           "features_8:8",
           "features_8",
           0.25677844882011414,
           0.01
          ],
          [
           "features_8:8",
           "features_8",
           0.18472237884998322,
           0.005
          ],
          [
           "features_8:8",
           "features_8",
           0.0764474868774414,
           0.001
          ]
         ],
         "hovertemplate": "feature_name=features_8:8<br>keep_ratios=%{x}<br>correlations=%{y}<extra></extra>",
         "legendgroup": "features_8:8",
         "marker": {
          "color": "#FF6692",
          "symbol": "circle"
         },
         "mode": "markers",
         "name": "features_8:8",
         "showlegend": true,
         "type": "scattergl",
         "x": [
          0.4047718033998522,
          0.29772958240946046,
          0.2309220251293422,
          0.18591786770140428,
          0.15201173318551367,
          0.12502309682187732,
          0.10291943828529194,
          0.08449972283813748,
          0.06882852919438286,
          0.05545546932742055,
          0.04405718773096822,
          0.03435652254249815,
          0.0262379896526238,
          0.019505266075388026,
          0.013950480413895048,
          0.009435051736881006,
          0.005889689578713969,
          0.0032912971175166296,
          0.0015590354767184035,
          0.0005312269031781227,
          0.5,
          0.2,
          0.1,
          0.05,
          0.01,
          0.005,
          0.001
         ],
         "xaxis": "x",
         "y": [
          0.9980180493397259,
          0.9826459686088979,
          0.9430446145308056,
          0.8826830403633278,
          0.8076838001917752,
          0.6867710414788755,
          0.6001568038990444,
          0.5332927994684491,
          0.45547319876169495,
          0.5614210477217082,
          0.5177881899483104,
          0.42420596316309656,
          0.4349946103863541,
          0.4197580829475025,
          0.35542168725851525,
          0.34010250884212473,
          0.3031205339773134,
          0.27828817306593534,
          0.2701125274659867,
          0.22840527618836381,
          0.9999930374613135,
          0.9063128689930766,
          0.5801364358803077,
          0.5398579586975618,
          0.33657743326224576,
          0.2825318260731864,
          0.2397070484661907
         ],
         "yaxis": "y"
        },
        {
         "customdata": [
          [
           "features_10:6",
           "features_10",
           0.99,
           0.4440000432975407
          ],
          [
           "features_10:6",
           "features_10",
           0.95,
           0.3396692067890544
          ],
          [
           "features_10:6",
           "features_10",
           0.9,
           0.2725526065119501
          ],
          [
           "features_10:6",
           "features_10",
           0.85,
           0.22582914790439904
          ],
          [
           "features_10:6",
           "features_10",
           0.8,
           0.1895025112573606
          ],
          [
           "features_10:6",
           "features_10",
           0.75,
           0.15975168860408728
          ],
          [
           "features_10:6",
           "features_10",
           0.7,
           0.13472029788708
          ],
          [
           "features_10:6",
           "features_10",
           0.65,
           0.11333131278143402
          ],
          [
           "features_10:6",
           "features_10",
           0.6,
           0.09483785071007966
          ],
          [
           "features_10:6",
           "features_10",
           0.55,
           0.07871492899203325
          ],
          [
           "features_10:6",
           "features_10",
           0.5,
           0.06456745756841012
          ],
          [
           "features_10:6",
           "features_10",
           0.45,
           0.05221683408382404
          ],
          [
           "features_10:6",
           "features_10",
           0.4,
           0.041435746449601664
          ],
          [
           "features_10:6",
           "features_10",
           0.35,
           0.032061828888119155
          ],
          [
           "features_10:6",
           "features_10",
           0.3,
           0.023938127814340144
          ],
          [
           "features_10:6",
           "features_10",
           0.25,
           0.016983460339452718
          ],
          [
           "features_10:6",
           "features_10",
           0.2,
           0.01116535330793211
          ],
          [
           "features_10:6",
           "features_10",
           0.15,
           0.006489218912365777
          ],
          [
           "features_10:6",
           "features_10",
           0.1,
           0.0029063474194665744
          ],
          [
           "features_10:6",
           "features_10",
           0.05,
           0.0006765240734326291
          ],
          [
           "features_10:6",
           "features_10",
           0.9975762963294983,
           0.5
          ],
          [
           "features_10:6",
           "features_10",
           0.8155972361564636,
           0.2
          ],
          [
           "features_10:6",
           "features_10",
           0.6146599650382996,
           0.1
          ],
          [
           "features_10:6",
           "features_10",
           0.44026386737823486,
           0.05
          ],
          [
           "features_10:6",
           "features_10",
           0.18858705461025238,
           0.01
          ],
          [
           "features_10:6",
           "features_10",
           0.13107343018054962,
           0.005
          ],
          [
           "features_10:6",
           "features_10",
           0.06026410311460495,
           0.001
          ]
         ],
         "hovertemplate": "feature_name=features_10:6<br>keep_ratios=%{x}<br>correlations=%{y}<extra></extra>",
         "legendgroup": "features_10:6",
         "marker": {
          "color": "#B6E880",
          "symbol": "circle"
         },
         "mode": "markers",
         "name": "features_10:6",
         "showlegend": true,
         "type": "scattergl",
         "x": [
          0.4440000432975407,
          0.3396692067890544,
          0.2725526065119501,
          0.22582914790439904,
          0.1895025112573606,
          0.15975168860408728,
          0.13472029788708,
          0.11333131278143402,
          0.09483785071007966,
          0.07871492899203325,
          0.06456745756841012,
          0.05221683408382404,
          0.041435746449601664,
          0.032061828888119155,
          0.023938127814340144,
          0.016983460339452718,
          0.01116535330793211,
          0.006489218912365777,
          0.0029063474194665744,
          0.0006765240734326291,
          0.5,
          0.2,
          0.1,
          0.05,
          0.01,
          0.005,
          0.001
         ],
         "xaxis": "x",
         "y": [
          0.9982717914213465,
          0.9834499129527736,
          0.941934244566478,
          0.8745397558684107,
          0.76919740322402,
          0.6882785750760738,
          0.5883116204715605,
          0.5150892836429833,
          0.42396972172797726,
          0.4364916738096299,
          0.3549594317497059,
          0.31401906851162087,
          0.3019559117371754,
          0.30329186947945697,
          0.27695841094307616,
          0.28805261197174353,
          0.28118431565961066,
          0.14208873353021434,
          0.09704494176912902,
          -0.08258889959745754,
          0.9998615487225413,
          0.7904568117128314,
          0.4497734625023996,
          0.2944777218293116,
          0.27513402422203315,
          0.22968935306301635,
          0.06381245783788149
         ],
         "yaxis": "y"
        },
        {
         "customdata": [
          [
           "features_3:2",
           "features_3",
           0.9679995775222778,
           0.5
          ],
          [
           "features_3:2",
           "features_3",
           0.7407429814338684,
           0.2
          ],
          [
           "features_3:2",
           "features_3",
           0.4906570315361023,
           0.1
          ],
          [
           "features_3:2",
           "features_3",
           0.32404351234436035,
           0.05
          ],
          [
           "features_3:2",
           "features_3",
           0.11353499442338943,
           0.01
          ],
          [
           "features_3:2",
           "features_3",
           0.08029555529356003,
           0.005
          ],
          [
           "features_3:2",
           "features_3",
           0.04493853077292442,
           0.001
          ],
          [
           "features_3:2",
           "features_3",
           0.99,
           0.66796875
          ],
          [
           "features_3:2",
           "features_3",
           0.95,
           0.4296875
          ],
          [
           "features_3:2",
           "features_3",
           0.9,
           0.328125
          ],
          [
           "features_3:2",
           "features_3",
           0.85,
           0.26953125
          ],
          [
           "features_3:2",
           "features_3",
           0.8,
           0.234375
          ],
          [
           "features_3:2",
           "features_3",
           0.75,
           0.20703125
          ],
          [
           "features_3:2",
           "features_3",
           0.7,
           0.1796875
          ],
          [
           "features_3:2",
           "features_3",
           0.65,
           0.16015625
          ],
          [
           "features_3:2",
           "features_3",
           0.6,
           0.140625
          ],
          [
           "features_3:2",
           "features_3",
           0.55,
           0.12109375
          ],
          [
           "features_3:2",
           "features_3",
           0.5,
           0.1015625
          ],
          [
           "features_3:2",
           "features_3",
           0.45,
           0.0859375
          ],
          [
           "features_3:2",
           "features_3",
           0.4,
           0.0703125
          ],
          [
           "features_3:2",
           "features_3",
           0.35,
           0.0546875
          ],
          [
           "features_3:2",
           "features_3",
           0.3,
           0.04296875
          ],
          [
           "features_3:2",
           "features_3",
           0.25,
           0.03125
          ],
          [
           "features_3:2",
           "features_3",
           0.2,
           0.01953125
          ],
          [
           "features_3:2",
           "features_3",
           0.15,
           0.015625
          ],
          [
           "features_3:2",
           "features_3",
           0.1,
           0.0078125
          ],
          [
           "features_3:2",
           "features_3",
           0.05,
           0.00390625
          ]
         ],
         "hovertemplate": "feature_name=features_3:2<br>keep_ratios=%{x}<br>correlations=%{y}<extra></extra>",
         "legendgroup": "features_3:2",
         "marker": {
          "color": "#FF97FF",
          "symbol": "circle"
         },
         "mode": "markers",
         "name": "features_3:2",
         "showlegend": true,
         "type": "scattergl",
         "x": [
          0.5,
          0.2,
          0.1,
          0.05,
          0.01,
          0.005,
          0.001,
          0.66796875,
          0.4296875,
          0.328125,
          0.26953125,
          0.234375,
          0.20703125,
          0.1796875,
          0.16015625,
          0.140625,
          0.12109375,
          0.1015625,
          0.0859375,
          0.0703125,
          0.0546875,
          0.04296875,
          0.03125,
          0.01953125,
          0.015625,
          0.0078125,
          0.00390625
         ],
         "xaxis": "x",
         "y": [
          0.9523290779543607,
          0.7045796296783969,
          0.5944501199522227,
          0.4213315884067856,
          0.39435564487941865,
          0,
          0,
          0.987287845248469,
          0.9284833704309347,
          0.8564080712261989,
          0.8223516326023607,
          0.7757363028335659,
          0.7153814498124778,
          0.7141142099151732,
          0.7444867677142709,
          0.7598817537716167,
          0.5944601693725013,
          0.5944501199522227,
          0.5944501199522227,
          0.5943348160725029,
          0.4213315884067856,
          0.4213315884067856,
          0.42127631303215507,
          0.42127631303215507,
          0.42127631303215507,
          0.39435564487941865,
          0
         ],
         "yaxis": "y"
        },
        {
         "customdata": [
          [
           "features_6:0",
           "features_6",
           0.9991271495819092,
           0.5
          ],
          [
           "features_6:0",
           "features_6",
           0.9278844594955444,
           0.2
          ],
          [
           "features_6:0",
           "features_6",
           0.8216385245323181,
           0.1
          ],
          [
           "features_6:0",
           "features_6",
           0.7048975229263306,
           0.05
          ],
          [
           "features_6:0",
           "features_6",
           0.4809276759624481,
           0.01
          ],
          [
           "features_6:0",
           "features_6",
           0.3834264874458313,
           0.005
          ],
          [
           "features_6:0",
           "features_6",
           0.1509476602077484,
           0.001
          ],
          [
           "features_6:0",
           "features_6",
           0.99,
           0.36955492424242425
          ],
          [
           "features_6:0",
           "features_6",
           0.95,
           0.23832070707070707
          ],
          [
           "features_6:0",
           "features_6",
           0.9,
           0.1639046717171717
          ],
          [
           "features_6:0",
           "features_6",
           0.85,
           0.1189236111111111
          ],
          [
           "features_6:0",
           "features_6",
           0.8,
           0.08791035353535354
          ],
          [
           "features_6:0",
           "features_6",
           0.75,
           0.06534090909090909
          ],
          [
           "features_6:0",
           "features_6",
           0.7,
           0.04853219696969697
          ],
          [
           "features_6:0",
           "features_6",
           0.65,
           0.03551136363636364
          ],
          [
           "features_6:0",
           "features_6",
           0.6,
           0.025410353535353536
          ],
          [
           "features_6:0",
           "features_6",
           0.55,
           0.017597853535353536
          ],
          [
           "features_6:0",
           "features_6",
           0.5,
           0.01167929292929293
          ],
          [
           "features_6:0",
           "features_6",
           0.45,
           0.0078125
          ],
          [
           "features_6:0",
           "features_6",
           0.4,
           0.005523989898989899
          ],
          [
           "features_6:0",
           "features_6",
           0.35,
           0.004103535353535354
          ],
          [
           "features_6:0",
           "features_6",
           0.3,
           0.0029987373737373735
          ],
          [
           "features_6:0",
           "features_6",
           0.25,
           0.002130681818181818
          ],
          [
           "features_6:0",
           "features_6",
           0.2,
           0.0014993686868686868
          ],
          [
           "features_6:0",
           "features_6",
           0.15,
           0.000946969696969697
          ],
          [
           "features_6:0",
           "features_6",
           0.1,
           0.0005523989898989899
          ],
          [
           "features_6:0",
           "features_6",
           0.05,
           0.00015782828282828284
          ]
         ],
         "hovertemplate": "feature_name=features_6:0<br>keep_ratios=%{x}<br>correlations=%{y}<extra></extra>",
         "legendgroup": "features_6:0",
         "marker": {
          "color": "#FECB52",
          "symbol": "circle"
         },
         "mode": "markers",
         "name": "features_6:0",
         "showlegend": true,
         "type": "scattergl",
         "x": [
          0.5,
          0.2,
          0.1,
          0.05,
          0.01,
          0.005,
          0.001,
          0.36955492424242425,
          0.23832070707070707,
          0.1639046717171717,
          0.1189236111111111,
          0.08791035353535354,
          0.06534090909090909,
          0.04853219696969697,
          0.03551136363636364,
          0.025410353535353536,
          0.017597853535353536,
          0.01167929292929293,
          0.0078125,
          0.005523989898989899,
          0.004103535353535354,
          0.0029987373737373735,
          0.002130681818181818,
          0.0014993686868686868,
          0.000946969696969697,
          0.0005523989898989899,
          0.00015782828282828284
         ],
         "xaxis": "x",
         "y": [
          0.9999773857265769,
          0.947343608883022,
          0.7420265543896618,
          0.6906456892820195,
          0.04855546107548584,
          0.05962039439765709,
          0.105122986101786,
          0.9973367926964833,
          0.9706878729802868,
          0.9245361996432977,
          0.8039869042161956,
          0.7451633493313311,
          0.6804390107227549,
          0.6855783782728775,
          0.6641128432476983,
          0.26337856354974176,
          0.2754202520569352,
          0.2339701053937628,
          0.03840315412853965,
          0.06242805942303015,
          0.06716677226502449,
          0.06776476564453981,
          0.0849994109149331,
          0.09139337778902595,
          0.105122986101786,
          0.10511398309651954,
          0.10511398309651954
         ],
         "yaxis": "y"
        },
        {
         "customdata": [
          [
           "features_3:9",
           "features_3",
           0.9681451916694641,
           0.5
          ],
          [
           "features_3:9",
           "features_3",
           0.7892473936080933,
           0.2
          ],
          [
           "features_3:9",
           "features_3",
           0.5621167421340942,
           0.1
          ],
          [
           "features_3:9",
           "features_3",
           0.3692970871925354,
           0.05
          ],
          [
           "features_3:9",
           "features_3",
           0.11642701923847198,
           0.01
          ],
          [
           "features_3:9",
           "features_3",
           0.0813804566860199,
           0.005
          ],
          [
           "features_3:9",
           "features_3",
           0.044197000563144684,
           0.001
          ],
          [
           "features_3:9",
           "features_3",
           0.99,
           0.66796875
          ],
          [
           "features_3:9",
           "features_3",
           0.95,
           0.421875
          ],
          [
           "features_3:9",
           "features_3",
           0.9,
           0.3125
          ],
          [
           "features_3:9",
           "features_3",
           0.85,
           0.25390625
          ],
          [
           "features_3:9",
           "features_3",
           0.8,
           0.20703125
          ],
          [
           "features_3:9",
           "features_3",
           0.75,
           0.17578125
          ],
          [
           "features_3:9",
           "features_3",
           0.7,
           0.1484375
          ],
          [
           "features_3:9",
           "features_3",
           0.65,
           0.12890625
          ],
          [
           "features_3:9",
           "features_3",
           0.6,
           0.11328125
          ],
          [
           "features_3:9",
           "features_3",
           0.55,
           0.09765625
          ],
          [
           "features_3:9",
           "features_3",
           0.5,
           0.08203125
          ],
          [
           "features_3:9",
           "features_3",
           0.45,
           0.06640625
          ],
          [
           "features_3:9",
           "features_3",
           0.4,
           0.0546875
          ],
          [
           "features_3:9",
           "features_3",
           0.35,
           0.046875
          ],
          [
           "features_3:9",
           "features_3",
           0.3,
           0.03515625
          ],
          [
           "features_3:9",
           "features_3",
           0.25,
           0.02734375
          ],
          [
           "features_3:9",
           "features_3",
           0.2,
           0.01953125
          ],
          [
           "features_3:9",
           "features_3",
           0.15,
           0.01171875
          ],
          [
           "features_3:9",
           "features_3",
           0.1,
           0.0078125
          ],
          [
           "features_3:9",
           "features_3",
           0.05,
           0.00390625
          ]
         ],
         "hovertemplate": "feature_name=features_3:9<br>keep_ratios=%{x}<br>correlations=%{y}<extra></extra>",
         "legendgroup": "features_3:9",
         "marker": {
          "color": "#636efa",
          "symbol": "circle"
         },
         "mode": "markers",
         "name": "features_3:9",
         "showlegend": true,
         "type": "scattergl",
         "x": [
          0.5,
          0.2,
          0.1,
          0.05,
          0.01,
          0.005,
          0.001,
          0.66796875,
          0.421875,
          0.3125,
          0.25390625,
          0.20703125,
          0.17578125,
          0.1484375,
          0.12890625,
          0.11328125,
          0.09765625,
          0.08203125,
          0.06640625,
          0.0546875,
          0.046875,
          0.03515625,
          0.02734375,
          0.01953125,
          0.01171875,
          0.0078125,
          0.00390625
         ],
         "xaxis": "x",
         "y": [
          0.979369146779376,
          0.7570340620261267,
          0.3887874596805292,
          0.07279461129965273,
          0.06322254658535904,
          0.06329562071155195,
          0.06329375768732032,
          0.9943517275174256,
          0.922687126652662,
          0.8724379744477057,
          0.6905903689041395,
          0.7570340620261267,
          0.7252804036650928,
          0.72528561971458,
          0.4908173321094279,
          0.3551844677521476,
          0.3887874596805292,
          0.1999382660056774,
          0.12761257589240804,
          0.07279461129965273,
          0.07279461129965273,
          0.07279869736334683,
          0.004735088293245784,
          0.06322254658535904,
          0.06322254658535904,
          0.06322254658535904,
          0.06329562071155195
         ],
         "yaxis": "y"
        },
        {
         "customdata": [
          [
           "features_3:16",
           "features_3",
           0.9851722717285156,
           0.5
          ],
          [
           "features_3:16",
           "features_3",
           0.8673667311668396,
           0.2
          ],
          [
           "features_3:16",
           "features_3",
           0.6891924142837524,
           0.1
          ],
          [
           "features_3:16",
           "features_3",
           0.5110123157501221,
           0.05
          ],
          [
           "features_3:16",
           "features_3",
           0.2007330358028412,
           0.01
          ],
          [
           "features_3:16",
           "features_3",
           0.1488572061061859,
           0.005
          ],
          [
           "features_3:16",
           "features_3",
           0.09500955045223236,
           0.001
          ],
          [
           "features_3:16",
           "features_3",
           0.99,
           0.54296875
          ],
          [
           "features_3:16",
           "features_3",
           0.95,
           0.3359375
          ],
          [
           "features_3:16",
           "features_3",
           0.9,
           0.23828125
          ],
          [
           "features_3:16",
           "features_3",
           0.85,
           0.18359375
          ],
          [
           "features_3:16",
           "features_3",
           0.8,
           0.15234375
          ],
          [
           "features_3:16",
           "features_3",
           0.75,
           0.125
          ],
          [
           "features_3:16",
           "features_3",
           0.7,
           0.10546875
          ],
          [
           "features_3:16",
           "features_3",
           0.65,
           0.0859375
          ],
          [
           "features_3:16",
           "features_3",
           0.6,
           0.0703125
          ],
          [
           "features_3:16",
           "features_3",
           0.55,
           0.05859375
          ],
          [
           "features_3:16",
           "features_3",
           0.5,
           0.046875
          ],
          [
           "features_3:16",
           "features_3",
           0.45,
           0.0390625
          ],
          [
           "features_3:16",
           "features_3",
           0.4,
           0.03125
          ],
          [
           "features_3:16",
           "features_3",
           0.35,
           0.0234375
          ],
          [
           "features_3:16",
           "features_3",
           0.3,
           0.01953125
          ],
          [
           "features_3:16",
           "features_3",
           0.25,
           0.015625
          ],
          [
           "features_3:16",
           "features_3",
           0.2,
           0.0078125
          ],
          [
           "features_3:16",
           "features_3",
           0.15,
           0.0078125
          ],
          [
           "features_3:16",
           "features_3",
           0.1,
           0.00390625
          ],
          [
           "features_3:16",
           "features_3",
           0.05,
           0
          ]
         ],
         "hovertemplate": "feature_name=features_3:16<br>keep_ratios=%{x}<br>correlations=%{y}<extra></extra>",
         "legendgroup": "features_3:16",
         "marker": {
          "color": "#EF553B",
          "symbol": "circle"
         },
         "mode": "markers",
         "name": "features_3:16",
         "showlegend": true,
         "type": "scattergl",
         "x": [
          0.5,
          0.2,
          0.1,
          0.05,
          0.01,
          0.005,
          0.001,
          0.54296875,
          0.3359375,
          0.23828125,
          0.18359375,
          0.15234375,
          0.125,
          0.10546875,
          0.0859375,
          0.0703125,
          0.05859375,
          0.046875,
          0.0390625,
          0.03125,
          0.0234375,
          0.01953125,
          0.015625,
          0.0078125,
          0.0078125,
          0.00390625,
          0
         ],
         "xaxis": "x",
         "y": [
          0.9964905630627315,
          0.8821935903630738,
          0.5279043087332538,
          0.429576914084299,
          0.1140581669574452,
          0.1140581669574452,
          0.12125788121884629,
          0.9984239318683181,
          0.9657499571233716,
          0.9105465867320803,
          0.883757851780752,
          0.7601255170240415,
          0.5654478454750688,
          0.6049884817181219,
          0.5279043087332538,
          0.4327142472423725,
          0.4316584180971482,
          0.429576914084299,
          0.11539805447612866,
          0.11439319079570891,
          0.1140581669574452,
          0.1140581669574452,
          0.1140581669574452,
          0.1140581669574452,
          0.1140581669574452,
          0.1140581669574452,
          0.12125788121884629
         ],
         "yaxis": "y"
        },
        {
         "customdata": [
          [
           "features_6:15",
           "features_6",
           0.99,
           0.48042929292929293
          ],
          [
           "features_6:15",
           "features_6",
           0.95,
           0.3071338383838384
          ],
          [
           "features_6:15",
           "features_6",
           0.9,
           0.21212121212121213
          ],
          [
           "features_6:15",
           "features_6",
           0.85,
           0.15482954545454544
          ],
          [
           "features_6:15",
           "features_6",
           0.8,
           0.1148989898989899
          ],
          [
           "features_6:15",
           "features_6",
           0.75,
           0.08546401515151515
          ],
          [
           "features_6:15",
           "features_6",
           0.7,
           0.06328914141414141
          ],
          [
           "features_6:15",
           "features_6",
           0.65,
           0.04632260101010101
          ],
          [
           "features_6:15",
           "features_6",
           0.6,
           0.03330176767676768
          ],
          [
           "features_6:15",
           "features_6",
           0.55,
           0.023200757575757576
          ],
          [
           "features_6:15",
           "features_6",
           0.5,
           0.01570391414141414
          ],
          [
           "features_6:15",
           "features_6",
           0.45,
           0.010890151515151516
          ],
          [
           "features_6:15",
           "features_6",
           0.4,
           0.0078125
          ],
          [
           "features_6:15",
           "features_6",
           0.35,
           0.005760732323232323
          ],
          [
           "features_6:15",
           "features_6",
           0.3,
           0.004182449494949495
          ],
          [
           "features_6:15",
           "features_6",
           0.25,
           0.0029987373737373735
          ],
          [
           "features_6:15",
           "features_6",
           0.2,
           0.002051767676767677
          ],
          [
           "features_6:15",
           "features_6",
           0.15,
           0.0012626262626262627
          ],
          [
           "features_6:15",
           "features_6",
           0.1,
           0.0006313131313131314
          ],
          [
           "features_6:15",
           "features_6",
           0.05,
           0.00023674242424242425
          ],
          [
           "features_6:15",
           "features_6",
           0.9921455383300781,
           0.5
          ],
          [
           "features_6:15",
           "features_6",
           0.8910909295082092,
           0.2
          ],
          [
           "features_6:15",
           "features_6",
           0.7764651775360107,
           0.1
          ],
          [
           "features_6:15",
           "features_6",
           0.6618989109992981,
           0.05
          ],
          [
           "features_6:15",
           "features_6",
           0.4377867877483368,
           0.01
          ],
          [
           "features_6:15",
           "features_6",
           0.3278675675392151,
           0.005
          ],
          [
           "features_6:15",
           "features_6",
           0.12707878649234772,
           0.001
          ]
         ],
         "hovertemplate": "feature_name=features_6:15<br>keep_ratios=%{x}<br>correlations=%{y}<extra></extra>",
         "legendgroup": "features_6:15",
         "marker": {
          "color": "#00cc96",
          "symbol": "circle"
         },
         "mode": "markers",
         "name": "features_6:15",
         "showlegend": true,
         "type": "scattergl",
         "x": [
          0.48042929292929293,
          0.3071338383838384,
          0.21212121212121213,
          0.15482954545454544,
          0.1148989898989899,
          0.08546401515151515,
          0.06328914141414141,
          0.04632260101010101,
          0.03330176767676768,
          0.023200757575757576,
          0.01570391414141414,
          0.010890151515151516,
          0.0078125,
          0.005760732323232323,
          0.004182449494949495,
          0.0029987373737373735,
          0.002051767676767677,
          0.0012626262626262627,
          0.0006313131313131314,
          0.00023674242424242425,
          0.5,
          0.2,
          0.1,
          0.05,
          0.01,
          0.005,
          0.001
         ],
         "xaxis": "x",
         "y": [
          0.9987095189722388,
          0.9870933851103132,
          0.956529264164914,
          0.9330204283611531,
          0.8711866182201369,
          0.8458735404828809,
          0.825283843813776,
          0.7320293178497788,
          0.6232976437843512,
          0.6040621047877922,
          0.4227214557715765,
          0.20733699055422528,
          -0.06993762263176674,
          -0.09898574022570744,
          -0.10832595059388184,
          -0.1679150177603525,
          -0.15333440297893547,
          -0.14523520495138292,
          -0.19469995192171524,
          -0.1992515359482718,
          0.9991717564959142,
          0.9524736554443858,
          0.8514940026089368,
          0.7658765832491345,
          -0.1851635622145678,
          -0.11183722585262336,
          -0.19521877437747664
         ],
         "yaxis": "y"
        },
        {
         "customdata": [
          [
           "features_6:3",
           "features_6",
           0.9996870756149292,
           0.5
          ],
          [
           "features_6:3",
           "features_6",
           0.9843171834945679,
           0.2
          ],
          [
           "features_6:3",
           "features_6",
           0.9307470917701721,
           0.1
          ],
          [
           "features_6:3",
           "features_6",
           0.8477283120155334,
           0.05
          ],
          [
           "features_6:3",
           "features_6",
           0.5879307985305786,
           0.01
          ],
          [
           "features_6:3",
           "features_6",
           0.47642818093299866,
           0.005
          ],
          [
           "features_6:3",
           "features_6",
           0.2478858381509781,
           0.001
          ],
          [
           "features_6:3",
           "features_6",
           0.99,
           0.2275094696969697
          ],
          [
           "features_6:3",
           "features_6",
           0.95,
           0.12239583333333333
          ],
          [
           "features_6:3",
           "features_6",
           0.9,
           0.07559974747474747
          ],
          [
           "features_6:3",
           "features_6",
           0.85,
           0.05082070707070707
          ],
          [
           "features_6:3",
           "features_6",
           0.8,
           0.035905934343434344
          ],
          [
           "features_6:3",
           "features_6",
           0.75,
           0.026278409090909092
          ],
          [
           "features_6:3",
           "features_6",
           0.7,
           0.019491792929292928
          ],
          [
           "features_6:3",
           "features_6",
           0.65,
           0.014441287878787878
          ],
          [
           "features_6:3",
           "features_6",
           0.6,
           0.010732323232323232
          ],
          [
           "features_6:3",
           "features_6",
           0.55,
           0.007891414141414142
          ],
          [
           "features_6:3",
           "features_6",
           0.5,
           0.005760732323232323
          ],
          [
           "features_6:3",
           "features_6",
           0.45,
           0.004261363636363636
          ],
          [
           "features_6:3",
           "features_6",
           0.4,
           0.003077651515151515
          ],
          [
           "features_6:3",
           "features_6",
           0.35,
           0.002130681818181818
          ],
          [
           "features_6:3",
           "features_6",
           0.3,
           0.0014993686868686868
          ],
          [
           "features_6:3",
           "features_6",
           0.25,
           0.0010258838383838385
          ],
          [
           "features_6:3",
           "features_6",
           0.2,
           0.0006313131313131314
          ],
          [
           "features_6:3",
           "features_6",
           0.15,
           0.00039457070707070706
          ],
          [
           "features_6:3",
           "features_6",
           0.1,
           0.00015782828282828284
          ],
          [
           "features_6:3",
           "features_6",
           0.05,
           7.891414141414142e-05
          ]
         ],
         "hovertemplate": "feature_name=features_6:3<br>keep_ratios=%{x}<br>correlations=%{y}<extra></extra>",
         "legendgroup": "features_6:3",
         "marker": {
          "color": "#ab63fa",
          "symbol": "circle"
         },
         "mode": "markers",
         "name": "features_6:3",
         "showlegend": true,
         "type": "scattergl",
         "x": [
          0.5,
          0.2,
          0.1,
          0.05,
          0.01,
          0.005,
          0.001,
          0.2275094696969697,
          0.12239583333333333,
          0.07559974747474747,
          0.05082070707070707,
          0.035905934343434344,
          0.026278409090909092,
          0.019491792929292928,
          0.014441287878787878,
          0.010732323232323232,
          0.007891414141414142,
          0.005760732323232323,
          0.004261363636363636,
          0.003077651515151515,
          0.002130681818181818,
          0.0014993686868686868,
          0.0010258838383838385,
          0.0006313131313131314,
          0.00039457070707070706,
          0.00015782828282828284,
          7.891414141414142e-05
         ],
         "xaxis": "x",
         "y": [
          0.9999998835518664,
          0.998775643765119,
          0.9850649642984709,
          0.9624723616937503,
          0.7140201304289864,
          0.4434974615357708,
          -0.13117309808600658,
          0.999335415629129,
          0.9903110950172946,
          0.9776758163472317,
          0.9638625803900222,
          0.9470654326340324,
          0.9145817116570727,
          0.8946900565323213,
          0.878464499592446,
          0.8048171742251258,
          0.7467873490484163,
          0.5830268047360007,
          0.5678935080168612,
          -0.18750505418910668,
          -0.14623243075821726,
          -0.10261594024208145,
          -0.08512567986758854,
          -0.0341748403546718,
          -0.228118386925294,
          -0.22637549771395565,
          -0.24892741845365962
         ],
         "yaxis": "y"
        },
        {
         "customdata": [
          [
           "features_3:4",
           "features_3",
           0.9718810319900513,
           0.5
          ],
          [
           "features_3:4",
           "features_3",
           0.8347628116607666,
           0.2
          ],
          [
           "features_3:4",
           "features_3",
           0.7013444304466248,
           0.1
          ],
          [
           "features_3:4",
           "features_3",
           0.5375152826309204,
           0.05
          ],
          [
           "features_3:4",
           "features_3",
           0.20323073863983154,
           0.01
          ],
          [
           "features_3:4",
           "features_3",
           0.14638914167881012,
           0.005
          ],
          [
           "features_3:4",
           "features_3",
           0.08922868221998215,
           0.001
          ],
          [
           "features_3:4",
           "features_3",
           0.99,
           0.6328125
          ],
          [
           "features_3:4",
           "features_3",
           0.95,
           0.41796875
          ],
          [
           "features_3:4",
           "features_3",
           0.9,
           0.29296875
          ],
          [
           "features_3:4",
           "features_3",
           0.85,
           0.21875
          ],
          [
           "features_3:4",
           "features_3",
           0.8,
           0.1640625
          ],
          [
           "features_3:4",
           "features_3",
           0.75,
           0.12890625
          ],
          [
           "features_3:4",
           "features_3",
           0.7,
           0.09765625
          ],
          [
           "features_3:4",
           "features_3",
           0.65,
           0.078125
          ],
          [
           "features_3:4",
           "features_3",
           0.6,
           0.0625
          ],
          [
           "features_3:4",
           "features_3",
           0.55,
           0.05078125
          ],
          [
           "features_3:4",
           "features_3",
           0.5,
           0.04296875
          ],
          [
           "features_3:4",
           "features_3",
           0.45,
           0.03515625
          ],
          [
           "features_3:4",
           "features_3",
           0.4,
           0.02734375
          ],
          [
           "features_3:4",
           "features_3",
           0.35,
           0.0234375
          ],
          [
           "features_3:4",
           "features_3",
           0.3,
           0.01953125
          ],
          [
           "features_3:4",
           "features_3",
           0.25,
           0.015625
          ],
          [
           "features_3:4",
           "features_3",
           0.2,
           0.0078125
          ],
          [
           "features_3:4",
           "features_3",
           0.15,
           0.0078125
          ],
          [
           "features_3:4",
           "features_3",
           0.1,
           0.00390625
          ],
          [
           "features_3:4",
           "features_3",
           0.05,
           0
          ]
         ],
         "hovertemplate": "feature_name=features_3:4<br>keep_ratios=%{x}<br>correlations=%{y}<extra></extra>",
         "legendgroup": "features_3:4",
         "marker": {
          "color": "#FFA15A",
          "symbol": "circle"
         },
         "mode": "markers",
         "name": "features_3:4",
         "showlegend": true,
         "type": "scattergl",
         "x": [
          0.5,
          0.2,
          0.1,
          0.05,
          0.01,
          0.005,
          0.001,
          0.6328125,
          0.41796875,
          0.29296875,
          0.21875,
          0.1640625,
          0.12890625,
          0.09765625,
          0.078125,
          0.0625,
          0.05078125,
          0.04296875,
          0.03515625,
          0.02734375,
          0.0234375,
          0.01953125,
          0.015625,
          0.0078125,
          0.0078125,
          0.00390625,
          0
         ],
         "xaxis": "x",
         "y": [
          0.9886441472641219,
          0.9247656067431089,
          0.7223101333043129,
          -0.12687168235646057,
          0,
          0,
          0,
          0.9975506841676114,
          0.97589689757143,
          0.9628479462704964,
          0.9348026035323913,
          0.9101399649058655,
          0.8463580044614136,
          0.7223101333043129,
          -0.17176416853734977,
          -0.17176416853734977,
          -0.12687168235646057,
          -0.12687168235646057,
          -0.12687168235646057,
          -0.12687168235646057,
          -0.14600221314549655,
          -0.14600221314549655,
          -0.14600221314549655,
          0,
          0,
          0,
          0
         ],
         "yaxis": "y"
        },
        {
         "customdata": [
          [
           "features_10:12",
           "features_10",
           0.99,
           0.4088045549012816
          ],
          [
           "features_10:12",
           "features_10",
           0.95,
           0.30746666089366126
          ],
          [
           "features_10:12",
           "features_10",
           0.9,
           0.24380845167994458
          ],
          [
           "features_10:12",
           "features_10",
           0.85,
           0.2003756061655698
          ],
          [
           "features_10:12",
           "features_10",
           0.8,
           0.16697696570834777
          ],
          [
           "features_10:12",
           "features_10",
           0.75,
           0.1399430637339799
          ],
          [
           "features_10:12",
           "features_10",
           0.7,
           0.11738504502944233
          ],
          [
           "features_10:12",
           "features_10",
           0.65,
           0.09825294423276758
          ],
          [
           "features_10:12",
           "features_10",
           0.6,
           0.0817782299965362
          ],
          [
           "features_10:12",
           "features_10",
           0.55,
           0.06754416349151368
          ],
          [
           "features_10:12",
           "features_10",
           0.5,
           0.05520977658468999
          ],
          [
           "features_10:12",
           "features_10",
           0.45,
           0.0444719864911673
          ],
          [
           "features_10:12",
           "features_10",
           0.4,
           0.0351521908555594
          ],
          [
           "features_10:12",
           "features_10",
           0.35,
           0.02710426047800485
          ],
          [
           "features_10:12",
           "features_10",
           0.3,
           0.02017665396605473
          ],
          [
           "features_10:12",
           "features_10",
           0.25,
           0.014288188430897126
          ],
          [
           "features_10:12",
           "features_10",
           0.2,
           0.009390154139244891
          ],
          [
           "features_10:12",
           "features_10",
           0.15,
           0.005482551091098025
          ],
          [
           "features_10:12",
           "features_10",
           0.1,
           0.0025437305161066853
          ],
          [
           "features_10:12",
           "features_10",
           0.05,
           0.0006386387253204018
          ],
          [
           "features_10:12",
           "features_10",
           0.9990507960319519,
           0.5
          ],
          [
           "features_10:12",
           "features_10",
           0.8495017290115356,
           0.2
          ],
          [
           "features_10:12",
           "features_10",
           0.6548922657966614,
           0.1
          ],
          [
           "features_10:12",
           "features_10",
           0.4766278862953186,
           0.05
          ],
          [
           "features_10:12",
           "features_10",
           0.20677685737609863,
           0.01
          ],
          [
           "features_10:12",
           "features_10",
           0.14285215735435486,
           0.005
          ],
          [
           "features_10:12",
           "features_10",
           0.06235150247812271,
           0.001
          ]
         ],
         "hovertemplate": "feature_name=features_10:12<br>keep_ratios=%{x}<br>correlations=%{y}<extra></extra>",
         "legendgroup": "features_10:12",
         "marker": {
          "color": "#19d3f3",
          "symbol": "circle"
         },
         "mode": "markers",
         "name": "features_10:12",
         "showlegend": true,
         "type": "scattergl",
         "x": [
          0.4088045549012816,
          0.30746666089366126,
          0.24380845167994458,
          0.2003756061655698,
          0.16697696570834777,
          0.1399430637339799,
          0.11738504502944233,
          0.09825294423276758,
          0.0817782299965362,
          0.06754416349151368,
          0.05520977658468999,
          0.0444719864911673,
          0.0351521908555594,
          0.02710426047800485,
          0.02017665396605473,
          0.014288188430897126,
          0.009390154139244891,
          0.005482551091098025,
          0.0025437305161066853,
          0.0006386387253204018,
          0.5,
          0.2,
          0.1,
          0.05,
          0.01,
          0.005,
          0.001
         ],
         "xaxis": "x",
         "y": [
          0.9983038741706333,
          0.9793693257407615,
          0.934386635128639,
          0.8614041361810736,
          0.7797638497181726,
          0.6876589505240988,
          0.5911477116954189,
          0.513549344153428,
          0.40588405771708613,
          0.37108507820356956,
          0.32352818783700776,
          0.3392876320108983,
          0.2638715696397803,
          0.2195311505169712,
          0.21328866289983278,
          0.1865835573135085,
          0.21179366344872586,
          0.06731568801454656,
          -0.09819470495059587,
          -0.1561983157403956,
          0.999985599195215,
          0.859114178189975,
          0.5196516947617749,
          0.36546915899575083,
          0.22549393671781412,
          0.01661179102485668,
          -0.15776566655737329
         ],
         "yaxis": "y"
        },
        {
         "customdata": [
          [
           "features_8:5",
           "features_8",
           0.9994992017745972,
           0.5
          ],
          [
           "features_8:5",
           "features_8",
           0.9195717573165894,
           0.2
          ],
          [
           "features_8:5",
           "features_8",
           0.7648383975028992,
           0.1
          ],
          [
           "features_8:5",
           "features_8",
           0.5989245772361755,
           0.05
          ],
          [
           "features_8:5",
           "features_8",
           0.3019707500934601,
           0.01
          ],
          [
           "features_8:5",
           "features_8",
           0.21900717914104462,
           0.005
          ],
          [
           "features_8:5",
           "features_8",
           0.09381022304296494,
           0.001
          ],
          [
           "features_8:5",
           "features_8",
           0.99,
           0.33795269770879527
          ],
          [
           "features_8:5",
           "features_8",
           0.95,
           0.23865946045824094
          ],
          [
           "features_8:5",
           "features_8",
           0.9,
           0.1810328898743533
          ],
          [
           "features_8:5",
           "features_8",
           0.85,
           0.14360449002217296
          ],
          [
           "features_8:5",
           "features_8",
           0.8,
           0.1158190133037694
          ],
          [
           "features_8:5",
           "features_8",
           0.75,
           0.09405025868440503
          ],
          [
           "features_8:5",
           "features_8",
           0.7,
           0.07645048041389504
          ],
          [
           "features_8:5",
           "features_8",
           0.65,
           0.06210735402808574
          ],
          [
           "features_8:5",
           "features_8",
           0.6,
           0.050235587583148555
          ],
          [
           "features_8:5",
           "features_8",
           0.55,
           0.04025776053215078
          ],
          [
           "features_8:5",
           "features_8",
           0.5,
           0.031862065779748705
          ],
          [
           "features_8:5",
           "features_8",
           0.45,
           0.02478288987435329
          ],
          [
           "features_8:5",
           "features_8",
           0.4,
           0.018800813008130083
          ],
          [
           "features_8:5",
           "features_8",
           0.35,
           0.01388118994826312
          ],
          [
           "features_8:5",
           "features_8",
           0.3,
           0.00985079453067258
          ],
          [
           "features_8:5",
           "features_8",
           0.25,
           0.006617239467849224
          ],
          [
           "features_8:5",
           "features_8",
           0.2,
           0.004145879526977088
          ],
          [
           "features_8:5",
           "features_8",
           0.15,
           0.0023443274205469326
          ],
          [
           "features_8:5",
           "features_8",
           0.1,
           0.0011201958610495195
          ],
          [
           "features_8:5",
           "features_8",
           0.05,
           0.00035800073909830006
          ]
         ],
         "hovertemplate": "feature_name=features_8:5<br>keep_ratios=%{x}<br>correlations=%{y}<extra></extra>",
         "legendgroup": "features_8:5",
         "marker": {
          "color": "#FF6692",
          "symbol": "circle"
         },
         "mode": "markers",
         "name": "features_8:5",
         "showlegend": true,
         "type": "scattergl",
         "x": [
          0.5,
          0.2,
          0.1,
          0.05,
          0.01,
          0.005,
          0.001,
          0.33795269770879527,
          0.23865946045824094,
          0.1810328898743533,
          0.14360449002217296,
          0.1158190133037694,
          0.09405025868440503,
          0.07645048041389504,
          0.06210735402808574,
          0.050235587583148555,
          0.04025776053215078,
          0.031862065779748705,
          0.02478288987435329,
          0.018800813008130083,
          0.01388118994826312,
          0.00985079453067258,
          0.006617239467849224,
          0.004145879526977088,
          0.0023443274205469326,
          0.0011201958610495195,
          0.00035800073909830006
         ],
         "xaxis": "x",
         "y": [
          0.999999211146724,
          0.9668669009780786,
          0.8560546924088992,
          0.6990664581947412,
          0.4894694766642347,
          0.4685293098866198,
          0.3637263131209715,
          0.9988780888162954,
          0.9846098766556609,
          0.9514861342273309,
          0.9167388111049901,
          0.8914933286996294,
          0.8367517571769199,
          0.7570459296746721,
          0.7053596878154239,
          0.7006087890698303,
          0.6752915255971422,
          0.6397696464805935,
          0.5600562118606693,
          0.6310497332112524,
          0.5643069585475471,
          0.4898952718271089,
          0.47572497748957265,
          0.5143024202304756,
          0.44255850769399896,
          0.3630966198513714,
          0.2060271420438018
         ],
         "yaxis": "y"
        },
        {
         "customdata": [
          [
           "features_8:3",
           "features_8",
           0.9996030330657959,
           0.5
          ],
          [
           "features_8:3",
           "features_8",
           0.9176256656646729,
           0.2
          ],
          [
           "features_8:3",
           "features_8",
           0.7584584355354309,
           0.1
          ],
          [
           "features_8:3",
           "features_8",
           0.5856425762176514,
           0.05
          ],
          [
           "features_8:3",
           "features_8",
           0.27949047088623047,
           0.01
          ],
          [
           "features_8:3",
           "features_8",
           0.19715221226215363,
           0.005
          ],
          [
           "features_8:3",
           "features_8",
           0.08043166995048523,
           0.001
          ],
          [
           "features_8:3",
           "features_8",
           0.99,
           0.33859940872135996
          ],
          [
           "features_8:3",
           "features_8",
           0.95,
           0.24066888396156688
          ],
          [
           "features_8:3",
           "features_8",
           0.9,
           0.18293837767923135
          ],
          [
           "features_8:3",
           "features_8",
           0.85,
           0.14545223577235772
          ],
          [
           "features_8:3",
           "features_8",
           0.8,
           0.1180709534368071
          ],
          [
           "features_8:3",
           "features_8",
           0.75,
           0.0967179416112343
          ],
          [
           "features_8:3",
           "features_8",
           0.7,
           0.07936067997043607
          ],
          [
           "features_8:3",
           "features_8",
           0.65,
           0.06505219881744272
          ],
          [
           "features_8:3",
           "features_8",
           0.6,
           0.0530880450849963
          ],
          [
           "features_8:3",
           "features_8",
           0.55,
           0.0429369918699187
          ],
          [
           "features_8:3",
           "features_8",
           0.5,
           0.03433342572062084
          ],
          [
           "features_8:3",
           "features_8",
           0.45,
           0.027092572062084257
          ],
          [
           "features_8:3",
           "features_8",
           0.4,
           0.020960365853658538
          ],
          [
           "features_8:3",
           "features_8",
           0.35,
           0.015832871396895785
          ],
          [
           "features_8:3",
           "features_8",
           0.3,
           0.011548410938654842
          ],
          [
           "features_8:3",
           "features_8",
           0.25,
           0.00799150036954915
          ],
          [
           "features_8:3",
           "features_8",
           0.2,
           0.005139042867701405
          ],
          [
           "features_8:3",
           "features_8",
           0.15,
           0.002967941611234294
          ],
          [
           "features_8:3",
           "features_8",
           0.1,
           0.0014435513673318552
          ],
          [
           "features_8:3",
           "features_8",
           0.05,
           0.00046193643754619364
          ]
         ],
         "hovertemplate": "feature_name=features_8:3<br>keep_ratios=%{x}<br>correlations=%{y}<extra></extra>",
         "legendgroup": "features_8:3",
         "marker": {
          "color": "#B6E880",
          "symbol": "circle"
         },
         "mode": "markers",
         "name": "features_8:3",
         "showlegend": true,
         "type": "scattergl",
         "x": [
          0.5,
          0.2,
          0.1,
          0.05,
          0.01,
          0.005,
          0.001,
          0.33859940872135996,
          0.24066888396156688,
          0.18293837767923135,
          0.14545223577235772,
          0.1180709534368071,
          0.0967179416112343,
          0.07936067997043607,
          0.06505219881744272,
          0.0530880450849963,
          0.0429369918699187,
          0.03433342572062084,
          0.027092572062084257,
          0.020960365853658538,
          0.015832871396895785,
          0.011548410938654842,
          0.00799150036954915,
          0.005139042867701405,
          0.002967941611234294,
          0.0014435513673318552,
          0.00046193643754619364
         ],
         "xaxis": "x",
         "y": [
          0.9999994603861666,
          0.9512688729825454,
          0.8418113468419625,
          0.6866994722275127,
          0.4451741637276482,
          0.4592698408336844,
          -0.16360121192515417,
          0.9987290212681502,
          0.9813611510246278,
          0.9350819479237519,
          0.9104500547723269,
          0.8841722444307654,
          0.8582246175091862,
          0.8351077706163268,
          0.7729742501232657,
          0.7055249197034983,
          0.6539497674488122,
          0.599787401280694,
          0.5530713027873574,
          0.5000846546855182,
          0.46875196038058065,
          0.4707019172726801,
          0.4364974528033021,
          0.45918122090824887,
          0.305357306849536,
          -0.09250709847575522,
          -0.18401403554076604
         ],
         "yaxis": "y"
        },
        {
         "customdata": [
          [
           "features_10:5",
           "features_10",
           0.9985846877098083,
           0.5
          ],
          [
           "features_10:5",
           "features_10",
           0.8334511518478394,
           0.2
          ],
          [
           "features_10:5",
           "features_10",
           0.6360903978347778,
           0.1
          ],
          [
           "features_10:5",
           "features_10",
           0.46050140261650085,
           0.05
          ],
          [
           "features_10:5",
           "features_10",
           0.20252686738967896,
           0.01
          ],
          [
           "features_10:5",
           "features_10",
           0.14260251820087433,
           0.005
          ],
          [
           "features_10:5",
           "features_10",
           0.06626247614622116,
           0.001
          ],
          [
           "features_10:5",
           "features_10",
           0.99,
           0.42297908728784206
          ],
          [
           "features_10:5",
           "features_10",
           0.95,
           0.3216844908209214
          ],
          [
           "features_10:5",
           "features_10",
           0.9,
           0.25717656737097333
          ],
          [
           "features_10:5",
           "features_10",
           0.85,
           0.2123744371319709
          ],
          [
           "features_10:5",
           "features_10",
           0.8,
           0.17762274852788362
          ],
          [
           "features_10:5",
           "features_10",
           0.75,
           0.14922497402147558
          ],
          [
           "features_10:5",
           "features_10",
           0.7,
           0.1254167388292345
          ],
          [
           "features_10:5",
           "features_10",
           0.65,
           0.10512101662625563
          ],
          [
           "features_10:5",
           "features_10",
           0.6,
           0.08762339799099411
          ],
          [
           "features_10:5",
           "features_10",
           0.55,
           0.072431373397991
          ],
          [
           "features_10:5",
           "features_10",
           0.5,
           0.05922562348458608
          ],
          [
           "features_10:5",
           "features_10",
           0.45,
           0.04771388985105646
          ],
          [
           "features_10:5",
           "features_10",
           0.4,
           0.037679684793903705
          ],
          [
           "features_10:5",
           "features_10",
           0.35,
           0.028933581572566678
          ],
          [
           "features_10:5",
           "features_10",
           0.3,
           0.021416046068583303
          ],
          [
           "features_10:5",
           "features_10",
           0.25,
           0.015062131970904053
          ],
          [
           "features_10:5",
           "features_10",
           0.2,
           0.00975818323519224
          ],
          [
           "features_10:5",
           "features_10",
           0.15,
           0.005531260824385175
          ],
          [
           "features_10:5",
           "features_10",
           0.1,
           0.0024138378940076204
          ],
          [
           "features_10:5",
           "features_10",
           0.05,
           0.0005412192587461032
          ]
         ],
         "hovertemplate": "feature_name=features_10:5<br>keep_ratios=%{x}<br>correlations=%{y}<extra></extra>",
         "legendgroup": "features_10:5",
         "marker": {
          "color": "#FF97FF",
          "symbol": "circle"
         },
         "mode": "markers",
         "name": "features_10:5",
         "showlegend": true,
         "type": "scattergl",
         "x": [
          0.5,
          0.2,
          0.1,
          0.05,
          0.01,
          0.005,
          0.001,
          0.42297908728784206,
          0.3216844908209214,
          0.25717656737097333,
          0.2123744371319709,
          0.17762274852788362,
          0.14922497402147558,
          0.1254167388292345,
          0.10512101662625563,
          0.08762339799099411,
          0.072431373397991,
          0.05922562348458608,
          0.04771388985105646,
          0.037679684793903705,
          0.028933581572566678,
          0.021416046068583303,
          0.015062131970904053,
          0.00975818323519224,
          0.005531260824385175,
          0.0024138378940076204,
          0.0005412192587461032
         ],
         "xaxis": "x",
         "y": [
          0.9999553642802772,
          0.805654156742693,
          0.3868397802792472,
          0.13958051080304648,
          0.06563692440286673,
          0.10519699998601813,
          -0.03464147310908028,
          0.9984533221494035,
          0.9830657130171587,
          0.9365491425047616,
          0.8411400920469241,
          0.7146609626694844,
          0.6045441636794738,
          0.4778016633064648,
          0.4102648116148567,
          0.37020958604370413,
          0.312339378947872,
          0.24300057522477897,
          0.13134913730270115,
          0.16941188085491354,
          0.16898101954261185,
          0.07085113583049413,
          0.0409531375011021,
          0.06591868903258313,
          0.11406797208733482,
          -0.02951153794623185,
          -0.11863836954535416
         ],
         "yaxis": "y"
        },
        {
         "customdata": [
          [
           "features_8:10",
           "features_8",
           0.9993489384651184,
           0.5
          ],
          [
           "features_8:10",
           "features_8",
           0.8973110914230347,
           0.2
          ],
          [
           "features_8:10",
           "features_8",
           0.7323588132858276,
           0.1
          ],
          [
           "features_8:10",
           "features_8",
           0.5639992952346802,
           0.05
          ],
          [
           "features_8:10",
           "features_8",
           0.2716193199157715,
           0.01
          ],
          [
           "features_8:10",
           "features_8",
           0.19086134433746338,
           0.005
          ],
          [
           "features_8:10",
           "features_8",
           0.07613956183195114,
           0.001
          ],
          [
           "features_8:10",
           "features_8",
           0.99,
           0.3700110864745011
          ],
          [
           "features_8:10",
           "features_8",
           0.95,
           0.2650822246858832
          ],
          [
           "features_8:10",
           "features_8",
           0.9,
           0.20260532150776053
          ],
          [
           "features_8:10",
           "features_8",
           0.85,
           0.16150452697708795
          ],
          [
           "features_8:10",
           "features_8",
           0.8,
           0.13107446415373245
          ],
          [
           "features_8:10",
           "features_8",
           0.75,
           0.10726164079822616
          ],
          [
           "features_8:10",
           "features_8",
           0.7,
           0.08790650406504065
          ],
          [
           "features_8:10",
           "features_8",
           0.65,
           0.07184266444937176
          ],
          [
           "features_8:10",
           "features_8",
           0.6,
           0.058365668883961566
          ],
          [
           "features_8:10",
           "features_8",
           0.55,
           0.04701358093126386
          ],
          [
           "features_8:10",
           "features_8",
           0.5,
           0.03742839985218034
          ],
          [
           "features_8:10",
           "features_8",
           0.45,
           0.029367609016999262
          ],
          [
           "features_8:10",
           "features_8",
           0.4,
           0.022600240206947526
          ],
          [
           "features_8:10",
           "features_8",
           0.35,
           0.016929970436067997
          ],
          [
           "features_8:10",
           "features_8",
           0.3,
           0.012252864005912786
          ],
          [
           "features_8:10",
           "features_8",
           0.25,
           0.008453436807095344
          ],
          [
           "features_8:10",
           "features_8",
           0.2,
           0.00546239837398374
          ],
          [
           "features_8:10",
           "features_8",
           0.15,
           0.0031642645971914265
          ],
          [
           "features_8:10",
           "features_8",
           0.1,
           0.0015474870657797488
          ],
          [
           "features_8:10",
           "features_8",
           0.05,
           0.0005312269031781227
          ]
         ],
         "hovertemplate": "feature_name=features_8:10<br>keep_ratios=%{x}<br>correlations=%{y}<extra></extra>",
         "legendgroup": "features_8:10",
         "marker": {
          "color": "#FECB52",
          "symbol": "circle"
         },
         "mode": "markers",
         "name": "features_8:10",
         "showlegend": true,
         "type": "scattergl",
         "x": [
          0.5,
          0.2,
          0.1,
          0.05,
          0.01,
          0.005,
          0.001,
          0.3700110864745011,
          0.2650822246858832,
          0.20260532150776053,
          0.16150452697708795,
          0.13107446415373245,
          0.10726164079822616,
          0.08790650406504065,
          0.07184266444937176,
          0.058365668883961566,
          0.04701358093126386,
          0.03742839985218034,
          0.029367609016999262,
          0.022600240206947526,
          0.016929970436067997,
          0.012252864005912786,
          0.008453436807095344,
          0.00546239837398374,
          0.0031642645971914265,
          0.0015474870657797488,
          0.0005312269031781227
         ],
         "xaxis": "x",
         "y": [
          0.9999979520006398,
          0.9305390439244757,
          0.71823569294087,
          0.2791063833336346,
          0.12854321694629398,
          -0.02075484119997717,
          0.13582023811096836,
          0.9983828234157355,
          0.9747628538987703,
          0.9341631213795687,
          0.8751959979048334,
          0.8500788334002021,
          0.759284017054234,
          0.6851104980935432,
          0.5161051097286464,
          0.37710423211690425,
          0.1995413581229607,
          0.11815446747165145,
          0.047732806488112525,
          0.0004492452521613252,
          0.06825150193993787,
          0.01589023902155591,
          0.1785995402262316,
          -0.028163574380816014,
          0.08125467110027974,
          0.1410156433268552,
          0.12093954348972592
         ],
         "yaxis": "y"
        },
        {
         "customdata": [
          [
           "features_6:7",
           "features_6",
           0.9985728859901428,
           0.5
          ],
          [
           "features_6:7",
           "features_6",
           0.9229298830032349,
           0.2
          ],
          [
           "features_6:7",
           "features_6",
           0.8209371566772461,
           0.1
          ],
          [
           "features_6:7",
           "features_6",
           0.7033794522285461,
           0.05
          ],
          [
           "features_6:7",
           "features_6",
           0.4492987394332886,
           0.01
          ],
          [
           "features_6:7",
           "features_6",
           0.3428158164024353,
           0.005
          ],
          [
           "features_6:7",
           "features_6",
           0.13226459920406342,
           0.001
          ],
          [
           "features_6:7",
           "features_6",
           0.99,
           0.3970959595959596
          ],
          [
           "features_6:7",
           "features_6",
           0.95,
           0.2498421717171717
          ],
          [
           "features_6:7",
           "features_6",
           0.9,
           0.1686395202020202
          ],
          [
           "features_6:7",
           "features_6",
           0.85,
           0.12026515151515152
          ],
          [
           "features_6:7",
           "features_6",
           0.8,
           0.08783143939393939
          ],
          [
           "features_6:7",
           "features_6",
           0.75,
           0.06526199494949494
          ],
          [
           "features_6:7",
           "features_6",
           0.7,
           0.04908459595959596
          ],
          [
           "features_6:7",
           "features_6",
           0.65,
           0.036773989898989896
          ],
          [
           "features_6:7",
           "features_6",
           0.6,
           0.027304292929292928
          ],
          [
           "features_6:7",
           "features_6",
           0.55,
           0.019728535353535352
          ],
          [
           "features_6:7",
           "features_6",
           0.5,
           0.014046717171717172
          ],
          [
           "features_6:7",
           "features_6",
           0.45,
           0.01002209595959596
          ],
          [
           "features_6:7",
           "features_6",
           0.4,
           0.007102272727272727
          ],
          [
           "features_6:7",
           "features_6",
           0.35,
           0.005208333333333333
          ],
          [
           "features_6:7",
           "features_6",
           0.3,
           0.003787878787878788
          ],
          [
           "features_6:7",
           "features_6",
           0.25,
           0.0027619949494949495
          ],
          [
           "features_6:7",
           "features_6",
           0.2,
           0.001893939393939394
          ],
          [
           "features_6:7",
           "features_6",
           0.15,
           0.0011837121212121212
          ],
          [
           "features_6:7",
           "features_6",
           0.1,
           0.0006313131313131314
          ],
          [
           "features_6:7",
           "features_6",
           0.05,
           0.00023674242424242425
          ]
         ],
         "hovertemplate": "feature_name=features_6:7<br>keep_ratios=%{x}<br>correlations=%{y}<extra></extra>",
         "legendgroup": "features_6:7",
         "marker": {
          "color": "#636efa",
          "symbol": "circle"
         },
         "mode": "markers",
         "name": "features_6:7",
         "showlegend": true,
         "type": "scattergl",
         "x": [
          0.5,
          0.2,
          0.1,
          0.05,
          0.01,
          0.005,
          0.001,
          0.3970959595959596,
          0.2498421717171717,
          0.1686395202020202,
          0.12026515151515152,
          0.08783143939393939,
          0.06526199494949494,
          0.04908459595959596,
          0.036773989898989896,
          0.027304292929292928,
          0.019728535353535352,
          0.014046717171717172,
          0.01002209595959596,
          0.007102272727272727,
          0.005208333333333333,
          0.003787878787878788,
          0.0027619949494949495,
          0.001893939393939394,
          0.0011837121212121212,
          0.0006313131313131314,
          0.00023674242424242425
         ],
         "xaxis": "x",
         "y": [
          0.9999602610876309,
          0.9685761143778606,
          0.8805010115724017,
          0.7003936678529501,
          0.005294065689263946,
          0.022679077075984495,
          0.003975073155580229,
          0.9985808205474259,
          0.9868359977285657,
          0.9598698143445827,
          0.91751145749923,
          0.8543939982064779,
          0.8020873333038057,
          0.6942353927779488,
          0.5568227663695351,
          0.40349868594187943,
          0.25339539040432557,
          0.17783209795010263,
          0.13502006051800142,
          0.007511169599833416,
          -0.004612107335147093,
          0.017856757647683692,
          -0.0218931036667999,
          0.004553934282679576,
          0.05464376116807894,
          0.003975073155580229,
          0
         ],
         "yaxis": "y"
        },
        {
         "customdata": [
          [
           "features_10:0",
           "features_10",
           0.99,
           0.4071646605472809
          ],
          [
           "features_10:0",
           "features_10",
           0.95,
           0.30600536889504676
          ],
          [
           "features_10:0",
           "features_10",
           0.9,
           0.24225515240734327
          ],
          [
           "features_10:0",
           "features_10",
           0.85,
           0.19859499480429513
          ],
          [
           "features_10:0",
           "features_10",
           0.8,
           0.16507728611014894
          ],
          [
           "features_10:0",
           "features_10",
           0.75,
           0.1379189037062695
          ],
          [
           "features_10:0",
           "features_10",
           0.7,
           0.11524181676480776
          ],
          [
           "features_10:0",
           "features_10",
           0.65,
           0.09601229650155871
          ],
          [
           "features_10:0",
           "features_10",
           0.6,
           0.07960794076896432
          ],
          [
           "features_10:0",
           "features_10",
           0.55,
           0.06548211811569103
          ],
          [
           "features_10:0",
           "features_10",
           0.5,
           0.05323432629026671
          ],
          [
           "features_10:0",
           "features_10",
           0.45,
           0.042588543470730864
          ],
          [
           "features_10:0",
           "features_10",
           0.4,
           0.033366167301697267
          ],
          [
           "features_10:0",
           "features_10",
           0.35,
           0.025415656390717006
          ],
          [
           "features_10:0",
           "features_10",
           0.3,
           0.018650415656390716
          ],
          [
           "features_10:0",
           "features_10",
           0.25,
           0.012973025632144095
          ],
          [
           "features_10:0",
           "features_10",
           0.2,
           0.008318540006927607
          ],
          [
           "features_10:0",
           "features_10",
           0.15,
           0.004643661240041566
          ],
          [
           "features_10:0",
           "features_10",
           0.1,
           0.001959213716660894
          ],
          [
           "features_10:0",
           "features_10",
           0.05,
           0.00040050225147211636
          ],
          [
           "features_10:0",
           "features_10",
           0.9989331364631653,
           0.5
          ],
          [
           "features_10:0",
           "features_10",
           0.8518466949462891,
           0.2
          ],
          [
           "features_10:0",
           "features_10",
           0.661033570766449,
           0.1
          ],
          [
           "features_10:0",
           "features_10",
           0.4855409562587738,
           0.05
          ],
          [
           "features_10:0",
           "features_10",
           0.21928685903549194,
           0.01
          ],
          [
           "features_10:0",
           "features_10",
           0.15541352331638336,
           0.005
          ],
          [
           "features_10:0",
           "features_10",
           0.07425568252801895,
           0.001
          ]
         ],
         "hovertemplate": "feature_name=features_10:0<br>keep_ratios=%{x}<br>correlations=%{y}<extra></extra>",
         "legendgroup": "features_10:0",
         "marker": {
          "color": "#EF553B",
          "symbol": "circle"
         },
         "mode": "markers",
         "name": "features_10:0",
         "showlegend": true,
         "type": "scattergl",
         "x": [
          0.4071646605472809,
          0.30600536889504676,
          0.24225515240734327,
          0.19859499480429513,
          0.16507728611014894,
          0.1379189037062695,
          0.11524181676480776,
          0.09601229650155871,
          0.07960794076896432,
          0.06548211811569103,
          0.05323432629026671,
          0.042588543470730864,
          0.033366167301697267,
          0.025415656390717006,
          0.018650415656390716,
          0.012973025632144095,
          0.008318540006927607,
          0.004643661240041566,
          0.001959213716660894,
          0.00040050225147211636,
          0.5,
          0.2,
          0.1,
          0.05,
          0.01,
          0.005,
          0.001
         ],
         "xaxis": "x",
         "y": [
          0.9986891801694016,
          0.978790607187376,
          0.9217297143374965,
          0.8458848949804955,
          0.7470788150283078,
          0.7075002120042406,
          0.5959157496947601,
          0.5365853705465861,
          0.5042428633684601,
          0.4756615633165547,
          0.45143467575134744,
          0.3629219994858988,
          0.35205133770964625,
          0.3659124802107342,
          0.5442355301549009,
          0.5181029574899065,
          0.3703721158499429,
          0.3007603707964251,
          0.06443910630733912,
          -0.01617699944753139,
          0.9999809146087788,
          0.853871003118746,
          0.5591360337435621,
          0.4205765749236368,
          0.5525937616837506,
          0.24507216736596663,
          0.11213072214676255
         ],
         "yaxis": "y"
        },
        {
         "customdata": [
          [
           "features_10:7",
           "features_10",
           0.998921275138855,
           0.5
          ],
          [
           "features_10:7",
           "features_10",
           0.8421326279640198,
           0.2
          ],
          [
           "features_10:7",
           "features_10",
           0.6458014249801636,
           0.1
          ],
          [
           "features_10:7",
           "features_10",
           0.4687868654727936,
           0.05
          ],
          [
           "features_10:7",
           "features_10",
           0.2023487240076065,
           0.01
          ],
          [
           "features_10:7",
           "features_10",
           0.13992413878440857,
           0.005
          ],
          [
           "features_10:7",
           "features_10",
           0.0617242194712162,
           0.001
          ],
          [
           "features_10:7",
           "features_10",
           0.99,
           0.41675506581226185
          ],
          [
           "features_10:7",
           "features_10",
           0.95,
           0.314307672324212
          ],
          [
           "features_10:7",
           "features_10",
           0.9,
           0.24995670245930032
          ],
          [
           "features_10:7",
           "features_10",
           0.85,
           0.20587980602701766
          ],
          [
           "features_10:7",
           "features_10",
           0.8,
           0.17189664877034985
          ],
          [
           "features_10:7",
           "features_10",
           0.75,
           0.14424034464842397
          ],
          [
           "features_10:7",
           "features_10",
           0.7,
           0.12116275545549013
          ],
          [
           "features_10:7",
           "features_10",
           0.65,
           0.10151649636300658
          ],
          [
           "features_10:7",
           "features_10",
           0.6,
           0.08461421891236577
          ],
          [
           "features_10:7",
           "features_10",
           0.55,
           0.06989305507447177
          ],
          [
           "features_10:7",
           "features_10",
           0.5,
           0.057114868375476274
          ],
          [
           "features_10:7",
           "features_10",
           0.45,
           0.046009049186006234
          ],
          [
           "features_10:7",
           "features_10",
           0.4,
           0.036353697609975755
          ],
          [
           "features_10:7",
           "features_10",
           0.35,
           0.028018921025285765
          ],
          [
           "features_10:7",
           "features_10",
           0.3,
           0.020891063387599586
          ],
          [
           "features_10:7",
           "features_10",
           0.25,
           0.014834819882230689
          ],
          [
           "features_10:7",
           "features_10",
           0.2,
           0.009785244198129546
          ],
          [
           "features_10:7",
           "features_10",
           0.15,
           0.005699038794596467
          ],
          [
           "features_10:7",
           "features_10",
           0.1,
           0.0026303255975060618
          ],
          [
           "features_10:7",
           "features_10",
           0.05,
           0.0006494631104953239
          ]
         ],
         "hovertemplate": "feature_name=features_10:7<br>keep_ratios=%{x}<br>correlations=%{y}<extra></extra>",
         "legendgroup": "features_10:7",
         "marker": {
          "color": "#00cc96",
          "symbol": "circle"
         },
         "mode": "markers",
         "name": "features_10:7",
         "showlegend": true,
         "type": "scattergl",
         "x": [
          0.5,
          0.2,
          0.1,
          0.05,
          0.01,
          0.005,
          0.001,
          0.41675506581226185,
          0.314307672324212,
          0.24995670245930032,
          0.20587980602701766,
          0.17189664877034985,
          0.14424034464842397,
          0.12116275545549013,
          0.10151649636300658,
          0.08461421891236577,
          0.06989305507447177,
          0.057114868375476274,
          0.046009049186006234,
          0.036353697609975755,
          0.028018921025285765,
          0.020891063387599586,
          0.014834819882230689,
          0.009785244198129546,
          0.005699038794596467,
          0.0026303255975060618,
          0.0006494631104953239
         ],
         "xaxis": "x",
         "y": [
          0.9999824958436154,
          0.8856387398153167,
          0.5757590963431753,
          0.3667922143786054,
          0.23602494541787844,
          0.21744740118235478,
          -0.20704097433182955,
          0.9982232726260287,
          0.9810893555288527,
          0.9384114684599874,
          0.8994492184964364,
          0.8024129329403628,
          0.7403909432952852,
          0.6550279980997582,
          0.5714994721031046,
          0.440319476200391,
          0.4527780390118369,
          0.37414222519658813,
          0.3365888687980083,
          0.31096240431632294,
          0.3119398224312562,
          0.27565523391671415,
          0.27778512636965613,
          0.22846025434046716,
          0.23595025714308251,
          -0.17833539323424188,
          -0.1389086892416566
         ],
         "yaxis": "y"
        },
        {
         "customdata": [
          [
           "features_10:11",
           "features_10",
           0.9992417097091675,
           0.5
          ],
          [
           "features_10:11",
           "features_10",
           0.8567380905151367,
           0.2
          ],
          [
           "features_10:11",
           "features_10",
           0.6660192608833313,
           0.1
          ],
          [
           "features_10:11",
           "features_10",
           0.48953646421432495,
           0.05
          ],
          [
           "features_10:11",
           "features_10",
           0.2174687683582306,
           0.01
          ],
          [
           "features_10:11",
           "features_10",
           0.1519172638654709,
           0.005
          ],
          [
           "features_10:11",
           "features_10",
           0.06635038554668427,
           0.001
          ],
          [
           "features_10:11",
           "features_10",
           0.99,
           0.3974876602009006
          ],
          [
           "features_10:11",
           "features_10",
           0.95,
           0.2999707741600277
          ],
          [
           "features_10:11",
           "features_10",
           0.9,
           0.23775220817457568
          ],
          [
           "features_10:11",
           "features_10",
           0.85,
           0.19491470384482162
          ],
          [
           "features_10:11",
           "features_10",
           0.8,
           0.16196527537235886
          ],
          [
           "features_10:11",
           "features_10",
           0.75,
           0.13531022687911326
          ],
          [
           "features_10:11",
           "features_10",
           0.7,
           0.11310400069276065
          ],
          [
           "features_10:11",
           "features_10",
           0.65,
           0.09430204364392103
          ],
          [
           "features_10:11",
           "features_10",
           0.6,
           0.078195358503637
          ],
          [
           "features_10:11",
           "features_10",
           0.55,
           0.06431308451679944
          ],
          [
           "features_10:11",
           "features_10",
           0.5,
           0.05230342916522342
          ],
          [
           "features_10:11",
           "features_10",
           0.45,
           0.04191201939729823
          ],
          [
           "features_10:11",
           "features_10",
           0.4,
           0.032933191894700384
          ],
          [
           "features_10:11",
           "features_10",
           0.35,
           0.025199168687218564
          ],
          [
           "features_10:11",
           "features_10",
           0.3,
           0.018596293730516106
          ],
          [
           "features_10:11",
           "features_10",
           0.25,
           0.01305962071354347
          ],
          [
           "features_10:11",
           "features_10",
           0.2,
           0.008513378940076203
          ],
          [
           "features_10:11",
           "features_10",
           0.15,
           0.00487638552130239
          ],
          [
           "features_10:11",
           "features_10",
           0.1,
           0.0022081745756841013
          ],
          [
           "features_10:11",
           "features_10",
           0.05,
           0.0005791046068583304
          ]
         ],
         "hovertemplate": "feature_name=features_10:11<br>keep_ratios=%{x}<br>correlations=%{y}<extra></extra>",
         "legendgroup": "features_10:11",
         "marker": {
          "color": "#ab63fa",
          "symbol": "circle"
         },
         "mode": "markers",
         "name": "features_10:11",
         "showlegend": true,
         "type": "scattergl",
         "x": [
          0.5,
          0.2,
          0.1,
          0.05,
          0.01,
          0.005,
          0.001,
          0.3974876602009006,
          0.2999707741600277,
          0.23775220817457568,
          0.19491470384482162,
          0.16196527537235886,
          0.13531022687911326,
          0.11310400069276065,
          0.09430204364392103,
          0.078195358503637,
          0.06431308451679944,
          0.05230342916522342,
          0.04191201939729823,
          0.032933191894700384,
          0.025199168687218564,
          0.018596293730516106,
          0.01305962071354347,
          0.008513378940076203,
          0.00487638552130239,
          0.0022081745756841013,
          0.0005791046068583304
         ],
         "xaxis": "x",
         "y": [
          0.9999947694801746,
          0.8058469435318482,
          0.5560323857509997,
          0.399324283917284,
          0.16208242807813922,
          -0.16837439468694945,
          -0.10295844882330699,
          0.9983856498866538,
          0.9756151121614018,
          0.9050822968812663,
          0.7870285835475848,
          0.6492422128305879,
          0.59297567170184,
          0.5594340075961876,
          0.542416291090632,
          0.4841649741229617,
          0.416022986242452,
          0.39449143339839315,
          0.4017870903269915,
          0.3225051215771863,
          0.26930784507506744,
          0.2778268943091554,
          0.263192662632737,
          0.12915499476777825,
          -0.13235607684290362,
          -0.1009926391269093,
          -0.09412274184794958
         ],
         "yaxis": "y"
        },
        {
         "customdata": [
          [
           "features_6:8",
           "features_6",
           0.99,
           0.4918718434343434
          ],
          [
           "features_6:8",
           "features_6",
           0.95,
           0.3117897727272727
          ],
          [
           "features_6:8",
           "features_6",
           0.9,
           0.21338383838383837
          ],
          [
           "features_6:8",
           "features_6",
           0.85,
           0.15404040404040403
          ],
          [
           "features_6:8",
           "features_6",
           0.8,
           0.11324179292929293
          ],
          [
           "features_6:8",
           "features_6",
           0.75,
           0.08349116161616162
          ],
          [
           "features_6:8",
           "features_6",
           0.7,
           0.06092171717171717
          ],
          [
           "features_6:8",
           "features_6",
           0.65,
           0.0436395202020202
          ],
          [
           "features_6:8",
           "features_6",
           0.6,
           0.030618686868686868
          ],
          [
           "features_6:8",
           "features_6",
           0.55,
           0.021070075757575756
          ],
          [
           "features_6:8",
           "features_6",
           0.5,
           0.014204545454545454
          ],
          [
           "features_6:8",
           "features_6",
           0.45,
           0.009943181818181818
          ],
          [
           "features_6:8",
           "features_6",
           0.4,
           0.007102272727272727
          ],
          [
           "features_6:8",
           "features_6",
           0.35,
           0.005129419191919192
          ],
          [
           "features_6:8",
           "features_6",
           0.3,
           0.0038667929292929295
          ],
          [
           "features_6:8",
           "features_6",
           0.25,
           0.002840909090909091
          ],
          [
           "features_6:8",
           "features_6",
           0.2,
           0.0019728535353535355
          ],
          [
           "features_6:8",
           "features_6",
           0.15,
           0.001341540404040404
          ],
          [
           "features_6:8",
           "features_6",
           0.1,
           0.0007891414141414141
          ],
          [
           "features_6:8",
           "features_6",
           0.05,
           0.0003156565656565657
          ],
          [
           "features_6:8",
           "features_6",
           0.9909080862998962,
           0.5
          ],
          [
           "features_6:8",
           "features_6",
           0.8904428482055664,
           0.2
          ],
          [
           "features_6:8",
           "features_6",
           0.779449462890625,
           0.1
          ],
          [
           "features_6:8",
           "features_6",
           0.6700921654701233,
           0.05
          ],
          [
           "features_6:8",
           "features_6",
           0.4509516656398773,
           0.01
          ],
          [
           "features_6:8",
           "features_6",
           0.3449072539806366,
           0.005
          ],
          [
           "features_6:8",
           "features_6",
           0.12015530467033386,
           0.001
          ]
         ],
         "hovertemplate": "feature_name=features_6:8<br>keep_ratios=%{x}<br>correlations=%{y}<extra></extra>",
         "legendgroup": "features_6:8",
         "marker": {
          "color": "#FFA15A",
          "symbol": "circle"
         },
         "mode": "markers",
         "name": "features_6:8",
         "showlegend": true,
         "type": "scattergl",
         "x": [
          0.4918718434343434,
          0.3117897727272727,
          0.21338383838383837,
          0.15404040404040403,
          0.11324179292929293,
          0.08349116161616162,
          0.06092171717171717,
          0.0436395202020202,
          0.030618686868686868,
          0.021070075757575756,
          0.014204545454545454,
          0.009943181818181818,
          0.007102272727272727,
          0.005129419191919192,
          0.0038667929292929295,
          0.002840909090909091,
          0.0019728535353535355,
          0.001341540404040404,
          0.0007891414141414141,
          0.0003156565656565657,
          0.5,
          0.2,
          0.1,
          0.05,
          0.01,
          0.005,
          0.001
         ],
         "xaxis": "x",
         "y": [
          0.9986771306109694,
          0.9804582500117579,
          0.9570041581324958,
          0.910463488020598,
          0.8548217571479916,
          0.8124706926579544,
          0.7140506757737766,
          0.661695648966174,
          0.62038694827731,
          0.5272440002068505,
          0.0938997848874765,
          -0.054959780818052056,
          0.003294456795037093,
          0.09218841715393697,
          0.11347893971629297,
          0.2093066821406447,
          0.18156478013243832,
          0.1804614703053782,
          0.003342469138161507,
          0.017477371687845612,
          0.9989730727130993,
          0.95260106977615,
          0.8397429779127012,
          0.7095392123108482,
          -0.054959780818052056,
          0.09181368210419365,
          0.003342469138161507
         ],
         "yaxis": "y"
        },
        {
         "customdata": [
          [
           "features_10:17",
           "features_10",
           0.99,
           0.4064340145479737
          ],
          [
           "features_10:17",
           "features_10",
           0.95,
           0.30715816591617595
          ],
          [
           "features_10:17",
           "features_10",
           0.9,
           0.24470146345687566
          ],
          [
           "features_10:17",
           "features_10",
           0.85,
           0.2015717007273987
          ],
          [
           "features_10:17",
           "features_10",
           0.8,
           0.16823800658122617
          ],
          [
           "features_10:17",
           "features_10",
           0.75,
           0.1411932802216834
          ],
          [
           "features_10:17",
           "features_10",
           0.7,
           0.11860820055420852
          ],
          [
           "features_10:17",
           "features_10",
           0.65,
           0.09942739002424662
          ],
          [
           "features_10:17",
           "features_10",
           0.6,
           0.08292020263249048
          ],
          [
           "features_10:17",
           "features_10",
           0.55,
           0.06865907516453065
          ],
          [
           "features_10:17",
           "features_10",
           0.5,
           0.056232680983720126
          ],
          [
           "features_10:17",
           "features_10",
           0.45,
           0.045381234845860756
          ],
          [
           "features_10:17",
           "features_10",
           0.4,
           0.035936958780741254
          ],
          [
           "features_10:17",
           "features_10",
           0.35,
           0.027705013855213022
          ],
          [
           "features_10:17",
           "features_10",
           0.3,
           0.020587980602701766
          ],
          [
           "features_10:17",
           "features_10",
           0.25,
           0.014542561482507793
          ],
          [
           "features_10:17",
           "features_10",
           0.2,
           0.009525458953931417
          ],
          [
           "features_10:17",
           "features_10",
           0.15,
           0.005444665742985798
          ],
          [
           "features_10:17",
           "features_10",
           0.1,
           0.002392189123657776
          ],
          [
           "features_10:17",
           "features_10",
           0.05,
           0.0005412192587461032
          ],
          [
           "features_10:17",
           "features_10",
           0.9991077780723572,
           0.5
          ],
          [
           "features_10:17",
           "features_10",
           0.8478848934173584,
           0.2
          ],
          [
           "features_10:17",
           "features_10",
           0.651604950428009,
           0.1
          ],
          [
           "features_10:17",
           "features_10",
           0.4721340835094452,
           0.05
          ],
          [
           "features_10:17",
           "features_10",
           0.20517498254776,
           0.01
          ],
          [
           "features_10:17",
           "features_10",
           0.1436258852481842,
           0.005
          ],
          [
           "features_10:17",
           "features_10",
           0.0663599967956543,
           0.001
          ]
         ],
         "hovertemplate": "feature_name=features_10:17<br>keep_ratios=%{x}<br>correlations=%{y}<extra></extra>",
         "legendgroup": "features_10:17",
         "marker": {
          "color": "#19d3f3",
          "symbol": "circle"
         },
         "mode": "markers",
         "name": "features_10:17",
         "showlegend": true,
         "type": "scattergl",
         "x": [
          0.4064340145479737,
          0.30715816591617595,
          0.24470146345687566,
          0.2015717007273987,
          0.16823800658122617,
          0.1411932802216834,
          0.11860820055420852,
          0.09942739002424662,
          0.08292020263249048,
          0.06865907516453065,
          0.056232680983720126,
          0.045381234845860756,
          0.035936958780741254,
          0.027705013855213022,
          0.020587980602701766,
          0.014542561482507793,
          0.009525458953931417,
          0.005444665742985798,
          0.002392189123657776,
          0.0005412192587461032,
          0.5,
          0.2,
          0.1,
          0.05,
          0.01,
          0.005,
          0.001
         ],
         "xaxis": "x",
         "y": [
          0.9986120734909191,
          0.9806798172665352,
          0.9405665333960321,
          0.8569163543112819,
          0.8122492606508813,
          0.7446757602331207,
          0.6224511828379629,
          0.5689441886290845,
          0.5480605152615445,
          0.4255614182239882,
          0.4557587949530822,
          0.4189596059583432,
          0.40415417322038394,
          0.26335173796244205,
          0.29765193041625737,
          0.2835002405141631,
          0.20665701115785104,
          -0.027423473667575117,
          -0.01887428562738045,
          -0.08156413731779921,
          0.9999847355100994,
          0.8589795147498399,
          0.5712046426226782,
          0.46022374637063085,
          0.30177239259131117,
          -0.022785469078192625,
          -0.08171681474393601
         ],
         "yaxis": "y"
        },
        {
         "customdata": [
          [
           "features_10:19",
           "features_10",
           0.9990484714508057,
           0.5
          ],
          [
           "features_10:19",
           "features_10",
           0.8441529870033264,
           0.2
          ],
          [
           "features_10:19",
           "features_10",
           0.6487330794334412,
           0.1
          ],
          [
           "features_10:19",
           "features_10",
           0.47154703736305237,
           0.05
          ],
          [
           "features_10:19",
           "features_10",
           0.2051149308681488,
           0.01
          ],
          [
           "features_10:19",
           "features_10",
           0.1420232653617859,
           0.005
          ],
          [
           "features_10:19",
           "features_10",
           0.06312666833400726,
           0.001
          ],
          [
           "features_10:19",
           "features_10",
           0.99,
           0.41140781953585037
          ],
          [
           "features_10:19",
           "features_10",
           0.95,
           0.31165028576376863
          ],
          [
           "features_10:19",
           "features_10",
           0.9,
           0.24806243505368894
          ],
          [
           "features_10:19",
           "features_10",
           0.85,
           0.2043752164877035
          ],
          [
           "features_10:19",
           "features_10",
           0.8,
           0.1705706615864219
          ],
          [
           "features_10:19",
           "features_10",
           0.75,
           0.14301718912365777
          ],
          [
           "features_10:19",
           "features_10",
           0.7,
           0.12000995843436092
          ],
          [
           "features_10:19",
           "features_10",
           0.65,
           0.10045570661586421
          ],
          [
           "features_10:19",
           "features_10",
           0.6,
           0.08361296328368549
          ],
          [
           "features_10:19",
           "features_10",
           0.55,
           0.06908663837894008
          ],
          [
           "features_10:19",
           "features_10",
           0.5,
           0.05646540526498095
          ],
          [
           "features_10:19",
           "features_10",
           0.45,
           0.045435356771735366
          ],
          [
           "features_10:19",
           "features_10",
           0.4,
           0.03586660027710426
          ],
          [
           "features_10:19",
           "features_10",
           0.35,
           0.027591357810876342
          ],
          [
           "features_10:19",
           "features_10",
           0.3,
           0.020512209906477313
          ],
          [
           "features_10:19",
           "features_10",
           0.25,
           0.014510088326983027
          ],
          [
           "features_10:19",
           "features_10",
           0.2,
           0.009536283339106338
          ],
          [
           "features_10:19",
           "features_10",
           0.15,
           0.005542085209560097
          ],
          [
           "features_10:19",
           "features_10",
           0.1,
           0.0025437305161066853
          ],
          [
           "features_10:19",
           "features_10",
           0.05,
           0.0006115777623830966
          ]
         ],
         "hovertemplate": "feature_name=features_10:19<br>keep_ratios=%{x}<br>correlations=%{y}<extra></extra>",
         "legendgroup": "features_10:19",
         "marker": {
          "color": "#FF6692",
          "symbol": "circle"
         },
         "mode": "markers",
         "name": "features_10:19",
         "showlegend": true,
         "type": "scattergl",
         "x": [
          0.5,
          0.2,
          0.1,
          0.05,
          0.01,
          0.005,
          0.001,
          0.41140781953585037,
          0.31165028576376863,
          0.24806243505368894,
          0.2043752164877035,
          0.1705706615864219,
          0.14301718912365777,
          0.12000995843436092,
          0.10045570661586421,
          0.08361296328368549,
          0.06908663837894008,
          0.05646540526498095,
          0.045435356771735366,
          0.03586660027710426,
          0.027591357810876342,
          0.020512209906477313,
          0.014510088326983027,
          0.009536283339106338,
          0.005542085209560097,
          0.0025437305161066853,
          0.0006115777623830966
         ],
         "xaxis": "x",
         "y": [
          0.999984218341754,
          0.7417343066883244,
          0.3917588837375119,
          0.2621411006138734,
          0.07168446050602399,
          0.00394042137259863,
          -0.027565459496008235,
          0.9975478614880694,
          0.9734109043315416,
          0.8849395951176078,
          0.7595279773121046,
          0.6056186165726327,
          0.5212238723505123,
          0.3739646345865797,
          0.3875777571238076,
          0.3572212292095168,
          0.27007914774952857,
          0.2726131752866734,
          0.2526140338725984,
          0.1897743983140605,
          0.20099061377588723,
          0.1727191747247447,
          0.16461946443442788,
          0.11050346991057466,
          -0.07173689000383111,
          -0.13250574555775924,
          -0.02863866739519281
         ],
         "yaxis": "y"
        },
        {
         "customdata": [
          [
           "features_10:8",
           "features_10",
           0.99,
           0.37296501558711465
          ],
          [
           "features_10:8",
           "features_10",
           0.95,
           0.28163426567370975
          ],
          [
           "features_10:8",
           "features_10",
           0.9,
           0.22292821267751992
          ],
          [
           "features_10:8",
           "features_10",
           0.85,
           0.18267232421198476
          ],
          [
           "features_10:8",
           "features_10",
           0.8,
           0.15180658988569448
          ],
          [
           "features_10:8",
           "features_10",
           0.75,
           0.1267806113612747
          ],
          [
           "features_10:8",
           "features_10",
           0.7,
           0.10592743332178732
          ],
          [
           "features_10:8",
           "features_10",
           0.65,
           0.08826744890890198
          ],
          [
           "features_10:8",
           "features_10",
           0.6,
           0.07311330966401108
          ],
          [
           "features_10:8",
           "features_10",
           0.55,
           0.06003745237270523
          ],
          [
           "features_10:8",
           "features_10",
           0.5,
           0.04871514547973675
          ],
          [
           "features_10:8",
           "features_10",
           0.45,
           0.03889742812608244
          ],
          [
           "features_10:8",
           "features_10",
           0.4,
           0.030394873571181157
          ],
          [
           "features_10:8",
           "features_10",
           0.35,
           0.0230830013855213
          ],
          [
           "features_10:8",
           "features_10",
           0.3,
           0.016869804295116038
          ],
          [
           "features_10:8",
           "features_10",
           0.25,
           0.011674099411153447
          ],
          [
           "features_10:8",
           "features_10",
           0.2,
           0.007430940422583997
          ],
          [
           "features_10:8",
           "features_10",
           0.15,
           0.004113266366470384
          ],
          [
           "features_10:8",
           "features_10",
           0.1,
           0.0017048406650502252
          ],
          [
           "features_10:8",
           "features_10",
           0.05,
           0.000335555940422584
          ],
          [
           "features_10:8",
           "features_10",
           0.9994523525238037,
           0.5
          ],
          [
           "features_10:8",
           "features_10",
           0.8733634352684021,
           0.2
          ],
          [
           "features_10:8",
           "features_10",
           0.6840988993644714,
           0.1
          ],
          [
           "features_10:8",
           "features_10",
           0.5060356855392456,
           0.05
          ],
          [
           "features_10:8",
           "features_10",
           0.23151737451553345,
           0.01
          ],
          [
           "features_10:8",
           "features_10",
           0.16486842930316925,
           0.005
          ],
          [
           "features_10:8",
           "features_10",
           0.07931969314813614,
           0.001
          ]
         ],
         "hovertemplate": "feature_name=features_10:8<br>keep_ratios=%{x}<br>correlations=%{y}<extra></extra>",
         "legendgroup": "features_10:8",
         "marker": {
          "color": "#B6E880",
          "symbol": "circle"
         },
         "mode": "markers",
         "name": "features_10:8",
         "showlegend": true,
         "type": "scattergl",
         "x": [
          0.37296501558711465,
          0.28163426567370975,
          0.22292821267751992,
          0.18267232421198476,
          0.15180658988569448,
          0.1267806113612747,
          0.10592743332178732,
          0.08826744890890198,
          0.07311330966401108,
          0.06003745237270523,
          0.04871514547973675,
          0.03889742812608244,
          0.030394873571181157,
          0.0230830013855213,
          0.016869804295116038,
          0.011674099411153447,
          0.007430940422583997,
          0.004113266366470384,
          0.0017048406650502252,
          0.000335555940422584,
          0.5,
          0.2,
          0.1,
          0.05,
          0.01,
          0.005,
          0.001
         ],
         "xaxis": "x",
         "y": [
          0.9989742367903023,
          0.9869358678302589,
          0.9539132168755666,
          0.9087269345786921,
          0.8832565305633732,
          0.8429740943125446,
          0.756818457641826,
          0.6020804967251127,
          0.43853183777483523,
          0.40342850659746754,
          0.4565816271443871,
          0.1600890352705478,
          0.14613052671663626,
          0.13326811956734713,
          0.13441728812284526,
          0.26274156320594483,
          -0.05623747208877518,
          -0.003258229392530965,
          -0.2475196557335654,
          -0.2099156092525725,
          0.9999985745803917,
          0.9380520329250899,
          0.7403278933643398,
          0.45911910035566306,
          0.24122048450107872,
          -0.035972759662469586,
          -0.2079893213373009
         ],
         "yaxis": "y"
        },
        {
         "customdata": [
          [
           "features_3:12",
           "features_3",
           0.9581648707389832,
           0.5
          ],
          [
           "features_3:12",
           "features_3",
           0.7957046031951904,
           0.2
          ],
          [
           "features_3:12",
           "features_3",
           0.6091977953910828,
           0.1
          ],
          [
           "features_3:12",
           "features_3",
           0.40759313106536865,
           0.05
          ],
          [
           "features_3:12",
           "features_3",
           0.11277668178081512,
           0.01
          ],
          [
           "features_3:12",
           "features_3",
           0.07822131365537643,
           0.005
          ],
          [
           "features_3:12",
           "features_3",
           0.039738863706588745,
           0.001
          ],
          [
           "features_3:12",
           "features_3",
           0.99,
           0.69140625
          ],
          [
           "features_3:12",
           "features_3",
           0.95,
           0.46875
          ],
          [
           "features_3:12",
           "features_3",
           0.9,
           0.34375
          ],
          [
           "features_3:12",
           "features_3",
           0.85,
           0.265625
          ],
          [
           "features_3:12",
           "features_3",
           0.8,
           0.20703125
          ],
          [
           "features_3:12",
           "features_3",
           0.75,
           0.16015625
          ],
          [
           "features_3:12",
           "features_3",
           0.7,
           0.1328125
          ],
          [
           "features_3:12",
           "features_3",
           0.65,
           0.11328125
          ],
          [
           "features_3:12",
           "features_3",
           0.6,
           0.09765625
          ],
          [
           "features_3:12",
           "features_3",
           0.55,
           0.08203125
          ],
          [
           "features_3:12",
           "features_3",
           0.5,
           0.0703125
          ],
          [
           "features_3:12",
           "features_3",
           0.45,
           0.0546875
          ],
          [
           "features_3:12",
           "features_3",
           0.4,
           0.046875
          ],
          [
           "features_3:12",
           "features_3",
           0.35,
           0.0390625
          ],
          [
           "features_3:12",
           "features_3",
           0.3,
           0.03125
          ],
          [
           "features_3:12",
           "features_3",
           0.25,
           0.02734375
          ],
          [
           "features_3:12",
           "features_3",
           0.2,
           0.01953125
          ],
          [
           "features_3:12",
           "features_3",
           0.15,
           0.015625
          ],
          [
           "features_3:12",
           "features_3",
           0.1,
           0.0078125
          ],
          [
           "features_3:12",
           "features_3",
           0.05,
           0.00390625
          ]
         ],
         "hovertemplate": "feature_name=features_3:12<br>keep_ratios=%{x}<br>correlations=%{y}<extra></extra>",
         "legendgroup": "features_3:12",
         "marker": {
          "color": "#FF97FF",
          "symbol": "circle"
         },
         "mode": "markers",
         "name": "features_3:12",
         "showlegend": true,
         "type": "scattergl",
         "x": [
          0.5,
          0.2,
          0.1,
          0.05,
          0.01,
          0.005,
          0.001,
          0.69140625,
          0.46875,
          0.34375,
          0.265625,
          0.20703125,
          0.16015625,
          0.1328125,
          0.11328125,
          0.09765625,
          0.08203125,
          0.0703125,
          0.0546875,
          0.046875,
          0.0390625,
          0.03125,
          0.02734375,
          0.01953125,
          0.015625,
          0.0078125,
          0.00390625
         ],
         "xaxis": "x",
         "y": [
          0.9605843748389755,
          0.48416042204956855,
          -0.07254090100079008,
          0,
          0,
          0,
          0,
          0.9928125887450626,
          0.953528811867087,
          0.8880132008322301,
          0.8401948107389371,
          0.5096370888493567,
          0.2503617449772263,
          -0.04230985695398383,
          -0.04360578155043539,
          -0.07254090100079008,
          -0.07254090100079008,
          -0.05347876151946727,
          0,
          0,
          0,
          0,
          0,
          0,
          0,
          0,
          0
         ],
         "yaxis": "y"
        },
        {
         "customdata": [
          [
           "features_3:3",
           "features_3",
           0.99,
           0.734375
          ],
          [
           "features_3:3",
           "features_3",
           0.95,
           0.47265625
          ],
          [
           "features_3:3",
           "features_3",
           0.9,
           0.3515625
          ],
          [
           "features_3:3",
           "features_3",
           0.85,
           0.28515625
          ],
          [
           "features_3:3",
           "features_3",
           0.8,
           0.2421875
          ],
          [
           "features_3:3",
           "features_3",
           0.75,
           0.203125
          ],
          [
           "features_3:3",
           "features_3",
           0.7,
           0.171875
          ],
          [
           "features_3:3",
           "features_3",
           0.65,
           0.1484375
          ],
          [
           "features_3:3",
           "features_3",
           0.6,
           0.125
          ],
          [
           "features_3:3",
           "features_3",
           0.55,
           0.10546875
          ],
          [
           "features_3:3",
           "features_3",
           0.5,
           0.08984375
          ],
          [
           "features_3:3",
           "features_3",
           0.45,
           0.07421875
          ],
          [
           "features_3:3",
           "features_3",
           0.4,
           0.0625
          ],
          [
           "features_3:3",
           "features_3",
           0.35,
           0.05078125
          ],
          [
           "features_3:3",
           "features_3",
           0.3,
           0.0390625
          ],
          [
           "features_3:3",
           "features_3",
           0.25,
           0.02734375
          ],
          [
           "features_3:3",
           "features_3",
           0.2,
           0.01953125
          ],
          [
           "features_3:3",
           "features_3",
           0.15,
           0.015625
          ],
          [
           "features_3:3",
           "features_3",
           0.1,
           0.0078125
          ],
          [
           "features_3:3",
           "features_3",
           0.05,
           0.00390625
          ],
          [
           "features_3:3",
           "features_3",
           0.956106960773468,
           0.5
          ],
          [
           "features_3:3",
           "features_3",
           0.7457484602928162,
           0.2
          ],
          [
           "features_3:3",
           "features_3",
           0.5331720113754272,
           0.1
          ],
          [
           "features_3:3",
           "features_3",
           0.3453912138938904,
           0.05
          ],
          [
           "features_3:3",
           "features_3",
           0.11735360324382782,
           0.01
          ],
          [
           "features_3:3",
           "features_3",
           0.08336444199085236,
           0.005
          ],
          [
           "features_3:3",
           "features_3",
           0.04616076126694679,
           0.001
          ]
         ],
         "hovertemplate": "feature_name=features_3:3<br>keep_ratios=%{x}<br>correlations=%{y}<extra></extra>",
         "legendgroup": "features_3:3",
         "marker": {
          "color": "#FECB52",
          "symbol": "circle"
         },
         "mode": "markers",
         "name": "features_3:3",
         "showlegend": true,
         "type": "scattergl",
         "x": [
          0.734375,
          0.47265625,
          0.3515625,
          0.28515625,
          0.2421875,
          0.203125,
          0.171875,
          0.1484375,
          0.125,
          0.10546875,
          0.08984375,
          0.07421875,
          0.0625,
          0.05078125,
          0.0390625,
          0.02734375,
          0.01953125,
          0.015625,
          0.0078125,
          0.00390625,
          0.5,
          0.2,
          0.1,
          0.05,
          0.01,
          0.005,
          0.001
         ],
         "xaxis": "x",
         "y": [
          0.9927907627357666,
          0.9352677012980104,
          0.7896424860392044,
          0.6938428782151156,
          0.6383588386569761,
          0.7334601182455064,
          0.5162133855309685,
          0.23441646274524283,
          0.25066492823273484,
          0.06511005265247224,
          0.26734701897940794,
          0.26746800887222333,
          -0.07020890386556543,
          -0.1350070663372236,
          0.1581169425951502,
          0.019061875291608566,
          0.019061875291608566,
          0.01906175959205792,
          0.02189648979094797,
          0.12743927633484423,
          0.9440681502924113,
          0.6345294015001206,
          0.1034989847456367,
          -0.1350070663372236,
          0.02189648979094797,
          0.12743927633484423,
          0.12743927633484423
         ],
         "yaxis": "y"
        },
        {
         "customdata": [
          [
           "features_10:14",
           "features_10",
           0.9984707832336426,
           0.5
          ],
          [
           "features_10:14",
           "features_10",
           0.8353815674781799,
           0.2
          ],
          [
           "features_10:14",
           "features_10",
           0.6395540237426758,
           0.1
          ],
          [
           "features_10:14",
           "features_10",
           0.4641360938549042,
           0.05
          ],
          [
           "features_10:14",
           "features_10",
           0.2028903067111969,
           0.01
          ],
          [
           "features_10:14",
           "features_10",
           0.1411551982164383,
           0.005
          ],
          [
           "features_10:14",
           "features_10",
           0.06411559134721756,
           0.001
          ],
          [
           "features_10:14",
           "features_10",
           0.99,
           0.42715729996536195
          ],
          [
           "features_10:14",
           "features_10",
           0.95,
           0.3226532732940769
          ],
          [
           "features_10:14",
           "features_10",
           0.9,
           0.25653251645306546
          ],
          [
           "features_10:14",
           "features_10",
           0.85,
           0.2110538621406304
          ],
          [
           "features_10:14",
           "features_10",
           0.8,
           0.17608568583304468
          ],
          [
           "features_10:14",
           "features_10",
           0.75,
           0.1476933235192241
          ],
          [
           "features_10:14",
           "features_10",
           0.7,
           0.1239987443713197
          ],
          [
           "features_10:14",
           "features_10",
           0.65,
           0.1038329147904399
          ],
          [
           "features_10:14",
           "features_10",
           0.6,
           0.08649224974021476
          ],
          [
           "features_10:14",
           "features_10",
           0.55,
           0.07143552996189817
          ],
          [
           "features_10:14",
           "features_10",
           0.5,
           0.05833802390024247
          ],
          [
           "features_10:14",
           "features_10",
           0.45,
           0.04693453411846207
          ],
          [
           "features_10:14",
           "features_10",
           0.4,
           0.03703022168340838
          ],
          [
           "features_10:14",
           "features_10",
           0.35,
           0.028462720817457567
          ],
          [
           "features_10:14",
           "features_10",
           0.3,
           0.021118375476272946
          ],
          [
           "features_10:14",
           "features_10",
           0.25,
           0.014872705230342917
          ],
          [
           "features_10:14",
           "features_10",
           0.2,
           0.009731122272254936
          ],
          [
           "features_10:14",
           "features_10",
           0.15,
           0.005623268098372013
          ],
          [
           "features_10:14",
           "features_10",
           0.1,
           0.002522081745756841
          ],
          [
           "features_10:14",
           "features_10",
           0.05,
           0.0005899289920332525
          ]
         ],
         "hovertemplate": "feature_name=features_10:14<br>keep_ratios=%{x}<br>correlations=%{y}<extra></extra>",
         "legendgroup": "features_10:14",
         "marker": {
          "color": "#636efa",
          "symbol": "circle"
         },
         "mode": "markers",
         "name": "features_10:14",
         "showlegend": true,
         "type": "scattergl",
         "x": [
          0.5,
          0.2,
          0.1,
          0.05,
          0.01,
          0.005,
          0.001,
          0.42715729996536195,
          0.3226532732940769,
          0.25653251645306546,
          0.2110538621406304,
          0.17608568583304468,
          0.1476933235192241,
          0.1239987443713197,
          0.1038329147904399,
          0.08649224974021476,
          0.07143552996189817,
          0.05833802390024247,
          0.04693453411846207,
          0.03703022168340838,
          0.028462720817457567,
          0.021118375476272946,
          0.014872705230342917,
          0.009731122272254936,
          0.005623268098372013,
          0.002522081745756841,
          0.0005899289920332525
         ],
         "xaxis": "x",
         "y": [
          0.999960244553922,
          0.8509333307047331,
          0.6431941013943573,
          0.43440364583825547,
          0.12367823480843287,
          0.09825776946890787,
          -0.15220723853614926,
          0.9982844974928182,
          0.9771823376423533,
          0.9227602049138599,
          0.8553776081298264,
          0.7936775469799695,
          0.7313495527518489,
          0.6644564410111984,
          0.636402960122467,
          0.606016688714262,
          0.538858079830602,
          0.45234870286343776,
          0.43148692213308,
          0.4149720019153118,
          0.3843149557659007,
          0.26292267072025266,
          0.3084996497827311,
          0.14572751549134297,
          0.2575737718728523,
          -0.12430330443686094,
          -0.15063780715354608
         ],
         "yaxis": "y"
        },
        {
         "customdata": [
          [
           "features_8:6",
           "features_8",
           0.99,
           0.37221683296378416
          ],
          [
           "features_8:6",
           "features_8",
           0.95,
           0.2661677753141168
          ],
          [
           "features_8:6",
           "features_8",
           0.9,
           0.20302106430155212
          ],
          [
           "features_8:6",
           "features_8",
           0.85,
           0.16114652623798964
          ],
          [
           "features_8:6",
           "features_8",
           0.8,
           0.12995426829268292
          ],
          [
           "features_8:6",
           "features_8",
           0.75,
           0.105460088691796
          ],
          [
           "features_8:6",
           "features_8",
           0.7,
           0.08560837028824833
          ],
          [
           "features_8:6",
           "features_8",
           0.65,
           0.06917498152254249
          ],
          [
           "features_8:6",
           "features_8",
           0.6,
           0.05543237250554324
          ],
          [
           "features_8:6",
           "features_8",
           0.55,
           0.043941703621581674
          ],
          [
           "features_8:6",
           "features_8",
           0.5,
           0.03433342572062084
          ],
          [
           "features_8:6",
           "features_8",
           0.45,
           0.026330376940133036
          ],
          [
           "features_8:6",
           "features_8",
           0.4,
           0.019666943828529196
          ],
          [
           "features_8:6",
           "features_8",
           0.35,
           0.01416990022172949
          ],
          [
           "features_8:6",
           "features_8",
           0.3,
           0.009793052475979305
          ],
          [
           "features_8:6",
           "features_8",
           0.25,
           0.006409368070953437
          ],
          [
           "features_8:6",
           "features_8",
           0.2,
           0.003914911308203991
          ],
          [
           "features_8:6",
           "features_8",
           0.15,
           0.00217110125646711
          ],
          [
           "features_8:6",
           "features_8",
           0.1,
           0.0009931633407243164
          ],
          [
           "features_8:6",
           "features_8",
           0.05,
           0.0002771618625277162
          ],
          [
           "features_8:6",
           "features_8",
           0.9992406368255615,
           0.5
          ],
          [
           "features_8:6",
           "features_8",
           0.8969150185585022,
           0.2
          ],
          [
           "features_8:6",
           "features_8",
           0.7372037172317505,
           0.1
          ],
          [
           "features_8:6",
           "features_8",
           0.5774742364883423,
           0.05
          ],
          [
           "features_8:6",
           "features_8",
           0.30263563990592957,
           0.01
          ],
          [
           "features_8:6",
           "features_8",
           0.22365926206111908,
           0.005
          ],
          [
           "features_8:6",
           "features_8",
           0.10016511380672455,
           0.001
          ]
         ],
         "hovertemplate": "feature_name=features_8:6<br>keep_ratios=%{x}<br>correlations=%{y}<extra></extra>",
         "legendgroup": "features_8:6",
         "marker": {
          "color": "#EF553B",
          "symbol": "circle"
         },
         "mode": "markers",
         "name": "features_8:6",
         "showlegend": true,
         "type": "scattergl",
         "x": [
          0.37221683296378416,
          0.2661677753141168,
          0.20302106430155212,
          0.16114652623798964,
          0.12995426829268292,
          0.105460088691796,
          0.08560837028824833,
          0.06917498152254249,
          0.05543237250554324,
          0.043941703621581674,
          0.03433342572062084,
          0.026330376940133036,
          0.019666943828529196,
          0.01416990022172949,
          0.009793052475979305,
          0.006409368070953437,
          0.003914911308203991,
          0.00217110125646711,
          0.0009931633407243164,
          0.0002771618625277162,
          0.5,
          0.2,
          0.1,
          0.05,
          0.01,
          0.005,
          0.001
         ],
         "xaxis": "x",
         "y": [
          0.9993606097227079,
          0.9880298315040168,
          0.968005260402956,
          0.9422432058758512,
          0.9185125311516672,
          0.8966796722609777,
          0.8691583501271831,
          0.8470192315888398,
          0.8207628044605202,
          0.812033146074084,
          0.7924242612076786,
          0.7505916576104583,
          0.7218083865826861,
          0.7190694536490836,
          0.6917910620806714,
          0.6832500117062984,
          0.6329076938742266,
          0.531705148780321,
          0.6263908431983582,
          0.6265156430874239,
          0.9999985250466664,
          0.9673692873623245,
          0.8936137911873026,
          0.8205444303342708,
          0.6922110005571889,
          0.6578653673883401,
          0.6263908431983582
         ],
         "yaxis": "y"
        },
        {
         "customdata": [
          [
           "features_6:5",
           "features_6",
           0.99,
           0.31778724747474746
          ],
          [
           "features_6:5",
           "features_6",
           0.95,
           0.19791666666666666
          ],
          [
           "features_6:5",
           "features_6",
           0.9,
           0.13675820707070707
          ],
          [
           "features_6:5",
           "features_6",
           0.85,
           0.1006155303030303
          ],
          [
           "features_6:5",
           "features_6",
           0.8,
           0.07575757575757576
          ],
          [
           "features_6:5",
           "features_6",
           0.75,
           0.057686237373737376
          ],
          [
           "features_6:5",
           "features_6",
           0.7,
           0.043876262626262624
          ],
          [
           "features_6:5",
           "features_6",
           0.65,
           0.03345959595959596
          ],
          [
           "features_6:5",
           "features_6",
           0.6,
           0.025015782828282828
          ],
          [
           "features_6:5",
           "features_6",
           0.55,
           0.018150252525252524
          ],
          [
           "features_6:5",
           "features_6",
           0.5,
           0.012941919191919192
          ],
          [
           "features_6:5",
           "features_6",
           0.45,
           0.00891729797979798
          ],
          [
           "features_6:5",
           "features_6",
           0.4,
           0.006076388888888889
          ],
          [
           "features_6:5",
           "features_6",
           0.35,
           0.004261363636363636
          ],
          [
           "features_6:5",
           "features_6",
           0.3,
           0.003077651515151515
          ],
          [
           "features_6:5",
           "features_6",
           0.25,
           0.002130681818181818
          ],
          [
           "features_6:5",
           "features_6",
           0.2,
           0.0014204545454545455
          ],
          [
           "features_6:5",
           "features_6",
           0.15,
           0.0008680555555555555
          ],
          [
           "features_6:5",
           "features_6",
           0.1,
           0.0004734848484848485
          ],
          [
           "features_6:5",
           "features_6",
           0.05,
           0.00015782828282828284
          ],
          [
           "features_6:5",
           "features_6",
           0.9996406435966492,
           0.5
          ],
          [
           "features_6:5",
           "features_6",
           0.9511981010437012,
           0.2
          ],
          [
           "features_6:5",
           "features_6",
           0.8489685654640198,
           0.1
          ],
          [
           "features_6:5",
           "features_6",
           0.7239543795585632,
           0.05
          ],
          [
           "features_6:5",
           "features_6",
           0.4647742211818695,
           0.01
          ],
          [
           "features_6:5",
           "features_6",
           0.3726471960544586,
           0.005
          ],
          [
           "features_6:5",
           "features_6",
           0.16103780269622803,
           0.001
          ]
         ],
         "hovertemplate": "feature_name=features_6:5<br>keep_ratios=%{x}<br>correlations=%{y}<extra></extra>",
         "legendgroup": "features_6:5",
         "marker": {
          "color": "#00cc96",
          "symbol": "circle"
         },
         "mode": "markers",
         "name": "features_6:5",
         "showlegend": true,
         "type": "scattergl",
         "x": [
          0.31778724747474746,
          0.19791666666666666,
          0.13675820707070707,
          0.1006155303030303,
          0.07575757575757576,
          0.057686237373737376,
          0.043876262626262624,
          0.03345959595959596,
          0.025015782828282828,
          0.018150252525252524,
          0.012941919191919192,
          0.00891729797979798,
          0.006076388888888889,
          0.004261363636363636,
          0.003077651515151515,
          0.002130681818181818,
          0.0014204545454545455,
          0.0008680555555555555,
          0.0004734848484848485,
          0.00015782828282828284,
          0.5,
          0.2,
          0.1,
          0.05,
          0.01,
          0.005,
          0.001
         ],
         "xaxis": "x",
         "y": [
          0.9987722599962513,
          0.9817066764571045,
          0.9672259217517143,
          0.936321404871691,
          0.8794644143006347,
          0.7975600802533787,
          0.7396325851151289,
          0.6002749342898813,
          0.4362246284207659,
          0.400550289378693,
          0.4195522044966077,
          0.3812484071290644,
          0.14257340585116846,
          0.12671186211789792,
          0.09616438393429344,
          0.1398625473499502,
          0.14449581623683455,
          0.14900847055703403,
          0.1352455813282464,
          0,
          0.9999996918782561,
          0.9818091081727552,
          0.9369667411081011,
          0.7498488636520776,
          0.3822298722152714,
          0.13334723961854017,
          0.14900847055703403
         ],
         "yaxis": "y"
        },
        {
         "customdata": [
          [
           "features_3:15",
           "features_3",
           0.9587714672088623,
           0.5
          ],
          [
           "features_3:15",
           "features_3",
           0.7722244262695312,
           0.2
          ],
          [
           "features_3:15",
           "features_3",
           0.5896565318107605,
           0.1
          ],
          [
           "features_3:15",
           "features_3",
           0.41273513436317444,
           0.05
          ],
          [
           "features_3:15",
           "features_3",
           0.1386171132326126,
           0.01
          ],
          [
           "features_3:15",
           "features_3",
           0.0969511866569519,
           0.005
          ],
          [
           "features_3:15",
           "features_3",
           0.05268062278628349,
           0.001
          ],
          [
           "features_3:15",
           "features_3",
           0.99,
           0.71484375
          ],
          [
           "features_3:15",
           "features_3",
           0.95,
           0.46484375
          ],
          [
           "features_3:15",
           "features_3",
           0.9,
           0.34765625
          ],
          [
           "features_3:15",
           "features_3",
           0.85,
           0.27734375
          ],
          [
           "features_3:15",
           "features_3",
           0.8,
           0.22265625
          ],
          [
           "features_3:15",
           "features_3",
           0.75,
           0.18359375
          ],
          [
           "features_3:15",
           "features_3",
           0.7,
           0.15234375
          ],
          [
           "features_3:15",
           "features_3",
           0.65,
           0.125
          ],
          [
           "features_3:15",
           "features_3",
           0.6,
           0.10546875
          ],
          [
           "features_3:15",
           "features_3",
           0.55,
           0.0859375
          ],
          [
           "features_3:15",
           "features_3",
           0.5,
           0.0703125
          ],
          [
           "features_3:15",
           "features_3",
           0.45,
           0.05859375
          ],
          [
           "features_3:15",
           "features_3",
           0.4,
           0.046875
          ],
          [
           "features_3:15",
           "features_3",
           0.35,
           0.03515625
          ],
          [
           "features_3:15",
           "features_3",
           0.3,
           0.02734375
          ],
          [
           "features_3:15",
           "features_3",
           0.25,
           0.01953125
          ],
          [
           "features_3:15",
           "features_3",
           0.2,
           0.015625
          ],
          [
           "features_3:15",
           "features_3",
           0.15,
           0.01171875
          ],
          [
           "features_3:15",
           "features_3",
           0.1,
           0.0078125
          ],
          [
           "features_3:15",
           "features_3",
           0.05,
           0
          ]
         ],
         "hovertemplate": "feature_name=features_3:15<br>keep_ratios=%{x}<br>correlations=%{y}<extra></extra>",
         "legendgroup": "features_3:15",
         "marker": {
          "color": "#ab63fa",
          "symbol": "circle"
         },
         "mode": "markers",
         "name": "features_3:15",
         "showlegend": true,
         "type": "scattergl",
         "x": [
          0.5,
          0.2,
          0.1,
          0.05,
          0.01,
          0.005,
          0.001,
          0.71484375,
          0.46484375,
          0.34765625,
          0.27734375,
          0.22265625,
          0.18359375,
          0.15234375,
          0.125,
          0.10546875,
          0.0859375,
          0.0703125,
          0.05859375,
          0.046875,
          0.03515625,
          0.02734375,
          0.01953125,
          0.015625,
          0.01171875,
          0.0078125,
          0
         ],
         "xaxis": "x",
         "y": [
          0.9765499120632892,
          0.7340875188963593,
          0.7203828096938854,
          -0.023133830894054113,
          0,
          0,
          0,
          0.9954001222938285,
          0.9619058563626026,
          0.9374184835058101,
          0.8624633884082811,
          0.8473315518892865,
          0.6539303979427262,
          0.6908374209472016,
          0.6206444178393915,
          0.7203828096938854,
          0.5897181948594042,
          0.6046287014569895,
          -0.09323192704664754,
          -0.023133830894054113,
          -0.023133830894054113,
          0.10233503468863109,
          -0.09339693384918915,
          -0.09339693384918915,
          -0.09339693384918915,
          0,
          0
         ],
         "yaxis": "y"
        },
        {
         "customdata": [
          [
           "features_8:19",
           "features_8",
           0.9996750950813293,
           0.5
          ],
          [
           "features_8:19",
           "features_8",
           0.9510456323623657,
           0.2
          ],
          [
           "features_8:19",
           "features_8",
           0.8372527956962585,
           0.1
          ],
          [
           "features_8:19",
           "features_8",
           0.6939923167228699,
           0.05
          ],
          [
           "features_8:19",
           "features_8",
           0.366817831993103,
           0.01
          ],
          [
           "features_8:19",
           "features_8",
           0.26117292046546936,
           0.005
          ],
          [
           "features_8:19",
           "features_8",
           0.11065872013568878,
           0.001
          ],
          [
           "features_8:19",
           "features_8",
           0.99,
           0.3019101071692535
          ],
          [
           "features_8:19",
           "features_8",
           0.95,
           0.1983670546932742
          ],
          [
           "features_8:19",
           "features_8",
           0.9,
           0.14160661492978566
          ],
          [
           "features_8:19",
           "features_8",
           0.85,
           0.10688054323725056
          ],
          [
           "features_8:19",
           "features_8",
           0.8,
           0.08283675166297118
          ],
          [
           "features_8:19",
           "features_8",
           0.75,
           0.06497135994087214
          ],
          [
           "features_8:19",
           "features_8",
           0.7,
           0.051401977087952695
          ],
          [
           "features_8:19",
           "features_8",
           0.65,
           0.04086982631189948
          ],
          [
           "features_8:19",
           "features_8",
           0.6,
           0.03247413155949741
          ],
          [
           "features_8:19",
           "features_8",
           0.55,
           0.025672117516629712
          ],
          [
           "features_8:19",
           "features_8",
           0.5,
           0.020163525498891353
          ],
          [
           "features_8:19",
           "features_8",
           0.45,
           0.015728935698447893
          ],
          [
           "features_8:19",
           "features_8",
           0.4,
           0.012068089430894309
          ],
          [
           "features_8:19",
           "features_8",
           0.35,
           0.009042405764966741
          ],
          [
           "features_8:19",
           "features_8",
           0.3,
           0.006571045824094604
          ],
          [
           "features_8:19",
           "features_8",
           0.25,
           0.0045847191426459715
          ],
          [
           "features_8:19",
           "features_8",
           0.2,
           0.002991038433111604
          ],
          [
           "features_8:19",
           "features_8",
           0.15,
           0.001743810051736881
          ],
          [
           "features_8:19",
           "features_8",
           0.1,
           0.0008314855875831486
          ],
          [
           "features_8:19",
           "features_8",
           0.05,
           0.00025406504065040653
          ]
         ],
         "hovertemplate": "feature_name=features_8:19<br>keep_ratios=%{x}<br>correlations=%{y}<extra></extra>",
         "legendgroup": "features_8:19",
         "marker": {
          "color": "#FFA15A",
          "symbol": "circle"
         },
         "mode": "markers",
         "name": "features_8:19",
         "showlegend": true,
         "type": "scattergl",
         "x": [
          0.5,
          0.2,
          0.1,
          0.05,
          0.01,
          0.005,
          0.001,
          0.3019101071692535,
          0.1983670546932742,
          0.14160661492978566,
          0.10688054323725056,
          0.08283675166297118,
          0.06497135994087214,
          0.051401977087952695,
          0.04086982631189948,
          0.03247413155949741,
          0.025672117516629712,
          0.020163525498891353,
          0.015728935698447893,
          0.012068089430894309,
          0.009042405764966741,
          0.006571045824094604,
          0.0045847191426459715,
          0.002991038433111604,
          0.001743810051736881,
          0.0008314855875831486,
          0.00025406504065040653
         ],
         "xaxis": "x",
         "y": [
          0.9999998609584283,
          0.9929673921133181,
          0.9573532166444496,
          0.9005930840859708,
          0.21340491327466493,
          0.10139495047830638,
          -0.11447367061935684,
          0.9995055177231853,
          0.9929566513401393,
          0.9807658648589531,
          0.9605366999972637,
          0.9461031696532596,
          0.9221166919619351,
          0.8998481827638333,
          0.8725357736056327,
          0.8322407148973577,
          0.7774714407271259,
          0.6767607917955847,
          0.5752707681664461,
          0.35965768323340375,
          0.2280593883721126,
          0.1430082968996974,
          0.03585277528502875,
          0.11652569336341814,
          0.14371446618994105,
          -0.11887620674403757,
          -0.10825005910048996
         ],
         "yaxis": "y"
        },
        {
         "customdata": [
          [
           "features_10:15",
           "features_10",
           0.99,
           0.4154453152060963
          ],
          [
           "features_10:15",
           "features_10",
           0.95,
           0.3137177433321787
          ],
          [
           "features_10:15",
           "features_10",
           0.9,
           0.24945336854866643
          ],
          [
           "features_10:15",
           "features_10",
           0.85,
           0.2051545722202979
          ],
          [
           "features_10:15",
           "features_10",
           0.8,
           0.17107399549705576
          ],
          [
           "features_10:15",
           "features_10",
           0.75,
           0.1435421718046415
          ],
          [
           "features_10:15",
           "features_10",
           0.7,
           0.12059988742639419
          ],
          [
           "features_10:15",
           "features_10",
           0.65,
           0.10099151368202286
          ],
          [
           "features_10:15",
           "features_10",
           0.6,
           0.0841108850017319
          ],
          [
           "features_10:15",
           "features_10",
           0.55,
           0.06952502597852442
          ],
          [
           "features_10:15",
           "features_10",
           0.5,
           0.05682802216834084
          ],
          [
           "features_10:15",
           "features_10",
           0.45,
           0.04577091271215795
          ],
          [
           "features_10:15",
           "features_10",
           0.4,
           0.03613179771388985
          ],
          [
           "features_10:15",
           "features_10",
           0.35,
           0.027769960166262556
          ],
          [
           "features_10:15",
           "features_10",
           0.3,
           0.02059339279528923
          ],
          [
           "features_10:15",
           "features_10",
           0.25,
           0.01452091271215795
          ],
          [
           "features_10:15",
           "features_10",
           0.2,
           0.009503810183581573
          ],
          [
           "features_10:15",
           "features_10",
           0.15,
           0.005509612054035331
          ],
          [
           "features_10:15",
           "features_10",
           0.1,
           0.002532906130931763
          ],
          [
           "features_10:15",
           "features_10",
           0.05,
           0.0006494631104953239
          ],
          [
           "features_10:15",
           "features_10",
           0.9988833665847778,
           0.5
          ],
          [
           "features_10:15",
           "features_10",
           0.8431621193885803,
           0.2
          ],
          [
           "features_10:15",
           "features_10",
           0.6472627520561218,
           0.1
          ],
          [
           "features_10:15",
           "features_10",
           0.46993905305862427,
           0.05
          ],
          [
           "features_10:15",
           "features_10",
           0.20546329021453857,
           0.01
          ],
          [
           "features_10:15",
           "features_10",
           0.142537459731102,
           0.005
          ],
          [
           "features_10:15",
           "features_10",
           0.06229768693447113,
           0.001
          ]
         ],
         "hovertemplate": "feature_name=features_10:15<br>keep_ratios=%{x}<br>correlations=%{y}<extra></extra>",
         "legendgroup": "features_10:15",
         "marker": {
          "color": "#19d3f3",
          "symbol": "circle"
         },
         "mode": "markers",
         "name": "features_10:15",
         "showlegend": true,
         "type": "scattergl",
         "x": [
          0.4154453152060963,
          0.3137177433321787,
          0.24945336854866643,
          0.2051545722202979,
          0.17107399549705576,
          0.1435421718046415,
          0.12059988742639419,
          0.10099151368202286,
          0.0841108850017319,
          0.06952502597852442,
          0.05682802216834084,
          0.04577091271215795,
          0.03613179771388985,
          0.027769960166262556,
          0.02059339279528923,
          0.01452091271215795,
          0.009503810183581573,
          0.005509612054035331,
          0.002532906130931763,
          0.0006494631104953239,
          0.5,
          0.2,
          0.1,
          0.05,
          0.01,
          0.005,
          0.001
         ],
         "xaxis": "x",
         "y": [
          0.9979362666752785,
          0.9753485081338784,
          0.9112468463415575,
          0.8236232896364815,
          0.6702270234578485,
          0.6327652407891328,
          0.601110668537165,
          0.5301944774091623,
          0.4302539103054899,
          0.30983501986230466,
          0.2185081969641773,
          0.13253997500797865,
          0.11821927403752787,
          0.0861594386627706,
          0.05837383372835667,
          0.050487269832358725,
          0.0650362210813428,
          0.04391763281980896,
          0.04357228742329883,
          0.0004381136054207843,
          0.9999790051382165,
          0.7638943530455025,
          0.5340304237877915,
          0.15854518209013962,
          0.054918948760905965,
          0.018120450458148352,
          -0.003973763357043672
         ],
         "yaxis": "y"
        },
        {
         "customdata": [
          [
           "features_8:16",
           "features_8",
           0.99,
           0.3523073725055432
          ],
          [
           "features_8:16",
           "features_8",
           0.95,
           0.2540881374722838
          ],
          [
           "features_8:16",
           "features_8",
           0.9,
           0.19481014412416853
          ],
          [
           "features_8:16",
           "features_8",
           0.85,
           0.15533767553584626
          ],
          [
           "features_8:16",
           "features_8",
           0.8,
           0.1260278085735403
          ],
          [
           "features_8:16",
           "features_8",
           0.75,
           0.1028270509977827
          ],
          [
           "features_8:16",
           "features_8",
           0.7,
           0.08392230229120473
          ],
          [
           "features_8:16",
           "features_8",
           0.65,
           0.06826265705838877
          ],
          [
           "features_8:16",
           "features_8",
           0.6,
           0.055212952697708796
          ],
          [
           "features_8:16",
           "features_8",
           0.55,
           0.04426505912786401
          ],
          [
           "features_8:16",
           "features_8",
           0.5,
           0.03508407243163341
          ],
          [
           "features_8:16",
           "features_8",
           0.45,
           0.02733508869179601
          ],
          [
           "features_8:16",
           "features_8",
           0.4,
           0.020810236511456023
          ],
          [
           "features_8:16",
           "features_8",
           0.35,
           0.015417128603104213
          ],
          [
           "features_8:16",
           "features_8",
           0.3,
           0.011017184035476718
          ],
          [
           "features_8:16",
           "features_8",
           0.25,
           0.007460273466371028
          ],
          [
           "features_8:16",
           "features_8",
           0.2,
           0.004688654841093865
          ],
          [
           "features_8:16",
           "features_8",
           0.15,
           0.0026792313377679232
          ],
          [
           "features_8:16",
           "features_8",
           0.1,
           0.001304970436067997
          ],
          [
           "features_8:16",
           "features_8",
           0.05,
           0.0004157427937915743
          ],
          [
           "features_8:16",
           "features_8",
           0.9995689392089844,
           0.5
          ],
          [
           "features_8:16",
           "features_8",
           0.9054405093193054,
           0.2
          ],
          [
           "features_8:16",
           "features_8",
           0.7431325912475586,
           0.1
          ],
          [
           "features_8:16",
           "features_8",
           0.5772777199745178,
           0.05
          ],
          [
           "features_8:16",
           "features_8",
           0.2867092490196228,
           0.01
          ],
          [
           "features_8:16",
           "features_8",
           0.20623795688152313,
           0.005
          ],
          [
           "features_8:16",
           "features_8",
           0.08560008555650711,
           0.001
          ]
         ],
         "hovertemplate": "feature_name=features_8:16<br>keep_ratios=%{x}<br>correlations=%{y}<extra></extra>",
         "legendgroup": "features_8:16",
         "marker": {
          "color": "#FF6692",
          "symbol": "circle"
         },
         "mode": "markers",
         "name": "features_8:16",
         "showlegend": true,
         "type": "scattergl",
         "x": [
          0.3523073725055432,
          0.2540881374722838,
          0.19481014412416853,
          0.15533767553584626,
          0.1260278085735403,
          0.1028270509977827,
          0.08392230229120473,
          0.06826265705838877,
          0.055212952697708796,
          0.04426505912786401,
          0.03508407243163341,
          0.02733508869179601,
          0.020810236511456023,
          0.015417128603104213,
          0.011017184035476718,
          0.007460273466371028,
          0.004688654841093865,
          0.0026792313377679232,
          0.001304970436067997,
          0.0004157427937915743,
          0.5,
          0.2,
          0.1,
          0.05,
          0.01,
          0.005,
          0.001
         ],
         "xaxis": "x",
         "y": [
          0.9990406757815973,
          0.986511505213304,
          0.960361227266102,
          0.9330465122340275,
          0.9124620677467624,
          0.8781242266844781,
          0.7777487048473628,
          0.7132754872211872,
          0.6607968920752999,
          0.6416640731954633,
          0.6228858218606546,
          0.5306733361016024,
          0.4928063465088881,
          0.3871690786968959,
          0.38704852801670686,
          0.2671405849868367,
          0.18387895838110996,
          0.1576327585008105,
          0.06414383254183288,
          0.042777098457078645,
          0.9999994752570112,
          0.9650094947165625,
          0.875148516219315,
          0.6327232691098393,
          0.29961585354889464,
          0.18078225385367924,
          0.042737819869872046
         ],
         "yaxis": "y"
        },
        {
         "customdata": [
          [
           "features_6:13",
           "features_6",
           0.9997127056121826,
           0.5
          ],
          [
           "features_6:13",
           "features_6",
           0.95106041431427,
           0.2
          ],
          [
           "features_6:13",
           "features_6",
           0.8667811751365662,
           0.1
          ],
          [
           "features_6:13",
           "features_6",
           0.7698239088058472,
           0.05
          ],
          [
           "features_6:13",
           "features_6",
           0.5352107286453247,
           0.01
          ],
          [
           "features_6:13",
           "features_6",
           0.42132216691970825,
           0.005
          ],
          [
           "features_6:13",
           "features_6",
           0.177641823887825,
           0.001
          ],
          [
           "features_6:13",
           "features_6",
           0.99,
           0.3309659090909091
          ],
          [
           "features_6:13",
           "features_6",
           0.95,
           0.1979955808080808
          ],
          [
           "features_6:13",
           "features_6",
           0.9,
           0.12902462121212122
          ],
          [
           "features_6:13",
           "features_6",
           0.85,
           0.08830492424242424
          ],
          [
           "features_6:13",
           "features_6",
           0.8,
           0.06186868686868687
          ],
          [
           "features_6:13",
           "features_6",
           0.75,
           0.04348169191919192
          ],
          [
           "features_6:13",
           "features_6",
           0.7,
           0.030539772727272728
          ],
          [
           "features_6:13",
           "features_6",
           0.65,
           0.021543560606060608
          ],
          [
           "features_6:13",
           "features_6",
           0.6,
           0.015309343434343434
          ],
          [
           "features_6:13",
           "features_6",
           0.55,
           0.010969065656565656
          ],
          [
           "features_6:13",
           "features_6",
           0.5,
           0.007970328282828282
          ],
          [
           "features_6:13",
           "features_6",
           0.45,
           0.005918560606060606
          ],
          [
           "features_6:13",
           "features_6",
           0.4,
           0.004419191919191919
          ],
          [
           "features_6:13",
           "features_6",
           0.35,
           0.003235479797979798
          ],
          [
           "features_6:13",
           "features_6",
           0.3,
           0.0023674242424242425
          ],
          [
           "features_6:13",
           "features_6",
           0.25,
           0.0016571969696969697
          ],
          [
           "features_6:13",
           "features_6",
           0.2,
           0.0011837121212121212
          ],
          [
           "features_6:13",
           "features_6",
           0.15,
           0.0007102272727272727
          ],
          [
           "features_6:13",
           "features_6",
           0.1,
           0.00039457070707070706
          ],
          [
           "features_6:13",
           "features_6",
           0.05,
           0.00015782828282828284
          ]
         ],
         "hovertemplate": "feature_name=features_6:13<br>keep_ratios=%{x}<br>correlations=%{y}<extra></extra>",
         "legendgroup": "features_6:13",
         "marker": {
          "color": "#B6E880",
          "symbol": "circle"
         },
         "mode": "markers",
         "name": "features_6:13",
         "showlegend": true,
         "type": "scattergl",
         "x": [
          0.5,
          0.2,
          0.1,
          0.05,
          0.01,
          0.005,
          0.001,
          0.3309659090909091,
          0.1979955808080808,
          0.12902462121212122,
          0.08830492424242424,
          0.06186868686868687,
          0.04348169191919192,
          0.030539772727272728,
          0.021543560606060608,
          0.015309343434343434,
          0.010969065656565656,
          0.007970328282828282,
          0.005918560606060606,
          0.004419191919191919,
          0.003235479797979798,
          0.0023674242424242425,
          0.0016571969696969697,
          0.0011837121212121212,
          0.0007102272727272727,
          0.00039457070707070706,
          0.00015782828282828284
         ],
         "xaxis": "x",
         "y": [
          0.9999997664534326,
          0.9893193576053745,
          0.9632163023118796,
          0.9304641123889166,
          0.6297576287123561,
          0.030312224245201583,
          0.12169153081616045,
          0.9992558479425349,
          0.9892948913920652,
          0.9731432679772261,
          0.9562999909021603,
          0.9361006152753798,
          0.921328775026051,
          0.8636427755066345,
          0.8575377828560504,
          0.8314172620170563,
          0.60954878459743,
          0.6479654724188859,
          0.5058243640514593,
          0.046899442809495664,
          0.018885157338088654,
          0.03197236310200395,
          0.12169153081616045,
          0.12169153081616045,
          0.048956698743897534,
          -0.051419665581472485,
          0.14280047088789757
         ],
         "yaxis": "y"
        },
        {
         "customdata": [
          [
           "features_6:19",
           "features_6",
           0.9999076724052429,
           0.5
          ],
          [
           "features_6:19",
           "features_6",
           0.9766958355903625,
           0.2
          ],
          [
           "features_6:19",
           "features_6",
           0.8838703632354736,
           0.1
          ],
          [
           "features_6:19",
           "features_6",
           0.7659372687339783,
           0.05
          ],
          [
           "features_6:19",
           "features_6",
           0.5184773802757263,
           0.01
          ],
          [
           "features_6:19",
           "features_6",
           0.4295516908168793,
           0.005
          ],
          [
           "features_6:19",
           "features_6",
           0.17846667766571045,
           0.001
          ],
          [
           "features_6:19",
           "features_6",
           0.99,
           0.24021464646464646
          ],
          [
           "features_6:19",
           "features_6",
           0.95,
           0.1560921717171717
          ],
          [
           "features_6:19",
           "features_6",
           0.9,
           0.11040088383838384
          ],
          [
           "features_6:19",
           "features_6",
           0.85,
           0.08175505050505051
          ],
          [
           "features_6:19",
           "features_6",
           0.8,
           0.061079545454545456
          ],
          [
           "features_6:19",
           "features_6",
           0.75,
           0.04553345959595959
          ],
          [
           "features_6:19",
           "features_6",
           0.7,
           0.033854166666666664
          ],
          [
           "features_6:19",
           "features_6",
           0.65,
           0.024779040404040404
          ],
          [
           "features_6:19",
           "features_6",
           0.6,
           0.01775568181818182
          ],
          [
           "features_6:19",
           "features_6",
           0.55,
           0.012626262626262626
          ],
          [
           "features_6:19",
           "features_6",
           0.5,
           0.008680555555555556
          ],
          [
           "features_6:19",
           "features_6",
           0.45,
           0.005918560606060606
          ],
          [
           "features_6:19",
           "features_6",
           0.4,
           0.004024621212121212
          ],
          [
           "features_6:19",
           "features_6",
           0.35,
           0.0029987373737373735
          ],
          [
           "features_6:19",
           "features_6",
           0.3,
           0.0022095959595959595
          ],
          [
           "features_6:19",
           "features_6",
           0.25,
           0.0016571969696969697
          ],
          [
           "features_6:19",
           "features_6",
           0.2,
           0.0011837121212121212
          ],
          [
           "features_6:19",
           "features_6",
           0.15,
           0.0007891414141414141
          ],
          [
           "features_6:19",
           "features_6",
           0.1,
           0.0004734848484848485
          ],
          [
           "features_6:19",
           "features_6",
           0.05,
           0.00015782828282828284
          ]
         ],
         "hovertemplate": "feature_name=features_6:19<br>keep_ratios=%{x}<br>correlations=%{y}<extra></extra>",
         "legendgroup": "features_6:19",
         "marker": {
          "color": "#FF97FF",
          "symbol": "circle"
         },
         "mode": "markers",
         "name": "features_6:19",
         "showlegend": true,
         "type": "scattergl",
         "x": [
          0.5,
          0.2,
          0.1,
          0.05,
          0.01,
          0.005,
          0.001,
          0.24021464646464646,
          0.1560921717171717,
          0.11040088383838384,
          0.08175505050505051,
          0.061079545454545456,
          0.04553345959595959,
          0.033854166666666664,
          0.024779040404040404,
          0.01775568181818182,
          0.012626262626262626,
          0.008680555555555556,
          0.005918560606060606,
          0.004024621212121212,
          0.0029987373737373735,
          0.0022095959595959595,
          0.0016571969696969697,
          0.0011837121212121212,
          0.0007891414141414141,
          0.0004734848484848485,
          0.00015782828282828284
         ],
         "xaxis": "x",
         "y": [
          0.9999999275646806,
          0.9940045739046769,
          0.9180568513634211,
          0.7550720578361558,
          0.41276240435250444,
          0.32836637581267947,
          0.32736047860427386,
          0.9989802883860045,
          0.9763111344105202,
          0.9146344069706382,
          0.879558003881477,
          0.810349711974186,
          0.7397378069288051,
          0.6696513934947034,
          0.5825429226113653,
          0.42789414793062214,
          0.36761997317812906,
          0.4468399180164087,
          0.2986390618271132,
          0.3335597627048643,
          0.33484182055106354,
          0.32750024085114526,
          0.32489676339212425,
          0.3393412641036653,
          0.32743226650857105,
          0.32743226650857105,
          0.3250361737106104
         ],
         "yaxis": "y"
        },
        {
         "customdata": [
          [
           "features_3:6",
           "features_3",
           0.99,
           0.3203125
          ],
          [
           "features_3:6",
           "features_3",
           0.95,
           0.21875
          ],
          [
           "features_3:6",
           "features_3",
           0.9,
           0.16796875
          ],
          [
           "features_3:6",
           "features_3",
           0.85,
           0.12890625
          ],
          [
           "features_3:6",
           "features_3",
           0.8,
           0.10546875
          ],
          [
           "features_3:6",
           "features_3",
           0.75,
           0.0859375
          ],
          [
           "features_3:6",
           "features_3",
           0.7,
           0.07421875
          ],
          [
           "features_3:6",
           "features_3",
           0.65,
           0.0625
          ],
          [
           "features_3:6",
           "features_3",
           0.6,
           0.0546875
          ],
          [
           "features_3:6",
           "features_3",
           0.55,
           0.046875
          ],
          [
           "features_3:6",
           "features_3",
           0.5,
           0.0390625
          ],
          [
           "features_3:6",
           "features_3",
           0.45,
           0.03125
          ],
          [
           "features_3:6",
           "features_3",
           0.4,
           0.02734375
          ],
          [
           "features_3:6",
           "features_3",
           0.35,
           0.01953125
          ],
          [
           "features_3:6",
           "features_3",
           0.3,
           0.015625
          ],
          [
           "features_3:6",
           "features_3",
           0.25,
           0.01171875
          ],
          [
           "features_3:6",
           "features_3",
           0.2,
           0.0078125
          ],
          [
           "features_3:6",
           "features_3",
           0.15,
           0.00390625
          ],
          [
           "features_3:6",
           "features_3",
           0.1,
           0
          ],
          [
           "features_3:6",
           "features_3",
           0.05,
           0
          ],
          [
           "features_3:6",
           "features_3",
           0.9997130632400513,
           0.5
          ],
          [
           "features_3:6",
           "features_3",
           0.9349340200424194,
           0.2
          ],
          [
           "features_3:6",
           "features_3",
           0.7848404049873352,
           0.1
          ],
          [
           "features_3:6",
           "features_3",
           0.5677230358123779,
           0.05
          ],
          [
           "features_3:6",
           "features_3",
           0.2275189608335495,
           0.01
          ],
          [
           "features_3:6",
           "features_3",
           0.1769830733537674,
           0.005
          ],
          [
           "features_3:6",
           "features_3",
           0.11858584731817245,
           0.001
          ]
         ],
         "hovertemplate": "feature_name=features_3:6<br>keep_ratios=%{x}<br>correlations=%{y}<extra></extra>",
         "legendgroup": "features_3:6",
         "marker": {
          "color": "#FECB52",
          "symbol": "circle"
         },
         "mode": "markers",
         "name": "features_3:6",
         "showlegend": true,
         "type": "scattergl",
         "x": [
          0.3203125,
          0.21875,
          0.16796875,
          0.12890625,
          0.10546875,
          0.0859375,
          0.07421875,
          0.0625,
          0.0546875,
          0.046875,
          0.0390625,
          0.03125,
          0.02734375,
          0.01953125,
          0.015625,
          0.01171875,
          0.0078125,
          0.00390625,
          0,
          0,
          0.5,
          0.2,
          0.1,
          0.05,
          0.01,
          0.005,
          0.001
         ],
         "xaxis": "x",
         "y": [
          0.9963847858953294,
          0.978770488266341,
          0.9178059445631784,
          0.8834243746663217,
          0.9024586405972923,
          0.8208758547457349,
          0.7318102843182797,
          0.7318300377763793,
          0.7258247435278693,
          0.6040303627822987,
          0.528370243643328,
          0.4622635947270004,
          0.45037448778997136,
          0.4503661940103252,
          0.4503661940103252,
          0.3373738291307219,
          0.2554297060742065,
          0.2554297060742065,
          0.23993723835707523,
          0.23993723835707523,
          0.9999956342472738,
          0.9564801182972528,
          0.8042738504468889,
          0.6040303627822987,
          0.2554297060742065,
          0.2554297060742065,
          0.23993723835707523
         ],
         "yaxis": "y"
        },
        {
         "customdata": [
          [
           "features_10:9",
           "features_10",
           0.99,
           0.42688127814340143
          ],
          [
           "features_10:9",
           "features_10",
           0.95,
           0.3229184707308625
          ],
          [
           "features_10:9",
           "features_10",
           0.9,
           0.25746882577069624
          ],
          [
           "features_10:9",
           "features_10",
           0.85,
           0.21233113959127123
          ],
          [
           "features_10:9",
           "features_10",
           0.8,
           0.17746579494284725
          ],
          [
           "features_10:9",
           "features_10",
           0.75,
           0.14913296674748874
          ],
          [
           "features_10:9",
           "features_10",
           0.7,
           0.1254600363699342
          ],
          [
           "features_10:9",
           "features_10",
           0.65,
           0.10528338240387947
          ],
          [
           "features_10:9",
           "features_10",
           0.6,
           0.08785071007966748
          ],
          [
           "features_10:9",
           "features_10",
           0.55,
           0.0727506927606512
          ],
          [
           "features_10:9",
           "features_10",
           0.5,
           0.05959906477312089
          ],
          [
           "features_10:9",
           "features_10",
           0.45,
           0.04813062868029096
          ],
          [
           "features_10:9",
           "features_10",
           0.4,
           0.03810724800831313
          ],
          [
           "features_10:9",
           "features_10",
           0.35,
           0.029436915483200553
          ],
          [
           "features_10:9",
           "features_10",
           0.3,
           0.021984326290266712
          ],
          [
           "features_10:9",
           "features_10",
           0.25,
           0.015603351229650156
          ],
          [
           "features_10:9",
           "features_10",
           0.2,
           0.010315639071700727
          ],
          [
           "features_10:9",
           "features_10",
           0.15,
           0.006045419120193973
          ],
          [
           "features_10:9",
           "features_10",
           0.1,
           0.0027981035677173537
          ],
          [
           "features_10:9",
           "features_10",
           0.05,
           0.0006873484586075511
          ],
          [
           "features_10:9",
           "features_10",
           0.9984298944473267,
           0.5
          ],
          [
           "features_10:9",
           "features_10",
           0.8335923552513123,
           0.2
          ],
          [
           "features_10:9",
           "features_10",
           0.6356024146080017,
           0.1
          ],
          [
           "features_10:9",
           "features_10",
           0.4586274027824402,
           0.05
          ],
          [
           "features_10:9",
           "features_10",
           0.19665966928005219,
           0.01
          ],
          [
           "features_10:9",
           "features_10",
           0.13548390567302704,
           0.005
          ],
          [
           "features_10:9",
           "features_10",
           0.05996686592698097,
           0.001
          ]
         ],
         "hovertemplate": "feature_name=features_10:9<br>keep_ratios=%{x}<br>correlations=%{y}<extra></extra>",
         "legendgroup": "features_10:9",
         "marker": {
          "color": "#636efa",
          "symbol": "circle"
         },
         "mode": "markers",
         "name": "features_10:9",
         "showlegend": true,
         "type": "scattergl",
         "x": [
          0.42688127814340143,
          0.3229184707308625,
          0.25746882577069624,
          0.21233113959127123,
          0.17746579494284725,
          0.14913296674748874,
          0.1254600363699342,
          0.10528338240387947,
          0.08785071007966748,
          0.0727506927606512,
          0.05959906477312089,
          0.04813062868029096,
          0.03810724800831313,
          0.029436915483200553,
          0.021984326290266712,
          0.015603351229650156,
          0.010315639071700727,
          0.006045419120193973,
          0.0027981035677173537,
          0.0006873484586075511,
          0.5,
          0.2,
          0.1,
          0.05,
          0.01,
          0.005,
          0.001
         ],
         "xaxis": "x",
         "y": [
          0.9983407908052602,
          0.9753626300535903,
          0.925365965326103,
          0.8751370906625864,
          0.7806178984706835,
          0.6970500738762976,
          0.5977437647967043,
          0.5229317278185566,
          0.48758414642435577,
          0.47998555374955587,
          0.36360032087570937,
          0.1784529061226289,
          0.18512688526274507,
          0.33186732665595176,
          0.2966138694157798,
          0.2678493050508255,
          0.3077144783560982,
          0.2612660798336233,
          0.21687786609479096,
          -0.15281775862335417,
          0.9999385932753554,
          0.838153927881723,
          0.5046384200938311,
          0.15005583277209011,
          0.3023297649677862,
          0.24908170774787952,
          -0.038693492733338566
         ],
         "yaxis": "y"
        },
        {
         "customdata": [
          [
           "features_3:14",
           "features_3",
           0.9879715442657471,
           0.5
          ],
          [
           "features_3:14",
           "features_3",
           0.8274558782577515,
           0.2
          ],
          [
           "features_3:14",
           "features_3",
           0.6041256785392761,
           0.1
          ],
          [
           "features_3:14",
           "features_3",
           0.38105928897857666,
           0.05
          ],
          [
           "features_3:14",
           "features_3",
           0.12603437900543213,
           0.01
          ],
          [
           "features_3:14",
           "features_3",
           0.0922127217054367,
           0.005
          ],
          [
           "features_3:14",
           "features_3",
           0.05073926970362663,
           0.001
          ],
          [
           "features_3:14",
           "features_3",
           0.99,
           0.515625
          ],
          [
           "features_3:14",
           "features_3",
           0.95,
           0.3515625
          ],
          [
           "features_3:14",
           "features_3",
           0.9,
           0.265625
          ],
          [
           "features_3:14",
           "features_3",
           0.85,
           0.21875
          ],
          [
           "features_3:14",
           "features_3",
           0.8,
           0.18359375
          ],
          [
           "features_3:14",
           "features_3",
           0.75,
           0.15625
          ],
          [
           "features_3:14",
           "features_3",
           0.7,
           0.1328125
          ],
          [
           "features_3:14",
           "features_3",
           0.65,
           0.11328125
          ],
          [
           "features_3:14",
           "features_3",
           0.6,
           0.09765625
          ],
          [
           "features_3:14",
           "features_3",
           0.55,
           0.0859375
          ],
          [
           "features_3:14",
           "features_3",
           0.5,
           0.07421875
          ],
          [
           "features_3:14",
           "features_3",
           0.45,
           0.0625
          ],
          [
           "features_3:14",
           "features_3",
           0.4,
           0.05078125
          ],
          [
           "features_3:14",
           "features_3",
           0.35,
           0.04296875
          ],
          [
           "features_3:14",
           "features_3",
           0.3,
           0.03515625
          ],
          [
           "features_3:14",
           "features_3",
           0.25,
           0.02734375
          ],
          [
           "features_3:14",
           "features_3",
           0.2,
           0.01953125
          ],
          [
           "features_3:14",
           "features_3",
           0.15,
           0.01171875
          ],
          [
           "features_3:14",
           "features_3",
           0.1,
           0.0078125
          ],
          [
           "features_3:14",
           "features_3",
           0.05,
           0
          ]
         ],
         "hovertemplate": "feature_name=features_3:14<br>keep_ratios=%{x}<br>correlations=%{y}<extra></extra>",
         "legendgroup": "features_3:14",
         "marker": {
          "color": "#EF553B",
          "symbol": "circle"
         },
         "mode": "markers",
         "name": "features_3:14",
         "showlegend": true,
         "type": "scattergl",
         "x": [
          0.5,
          0.2,
          0.1,
          0.05,
          0.01,
          0.005,
          0.001,
          0.515625,
          0.3515625,
          0.265625,
          0.21875,
          0.18359375,
          0.15625,
          0.1328125,
          0.11328125,
          0.09765625,
          0.0859375,
          0.07421875,
          0.0625,
          0.05078125,
          0.04296875,
          0.03515625,
          0.02734375,
          0.01953125,
          0.01171875,
          0.0078125,
          0
         ],
         "xaxis": "x",
         "y": [
          0.9823443452622287,
          0.7865583549547145,
          0.36709710118236816,
          0.6086865619890055,
          -0.05007083857314618,
          0,
          0,
          0.9859685365847499,
          0.9278527496920801,
          0.843650487908878,
          0.7428030867484047,
          0.7864149687766726,
          0.3380206596246111,
          0.22415492098749876,
          0.5519827912869544,
          0.36709710118236816,
          0.36709710118236816,
          0.3149995889149916,
          0.3186576243877358,
          0.6087064076880755,
          0.43243178574289476,
          0.04632299223334437,
          0.046455570903327754,
          -0.24591303095469116,
          -0.24591303095469116,
          -0.05007083857314618,
          0
         ],
         "yaxis": "y"
        },
        {
         "customdata": [
          [
           "features_3:8",
           "features_3",
           0.99,
           0.70703125
          ],
          [
           "features_3:8",
           "features_3",
           0.95,
           0.49609375
          ],
          [
           "features_3:8",
           "features_3",
           0.9,
           0.37890625
          ],
          [
           "features_3:8",
           "features_3",
           0.85,
           0.296875
          ],
          [
           "features_3:8",
           "features_3",
           0.8,
           0.23828125
          ],
          [
           "features_3:8",
           "features_3",
           0.75,
           0.1953125
          ],
          [
           "features_3:8",
           "features_3",
           0.7,
           0.16015625
          ],
          [
           "features_3:8",
           "features_3",
           0.65,
           0.13671875
          ],
          [
           "features_3:8",
           "features_3",
           0.6,
           0.1171875
          ],
          [
           "features_3:8",
           "features_3",
           0.55,
           0.1015625
          ],
          [
           "features_3:8",
           "features_3",
           0.5,
           0.0859375
          ],
          [
           "features_3:8",
           "features_3",
           0.45,
           0.07421875
          ],
          [
           "features_3:8",
           "features_3",
           0.4,
           0.05859375
          ],
          [
           "features_3:8",
           "features_3",
           0.35,
           0.046875
          ],
          [
           "features_3:8",
           "features_3",
           0.3,
           0.03515625
          ],
          [
           "features_3:8",
           "features_3",
           0.25,
           0.02734375
          ],
          [
           "features_3:8",
           "features_3",
           0.2,
           0.015625
          ],
          [
           "features_3:8",
           "features_3",
           0.15,
           0.01171875
          ],
          [
           "features_3:8",
           "features_3",
           0.1,
           0.0078125
          ],
          [
           "features_3:8",
           "features_3",
           0.05,
           0.00390625
          ],
          [
           "features_3:8",
           "features_3",
           0.9512040019035339,
           0.5
          ],
          [
           "features_3:8",
           "features_3",
           0.7582274079322815,
           0.2
          ],
          [
           "features_3:8",
           "features_3",
           0.5463517904281616,
           0.1
          ],
          [
           "features_3:8",
           "features_3",
           0.3561374247074127,
           0.05
          ],
          [
           "features_3:8",
           "features_3",
           0.1388358175754547,
           0.01
          ],
          [
           "features_3:8",
           "features_3",
           0.09493837505578995,
           0.005
          ],
          [
           "features_3:8",
           "features_3",
           0.04798191040754318,
           0.001
          ]
         ],
         "hovertemplate": "feature_name=features_3:8<br>keep_ratios=%{x}<br>correlations=%{y}<extra></extra>",
         "legendgroup": "features_3:8",
         "marker": {
          "color": "#00cc96",
          "symbol": "circle"
         },
         "mode": "markers",
         "name": "features_3:8",
         "showlegend": true,
         "type": "scattergl",
         "x": [
          0.70703125,
          0.49609375,
          0.37890625,
          0.296875,
          0.23828125,
          0.1953125,
          0.16015625,
          0.13671875,
          0.1171875,
          0.1015625,
          0.0859375,
          0.07421875,
          0.05859375,
          0.046875,
          0.03515625,
          0.02734375,
          0.015625,
          0.01171875,
          0.0078125,
          0.00390625,
          0.5,
          0.2,
          0.1,
          0.05,
          0.01,
          0.005,
          0.001
         ],
         "xaxis": "x",
         "y": [
          0.9952473563366919,
          0.9524211049782876,
          0.7647931692245987,
          0.7145101377950199,
          0.6161347334389577,
          0.6907437386472016,
          0.5457709708793187,
          0.541191937056243,
          -0.09490032955429276,
          -0.09979491331035636,
          -0.09979491331035636,
          -0.12197772992123727,
          -0.12199705004460501,
          -0.12199705004460501,
          -0.12199705004460501,
          -0.11766441711229317,
          0,
          0,
          0,
          0,
          0.9524211049782876,
          0.7287635322923511,
          -0.09979491331035636,
          -0.12199705004460501,
          0,
          0,
          0
         ],
         "yaxis": "y"
        },
        {
         "customdata": [
          [
           "features_6:6",
           "features_6",
           0.99,
           0.2770675505050505
          ],
          [
           "features_6:6",
           "features_6",
           0.95,
           0.16279987373737373
          ],
          [
           "features_6:6",
           "features_6",
           0.9,
           0.10392992424242424
          ],
          [
           "features_6:6",
           "features_6",
           0.85,
           0.07054924242424243
          ],
          [
           "features_6:6",
           "features_6",
           0.8,
           0.04963699494949495
          ],
          [
           "features_6:6",
           "features_6",
           0.75,
           0.035432449494949496
          ],
          [
           "features_6:6",
           "features_6",
           0.7,
           0.0257260101010101
          ],
          [
           "features_6:6",
           "features_6",
           0.65,
           0.018623737373737372
          ],
          [
           "features_6:6",
           "features_6",
           0.6,
           0.013573232323232324
          ],
          [
           "features_6:6",
           "features_6",
           0.55,
           0.009864267676767676
          ],
          [
           "features_6:6",
           "features_6",
           0.5,
           0.007181186868686869
          ],
          [
           "features_6:6",
           "features_6",
           0.45,
           0.005287247474747475
          ],
          [
           "features_6:6",
           "features_6",
           0.4,
           0.003945707070707071
          ],
          [
           "features_6:6",
           "features_6",
           0.35,
           0.0029198232323232325
          ],
          [
           "features_6:6",
           "features_6",
           0.3,
           0.002130681818181818
          ],
          [
           "features_6:6",
           "features_6",
           0.25,
           0.0014204545454545455
          ],
          [
           "features_6:6",
           "features_6",
           0.2,
           0.000946969696969697
          ],
          [
           "features_6:6",
           "features_6",
           0.15,
           0.0005523989898989899
          ],
          [
           "features_6:6",
           "features_6",
           0.1,
           0.0003156565656565657
          ],
          [
           "features_6:6",
           "features_6",
           0.05,
           7.891414141414142e-05
          ],
          [
           "features_6:6",
           "features_6",
           0.9997632503509521,
           0.5
          ],
          [
           "features_6:6",
           "features_6",
           0.9686855673789978,
           0.2
          ],
          [
           "features_6:6",
           "features_6",
           0.8952828645706177,
           0.1
          ],
          [
           "features_6:6",
           "features_6",
           0.8010374903678894,
           0.05
          ],
          [
           "features_6:6",
           "features_6",
           0.5513110160827637,
           0.01
          ],
          [
           "features_6:6",
           "features_6",
           0.44086453318595886,
           0.005
          ],
          [
           "features_6:6",
           "features_6",
           0.20192183554172516,
           0.001
          ]
         ],
         "hovertemplate": "feature_name=features_6:6<br>keep_ratios=%{x}<br>correlations=%{y}<extra></extra>",
         "legendgroup": "features_6:6",
         "marker": {
          "color": "#ab63fa",
          "symbol": "circle"
         },
         "mode": "markers",
         "name": "features_6:6",
         "showlegend": true,
         "type": "scattergl",
         "x": [
          0.2770675505050505,
          0.16279987373737373,
          0.10392992424242424,
          0.07054924242424243,
          0.04963699494949495,
          0.035432449494949496,
          0.0257260101010101,
          0.018623737373737372,
          0.013573232323232324,
          0.009864267676767676,
          0.007181186868686869,
          0.005287247474747475,
          0.003945707070707071,
          0.0029198232323232325,
          0.002130681818181818,
          0.0014204545454545455,
          0.000946969696969697,
          0.0005523989898989899,
          0.0003156565656565657,
          7.891414141414142e-05,
          0.5,
          0.2,
          0.1,
          0.05,
          0.01,
          0.005,
          0.001
         ],
         "xaxis": "x",
         "y": [
          0.9996373221976982,
          0.9931691952055886,
          0.9642877297581364,
          0.923706930568515,
          0.8687121874205691,
          0.8315706761010054,
          0.7229875196185307,
          0.5815396667593592,
          0.5882847877384461,
          0.6612316018706657,
          0.650478546945535,
          0.41717390433180435,
          0.14617241527605673,
          -0.32214231401247007,
          0.3894421117427619,
          0.3741119562604761,
          0.3761083847377253,
          0.38799641446600885,
          0.3826501838949449,
          0.40265621888428504,
          0.9999999286828308,
          0.9975067220394204,
          0.9624097009214263,
          0.8677202355144462,
          0.6612316018706657,
          0.39356124609812465,
          0.3761083847377253
         ],
         "yaxis": "y"
        },
        {
         "customdata": [
          [
           "features_3:5",
           "features_3",
           0.9686797857284546,
           0.5
          ],
          [
           "features_3:5",
           "features_3",
           0.8348913788795471,
           0.2
          ],
          [
           "features_3:5",
           "features_3",
           0.6750234961509705,
           0.1
          ],
          [
           "features_3:5",
           "features_3",
           0.5063000321388245,
           0.05
          ],
          [
           "features_3:5",
           "features_3",
           0.19784274697303772,
           0.01
          ],
          [
           "features_3:5",
           "features_3",
           0.1350533664226532,
           0.005
          ],
          [
           "features_3:5",
           "features_3",
           0.07134953141212463,
           0.001
          ],
          [
           "features_3:5",
           "features_3",
           0.99,
           0.6484375
          ],
          [
           "features_3:5",
           "features_3",
           0.95,
           0.42578125
          ],
          [
           "features_3:5",
           "features_3",
           0.9,
           0.296875
          ],
          [
           "features_3:5",
           "features_3",
           0.85,
           0.21875
          ],
          [
           "features_3:5",
           "features_3",
           0.8,
           0.16796875
          ],
          [
           "features_3:5",
           "features_3",
           0.75,
           0.1328125
          ],
          [
           "features_3:5",
           "features_3",
           0.7,
           0.109375
          ],
          [
           "features_3:5",
           "features_3",
           0.65,
           0.08984375
          ],
          [
           "features_3:5",
           "features_3",
           0.6,
           0.07421875
          ],
          [
           "features_3:5",
           "features_3",
           0.55,
           0.05859375
          ],
          [
           "features_3:5",
           "features_3",
           0.5,
           0.046875
          ],
          [
           "features_3:5",
           "features_3",
           0.45,
           0.0390625
          ],
          [
           "features_3:5",
           "features_3",
           0.4,
           0.02734375
          ],
          [
           "features_3:5",
           "features_3",
           0.35,
           0.0234375
          ],
          [
           "features_3:5",
           "features_3",
           0.3,
           0.015625
          ],
          [
           "features_3:5",
           "features_3",
           0.25,
           0.01171875
          ],
          [
           "features_3:5",
           "features_3",
           0.2,
           0.01171875
          ],
          [
           "features_3:5",
           "features_3",
           0.15,
           0.0078125
          ],
          [
           "features_3:5",
           "features_3",
           0.1,
           0.00390625
          ],
          [
           "features_3:5",
           "features_3",
           0.05,
           0
          ]
         ],
         "hovertemplate": "feature_name=features_3:5<br>keep_ratios=%{x}<br>correlations=%{y}<extra></extra>",
         "legendgroup": "features_3:5",
         "marker": {
          "color": "#FFA15A",
          "symbol": "circle"
         },
         "mode": "markers",
         "name": "features_3:5",
         "showlegend": true,
         "type": "scattergl",
         "x": [
          0.5,
          0.2,
          0.1,
          0.05,
          0.01,
          0.005,
          0.001,
          0.6484375,
          0.42578125,
          0.296875,
          0.21875,
          0.16796875,
          0.1328125,
          0.109375,
          0.08984375,
          0.07421875,
          0.05859375,
          0.046875,
          0.0390625,
          0.02734375,
          0.0234375,
          0.015625,
          0.01171875,
          0.01171875,
          0.0078125,
          0.00390625,
          0
         ],
         "xaxis": "x",
         "y": [
          0.9629529831170073,
          0.8399160810184039,
          0.7872124484463876,
          0.787123335680974,
          -0.03826353342343679,
          0.03874754896526748,
          0,
          0.9917874625991717,
          0.9597644749692973,
          0.8965561842863319,
          0.8462799577497856,
          0.8093691982170795,
          0.769840883434153,
          0.7697409287780547,
          0.7872124484463876,
          0.7871504297250729,
          0.7871504297250729,
          0.787123335680974,
          0.787123335680974,
          0.22970199623488313,
          0.22967279890288012,
          0.1951847421193911,
          0.2553338920263892,
          0.2553338920263892,
          -0.03826353342343679,
          0.03874754896526748,
          0
         ],
         "yaxis": "y"
        },
        {
         "customdata": [
          [
           "features_6:11",
           "features_6",
           0.9995853304862976,
           0.5
          ],
          [
           "features_6:11",
           "features_6",
           0.9541348218917847,
           0.2
          ],
          [
           "features_6:11",
           "features_6",
           0.8588333129882812,
           0.1
          ],
          [
           "features_6:11",
           "features_6",
           0.746325671672821,
           0.05
          ],
          [
           "features_6:11",
           "features_6",
           0.5077304840087891,
           0.01
          ],
          [
           "features_6:11",
           "features_6",
           0.4134539067745209,
           0.005
          ],
          [
           "features_6:11",
           "features_6",
           0.17791709303855896,
           0.001
          ],
          [
           "features_6:11",
           "features_6",
           0.99,
           0.30721275252525254
          ],
          [
           "features_6:11",
           "features_6",
           0.95,
           0.19286616161616163
          ],
          [
           "features_6:11",
           "features_6",
           0.9,
           0.13154987373737373
          ],
          [
           "features_6:11",
           "features_6",
           0.85,
           0.09453914141414141
          ],
          [
           "features_6:11",
           "features_6",
           0.8,
           0.0693655303030303
          ],
          [
           "features_6:11",
           "features_6",
           0.75,
           0.05113636363636364
          ],
          [
           "features_6:11",
           "features_6",
           0.7,
           0.037799873737373736
          ],
          [
           "features_6:11",
           "features_6",
           0.65,
           0.027698863636363636
          ],
          [
           "features_6:11",
           "features_6",
           0.6,
           0.019807449494949496
          ],
          [
           "features_6:11",
           "features_6",
           0.55,
           0.013731060606060606
          ],
          [
           "features_6:11",
           "features_6",
           0.5,
           0.009390782828282828
          ],
          [
           "features_6:11",
           "features_6",
           0.45,
           0.006470959595959596
          ],
          [
           "features_6:11",
           "features_6",
           0.4,
           0.004577020202020202
          ],
          [
           "features_6:11",
           "features_6",
           0.35,
           0.003393308080808081
          ],
          [
           "features_6:11",
           "features_6",
           0.3,
           0.0025252525252525255
          ],
          [
           "features_6:11",
           "features_6",
           0.25,
           0.0018150252525252525
          ],
          [
           "features_6:11",
           "features_6",
           0.2,
           0.0011837121212121212
          ],
          [
           "features_6:11",
           "features_6",
           0.15,
           0.0007102272727272727
          ],
          [
           "features_6:11",
           "features_6",
           0.1,
           0.0003156565656565657
          ],
          [
           "features_6:11",
           "features_6",
           0.05,
           7.891414141414142e-05
          ]
         ],
         "hovertemplate": "feature_name=features_6:11<br>keep_ratios=%{x}<br>correlations=%{y}<extra></extra>",
         "legendgroup": "features_6:11",
         "marker": {
          "color": "#19d3f3",
          "symbol": "circle"
         },
         "mode": "markers",
         "name": "features_6:11",
         "showlegend": true,
         "type": "scattergl",
         "x": [
          0.5,
          0.2,
          0.1,
          0.05,
          0.01,
          0.005,
          0.001,
          0.30721275252525254,
          0.19286616161616163,
          0.13154987373737373,
          0.09453914141414141,
          0.0693655303030303,
          0.05113636363636364,
          0.037799873737373736,
          0.027698863636363636,
          0.019807449494949496,
          0.013731060606060606,
          0.009390782828282828,
          0.006470959595959596,
          0.004577020202020202,
          0.003393308080808081,
          0.0025252525252525255,
          0.0018150252525252525,
          0.0011837121212121212,
          0.0007102272727272727,
          0.0003156565656565657,
          7.891414141414142e-05
         ],
         "xaxis": "x",
         "y": [
          0.9999998072192416,
          0.9889639935891976,
          0.9565497261999003,
          0.8801006813712215,
          0.48673334421497216,
          0.12400637621629451,
          0.09596726367430682,
          0.9994334500338716,
          0.9890079802860414,
          0.9799846102330328,
          0.9417467488298914,
          0.919030310792979,
          0.8840249418601867,
          0.7492439097256167,
          0.6756658112837493,
          0.5467880037826346,
          0.5090169938520537,
          0.49614249065745447,
          0.30467329220629513,
          0.12397700084038338,
          0.13101753862788665,
          0.12812276035324227,
          0.1318157077752009,
          0.09596726367430682,
          0.1065236954699742,
          0,
          0
         ],
         "yaxis": "y"
        },
        {
         "customdata": [
          [
           "features_6:12",
           "features_6",
           0.9986801147460938,
           0.5
          ],
          [
           "features_6:12",
           "features_6",
           0.9338377714157104,
           0.2
          ],
          [
           "features_6:12",
           "features_6",
           0.8409150838851929,
           0.1
          ],
          [
           "features_6:12",
           "features_6",
           0.7403127551078796,
           0.05
          ],
          [
           "features_6:12",
           "features_6",
           0.5315621495246887,
           0.01
          ],
          [
           "features_6:12",
           "features_6",
           0.4214525520801544,
           0.005
          ],
          [
           "features_6:12",
           "features_6",
           0.16409550607204437,
           0.001
          ],
          [
           "features_6:12",
           "features_6",
           0.99,
           0.37578914141414144
          ],
          [
           "features_6:12",
           "features_6",
           0.95,
           0.2309027777777778
          ],
          [
           "features_6:12",
           "features_6",
           0.9,
           0.15246212121212122
          ],
          [
           "features_6:12",
           "features_6",
           0.85,
           0.10653409090909091
          ],
          [
           "features_6:12",
           "features_6",
           0.8,
           0.07567866161616162
          ],
          [
           "features_6:12",
           "features_6",
           0.75,
           0.05350378787878788
          ],
          [
           "features_6:12",
           "features_6",
           0.7,
           0.037089646464646464
          ],
          [
           "features_6:12",
           "features_6",
           0.65,
           0.025094696969696968
          ],
          [
           "features_6:12",
           "features_6",
           0.6,
           0.016887626262626264
          ],
          [
           "features_6:12",
           "features_6",
           0.55,
           0.011521464646464646
          ],
          [
           "features_6:12",
           "features_6",
           0.5,
           0.007970328282828282
          ],
          [
           "features_6:12",
           "features_6",
           0.45,
           0.005918560606060606
          ],
          [
           "features_6:12",
           "features_6",
           0.4,
           0.004419191919191919
          ],
          [
           "features_6:12",
           "features_6",
           0.35,
           0.0033143939393939395
          ],
          [
           "features_6:12",
           "features_6",
           0.3,
           0.0025252525252525255
          ],
          [
           "features_6:12",
           "features_6",
           0.25,
           0.0018150252525252525
          ],
          [
           "features_6:12",
           "features_6",
           0.2,
           0.001341540404040404
          ],
          [
           "features_6:12",
           "features_6",
           0.15,
           0.0008680555555555555
          ],
          [
           "features_6:12",
           "features_6",
           0.1,
           0.0004734848484848485
          ],
          [
           "features_6:12",
           "features_6",
           0.05,
           0.00015782828282828284
          ]
         ],
         "hovertemplate": "feature_name=features_6:12<br>keep_ratios=%{x}<br>correlations=%{y}<extra></extra>",
         "legendgroup": "features_6:12",
         "marker": {
          "color": "#FF6692",
          "symbol": "circle"
         },
         "mode": "markers",
         "name": "features_6:12",
         "showlegend": true,
         "type": "scattergl",
         "x": [
          0.5,
          0.2,
          0.1,
          0.05,
          0.01,
          0.005,
          0.001,
          0.37578914141414144,
          0.2309027777777778,
          0.15246212121212122,
          0.10653409090909091,
          0.07567866161616162,
          0.05350378787878788,
          0.037089646464646464,
          0.025094696969696968,
          0.016887626262626264,
          0.011521464646464646,
          0.007970328282828282,
          0.005918560606060606,
          0.004419191919191919,
          0.0033143939393939395,
          0.0025252525252525255,
          0.0018150252525252525,
          0.001341540404040404,
          0.0008680555555555555,
          0.0004734848484848485,
          0.00015782828282828284
         ],
         "xaxis": "x",
         "y": [
          0.9999883837014822,
          0.9844471764829346,
          0.9391885640909936,
          0.8804652388102887,
          0.5846100567792305,
          0.005329589610471816,
          0.019213531666581806,
          0.9989306187380658,
          0.9899653055628085,
          0.9736121695315767,
          0.9472452785136705,
          0.9212997248482919,
          0.8883976615240694,
          0.8482476878132867,
          0.7847508641445478,
          0.636658553865784,
          0.40766023194627593,
          0.009550892495536489,
          0.022785905437993997,
          0.02301868983174073,
          0.031164627844589975,
          0.04618441130209573,
          0.04617355538077974,
          0.042282350240824385,
          0.019213531666581806,
          -0.0053621855570590606,
          0.003337669202171779
         ],
         "yaxis": "y"
        },
        {
         "customdata": [
          [
           "features_8:11",
           "features_8",
           0.99,
           0.35882067627494457
          ],
          [
           "features_8:11",
           "features_8",
           0.95,
           0.2573332409460458
          ],
          [
           "features_8:11",
           "features_8",
           0.9,
           0.1965539541759054
          ],
          [
           "features_8:11",
           "features_8",
           0.85,
           0.15642322616407983
          ],
          [
           "features_8:11",
           "features_8",
           0.8,
           0.12675535846267555
          ],
          [
           "features_8:11",
           "features_8",
           0.75,
           0.10354305247597931
          ],
          [
           "features_8:11",
           "features_8",
           0.7,
           0.08474223946784923
          ],
          [
           "features_8:11",
           "features_8",
           0.65,
           0.06931356245380636
          ],
          [
           "features_8:11",
           "features_8",
           0.6,
           0.0564139874353289
          ],
          [
           "features_8:11",
           "features_8",
           0.55,
           0.04559312638580931
          ],
          [
           "features_8:11",
           "features_8",
           0.5,
           0.03644678492239468
          ],
          [
           "features_8:11",
           "features_8",
           0.45,
           0.02865160753880266
          ],
          [
           "features_8:11",
           "features_8",
           0.4,
           0.02202281966001478
          ],
          [
           "features_8:11",
           "features_8",
           0.35,
           0.016479582409460458
          ],
          [
           "features_8:11",
           "features_8",
           0.3,
           0.011825572801182557
          ],
          [
           "features_8:11",
           "features_8",
           0.25,
           0.008072339246119734
          ],
          [
           "features_8:11",
           "features_8",
           0.2,
           0.00508130081300813
          ],
          [
           "features_8:11",
           "features_8",
           0.15,
           0.0028293606799704362
          ],
          [
           "features_8:11",
           "features_8",
           0.1,
           0.0013280672579453067
          ],
          [
           "features_8:11",
           "features_8",
           0.05,
           0.00042729120473022913
          ],
          [
           "features_8:11",
           "features_8",
           0.9994657635688782,
           0.5
          ],
          [
           "features_8:11",
           "features_8",
           0.903579592704773,
           0.2
          ],
          [
           "features_8:11",
           "features_8",
           0.7413544654846191,
           0.1
          ],
          [
           "features_8:11",
           "features_8",
           0.5714399218559265,
           0.05
          ],
          [
           "features_8:11",
           "features_8",
           0.2771279811859131,
           0.01
          ],
          [
           "features_8:11",
           "features_8",
           0.1983993649482727,
           0.005
          ],
          [
           "features_8:11",
           "features_8",
           0.0850200280547142,
           0.001
          ]
         ],
         "hovertemplate": "feature_name=features_8:11<br>keep_ratios=%{x}<br>correlations=%{y}<extra></extra>",
         "legendgroup": "features_8:11",
         "marker": {
          "color": "#B6E880",
          "symbol": "circle"
         },
         "mode": "markers",
         "name": "features_8:11",
         "showlegend": true,
         "type": "scattergl",
         "x": [
          0.35882067627494457,
          0.2573332409460458,
          0.1965539541759054,
          0.15642322616407983,
          0.12675535846267555,
          0.10354305247597931,
          0.08474223946784923,
          0.06931356245380636,
          0.0564139874353289,
          0.04559312638580931,
          0.03644678492239468,
          0.02865160753880266,
          0.02202281966001478,
          0.016479582409460458,
          0.011825572801182557,
          0.008072339246119734,
          0.00508130081300813,
          0.0028293606799704362,
          0.0013280672579453067,
          0.00042729120473022913,
          0.5,
          0.2,
          0.1,
          0.05,
          0.01,
          0.005,
          0.001
         ],
         "xaxis": "x",
         "y": [
          0.9982593966567301,
          0.9726172533663832,
          0.9327587468676419,
          0.8836745795778912,
          0.805569521761724,
          0.7623299060468773,
          0.7621845028284937,
          0.7037624297132805,
          0.6707998073053911,
          0.6293351526803748,
          0.5214563061695918,
          0.4804151090151983,
          0.4713535897861101,
          0.30915109301044214,
          0.17386923823284356,
          0.2107565259082818,
          0.1561539984410507,
          0.15534215899394596,
          0.27483218357064665,
          0.2746058582301122,
          0.9999987411478296,
          0.9325755124223325,
          0.7614651183630421,
          0.6581773112919005,
          0.17634428128618282,
          0.15733910343808838,
          0.2606829583419735
         ],
         "yaxis": "y"
        },
        {
         "customdata": [
          [
           "features_6:16",
           "features_6",
           0.9946680665016174,
           0.5
          ],
          [
           "features_6:16",
           "features_6",
           0.9155431985855103,
           0.2
          ],
          [
           "features_6:16",
           "features_6",
           0.822827160358429,
           0.1
          ],
          [
           "features_6:16",
           "features_6",
           0.7218466997146606,
           0.05
          ],
          [
           "features_6:16",
           "features_6",
           0.500905454158783,
           0.01
          ],
          [
           "features_6:16",
           "features_6",
           0.3877470791339874,
           0.005
          ],
          [
           "features_6:16",
           "features_6",
           0.16009235382080078,
           0.001
          ],
          [
           "features_6:16",
           "features_6",
           0.99,
           0.4491003787878788
          ],
          [
           "features_6:16",
           "features_6",
           0.95,
           0.270675505050505
          ],
          [
           "features_6:16",
           "features_6",
           0.9,
           0.17692550505050506
          ],
          [
           "features_6:16",
           "features_6",
           0.85,
           0.12184343434343434
          ],
          [
           "features_6:16",
           "features_6",
           0.8,
           0.0849905303030303
          ],
          [
           "features_6:16",
           "features_6",
           0.75,
           0.060369318181818184
          ],
          [
           "features_6:16",
           "features_6",
           0.7,
           0.04316603535353535
          ],
          [
           "features_6:16",
           "features_6",
           0.65,
           0.030618686868686868
          ],
          [
           "features_6:16",
           "features_6",
           0.6,
           0.02122790404040404
          ],
          [
           "features_6:16",
           "features_6",
           0.55,
           0.014441287878787878
          ],
          [
           "features_6:16",
           "features_6",
           0.5,
           0.009943181818181818
          ],
          [
           "features_6:16",
           "features_6",
           0.45,
           0.007181186868686869
          ],
          [
           "features_6:16",
           "features_6",
           0.4,
           0.005366161616161616
          ],
          [
           "features_6:16",
           "features_6",
           0.35,
           0.004024621212121212
          ],
          [
           "features_6:16",
           "features_6",
           0.3,
           0.0029987373737373735
          ],
          [
           "features_6:16",
           "features_6",
           0.25,
           0.002130681818181818
          ],
          [
           "features_6:16",
           "features_6",
           0.2,
           0.0014204545454545455
          ],
          [
           "features_6:16",
           "features_6",
           0.15,
           0.0008680555555555555
          ],
          [
           "features_6:16",
           "features_6",
           0.1,
           0.0004734848484848485
          ],
          [
           "features_6:16",
           "features_6",
           0.05,
           0.00015782828282828284
          ]
         ],
         "hovertemplate": "feature_name=features_6:16<br>keep_ratios=%{x}<br>correlations=%{y}<extra></extra>",
         "legendgroup": "features_6:16",
         "marker": {
          "color": "#FF97FF",
          "symbol": "circle"
         },
         "mode": "markers",
         "name": "features_6:16",
         "showlegend": true,
         "type": "scattergl",
         "x": [
          0.5,
          0.2,
          0.1,
          0.05,
          0.01,
          0.005,
          0.001,
          0.4491003787878788,
          0.270675505050505,
          0.17692550505050506,
          0.12184343434343434,
          0.0849905303030303,
          0.060369318181818184,
          0.04316603535353535,
          0.030618686868686868,
          0.02122790404040404,
          0.014441287878787878,
          0.009943181818181818,
          0.007181186868686869,
          0.005366161616161616,
          0.004024621212121212,
          0.0029987373737373735,
          0.002130681818181818,
          0.0014204545454545455,
          0.0008680555555555555,
          0.0004734848484848485,
          0.00015782828282828284
         ],
         "xaxis": "x",
         "y": [
          0.9992264784597349,
          0.9153034498643451,
          0.8460844478758434,
          0.6047852617573592,
          -0.10371592778530363,
          0.027319187374717963,
          0.03326296054418311,
          0.9981693686106025,
          0.9669077842897946,
          0.9285001193670709,
          0.882560806047316,
          0.8328400834743376,
          0.6988755532318623,
          0.5597534329428848,
          0.4369169538379592,
          0.31583714072539226,
          0.3818473197307378,
          -0.10371592778530363,
          0.01865961457375407,
          0.025940571517102752,
          0.02567188953220545,
          0.043710330037300446,
          0.038300079660620455,
          0.048841286234604986,
          0.025360234543558357,
          0.005896493434683452,
          0.030506861965024546
         ],
         "yaxis": "y"
        },
        {
         "customdata": [
          [
           "features_8:17",
           "features_8",
           0.9990950226783752,
           0.5
          ],
          [
           "features_8:17",
           "features_8",
           0.8714083433151245,
           0.2
          ],
          [
           "features_8:17",
           "features_8",
           0.6997246742248535,
           0.1
          ],
          [
           "features_8:17",
           "features_8",
           0.5336335301399231,
           0.05
          ],
          [
           "features_8:17",
           "features_8",
           0.2565946578979492,
           0.01
          ],
          [
           "features_8:17",
           "features_8",
           0.18001681566238403,
           0.005
          ],
          [
           "features_8:17",
           "features_8",
           0.07555581629276276,
           0.001
          ],
          [
           "features_8:17",
           "features_8",
           0.99,
           0.40603058019216554
          ],
          [
           "features_8:17",
           "features_8",
           0.95,
           0.29537370657797485
          ],
          [
           "features_8:17",
           "features_8",
           0.9,
           0.22754988913525498
          ],
          [
           "features_8:17",
           "features_8",
           0.85,
           0.18247644124168513
          ],
          [
           "features_8:17",
           "features_8",
           0.8,
           0.14867424242424243
          ],
          [
           "features_8:17",
           "features_8",
           0.75,
           0.1219050258684405
          ],
          [
           "features_8:17",
           "features_8",
           0.7,
           0.10011317442719882
          ],
          [
           "features_8:17",
           "features_8",
           0.65,
           0.08194752402069476
          ],
          [
           "features_8:17",
           "features_8",
           0.6,
           0.06669207317073171
          ],
          [
           "features_8:17",
           "features_8",
           0.55,
           0.053780949741315594
          ],
          [
           "features_8:17",
           "features_8",
           0.5,
           0.042809959349593495
          ],
          [
           "features_8:17",
           "features_8",
           0.45,
           0.03351348854397635
          ],
          [
           "features_8:17",
           "features_8",
           0.4,
           0.025695214338507022
          ],
          [
           "features_8:17",
           "features_8",
           0.35,
           0.01918191056910569
          ],
          [
           "features_8:17",
           "features_8",
           0.3,
           0.01378880266075388
          ],
          [
           "features_8:17",
           "features_8",
           0.25,
           0.009481245380635625
          ],
          [
           "features_8:17",
           "features_8",
           0.2,
           0.006109109386548411
          ],
          [
           "features_8:17",
           "features_8",
           0.15,
           0.0035222653362897267
          ],
          [
           "features_8:17",
           "features_8",
           0.1,
           0.0016629711751662971
          ],
          [
           "features_8:17",
           "features_8",
           0.05,
           0.00048503325942350335
          ]
         ],
         "hovertemplate": "feature_name=features_8:17<br>keep_ratios=%{x}<br>correlations=%{y}<extra></extra>",
         "legendgroup": "features_8:17",
         "marker": {
          "color": "#FECB52",
          "symbol": "circle"
         },
         "mode": "markers",
         "name": "features_8:17",
         "showlegend": true,
         "type": "scattergl",
         "x": [
          0.5,
          0.2,
          0.1,
          0.05,
          0.01,
          0.005,
          0.001,
          0.40603058019216554,
          0.29537370657797485,
          0.22754988913525498,
          0.18247644124168513,
          0.14867424242424243,
          0.1219050258684405,
          0.10011317442719882,
          0.08194752402069476,
          0.06669207317073171,
          0.053780949741315594,
          0.042809959349593495,
          0.03351348854397635,
          0.025695214338507022,
          0.01918191056910569,
          0.01378880266075388,
          0.009481245380635625,
          0.006109109386548411,
          0.0035222653362897267,
          0.0016629711751662971,
          0.00048503325942350335
         ],
         "xaxis": "x",
         "y": [
          0.9999966236828428,
          0.9512009435032934,
          0.7925860640840149,
          0.4386957267630174,
          0.014240844218374286,
          0.046438807069459076,
          -0.280085579561411,
          0.9991301766288676,
          0.9865011574854388,
          0.9635954168121076,
          0.9223252172587524,
          0.9029470019209203,
          0.8559276153977448,
          0.7946924640965105,
          0.7023654941934423,
          0.5962582678101723,
          0.49224576685665544,
          0.2902092189935184,
          0.13946272507278518,
          0.08066401126260041,
          0.08925614166773574,
          0.023071833558807226,
          0.021264149938911972,
          0.0673918073986043,
          -0.04799620062776337,
          -0.2786339571364149,
          -0.2769208314482981
         ],
         "yaxis": "y"
        },
        {
         "customdata": [
          [
           "features_3:18",
           "features_3",
           0.9796653985977173,
           0.5
          ],
          [
           "features_3:18",
           "features_3",
           0.8238904476165771,
           0.2
          ],
          [
           "features_3:18",
           "features_3",
           0.6667471528053284,
           0.1
          ],
          [
           "features_3:18",
           "features_3",
           0.4478724002838135,
           0.05
          ],
          [
           "features_3:18",
           "features_3",
           0.18929116427898407,
           0.01
          ],
          [
           "features_3:18",
           "features_3",
           0.15354999899864197,
           0.005
          ],
          [
           "features_3:18",
           "features_3",
           0.09226182103157043,
           0.001
          ],
          [
           "features_3:18",
           "features_3",
           0.99,
           0.5703125
          ],
          [
           "features_3:18",
           "features_3",
           0.95,
           0.39453125
          ],
          [
           "features_3:18",
           "features_3",
           0.9,
           0.29296875
          ],
          [
           "features_3:18",
           "features_3",
           0.85,
           0.2265625
          ],
          [
           "features_3:18",
           "features_3",
           0.8,
           0.1796875
          ],
          [
           "features_3:18",
           "features_3",
           0.75,
           0.140625
          ],
          [
           "features_3:18",
           "features_3",
           0.7,
           0.11328125
          ],
          [
           "features_3:18",
           "features_3",
           0.65,
           0.09375
          ],
          [
           "features_3:18",
           "features_3",
           0.6,
           0.078125
          ],
          [
           "features_3:18",
           "features_3",
           0.55,
           0.0703125
          ],
          [
           "features_3:18",
           "features_3",
           0.5,
           0.05859375
          ],
          [
           "features_3:18",
           "features_3",
           0.45,
           0.05078125
          ],
          [
           "features_3:18",
           "features_3",
           0.4,
           0.0390625
          ],
          [
           "features_3:18",
           "features_3",
           0.35,
           0.03125
          ],
          [
           "features_3:18",
           "features_3",
           0.3,
           0.0234375
          ],
          [
           "features_3:18",
           "features_3",
           0.25,
           0.015625
          ],
          [
           "features_3:18",
           "features_3",
           0.2,
           0.01171875
          ],
          [
           "features_3:18",
           "features_3",
           0.15,
           0.00390625
          ],
          [
           "features_3:18",
           "features_3",
           0.1,
           0.00390625
          ],
          [
           "features_3:18",
           "features_3",
           0.05,
           0
          ]
         ],
         "hovertemplate": "feature_name=features_3:18<br>keep_ratios=%{x}<br>correlations=%{y}<extra></extra>",
         "legendgroup": "features_3:18",
         "marker": {
          "color": "#636efa",
          "symbol": "circle"
         },
         "mode": "markers",
         "name": "features_3:18",
         "showlegend": true,
         "type": "scattergl",
         "x": [
          0.5,
          0.2,
          0.1,
          0.05,
          0.01,
          0.005,
          0.001,
          0.5703125,
          0.39453125,
          0.29296875,
          0.2265625,
          0.1796875,
          0.140625,
          0.11328125,
          0.09375,
          0.078125,
          0.0703125,
          0.05859375,
          0.05078125,
          0.0390625,
          0.03125,
          0.0234375,
          0.015625,
          0.01171875,
          0.00390625,
          0.00390625,
          0
         ],
         "xaxis": "x",
         "y": [
          0.9993415633379528,
          0.9390807807629094,
          0.7441079239364186,
          -0.2749749514930847,
          0.3092017898639275,
          0.3092017898639275,
          0.30748595032819187,
          0.9997172929830497,
          0.9944881563782242,
          0.9841765853874473,
          0.967616616367329,
          0.9334508249810183,
          0.8197076480208674,
          0.6787643100137779,
          -0.25515684207973643,
          -0.2707215336828727,
          -0.270785184511952,
          -0.270785184511952,
          -0.270785184511952,
          -0.2749749514930847,
          -0.275519462641321,
          -0.275519462641321,
          -0.275519462641321,
          0.3092017898639275,
          0.3092017898639275,
          0.3092017898639275,
          0.30748595032819187
         ],
         "yaxis": "y"
        },
        {
         "customdata": [
          [
           "features_10:2",
           "features_10",
           0.99,
           0.4168849584343609
          ],
          [
           "features_10:2",
           "features_10",
           0.95,
           0.3167485711811569
          ],
          [
           "features_10:2",
           "features_10",
           0.9,
           0.25227312088673365
          ],
          [
           "features_10:2",
           "features_10",
           0.85,
           0.20777948562521648
          ],
          [
           "features_10:2",
           "features_10",
           0.8,
           0.17343912365777625
          ],
          [
           "features_10:2",
           "features_10",
           0.75,
           0.14549597332871492
          ],
          [
           "features_10:2",
           "features_10",
           0.7,
           0.1220828281953585
          ],
          [
           "features_10:2",
           "features_10",
           0.65,
           0.1021388985105646
          ],
          [
           "features_10:2",
           "features_10",
           0.6,
           0.08499307239348805
          ],
          [
           "features_10:2",
           "features_10",
           0.55,
           0.07019613785936958
          ],
          [
           "features_10:2",
           "features_10",
           0.5,
           0.05733676827156217
          ],
          [
           "features_10:2",
           "features_10",
           0.45,
           0.0461389418081053
          ],
          [
           "features_10:2",
           "features_10",
           0.4,
           0.03641323172843783
          ],
          [
           "features_10:2",
           "features_10",
           0.35,
           0.02800268444752338
          ],
          [
           "features_10:2",
           "features_10",
           0.3,
           0.02081529269137513
          ],
          [
           "features_10:2",
           "features_10",
           0.25,
           0.014759049186006234
          ],
          [
           "features_10:2",
           "features_10",
           0.2,
           0.009736534464842397
          ],
          [
           "features_10:2",
           "features_10",
           0.15,
           0.0056828022168340835
          ],
          [
           "features_10:2",
           "features_10",
           0.1,
           0.002624913404918601
          ],
          [
           "features_10:2",
           "features_10",
           0.05,
           0.0006494631104953239
          ],
          [
           "features_10:2",
           "features_10",
           0.9989373087882996,
           0.5
          ],
          [
           "features_10:2",
           "features_10",
           0.8396430611610413,
           0.2
          ],
          [
           "features_10:2",
           "features_10",
           0.644141674041748,
           0.1
          ],
          [
           "features_10:2",
           "features_10",
           0.46803078055381775,
           0.05
          ],
          [
           "features_10:2",
           "features_10",
           0.20285551249980927,
           0.01
          ],
          [
           "features_10:2",
           "features_10",
           0.14007513225078583,
           0.005
          ],
          [
           "features_10:2",
           "features_10",
           0.061532676219940186,
           0.001
          ]
         ],
         "hovertemplate": "feature_name=features_10:2<br>keep_ratios=%{x}<br>correlations=%{y}<extra></extra>",
         "legendgroup": "features_10:2",
         "marker": {
          "color": "#EF553B",
          "symbol": "circle"
         },
         "mode": "markers",
         "name": "features_10:2",
         "showlegend": true,
         "type": "scattergl",
         "x": [
          0.4168849584343609,
          0.3167485711811569,
          0.25227312088673365,
          0.20777948562521648,
          0.17343912365777625,
          0.14549597332871492,
          0.1220828281953585,
          0.1021388985105646,
          0.08499307239348805,
          0.07019613785936958,
          0.05733676827156217,
          0.0461389418081053,
          0.03641323172843783,
          0.02800268444752338,
          0.02081529269137513,
          0.014759049186006234,
          0.009736534464842397,
          0.0056828022168340835,
          0.002624913404918601,
          0.0006494631104953239,
          0.5,
          0.2,
          0.1,
          0.05,
          0.01,
          0.005,
          0.001
         ],
         "xaxis": "x",
         "y": [
          0.9985028798882674,
          0.9779890611206242,
          0.9288424275117952,
          0.8438347862162039,
          0.6587262720974237,
          0.5159083979789117,
          0.3530189462693758,
          0.29395229933751654,
          0.2205838775602174,
          0.11207946946086815,
          0.09978032703243159,
          0.04171438153432773,
          0.017140569522867674,
          -0.02706748637337202,
          -0.06173800708022248,
          -0.1034203441574592,
          -0.09874852982225256,
          -0.10734664308703519,
          0.028739493202928533,
          0.009796320422010582,
          0.9999825701502791,
          0.8162039128587233,
          0.2749980386177736,
          0.07426467909499967,
          -0.10088052960194233,
          -0.0981503639099702,
          0.009320434716053157
         ],
         "yaxis": "y"
        },
        {
         "customdata": [
          [
           "features_6:18",
           "features_6",
           0.99,
           0.4041193181818182
          ],
          [
           "features_6:18",
           "features_6",
           0.95,
           0.2412405303030303
          ],
          [
           "features_6:18",
           "features_6",
           0.9,
           0.16098484848484848
          ],
          [
           "features_6:18",
           "features_6",
           0.85,
           0.11647727272727272
          ],
          [
           "features_6:18",
           "features_6",
           0.8,
           0.08641098484848485
          ],
          [
           "features_6:18",
           "features_6",
           0.75,
           0.06392045454545454
          ],
          [
           "features_6:18",
           "features_6",
           0.7,
           0.04719065656565657
          ],
          [
           "features_6:18",
           "features_6",
           0.65,
           0.03480113636363636
          ],
          [
           "features_6:18",
           "features_6",
           0.6,
           0.025331439393939392
          ],
          [
           "features_6:18",
           "features_6",
           0.55,
           0.017992424242424244
          ],
          [
           "features_6:18",
           "features_6",
           0.5,
           0.01223169191919192
          ],
          [
           "features_6:18",
           "features_6",
           0.45,
           0.008207070707070708
          ],
          [
           "features_6:18",
           "features_6",
           0.4,
           0.00560290404040404
          ],
          [
           "features_6:18",
           "features_6",
           0.35,
           0.004024621212121212
          ],
          [
           "features_6:18",
           "features_6",
           0.3,
           0.0027619949494949495
          ],
          [
           "features_6:18",
           "features_6",
           0.25,
           0.0019728535353535355
          ],
          [
           "features_6:18",
           "features_6",
           0.2,
           0.001341540404040404
          ],
          [
           "features_6:18",
           "features_6",
           0.15,
           0.0007891414141414141
          ],
          [
           "features_6:18",
           "features_6",
           0.1,
           0.00039457070707070706
          ],
          [
           "features_6:18",
           "features_6",
           0.05,
           0.00015782828282828284
          ],
          [
           "features_6:18",
           "features_6",
           0.9972874522209167,
           0.5
          ],
          [
           "features_6:18",
           "features_6",
           0.9287694096565247,
           0.2
          ],
          [
           "features_6:18",
           "features_6",
           0.8246204853057861,
           0.1
          ],
          [
           "features_6:18",
           "features_6",
           0.7094038128852844,
           0.05
          ],
          [
           "features_6:18",
           "features_6",
           0.474017858505249,
           0.01
          ],
          [
           "features_6:18",
           "features_6",
           0.38321447372436523,
           0.005
          ],
          [
           "features_6:18",
           "features_6",
           0.16702693700790405,
           0.001
          ]
         ],
         "hovertemplate": "feature_name=features_6:18<br>keep_ratios=%{x}<br>correlations=%{y}<extra></extra>",
         "legendgroup": "features_6:18",
         "marker": {
          "color": "#00cc96",
          "symbol": "circle"
         },
         "mode": "markers",
         "name": "features_6:18",
         "showlegend": true,
         "type": "scattergl",
         "x": [
          0.4041193181818182,
          0.2412405303030303,
          0.16098484848484848,
          0.11647727272727272,
          0.08641098484848485,
          0.06392045454545454,
          0.04719065656565657,
          0.03480113636363636,
          0.025331439393939392,
          0.017992424242424244,
          0.01223169191919192,
          0.008207070707070708,
          0.00560290404040404,
          0.004024621212121212,
          0.0027619949494949495,
          0.0019728535353535355,
          0.001341540404040404,
          0.0007891414141414141,
          0.00039457070707070706,
          0.00015782828282828284,
          0.5,
          0.2,
          0.1,
          0.05,
          0.01,
          0.005,
          0.001
         ],
         "xaxis": "x",
         "y": [
          0.9979367100657957,
          0.9780653216212084,
          0.9403603793381587,
          0.8753405021147587,
          0.8309756043180208,
          0.7053945332458511,
          0.5882413734578091,
          0.5565704652352215,
          0.4672067527391519,
          0.2900012185621248,
          -0.016453619229078814,
          0.00958077306214539,
          0.08594973974191478,
          0.1398197718204738,
          0.13872369472824503,
          0.14462053894792634,
          0.14230764376448815,
          0.15241801677994923,
          0.1541497742492174,
          0,
          0.9998070619557359,
          0.9620248805103571,
          0.8475479798175203,
          0.5976743769337411,
          0.1673532611251205,
          0.12490510374073825,
          0.14230764376448815
         ],
         "yaxis": "y"
        },
        {
         "customdata": [
          [
           "features_10:4",
           "features_10",
           0.999201238155365,
           0.5
          ],
          [
           "features_10:4",
           "features_10",
           0.8493261337280273,
           0.2
          ],
          [
           "features_10:4",
           "features_10",
           0.653933584690094,
           0.1
          ],
          [
           "features_10:4",
           "features_10",
           0.47575297951698303,
           0.05
          ],
          [
           "features_10:4",
           "features_10",
           0.20751172304153442,
           0.01
          ],
          [
           "features_10:4",
           "features_10",
           0.14496558904647827,
           0.005
          ],
          [
           "features_10:4",
           "features_10",
           0.06715211272239685,
           0.001
          ],
          [
           "features_10:4",
           "features_10",
           0.99,
           0.40496731035677175
          ],
          [
           "features_10:4",
           "features_10",
           0.95,
           0.3062922151021822
          ],
          [
           "features_10:4",
           "features_10",
           0.9,
           0.24361902493938345
          ],
          [
           "features_10:4",
           "features_10",
           0.85,
           0.20050549878766885
          ],
          [
           "features_10:4",
           "features_10",
           0.8,
           0.1672908728784205
          ],
          [
           "features_10:4",
           "features_10",
           0.75,
           0.14029485625216487
          ],
          [
           "features_10:4",
           "features_10",
           0.7,
           0.11776931070315207
          ],
          [
           "features_10:4",
           "features_10",
           0.65,
           0.09859932455836508
          ],
          [
           "features_10:4",
           "features_10",
           0.6,
           0.08210837374437131
          ],
          [
           "features_10:4",
           "features_10",
           0.55,
           0.06783642189123658
          ],
          [
           "features_10:4",
           "features_10",
           0.5,
           0.055437088673363354
          ],
          [
           "features_10:4",
           "features_10",
           0.45,
           0.044601879113266366
          ],
          [
           "features_10:4",
           "features_10",
           0.4,
           0.03519007620367163
          ],
          [
           "features_10:4",
           "features_10",
           0.35,
           0.02706637512989262
          ],
          [
           "features_10:4",
           "features_10",
           0.3,
           0.020111707655005195
          ],
          [
           "features_10:4",
           "features_10",
           0.25,
           0.014223242119847592
          ],
          [
           "features_10:4",
           "features_10",
           0.2,
           0.009319795635607897
          ],
          [
           "features_10:4",
           "features_10",
           0.15,
           0.0053472462764114995
          ],
          [
           "features_10:4",
           "features_10",
           0.1,
           0.002348891582958088
          ],
          [
           "features_10:4",
           "features_10",
           0.05,
           0.0005249826809837202
          ]
         ],
         "hovertemplate": "feature_name=features_10:4<br>keep_ratios=%{x}<br>correlations=%{y}<extra></extra>",
         "legendgroup": "features_10:4",
         "marker": {
          "color": "#ab63fa",
          "symbol": "circle"
         },
         "mode": "markers",
         "name": "features_10:4",
         "showlegend": true,
         "type": "scattergl",
         "x": [
          0.5,
          0.2,
          0.1,
          0.05,
          0.01,
          0.005,
          0.001,
          0.40496731035677175,
          0.3062922151021822,
          0.24361902493938345,
          0.20050549878766885,
          0.1672908728784205,
          0.14029485625216487,
          0.11776931070315207,
          0.09859932455836508,
          0.08210837374437131,
          0.06783642189123658,
          0.055437088673363354,
          0.044601879113266366,
          0.03519007620367163,
          0.02706637512989262,
          0.020111707655005195,
          0.014223242119847592,
          0.009319795635607897,
          0.0053472462764114995,
          0.002348891582958088,
          0.0005249826809837202
         ],
         "xaxis": "x",
         "y": [
          0.9999917230698285,
          0.7976605669122153,
          0.2579068438858608,
          0.1281603625161321,
          0.15152904763333885,
          -0.026468916486628816,
          0.20573093223822297,
          0.9985631123541012,
          0.9829354586308894,
          0.9131149568181004,
          0.7997708051851933,
          0.6459407574557114,
          0.5110988577222715,
          0.38329349565047954,
          0.2623648016524165,
          0.24444325759015895,
          0.2064800288150816,
          0.1608253966994024,
          0.13809292860538458,
          0.10202446447228923,
          0.09705845241781316,
          0.05943478817835968,
          0.08335106822352799,
          0.15985237504142835,
          -0.06862253753674308,
          -0.043451343573230175,
          -0.01902161999274305
         ],
         "yaxis": "y"
        },
        {
         "customdata": [
          [
           "features_6:10",
           "features_6",
           0.99,
           0.34887941919191917
          ],
          [
           "features_6:10",
           "features_6",
           0.95,
           0.21661931818181818
          ],
          [
           "features_6:10",
           "features_6",
           0.9,
           0.14962121212121213
          ],
          [
           "features_6:10",
           "features_6",
           0.85,
           0.10929608585858586
          ],
          [
           "features_6:10",
           "features_6",
           0.8,
           0.08207070707070707
          ],
          [
           "features_6:10",
           "features_6",
           0.75,
           0.06178977272727273
          ],
          [
           "features_6:10",
           "features_6",
           0.7,
           0.04655934343434343
          ],
          [
           "features_6:10",
           "features_6",
           0.65,
           0.03511679292929293
          ],
          [
           "features_6:10",
           "features_6",
           0.6,
           0.026199494949494948
          ],
          [
           "features_6:10",
           "features_6",
           0.55,
           0.019333964646464648
          ],
          [
           "features_6:10",
           "features_6",
           0.5,
           0.013888888888888888
          ],
          [
           "features_6:10",
           "features_6",
           0.45,
           0.009706439393939394
          ],
          [
           "features_6:10",
           "features_6",
           0.4,
           0.006786616161616162
          ],
          [
           "features_6:10",
           "features_6",
           0.35,
           0.004655934343434343
          ],
          [
           "features_6:10",
           "features_6",
           0.3,
           0.0033143939393939395
          ],
          [
           "features_6:10",
           "features_6",
           0.25,
           0.0023674242424242425
          ],
          [
           "features_6:10",
           "features_6",
           0.2,
           0.0015782828282828283
          ],
          [
           "features_6:10",
           "features_6",
           0.15,
           0.0010258838383838385
          ],
          [
           "features_6:10",
           "features_6",
           0.1,
           0.0005523989898989899
          ],
          [
           "features_6:10",
           "features_6",
           0.05,
           0.00023674242424242425
          ],
          [
           "features_6:10",
           "features_6",
           0.9994521141052246,
           0.5
          ],
          [
           "features_6:10",
           "features_6",
           0.9404243230819702,
           0.2
          ],
          [
           "features_6:10",
           "features_6",
           0.8348369598388672,
           0.1
          ],
          [
           "features_6:10",
           "features_6",
           0.7127611637115479,
           0.05
          ],
          [
           "features_6:10",
           "features_6",
           0.4540259540081024,
           0.01
          ],
          [
           "features_6:10",
           "features_6",
           0.35940301418304443,
           0.005
          ],
          [
           "features_6:10",
           "features_6",
           0.14619436860084534,
           0.001
          ]
         ],
         "hovertemplate": "feature_name=features_6:10<br>keep_ratios=%{x}<br>correlations=%{y}<extra></extra>",
         "legendgroup": "features_6:10",
         "marker": {
          "color": "#FFA15A",
          "symbol": "circle"
         },
         "mode": "markers",
         "name": "features_6:10",
         "showlegend": true,
         "type": "scattergl",
         "x": [
          0.34887941919191917,
          0.21661931818181818,
          0.14962121212121213,
          0.10929608585858586,
          0.08207070707070707,
          0.06178977272727273,
          0.04655934343434343,
          0.03511679292929293,
          0.026199494949494948,
          0.019333964646464648,
          0.013888888888888888,
          0.009706439393939394,
          0.006786616161616162,
          0.004655934343434343,
          0.0033143939393939395,
          0.0023674242424242425,
          0.0015782828282828283,
          0.0010258838383838385,
          0.0005523989898989899,
          0.00023674242424242425,
          0.5,
          0.2,
          0.1,
          0.05,
          0.01,
          0.005,
          0.001
         ],
         "xaxis": "x",
         "y": [
          0.9982587450594331,
          0.9750782945103256,
          0.9282639984692045,
          0.9176805739514399,
          0.8961833197138718,
          0.6951990381166706,
          0.6705975263074272,
          0.4968899960688234,
          0.3106102002982656,
          0.3040085567920686,
          0.2047132785836294,
          0.1615087428306587,
          0.05374788800958794,
          0.033037871742522484,
          0.05854282572902168,
          0.05625294579527625,
          0.07903815787792035,
          0.0871874896978234,
          -0.08002484644879143,
          -0.021950541068770445,
          0.999996931826891,
          0.9663930611396068,
          0.9009002534468409,
          0.6915958408683245,
          0.1615087428306587,
          0.05784475969484023,
          0.0871874896978234
         ],
         "yaxis": "y"
        },
        {
         "customdata": [
          [
           "features_8:14",
           "features_8",
           0.9991328716278076,
           0.5
          ],
          [
           "features_8:14",
           "features_8",
           0.8840866684913635,
           0.2
          ],
          [
           "features_8:14",
           "features_8",
           0.7212330102920532,
           0.1
          ],
          [
           "features_8:14",
           "features_8",
           0.5574600696563721,
           0.05
          ],
          [
           "features_8:14",
           "features_8",
           0.26782792806625366,
           0.01
          ],
          [
           "features_8:14",
           "features_8",
           0.18807783722877502,
           0.005
          ],
          [
           "features_8:14",
           "features_8",
           0.07715576142072678,
           0.001
          ],
          [
           "features_8:14",
           "features_8",
           0.99,
           0.39690733555062824
          ],
          [
           "features_8:14",
           "features_8",
           0.95,
           0.28358277900960827
          ],
          [
           "features_8:14",
           "features_8",
           0.9,
           0.21581670362158167
          ],
          [
           "features_8:14",
           "features_8",
           0.85,
           0.17143616038433113
          ],
          [
           "features_8:14",
           "features_8",
           0.8,
           0.13840770509977826
          ],
          [
           "features_8:14",
           "features_8",
           0.75,
           0.11253926459719142
          ],
          [
           "features_8:14",
           "features_8",
           0.7,
           0.09167128603104213
          ],
          [
           "features_8:14",
           "features_8",
           0.65,
           0.074544992609017
          ],
          [
           "features_8:14",
           "features_8",
           0.6,
           0.06025960827790096
          ],
          [
           "features_8:14",
           "features_8",
           0.55,
           0.04836474501108647
          ],
          [
           "features_8:14",
           "features_8",
           0.5,
           0.038479305247597934
          ],
          [
           "features_8:14",
           "features_8",
           0.45,
           0.030175997782705098
          ],
          [
           "features_8:14",
           "features_8",
           0.4,
           0.023200757575757576
          ],
          [
           "features_8:14",
           "features_8",
           0.35,
           0.017334164818920916
          ],
          [
           "features_8:14",
           "features_8",
           0.3,
           0.012576219512195123
          ],
          [
           "features_8:14",
           "features_8",
           0.25,
           0.00870750184774575
          ],
          [
           "features_8:14",
           "features_8",
           0.2,
           0.005612527716186253
          ],
          [
           "features_8:14",
           "features_8",
           0.15,
           0.00326820029563932
          ],
          [
           "features_8:14",
           "features_8",
           0.1,
           0.0015590354767184035
          ],
          [
           "features_8:14",
           "features_8",
           0.05,
           0.00048503325942350335
          ]
         ],
         "hovertemplate": "feature_name=features_8:14<br>keep_ratios=%{x}<br>correlations=%{y}<extra></extra>",
         "legendgroup": "features_8:14",
         "marker": {
          "color": "#19d3f3",
          "symbol": "circle"
         },
         "mode": "markers",
         "name": "features_8:14",
         "showlegend": true,
         "type": "scattergl",
         "x": [
          0.5,
          0.2,
          0.1,
          0.05,
          0.01,
          0.005,
          0.001,
          0.39690733555062824,
          0.28358277900960827,
          0.21581670362158167,
          0.17143616038433113,
          0.13840770509977826,
          0.11253926459719142,
          0.09167128603104213,
          0.074544992609017,
          0.06025960827790096,
          0.04836474501108647,
          0.038479305247597934,
          0.030175997782705098,
          0.023200757575757576,
          0.017334164818920916,
          0.012576219512195123,
          0.00870750184774575,
          0.005612527716186253,
          0.00326820029563932,
          0.0015590354767184035,
          0.00048503325942350335
         ],
         "xaxis": "x",
         "y": [
          0.9999960779276297,
          0.8702767063998165,
          0.6313684640308391,
          0.19706113271868858,
          0.03597661421911432,
          -0.04105754419280417,
          -0.11244211010763955,
          0.9986093845218024,
          0.9791224177397808,
          0.8995097900391122,
          0.8414299146440571,
          0.729871231932871,
          0.6597931447936618,
          0.5864210653243731,
          0.46595305177750124,
          0.2761676827710784,
          0.16783897148318005,
          0.09978797470385929,
          0.06351353924442336,
          0.07457052120899438,
          0.09970838236837132,
          0.06831540864425843,
          0.05536038984119374,
          -0.022988911587392174,
          -0.07240084327860856,
          -0.05193717651724618,
          -0.07277122790143897
         ],
         "yaxis": "y"
        },
        {
         "customdata": [
          [
           "features_8:9",
           "features_8",
           0.99,
           0.36929508499630453
          ],
          [
           "features_8:9",
           "features_8",
           0.95,
           0.2669415188470067
          ],
          [
           "features_8:9",
           "features_8",
           0.9,
           0.2052499076127125
          ],
          [
           "features_8:9",
           "features_8",
           0.85,
           0.16431079083518108
          ],
          [
           "features_8:9",
           "features_8",
           0.8,
           0.13393847006651885
          ],
          [
           "features_8:9",
           "features_8",
           0.75,
           0.1101140983000739
          ],
          [
           "features_8:9",
           "features_8",
           0.7,
           0.09060883222468588
          ],
          [
           "features_8:9",
           "features_8",
           0.65,
           0.07436021803399852
          ],
          [
           "features_8:9",
           "features_8",
           0.6,
           0.0607099963045085
          ],
          [
           "features_8:9",
           "features_8",
           0.55,
           0.049150036954915
          ],
          [
           "features_8:9",
           "features_8",
           0.5,
           0.0393569844789357
          ],
          [
           "features_8:9",
           "features_8",
           0.45,
           0.0310190317812269
          ],
          [
           "features_8:9",
           "features_8",
           0.4,
           0.023928307464892832
          ],
          [
           "features_8:9",
           "features_8",
           0.35,
           0.01794623059866962
          ],
          [
           "features_8:9",
           "features_8",
           0.3,
           0.012968865484109386
          ],
          [
           "features_8:9",
           "features_8",
           0.25,
           0.008915373244641537
          ],
          [
           "features_8:9",
           "features_8",
           0.2,
           0.0056587213599408725
          ],
          [
           "features_8:9",
           "features_8",
           0.15,
           0.003210458240946046
          ],
          [
           "features_8:9",
           "features_8",
           0.1,
           0.001466648189209165
          ],
          [
           "features_8:9",
           "features_8",
           0.05,
           0.0004734848484848485
          ],
          [
           "features_8:9",
           "features_8",
           0.9993852376937866,
           0.5
          ],
          [
           "features_8:9",
           "features_8",
           0.894467830657959,
           0.2
          ],
          [
           "features_8:9",
           "features_8",
           0.7252696752548218,
           0.1
          ],
          [
           "features_8:9",
           "features_8",
           0.5539522171020508,
           0.05
          ],
          [
           "features_8:9",
           "features_8",
           0.26437246799468994,
           0.01
          ],
          [
           "features_8:9",
           "features_8",
           0.18777956068515778,
           0.005
          ],
          [
           "features_8:9",
           "features_8",
           0.07996106892824173,
           0.001
          ]
         ],
         "hovertemplate": "feature_name=features_8:9<br>keep_ratios=%{x}<br>correlations=%{y}<extra></extra>",
         "legendgroup": "features_8:9",
         "marker": {
          "color": "#FF6692",
          "symbol": "circle"
         },
         "mode": "markers",
         "name": "features_8:9",
         "showlegend": true,
         "type": "scattergl",
         "x": [
          0.36929508499630453,
          0.2669415188470067,
          0.2052499076127125,
          0.16431079083518108,
          0.13393847006651885,
          0.1101140983000739,
          0.09060883222468588,
          0.07436021803399852,
          0.0607099963045085,
          0.049150036954915,
          0.0393569844789357,
          0.0310190317812269,
          0.023928307464892832,
          0.01794623059866962,
          0.012968865484109386,
          0.008915373244641537,
          0.0056587213599408725,
          0.003210458240946046,
          0.001466648189209165,
          0.0004734848484848485,
          0.5,
          0.2,
          0.1,
          0.05,
          0.01,
          0.005,
          0.001
         ],
         "xaxis": "x",
         "y": [
          0.9979536723815678,
          0.9792009899555618,
          0.9355482675491656,
          0.8678866680772017,
          0.8322737867017684,
          0.7693690481824627,
          0.7241250842463967,
          0.6730032173964099,
          0.6343652114005195,
          0.583613211563341,
          0.5314788652810001,
          0.5253246745579925,
          0.5127204047167556,
          0.08803079067690095,
          0.1425407750710548,
          -0.12389752212357383,
          -0.15136408803404933,
          -0.058427504285936405,
          -0.06239391367769459,
          -0.0706859810566912,
          0.9999972272422681,
          0.9223558100239272,
          0.752438902307772,
          0.5850600720126564,
          0.174777641266359,
          -0.19756111627406972,
          -0.06220181595974417
         ],
         "yaxis": "y"
        },
        {
         "customdata": [
          [
           "features_3:13",
           "features_3",
           0.9933129549026489,
           0.5
          ],
          [
           "features_3:13",
           "features_3",
           0.8797244429588318,
           0.2
          ],
          [
           "features_3:13",
           "features_3",
           0.7241910099983215,
           0.1
          ],
          [
           "features_3:13",
           "features_3",
           0.533118486404419,
           0.05
          ],
          [
           "features_3:13",
           "features_3",
           0.1907750517129898,
           0.01
          ],
          [
           "features_3:13",
           "features_3",
           0.13464058935642242,
           0.005
          ],
          [
           "features_3:13",
           "features_3",
           0.06797612458467484,
           0.001
          ],
          [
           "features_3:13",
           "features_3",
           0.99,
           0.46484375
          ],
          [
           "features_3:13",
           "features_3",
           0.95,
           0.30078125
          ],
          [
           "features_3:13",
           "features_3",
           0.9,
           0.22265625
          ],
          [
           "features_3:13",
           "features_3",
           0.85,
           0.17578125
          ],
          [
           "features_3:13",
           "features_3",
           0.8,
           0.140625
          ],
          [
           "features_3:13",
           "features_3",
           0.75,
           0.11328125
          ],
          [
           "features_3:13",
           "features_3",
           0.7,
           0.08984375
          ],
          [
           "features_3:13",
           "features_3",
           0.65,
           0.07421875
          ],
          [
           "features_3:13",
           "features_3",
           0.6,
           0.0625
          ],
          [
           "features_3:13",
           "features_3",
           0.55,
           0.05078125
          ],
          [
           "features_3:13",
           "features_3",
           0.5,
           0.04296875
          ],
          [
           "features_3:13",
           "features_3",
           0.45,
           0.03515625
          ],
          [
           "features_3:13",
           "features_3",
           0.4,
           0.02734375
          ],
          [
           "features_3:13",
           "features_3",
           0.35,
           0.0234375
          ],
          [
           "features_3:13",
           "features_3",
           0.3,
           0.01953125
          ],
          [
           "features_3:13",
           "features_3",
           0.25,
           0.015625
          ],
          [
           "features_3:13",
           "features_3",
           0.2,
           0.01171875
          ],
          [
           "features_3:13",
           "features_3",
           0.15,
           0.0078125
          ],
          [
           "features_3:13",
           "features_3",
           0.1,
           0.00390625
          ],
          [
           "features_3:13",
           "features_3",
           0.05,
           0
          ]
         ],
         "hovertemplate": "feature_name=features_3:13<br>keep_ratios=%{x}<br>correlations=%{y}<extra></extra>",
         "legendgroup": "features_3:13",
         "marker": {
          "color": "#B6E880",
          "symbol": "circle"
         },
         "mode": "markers",
         "name": "features_3:13",
         "showlegend": true,
         "type": "scattergl",
         "x": [
          0.5,
          0.2,
          0.1,
          0.05,
          0.01,
          0.005,
          0.001,
          0.46484375,
          0.30078125,
          0.22265625,
          0.17578125,
          0.140625,
          0.11328125,
          0.08984375,
          0.07421875,
          0.0625,
          0.05078125,
          0.04296875,
          0.03515625,
          0.02734375,
          0.0234375,
          0.01953125,
          0.015625,
          0.01171875,
          0.0078125,
          0.00390625,
          0
         ],
         "xaxis": "x",
         "y": [
          0.9983790899738687,
          0.9522432812663654,
          0.7503093175139317,
          0.37073509523723386,
          0,
          0,
          0,
          0.9976136175881163,
          0.9813733549810733,
          0.9518182820955141,
          0.9420759979751818,
          0.8577982196765614,
          0.818628364703077,
          0.7106060256597252,
          0.6142359285193075,
          0.5764808324940917,
          0.37073509523723386,
          0.3459797461731835,
          0.1037151095116528,
          0.1037151095116528,
          0.1037151095116528,
          0.10339378553736903,
          0,
          0,
          0,
          0,
          0
         ],
         "yaxis": "y"
        },
        {
         "customdata": [
          [
           "features_8:15",
           "features_8",
           0.9988444447517395,
           0.5
          ],
          [
           "features_8:15",
           "features_8",
           0.8651184439659119,
           0.2
          ],
          [
           "features_8:15",
           "features_8",
           0.6902086138725281,
           0.1
          ],
          [
           "features_8:15",
           "features_8",
           0.521622896194458,
           0.05
          ],
          [
           "features_8:15",
           "features_8",
           0.24847537279129028,
           0.01
          ],
          [
           "features_8:15",
           "features_8",
           0.17749226093292236,
           0.005
          ],
          [
           "features_8:15",
           "features_8",
           0.07105650752782822,
           0.001
          ],
          [
           "features_8:15",
           "features_8",
           0.99,
           0.4134562084257206
          ],
          [
           "features_8:15",
           "features_8",
           0.95,
           0.3022219142645972
          ],
          [
           "features_8:15",
           "features_8",
           0.9,
           0.23346267553584626
          ],
          [
           "features_8:15",
           "features_8",
           0.85,
           0.1876270325203252
          ],
          [
           "features_8:15",
           "features_8",
           0.8,
           0.15318967110125647
          ],
          [
           "features_8:15",
           "features_8",
           0.75,
           0.12599316334072433
          ],
          [
           "features_8:15",
           "features_8",
           0.7,
           0.1038779563932003
          ],
          [
           "features_8:15",
           "features_8",
           0.65,
           0.08548133776792313
          ],
          [
           "features_8:15",
           "features_8",
           0.6,
           0.06991407982261641
          ],
          [
           "features_8:15",
           "features_8",
           0.55,
           0.05661031042128603
          ],
          [
           "features_8:15",
           "features_8",
           0.5,
           0.04533906134515891
          ],
          [
           "features_8:15",
           "features_8",
           0.45,
           0.035719235033259425
          ],
          [
           "features_8:15",
           "features_8",
           0.4,
           0.02757760532150776
          ],
          [
           "features_8:15",
           "features_8",
           0.35,
           0.020671655580192166
          ],
          [
           "features_8:15",
           "features_8",
           0.3,
           0.01488590169992609
          ],
          [
           "features_8:15",
           "features_8",
           0.25,
           0.010127956393200296
          ],
          [
           "features_8:15",
           "features_8",
           0.2,
           0.006363174427198817
          ],
          [
           "features_8:15",
           "features_8",
           0.15,
           0.003556910569105691
          ],
          [
           "features_8:15",
           "features_8",
           0.1,
           0.0016976164079822616
          ],
          [
           "features_8:15",
           "features_8",
           0.05,
           0.0006120657797487065
          ]
         ],
         "hovertemplate": "feature_name=features_8:15<br>keep_ratios=%{x}<br>correlations=%{y}<extra></extra>",
         "legendgroup": "features_8:15",
         "marker": {
          "color": "#FF97FF",
          "symbol": "circle"
         },
         "mode": "markers",
         "name": "features_8:15",
         "showlegend": true,
         "type": "scattergl",
         "x": [
          0.5,
          0.2,
          0.1,
          0.05,
          0.01,
          0.005,
          0.001,
          0.4134562084257206,
          0.3022219142645972,
          0.23346267553584626,
          0.1876270325203252,
          0.15318967110125647,
          0.12599316334072433,
          0.1038779563932003,
          0.08548133776792313,
          0.06991407982261641,
          0.05661031042128603,
          0.04533906134515891,
          0.035719235033259425,
          0.02757760532150776,
          0.020671655580192166,
          0.01488590169992609,
          0.010127956393200296,
          0.006363174427198817,
          0.003556910569105691,
          0.0016976164079822616,
          0.0006120657797487065
         ],
         "xaxis": "x",
         "y": [
          0.9999914470885242,
          0.8967128047333992,
          0.7350422374274783,
          0.5103387536326163,
          0.14538937369141403,
          0.09328824254050616,
          0.11669492677144236,
          0.9986876643555778,
          0.9814548105565881,
          0.9370292471894899,
          0.8978257737934223,
          0.861235920237376,
          0.7965232208177305,
          0.7495452347467622,
          0.6402272251943302,
          0.5799377267689056,
          0.5281676947760865,
          0.46314907863058463,
          0.41054676189400374,
          0.33896507870221293,
          0.1862723068897823,
          0.14391417195086542,
          0.14715781871934064,
          0.10263224265975249,
          0.06134659221916236,
          0.12371300987776442,
          0.1144538993936674
         ],
         "yaxis": "y"
        },
        {
         "customdata": [
          [
           "features_3:19",
           "features_3",
           0.99,
           0.6953125
          ],
          [
           "features_3:19",
           "features_3",
           0.95,
           0.45703125
          ],
          [
           "features_3:19",
           "features_3",
           0.9,
           0.3359375
          ],
          [
           "features_3:19",
           "features_3",
           0.85,
           0.26953125
          ],
          [
           "features_3:19",
           "features_3",
           0.8,
           0.21875
          ],
          [
           "features_3:19",
           "features_3",
           0.75,
           0.18359375
          ],
          [
           "features_3:19",
           "features_3",
           0.7,
           0.15234375
          ],
          [
           "features_3:19",
           "features_3",
           0.65,
           0.125
          ],
          [
           "features_3:19",
           "features_3",
           0.6,
           0.1015625
          ],
          [
           "features_3:19",
           "features_3",
           0.55,
           0.08203125
          ],
          [
           "features_3:19",
           "features_3",
           0.5,
           0.06640625
          ],
          [
           "features_3:19",
           "features_3",
           0.45,
           0.05078125
          ],
          [
           "features_3:19",
           "features_3",
           0.4,
           0.04296875
          ],
          [
           "features_3:19",
           "features_3",
           0.35,
           0.03125
          ],
          [
           "features_3:19",
           "features_3",
           0.3,
           0.0234375
          ],
          [
           "features_3:19",
           "features_3",
           0.25,
           0.01953125
          ],
          [
           "features_3:19",
           "features_3",
           0.2,
           0.01171875
          ],
          [
           "features_3:19",
           "features_3",
           0.15,
           0.0078125
          ],
          [
           "features_3:19",
           "features_3",
           0.1,
           0.00390625
          ],
          [
           "features_3:19",
           "features_3",
           0.05,
           0
          ],
          [
           "features_3:19",
           "features_3",
           0.9603211879730225,
           0.5
          ],
          [
           "features_3:19",
           "features_3",
           0.7751500010490417,
           0.2
          ],
          [
           "features_3:19",
           "features_3",
           0.5974463820457458,
           0.1
          ],
          [
           "features_3:19",
           "features_3",
           0.4321070909500122,
           0.05
          ],
          [
           "features_3:19",
           "features_3",
           0.1625635176897049,
           0.01
          ],
          [
           "features_3:19",
           "features_3",
           0.11821891367435455,
           0.005
          ],
          [
           "features_3:19",
           "features_3",
           0.06636612117290497,
           0.001
          ]
         ],
         "hovertemplate": "feature_name=features_3:19<br>keep_ratios=%{x}<br>correlations=%{y}<extra></extra>",
         "legendgroup": "features_3:19",
         "marker": {
          "color": "#FECB52",
          "symbol": "circle"
         },
         "mode": "markers",
         "name": "features_3:19",
         "showlegend": true,
         "type": "scattergl",
         "x": [
          0.6953125,
          0.45703125,
          0.3359375,
          0.26953125,
          0.21875,
          0.18359375,
          0.15234375,
          0.125,
          0.1015625,
          0.08203125,
          0.06640625,
          0.05078125,
          0.04296875,
          0.03125,
          0.0234375,
          0.01953125,
          0.01171875,
          0.0078125,
          0.00390625,
          0,
          0.5,
          0.2,
          0.1,
          0.05,
          0.01,
          0.005,
          0.001
         ],
         "xaxis": "x",
         "y": [
          0.9880328048732491,
          0.9619486936242503,
          0.9374656420642185,
          0.9344096148275878,
          0.844870322783529,
          0.5806523665928999,
          0.4133805401680265,
          0.04916682706988014,
          0.4467404890155392,
          0.6081722776259018,
          0.6535224099508479,
          0.6535317473344068,
          -0.07143684896088494,
          -0.07143684896088494,
          0.11916838036168269,
          0.11916838036168269,
          0.11916838036168269,
          0.11916838036168269,
          0.11916838036168269,
          0.12371833933480447,
          0.967096259761812,
          0.7344394495951603,
          0.6609363540516366,
          -0.07143831945778853,
          0.11916838036168269,
          0.11916838036168269,
          0.12371833933480447
         ],
         "yaxis": "y"
        },
        {
         "customdata": [
          [
           "features_6:9",
           "features_6",
           0.9997925162315369,
           0.5
          ],
          [
           "features_6:9",
           "features_6",
           0.9744728803634644,
           0.2
          ],
          [
           "features_6:9",
           "features_6",
           0.9011993408203125,
           0.1
          ],
          [
           "features_6:9",
           "features_6",
           0.800204336643219,
           0.05
          ],
          [
           "features_6:9",
           "features_6",
           0.5576923489570618,
           0.01
          ],
          [
           "features_6:9",
           "features_6",
           0.45759621262550354,
           0.005
          ],
          [
           "features_6:9",
           "features_6",
           0.18799525499343872,
           0.001
          ],
          [
           "features_6:9",
           "features_6",
           0.99,
           0.25583964646464646
          ],
          [
           "features_6:9",
           "features_6",
           0.95,
           0.15254103535353536
          ],
          [
           "features_6:9",
           "features_6",
           0.9,
           0.09911616161616162
          ],
          [
           "features_6:9",
           "features_6",
           0.85,
           0.06920770202020202
          ],
          [
           "features_6:9",
           "features_6",
           0.8,
           0.04995265151515151
          ],
          [
           "features_6:9",
           "features_6",
           0.75,
           0.03637941919191919
          ],
          [
           "features_6:9",
           "features_6",
           0.7,
           0.026357323232323232
          ],
          [
           "features_6:9",
           "features_6",
           0.65,
           0.018781565656565656
          ],
          [
           "features_6:9",
           "features_6",
           0.6,
           0.013336489898989898
          ],
          [
           "features_6:9",
           "features_6",
           0.55,
           0.00946969696969697
          ],
          [
           "features_6:9",
           "features_6",
           0.5,
           0.006628787878787879
          ],
          [
           "features_6:9",
           "features_6",
           0.45,
           0.004813762626262626
          ],
          [
           "features_6:9",
           "features_6",
           0.4,
           0.003630050505050505
          ],
          [
           "features_6:9",
           "features_6",
           0.35,
           0.0027619949494949495
          ],
          [
           "features_6:9",
           "features_6",
           0.3,
           0.002051767676767677
          ],
          [
           "features_6:9",
           "features_6",
           0.25,
           0.0015782828282828283
          ],
          [
           "features_6:9",
           "features_6",
           0.2,
           0.0011047979797979798
          ],
          [
           "features_6:9",
           "features_6",
           0.15,
           0.0007102272727272727
          ],
          [
           "features_6:9",
           "features_6",
           0.1,
           0.00039457070707070706
          ],
          [
           "features_6:9",
           "features_6",
           0.05,
           0.00015782828282828284
          ]
         ],
         "hovertemplate": "feature_name=features_6:9<br>keep_ratios=%{x}<br>correlations=%{y}<extra></extra>",
         "legendgroup": "features_6:9",
         "marker": {
          "color": "#636efa",
          "symbol": "circle"
         },
         "mode": "markers",
         "name": "features_6:9",
         "showlegend": true,
         "type": "scattergl",
         "x": [
          0.5,
          0.2,
          0.1,
          0.05,
          0.01,
          0.005,
          0.001,
          0.25583964646464646,
          0.15254103535353536,
          0.09911616161616162,
          0.06920770202020202,
          0.04995265151515151,
          0.03637941919191919,
          0.026357323232323232,
          0.018781565656565656,
          0.013336489898989898,
          0.00946969696969697,
          0.006628787878787879,
          0.004813762626262626,
          0.003630050505050505,
          0.0027619949494949495,
          0.002051767676767677,
          0.0015782828282828283,
          0.0011047979797979798,
          0.0007102272727272727,
          0.00039457070707070706,
          0.00015782828282828284
         ],
         "xaxis": "x",
         "y": [
          0.9999999562133823,
          0.9983681375055758,
          0.9727044432187459,
          0.9022801895453626,
          0.6980771722455126,
          0.734425783226237,
          -0.059938575794265536,
          0.9995051423738116,
          0.9949754816139108,
          0.9711428407667608,
          0.9385168431086133,
          0.9022801895453626,
          0.8504852847974294,
          0.7674018956999384,
          0.8006603326843202,
          0.7855901981308744,
          0.718404583907446,
          0.6455386653857462,
          -0.06638038488183476,
          -0.0608135522180762,
          -0.07546739478292729,
          -0.06093142453203399,
          -0.03105601430413365,
          -0.0665703143889088,
          0.04068784178911118,
          0.10589022112466337,
          0.10511096688893141
         ],
         "yaxis": "y"
        },
        {
         "customdata": [
          [
           "features_3:10",
           "features_3",
           0.9683754444122314,
           0.5
          ],
          [
           "features_3:10",
           "features_3",
           0.8020773530006409,
           0.2
          ],
          [
           "features_3:10",
           "features_3",
           0.6374008059501648,
           0.1
          ],
          [
           "features_3:10",
           "features_3",
           0.4485669732093811,
           0.05
          ],
          [
           "features_3:10",
           "features_3",
           0.18709954619407654,
           0.01
          ],
          [
           "features_3:10",
           "features_3",
           0.1493794471025467,
           0.005
          ],
          [
           "features_3:10",
           "features_3",
           0.10859754681587219,
           0.001
          ],
          [
           "features_3:10",
           "features_3",
           0.99,
           0.640625
          ],
          [
           "features_3:10",
           "features_3",
           0.95,
           0.4296875
          ],
          [
           "features_3:10",
           "features_3",
           0.9,
           0.3203125
          ],
          [
           "features_3:10",
           "features_3",
           0.85,
           0.25390625
          ],
          [
           "features_3:10",
           "features_3",
           0.8,
           0.19921875
          ],
          [
           "features_3:10",
           "features_3",
           0.75,
           0.15625
          ],
          [
           "features_3:10",
           "features_3",
           0.7,
           0.125
          ],
          [
           "features_3:10",
           "features_3",
           0.65,
           0.10546875
          ],
          [
           "features_3:10",
           "features_3",
           0.6,
           0.08984375
          ],
          [
           "features_3:10",
           "features_3",
           0.55,
           0.07421875
          ],
          [
           "features_3:10",
           "features_3",
           0.5,
           0.05859375
          ],
          [
           "features_3:10",
           "features_3",
           0.45,
           0.05078125
          ],
          [
           "features_3:10",
           "features_3",
           0.4,
           0.0390625
          ],
          [
           "features_3:10",
           "features_3",
           0.35,
           0.03125
          ],
          [
           "features_3:10",
           "features_3",
           0.3,
           0.0234375
          ],
          [
           "features_3:10",
           "features_3",
           0.25,
           0.015625
          ],
          [
           "features_3:10",
           "features_3",
           0.2,
           0.01171875
          ],
          [
           "features_3:10",
           "features_3",
           0.15,
           0.0078125
          ],
          [
           "features_3:10",
           "features_3",
           0.1,
           0
          ],
          [
           "features_3:10",
           "features_3",
           0.05,
           0
          ]
         ],
         "hovertemplate": "feature_name=features_3:10<br>keep_ratios=%{x}<br>correlations=%{y}<extra></extra>",
         "legendgroup": "features_3:10",
         "marker": {
          "color": "#EF553B",
          "symbol": "circle"
         },
         "mode": "markers",
         "name": "features_3:10",
         "showlegend": true,
         "type": "scattergl",
         "x": [
          0.5,
          0.2,
          0.1,
          0.05,
          0.01,
          0.005,
          0.001,
          0.640625,
          0.4296875,
          0.3203125,
          0.25390625,
          0.19921875,
          0.15625,
          0.125,
          0.10546875,
          0.08984375,
          0.07421875,
          0.05859375,
          0.05078125,
          0.0390625,
          0.03125,
          0.0234375,
          0.015625,
          0.01171875,
          0.0078125,
          0,
          0
         ],
         "xaxis": "x",
         "y": [
          0.9874484324000308,
          0.8889074662205662,
          0.747640491473551,
          0.24476494354192257,
          0.28575725342443625,
          0.28575725342443625,
          0.25130910650573146,
          0.9981386447089216,
          0.9811577397419787,
          0.9535016838352359,
          0.9274431747289342,
          0.8889074662205662,
          0.7955196790902945,
          0.7819394476646996,
          0.747640491473551,
          0.747640491473551,
          0.7485757850025154,
          0.1865801983966651,
          0.21187240994912404,
          0.24476494354192257,
          0.24476494354192257,
          0.24476494354192257,
          0.28575725342443625,
          0.28575725342443625,
          0.28575725342443625,
          0.25130910650573146,
          0.25130910650573146
         ],
         "yaxis": "y"
        },
        {
         "customdata": [
          [
           "features_3:11",
           "features_3",
           0.99,
           0.38671875
          ],
          [
           "features_3:11",
           "features_3",
           0.95,
           0.265625
          ],
          [
           "features_3:11",
           "features_3",
           0.9,
           0.1953125
          ],
          [
           "features_3:11",
           "features_3",
           0.85,
           0.15625
          ],
          [
           "features_3:11",
           "features_3",
           0.8,
           0.1328125
          ],
          [
           "features_3:11",
           "features_3",
           0.75,
           0.109375
          ],
          [
           "features_3:11",
           "features_3",
           0.7,
           0.09375
          ],
          [
           "features_3:11",
           "features_3",
           0.65,
           0.078125
          ],
          [
           "features_3:11",
           "features_3",
           0.6,
           0.0625
          ],
          [
           "features_3:11",
           "features_3",
           0.55,
           0.05078125
          ],
          [
           "features_3:11",
           "features_3",
           0.5,
           0.04296875
          ],
          [
           "features_3:11",
           "features_3",
           0.45,
           0.03125
          ],
          [
           "features_3:11",
           "features_3",
           0.4,
           0.0234375
          ],
          [
           "features_3:11",
           "features_3",
           0.35,
           0.01953125
          ],
          [
           "features_3:11",
           "features_3",
           0.3,
           0.01171875
          ],
          [
           "features_3:11",
           "features_3",
           0.25,
           0.0078125
          ],
          [
           "features_3:11",
           "features_3",
           0.2,
           0.00390625
          ],
          [
           "features_3:11",
           "features_3",
           0.15,
           0.00390625
          ],
          [
           "features_3:11",
           "features_3",
           0.1,
           0
          ],
          [
           "features_3:11",
           "features_3",
           0.05,
           0
          ],
          [
           "features_3:11",
           "features_3",
           0.9977628588676453,
           0.5
          ],
          [
           "features_3:11",
           "features_3",
           0.9052329063415527,
           0.2
          ],
          [
           "features_3:11",
           "features_3",
           0.7181732058525085,
           0.1
          ],
          [
           "features_3:11",
           "features_3",
           0.5368451476097107,
           0.05
          ],
          [
           "features_3:11",
           "features_3",
           0.2596651017665863,
           0.01
          ],
          [
           "features_3:11",
           "features_3",
           0.2067900002002716,
           0.005
          ],
          [
           "features_3:11",
           "features_3",
           0.13375692069530487,
           0.001
          ]
         ],
         "hovertemplate": "feature_name=features_3:11<br>keep_ratios=%{x}<br>correlations=%{y}<extra></extra>",
         "legendgroup": "features_3:11",
         "marker": {
          "color": "#00cc96",
          "symbol": "circle"
         },
         "mode": "markers",
         "name": "features_3:11",
         "showlegend": true,
         "type": "scattergl",
         "x": [
          0.38671875,
          0.265625,
          0.1953125,
          0.15625,
          0.1328125,
          0.109375,
          0.09375,
          0.078125,
          0.0625,
          0.05078125,
          0.04296875,
          0.03125,
          0.0234375,
          0.01953125,
          0.01171875,
          0.0078125,
          0.00390625,
          0.00390625,
          0,
          0,
          0.5,
          0.2,
          0.1,
          0.05,
          0.01,
          0.005,
          0.001
         ],
         "xaxis": "x",
         "y": [
          0.9990949408935265,
          0.9447779150777407,
          0.9409529643673685,
          0.8085398056372981,
          0.9484016285562573,
          0.8716960196944268,
          0.8155160494584045,
          0.8131538822682042,
          0.8544768692891938,
          0.8544771480534084,
          0.9025367339874182,
          0.9025367339874182,
          0.9025324631423723,
          0.9024682386021567,
          0.607432413141153,
          0.20288637323719147,
          0.20288745917443213,
          0.20288745917443213,
          0,
          0,
          0.9998981896354107,
          0.9404535893990869,
          0.8155160494584045,
          0.9025367339874182,
          0.20288637323719147,
          0.20288745917443213,
          0
         ],
         "yaxis": "y"
        },
        {
         "customdata": [
          [
           "features_8:7",
           "features_8",
           0.9994907379150391,
           0.5
          ],
          [
           "features_8:7",
           "features_8",
           0.9017763733863831,
           0.2
          ],
          [
           "features_8:7",
           "features_8",
           0.7425441741943359,
           0.1
          ],
          [
           "features_8:7",
           "features_8",
           0.5745413303375244,
           0.05
          ],
          [
           "features_8:7",
           "features_8",
           0.27696192264556885,
           0.01
          ],
          [
           "features_8:7",
           "features_8",
           0.19775058329105377,
           0.005
          ],
          [
           "features_8:7",
           "features_8",
           0.08486901223659515,
           0.001
          ],
          [
           "features_8:7",
           "features_8",
           0.99,
           0.36452559127864004
          ],
          [
           "features_8:7",
           "features_8",
           0.95,
           0.2613058943089431
          ],
          [
           "features_8:7",
           "features_8",
           0.9,
           0.198240022172949
          ],
          [
           "features_8:7",
           "features_8",
           0.85,
           0.15687361419068735
          ],
          [
           "features_8:7",
           "features_8",
           0.8,
           0.12653593865484108
          ],
          [
           "features_8:7",
           "features_8",
           0.75,
           0.10306956762749446
          ],
          [
           "features_8:7",
           "features_8",
           0.7,
           0.08419946415373245
          ],
          [
           "features_8:7",
           "features_8",
           0.65,
           0.06865530303030302
          ],
          [
           "features_8:7",
           "features_8",
           0.6,
           0.05573263118994826
          ],
          [
           "features_8:7",
           "features_8",
           0.55,
           0.04493486696230599
          ],
          [
           "features_8:7",
           "features_8",
           0.5,
           0.03585781596452328
          ],
          [
           "features_8:7",
           "features_8",
           0.45,
           0.028201219512195123
          ],
          [
           "features_8:7",
           "features_8",
           0.4,
           0.021722560975609755
          ],
          [
           "features_8:7",
           "features_8",
           0.35,
           0.01631790465631929
          ],
          [
           "features_8:7",
           "features_8",
           0.3,
           0.011802475979305248
          ],
          [
           "features_8:7",
           "features_8",
           0.25,
           0.008095436067997043
          ],
          [
           "features_8:7",
           "features_8",
           0.2,
           0.005115946045824094
          ],
          [
           "features_8:7",
           "features_8",
           0.15,
           0.002840909090909091
          ],
          [
           "features_8:7",
           "features_8",
           0.1,
           0.001316518847006652
          ],
          [
           "features_8:7",
           "features_8",
           0.05,
           0.000438839615668884
          ]
         ],
         "hovertemplate": "feature_name=features_8:7<br>keep_ratios=%{x}<br>correlations=%{y}<extra></extra>",
         "legendgroup": "features_8:7",
         "marker": {
          "color": "#ab63fa",
          "symbol": "circle"
         },
         "mode": "markers",
         "name": "features_8:7",
         "showlegend": true,
         "type": "scattergl",
         "x": [
          0.5,
          0.2,
          0.1,
          0.05,
          0.01,
          0.005,
          0.001,
          0.36452559127864004,
          0.2613058943089431,
          0.198240022172949,
          0.15687361419068735,
          0.12653593865484108,
          0.10306956762749446,
          0.08419946415373245,
          0.06865530303030302,
          0.05573263118994826,
          0.04493486696230599,
          0.03585781596452328,
          0.028201219512195123,
          0.021722560975609755,
          0.01631790465631929,
          0.011802475979305248,
          0.008095436067997043,
          0.005115946045824094,
          0.002840909090909091,
          0.001316518847006652,
          0.000438839615668884
         ],
         "xaxis": "x",
         "y": [
          0.9999990710430954,
          0.9583123356536667,
          0.8181584234767887,
          0.6318065210701133,
          0.2956703712290418,
          0.12582356670464095,
          -0.08427368021041155,
          0.9986647199060539,
          0.9840572877996334,
          0.9569079798787228,
          0.919349328284249,
          0.8729893997593496,
          0.8277552010416646,
          0.7654041643574904,
          0.7043676853575079,
          0.6496828144641701,
          0.5747913722443002,
          0.4784806143114183,
          0.32439545817582427,
          0.3112879561724396,
          0.24882109183439977,
          0.22671967830101497,
          0.23566522112087646,
          0.1256511050893062,
          -0.09380887090023385,
          -0.09464596812695755,
          -0.10021116692156815
         ],
         "yaxis": "y"
        },
        {
         "customdata": [
          [
           "features_3:0",
           "features_3",
           0.9498555064201355,
           0.5
          ],
          [
           "features_3:0",
           "features_3",
           0.7973933219909668,
           0.2
          ],
          [
           "features_3:0",
           "features_3",
           0.5312880873680115,
           0.1
          ],
          [
           "features_3:0",
           "features_3",
           0.3393789231777191,
           0.05
          ],
          [
           "features_3:0",
           "features_3",
           0.12888501584529877,
           0.01
          ],
          [
           "features_3:0",
           "features_3",
           0.10395363718271255,
           0.005
          ],
          [
           "features_3:0",
           "features_3",
           0.07585350424051285,
           0.001
          ],
          [
           "features_3:0",
           "features_3",
           0.99,
           0.73046875
          ],
          [
           "features_3:0",
           "features_3",
           0.95,
           0.5
          ],
          [
           "features_3:0",
           "features_3",
           0.9,
           0.3515625
          ],
          [
           "features_3:0",
           "features_3",
           0.85,
           0.25390625
          ],
          [
           "features_3:0",
           "features_3",
           0.8,
           0.203125
          ],
          [
           "features_3:0",
           "features_3",
           0.75,
           0.17578125
          ],
          [
           "features_3:0",
           "features_3",
           0.7,
           0.15625
          ],
          [
           "features_3:0",
           "features_3",
           0.65,
           0.13671875
          ],
          [
           "features_3:0",
           "features_3",
           0.6,
           0.12109375
          ],
          [
           "features_3:0",
           "features_3",
           0.55,
           0.10546875
          ],
          [
           "features_3:0",
           "features_3",
           0.5,
           0.08984375
          ],
          [
           "features_3:0",
           "features_3",
           0.45,
           0.07421875
          ],
          [
           "features_3:0",
           "features_3",
           0.4,
           0.0625
          ],
          [
           "features_3:0",
           "features_3",
           0.35,
           0.05078125
          ],
          [
           "features_3:0",
           "features_3",
           0.3,
           0.0390625
          ],
          [
           "features_3:0",
           "features_3",
           0.25,
           0.03125
          ],
          [
           "features_3:0",
           "features_3",
           0.2,
           0.0234375
          ],
          [
           "features_3:0",
           "features_3",
           0.15,
           0.01171875
          ],
          [
           "features_3:0",
           "features_3",
           0.1,
           0.00390625
          ],
          [
           "features_3:0",
           "features_3",
           0.05,
           0
          ]
         ],
         "hovertemplate": "feature_name=features_3:0<br>keep_ratios=%{x}<br>correlations=%{y}<extra></extra>",
         "legendgroup": "features_3:0",
         "marker": {
          "color": "#FFA15A",
          "symbol": "circle"
         },
         "mode": "markers",
         "name": "features_3:0",
         "showlegend": true,
         "type": "scattergl",
         "x": [
          0.5,
          0.2,
          0.1,
          0.05,
          0.01,
          0.005,
          0.001,
          0.73046875,
          0.5,
          0.3515625,
          0.25390625,
          0.203125,
          0.17578125,
          0.15625,
          0.13671875,
          0.12109375,
          0.10546875,
          0.08984375,
          0.07421875,
          0.0625,
          0.05078125,
          0.0390625,
          0.03125,
          0.0234375,
          0.01171875,
          0.00390625,
          0
         ],
         "xaxis": "x",
         "y": [
          0.9310904375546267,
          0.4086631480875004,
          0.3955822039013961,
          0.2336239882233787,
          0,
          0,
          0,
          0.9890028300334879,
          0.9309086198210706,
          0.713080912340466,
          0.48516121665101436,
          0.40867516912798696,
          0.395324788106319,
          0.3953616435121616,
          0.3953616435121616,
          0.3955822039013961,
          0.3955822039013961,
          0.33587335792963835,
          -0.1706610725943011,
          -0.1706610725943011,
          0.2336239882233787,
          0.2336239882233787,
          0.2336239882233787,
          0,
          0,
          0,
          0
         ],
         "yaxis": "y"
        },
        {
         "customdata": [
          [
           "features_8:13",
           "features_8",
           0.9985540509223938,
           0.5
          ],
          [
           "features_8:13",
           "features_8",
           0.868935763835907,
           0.2
          ],
          [
           "features_8:13",
           "features_8",
           0.6983779668807983,
           0.1
          ],
          [
           "features_8:13",
           "features_8",
           0.5331874489784241,
           0.05
          ],
          [
           "features_8:13",
           "features_8",
           0.25429654121398926,
           0.01
          ],
          [
           "features_8:13",
           "features_8",
           0.17892730236053467,
           0.005
          ],
          [
           "features_8:13",
           "features_8",
           0.07289155572652817,
           0.001
          ],
          [
           "features_8:13",
           "features_8",
           0.99,
           0.41350240206947525
          ],
          [
           "features_8:13",
           "features_8",
           0.95,
           0.29913848854397634
          ],
          [
           "features_8:13",
           "features_8",
           0.9,
           0.23017137841832963
          ],
          [
           "features_8:13",
           "features_8",
           0.85,
           0.18433573540280856
          ],
          [
           "features_8:13",
           "features_8",
           0.8,
           0.14995611603843312
          ],
          [
           "features_8:13",
           "features_8",
           0.75,
           0.122724963045085
          ],
          [
           "features_8:13",
           "features_8",
           0.7,
           0.10064440133037694
          ],
          [
           "features_8:13",
           "features_8",
           0.65,
           0.08237481522542499
          ],
          [
           "features_8:13",
           "features_8",
           0.6,
           0.06699233185513673
          ],
          [
           "features_8:13",
           "features_8",
           0.55,
           0.05394262749445676
          ],
          [
           "features_8:13",
           "features_8",
           0.5,
           0.042833056171470804
          ],
          [
           "features_8:13",
           "features_8",
           0.45,
           0.03347884331116038
          ],
          [
           "features_8:13",
           "features_8",
           0.4,
           0.025649020694752403
          ],
          [
           "features_8:13",
           "features_8",
           0.35,
           0.019228104212860312
          ],
          [
           "features_8:13",
           "features_8",
           0.3,
           0.013973577235772357
          ],
          [
           "features_8:13",
           "features_8",
           0.25,
           0.009654471544715448
          ],
          [
           "features_8:13",
           "features_8",
           0.2,
           0.00620149667405765
          ],
          [
           "features_8:13",
           "features_8",
           0.15,
           0.003545362158167036
          ],
          [
           "features_8:13",
           "features_8",
           0.1,
           0.0016860679970436068
          ],
          [
           "features_8:13",
           "features_8",
           0.05,
           0.0005658721359940872
          ]
         ],
         "hovertemplate": "feature_name=features_8:13<br>keep_ratios=%{x}<br>correlations=%{y}<extra></extra>",
         "legendgroup": "features_8:13",
         "marker": {
          "color": "#19d3f3",
          "symbol": "circle"
         },
         "mode": "markers",
         "name": "features_8:13",
         "showlegend": true,
         "type": "scattergl",
         "x": [
          0.5,
          0.2,
          0.1,
          0.05,
          0.01,
          0.005,
          0.001,
          0.41350240206947525,
          0.29913848854397634,
          0.23017137841832963,
          0.18433573540280856,
          0.14995611603843312,
          0.122724963045085,
          0.10064440133037694,
          0.08237481522542499,
          0.06699233185513673,
          0.05394262749445676,
          0.042833056171470804,
          0.03347884331116038,
          0.025649020694752403,
          0.019228104212860312,
          0.013973577235772357,
          0.009654471544715448,
          0.00620149667405765,
          0.003545362158167036,
          0.0016860679970436068,
          0.0005658721359940872
         ],
         "xaxis": "x",
         "y": [
          0.9999759304200917,
          0.9032947483612999,
          0.575648391873097,
          0.36056326360062246,
          0.22725121911674,
          0.20986539668057627,
          -0.03415505347811489,
          0.9984540682944201,
          0.977197139175751,
          0.937861304577055,
          0.8584189650713131,
          0.7272234492987498,
          0.6566762264099377,
          0.5663871983094736,
          0.4958355414550131,
          0.3908131098178884,
          0.37811972000885585,
          0.3326975029288009,
          0.31019977827743406,
          0.3250886256838883,
          0.27628340106823573,
          0.2546723479034769,
          0.22616470793444313,
          0.23233697731074437,
          0.20348026836842836,
          0.09547038222968217,
          -0.0988732768369165
         ],
         "yaxis": "y"
        },
        {
         "customdata": [
          [
           "features_8:4",
           "features_8",
           0.9987618923187256,
           0.5
          ],
          [
           "features_8:4",
           "features_8",
           0.8749174475669861,
           0.2
          ],
          [
           "features_8:4",
           "features_8",
           0.7088444828987122,
           0.1
          ],
          [
           "features_8:4",
           "features_8",
           0.5453228950500488,
           0.05
          ],
          [
           "features_8:4",
           "features_8",
           0.26634401082992554,
           0.01
          ],
          [
           "features_8:4",
           "features_8",
           0.19020676612854004,
           0.005
          ],
          [
           "features_8:4",
           "features_8",
           0.07789427042007446,
           0.001
          ],
          [
           "features_8:4",
           "features_8",
           0.99,
           0.4054878048780488
          ],
          [
           "features_8:4",
           "features_8",
           0.95,
           0.29320260532150777
          ],
          [
           "features_8:4",
           "features_8",
           0.9,
           0.22478981892091648
          ],
          [
           "features_8:4",
           "features_8",
           0.85,
           0.17904656319290466
          ],
          [
           "features_8:4",
           "features_8",
           0.8,
           0.14499029933481153
          ],
          [
           "features_8:4",
           "features_8",
           0.75,
           0.1181979859571323
          ],
          [
           "features_8:4",
           "features_8",
           0.7,
           0.09646387657058389
          ],
          [
           "features_8:4",
           "features_8",
           0.65,
           0.07849454915003695
          ],
          [
           "features_8:4",
           "features_8",
           0.6,
           0.06356245380635625
          ],
          [
           "features_8:4",
           "features_8",
           0.55,
           0.05105552475979305
          ],
          [
           "features_8:4",
           "features_8",
           0.5,
           0.040500277161862525
          ],
          [
           "features_8:4",
           "features_8",
           0.45,
           0.03161954915003695
          ],
          [
           "features_8:4",
           "features_8",
           0.4,
           0.02417082409460458
          ],
          [
           "features_8:4",
           "features_8",
           0.35,
           0.017992424242424244
          ],
          [
           "features_8:4",
           "features_8",
           0.3,
           0.012876478196600148
          ],
          [
           "features_8:4",
           "features_8",
           0.25,
           0.008753695491500369
          ],
          [
           "features_8:4",
           "features_8",
           0.2,
           0.005520140428677014
          ],
          [
           "features_8:4",
           "features_8",
           0.15,
           0.003129619364375462
          ],
          [
           "features_8:4",
           "features_8",
           0.1,
           0.0014897450110864744
          ],
          [
           "features_8:4",
           "features_8",
           0.05,
           0.0005196784922394678
          ]
         ],
         "hovertemplate": "feature_name=features_8:4<br>keep_ratios=%{x}<br>correlations=%{y}<extra></extra>",
         "legendgroup": "features_8:4",
         "marker": {
          "color": "#FF6692",
          "symbol": "circle"
         },
         "mode": "markers",
         "name": "features_8:4",
         "showlegend": true,
         "type": "scattergl",
         "x": [
          0.5,
          0.2,
          0.1,
          0.05,
          0.01,
          0.005,
          0.001,
          0.4054878048780488,
          0.29320260532150777,
          0.22478981892091648,
          0.17904656319290466,
          0.14499029933481153,
          0.1181979859571323,
          0.09646387657058389,
          0.07849454915003695,
          0.06356245380635625,
          0.05105552475979305,
          0.040500277161862525,
          0.03161954915003695,
          0.02417082409460458,
          0.017992424242424244,
          0.012876478196600148,
          0.008753695491500369,
          0.005520140428677014,
          0.003129619364375462,
          0.0014897450110864744,
          0.0005196784922394678
         ],
         "xaxis": "x",
         "y": [
          0.9999908764040554,
          0.8747949127689953,
          0.49580272936499825,
          0.15533949270315395,
          0.10397283176091975,
          -0.031859179072889585,
          -0.04596587474919203,
          0.9984782980180897,
          0.9764138089350645,
          0.9146148335210731,
          0.839503973439031,
          0.7494760664010045,
          0.5817648639043207,
          0.4237829157176354,
          0.2579089526998234,
          0.11583939235919155,
          0.15068497577888212,
          0.15044483659552688,
          0.19919483614133338,
          0.15397391467560367,
          0.058485562999216825,
          0.0818456640310771,
          0.1141013019492211,
          -0.029948344581781652,
          -0.04693004943150263,
          -0.048291913450107755,
          -0.059888141357535625
         ],
         "yaxis": "y"
        },
        {
         "customdata": [
          [
           "features_8:0",
           "features_8",
           0.999321460723877,
           0.5
          ],
          [
           "features_8:0",
           "features_8",
           0.8941048383712769,
           0.2
          ],
          [
           "features_8:0",
           "features_8",
           0.7315633296966553,
           0.1
          ],
          [
           "features_8:0",
           "features_8",
           0.5649335980415344,
           0.05
          ],
          [
           "features_8:0",
           "features_8",
           0.27175372838974,
           0.01
          ],
          [
           "features_8:0",
           "features_8",
           0.19358856976032257,
           0.005
          ],
          [
           "features_8:0",
           "features_8",
           0.08140790462493896,
           0.001
          ],
          [
           "features_8:0",
           "features_8",
           0.99,
           0.38166343311160383
          ],
          [
           "features_8:0",
           "features_8",
           0.95,
           0.2714338507021434
          ],
          [
           "features_8:0",
           "features_8",
           0.9,
           0.2058619733924612
          ],
          [
           "features_8:0",
           "features_8",
           0.85,
           0.16334072431633406
          ],
          [
           "features_8:0",
           "features_8",
           0.8,
           0.13209072431633406
          ],
          [
           "features_8:0",
           "features_8",
           0.75,
           0.10773512564671102
          ],
          [
           "features_8:0",
           "features_8",
           0.7,
           0.08803353658536585
          ],
          [
           "features_8:0",
           "features_8",
           0.65,
           0.07179647080561714
          ],
          [
           "features_8:0",
           "features_8",
           0.6,
           0.05821553954175905
          ],
          [
           "features_8:0",
           "features_8",
           0.55,
           0.04680570953436807
          ],
          [
           "features_8:0",
           "features_8",
           0.5,
           0.037289818920916484
          ],
          [
           "features_8:0",
           "features_8",
           0.45,
           0.02932141537324464
          ],
          [
           "features_8:0",
           "features_8",
           0.4,
           0.022600240206947526
          ],
          [
           "features_8:0",
           "features_8",
           0.35,
           0.016953067257945306
          ],
          [
           "features_8:0",
           "features_8",
           0.3,
           0.012275960827790096
          ],
          [
           "features_8:0",
           "features_8",
           0.25,
           0.008407243163340725
          ],
          [
           "features_8:0",
           "features_8",
           0.2,
           0.005335365853658537
          ],
          [
           "features_8:0",
           "features_8",
           0.15,
           0.0030256836659275682
          ],
          [
           "features_8:0",
           "features_8",
           0.1,
           0.0014204545454545455
          ],
          [
           "features_8:0",
           "features_8",
           0.05,
           0.00048503325942350335
          ]
         ],
         "hovertemplate": "feature_name=features_8:0<br>keep_ratios=%{x}<br>correlations=%{y}<extra></extra>",
         "legendgroup": "features_8:0",
         "marker": {
          "color": "#B6E880",
          "symbol": "circle"
         },
         "mode": "markers",
         "name": "features_8:0",
         "showlegend": true,
         "type": "scattergl",
         "x": [
          0.5,
          0.2,
          0.1,
          0.05,
          0.01,
          0.005,
          0.001,
          0.38166343311160383,
          0.2714338507021434,
          0.2058619733924612,
          0.16334072431633406,
          0.13209072431633406,
          0.10773512564671102,
          0.08803353658536585,
          0.07179647080561714,
          0.05821553954175905,
          0.04680570953436807,
          0.037289818920916484,
          0.02932141537324464,
          0.022600240206947526,
          0.016953067257945306,
          0.012275960827790096,
          0.008407243163340725,
          0.005335365853658537,
          0.0030256836659275682,
          0.0014204545454545455,
          0.00048503325942350335
         ],
         "xaxis": "x",
         "y": [
          0.999997785213668,
          0.9441412597745678,
          0.7916095945517918,
          0.4715119989385252,
          -0.026030375869936596,
          0.07001717221787873,
          -0.2035356396521048,
          0.9989086755235896,
          0.9822926930388765,
          0.9519928920324534,
          0.9061965240074603,
          0.8641048170647074,
          0.8312597503286229,
          0.7721740489915933,
          0.6699979464745722,
          0.5867842945171646,
          0.5047617798564894,
          0.31982605028391065,
          0.2562286704126289,
          0.02991415849948974,
          -0.11679536534634702,
          -0.10026296345431969,
          -0.12519790230068184,
          0.12059535328779339,
          0.13361661528993257,
          -0.18614286117880396,
          -0.1928688091778359
         ],
         "yaxis": "y"
        },
        {
         "customdata": [
          [
           "features_6:2",
           "features_6",
           0.99,
           0.26081123737373735
          ],
          [
           "features_6:2",
           "features_6",
           0.95,
           0.16019570707070707
          ],
          [
           "features_6:2",
           "features_6",
           0.9,
           0.10606060606060606
          ],
          [
           "features_6:2",
           "features_6",
           0.85,
           0.07449494949494949
          ],
          [
           "features_6:2",
           "features_6",
           0.8,
           0.05318813131313131
          ],
          [
           "features_6:2",
           "features_6",
           0.75,
           0.03772095959595959
          ],
          [
           "features_6:2",
           "features_6",
           0.7,
           0.026594065656565656
          ],
          [
           "features_6:2",
           "features_6",
           0.65,
           0.018465909090909092
          ],
          [
           "features_6:2",
           "features_6",
           0.6,
           0.013020833333333334
          ],
          [
           "features_6:2",
           "features_6",
           0.55,
           0.009154040404040404
          ],
          [
           "features_6:2",
           "features_6",
           0.5,
           0.006549873737373737
          ],
          [
           "features_6:2",
           "features_6",
           0.45,
           0.004734848484848485
          ],
          [
           "features_6:2",
           "features_6",
           0.4,
           0.003393308080808081
          ],
          [
           "features_6:2",
           "features_6",
           0.35,
           0.0025252525252525255
          ],
          [
           "features_6:2",
           "features_6",
           0.3,
           0.0018150252525252525
          ],
          [
           "features_6:2",
           "features_6",
           0.25,
           0.0012626262626262627
          ],
          [
           "features_6:2",
           "features_6",
           0.2,
           0.0008680555555555555
          ],
          [
           "features_6:2",
           "features_6",
           0.15,
           0.0005523989898989899
          ],
          [
           "features_6:2",
           "features_6",
           0.1,
           0.0003156565656565657
          ],
          [
           "features_6:2",
           "features_6",
           0.05,
           7.891414141414142e-05
          ],
          [
           "features_6:2",
           "features_6",
           0.9997694492340088,
           0.5
          ],
          [
           "features_6:2",
           "features_6",
           0.9715360403060913,
           0.2
          ],
          [
           "features_6:2",
           "features_6",
           0.8921153545379639,
           0.1
          ],
          [
           "features_6:2",
           "features_6",
           0.7908117771148682,
           0.05
          ],
          [
           "features_6:2",
           "features_6",
           0.5621944069862366,
           0.01
          ],
          [
           "features_6:2",
           "features_6",
           0.45847100019454956,
           0.005
          ],
          [
           "features_6:2",
           "features_6",
           0.22034943103790283,
           0.001
          ]
         ],
         "hovertemplate": "feature_name=features_6:2<br>keep_ratios=%{x}<br>correlations=%{y}<extra></extra>",
         "legendgroup": "features_6:2",
         "marker": {
          "color": "#FF97FF",
          "symbol": "circle"
         },
         "mode": "markers",
         "name": "features_6:2",
         "showlegend": true,
         "type": "scattergl",
         "x": [
          0.26081123737373735,
          0.16019570707070707,
          0.10606060606060606,
          0.07449494949494949,
          0.05318813131313131,
          0.03772095959595959,
          0.026594065656565656,
          0.018465909090909092,
          0.013020833333333334,
          0.009154040404040404,
          0.006549873737373737,
          0.004734848484848485,
          0.003393308080808081,
          0.0025252525252525255,
          0.0018150252525252525,
          0.0012626262626262627,
          0.0008680555555555555,
          0.0005523989898989899,
          0.0003156565656565657,
          7.891414141414142e-05,
          0.5,
          0.2,
          0.1,
          0.05,
          0.01,
          0.005,
          0.001
         ],
         "xaxis": "x",
         "y": [
          0.9988694643077645,
          0.9882440034770673,
          0.9567342743453868,
          0.9286622524219081,
          0.9029688838177543,
          0.7919064945658314,
          0.7943490692591656,
          0.7767597708742422,
          0.6975994955628538,
          0.5623997472065236,
          0.5769064392210039,
          0.528371825356915,
          0.3836805846052108,
          0.38347071264876215,
          0.14199746145875242,
          0.1477321211283002,
          0.1467529288091161,
          0.14119132378713423,
          0.13594734793067292,
          0.1328859140461996,
          0.9999998920816461,
          0.9958977706493036,
          0.9501516411509761,
          0.8884513468948627,
          0.5998740242016414,
          0.5283448453780234,
          0.14690387379783063
         ],
         "yaxis": "y"
        },
        {
         "customdata": [
          [
           "features_8:12",
           "features_8",
           0.99,
           0.39577559127864004
          ],
          [
           "features_8:12",
           "features_8",
           0.95,
           0.28921840354767187
          ],
          [
           "features_8:12",
           "features_8",
           0.9,
           0.2246858832224686
          ],
          [
           "features_8:12",
           "features_8",
           0.85,
           0.18150637472283815
          ],
          [
           "features_8:12",
           "features_8",
           0.8,
           0.1489629526977088
          ],
          [
           "features_8:12",
           "features_8",
           0.75,
           0.12305986696230599
          ],
          [
           "features_8:12",
           "features_8",
           0.7,
           0.10189162971175167
          ],
          [
           "features_8:12",
           "features_8",
           0.65,
           0.08414172209903917
          ],
          [
           "features_8:12",
           "features_8",
           0.6,
           0.06910569105691057
          ],
          [
           "features_8:12",
           "features_8",
           0.55,
           0.05625230968218773
          ],
          [
           "features_8:12",
           "features_8",
           0.5,
           0.04518893200295639
          ],
          [
           "features_8:12",
           "features_8",
           0.45,
           0.035719235033259425
          ],
          [
           "features_8:12",
           "features_8",
           0.4,
           0.02773928307464893
          ],
          [
           "features_8:12",
           "features_8",
           0.35,
           0.020995011086474502
          ],
          [
           "features_8:12",
           "features_8",
           0.3,
           0.015324741315594975
          ],
          [
           "features_8:12",
           "features_8",
           0.25,
           0.010624538063562453
          ],
          [
           "features_8:12",
           "features_8",
           0.2,
           0.006790465631929046
          ],
          [
           "features_8:12",
           "features_8",
           0.15,
           0.0038687176644493716
          ],
          [
           "features_8:12",
           "features_8",
           0.1,
           0.0018361973392461198
          ],
          [
           "features_8:12",
           "features_8",
           0.05,
           0.0006005173688100518
          ],
          [
           "features_8:12",
           "features_8",
           0.99913489818573,
           0.5
          ],
          [
           "features_8:12",
           "features_8",
           0.8734032511711121,
           0.2
          ],
          [
           "features_8:12",
           "features_8",
           0.695082426071167,
           0.1
          ],
          [
           "features_8:12",
           "features_8",
           0.5227015018463135,
           0.05
          ],
          [
           "features_8:12",
           "features_8",
           0.24253453314304352,
           0.01
          ],
          [
           "features_8:12",
           "features_8",
           0.1711144745349884,
           0.005
          ],
          [
           "features_8:12",
           "features_8",
           0.06988055258989334,
           0.001
          ]
         ],
         "hovertemplate": "feature_name=features_8:12<br>keep_ratios=%{x}<br>correlations=%{y}<extra></extra>",
         "legendgroup": "features_8:12",
         "marker": {
          "color": "#FECB52",
          "symbol": "circle"
         },
         "mode": "markers",
         "name": "features_8:12",
         "showlegend": true,
         "type": "scattergl",
         "x": [
          0.39577559127864004,
          0.28921840354767187,
          0.2246858832224686,
          0.18150637472283815,
          0.1489629526977088,
          0.12305986696230599,
          0.10189162971175167,
          0.08414172209903917,
          0.06910569105691057,
          0.05625230968218773,
          0.04518893200295639,
          0.035719235033259425,
          0.02773928307464893,
          0.020995011086474502,
          0.015324741315594975,
          0.010624538063562453,
          0.006790465631929046,
          0.0038687176644493716,
          0.0018361973392461198,
          0.0006005173688100518,
          0.5,
          0.2,
          0.1,
          0.05,
          0.01,
          0.005,
          0.001
         ],
         "xaxis": "x",
         "y": [
          0.9987953648583986,
          0.9767298769954436,
          0.9454966334993465,
          0.8897398774780421,
          0.8657824972357273,
          0.8140589394421047,
          0.7595783281970304,
          0.7033889121980612,
          0.5948760025316773,
          0.5127580907639526,
          0.4067625637384219,
          0.36090679212258897,
          0.25916568625338426,
          0.28634008441132264,
          0.3298931725084916,
          0.31914542911207305,
          0.2743802576593212,
          0.2790455453943518,
          0.2751859131756178,
          0.2761009279828618,
          0.9999958759007959,
          0.8991499998516892,
          0.7415956045709371,
          0.4856247191994423,
          0.34509542533656795,
          0.2791066841328643,
          0.2760221188244729
         ],
         "yaxis": "y"
        },
        {
         "customdata": [
          [
           "features_8:18",
           "features_8",
           0.99,
           0.4086636178861789
          ],
          [
           "features_8:18",
           "features_8",
           0.95,
           0.293595251293422
          ],
          [
           "features_8:18",
           "features_8",
           0.9,
           0.22533259423503327
          ],
          [
           "features_8:18",
           "features_8",
           0.85,
           0.18068643754619365
          ],
          [
           "features_8:18",
           "features_8",
           0.8,
           0.14777346637102734
          ],
          [
           "features_8:18",
           "features_8",
           0.75,
           0.12158167036215817
          ],
          [
           "features_8:18",
           "features_8",
           0.7,
           0.10020556171470806
          ],
          [
           "features_8:18",
           "features_8",
           0.65,
           0.08240946045824095
          ],
          [
           "features_8:18",
           "features_8",
           0.6,
           0.06744271988174427
          ],
          [
           "features_8:18",
           "features_8",
           0.55,
           0.05478566149297857
          ],
          [
           "features_8:18",
           "features_8",
           0.5,
           0.043976348854397634
          ],
          [
           "features_8:18",
           "features_8",
           0.45,
           0.03472607169253511
          ],
          [
           "features_8:18",
           "features_8",
           0.4,
           0.02681541019955654
          ],
          [
           "features_8:18",
           "features_8",
           0.35,
           0.020209719142645972
          ],
          [
           "features_8:18",
           "features_8",
           0.3,
           0.014689578713968959
          ],
          [
           "features_8:18",
           "features_8",
           0.25,
           0.010151053215077605
          ],
          [
           "features_8:18",
           "features_8",
           0.2,
           0.00653640059127864
          ],
          [
           "features_8:18",
           "features_8",
           0.15,
           0.003764781966001478
          ],
          [
           "features_8:18",
           "features_8",
           0.1,
           0.0018015521064301552
          ],
          [
           "features_8:18",
           "features_8",
           0.05,
           0.0006120657797487065
          ],
          [
           "features_8:18",
           "features_8",
           0.9986636638641357,
           0.5
          ],
          [
           "features_8:18",
           "features_8",
           0.8737947940826416,
           0.2
          ],
          [
           "features_8:18",
           "features_8",
           0.6994670033454895,
           0.1
          ],
          [
           "features_8:18",
           "features_8",
           0.5287709832191467,
           0.05
          ],
          [
           "features_8:18",
           "features_8",
           0.2479982227087021,
           0.01
          ],
          [
           "features_8:18",
           "features_8",
           0.17398367822170258,
           0.005
          ],
          [
           "features_8:18",
           "features_8",
           0.06979703903198242,
           0.001
          ]
         ],
         "hovertemplate": "feature_name=features_8:18<br>keep_ratios=%{x}<br>correlations=%{y}<extra></extra>",
         "legendgroup": "features_8:18",
         "marker": {
          "color": "#636efa",
          "symbol": "circle"
         },
         "mode": "markers",
         "name": "features_8:18",
         "showlegend": true,
         "type": "scattergl",
         "x": [
          0.4086636178861789,
          0.293595251293422,
          0.22533259423503327,
          0.18068643754619365,
          0.14777346637102734,
          0.12158167036215817,
          0.10020556171470806,
          0.08240946045824095,
          0.06744271988174427,
          0.05478566149297857,
          0.043976348854397634,
          0.03472607169253511,
          0.02681541019955654,
          0.020209719142645972,
          0.014689578713968959,
          0.010151053215077605,
          0.00653640059127864,
          0.003764781966001478,
          0.0018015521064301552,
          0.0006120657797487065,
          0.5,
          0.2,
          0.1,
          0.05,
          0.01,
          0.005,
          0.001
         ],
         "xaxis": "x",
         "y": [
          0.9979319706431735,
          0.9764241011667865,
          0.9433491806057417,
          0.8825028647348236,
          0.8335185029671139,
          0.7820268865501245,
          0.7642557089533408,
          0.7313842567952206,
          0.6848549629922751,
          0.6192686476248159,
          0.5729330428697186,
          0.5693888783822154,
          0.5249692858216141,
          0.5013864164581343,
          0.4653043281002079,
          0.43464514385630476,
          0.414854831458913,
          0.18699204833200114,
          0.06430008592299215,
          -0.23574011429121358,
          0.9999805392062406,
          0.9203595008048417,
          0.7644114234792909,
          0.5962511344282111,
          0.4309046588492366,
          0.384817496943592,
          0.0880947400673636
         ],
         "yaxis": "y"
        },
        {
         "customdata": [
          [
           "features_10:3",
           "features_10",
           0.99,
           0.4053732248008313
          ],
          [
           "features_10:3",
           "features_10",
           0.95,
           0.30850580187045373
          ],
          [
           "features_10:3",
           "features_10",
           0.9,
           0.24614110668514028
          ],
          [
           "features_10:3",
           "features_10",
           0.85,
           0.20292474887426395
          ],
          [
           "features_10:3",
           "features_10",
           0.8,
           0.1694016279875303
          ],
          [
           "features_10:3",
           "features_10",
           0.75,
           0.14208087980602702
          ],
          [
           "features_10:3",
           "features_10",
           0.7,
           0.11921977831659161
          ],
          [
           "features_10:3",
           "features_10",
           0.65,
           0.0997791825424316
          ],
          [
           "features_10:3",
           "features_10",
           0.6,
           0.083055507447177
          ],
          [
           "features_10:3",
           "features_10",
           0.55,
           0.0686103654312435
          ],
          [
           "features_10:3",
           "features_10",
           0.5,
           0.056070315206096295
          ],
          [
           "features_10:3",
           "features_10",
           0.45,
           0.04514309837201247
          ],
          [
           "features_10:3",
           "features_10",
           0.4,
           0.03564470038101836
          ],
          [
           "features_10:3",
           "features_10",
           0.35,
           0.027401931070315206
          ],
          [
           "features_10:3",
           "features_10",
           0.3,
           0.020311958780741254
          ],
          [
           "features_10:3",
           "features_10",
           0.25,
           0.014277364045722203
          ],
          [
           "features_10:3",
           "features_10",
           0.2,
           0.009260261517145827
          ],
          [
           "features_10:3",
           "features_10",
           0.15,
           0.005266063387599584
          ],
          [
           "features_10:3",
           "features_10",
           0.1,
           0.0023055940422583997
          ],
          [
           "features_10:3",
           "features_10",
           0.05,
           0.000508746103221337
          ],
          [
           "features_10:3",
           "features_10",
           0.9992383122444153,
           0.5
          ],
          [
           "features_10:3",
           "features_10",
           0.8460594415664673,
           0.2
          ],
          [
           "features_10:3",
           "features_10",
           0.650607168674469,
           0.1
          ],
          [
           "features_10:3",
           "features_10",
           0.47305750846862793,
           0.05
          ],
          [
           "features_10:3",
           "features_10",
           0.20807453989982605,
           0.01
          ],
          [
           "features_10:3",
           "features_10",
           0.14609746634960175,
           0.005
          ],
          [
           "features_10:3",
           "features_10",
           0.06789924204349518,
           0.001
          ]
         ],
         "hovertemplate": "feature_name=features_10:3<br>keep_ratios=%{x}<br>correlations=%{y}<extra></extra>",
         "legendgroup": "features_10:3",
         "marker": {
          "color": "#EF553B",
          "symbol": "circle"
         },
         "mode": "markers",
         "name": "features_10:3",
         "showlegend": true,
         "type": "scattergl",
         "x": [
          0.4053732248008313,
          0.30850580187045373,
          0.24614110668514028,
          0.20292474887426395,
          0.1694016279875303,
          0.14208087980602702,
          0.11921977831659161,
          0.0997791825424316,
          0.083055507447177,
          0.0686103654312435,
          0.056070315206096295,
          0.04514309837201247,
          0.03564470038101836,
          0.027401931070315206,
          0.020311958780741254,
          0.014277364045722203,
          0.009260261517145827,
          0.005266063387599584,
          0.0023055940422583997,
          0.000508746103221337,
          0.5,
          0.2,
          0.1,
          0.05,
          0.01,
          0.005,
          0.001
         ],
         "xaxis": "x",
         "y": [
          0.9985658809621913,
          0.9851224079538512,
          0.9504433688454005,
          0.8588474706363576,
          0.7887886255077173,
          0.7322147057351102,
          0.6573044596160789,
          0.6081598910466518,
          0.5242089230056415,
          0.47763093269672396,
          0.4673492758602214,
          0.41809777665067305,
          0.4171442684570046,
          0.3902137403117792,
          0.34233029645195256,
          0.32567645957852165,
          0.38243266104336454,
          0.25295171653177195,
          0.0750389564316319,
          0.04374516556173989,
          0.9999940241735419,
          0.8495048056775978,
          0.6098060995562175,
          0.43914523604242567,
          0.40821265481056507,
          0.2285673609327871,
          0.11521789598515703
         ],
         "yaxis": "y"
        },
        {
         "customdata": [
          [
           "features_8:2",
           "features_8",
           0.99,
           0.3681979859571323
          ],
          [
           "features_8:2",
           "features_8",
           0.95,
           0.2638349963045085
          ],
          [
           "features_8:2",
           "features_8",
           0.9,
           0.2013349963045085
          ],
          [
           "features_8:2",
           "features_8",
           0.85,
           0.1604189763488544
          ],
          [
           "features_8:2",
           "features_8",
           0.8,
           0.13038155949741315
          ],
          [
           "features_8:2",
           "features_8",
           0.75,
           0.10664957501847745
          ],
          [
           "features_8:2",
           "features_8",
           0.7,
           0.08729443828529194
          ],
          [
           "features_8:2",
           "features_8",
           0.65,
           0.07138072801182557
          ],
          [
           "features_8:2",
           "features_8",
           0.6,
           0.05812315225424981
          ],
          [
           "features_8:2",
           "features_8",
           0.55,
           0.04696738728750924
          ],
          [
           "features_8:2",
           "features_8",
           0.5,
           0.03752078713968958
          ],
          [
           "features_8:2",
           "features_8",
           0.45,
           0.029540835181079084
          ],
          [
           "features_8:2",
           "features_8",
           0.4,
           0.02283120842572062
          ],
          [
           "features_8:2",
           "features_8",
           0.35,
           0.01712629342202513
          ],
          [
           "features_8:2",
           "features_8",
           0.3,
           0.012368348115299336
          ],
          [
           "features_8:2",
           "features_8",
           0.25,
           0.008488082039911308
          ],
          [
           "features_8:2",
           "features_8",
           0.2,
           0.005381559497413156
          ],
          [
           "features_8:2",
           "features_8",
           0.15,
           0.0030025868440502587
          ],
          [
           "features_8:2",
           "features_8",
           0.1,
           0.0014089061345158905
          ],
          [
           "features_8:2",
           "features_8",
           0.05,
           0.0004503880266075388
          ],
          [
           "features_8:2",
           "features_8",
           0.9993011951446533,
           0.5
          ],
          [
           "features_8:2",
           "features_8",
           0.8986215591430664,
           0.2
          ],
          [
           "features_8:2",
           "features_8",
           0.7339410781860352,
           0.1
          ],
          [
           "features_8:2",
           "features_8",
           0.5644592046737671,
           0.05
          ],
          [
           "features_8:2",
           "features_8",
           0.2706853449344635,
           0.01
          ],
          [
           "features_8:2",
           "features_8",
           0.19288510084152222,
           0.005
          ],
          [
           "features_8:2",
           "features_8",
           0.08171534538269043,
           0.001
          ]
         ],
         "hovertemplate": "feature_name=features_8:2<br>keep_ratios=%{x}<br>correlations=%{y}<extra></extra>",
         "legendgroup": "features_8:2",
         "marker": {
          "color": "#00cc96",
          "symbol": "circle"
         },
         "mode": "markers",
         "name": "features_8:2",
         "showlegend": true,
         "type": "scattergl",
         "x": [
          0.3681979859571323,
          0.2638349963045085,
          0.2013349963045085,
          0.1604189763488544,
          0.13038155949741315,
          0.10664957501847745,
          0.08729443828529194,
          0.07138072801182557,
          0.05812315225424981,
          0.04696738728750924,
          0.03752078713968958,
          0.029540835181079084,
          0.02283120842572062,
          0.01712629342202513,
          0.012368348115299336,
          0.008488082039911308,
          0.005381559497413156,
          0.0030025868440502587,
          0.0014089061345158905,
          0.0004503880266075388,
          0.5,
          0.2,
          0.1,
          0.05,
          0.01,
          0.005,
          0.001
         ],
         "xaxis": "x",
         "y": [
          0.9983790157279733,
          0.9800597372055617,
          0.9295864512933332,
          0.8587086174980079,
          0.7858159403698164,
          0.7392685719332086,
          0.7430817753777916,
          0.6758052459764448,
          0.5753289947461704,
          0.47091018165494536,
          0.42365458270532996,
          0.3920453765508938,
          0.34221022830428627,
          0.3823520927501927,
          0.3982387963055486,
          0.3250009632342198,
          0.251722847843051,
          -0.08569752130978132,
          -0.20125983307124995,
          -0.22788668490183606,
          0.9999980048051118,
          0.9258087771536996,
          0.747982532469076,
          0.4674625754642367,
          0.3676118692356183,
          0.1350540815197871,
          -0.21730232611006003
         ],
         "yaxis": "y"
        },
        {
         "customdata": [
          [
           "features_10:13",
           "features_10",
           0.9989792108535767,
           0.5
          ],
          [
           "features_10:13",
           "features_10",
           0.8460410833358765,
           0.2
          ],
          [
           "features_10:13",
           "features_10",
           0.6540700197219849,
           0.1
          ],
          [
           "features_10:13",
           "features_10",
           0.47978055477142334,
           0.05
          ],
          [
           "features_10:13",
           "features_10",
           0.21739573776721954,
           0.01
          ],
          [
           "features_10:13",
           "features_10",
           0.15358904004096985,
           0.005
          ],
          [
           "features_10:13",
           "features_10",
           0.06939376890659332,
           0.001
          ],
          [
           "features_10:13",
           "features_10",
           0.99,
           0.4133562088673363
          ],
          [
           "features_10:13",
           "features_10",
           0.95,
           0.31189924662279184
          ],
          [
           "features_10:13",
           "features_10",
           0.9,
           0.24736426220990648
          ],
          [
           "features_10:13",
           "features_10",
           0.85,
           0.20299510737790094
          ],
          [
           "features_10:13",
           "features_10",
           0.8,
           0.16885499653619673
          ],
          [
           "features_10:13",
           "features_10",
           0.75,
           0.1411662192587461
          ],
          [
           "features_10:13",
           "features_10",
           0.7,
           0.11809945445098718
          ],
          [
           "features_10:13",
           "features_10",
           0.65,
           0.09851814166955317
          ],
          [
           "features_10:13",
           "features_10",
           0.6,
           0.08175116903359889
          ],
          [
           "features_10:13",
           "features_10",
           0.55,
           0.06724108070661586
          ],
          [
           "features_10:13",
           "features_10",
           0.5,
           0.05463067197783166
          ],
          [
           "features_10:13",
           "features_10",
           0.45,
           0.04363309664011084
          ],
          [
           "features_10:13",
           "features_10",
           0.4,
           0.03410763768617942
          ],
          [
           "features_10:13",
           "features_10",
           0.35,
           0.02595146345687565
          ],
          [
           "features_10:13",
           "features_10",
           0.3,
           0.019018444752338066
          ],
          [
           "features_10:13",
           "features_10",
           0.25,
           0.01321116210599238
          ],
          [
           "features_10:13",
           "features_10",
           0.2,
           0.008470081399376515
          ],
          [
           "features_10:13",
           "features_10",
           0.15,
           0.004768141669553169
          ],
          [
           "features_10:13",
           "features_10",
           0.1,
           0.0020945185313474193
          ],
          [
           "features_10:13",
           "features_10",
           0.05,
           0.0005303948735711811
          ]
         ],
         "hovertemplate": "feature_name=features_10:13<br>keep_ratios=%{x}<br>correlations=%{y}<extra></extra>",
         "legendgroup": "features_10:13",
         "marker": {
          "color": "#ab63fa",
          "symbol": "circle"
         },
         "mode": "markers",
         "name": "features_10:13",
         "showlegend": true,
         "type": "scattergl",
         "x": [
          0.5,
          0.2,
          0.1,
          0.05,
          0.01,
          0.005,
          0.001,
          0.4133562088673363,
          0.31189924662279184,
          0.24736426220990648,
          0.20299510737790094,
          0.16885499653619673,
          0.1411662192587461,
          0.11809945445098718,
          0.09851814166955317,
          0.08175116903359889,
          0.06724108070661586,
          0.05463067197783166,
          0.04363309664011084,
          0.03410763768617942,
          0.02595146345687565,
          0.019018444752338066,
          0.01321116210599238,
          0.008470081399376515,
          0.004768141669553169,
          0.0020945185313474193,
          0.0005303948735711811
         ],
         "xaxis": "x",
         "y": [
          0.9999855793708909,
          0.8734165594773791,
          0.6166330297180255,
          0.3870077460143745,
          0.057706044821768276,
          -0.18300519132074639,
          -0.07204719178942648,
          0.9986951050945589,
          0.9754223529500365,
          0.9361761020521369,
          0.8818643275830128,
          0.7572714048998792,
          0.7933634334898125,
          0.7533571061795244,
          0.6003805431914548,
          0.6858210389649095,
          0.5711104720756502,
          0.4053134411168202,
          0.2948655478639502,
          0.27062947382438873,
          0.2596936253730666,
          0.24941068889697898,
          0.2975094826879571,
          -0.041290330176582665,
          -0.17985218094547994,
          -0.16964870690051426,
          -0.0670712477883615
         ],
         "yaxis": "y"
        },
        {
         "customdata": [
          [
           "features_10:16",
           "features_10",
           0.99,
           0.42277342396951856
          ],
          [
           "features_10:16",
           "features_10",
           0.95,
           0.3174900415656391
          ],
          [
           "features_10:16",
           "features_10",
           0.9,
           0.2516777797021129
          ],
          [
           "features_10:16",
           "features_10",
           0.85,
           0.20671869587807412
          ],
          [
           "features_10:16",
           "features_10",
           0.8,
           0.1722376169033599
          ],
          [
           "features_10:16",
           "features_10",
           0.75,
           0.14439188604087289
          ],
          [
           "features_10:16",
           "features_10",
           0.7,
           0.12118981641842744
          ],
          [
           "features_10:16",
           "features_10",
           0.65,
           0.10148943540006927
          ],
          [
           "features_10:16",
           "features_10",
           0.6,
           0.08459257014201593
          ],
          [
           "features_10:16",
           "features_10",
           0.55,
           0.06997965015587114
          ],
          [
           "features_10:16",
           "features_10",
           0.5,
           0.05727182196051264
          ],
          [
           "features_10:16",
           "features_10",
           0.45,
           0.04619306373397991
          ],
          [
           "features_10:16",
           "features_10",
           0.4,
           0.03653771215794943
          ],
          [
           "features_10:16",
           "features_10",
           0.35,
           0.028148813647384828
          ],
          [
           "features_10:16",
           "features_10",
           0.3,
           0.020950597506061656
          ],
          [
           "features_10:16",
           "features_10",
           0.25,
           0.014861880845167994
          ],
          [
           "features_10:16",
           "features_10",
           0.2,
           0.009796068583304469
          ],
          [
           "features_10:16",
           "features_10",
           0.15,
           0.005693626602009006
          ],
          [
           "features_10:16",
           "features_10",
           0.1,
           0.002538318323519224
          ],
          [
           "features_10:16",
           "features_10",
           0.05,
           0.0005736924142708694
          ],
          [
           "features_10:16",
           "features_10",
           0.9985624551773071,
           0.5
          ],
          [
           "features_10:16",
           "features_10",
           0.8411425948143005,
           0.2
          ],
          [
           "features_10:16",
           "features_10",
           0.6458725929260254,
           0.1
          ],
          [
           "features_10:16",
           "features_10",
           0.46794357895851135,
           0.05
          ],
          [
           "features_10:16",
           "features_10",
           0.20224229991436005,
           0.01
          ],
          [
           "features_10:16",
           "features_10",
           0.14022962749004364,
           0.005
          ],
          [
           "features_10:16",
           "features_10",
           0.0645378902554512,
           0.001
          ]
         ],
         "hovertemplate": "feature_name=features_10:16<br>keep_ratios=%{x}<br>correlations=%{y}<extra></extra>",
         "legendgroup": "features_10:16",
         "marker": {
          "color": "#FFA15A",
          "symbol": "circle"
         },
         "mode": "markers",
         "name": "features_10:16",
         "showlegend": true,
         "type": "scattergl",
         "x": [
          0.42277342396951856,
          0.3174900415656391,
          0.2516777797021129,
          0.20671869587807412,
          0.1722376169033599,
          0.14439188604087289,
          0.12118981641842744,
          0.10148943540006927,
          0.08459257014201593,
          0.06997965015587114,
          0.05727182196051264,
          0.04619306373397991,
          0.03653771215794943,
          0.028148813647384828,
          0.020950597506061656,
          0.014861880845167994,
          0.009796068583304469,
          0.005693626602009006,
          0.002538318323519224,
          0.0005736924142708694,
          0.5,
          0.2,
          0.1,
          0.05,
          0.01,
          0.005,
          0.001
         ],
         "xaxis": "x",
         "y": [
          0.9989031559425454,
          0.9845372766854499,
          0.9218086621249627,
          0.8272162421116412,
          0.6355368415409219,
          0.4566771565911554,
          0.4671901468824686,
          0.30812443789853267,
          0.22676620262123734,
          0.29087269909577673,
          0.2596163632244367,
          0.19299185549539577,
          0.10476712364411328,
          0.04831239634241582,
          0.026452314482929305,
          0.014291432420959076,
          0.016930614905119667,
          -0.053981470508299045,
          -0.1751782920247678,
          -0.08585798340045135,
          0.9999738053204134,
          0.8046904699697821,
          0.3045394539257163,
          0.22717344484398563,
          0.03233475925901903,
          -0.10443819190810086,
          -0.19112314773492312
         ],
         "yaxis": "y"
        },
        {
         "customdata": [
          [
           "features_6:17",
           "features_6",
           0.9955731630325317,
           0.5
          ],
          [
           "features_6:17",
           "features_6",
           0.9020174145698547,
           0.2
          ],
          [
           "features_6:17",
           "features_6",
           0.7986769676208496,
           0.1
          ],
          [
           "features_6:17",
           "features_6",
           0.6962380409240723,
           0.05
          ],
          [
           "features_6:17",
           "features_6",
           0.49098366498947144,
           0.01
          ],
          [
           "features_6:17",
           "features_6",
           0.3618563115596771,
           0.005
          ],
          [
           "features_6:17",
           "features_6",
           0.13059420883655548,
           0.001
          ],
          [
           "features_6:17",
           "features_6",
           0.99,
           0.4474431818181818
          ],
          [
           "features_6:17",
           "features_6",
           0.95,
           0.28914141414141414
          ],
          [
           "features_6:17",
           "features_6",
           0.9,
           0.1972064393939394
          ],
          [
           "features_6:17",
           "features_6",
           0.85,
           0.14023042929292928
          ],
          [
           "features_6:17",
           "features_6",
           0.8,
           0.10093118686868686
          ],
          [
           "features_6:17",
           "features_6",
           0.75,
           0.07244318181818182
          ],
          [
           "features_6:17",
           "features_6",
           0.7,
           0.051373106060606064
          ],
          [
           "features_6:17",
           "features_6",
           0.65,
           0.035432449494949496
          ],
          [
           "features_6:17",
           "features_6",
           0.6,
           0.0234375
          ],
          [
           "features_6:17",
           "features_6",
           0.55,
           0.015309343434343434
          ],
          [
           "features_6:17",
           "features_6",
           0.5,
           0.01057449494949495
          ],
          [
           "features_6:17",
           "features_6",
           0.45,
           0.007891414141414142
          ],
          [
           "features_6:17",
           "features_6",
           0.4,
           0.006076388888888889
          ],
          [
           "features_6:17",
           "features_6",
           0.35,
           0.004734848484848485
          ],
          [
           "features_6:17",
           "features_6",
           0.3,
           0.0035511363636363635
          ],
          [
           "features_6:17",
           "features_6",
           0.25,
           0.002683080808080808
          ],
          [
           "features_6:17",
           "features_6",
           0.2,
           0.001893939393939394
          ],
          [
           "features_6:17",
           "features_6",
           0.15,
           0.0012626262626262627
          ],
          [
           "features_6:17",
           "features_6",
           0.1,
           0.0006313131313131314
          ],
          [
           "features_6:17",
           "features_6",
           0.05,
           0.00023674242424242425
          ]
         ],
         "hovertemplate": "feature_name=features_6:17<br>keep_ratios=%{x}<br>correlations=%{y}<extra></extra>",
         "legendgroup": "features_6:17",
         "marker": {
          "color": "#19d3f3",
          "symbol": "circle"
         },
         "mode": "markers",
         "name": "features_6:17",
         "showlegend": true,
         "type": "scattergl",
         "x": [
          0.5,
          0.2,
          0.1,
          0.05,
          0.01,
          0.005,
          0.001,
          0.4474431818181818,
          0.28914141414141414,
          0.1972064393939394,
          0.14023042929292928,
          0.10093118686868686,
          0.07244318181818182,
          0.051373106060606064,
          0.035432449494949496,
          0.0234375,
          0.015309343434343434,
          0.01057449494949495,
          0.007891414141414142,
          0.006076388888888889,
          0.004734848484848485,
          0.0035511363636363635,
          0.002683080808080808,
          0.001893939393939394,
          0.0012626262626262627,
          0.0006313131313131314,
          0.00023674242424242425
         ],
         "xaxis": "x",
         "y": [
          0.9993807844594091,
          0.9418192219616449,
          0.8268130615829377,
          0.5972881957491979,
          0.1683873285603329,
          0.21768050325956012,
          0.17964838059713228,
          0.9982213201914293,
          0.9793405223334468,
          0.939478236664878,
          0.9095533673860936,
          0.830798089438894,
          0.6655716552942332,
          0.5957271186211617,
          0.5199632029233077,
          0.5114870466762068,
          0.421760621351588,
          0.1683873285603329,
          0.17670436693696967,
          0.15776404732425542,
          0.21579679699100618,
          0.1935136266485958,
          0.20744342872866217,
          0.20557402859421284,
          0.18568911151903944,
          0.20949903196354802,
          0.17117495416589085
         ],
         "yaxis": "y"
        }
       ],
       "layout": {
        "legend": {
         "title": {
          "text": "feature_name"
         },
         "tracegroupgap": 0
        },
        "margin": {
         "t": 60
        },
        "template": {
         "data": {
          "bar": [
           {
            "error_x": {
             "color": "#2a3f5f"
            },
            "error_y": {
             "color": "#2a3f5f"
            },
            "marker": {
             "line": {
              "color": "#E5ECF6",
              "width": 0.5
             }
            },
            "type": "bar"
           }
          ],
          "barpolar": [
           {
            "marker": {
             "line": {
              "color": "#E5ECF6",
              "width": 0.5
             }
            },
            "type": "barpolar"
           }
          ],
          "carpet": [
           {
            "aaxis": {
             "endlinecolor": "#2a3f5f",
             "gridcolor": "white",
             "linecolor": "white",
             "minorgridcolor": "white",
             "startlinecolor": "#2a3f5f"
            },
            "baxis": {
             "endlinecolor": "#2a3f5f",
             "gridcolor": "white",
             "linecolor": "white",
             "minorgridcolor": "white",
             "startlinecolor": "#2a3f5f"
            },
            "type": "carpet"
           }
          ],
          "choropleth": [
           {
            "colorbar": {
             "outlinewidth": 0,
             "ticks": ""
            },
            "type": "choropleth"
           }
          ],
          "contour": [
           {
            "colorbar": {
             "outlinewidth": 0,
             "ticks": ""
            },
            "colorscale": [
             [
              0,
              "#0d0887"
             ],
             [
              0.1111111111111111,
              "#46039f"
             ],
             [
              0.2222222222222222,
              "#7201a8"
             ],
             [
              0.3333333333333333,
              "#9c179e"
             ],
             [
              0.4444444444444444,
              "#bd3786"
             ],
             [
              0.5555555555555556,
              "#d8576b"
             ],
             [
              0.6666666666666666,
              "#ed7953"
             ],
             [
              0.7777777777777778,
              "#fb9f3a"
             ],
             [
              0.8888888888888888,
              "#fdca26"
             ],
             [
              1,
              "#f0f921"
             ]
            ],
            "type": "contour"
           }
          ],
          "contourcarpet": [
           {
            "colorbar": {
             "outlinewidth": 0,
             "ticks": ""
            },
            "type": "contourcarpet"
           }
          ],
          "heatmap": [
           {
            "colorbar": {
             "outlinewidth": 0,
             "ticks": ""
            },
            "colorscale": [
             [
              0,
              "#0d0887"
             ],
             [
              0.1111111111111111,
              "#46039f"
             ],
             [
              0.2222222222222222,
              "#7201a8"
             ],
             [
              0.3333333333333333,
              "#9c179e"
             ],
             [
              0.4444444444444444,
              "#bd3786"
             ],
             [
              0.5555555555555556,
              "#d8576b"
             ],
             [
              0.6666666666666666,
              "#ed7953"
             ],
             [
              0.7777777777777778,
              "#fb9f3a"
             ],
             [
              0.8888888888888888,
              "#fdca26"
             ],
             [
              1,
              "#f0f921"
             ]
            ],
            "type": "heatmap"
           }
          ],
          "heatmapgl": [
           {
            "colorbar": {
             "outlinewidth": 0,
             "ticks": ""
            },
            "colorscale": [
             [
              0,
              "#0d0887"
             ],
             [
              0.1111111111111111,
              "#46039f"
             ],
             [
              0.2222222222222222,
              "#7201a8"
             ],
             [
              0.3333333333333333,
              "#9c179e"
             ],
             [
              0.4444444444444444,
              "#bd3786"
             ],
             [
              0.5555555555555556,
              "#d8576b"
             ],
             [
              0.6666666666666666,
              "#ed7953"
             ],
             [
              0.7777777777777778,
              "#fb9f3a"
             ],
             [
              0.8888888888888888,
              "#fdca26"
             ],
             [
              1,
              "#f0f921"
             ]
            ],
            "type": "heatmapgl"
           }
          ],
          "histogram": [
           {
            "marker": {
             "colorbar": {
              "outlinewidth": 0,
              "ticks": ""
             }
            },
            "type": "histogram"
           }
          ],
          "histogram2d": [
           {
            "colorbar": {
             "outlinewidth": 0,
             "ticks": ""
            },
            "colorscale": [
             [
              0,
              "#0d0887"
             ],
             [
              0.1111111111111111,
              "#46039f"
             ],
             [
              0.2222222222222222,
              "#7201a8"
             ],
             [
              0.3333333333333333,
              "#9c179e"
             ],
             [
              0.4444444444444444,
              "#bd3786"
             ],
             [
              0.5555555555555556,
              "#d8576b"
             ],
             [
              0.6666666666666666,
              "#ed7953"
             ],
             [
              0.7777777777777778,
              "#fb9f3a"
             ],
             [
              0.8888888888888888,
              "#fdca26"
             ],
             [
              1,
              "#f0f921"
             ]
            ],
            "type": "histogram2d"
           }
          ],
          "histogram2dcontour": [
           {
            "colorbar": {
             "outlinewidth": 0,
             "ticks": ""
            },
            "colorscale": [
             [
              0,
              "#0d0887"
             ],
             [
              0.1111111111111111,
              "#46039f"
             ],
             [
              0.2222222222222222,
              "#7201a8"
             ],
             [
              0.3333333333333333,
              "#9c179e"
             ],
             [
              0.4444444444444444,
              "#bd3786"
             ],
             [
              0.5555555555555556,
              "#d8576b"
             ],
             [
              0.6666666666666666,
              "#ed7953"
             ],
             [
              0.7777777777777778,
              "#fb9f3a"
             ],
             [
              0.8888888888888888,
              "#fdca26"
             ],
             [
              1,
              "#f0f921"
             ]
            ],
            "type": "histogram2dcontour"
           }
          ],
          "mesh3d": [
           {
            "colorbar": {
             "outlinewidth": 0,
             "ticks": ""
            },
            "type": "mesh3d"
           }
          ],
          "parcoords": [
           {
            "line": {
             "colorbar": {
              "outlinewidth": 0,
              "ticks": ""
             }
            },
            "type": "parcoords"
           }
          ],
          "pie": [
           {
            "automargin": true,
            "type": "pie"
           }
          ],
          "scatter": [
           {
            "marker": {
             "colorbar": {
              "outlinewidth": 0,
              "ticks": ""
             }
            },
            "type": "scatter"
           }
          ],
          "scatter3d": [
           {
            "line": {
             "colorbar": {
              "outlinewidth": 0,
              "ticks": ""
             }
            },
            "marker": {
             "colorbar": {
              "outlinewidth": 0,
              "ticks": ""
             }
            },
            "type": "scatter3d"
           }
          ],
          "scattercarpet": [
           {
            "marker": {
             "colorbar": {
              "outlinewidth": 0,
              "ticks": ""
             }
            },
            "type": "scattercarpet"
           }
          ],
          "scattergeo": [
           {
            "marker": {
             "colorbar": {
              "outlinewidth": 0,
              "ticks": ""
             }
            },
            "type": "scattergeo"
           }
          ],
          "scattergl": [
           {
            "marker": {
             "colorbar": {
              "outlinewidth": 0,
              "ticks": ""
             }
            },
            "type": "scattergl"
           }
          ],
          "scattermapbox": [
           {
            "marker": {
             "colorbar": {
              "outlinewidth": 0,
              "ticks": ""
             }
            },
            "type": "scattermapbox"
           }
          ],
          "scatterpolar": [
           {
            "marker": {
             "colorbar": {
              "outlinewidth": 0,
              "ticks": ""
             }
            },
            "type": "scatterpolar"
           }
          ],
          "scatterpolargl": [
           {
            "marker": {
             "colorbar": {
              "outlinewidth": 0,
              "ticks": ""
             }
            },
            "type": "scatterpolargl"
           }
          ],
          "scatterternary": [
           {
            "marker": {
             "colorbar": {
              "outlinewidth": 0,
              "ticks": ""
             }
            },
            "type": "scatterternary"
           }
          ],
          "surface": [
           {
            "colorbar": {
             "outlinewidth": 0,
             "ticks": ""
            },
            "colorscale": [
             [
              0,
              "#0d0887"
             ],
             [
              0.1111111111111111,
              "#46039f"
             ],
             [
              0.2222222222222222,
              "#7201a8"
             ],
             [
              0.3333333333333333,
              "#9c179e"
             ],
             [
              0.4444444444444444,
              "#bd3786"
             ],
             [
              0.5555555555555556,
              "#d8576b"
             ],
             [
              0.6666666666666666,
              "#ed7953"
             ],
             [
              0.7777777777777778,
              "#fb9f3a"
             ],
             [
              0.8888888888888888,
              "#fdca26"
             ],
             [
              1,
              "#f0f921"
             ]
            ],
            "type": "surface"
           }
          ],
          "table": [
           {
            "cells": {
             "fill": {
              "color": "#EBF0F8"
             },
             "line": {
              "color": "white"
             }
            },
            "header": {
             "fill": {
              "color": "#C8D4E3"
             },
             "line": {
              "color": "white"
             }
            },
            "type": "table"
           }
          ]
         },
         "layout": {
          "annotationdefaults": {
           "arrowcolor": "#2a3f5f",
           "arrowhead": 0,
           "arrowwidth": 1
          },
          "autotypenumbers": "strict",
          "coloraxis": {
           "colorbar": {
            "outlinewidth": 0,
            "ticks": ""
           }
          },
          "colorscale": {
           "diverging": [
            [
             0,
             "#8e0152"
            ],
            [
             0.1,
             "#c51b7d"
            ],
            [
             0.2,
             "#de77ae"
            ],
            [
             0.3,
             "#f1b6da"
            ],
            [
             0.4,
             "#fde0ef"
            ],
            [
             0.5,
             "#f7f7f7"
            ],
            [
             0.6,
             "#e6f5d0"
            ],
            [
             0.7,
             "#b8e186"
            ],
            [
             0.8,
             "#7fbc41"
            ],
            [
             0.9,
             "#4d9221"
            ],
            [
             1,
             "#276419"
            ]
           ],
           "sequential": [
            [
             0,
             "#0d0887"
            ],
            [
             0.1111111111111111,
             "#46039f"
            ],
            [
             0.2222222222222222,
             "#7201a8"
            ],
            [
             0.3333333333333333,
             "#9c179e"
            ],
            [
             0.4444444444444444,
             "#bd3786"
            ],
            [
             0.5555555555555556,
             "#d8576b"
            ],
            [
             0.6666666666666666,
             "#ed7953"
            ],
            [
             0.7777777777777778,
             "#fb9f3a"
            ],
            [
             0.8888888888888888,
             "#fdca26"
            ],
            [
             1,
             "#f0f921"
            ]
           ],
           "sequentialminus": [
            [
             0,
             "#0d0887"
            ],
            [
             0.1111111111111111,
             "#46039f"
            ],
            [
             0.2222222222222222,
             "#7201a8"
            ],
            [
             0.3333333333333333,
             "#9c179e"
            ],
            [
             0.4444444444444444,
             "#bd3786"
            ],
            [
             0.5555555555555556,
             "#d8576b"
            ],
            [
             0.6666666666666666,
             "#ed7953"
            ],
            [
             0.7777777777777778,
             "#fb9f3a"
            ],
            [
             0.8888888888888888,
             "#fdca26"
            ],
            [
             1,
             "#f0f921"
            ]
           ]
          },
          "colorway": [
           "#636efa",
           "#EF553B",
           "#00cc96",
           "#ab63fa",
           "#FFA15A",
           "#19d3f3",
           "#FF6692",
           "#B6E880",
           "#FF97FF",
           "#FECB52"
          ],
          "font": {
           "color": "#2a3f5f"
          },
          "geo": {
           "bgcolor": "white",
           "lakecolor": "white",
           "landcolor": "#E5ECF6",
           "showlakes": true,
           "showland": true,
           "subunitcolor": "white"
          },
          "hoverlabel": {
           "align": "left"
          },
          "hovermode": "closest",
          "mapbox": {
           "style": "light"
          },
          "paper_bgcolor": "white",
          "plot_bgcolor": "#E5ECF6",
          "polar": {
           "angularaxis": {
            "gridcolor": "white",
            "linecolor": "white",
            "ticks": ""
           },
           "bgcolor": "#E5ECF6",
           "radialaxis": {
            "gridcolor": "white",
            "linecolor": "white",
            "ticks": ""
           }
          },
          "scene": {
           "xaxis": {
            "backgroundcolor": "#E5ECF6",
            "gridcolor": "white",
            "gridwidth": 2,
            "linecolor": "white",
            "showbackground": true,
            "ticks": "",
            "zerolinecolor": "white"
           },
           "yaxis": {
            "backgroundcolor": "#E5ECF6",
            "gridcolor": "white",
            "gridwidth": 2,
            "linecolor": "white",
            "showbackground": true,
            "ticks": "",
            "zerolinecolor": "white"
           },
           "zaxis": {
            "backgroundcolor": "#E5ECF6",
            "gridcolor": "white",
            "gridwidth": 2,
            "linecolor": "white",
            "showbackground": true,
            "ticks": "",
            "zerolinecolor": "white"
           }
          },
          "shapedefaults": {
           "line": {
            "color": "#2a3f5f"
           }
          },
          "ternary": {
           "aaxis": {
            "gridcolor": "white",
            "linecolor": "white",
            "ticks": ""
           },
           "baxis": {
            "gridcolor": "white",
            "linecolor": "white",
            "ticks": ""
           },
           "bgcolor": "#E5ECF6",
           "caxis": {
            "gridcolor": "white",
            "linecolor": "white",
            "ticks": ""
           }
          },
          "title": {
           "x": 0.05
          },
          "xaxis": {
           "automargin": true,
           "gridcolor": "white",
           "linecolor": "white",
           "ticks": "",
           "title": {
            "standoff": 15
           },
           "zerolinecolor": "white",
           "zerolinewidth": 2
          },
          "yaxis": {
           "automargin": true,
           "gridcolor": "white",
           "linecolor": "white",
           "ticks": "",
           "title": {
            "standoff": 15
           },
           "zerolinecolor": "white",
           "zerolinewidth": 2
          }
         }
        },
        "xaxis": {
         "anchor": "y",
         "autorange": "reversed",
         "domain": [
          0,
          1
         ],
         "title": {
          "text": "keep_ratios"
         },
         "type": "log"
        },
        "yaxis": {
         "anchor": "x",
         "domain": [
          0,
          1
         ],
         "title": {
          "text": "correlations"
         }
        }
       }
      },
      "text/html": [
       "<div>                            <div id=\"0d877545-877a-482b-a22b-a28b5ddf7352\" class=\"plotly-graph-div\" style=\"height:525px; width:100%;\"></div>            <script type=\"text/javascript\">                require([\"plotly\"], function(Plotly) {                    window.PLOTLYENV=window.PLOTLYENV || {};                                    if (document.getElementById(\"0d877545-877a-482b-a22b-a28b5ddf7352\")) {                    Plotly.newPlot(                        \"0d877545-877a-482b-a22b-a28b5ddf7352\",                        [{\"customdata\": [[\"features_6:4\", \"features_6\", 0.9995379447937012, 0.5], [\"features_6:4\", \"features_6\", 0.9484217762947083, 0.2], [\"features_6:4\", \"features_6\", 0.8449053764343262, 0.1], [\"features_6:4\", \"features_6\", 0.7278922200202942, 0.05], [\"features_6:4\", \"features_6\", 0.499479204416275, 0.01], [\"features_6:4\", \"features_6\", 0.4039950966835022, 0.005], [\"features_6:4\", \"features_6\", 0.15228722989559174, 0.001], [\"features_6:4\", \"features_6\", 0.99, 0.3222064393939394], [\"features_6:4\", \"features_6\", 0.95, 0.20265151515151514], [\"features_6:4\", \"features_6\", 0.9, 0.14086174242424243], [\"features_6:4\", \"features_6\", 0.85, 0.10306186868686869], [\"features_6:4\", \"features_6\", 0.8, 0.07702020202020202], [\"features_6:4\", \"features_6\", 0.75, 0.057291666666666664], [\"features_6:4\", \"features_6\", 0.7, 0.04190340909090909], [\"features_6:4\", \"features_6\", 0.65, 0.03006628787878788], [\"features_6:4\", \"features_6\", 0.6, 0.02130681818181818], [\"features_6:4\", \"features_6\", 0.55, 0.014599116161616162], [\"features_6:4\", \"features_6\", 0.5, 0.01002209595959596], [\"features_6:4\", \"features_6\", 0.45, 0.006786616161616162], [\"features_6:4\", \"features_6\", 0.4, 0.004892676767676768], [\"features_6:4\", \"features_6\", 0.35, 0.0037089646464646465], [\"features_6:4\", \"features_6\", 0.3, 0.0027619949494949495], [\"features_6:4\", \"features_6\", 0.25, 0.002051767676767677], [\"features_6:4\", \"features_6\", 0.2, 0.0014204545454545455], [\"features_6:4\", \"features_6\", 0.15, 0.000946969696969697], [\"features_6:4\", \"features_6\", 0.1, 0.0005523989898989899], [\"features_6:4\", \"features_6\", 0.05, 0.00023674242424242425]], \"hovertemplate\": \"feature_name=features_6:4<br>keep_ratios=%{x}<br>correlations=%{y}<extra></extra>\", \"legendgroup\": \"features_6:4\", \"marker\": {\"color\": \"#636efa\", \"symbol\": \"circle\"}, \"mode\": \"markers\", \"name\": \"features_6:4\", \"showlegend\": true, \"type\": \"scattergl\", \"x\": [0.5, 0.2, 0.1, 0.05, 0.01, 0.005, 0.001, 0.3222064393939394, 0.20265151515151514, 0.14086174242424243, 0.10306186868686869, 0.07702020202020202, 0.057291666666666664, 0.04190340909090909, 0.03006628787878788, 0.02130681818181818, 0.014599116161616162, 0.01002209595959596, 0.006786616161616162, 0.004892676767676768, 0.0037089646464646465, 0.0027619949494949495, 0.002051767676767677, 0.0014204545454545455, 0.000946969696969697, 0.0005523989898989899, 0.00023674242424242425], \"xaxis\": \"x\", \"y\": [0.9999994887976086, 0.9838203866700239, 0.8964746667255683, 0.6748772520422552, 0.27699375919949465, 0.06922183368300315, 0.02055538650712048, 0.9982477101134414, 0.9847400319393762, 0.952986653480715, 0.8972279339901508, 0.8451966588676181, 0.7264579780063203, 0.5777897398887853, 0.6224685321165718, 0.5818783736711381, 0.3512737966845547, 0.27699375919949465, 0.4258546623841839, 0.06925816951537966, 0.060017614090964226, 0.07415881555011475, 0.049505378346555357, 0.049505378346555357, 0.02055538650712048, 0.005524346965362458, -0.011171479072739602], \"yaxis\": \"y\"}, {\"customdata\": [[\"features_10:10\", \"features_10\", 0.99, 0.4484596899896086], [\"features_10:10\", \"features_10\", 0.95, 0.3404215015587115], [\"features_10:10\", \"features_10\", 0.9, 0.2717083044683062], [\"features_10:10\", \"features_10\", 0.85, 0.2243191461724974], [\"features_10:10\", \"features_10\", 0.8, 0.18778684620713543], [\"features_10:10\", \"features_10\", 0.75, 0.15804684793903706], [\"features_10:10\", \"features_10\", 0.7, 0.13298839625909248], [\"features_10:10\", \"features_10\", 0.65, 0.1116264721163838], [\"features_10:10\", \"features_10\", 0.6, 0.09317089539314168], [\"features_10:10\", \"features_10\", 0.55, 0.0771670419120194], [\"features_10:10\", \"features_10\", 0.5, 0.06319817284378247], [\"features_10:10\", \"features_10\", 0.45, 0.05096661759612054], [\"features_10:10\", \"features_10\", 0.4, 0.040293773813647384], [\"features_10:10\", \"features_10\", 0.35, 0.031065985452026323], [\"features_10:10\", \"features_10\", 0.3, 0.023104650155871147], [\"features_10:10\", \"features_10\", 0.25, 0.01630693626602009], [\"features_10:10\", \"features_10\", 0.2, 0.010640370626948389], [\"features_10:10\", \"features_10\", 0.15, 0.0060941288534811225], [\"features_10:10\", \"features_10\", 0.1, 0.002695271908555594], [\"features_10:10\", \"features_10\", 0.05, 0.00068193626602009], [\"features_10:10\", \"features_10\", 0.9970391392707825, 0.5], [\"features_10:10\", \"features_10\", 0.8179831504821777, 0.2], [\"features_10:10\", \"features_10\", 0.6193528771400452, 0.1], [\"features_10:10\", \"features_10\", 0.4457481801509857, 0.05], [\"features_10:10\", \"features_10\", 0.19365066289901733, 0.01], [\"features_10:10\", \"features_10\", 0.13570508360862732, 0.005], [\"features_10:10\", \"features_10\", 0.060909297317266464, 0.001]], \"hovertemplate\": \"feature_name=features_10:10<br>keep_ratios=%{x}<br>correlations=%{y}<extra></extra>\", \"legendgroup\": \"features_10:10\", \"marker\": {\"color\": \"#EF553B\", \"symbol\": \"circle\"}, \"mode\": \"markers\", \"name\": \"features_10:10\", \"showlegend\": true, \"type\": \"scattergl\", \"x\": [0.4484596899896086, 0.3404215015587115, 0.2717083044683062, 0.2243191461724974, 0.18778684620713543, 0.15804684793903706, 0.13298839625909248, 0.1116264721163838, 0.09317089539314168, 0.0771670419120194, 0.06319817284378247, 0.05096661759612054, 0.040293773813647384, 0.031065985452026323, 0.023104650155871147, 0.01630693626602009, 0.010640370626948389, 0.0060941288534811225, 0.002695271908555594, 0.00068193626602009, 0.5, 0.2, 0.1, 0.05, 0.01, 0.005, 0.001], \"xaxis\": \"x\", \"y\": [0.997827432707522, 0.9735910504811143, 0.9133535972830302, 0.8007470292010607, 0.621501937079284, 0.5289971146062524, 0.4120708595802642, 0.33616403144872875, 0.28990981266431104, 0.2910533378533984, 0.2475629064272845, 0.24979425009641404, 0.23795697665769427, 0.26805363492198286, 0.2650911593598235, 0.2098574375903667, 0.18288312971293913, 0.11986376505958463, -0.16120449127563913, -0.06228995420125114, 0.999671045496649, 0.698554634411399, 0.28613500322803365, 0.25676703399660183, 0.17322373166699986, 0.1048444434789212, -0.07652030979308908], \"yaxis\": \"y\"}, {\"customdata\": [[\"features_3:17\", \"features_3\", 0.99, 0.671875], [\"features_3:17\", \"features_3\", 0.95, 0.44921875], [\"features_3:17\", \"features_3\", 0.9, 0.31640625], [\"features_3:17\", \"features_3\", 0.85, 0.23828125], [\"features_3:17\", \"features_3\", 0.8, 0.1875], [\"features_3:17\", \"features_3\", 0.75, 0.15234375], [\"features_3:17\", \"features_3\", 0.7, 0.125], [\"features_3:17\", \"features_3\", 0.65, 0.1015625], [\"features_3:17\", \"features_3\", 0.6, 0.0859375], [\"features_3:17\", \"features_3\", 0.55, 0.0703125], [\"features_3:17\", \"features_3\", 0.5, 0.0546875], [\"features_3:17\", \"features_3\", 0.45, 0.04296875], [\"features_3:17\", \"features_3\", 0.4, 0.03125], [\"features_3:17\", \"features_3\", 0.35, 0.0234375], [\"features_3:17\", \"features_3\", 0.3, 0.015625], [\"features_3:17\", \"features_3\", 0.25, 0.0078125], [\"features_3:17\", \"features_3\", 0.2, 0.00390625], [\"features_3:17\", \"features_3\", 0.15, 0.00390625], [\"features_3:17\", \"features_3\", 0.1, 0.0], [\"features_3:17\", \"features_3\", 0.05, 0.0], [\"features_3:17\", \"features_3\", 0.9630895853042603, 0.5], [\"features_3:17\", \"features_3\", 0.816446840763092, 0.2], [\"features_3:17\", \"features_3\", 0.6401499509811401, 0.1], [\"features_3:17\", \"features_3\", 0.47637686133384705, 0.05], [\"features_3:17\", \"features_3\", 0.2597665786743164, 0.01], [\"features_3:17\", \"features_3\", 0.22631298005580902, 0.005], [\"features_3:17\", \"features_3\", 0.13482840359210968, 0.001]], \"hovertemplate\": \"feature_name=features_3:17<br>keep_ratios=%{x}<br>correlations=%{y}<extra></extra>\", \"legendgroup\": \"features_3:17\", \"marker\": {\"color\": \"#00cc96\", \"symbol\": \"circle\"}, \"mode\": \"markers\", \"name\": \"features_3:17\", \"showlegend\": true, \"type\": \"scattergl\", \"x\": [0.671875, 0.44921875, 0.31640625, 0.23828125, 0.1875, 0.15234375, 0.125, 0.1015625, 0.0859375, 0.0703125, 0.0546875, 0.04296875, 0.03125, 0.0234375, 0.015625, 0.0078125, 0.00390625, 0.00390625, 0.0, 0.0, 0.5, 0.2, 0.1, 0.05, 0.01, 0.005, 0.001], \"xaxis\": \"x\", \"y\": [0.9975073577825407, 0.9810979276374596, 0.9232668150778844, 0.8829190911239637, 0.8807328918916455, 0.8494755144822086, 0.8483772415752536, 0.8483772415752536, 0.8051286556761574, 0.8050964082286393, 0.7959842377100567, 0.7959842377100567, 0.7930685705597318, 0.12058798875293894, 0.12058798875293894, 0.12058798875293894, 0.1118505344363264, 0.1118505344363264, 0.11670480916747604, 0.11670480916747604, 0.9847527147420099, 0.8961865220576195, 0.8359430729793554, 0.7959842377100567, 0.12058798875293894, 0.1118505344363264, 0.11670480916747604], \"yaxis\": \"y\"}, {\"customdata\": [[\"features_10:18\", \"features_10\", 0.9990323781967163, 0.5], [\"features_10:18\", \"features_10\", 0.8467137813568115, 0.2], [\"features_10:18\", \"features_10\", 0.6488339900970459, 0.1], [\"features_10:18\", \"features_10\", 0.46853309869766235, 0.05], [\"features_10:18\", \"features_10\", 0.2005997896194458, 0.01], [\"features_10:18\", \"features_10\", 0.1380876749753952, 0.005], [\"features_10:18\", \"features_10\", 0.06133200600743294, 0.001], [\"features_10:18\", \"features_10\", 0.99, 0.41067176134395567], [\"features_10:18\", \"features_10\", 0.95, 0.30887924315898857], [\"features_10:18\", \"features_10\", 0.9, 0.24568107031520608], [\"features_10:18\", \"features_10\", 0.85, 0.202432239348805], [\"features_10:18\", \"features_10\", 0.8, 0.16912019397298234], [\"features_10:18\", \"features_10\", 0.75, 0.1420971163837894], [\"features_10:18\", \"features_10\", 0.7, 0.11954992206442674], [\"features_10:18\", \"features_10\", 0.65, 0.10041240907516454], [\"features_10:18\", \"features_10\", 0.6, 0.08392687045375823], [\"features_10:18\", \"features_10\", 0.55, 0.06960079667474887], [\"features_10:18\", \"features_10\", 0.5, 0.057060746449601664], [\"features_10:18\", \"features_10\", 0.45, 0.046117293037755455], [\"features_10:18\", \"features_10\", 0.4, 0.03658642189123658], [\"features_10:18\", \"features_10\", 0.35, 0.02831117942500866], [\"features_10:18\", \"features_10\", 0.3, 0.021161673016972637], [\"features_10:18\", \"features_10\", 0.25, 0.01504589539314167], [\"features_10:18\", \"features_10\", 0.2, 0.009942197783165916], [\"features_10:18\", \"features_10\", 0.15, 0.005839755801870454], [\"features_10:18\", \"features_10\", 0.1, 0.002684447523380672], [\"features_10:18\", \"features_10\", 0.05, 0.0006602874956702459]], \"hovertemplate\": \"feature_name=features_10:18<br>keep_ratios=%{x}<br>correlations=%{y}<extra></extra>\", \"legendgroup\": \"features_10:18\", \"marker\": {\"color\": \"#ab63fa\", \"symbol\": \"circle\"}, \"mode\": \"markers\", \"name\": \"features_10:18\", \"showlegend\": true, \"type\": \"scattergl\", \"x\": [0.5, 0.2, 0.1, 0.05, 0.01, 0.005, 0.001, 0.41067176134395567, 0.30887924315898857, 0.24568107031520608, 0.202432239348805, 0.16912019397298234, 0.1420971163837894, 0.11954992206442674, 0.10041240907516454, 0.08392687045375823, 0.06960079667474887, 0.057060746449601664, 0.046117293037755455, 0.03658642189123658, 0.02831117942500866, 0.021161673016972637, 0.01504589539314167, 0.009942197783165916, 0.005839755801870454, 0.002684447523380672, 0.0006602874956702459], \"xaxis\": \"x\", \"y\": [0.9999826631870414, 0.8839754621967313, 0.6470746199018212, 0.29888004286479786, 0.08052978099971037, 0.11693923006142015, 0.14732698520221446, 0.9984233437538507, 0.9806375111329096, 0.9415890801775644, 0.884849174969074, 0.8273263395801788, 0.7530036177645415, 0.719936203957103, 0.6515891842247753, 0.5856590295160371, 0.4826273689526294, 0.3826102315168254, 0.2900991049269111, 0.16875949143666757, 0.09120230767519075, 0.15408988051655154, 0.1523380596506662, 0.08071254736509087, 0.09581500529127689, 0.15927412250091372, 0.14779446581470912], \"yaxis\": \"y\"}, {\"customdata\": [[\"features_3:7\", \"features_3\", 0.9807968139648438, 0.5], [\"features_3:7\", \"features_3\", 0.8153446912765503, 0.2], [\"features_3:7\", \"features_3\", 0.6099146604537964, 0.1], [\"features_3:7\", \"features_3\", 0.4414062201976776, 0.05], [\"features_3:7\", \"features_3\", 0.16772834956645966, 0.01], [\"features_3:7\", \"features_3\", 0.12365712225437164, 0.005], [\"features_3:7\", \"features_3\", 0.06596239656209946, 0.001], [\"features_3:7\", \"features_3\", 0.99, 0.56640625], [\"features_3:7\", \"features_3\", 0.95, 0.3828125], [\"features_3:7\", \"features_3\", 0.9, 0.2890625], [\"features_3:7\", \"features_3\", 0.85, 0.23046875], [\"features_3:7\", \"features_3\", 0.8, 0.19140625], [\"features_3:7\", \"features_3\", 0.75, 0.16015625], [\"features_3:7\", \"features_3\", 0.7, 0.13671875], [\"features_3:7\", \"features_3\", 0.65, 0.11328125], [\"features_3:7\", \"features_3\", 0.6, 0.09765625], [\"features_3:7\", \"features_3\", 0.55, 0.078125], [\"features_3:7\", \"features_3\", 0.5, 0.0625], [\"features_3:7\", \"features_3\", 0.45, 0.05078125], [\"features_3:7\", \"features_3\", 0.4, 0.0390625], [\"features_3:7\", \"features_3\", 0.35, 0.03125], [\"features_3:7\", \"features_3\", 0.3, 0.0234375], [\"features_3:7\", \"features_3\", 0.25, 0.01953125], [\"features_3:7\", \"features_3\", 0.2, 0.01171875], [\"features_3:7\", \"features_3\", 0.15, 0.0078125], [\"features_3:7\", \"features_3\", 0.1, 0.00390625], [\"features_3:7\", \"features_3\", 0.05, 0.0]], \"hovertemplate\": \"feature_name=features_3:7<br>keep_ratios=%{x}<br>correlations=%{y}<extra></extra>\", \"legendgroup\": \"features_3:7\", \"marker\": {\"color\": \"#FFA15A\", \"symbol\": \"circle\"}, \"mode\": \"markers\", \"name\": \"features_3:7\", \"showlegend\": true, \"type\": \"scattergl\", \"x\": [0.5, 0.2, 0.1, 0.05, 0.01, 0.005, 0.001, 0.56640625, 0.3828125, 0.2890625, 0.23046875, 0.19140625, 0.16015625, 0.13671875, 0.11328125, 0.09765625, 0.078125, 0.0625, 0.05078125, 0.0390625, 0.03125, 0.0234375, 0.01953125, 0.01171875, 0.0078125, 0.00390625, 0.0], \"xaxis\": \"x\", \"y\": [0.9874738491747128, 0.9285210830091243, 0.6880646976511552, 0.5263143664364818, 0.2058164813847825, 0.0, 0.0, 0.9964516131753138, 0.9716225124244411, 0.9408392199706626, 0.9475364082661886, 0.9271782606005634, 0.9252005706929219, 0.9014698221233756, 0.7989047067526805, 0.6880646976511552, 0.8015145272578643, 0.7030953165519749, 0.5263143664364818, 0.5263226239854575, 0.5262404682564574, 0.19931087202816047, 0.19931087202816047, 0.2058164813847825, 0.2058164813847825, 0.0, 0.0], \"yaxis\": \"y\"}, {\"customdata\": [[\"features_6:14\", \"features_6\", 0.9961631894111633, 0.5], [\"features_6:14\", \"features_6\", 0.9121453762054443, 0.2], [\"features_6:14\", \"features_6\", 0.802064061164856, 0.1], [\"features_6:14\", \"features_6\", 0.6855157613754272, 0.05], [\"features_6:14\", \"features_6\", 0.44435739517211914, 0.01], [\"features_6:14\", \"features_6\", 0.33831679821014404, 0.005], [\"features_6:14\", \"features_6\", 0.13857440650463104, 0.001], [\"features_6:14\", \"features_6\", 0.99, 0.43134469696969696], [\"features_6:14\", \"features_6\", 0.95, 0.2689393939393939], [\"features_6:14\", \"features_6\", 0.9, 0.1838699494949495], [\"features_6:14\", \"features_6\", 0.85, 0.13328598484848486], [\"features_6:14\", \"features_6\", 0.8, 0.09880050505050506], [\"features_6:14\", \"features_6\", 0.75, 0.07378472222222222], [\"features_6:14\", \"features_6\", 0.7, 0.0546875], [\"features_6:14\", \"features_6\", 0.65, 0.040009469696969696], [\"features_6:14\", \"features_6\", 0.6, 0.02904040404040404], [\"features_6:14\", \"features_6\", 0.55, 0.020833333333333332], [\"features_6:14\", \"features_6\", 0.5, 0.014835858585858586], [\"features_6:14\", \"features_6\", 0.45, 0.010416666666666666], [\"features_6:14\", \"features_6\", 0.4, 0.007339015151515152], [\"features_6:14\", \"features_6\", 0.35, 0.005366161616161616], [\"features_6:14\", \"features_6\", 0.3, 0.003945707070707071], [\"features_6:14\", \"features_6\", 0.25, 0.0027619949494949495], [\"features_6:14\", \"features_6\", 0.2, 0.0018150252525252525], [\"features_6:14\", \"features_6\", 0.15, 0.0011047979797979798], [\"features_6:14\", \"features_6\", 0.1, 0.0006313131313131314], [\"features_6:14\", \"features_6\", 0.05, 0.00023674242424242425]], \"hovertemplate\": \"feature_name=features_6:14<br>keep_ratios=%{x}<br>correlations=%{y}<extra></extra>\", \"legendgroup\": \"features_6:14\", \"marker\": {\"color\": \"#19d3f3\", \"symbol\": \"circle\"}, \"mode\": \"markers\", \"name\": \"features_6:14\", \"showlegend\": true, \"type\": \"scattergl\", \"x\": [0.5, 0.2, 0.1, 0.05, 0.01, 0.005, 0.001, 0.43134469696969696, 0.2689393939393939, 0.1838699494949495, 0.13328598484848486, 0.09880050505050506, 0.07378472222222222, 0.0546875, 0.040009469696969696, 0.02904040404040404, 0.020833333333333332, 0.014835858585858586, 0.010416666666666666, 0.007339015151515152, 0.005366161616161616, 0.003945707070707071, 0.0027619949494949495, 0.0018150252525252525, 0.0011047979797979798, 0.0006313131313131314, 0.00023674242424242425], \"xaxis\": \"x\", \"y\": [0.9996239966356064, 0.9585563142974269, 0.8694436200820348, 0.7064150455316958, 0.09627818308351581, -0.060595846607957374, -0.0658106378874776, 0.9984192424043957, 0.9847093539319454, 0.9604250686934319, 0.9326631220142189, 0.8636364681185769, 0.8348791545237672, 0.7211683635481434, 0.7113081177889002, 0.46548943560506195, 0.27133021331539364, 0.0769826172012094, 0.09607028464311967, -0.03302398923630992, -0.056027698500895895, -0.04303838996195313, -0.04565801139007958, -0.05132715720016266, -0.06685108994339373, -0.06898141664765342, -0.06898141664765342], \"yaxis\": \"y\"}, {\"customdata\": [[\"features_8:8\", \"features_8\", 0.99, 0.4047718033998522], [\"features_8:8\", \"features_8\", 0.95, 0.29772958240946046], [\"features_8:8\", \"features_8\", 0.9, 0.2309220251293422], [\"features_8:8\", \"features_8\", 0.85, 0.18591786770140428], [\"features_8:8\", \"features_8\", 0.8, 0.15201173318551367], [\"features_8:8\", \"features_8\", 0.75, 0.12502309682187732], [\"features_8:8\", \"features_8\", 0.7, 0.10291943828529194], [\"features_8:8\", \"features_8\", 0.65, 0.08449972283813748], [\"features_8:8\", \"features_8\", 0.6, 0.06882852919438286], [\"features_8:8\", \"features_8\", 0.55, 0.05545546932742055], [\"features_8:8\", \"features_8\", 0.5, 0.04405718773096822], [\"features_8:8\", \"features_8\", 0.45, 0.03435652254249815], [\"features_8:8\", \"features_8\", 0.4, 0.0262379896526238], [\"features_8:8\", \"features_8\", 0.35, 0.019505266075388026], [\"features_8:8\", \"features_8\", 0.3, 0.013950480413895048], [\"features_8:8\", \"features_8\", 0.25, 0.009435051736881006], [\"features_8:8\", \"features_8\", 0.2, 0.005889689578713969], [\"features_8:8\", \"features_8\", 0.15, 0.0032912971175166296], [\"features_8:8\", \"features_8\", 0.1, 0.0015590354767184035], [\"features_8:8\", \"features_8\", 0.05, 0.0005312269031781227], [\"features_8:8\", \"features_8\", 0.9989365339279175, 0.5], [\"features_8:8\", \"features_8\", 0.8673901557922363, 0.2], [\"features_8:8\", \"features_8\", 0.6926352381706238, 0.1], [\"features_8:8\", \"features_8\", 0.5270916223526001, 0.05], [\"features_8:8\", \"features_8\", 0.25677844882011414, 0.01], [\"features_8:8\", \"features_8\", 0.18472237884998322, 0.005], [\"features_8:8\", \"features_8\", 0.0764474868774414, 0.001]], \"hovertemplate\": \"feature_name=features_8:8<br>keep_ratios=%{x}<br>correlations=%{y}<extra></extra>\", \"legendgroup\": \"features_8:8\", \"marker\": {\"color\": \"#FF6692\", \"symbol\": \"circle\"}, \"mode\": \"markers\", \"name\": \"features_8:8\", \"showlegend\": true, \"type\": \"scattergl\", \"x\": [0.4047718033998522, 0.29772958240946046, 0.2309220251293422, 0.18591786770140428, 0.15201173318551367, 0.12502309682187732, 0.10291943828529194, 0.08449972283813748, 0.06882852919438286, 0.05545546932742055, 0.04405718773096822, 0.03435652254249815, 0.0262379896526238, 0.019505266075388026, 0.013950480413895048, 0.009435051736881006, 0.005889689578713969, 0.0032912971175166296, 0.0015590354767184035, 0.0005312269031781227, 0.5, 0.2, 0.1, 0.05, 0.01, 0.005, 0.001], \"xaxis\": \"x\", \"y\": [0.9980180493397259, 0.9826459686088979, 0.9430446145308056, 0.8826830403633278, 0.8076838001917752, 0.6867710414788755, 0.6001568038990444, 0.5332927994684491, 0.45547319876169495, 0.5614210477217082, 0.5177881899483104, 0.42420596316309656, 0.4349946103863541, 0.4197580829475025, 0.35542168725851525, 0.34010250884212473, 0.3031205339773134, 0.27828817306593534, 0.2701125274659867, 0.22840527618836381, 0.9999930374613135, 0.9063128689930766, 0.5801364358803077, 0.5398579586975618, 0.33657743326224576, 0.2825318260731864, 0.2397070484661907], \"yaxis\": \"y\"}, {\"customdata\": [[\"features_10:6\", \"features_10\", 0.99, 0.4440000432975407], [\"features_10:6\", \"features_10\", 0.95, 0.3396692067890544], [\"features_10:6\", \"features_10\", 0.9, 0.2725526065119501], [\"features_10:6\", \"features_10\", 0.85, 0.22582914790439904], [\"features_10:6\", \"features_10\", 0.8, 0.1895025112573606], [\"features_10:6\", \"features_10\", 0.75, 0.15975168860408728], [\"features_10:6\", \"features_10\", 0.7, 0.13472029788708], [\"features_10:6\", \"features_10\", 0.65, 0.11333131278143402], [\"features_10:6\", \"features_10\", 0.6, 0.09483785071007966], [\"features_10:6\", \"features_10\", 0.55, 0.07871492899203325], [\"features_10:6\", \"features_10\", 0.5, 0.06456745756841012], [\"features_10:6\", \"features_10\", 0.45, 0.05221683408382404], [\"features_10:6\", \"features_10\", 0.4, 0.041435746449601664], [\"features_10:6\", \"features_10\", 0.35, 0.032061828888119155], [\"features_10:6\", \"features_10\", 0.3, 0.023938127814340144], [\"features_10:6\", \"features_10\", 0.25, 0.016983460339452718], [\"features_10:6\", \"features_10\", 0.2, 0.01116535330793211], [\"features_10:6\", \"features_10\", 0.15, 0.006489218912365777], [\"features_10:6\", \"features_10\", 0.1, 0.0029063474194665744], [\"features_10:6\", \"features_10\", 0.05, 0.0006765240734326291], [\"features_10:6\", \"features_10\", 0.9975762963294983, 0.5], [\"features_10:6\", \"features_10\", 0.8155972361564636, 0.2], [\"features_10:6\", \"features_10\", 0.6146599650382996, 0.1], [\"features_10:6\", \"features_10\", 0.44026386737823486, 0.05], [\"features_10:6\", \"features_10\", 0.18858705461025238, 0.01], [\"features_10:6\", \"features_10\", 0.13107343018054962, 0.005], [\"features_10:6\", \"features_10\", 0.06026410311460495, 0.001]], \"hovertemplate\": \"feature_name=features_10:6<br>keep_ratios=%{x}<br>correlations=%{y}<extra></extra>\", \"legendgroup\": \"features_10:6\", \"marker\": {\"color\": \"#B6E880\", \"symbol\": \"circle\"}, \"mode\": \"markers\", \"name\": \"features_10:6\", \"showlegend\": true, \"type\": \"scattergl\", \"x\": [0.4440000432975407, 0.3396692067890544, 0.2725526065119501, 0.22582914790439904, 0.1895025112573606, 0.15975168860408728, 0.13472029788708, 0.11333131278143402, 0.09483785071007966, 0.07871492899203325, 0.06456745756841012, 0.05221683408382404, 0.041435746449601664, 0.032061828888119155, 0.023938127814340144, 0.016983460339452718, 0.01116535330793211, 0.006489218912365777, 0.0029063474194665744, 0.0006765240734326291, 0.5, 0.2, 0.1, 0.05, 0.01, 0.005, 0.001], \"xaxis\": \"x\", \"y\": [0.9982717914213465, 0.9834499129527736, 0.941934244566478, 0.8745397558684107, 0.76919740322402, 0.6882785750760738, 0.5883116204715605, 0.5150892836429833, 0.42396972172797726, 0.4364916738096299, 0.3549594317497059, 0.31401906851162087, 0.3019559117371754, 0.30329186947945697, 0.27695841094307616, 0.28805261197174353, 0.28118431565961066, 0.14208873353021434, 0.09704494176912902, -0.08258889959745754, 0.9998615487225413, 0.7904568117128314, 0.4497734625023996, 0.2944777218293116, 0.27513402422203315, 0.22968935306301635, 0.06381245783788149], \"yaxis\": \"y\"}, {\"customdata\": [[\"features_3:2\", \"features_3\", 0.9679995775222778, 0.5], [\"features_3:2\", \"features_3\", 0.7407429814338684, 0.2], [\"features_3:2\", \"features_3\", 0.4906570315361023, 0.1], [\"features_3:2\", \"features_3\", 0.32404351234436035, 0.05], [\"features_3:2\", \"features_3\", 0.11353499442338943, 0.01], [\"features_3:2\", \"features_3\", 0.08029555529356003, 0.005], [\"features_3:2\", \"features_3\", 0.04493853077292442, 0.001], [\"features_3:2\", \"features_3\", 0.99, 0.66796875], [\"features_3:2\", \"features_3\", 0.95, 0.4296875], [\"features_3:2\", \"features_3\", 0.9, 0.328125], [\"features_3:2\", \"features_3\", 0.85, 0.26953125], [\"features_3:2\", \"features_3\", 0.8, 0.234375], [\"features_3:2\", \"features_3\", 0.75, 0.20703125], [\"features_3:2\", \"features_3\", 0.7, 0.1796875], [\"features_3:2\", \"features_3\", 0.65, 0.16015625], [\"features_3:2\", \"features_3\", 0.6, 0.140625], [\"features_3:2\", \"features_3\", 0.55, 0.12109375], [\"features_3:2\", \"features_3\", 0.5, 0.1015625], [\"features_3:2\", \"features_3\", 0.45, 0.0859375], [\"features_3:2\", \"features_3\", 0.4, 0.0703125], [\"features_3:2\", \"features_3\", 0.35, 0.0546875], [\"features_3:2\", \"features_3\", 0.3, 0.04296875], [\"features_3:2\", \"features_3\", 0.25, 0.03125], [\"features_3:2\", \"features_3\", 0.2, 0.01953125], [\"features_3:2\", \"features_3\", 0.15, 0.015625], [\"features_3:2\", \"features_3\", 0.1, 0.0078125], [\"features_3:2\", \"features_3\", 0.05, 0.00390625]], \"hovertemplate\": \"feature_name=features_3:2<br>keep_ratios=%{x}<br>correlations=%{y}<extra></extra>\", \"legendgroup\": \"features_3:2\", \"marker\": {\"color\": \"#FF97FF\", \"symbol\": \"circle\"}, \"mode\": \"markers\", \"name\": \"features_3:2\", \"showlegend\": true, \"type\": \"scattergl\", \"x\": [0.5, 0.2, 0.1, 0.05, 0.01, 0.005, 0.001, 0.66796875, 0.4296875, 0.328125, 0.26953125, 0.234375, 0.20703125, 0.1796875, 0.16015625, 0.140625, 0.12109375, 0.1015625, 0.0859375, 0.0703125, 0.0546875, 0.04296875, 0.03125, 0.01953125, 0.015625, 0.0078125, 0.00390625], \"xaxis\": \"x\", \"y\": [0.9523290779543607, 0.7045796296783969, 0.5944501199522227, 0.4213315884067856, 0.39435564487941865, 0.0, 0.0, 0.987287845248469, 0.9284833704309347, 0.8564080712261989, 0.8223516326023607, 0.7757363028335659, 0.7153814498124778, 0.7141142099151732, 0.7444867677142709, 0.7598817537716167, 0.5944601693725013, 0.5944501199522227, 0.5944501199522227, 0.5943348160725029, 0.4213315884067856, 0.4213315884067856, 0.42127631303215507, 0.42127631303215507, 0.42127631303215507, 0.39435564487941865, 0.0], \"yaxis\": \"y\"}, {\"customdata\": [[\"features_6:0\", \"features_6\", 0.9991271495819092, 0.5], [\"features_6:0\", \"features_6\", 0.9278844594955444, 0.2], [\"features_6:0\", \"features_6\", 0.8216385245323181, 0.1], [\"features_6:0\", \"features_6\", 0.7048975229263306, 0.05], [\"features_6:0\", \"features_6\", 0.4809276759624481, 0.01], [\"features_6:0\", \"features_6\", 0.3834264874458313, 0.005], [\"features_6:0\", \"features_6\", 0.1509476602077484, 0.001], [\"features_6:0\", \"features_6\", 0.99, 0.36955492424242425], [\"features_6:0\", \"features_6\", 0.95, 0.23832070707070707], [\"features_6:0\", \"features_6\", 0.9, 0.1639046717171717], [\"features_6:0\", \"features_6\", 0.85, 0.1189236111111111], [\"features_6:0\", \"features_6\", 0.8, 0.08791035353535354], [\"features_6:0\", \"features_6\", 0.75, 0.06534090909090909], [\"features_6:0\", \"features_6\", 0.7, 0.04853219696969697], [\"features_6:0\", \"features_6\", 0.65, 0.03551136363636364], [\"features_6:0\", \"features_6\", 0.6, 0.025410353535353536], [\"features_6:0\", \"features_6\", 0.55, 0.017597853535353536], [\"features_6:0\", \"features_6\", 0.5, 0.01167929292929293], [\"features_6:0\", \"features_6\", 0.45, 0.0078125], [\"features_6:0\", \"features_6\", 0.4, 0.005523989898989899], [\"features_6:0\", \"features_6\", 0.35, 0.004103535353535354], [\"features_6:0\", \"features_6\", 0.3, 0.0029987373737373735], [\"features_6:0\", \"features_6\", 0.25, 0.002130681818181818], [\"features_6:0\", \"features_6\", 0.2, 0.0014993686868686868], [\"features_6:0\", \"features_6\", 0.15, 0.000946969696969697], [\"features_6:0\", \"features_6\", 0.1, 0.0005523989898989899], [\"features_6:0\", \"features_6\", 0.05, 0.00015782828282828284]], \"hovertemplate\": \"feature_name=features_6:0<br>keep_ratios=%{x}<br>correlations=%{y}<extra></extra>\", \"legendgroup\": \"features_6:0\", \"marker\": {\"color\": \"#FECB52\", \"symbol\": \"circle\"}, \"mode\": \"markers\", \"name\": \"features_6:0\", \"showlegend\": true, \"type\": \"scattergl\", \"x\": [0.5, 0.2, 0.1, 0.05, 0.01, 0.005, 0.001, 0.36955492424242425, 0.23832070707070707, 0.1639046717171717, 0.1189236111111111, 0.08791035353535354, 0.06534090909090909, 0.04853219696969697, 0.03551136363636364, 0.025410353535353536, 0.017597853535353536, 0.01167929292929293, 0.0078125, 0.005523989898989899, 0.004103535353535354, 0.0029987373737373735, 0.002130681818181818, 0.0014993686868686868, 0.000946969696969697, 0.0005523989898989899, 0.00015782828282828284], \"xaxis\": \"x\", \"y\": [0.9999773857265769, 0.947343608883022, 0.7420265543896618, 0.6906456892820195, 0.04855546107548584, 0.05962039439765709, 0.105122986101786, 0.9973367926964833, 0.9706878729802868, 0.9245361996432977, 0.8039869042161956, 0.7451633493313311, 0.6804390107227549, 0.6855783782728775, 0.6641128432476983, 0.26337856354974176, 0.2754202520569352, 0.2339701053937628, 0.03840315412853965, 0.06242805942303015, 0.06716677226502449, 0.06776476564453981, 0.0849994109149331, 0.09139337778902595, 0.105122986101786, 0.10511398309651954, 0.10511398309651954], \"yaxis\": \"y\"}, {\"customdata\": [[\"features_3:9\", \"features_3\", 0.9681451916694641, 0.5], [\"features_3:9\", \"features_3\", 0.7892473936080933, 0.2], [\"features_3:9\", \"features_3\", 0.5621167421340942, 0.1], [\"features_3:9\", \"features_3\", 0.3692970871925354, 0.05], [\"features_3:9\", \"features_3\", 0.11642701923847198, 0.01], [\"features_3:9\", \"features_3\", 0.0813804566860199, 0.005], [\"features_3:9\", \"features_3\", 0.044197000563144684, 0.001], [\"features_3:9\", \"features_3\", 0.99, 0.66796875], [\"features_3:9\", \"features_3\", 0.95, 0.421875], [\"features_3:9\", \"features_3\", 0.9, 0.3125], [\"features_3:9\", \"features_3\", 0.85, 0.25390625], [\"features_3:9\", \"features_3\", 0.8, 0.20703125], [\"features_3:9\", \"features_3\", 0.75, 0.17578125], [\"features_3:9\", \"features_3\", 0.7, 0.1484375], [\"features_3:9\", \"features_3\", 0.65, 0.12890625], [\"features_3:9\", \"features_3\", 0.6, 0.11328125], [\"features_3:9\", \"features_3\", 0.55, 0.09765625], [\"features_3:9\", \"features_3\", 0.5, 0.08203125], [\"features_3:9\", \"features_3\", 0.45, 0.06640625], [\"features_3:9\", \"features_3\", 0.4, 0.0546875], [\"features_3:9\", \"features_3\", 0.35, 0.046875], [\"features_3:9\", \"features_3\", 0.3, 0.03515625], [\"features_3:9\", \"features_3\", 0.25, 0.02734375], [\"features_3:9\", \"features_3\", 0.2, 0.01953125], [\"features_3:9\", \"features_3\", 0.15, 0.01171875], [\"features_3:9\", \"features_3\", 0.1, 0.0078125], [\"features_3:9\", \"features_3\", 0.05, 0.00390625]], \"hovertemplate\": \"feature_name=features_3:9<br>keep_ratios=%{x}<br>correlations=%{y}<extra></extra>\", \"legendgroup\": \"features_3:9\", \"marker\": {\"color\": \"#636efa\", \"symbol\": \"circle\"}, \"mode\": \"markers\", \"name\": \"features_3:9\", \"showlegend\": true, \"type\": \"scattergl\", \"x\": [0.5, 0.2, 0.1, 0.05, 0.01, 0.005, 0.001, 0.66796875, 0.421875, 0.3125, 0.25390625, 0.20703125, 0.17578125, 0.1484375, 0.12890625, 0.11328125, 0.09765625, 0.08203125, 0.06640625, 0.0546875, 0.046875, 0.03515625, 0.02734375, 0.01953125, 0.01171875, 0.0078125, 0.00390625], \"xaxis\": \"x\", \"y\": [0.979369146779376, 0.7570340620261267, 0.3887874596805292, 0.07279461129965273, 0.06322254658535904, 0.06329562071155195, 0.06329375768732032, 0.9943517275174256, 0.922687126652662, 0.8724379744477057, 0.6905903689041395, 0.7570340620261267, 0.7252804036650928, 0.72528561971458, 0.4908173321094279, 0.3551844677521476, 0.3887874596805292, 0.1999382660056774, 0.12761257589240804, 0.07279461129965273, 0.07279461129965273, 0.07279869736334683, 0.004735088293245784, 0.06322254658535904, 0.06322254658535904, 0.06322254658535904, 0.06329562071155195], \"yaxis\": \"y\"}, {\"customdata\": [[\"features_3:16\", \"features_3\", 0.9851722717285156, 0.5], [\"features_3:16\", \"features_3\", 0.8673667311668396, 0.2], [\"features_3:16\", \"features_3\", 0.6891924142837524, 0.1], [\"features_3:16\", \"features_3\", 0.5110123157501221, 0.05], [\"features_3:16\", \"features_3\", 0.2007330358028412, 0.01], [\"features_3:16\", \"features_3\", 0.1488572061061859, 0.005], [\"features_3:16\", \"features_3\", 0.09500955045223236, 0.001], [\"features_3:16\", \"features_3\", 0.99, 0.54296875], [\"features_3:16\", \"features_3\", 0.95, 0.3359375], [\"features_3:16\", \"features_3\", 0.9, 0.23828125], [\"features_3:16\", \"features_3\", 0.85, 0.18359375], [\"features_3:16\", \"features_3\", 0.8, 0.15234375], [\"features_3:16\", \"features_3\", 0.75, 0.125], [\"features_3:16\", \"features_3\", 0.7, 0.10546875], [\"features_3:16\", \"features_3\", 0.65, 0.0859375], [\"features_3:16\", \"features_3\", 0.6, 0.0703125], [\"features_3:16\", \"features_3\", 0.55, 0.05859375], [\"features_3:16\", \"features_3\", 0.5, 0.046875], [\"features_3:16\", \"features_3\", 0.45, 0.0390625], [\"features_3:16\", \"features_3\", 0.4, 0.03125], [\"features_3:16\", \"features_3\", 0.35, 0.0234375], [\"features_3:16\", \"features_3\", 0.3, 0.01953125], [\"features_3:16\", \"features_3\", 0.25, 0.015625], [\"features_3:16\", \"features_3\", 0.2, 0.0078125], [\"features_3:16\", \"features_3\", 0.15, 0.0078125], [\"features_3:16\", \"features_3\", 0.1, 0.00390625], [\"features_3:16\", \"features_3\", 0.05, 0.0]], \"hovertemplate\": \"feature_name=features_3:16<br>keep_ratios=%{x}<br>correlations=%{y}<extra></extra>\", \"legendgroup\": \"features_3:16\", \"marker\": {\"color\": \"#EF553B\", \"symbol\": \"circle\"}, \"mode\": \"markers\", \"name\": \"features_3:16\", \"showlegend\": true, \"type\": \"scattergl\", \"x\": [0.5, 0.2, 0.1, 0.05, 0.01, 0.005, 0.001, 0.54296875, 0.3359375, 0.23828125, 0.18359375, 0.15234375, 0.125, 0.10546875, 0.0859375, 0.0703125, 0.05859375, 0.046875, 0.0390625, 0.03125, 0.0234375, 0.01953125, 0.015625, 0.0078125, 0.0078125, 0.00390625, 0.0], \"xaxis\": \"x\", \"y\": [0.9964905630627315, 0.8821935903630738, 0.5279043087332538, 0.429576914084299, 0.1140581669574452, 0.1140581669574452, 0.12125788121884629, 0.9984239318683181, 0.9657499571233716, 0.9105465867320803, 0.883757851780752, 0.7601255170240415, 0.5654478454750688, 0.6049884817181219, 0.5279043087332538, 0.4327142472423725, 0.4316584180971482, 0.429576914084299, 0.11539805447612866, 0.11439319079570891, 0.1140581669574452, 0.1140581669574452, 0.1140581669574452, 0.1140581669574452, 0.1140581669574452, 0.1140581669574452, 0.12125788121884629], \"yaxis\": \"y\"}, {\"customdata\": [[\"features_6:15\", \"features_6\", 0.99, 0.48042929292929293], [\"features_6:15\", \"features_6\", 0.95, 0.3071338383838384], [\"features_6:15\", \"features_6\", 0.9, 0.21212121212121213], [\"features_6:15\", \"features_6\", 0.85, 0.15482954545454544], [\"features_6:15\", \"features_6\", 0.8, 0.1148989898989899], [\"features_6:15\", \"features_6\", 0.75, 0.08546401515151515], [\"features_6:15\", \"features_6\", 0.7, 0.06328914141414141], [\"features_6:15\", \"features_6\", 0.65, 0.04632260101010101], [\"features_6:15\", \"features_6\", 0.6, 0.03330176767676768], [\"features_6:15\", \"features_6\", 0.55, 0.023200757575757576], [\"features_6:15\", \"features_6\", 0.5, 0.01570391414141414], [\"features_6:15\", \"features_6\", 0.45, 0.010890151515151516], [\"features_6:15\", \"features_6\", 0.4, 0.0078125], [\"features_6:15\", \"features_6\", 0.35, 0.005760732323232323], [\"features_6:15\", \"features_6\", 0.3, 0.004182449494949495], [\"features_6:15\", \"features_6\", 0.25, 0.0029987373737373735], [\"features_6:15\", \"features_6\", 0.2, 0.002051767676767677], [\"features_6:15\", \"features_6\", 0.15, 0.0012626262626262627], [\"features_6:15\", \"features_6\", 0.1, 0.0006313131313131314], [\"features_6:15\", \"features_6\", 0.05, 0.00023674242424242425], [\"features_6:15\", \"features_6\", 0.9921455383300781, 0.5], [\"features_6:15\", \"features_6\", 0.8910909295082092, 0.2], [\"features_6:15\", \"features_6\", 0.7764651775360107, 0.1], [\"features_6:15\", \"features_6\", 0.6618989109992981, 0.05], [\"features_6:15\", \"features_6\", 0.4377867877483368, 0.01], [\"features_6:15\", \"features_6\", 0.3278675675392151, 0.005], [\"features_6:15\", \"features_6\", 0.12707878649234772, 0.001]], \"hovertemplate\": \"feature_name=features_6:15<br>keep_ratios=%{x}<br>correlations=%{y}<extra></extra>\", \"legendgroup\": \"features_6:15\", \"marker\": {\"color\": \"#00cc96\", \"symbol\": \"circle\"}, \"mode\": \"markers\", \"name\": \"features_6:15\", \"showlegend\": true, \"type\": \"scattergl\", \"x\": [0.48042929292929293, 0.3071338383838384, 0.21212121212121213, 0.15482954545454544, 0.1148989898989899, 0.08546401515151515, 0.06328914141414141, 0.04632260101010101, 0.03330176767676768, 0.023200757575757576, 0.01570391414141414, 0.010890151515151516, 0.0078125, 0.005760732323232323, 0.004182449494949495, 0.0029987373737373735, 0.002051767676767677, 0.0012626262626262627, 0.0006313131313131314, 0.00023674242424242425, 0.5, 0.2, 0.1, 0.05, 0.01, 0.005, 0.001], \"xaxis\": \"x\", \"y\": [0.9987095189722388, 0.9870933851103132, 0.956529264164914, 0.9330204283611531, 0.8711866182201369, 0.8458735404828809, 0.825283843813776, 0.7320293178497788, 0.6232976437843512, 0.6040621047877922, 0.4227214557715765, 0.20733699055422528, -0.06993762263176674, -0.09898574022570744, -0.10832595059388184, -0.1679150177603525, -0.15333440297893547, -0.14523520495138292, -0.19469995192171524, -0.1992515359482718, 0.9991717564959142, 0.9524736554443858, 0.8514940026089368, 0.7658765832491345, -0.1851635622145678, -0.11183722585262336, -0.19521877437747664], \"yaxis\": \"y\"}, {\"customdata\": [[\"features_6:3\", \"features_6\", 0.9996870756149292, 0.5], [\"features_6:3\", \"features_6\", 0.9843171834945679, 0.2], [\"features_6:3\", \"features_6\", 0.9307470917701721, 0.1], [\"features_6:3\", \"features_6\", 0.8477283120155334, 0.05], [\"features_6:3\", \"features_6\", 0.5879307985305786, 0.01], [\"features_6:3\", \"features_6\", 0.47642818093299866, 0.005], [\"features_6:3\", \"features_6\", 0.2478858381509781, 0.001], [\"features_6:3\", \"features_6\", 0.99, 0.2275094696969697], [\"features_6:3\", \"features_6\", 0.95, 0.12239583333333333], [\"features_6:3\", \"features_6\", 0.9, 0.07559974747474747], [\"features_6:3\", \"features_6\", 0.85, 0.05082070707070707], [\"features_6:3\", \"features_6\", 0.8, 0.035905934343434344], [\"features_6:3\", \"features_6\", 0.75, 0.026278409090909092], [\"features_6:3\", \"features_6\", 0.7, 0.019491792929292928], [\"features_6:3\", \"features_6\", 0.65, 0.014441287878787878], [\"features_6:3\", \"features_6\", 0.6, 0.010732323232323232], [\"features_6:3\", \"features_6\", 0.55, 0.007891414141414142], [\"features_6:3\", \"features_6\", 0.5, 0.005760732323232323], [\"features_6:3\", \"features_6\", 0.45, 0.004261363636363636], [\"features_6:3\", \"features_6\", 0.4, 0.003077651515151515], [\"features_6:3\", \"features_6\", 0.35, 0.002130681818181818], [\"features_6:3\", \"features_6\", 0.3, 0.0014993686868686868], [\"features_6:3\", \"features_6\", 0.25, 0.0010258838383838385], [\"features_6:3\", \"features_6\", 0.2, 0.0006313131313131314], [\"features_6:3\", \"features_6\", 0.15, 0.00039457070707070706], [\"features_6:3\", \"features_6\", 0.1, 0.00015782828282828284], [\"features_6:3\", \"features_6\", 0.05, 7.891414141414142e-05]], \"hovertemplate\": \"feature_name=features_6:3<br>keep_ratios=%{x}<br>correlations=%{y}<extra></extra>\", \"legendgroup\": \"features_6:3\", \"marker\": {\"color\": \"#ab63fa\", \"symbol\": \"circle\"}, \"mode\": \"markers\", \"name\": \"features_6:3\", \"showlegend\": true, \"type\": \"scattergl\", \"x\": [0.5, 0.2, 0.1, 0.05, 0.01, 0.005, 0.001, 0.2275094696969697, 0.12239583333333333, 0.07559974747474747, 0.05082070707070707, 0.035905934343434344, 0.026278409090909092, 0.019491792929292928, 0.014441287878787878, 0.010732323232323232, 0.007891414141414142, 0.005760732323232323, 0.004261363636363636, 0.003077651515151515, 0.002130681818181818, 0.0014993686868686868, 0.0010258838383838385, 0.0006313131313131314, 0.00039457070707070706, 0.00015782828282828284, 7.891414141414142e-05], \"xaxis\": \"x\", \"y\": [0.9999998835518664, 0.998775643765119, 0.9850649642984709, 0.9624723616937503, 0.7140201304289864, 0.4434974615357708, -0.13117309808600658, 0.999335415629129, 0.9903110950172946, 0.9776758163472317, 0.9638625803900222, 0.9470654326340324, 0.9145817116570727, 0.8946900565323213, 0.878464499592446, 0.8048171742251258, 0.7467873490484163, 0.5830268047360007, 0.5678935080168612, -0.18750505418910668, -0.14623243075821726, -0.10261594024208145, -0.08512567986758854, -0.0341748403546718, -0.228118386925294, -0.22637549771395565, -0.24892741845365962], \"yaxis\": \"y\"}, {\"customdata\": [[\"features_3:4\", \"features_3\", 0.9718810319900513, 0.5], [\"features_3:4\", \"features_3\", 0.8347628116607666, 0.2], [\"features_3:4\", \"features_3\", 0.7013444304466248, 0.1], [\"features_3:4\", \"features_3\", 0.5375152826309204, 0.05], [\"features_3:4\", \"features_3\", 0.20323073863983154, 0.01], [\"features_3:4\", \"features_3\", 0.14638914167881012, 0.005], [\"features_3:4\", \"features_3\", 0.08922868221998215, 0.001], [\"features_3:4\", \"features_3\", 0.99, 0.6328125], [\"features_3:4\", \"features_3\", 0.95, 0.41796875], [\"features_3:4\", \"features_3\", 0.9, 0.29296875], [\"features_3:4\", \"features_3\", 0.85, 0.21875], [\"features_3:4\", \"features_3\", 0.8, 0.1640625], [\"features_3:4\", \"features_3\", 0.75, 0.12890625], [\"features_3:4\", \"features_3\", 0.7, 0.09765625], [\"features_3:4\", \"features_3\", 0.65, 0.078125], [\"features_3:4\", \"features_3\", 0.6, 0.0625], [\"features_3:4\", \"features_3\", 0.55, 0.05078125], [\"features_3:4\", \"features_3\", 0.5, 0.04296875], [\"features_3:4\", \"features_3\", 0.45, 0.03515625], [\"features_3:4\", \"features_3\", 0.4, 0.02734375], [\"features_3:4\", \"features_3\", 0.35, 0.0234375], [\"features_3:4\", \"features_3\", 0.3, 0.01953125], [\"features_3:4\", \"features_3\", 0.25, 0.015625], [\"features_3:4\", \"features_3\", 0.2, 0.0078125], [\"features_3:4\", \"features_3\", 0.15, 0.0078125], [\"features_3:4\", \"features_3\", 0.1, 0.00390625], [\"features_3:4\", \"features_3\", 0.05, 0.0]], \"hovertemplate\": \"feature_name=features_3:4<br>keep_ratios=%{x}<br>correlations=%{y}<extra></extra>\", \"legendgroup\": \"features_3:4\", \"marker\": {\"color\": \"#FFA15A\", \"symbol\": \"circle\"}, \"mode\": \"markers\", \"name\": \"features_3:4\", \"showlegend\": true, \"type\": \"scattergl\", \"x\": [0.5, 0.2, 0.1, 0.05, 0.01, 0.005, 0.001, 0.6328125, 0.41796875, 0.29296875, 0.21875, 0.1640625, 0.12890625, 0.09765625, 0.078125, 0.0625, 0.05078125, 0.04296875, 0.03515625, 0.02734375, 0.0234375, 0.01953125, 0.015625, 0.0078125, 0.0078125, 0.00390625, 0.0], \"xaxis\": \"x\", \"y\": [0.9886441472641219, 0.9247656067431089, 0.7223101333043129, -0.12687168235646057, 0.0, 0.0, 0.0, 0.9975506841676114, 0.97589689757143, 0.9628479462704964, 0.9348026035323913, 0.9101399649058655, 0.8463580044614136, 0.7223101333043129, -0.17176416853734977, -0.17176416853734977, -0.12687168235646057, -0.12687168235646057, -0.12687168235646057, -0.12687168235646057, -0.14600221314549655, -0.14600221314549655, -0.14600221314549655, 0.0, 0.0, 0.0, 0.0], \"yaxis\": \"y\"}, {\"customdata\": [[\"features_10:12\", \"features_10\", 0.99, 0.4088045549012816], [\"features_10:12\", \"features_10\", 0.95, 0.30746666089366126], [\"features_10:12\", \"features_10\", 0.9, 0.24380845167994458], [\"features_10:12\", \"features_10\", 0.85, 0.2003756061655698], [\"features_10:12\", \"features_10\", 0.8, 0.16697696570834777], [\"features_10:12\", \"features_10\", 0.75, 0.1399430637339799], [\"features_10:12\", \"features_10\", 0.7, 0.11738504502944233], [\"features_10:12\", \"features_10\", 0.65, 0.09825294423276758], [\"features_10:12\", \"features_10\", 0.6, 0.0817782299965362], [\"features_10:12\", \"features_10\", 0.55, 0.06754416349151368], [\"features_10:12\", \"features_10\", 0.5, 0.05520977658468999], [\"features_10:12\", \"features_10\", 0.45, 0.0444719864911673], [\"features_10:12\", \"features_10\", 0.4, 0.0351521908555594], [\"features_10:12\", \"features_10\", 0.35, 0.02710426047800485], [\"features_10:12\", \"features_10\", 0.3, 0.02017665396605473], [\"features_10:12\", \"features_10\", 0.25, 0.014288188430897126], [\"features_10:12\", \"features_10\", 0.2, 0.009390154139244891], [\"features_10:12\", \"features_10\", 0.15, 0.005482551091098025], [\"features_10:12\", \"features_10\", 0.1, 0.0025437305161066853], [\"features_10:12\", \"features_10\", 0.05, 0.0006386387253204018], [\"features_10:12\", \"features_10\", 0.9990507960319519, 0.5], [\"features_10:12\", \"features_10\", 0.8495017290115356, 0.2], [\"features_10:12\", \"features_10\", 0.6548922657966614, 0.1], [\"features_10:12\", \"features_10\", 0.4766278862953186, 0.05], [\"features_10:12\", \"features_10\", 0.20677685737609863, 0.01], [\"features_10:12\", \"features_10\", 0.14285215735435486, 0.005], [\"features_10:12\", \"features_10\", 0.06235150247812271, 0.001]], \"hovertemplate\": \"feature_name=features_10:12<br>keep_ratios=%{x}<br>correlations=%{y}<extra></extra>\", \"legendgroup\": \"features_10:12\", \"marker\": {\"color\": \"#19d3f3\", \"symbol\": \"circle\"}, \"mode\": \"markers\", \"name\": \"features_10:12\", \"showlegend\": true, \"type\": \"scattergl\", \"x\": [0.4088045549012816, 0.30746666089366126, 0.24380845167994458, 0.2003756061655698, 0.16697696570834777, 0.1399430637339799, 0.11738504502944233, 0.09825294423276758, 0.0817782299965362, 0.06754416349151368, 0.05520977658468999, 0.0444719864911673, 0.0351521908555594, 0.02710426047800485, 0.02017665396605473, 0.014288188430897126, 0.009390154139244891, 0.005482551091098025, 0.0025437305161066853, 0.0006386387253204018, 0.5, 0.2, 0.1, 0.05, 0.01, 0.005, 0.001], \"xaxis\": \"x\", \"y\": [0.9983038741706333, 0.9793693257407615, 0.934386635128639, 0.8614041361810736, 0.7797638497181726, 0.6876589505240988, 0.5911477116954189, 0.513549344153428, 0.40588405771708613, 0.37108507820356956, 0.32352818783700776, 0.3392876320108983, 0.2638715696397803, 0.2195311505169712, 0.21328866289983278, 0.1865835573135085, 0.21179366344872586, 0.06731568801454656, -0.09819470495059587, -0.1561983157403956, 0.999985599195215, 0.859114178189975, 0.5196516947617749, 0.36546915899575083, 0.22549393671781412, 0.01661179102485668, -0.15776566655737329], \"yaxis\": \"y\"}, {\"customdata\": [[\"features_8:5\", \"features_8\", 0.9994992017745972, 0.5], [\"features_8:5\", \"features_8\", 0.9195717573165894, 0.2], [\"features_8:5\", \"features_8\", 0.7648383975028992, 0.1], [\"features_8:5\", \"features_8\", 0.5989245772361755, 0.05], [\"features_8:5\", \"features_8\", 0.3019707500934601, 0.01], [\"features_8:5\", \"features_8\", 0.21900717914104462, 0.005], [\"features_8:5\", \"features_8\", 0.09381022304296494, 0.001], [\"features_8:5\", \"features_8\", 0.99, 0.33795269770879527], [\"features_8:5\", \"features_8\", 0.95, 0.23865946045824094], [\"features_8:5\", \"features_8\", 0.9, 0.1810328898743533], [\"features_8:5\", \"features_8\", 0.85, 0.14360449002217296], [\"features_8:5\", \"features_8\", 0.8, 0.1158190133037694], [\"features_8:5\", \"features_8\", 0.75, 0.09405025868440503], [\"features_8:5\", \"features_8\", 0.7, 0.07645048041389504], [\"features_8:5\", \"features_8\", 0.65, 0.06210735402808574], [\"features_8:5\", \"features_8\", 0.6, 0.050235587583148555], [\"features_8:5\", \"features_8\", 0.55, 0.04025776053215078], [\"features_8:5\", \"features_8\", 0.5, 0.031862065779748705], [\"features_8:5\", \"features_8\", 0.45, 0.02478288987435329], [\"features_8:5\", \"features_8\", 0.4, 0.018800813008130083], [\"features_8:5\", \"features_8\", 0.35, 0.01388118994826312], [\"features_8:5\", \"features_8\", 0.3, 0.00985079453067258], [\"features_8:5\", \"features_8\", 0.25, 0.006617239467849224], [\"features_8:5\", \"features_8\", 0.2, 0.004145879526977088], [\"features_8:5\", \"features_8\", 0.15, 0.0023443274205469326], [\"features_8:5\", \"features_8\", 0.1, 0.0011201958610495195], [\"features_8:5\", \"features_8\", 0.05, 0.00035800073909830006]], \"hovertemplate\": \"feature_name=features_8:5<br>keep_ratios=%{x}<br>correlations=%{y}<extra></extra>\", \"legendgroup\": \"features_8:5\", \"marker\": {\"color\": \"#FF6692\", \"symbol\": \"circle\"}, \"mode\": \"markers\", \"name\": \"features_8:5\", \"showlegend\": true, \"type\": \"scattergl\", \"x\": [0.5, 0.2, 0.1, 0.05, 0.01, 0.005, 0.001, 0.33795269770879527, 0.23865946045824094, 0.1810328898743533, 0.14360449002217296, 0.1158190133037694, 0.09405025868440503, 0.07645048041389504, 0.06210735402808574, 0.050235587583148555, 0.04025776053215078, 0.031862065779748705, 0.02478288987435329, 0.018800813008130083, 0.01388118994826312, 0.00985079453067258, 0.006617239467849224, 0.004145879526977088, 0.0023443274205469326, 0.0011201958610495195, 0.00035800073909830006], \"xaxis\": \"x\", \"y\": [0.999999211146724, 0.9668669009780786, 0.8560546924088992, 0.6990664581947412, 0.4894694766642347, 0.4685293098866198, 0.3637263131209715, 0.9988780888162954, 0.9846098766556609, 0.9514861342273309, 0.9167388111049901, 0.8914933286996294, 0.8367517571769199, 0.7570459296746721, 0.7053596878154239, 0.7006087890698303, 0.6752915255971422, 0.6397696464805935, 0.5600562118606693, 0.6310497332112524, 0.5643069585475471, 0.4898952718271089, 0.47572497748957265, 0.5143024202304756, 0.44255850769399896, 0.3630966198513714, 0.2060271420438018], \"yaxis\": \"y\"}, {\"customdata\": [[\"features_8:3\", \"features_8\", 0.9996030330657959, 0.5], [\"features_8:3\", \"features_8\", 0.9176256656646729, 0.2], [\"features_8:3\", \"features_8\", 0.7584584355354309, 0.1], [\"features_8:3\", \"features_8\", 0.5856425762176514, 0.05], [\"features_8:3\", \"features_8\", 0.27949047088623047, 0.01], [\"features_8:3\", \"features_8\", 0.19715221226215363, 0.005], [\"features_8:3\", \"features_8\", 0.08043166995048523, 0.001], [\"features_8:3\", \"features_8\", 0.99, 0.33859940872135996], [\"features_8:3\", \"features_8\", 0.95, 0.24066888396156688], [\"features_8:3\", \"features_8\", 0.9, 0.18293837767923135], [\"features_8:3\", \"features_8\", 0.85, 0.14545223577235772], [\"features_8:3\", \"features_8\", 0.8, 0.1180709534368071], [\"features_8:3\", \"features_8\", 0.75, 0.0967179416112343], [\"features_8:3\", \"features_8\", 0.7, 0.07936067997043607], [\"features_8:3\", \"features_8\", 0.65, 0.06505219881744272], [\"features_8:3\", \"features_8\", 0.6, 0.0530880450849963], [\"features_8:3\", \"features_8\", 0.55, 0.0429369918699187], [\"features_8:3\", \"features_8\", 0.5, 0.03433342572062084], [\"features_8:3\", \"features_8\", 0.45, 0.027092572062084257], [\"features_8:3\", \"features_8\", 0.4, 0.020960365853658538], [\"features_8:3\", \"features_8\", 0.35, 0.015832871396895785], [\"features_8:3\", \"features_8\", 0.3, 0.011548410938654842], [\"features_8:3\", \"features_8\", 0.25, 0.00799150036954915], [\"features_8:3\", \"features_8\", 0.2, 0.005139042867701405], [\"features_8:3\", \"features_8\", 0.15, 0.002967941611234294], [\"features_8:3\", \"features_8\", 0.1, 0.0014435513673318552], [\"features_8:3\", \"features_8\", 0.05, 0.00046193643754619364]], \"hovertemplate\": \"feature_name=features_8:3<br>keep_ratios=%{x}<br>correlations=%{y}<extra></extra>\", \"legendgroup\": \"features_8:3\", \"marker\": {\"color\": \"#B6E880\", \"symbol\": \"circle\"}, \"mode\": \"markers\", \"name\": \"features_8:3\", \"showlegend\": true, \"type\": \"scattergl\", \"x\": [0.5, 0.2, 0.1, 0.05, 0.01, 0.005, 0.001, 0.33859940872135996, 0.24066888396156688, 0.18293837767923135, 0.14545223577235772, 0.1180709534368071, 0.0967179416112343, 0.07936067997043607, 0.06505219881744272, 0.0530880450849963, 0.0429369918699187, 0.03433342572062084, 0.027092572062084257, 0.020960365853658538, 0.015832871396895785, 0.011548410938654842, 0.00799150036954915, 0.005139042867701405, 0.002967941611234294, 0.0014435513673318552, 0.00046193643754619364], \"xaxis\": \"x\", \"y\": [0.9999994603861666, 0.9512688729825454, 0.8418113468419625, 0.6866994722275127, 0.4451741637276482, 0.4592698408336844, -0.16360121192515417, 0.9987290212681502, 0.9813611510246278, 0.9350819479237519, 0.9104500547723269, 0.8841722444307654, 0.8582246175091862, 0.8351077706163268, 0.7729742501232657, 0.7055249197034983, 0.6539497674488122, 0.599787401280694, 0.5530713027873574, 0.5000846546855182, 0.46875196038058065, 0.4707019172726801, 0.4364974528033021, 0.45918122090824887, 0.305357306849536, -0.09250709847575522, -0.18401403554076604], \"yaxis\": \"y\"}, {\"customdata\": [[\"features_10:5\", \"features_10\", 0.9985846877098083, 0.5], [\"features_10:5\", \"features_10\", 0.8334511518478394, 0.2], [\"features_10:5\", \"features_10\", 0.6360903978347778, 0.1], [\"features_10:5\", \"features_10\", 0.46050140261650085, 0.05], [\"features_10:5\", \"features_10\", 0.20252686738967896, 0.01], [\"features_10:5\", \"features_10\", 0.14260251820087433, 0.005], [\"features_10:5\", \"features_10\", 0.06626247614622116, 0.001], [\"features_10:5\", \"features_10\", 0.99, 0.42297908728784206], [\"features_10:5\", \"features_10\", 0.95, 0.3216844908209214], [\"features_10:5\", \"features_10\", 0.9, 0.25717656737097333], [\"features_10:5\", \"features_10\", 0.85, 0.2123744371319709], [\"features_10:5\", \"features_10\", 0.8, 0.17762274852788362], [\"features_10:5\", \"features_10\", 0.75, 0.14922497402147558], [\"features_10:5\", \"features_10\", 0.7, 0.1254167388292345], [\"features_10:5\", \"features_10\", 0.65, 0.10512101662625563], [\"features_10:5\", \"features_10\", 0.6, 0.08762339799099411], [\"features_10:5\", \"features_10\", 0.55, 0.072431373397991], [\"features_10:5\", \"features_10\", 0.5, 0.05922562348458608], [\"features_10:5\", \"features_10\", 0.45, 0.04771388985105646], [\"features_10:5\", \"features_10\", 0.4, 0.037679684793903705], [\"features_10:5\", \"features_10\", 0.35, 0.028933581572566678], [\"features_10:5\", \"features_10\", 0.3, 0.021416046068583303], [\"features_10:5\", \"features_10\", 0.25, 0.015062131970904053], [\"features_10:5\", \"features_10\", 0.2, 0.00975818323519224], [\"features_10:5\", \"features_10\", 0.15, 0.005531260824385175], [\"features_10:5\", \"features_10\", 0.1, 0.0024138378940076204], [\"features_10:5\", \"features_10\", 0.05, 0.0005412192587461032]], \"hovertemplate\": \"feature_name=features_10:5<br>keep_ratios=%{x}<br>correlations=%{y}<extra></extra>\", \"legendgroup\": \"features_10:5\", \"marker\": {\"color\": \"#FF97FF\", \"symbol\": \"circle\"}, \"mode\": \"markers\", \"name\": \"features_10:5\", \"showlegend\": true, \"type\": \"scattergl\", \"x\": [0.5, 0.2, 0.1, 0.05, 0.01, 0.005, 0.001, 0.42297908728784206, 0.3216844908209214, 0.25717656737097333, 0.2123744371319709, 0.17762274852788362, 0.14922497402147558, 0.1254167388292345, 0.10512101662625563, 0.08762339799099411, 0.072431373397991, 0.05922562348458608, 0.04771388985105646, 0.037679684793903705, 0.028933581572566678, 0.021416046068583303, 0.015062131970904053, 0.00975818323519224, 0.005531260824385175, 0.0024138378940076204, 0.0005412192587461032], \"xaxis\": \"x\", \"y\": [0.9999553642802772, 0.805654156742693, 0.3868397802792472, 0.13958051080304648, 0.06563692440286673, 0.10519699998601813, -0.03464147310908028, 0.9984533221494035, 0.9830657130171587, 0.9365491425047616, 0.8411400920469241, 0.7146609626694844, 0.6045441636794738, 0.4778016633064648, 0.4102648116148567, 0.37020958604370413, 0.312339378947872, 0.24300057522477897, 0.13134913730270115, 0.16941188085491354, 0.16898101954261185, 0.07085113583049413, 0.0409531375011021, 0.06591868903258313, 0.11406797208733482, -0.02951153794623185, -0.11863836954535416], \"yaxis\": \"y\"}, {\"customdata\": [[\"features_8:10\", \"features_8\", 0.9993489384651184, 0.5], [\"features_8:10\", \"features_8\", 0.8973110914230347, 0.2], [\"features_8:10\", \"features_8\", 0.7323588132858276, 0.1], [\"features_8:10\", \"features_8\", 0.5639992952346802, 0.05], [\"features_8:10\", \"features_8\", 0.2716193199157715, 0.01], [\"features_8:10\", \"features_8\", 0.19086134433746338, 0.005], [\"features_8:10\", \"features_8\", 0.07613956183195114, 0.001], [\"features_8:10\", \"features_8\", 0.99, 0.3700110864745011], [\"features_8:10\", \"features_8\", 0.95, 0.2650822246858832], [\"features_8:10\", \"features_8\", 0.9, 0.20260532150776053], [\"features_8:10\", \"features_8\", 0.85, 0.16150452697708795], [\"features_8:10\", \"features_8\", 0.8, 0.13107446415373245], [\"features_8:10\", \"features_8\", 0.75, 0.10726164079822616], [\"features_8:10\", \"features_8\", 0.7, 0.08790650406504065], [\"features_8:10\", \"features_8\", 0.65, 0.07184266444937176], [\"features_8:10\", \"features_8\", 0.6, 0.058365668883961566], [\"features_8:10\", \"features_8\", 0.55, 0.04701358093126386], [\"features_8:10\", \"features_8\", 0.5, 0.03742839985218034], [\"features_8:10\", \"features_8\", 0.45, 0.029367609016999262], [\"features_8:10\", \"features_8\", 0.4, 0.022600240206947526], [\"features_8:10\", \"features_8\", 0.35, 0.016929970436067997], [\"features_8:10\", \"features_8\", 0.3, 0.012252864005912786], [\"features_8:10\", \"features_8\", 0.25, 0.008453436807095344], [\"features_8:10\", \"features_8\", 0.2, 0.00546239837398374], [\"features_8:10\", \"features_8\", 0.15, 0.0031642645971914265], [\"features_8:10\", \"features_8\", 0.1, 0.0015474870657797488], [\"features_8:10\", \"features_8\", 0.05, 0.0005312269031781227]], \"hovertemplate\": \"feature_name=features_8:10<br>keep_ratios=%{x}<br>correlations=%{y}<extra></extra>\", \"legendgroup\": \"features_8:10\", \"marker\": {\"color\": \"#FECB52\", \"symbol\": \"circle\"}, \"mode\": \"markers\", \"name\": \"features_8:10\", \"showlegend\": true, \"type\": \"scattergl\", \"x\": [0.5, 0.2, 0.1, 0.05, 0.01, 0.005, 0.001, 0.3700110864745011, 0.2650822246858832, 0.20260532150776053, 0.16150452697708795, 0.13107446415373245, 0.10726164079822616, 0.08790650406504065, 0.07184266444937176, 0.058365668883961566, 0.04701358093126386, 0.03742839985218034, 0.029367609016999262, 0.022600240206947526, 0.016929970436067997, 0.012252864005912786, 0.008453436807095344, 0.00546239837398374, 0.0031642645971914265, 0.0015474870657797488, 0.0005312269031781227], \"xaxis\": \"x\", \"y\": [0.9999979520006398, 0.9305390439244757, 0.71823569294087, 0.2791063833336346, 0.12854321694629398, -0.02075484119997717, 0.13582023811096836, 0.9983828234157355, 0.9747628538987703, 0.9341631213795687, 0.8751959979048334, 0.8500788334002021, 0.759284017054234, 0.6851104980935432, 0.5161051097286464, 0.37710423211690425, 0.1995413581229607, 0.11815446747165145, 0.047732806488112525, 0.0004492452521613252, 0.06825150193993787, 0.01589023902155591, 0.1785995402262316, -0.028163574380816014, 0.08125467110027974, 0.1410156433268552, 0.12093954348972592], \"yaxis\": \"y\"}, {\"customdata\": [[\"features_6:7\", \"features_6\", 0.9985728859901428, 0.5], [\"features_6:7\", \"features_6\", 0.9229298830032349, 0.2], [\"features_6:7\", \"features_6\", 0.8209371566772461, 0.1], [\"features_6:7\", \"features_6\", 0.7033794522285461, 0.05], [\"features_6:7\", \"features_6\", 0.4492987394332886, 0.01], [\"features_6:7\", \"features_6\", 0.3428158164024353, 0.005], [\"features_6:7\", \"features_6\", 0.13226459920406342, 0.001], [\"features_6:7\", \"features_6\", 0.99, 0.3970959595959596], [\"features_6:7\", \"features_6\", 0.95, 0.2498421717171717], [\"features_6:7\", \"features_6\", 0.9, 0.1686395202020202], [\"features_6:7\", \"features_6\", 0.85, 0.12026515151515152], [\"features_6:7\", \"features_6\", 0.8, 0.08783143939393939], [\"features_6:7\", \"features_6\", 0.75, 0.06526199494949494], [\"features_6:7\", \"features_6\", 0.7, 0.04908459595959596], [\"features_6:7\", \"features_6\", 0.65, 0.036773989898989896], [\"features_6:7\", \"features_6\", 0.6, 0.027304292929292928], [\"features_6:7\", \"features_6\", 0.55, 0.019728535353535352], [\"features_6:7\", \"features_6\", 0.5, 0.014046717171717172], [\"features_6:7\", \"features_6\", 0.45, 0.01002209595959596], [\"features_6:7\", \"features_6\", 0.4, 0.007102272727272727], [\"features_6:7\", \"features_6\", 0.35, 0.005208333333333333], [\"features_6:7\", \"features_6\", 0.3, 0.003787878787878788], [\"features_6:7\", \"features_6\", 0.25, 0.0027619949494949495], [\"features_6:7\", \"features_6\", 0.2, 0.001893939393939394], [\"features_6:7\", \"features_6\", 0.15, 0.0011837121212121212], [\"features_6:7\", \"features_6\", 0.1, 0.0006313131313131314], [\"features_6:7\", \"features_6\", 0.05, 0.00023674242424242425]], \"hovertemplate\": \"feature_name=features_6:7<br>keep_ratios=%{x}<br>correlations=%{y}<extra></extra>\", \"legendgroup\": \"features_6:7\", \"marker\": {\"color\": \"#636efa\", \"symbol\": \"circle\"}, \"mode\": \"markers\", \"name\": \"features_6:7\", \"showlegend\": true, \"type\": \"scattergl\", \"x\": [0.5, 0.2, 0.1, 0.05, 0.01, 0.005, 0.001, 0.3970959595959596, 0.2498421717171717, 0.1686395202020202, 0.12026515151515152, 0.08783143939393939, 0.06526199494949494, 0.04908459595959596, 0.036773989898989896, 0.027304292929292928, 0.019728535353535352, 0.014046717171717172, 0.01002209595959596, 0.007102272727272727, 0.005208333333333333, 0.003787878787878788, 0.0027619949494949495, 0.001893939393939394, 0.0011837121212121212, 0.0006313131313131314, 0.00023674242424242425], \"xaxis\": \"x\", \"y\": [0.9999602610876309, 0.9685761143778606, 0.8805010115724017, 0.7003936678529501, 0.005294065689263946, 0.022679077075984495, 0.003975073155580229, 0.9985808205474259, 0.9868359977285657, 0.9598698143445827, 0.91751145749923, 0.8543939982064779, 0.8020873333038057, 0.6942353927779488, 0.5568227663695351, 0.40349868594187943, 0.25339539040432557, 0.17783209795010263, 0.13502006051800142, 0.007511169599833416, -0.004612107335147093, 0.017856757647683692, -0.0218931036667999, 0.004553934282679576, 0.05464376116807894, 0.003975073155580229, 0.0], \"yaxis\": \"y\"}, {\"customdata\": [[\"features_10:0\", \"features_10\", 0.99, 0.4071646605472809], [\"features_10:0\", \"features_10\", 0.95, 0.30600536889504676], [\"features_10:0\", \"features_10\", 0.9, 0.24225515240734327], [\"features_10:0\", \"features_10\", 0.85, 0.19859499480429513], [\"features_10:0\", \"features_10\", 0.8, 0.16507728611014894], [\"features_10:0\", \"features_10\", 0.75, 0.1379189037062695], [\"features_10:0\", \"features_10\", 0.7, 0.11524181676480776], [\"features_10:0\", \"features_10\", 0.65, 0.09601229650155871], [\"features_10:0\", \"features_10\", 0.6, 0.07960794076896432], [\"features_10:0\", \"features_10\", 0.55, 0.06548211811569103], [\"features_10:0\", \"features_10\", 0.5, 0.05323432629026671], [\"features_10:0\", \"features_10\", 0.45, 0.042588543470730864], [\"features_10:0\", \"features_10\", 0.4, 0.033366167301697267], [\"features_10:0\", \"features_10\", 0.35, 0.025415656390717006], [\"features_10:0\", \"features_10\", 0.3, 0.018650415656390716], [\"features_10:0\", \"features_10\", 0.25, 0.012973025632144095], [\"features_10:0\", \"features_10\", 0.2, 0.008318540006927607], [\"features_10:0\", \"features_10\", 0.15, 0.004643661240041566], [\"features_10:0\", \"features_10\", 0.1, 0.001959213716660894], [\"features_10:0\", \"features_10\", 0.05, 0.00040050225147211636], [\"features_10:0\", \"features_10\", 0.9989331364631653, 0.5], [\"features_10:0\", \"features_10\", 0.8518466949462891, 0.2], [\"features_10:0\", \"features_10\", 0.661033570766449, 0.1], [\"features_10:0\", \"features_10\", 0.4855409562587738, 0.05], [\"features_10:0\", \"features_10\", 0.21928685903549194, 0.01], [\"features_10:0\", \"features_10\", 0.15541352331638336, 0.005], [\"features_10:0\", \"features_10\", 0.07425568252801895, 0.001]], \"hovertemplate\": \"feature_name=features_10:0<br>keep_ratios=%{x}<br>correlations=%{y}<extra></extra>\", \"legendgroup\": \"features_10:0\", \"marker\": {\"color\": \"#EF553B\", \"symbol\": \"circle\"}, \"mode\": \"markers\", \"name\": \"features_10:0\", \"showlegend\": true, \"type\": \"scattergl\", \"x\": [0.4071646605472809, 0.30600536889504676, 0.24225515240734327, 0.19859499480429513, 0.16507728611014894, 0.1379189037062695, 0.11524181676480776, 0.09601229650155871, 0.07960794076896432, 0.06548211811569103, 0.05323432629026671, 0.042588543470730864, 0.033366167301697267, 0.025415656390717006, 0.018650415656390716, 0.012973025632144095, 0.008318540006927607, 0.004643661240041566, 0.001959213716660894, 0.00040050225147211636, 0.5, 0.2, 0.1, 0.05, 0.01, 0.005, 0.001], \"xaxis\": \"x\", \"y\": [0.9986891801694016, 0.978790607187376, 0.9217297143374965, 0.8458848949804955, 0.7470788150283078, 0.7075002120042406, 0.5959157496947601, 0.5365853705465861, 0.5042428633684601, 0.4756615633165547, 0.45143467575134744, 0.3629219994858988, 0.35205133770964625, 0.3659124802107342, 0.5442355301549009, 0.5181029574899065, 0.3703721158499429, 0.3007603707964251, 0.06443910630733912, -0.01617699944753139, 0.9999809146087788, 0.853871003118746, 0.5591360337435621, 0.4205765749236368, 0.5525937616837506, 0.24507216736596663, 0.11213072214676255], \"yaxis\": \"y\"}, {\"customdata\": [[\"features_10:7\", \"features_10\", 0.998921275138855, 0.5], [\"features_10:7\", \"features_10\", 0.8421326279640198, 0.2], [\"features_10:7\", \"features_10\", 0.6458014249801636, 0.1], [\"features_10:7\", \"features_10\", 0.4687868654727936, 0.05], [\"features_10:7\", \"features_10\", 0.2023487240076065, 0.01], [\"features_10:7\", \"features_10\", 0.13992413878440857, 0.005], [\"features_10:7\", \"features_10\", 0.0617242194712162, 0.001], [\"features_10:7\", \"features_10\", 0.99, 0.41675506581226185], [\"features_10:7\", \"features_10\", 0.95, 0.314307672324212], [\"features_10:7\", \"features_10\", 0.9, 0.24995670245930032], [\"features_10:7\", \"features_10\", 0.85, 0.20587980602701766], [\"features_10:7\", \"features_10\", 0.8, 0.17189664877034985], [\"features_10:7\", \"features_10\", 0.75, 0.14424034464842397], [\"features_10:7\", \"features_10\", 0.7, 0.12116275545549013], [\"features_10:7\", \"features_10\", 0.65, 0.10151649636300658], [\"features_10:7\", \"features_10\", 0.6, 0.08461421891236577], [\"features_10:7\", \"features_10\", 0.55, 0.06989305507447177], [\"features_10:7\", \"features_10\", 0.5, 0.057114868375476274], [\"features_10:7\", \"features_10\", 0.45, 0.046009049186006234], [\"features_10:7\", \"features_10\", 0.4, 0.036353697609975755], [\"features_10:7\", \"features_10\", 0.35, 0.028018921025285765], [\"features_10:7\", \"features_10\", 0.3, 0.020891063387599586], [\"features_10:7\", \"features_10\", 0.25, 0.014834819882230689], [\"features_10:7\", \"features_10\", 0.2, 0.009785244198129546], [\"features_10:7\", \"features_10\", 0.15, 0.005699038794596467], [\"features_10:7\", \"features_10\", 0.1, 0.0026303255975060618], [\"features_10:7\", \"features_10\", 0.05, 0.0006494631104953239]], \"hovertemplate\": \"feature_name=features_10:7<br>keep_ratios=%{x}<br>correlations=%{y}<extra></extra>\", \"legendgroup\": \"features_10:7\", \"marker\": {\"color\": \"#00cc96\", \"symbol\": \"circle\"}, \"mode\": \"markers\", \"name\": \"features_10:7\", \"showlegend\": true, \"type\": \"scattergl\", \"x\": [0.5, 0.2, 0.1, 0.05, 0.01, 0.005, 0.001, 0.41675506581226185, 0.314307672324212, 0.24995670245930032, 0.20587980602701766, 0.17189664877034985, 0.14424034464842397, 0.12116275545549013, 0.10151649636300658, 0.08461421891236577, 0.06989305507447177, 0.057114868375476274, 0.046009049186006234, 0.036353697609975755, 0.028018921025285765, 0.020891063387599586, 0.014834819882230689, 0.009785244198129546, 0.005699038794596467, 0.0026303255975060618, 0.0006494631104953239], \"xaxis\": \"x\", \"y\": [0.9999824958436154, 0.8856387398153167, 0.5757590963431753, 0.3667922143786054, 0.23602494541787844, 0.21744740118235478, -0.20704097433182955, 0.9982232726260287, 0.9810893555288527, 0.9384114684599874, 0.8994492184964364, 0.8024129329403628, 0.7403909432952852, 0.6550279980997582, 0.5714994721031046, 0.440319476200391, 0.4527780390118369, 0.37414222519658813, 0.3365888687980083, 0.31096240431632294, 0.3119398224312562, 0.27565523391671415, 0.27778512636965613, 0.22846025434046716, 0.23595025714308251, -0.17833539323424188, -0.1389086892416566], \"yaxis\": \"y\"}, {\"customdata\": [[\"features_10:11\", \"features_10\", 0.9992417097091675, 0.5], [\"features_10:11\", \"features_10\", 0.8567380905151367, 0.2], [\"features_10:11\", \"features_10\", 0.6660192608833313, 0.1], [\"features_10:11\", \"features_10\", 0.48953646421432495, 0.05], [\"features_10:11\", \"features_10\", 0.2174687683582306, 0.01], [\"features_10:11\", \"features_10\", 0.1519172638654709, 0.005], [\"features_10:11\", \"features_10\", 0.06635038554668427, 0.001], [\"features_10:11\", \"features_10\", 0.99, 0.3974876602009006], [\"features_10:11\", \"features_10\", 0.95, 0.2999707741600277], [\"features_10:11\", \"features_10\", 0.9, 0.23775220817457568], [\"features_10:11\", \"features_10\", 0.85, 0.19491470384482162], [\"features_10:11\", \"features_10\", 0.8, 0.16196527537235886], [\"features_10:11\", \"features_10\", 0.75, 0.13531022687911326], [\"features_10:11\", \"features_10\", 0.7, 0.11310400069276065], [\"features_10:11\", \"features_10\", 0.65, 0.09430204364392103], [\"features_10:11\", \"features_10\", 0.6, 0.078195358503637], [\"features_10:11\", \"features_10\", 0.55, 0.06431308451679944], [\"features_10:11\", \"features_10\", 0.5, 0.05230342916522342], [\"features_10:11\", \"features_10\", 0.45, 0.04191201939729823], [\"features_10:11\", \"features_10\", 0.4, 0.032933191894700384], [\"features_10:11\", \"features_10\", 0.35, 0.025199168687218564], [\"features_10:11\", \"features_10\", 0.3, 0.018596293730516106], [\"features_10:11\", \"features_10\", 0.25, 0.01305962071354347], [\"features_10:11\", \"features_10\", 0.2, 0.008513378940076203], [\"features_10:11\", \"features_10\", 0.15, 0.00487638552130239], [\"features_10:11\", \"features_10\", 0.1, 0.0022081745756841013], [\"features_10:11\", \"features_10\", 0.05, 0.0005791046068583304]], \"hovertemplate\": \"feature_name=features_10:11<br>keep_ratios=%{x}<br>correlations=%{y}<extra></extra>\", \"legendgroup\": \"features_10:11\", \"marker\": {\"color\": \"#ab63fa\", \"symbol\": \"circle\"}, \"mode\": \"markers\", \"name\": \"features_10:11\", \"showlegend\": true, \"type\": \"scattergl\", \"x\": [0.5, 0.2, 0.1, 0.05, 0.01, 0.005, 0.001, 0.3974876602009006, 0.2999707741600277, 0.23775220817457568, 0.19491470384482162, 0.16196527537235886, 0.13531022687911326, 0.11310400069276065, 0.09430204364392103, 0.078195358503637, 0.06431308451679944, 0.05230342916522342, 0.04191201939729823, 0.032933191894700384, 0.025199168687218564, 0.018596293730516106, 0.01305962071354347, 0.008513378940076203, 0.00487638552130239, 0.0022081745756841013, 0.0005791046068583304], \"xaxis\": \"x\", \"y\": [0.9999947694801746, 0.8058469435318482, 0.5560323857509997, 0.399324283917284, 0.16208242807813922, -0.16837439468694945, -0.10295844882330699, 0.9983856498866538, 0.9756151121614018, 0.9050822968812663, 0.7870285835475848, 0.6492422128305879, 0.59297567170184, 0.5594340075961876, 0.542416291090632, 0.4841649741229617, 0.416022986242452, 0.39449143339839315, 0.4017870903269915, 0.3225051215771863, 0.26930784507506744, 0.2778268943091554, 0.263192662632737, 0.12915499476777825, -0.13235607684290362, -0.1009926391269093, -0.09412274184794958], \"yaxis\": \"y\"}, {\"customdata\": [[\"features_6:8\", \"features_6\", 0.99, 0.4918718434343434], [\"features_6:8\", \"features_6\", 0.95, 0.3117897727272727], [\"features_6:8\", \"features_6\", 0.9, 0.21338383838383837], [\"features_6:8\", \"features_6\", 0.85, 0.15404040404040403], [\"features_6:8\", \"features_6\", 0.8, 0.11324179292929293], [\"features_6:8\", \"features_6\", 0.75, 0.08349116161616162], [\"features_6:8\", \"features_6\", 0.7, 0.06092171717171717], [\"features_6:8\", \"features_6\", 0.65, 0.0436395202020202], [\"features_6:8\", \"features_6\", 0.6, 0.030618686868686868], [\"features_6:8\", \"features_6\", 0.55, 0.021070075757575756], [\"features_6:8\", \"features_6\", 0.5, 0.014204545454545454], [\"features_6:8\", \"features_6\", 0.45, 0.009943181818181818], [\"features_6:8\", \"features_6\", 0.4, 0.007102272727272727], [\"features_6:8\", \"features_6\", 0.35, 0.005129419191919192], [\"features_6:8\", \"features_6\", 0.3, 0.0038667929292929295], [\"features_6:8\", \"features_6\", 0.25, 0.002840909090909091], [\"features_6:8\", \"features_6\", 0.2, 0.0019728535353535355], [\"features_6:8\", \"features_6\", 0.15, 0.001341540404040404], [\"features_6:8\", \"features_6\", 0.1, 0.0007891414141414141], [\"features_6:8\", \"features_6\", 0.05, 0.0003156565656565657], [\"features_6:8\", \"features_6\", 0.9909080862998962, 0.5], [\"features_6:8\", \"features_6\", 0.8904428482055664, 0.2], [\"features_6:8\", \"features_6\", 0.779449462890625, 0.1], [\"features_6:8\", \"features_6\", 0.6700921654701233, 0.05], [\"features_6:8\", \"features_6\", 0.4509516656398773, 0.01], [\"features_6:8\", \"features_6\", 0.3449072539806366, 0.005], [\"features_6:8\", \"features_6\", 0.12015530467033386, 0.001]], \"hovertemplate\": \"feature_name=features_6:8<br>keep_ratios=%{x}<br>correlations=%{y}<extra></extra>\", \"legendgroup\": \"features_6:8\", \"marker\": {\"color\": \"#FFA15A\", \"symbol\": \"circle\"}, \"mode\": \"markers\", \"name\": \"features_6:8\", \"showlegend\": true, \"type\": \"scattergl\", \"x\": [0.4918718434343434, 0.3117897727272727, 0.21338383838383837, 0.15404040404040403, 0.11324179292929293, 0.08349116161616162, 0.06092171717171717, 0.0436395202020202, 0.030618686868686868, 0.021070075757575756, 0.014204545454545454, 0.009943181818181818, 0.007102272727272727, 0.005129419191919192, 0.0038667929292929295, 0.002840909090909091, 0.0019728535353535355, 0.001341540404040404, 0.0007891414141414141, 0.0003156565656565657, 0.5, 0.2, 0.1, 0.05, 0.01, 0.005, 0.001], \"xaxis\": \"x\", \"y\": [0.9986771306109694, 0.9804582500117579, 0.9570041581324958, 0.910463488020598, 0.8548217571479916, 0.8124706926579544, 0.7140506757737766, 0.661695648966174, 0.62038694827731, 0.5272440002068505, 0.0938997848874765, -0.054959780818052056, 0.003294456795037093, 0.09218841715393697, 0.11347893971629297, 0.2093066821406447, 0.18156478013243832, 0.1804614703053782, 0.003342469138161507, 0.017477371687845612, 0.9989730727130993, 0.95260106977615, 0.8397429779127012, 0.7095392123108482, -0.054959780818052056, 0.09181368210419365, 0.003342469138161507], \"yaxis\": \"y\"}, {\"customdata\": [[\"features_10:17\", \"features_10\", 0.99, 0.4064340145479737], [\"features_10:17\", \"features_10\", 0.95, 0.30715816591617595], [\"features_10:17\", \"features_10\", 0.9, 0.24470146345687566], [\"features_10:17\", \"features_10\", 0.85, 0.2015717007273987], [\"features_10:17\", \"features_10\", 0.8, 0.16823800658122617], [\"features_10:17\", \"features_10\", 0.75, 0.1411932802216834], [\"features_10:17\", \"features_10\", 0.7, 0.11860820055420852], [\"features_10:17\", \"features_10\", 0.65, 0.09942739002424662], [\"features_10:17\", \"features_10\", 0.6, 0.08292020263249048], [\"features_10:17\", \"features_10\", 0.55, 0.06865907516453065], [\"features_10:17\", \"features_10\", 0.5, 0.056232680983720126], [\"features_10:17\", \"features_10\", 0.45, 0.045381234845860756], [\"features_10:17\", \"features_10\", 0.4, 0.035936958780741254], [\"features_10:17\", \"features_10\", 0.35, 0.027705013855213022], [\"features_10:17\", \"features_10\", 0.3, 0.020587980602701766], [\"features_10:17\", \"features_10\", 0.25, 0.014542561482507793], [\"features_10:17\", \"features_10\", 0.2, 0.009525458953931417], [\"features_10:17\", \"features_10\", 0.15, 0.005444665742985798], [\"features_10:17\", \"features_10\", 0.1, 0.002392189123657776], [\"features_10:17\", \"features_10\", 0.05, 0.0005412192587461032], [\"features_10:17\", \"features_10\", 0.9991077780723572, 0.5], [\"features_10:17\", \"features_10\", 0.8478848934173584, 0.2], [\"features_10:17\", \"features_10\", 0.651604950428009, 0.1], [\"features_10:17\", \"features_10\", 0.4721340835094452, 0.05], [\"features_10:17\", \"features_10\", 0.20517498254776, 0.01], [\"features_10:17\", \"features_10\", 0.1436258852481842, 0.005], [\"features_10:17\", \"features_10\", 0.0663599967956543, 0.001]], \"hovertemplate\": \"feature_name=features_10:17<br>keep_ratios=%{x}<br>correlations=%{y}<extra></extra>\", \"legendgroup\": \"features_10:17\", \"marker\": {\"color\": \"#19d3f3\", \"symbol\": \"circle\"}, \"mode\": \"markers\", \"name\": \"features_10:17\", \"showlegend\": true, \"type\": \"scattergl\", \"x\": [0.4064340145479737, 0.30715816591617595, 0.24470146345687566, 0.2015717007273987, 0.16823800658122617, 0.1411932802216834, 0.11860820055420852, 0.09942739002424662, 0.08292020263249048, 0.06865907516453065, 0.056232680983720126, 0.045381234845860756, 0.035936958780741254, 0.027705013855213022, 0.020587980602701766, 0.014542561482507793, 0.009525458953931417, 0.005444665742985798, 0.002392189123657776, 0.0005412192587461032, 0.5, 0.2, 0.1, 0.05, 0.01, 0.005, 0.001], \"xaxis\": \"x\", \"y\": [0.9986120734909191, 0.9806798172665352, 0.9405665333960321, 0.8569163543112819, 0.8122492606508813, 0.7446757602331207, 0.6224511828379629, 0.5689441886290845, 0.5480605152615445, 0.4255614182239882, 0.4557587949530822, 0.4189596059583432, 0.40415417322038394, 0.26335173796244205, 0.29765193041625737, 0.2835002405141631, 0.20665701115785104, -0.027423473667575117, -0.01887428562738045, -0.08156413731779921, 0.9999847355100994, 0.8589795147498399, 0.5712046426226782, 0.46022374637063085, 0.30177239259131117, -0.022785469078192625, -0.08171681474393601], \"yaxis\": \"y\"}, {\"customdata\": [[\"features_10:19\", \"features_10\", 0.9990484714508057, 0.5], [\"features_10:19\", \"features_10\", 0.8441529870033264, 0.2], [\"features_10:19\", \"features_10\", 0.6487330794334412, 0.1], [\"features_10:19\", \"features_10\", 0.47154703736305237, 0.05], [\"features_10:19\", \"features_10\", 0.2051149308681488, 0.01], [\"features_10:19\", \"features_10\", 0.1420232653617859, 0.005], [\"features_10:19\", \"features_10\", 0.06312666833400726, 0.001], [\"features_10:19\", \"features_10\", 0.99, 0.41140781953585037], [\"features_10:19\", \"features_10\", 0.95, 0.31165028576376863], [\"features_10:19\", \"features_10\", 0.9, 0.24806243505368894], [\"features_10:19\", \"features_10\", 0.85, 0.2043752164877035], [\"features_10:19\", \"features_10\", 0.8, 0.1705706615864219], [\"features_10:19\", \"features_10\", 0.75, 0.14301718912365777], [\"features_10:19\", \"features_10\", 0.7, 0.12000995843436092], [\"features_10:19\", \"features_10\", 0.65, 0.10045570661586421], [\"features_10:19\", \"features_10\", 0.6, 0.08361296328368549], [\"features_10:19\", \"features_10\", 0.55, 0.06908663837894008], [\"features_10:19\", \"features_10\", 0.5, 0.05646540526498095], [\"features_10:19\", \"features_10\", 0.45, 0.045435356771735366], [\"features_10:19\", \"features_10\", 0.4, 0.03586660027710426], [\"features_10:19\", \"features_10\", 0.35, 0.027591357810876342], [\"features_10:19\", \"features_10\", 0.3, 0.020512209906477313], [\"features_10:19\", \"features_10\", 0.25, 0.014510088326983027], [\"features_10:19\", \"features_10\", 0.2, 0.009536283339106338], [\"features_10:19\", \"features_10\", 0.15, 0.005542085209560097], [\"features_10:19\", \"features_10\", 0.1, 0.0025437305161066853], [\"features_10:19\", \"features_10\", 0.05, 0.0006115777623830966]], \"hovertemplate\": \"feature_name=features_10:19<br>keep_ratios=%{x}<br>correlations=%{y}<extra></extra>\", \"legendgroup\": \"features_10:19\", \"marker\": {\"color\": \"#FF6692\", \"symbol\": \"circle\"}, \"mode\": \"markers\", \"name\": \"features_10:19\", \"showlegend\": true, \"type\": \"scattergl\", \"x\": [0.5, 0.2, 0.1, 0.05, 0.01, 0.005, 0.001, 0.41140781953585037, 0.31165028576376863, 0.24806243505368894, 0.2043752164877035, 0.1705706615864219, 0.14301718912365777, 0.12000995843436092, 0.10045570661586421, 0.08361296328368549, 0.06908663837894008, 0.05646540526498095, 0.045435356771735366, 0.03586660027710426, 0.027591357810876342, 0.020512209906477313, 0.014510088326983027, 0.009536283339106338, 0.005542085209560097, 0.0025437305161066853, 0.0006115777623830966], \"xaxis\": \"x\", \"y\": [0.999984218341754, 0.7417343066883244, 0.3917588837375119, 0.2621411006138734, 0.07168446050602399, 0.00394042137259863, -0.027565459496008235, 0.9975478614880694, 0.9734109043315416, 0.8849395951176078, 0.7595279773121046, 0.6056186165726327, 0.5212238723505123, 0.3739646345865797, 0.3875777571238076, 0.3572212292095168, 0.27007914774952857, 0.2726131752866734, 0.2526140338725984, 0.1897743983140605, 0.20099061377588723, 0.1727191747247447, 0.16461946443442788, 0.11050346991057466, -0.07173689000383111, -0.13250574555775924, -0.02863866739519281], \"yaxis\": \"y\"}, {\"customdata\": [[\"features_10:8\", \"features_10\", 0.99, 0.37296501558711465], [\"features_10:8\", \"features_10\", 0.95, 0.28163426567370975], [\"features_10:8\", \"features_10\", 0.9, 0.22292821267751992], [\"features_10:8\", \"features_10\", 0.85, 0.18267232421198476], [\"features_10:8\", \"features_10\", 0.8, 0.15180658988569448], [\"features_10:8\", \"features_10\", 0.75, 0.1267806113612747], [\"features_10:8\", \"features_10\", 0.7, 0.10592743332178732], [\"features_10:8\", \"features_10\", 0.65, 0.08826744890890198], [\"features_10:8\", \"features_10\", 0.6, 0.07311330966401108], [\"features_10:8\", \"features_10\", 0.55, 0.06003745237270523], [\"features_10:8\", \"features_10\", 0.5, 0.04871514547973675], [\"features_10:8\", \"features_10\", 0.45, 0.03889742812608244], [\"features_10:8\", \"features_10\", 0.4, 0.030394873571181157], [\"features_10:8\", \"features_10\", 0.35, 0.0230830013855213], [\"features_10:8\", \"features_10\", 0.3, 0.016869804295116038], [\"features_10:8\", \"features_10\", 0.25, 0.011674099411153447], [\"features_10:8\", \"features_10\", 0.2, 0.007430940422583997], [\"features_10:8\", \"features_10\", 0.15, 0.004113266366470384], [\"features_10:8\", \"features_10\", 0.1, 0.0017048406650502252], [\"features_10:8\", \"features_10\", 0.05, 0.000335555940422584], [\"features_10:8\", \"features_10\", 0.9994523525238037, 0.5], [\"features_10:8\", \"features_10\", 0.8733634352684021, 0.2], [\"features_10:8\", \"features_10\", 0.6840988993644714, 0.1], [\"features_10:8\", \"features_10\", 0.5060356855392456, 0.05], [\"features_10:8\", \"features_10\", 0.23151737451553345, 0.01], [\"features_10:8\", \"features_10\", 0.16486842930316925, 0.005], [\"features_10:8\", \"features_10\", 0.07931969314813614, 0.001]], \"hovertemplate\": \"feature_name=features_10:8<br>keep_ratios=%{x}<br>correlations=%{y}<extra></extra>\", \"legendgroup\": \"features_10:8\", \"marker\": {\"color\": \"#B6E880\", \"symbol\": \"circle\"}, \"mode\": \"markers\", \"name\": \"features_10:8\", \"showlegend\": true, \"type\": \"scattergl\", \"x\": [0.37296501558711465, 0.28163426567370975, 0.22292821267751992, 0.18267232421198476, 0.15180658988569448, 0.1267806113612747, 0.10592743332178732, 0.08826744890890198, 0.07311330966401108, 0.06003745237270523, 0.04871514547973675, 0.03889742812608244, 0.030394873571181157, 0.0230830013855213, 0.016869804295116038, 0.011674099411153447, 0.007430940422583997, 0.004113266366470384, 0.0017048406650502252, 0.000335555940422584, 0.5, 0.2, 0.1, 0.05, 0.01, 0.005, 0.001], \"xaxis\": \"x\", \"y\": [0.9989742367903023, 0.9869358678302589, 0.9539132168755666, 0.9087269345786921, 0.8832565305633732, 0.8429740943125446, 0.756818457641826, 0.6020804967251127, 0.43853183777483523, 0.40342850659746754, 0.4565816271443871, 0.1600890352705478, 0.14613052671663626, 0.13326811956734713, 0.13441728812284526, 0.26274156320594483, -0.05623747208877518, -0.003258229392530965, -0.2475196557335654, -0.2099156092525725, 0.9999985745803917, 0.9380520329250899, 0.7403278933643398, 0.45911910035566306, 0.24122048450107872, -0.035972759662469586, -0.2079893213373009], \"yaxis\": \"y\"}, {\"customdata\": [[\"features_3:12\", \"features_3\", 0.9581648707389832, 0.5], [\"features_3:12\", \"features_3\", 0.7957046031951904, 0.2], [\"features_3:12\", \"features_3\", 0.6091977953910828, 0.1], [\"features_3:12\", \"features_3\", 0.40759313106536865, 0.05], [\"features_3:12\", \"features_3\", 0.11277668178081512, 0.01], [\"features_3:12\", \"features_3\", 0.07822131365537643, 0.005], [\"features_3:12\", \"features_3\", 0.039738863706588745, 0.001], [\"features_3:12\", \"features_3\", 0.99, 0.69140625], [\"features_3:12\", \"features_3\", 0.95, 0.46875], [\"features_3:12\", \"features_3\", 0.9, 0.34375], [\"features_3:12\", \"features_3\", 0.85, 0.265625], [\"features_3:12\", \"features_3\", 0.8, 0.20703125], [\"features_3:12\", \"features_3\", 0.75, 0.16015625], [\"features_3:12\", \"features_3\", 0.7, 0.1328125], [\"features_3:12\", \"features_3\", 0.65, 0.11328125], [\"features_3:12\", \"features_3\", 0.6, 0.09765625], [\"features_3:12\", \"features_3\", 0.55, 0.08203125], [\"features_3:12\", \"features_3\", 0.5, 0.0703125], [\"features_3:12\", \"features_3\", 0.45, 0.0546875], [\"features_3:12\", \"features_3\", 0.4, 0.046875], [\"features_3:12\", \"features_3\", 0.35, 0.0390625], [\"features_3:12\", \"features_3\", 0.3, 0.03125], [\"features_3:12\", \"features_3\", 0.25, 0.02734375], [\"features_3:12\", \"features_3\", 0.2, 0.01953125], [\"features_3:12\", \"features_3\", 0.15, 0.015625], [\"features_3:12\", \"features_3\", 0.1, 0.0078125], [\"features_3:12\", \"features_3\", 0.05, 0.00390625]], \"hovertemplate\": \"feature_name=features_3:12<br>keep_ratios=%{x}<br>correlations=%{y}<extra></extra>\", \"legendgroup\": \"features_3:12\", \"marker\": {\"color\": \"#FF97FF\", \"symbol\": \"circle\"}, \"mode\": \"markers\", \"name\": \"features_3:12\", \"showlegend\": true, \"type\": \"scattergl\", \"x\": [0.5, 0.2, 0.1, 0.05, 0.01, 0.005, 0.001, 0.69140625, 0.46875, 0.34375, 0.265625, 0.20703125, 0.16015625, 0.1328125, 0.11328125, 0.09765625, 0.08203125, 0.0703125, 0.0546875, 0.046875, 0.0390625, 0.03125, 0.02734375, 0.01953125, 0.015625, 0.0078125, 0.00390625], \"xaxis\": \"x\", \"y\": [0.9605843748389755, 0.48416042204956855, -0.07254090100079008, 0.0, 0.0, 0.0, 0.0, 0.9928125887450626, 0.953528811867087, 0.8880132008322301, 0.8401948107389371, 0.5096370888493567, 0.2503617449772263, -0.04230985695398383, -0.04360578155043539, -0.07254090100079008, -0.07254090100079008, -0.05347876151946727, 0.0, 0.0, 0.0, 0.0, 0.0, 0.0, 0.0, 0.0, 0.0], \"yaxis\": \"y\"}, {\"customdata\": [[\"features_3:3\", \"features_3\", 0.99, 0.734375], [\"features_3:3\", \"features_3\", 0.95, 0.47265625], [\"features_3:3\", \"features_3\", 0.9, 0.3515625], [\"features_3:3\", \"features_3\", 0.85, 0.28515625], [\"features_3:3\", \"features_3\", 0.8, 0.2421875], [\"features_3:3\", \"features_3\", 0.75, 0.203125], [\"features_3:3\", \"features_3\", 0.7, 0.171875], [\"features_3:3\", \"features_3\", 0.65, 0.1484375], [\"features_3:3\", \"features_3\", 0.6, 0.125], [\"features_3:3\", \"features_3\", 0.55, 0.10546875], [\"features_3:3\", \"features_3\", 0.5, 0.08984375], [\"features_3:3\", \"features_3\", 0.45, 0.07421875], [\"features_3:3\", \"features_3\", 0.4, 0.0625], [\"features_3:3\", \"features_3\", 0.35, 0.05078125], [\"features_3:3\", \"features_3\", 0.3, 0.0390625], [\"features_3:3\", \"features_3\", 0.25, 0.02734375], [\"features_3:3\", \"features_3\", 0.2, 0.01953125], [\"features_3:3\", \"features_3\", 0.15, 0.015625], [\"features_3:3\", \"features_3\", 0.1, 0.0078125], [\"features_3:3\", \"features_3\", 0.05, 0.00390625], [\"features_3:3\", \"features_3\", 0.956106960773468, 0.5], [\"features_3:3\", \"features_3\", 0.7457484602928162, 0.2], [\"features_3:3\", \"features_3\", 0.5331720113754272, 0.1], [\"features_3:3\", \"features_3\", 0.3453912138938904, 0.05], [\"features_3:3\", \"features_3\", 0.11735360324382782, 0.01], [\"features_3:3\", \"features_3\", 0.08336444199085236, 0.005], [\"features_3:3\", \"features_3\", 0.04616076126694679, 0.001]], \"hovertemplate\": \"feature_name=features_3:3<br>keep_ratios=%{x}<br>correlations=%{y}<extra></extra>\", \"legendgroup\": \"features_3:3\", \"marker\": {\"color\": \"#FECB52\", \"symbol\": \"circle\"}, \"mode\": \"markers\", \"name\": \"features_3:3\", \"showlegend\": true, \"type\": \"scattergl\", \"x\": [0.734375, 0.47265625, 0.3515625, 0.28515625, 0.2421875, 0.203125, 0.171875, 0.1484375, 0.125, 0.10546875, 0.08984375, 0.07421875, 0.0625, 0.05078125, 0.0390625, 0.02734375, 0.01953125, 0.015625, 0.0078125, 0.00390625, 0.5, 0.2, 0.1, 0.05, 0.01, 0.005, 0.001], \"xaxis\": \"x\", \"y\": [0.9927907627357666, 0.9352677012980104, 0.7896424860392044, 0.6938428782151156, 0.6383588386569761, 0.7334601182455064, 0.5162133855309685, 0.23441646274524283, 0.25066492823273484, 0.06511005265247224, 0.26734701897940794, 0.26746800887222333, -0.07020890386556543, -0.1350070663372236, 0.1581169425951502, 0.019061875291608566, 0.019061875291608566, 0.01906175959205792, 0.02189648979094797, 0.12743927633484423, 0.9440681502924113, 0.6345294015001206, 0.1034989847456367, -0.1350070663372236, 0.02189648979094797, 0.12743927633484423, 0.12743927633484423], \"yaxis\": \"y\"}, {\"customdata\": [[\"features_10:14\", \"features_10\", 0.9984707832336426, 0.5], [\"features_10:14\", \"features_10\", 0.8353815674781799, 0.2], [\"features_10:14\", \"features_10\", 0.6395540237426758, 0.1], [\"features_10:14\", \"features_10\", 0.4641360938549042, 0.05], [\"features_10:14\", \"features_10\", 0.2028903067111969, 0.01], [\"features_10:14\", \"features_10\", 0.1411551982164383, 0.005], [\"features_10:14\", \"features_10\", 0.06411559134721756, 0.001], [\"features_10:14\", \"features_10\", 0.99, 0.42715729996536195], [\"features_10:14\", \"features_10\", 0.95, 0.3226532732940769], [\"features_10:14\", \"features_10\", 0.9, 0.25653251645306546], [\"features_10:14\", \"features_10\", 0.85, 0.2110538621406304], [\"features_10:14\", \"features_10\", 0.8, 0.17608568583304468], [\"features_10:14\", \"features_10\", 0.75, 0.1476933235192241], [\"features_10:14\", \"features_10\", 0.7, 0.1239987443713197], [\"features_10:14\", \"features_10\", 0.65, 0.1038329147904399], [\"features_10:14\", \"features_10\", 0.6, 0.08649224974021476], [\"features_10:14\", \"features_10\", 0.55, 0.07143552996189817], [\"features_10:14\", \"features_10\", 0.5, 0.05833802390024247], [\"features_10:14\", \"features_10\", 0.45, 0.04693453411846207], [\"features_10:14\", \"features_10\", 0.4, 0.03703022168340838], [\"features_10:14\", \"features_10\", 0.35, 0.028462720817457567], [\"features_10:14\", \"features_10\", 0.3, 0.021118375476272946], [\"features_10:14\", \"features_10\", 0.25, 0.014872705230342917], [\"features_10:14\", \"features_10\", 0.2, 0.009731122272254936], [\"features_10:14\", \"features_10\", 0.15, 0.005623268098372013], [\"features_10:14\", \"features_10\", 0.1, 0.002522081745756841], [\"features_10:14\", \"features_10\", 0.05, 0.0005899289920332525]], \"hovertemplate\": \"feature_name=features_10:14<br>keep_ratios=%{x}<br>correlations=%{y}<extra></extra>\", \"legendgroup\": \"features_10:14\", \"marker\": {\"color\": \"#636efa\", \"symbol\": \"circle\"}, \"mode\": \"markers\", \"name\": \"features_10:14\", \"showlegend\": true, \"type\": \"scattergl\", \"x\": [0.5, 0.2, 0.1, 0.05, 0.01, 0.005, 0.001, 0.42715729996536195, 0.3226532732940769, 0.25653251645306546, 0.2110538621406304, 0.17608568583304468, 0.1476933235192241, 0.1239987443713197, 0.1038329147904399, 0.08649224974021476, 0.07143552996189817, 0.05833802390024247, 0.04693453411846207, 0.03703022168340838, 0.028462720817457567, 0.021118375476272946, 0.014872705230342917, 0.009731122272254936, 0.005623268098372013, 0.002522081745756841, 0.0005899289920332525], \"xaxis\": \"x\", \"y\": [0.999960244553922, 0.8509333307047331, 0.6431941013943573, 0.43440364583825547, 0.12367823480843287, 0.09825776946890787, -0.15220723853614926, 0.9982844974928182, 0.9771823376423533, 0.9227602049138599, 0.8553776081298264, 0.7936775469799695, 0.7313495527518489, 0.6644564410111984, 0.636402960122467, 0.606016688714262, 0.538858079830602, 0.45234870286343776, 0.43148692213308, 0.4149720019153118, 0.3843149557659007, 0.26292267072025266, 0.3084996497827311, 0.14572751549134297, 0.2575737718728523, -0.12430330443686094, -0.15063780715354608], \"yaxis\": \"y\"}, {\"customdata\": [[\"features_8:6\", \"features_8\", 0.99, 0.37221683296378416], [\"features_8:6\", \"features_8\", 0.95, 0.2661677753141168], [\"features_8:6\", \"features_8\", 0.9, 0.20302106430155212], [\"features_8:6\", \"features_8\", 0.85, 0.16114652623798964], [\"features_8:6\", \"features_8\", 0.8, 0.12995426829268292], [\"features_8:6\", \"features_8\", 0.75, 0.105460088691796], [\"features_8:6\", \"features_8\", 0.7, 0.08560837028824833], [\"features_8:6\", \"features_8\", 0.65, 0.06917498152254249], [\"features_8:6\", \"features_8\", 0.6, 0.05543237250554324], [\"features_8:6\", \"features_8\", 0.55, 0.043941703621581674], [\"features_8:6\", \"features_8\", 0.5, 0.03433342572062084], [\"features_8:6\", \"features_8\", 0.45, 0.026330376940133036], [\"features_8:6\", \"features_8\", 0.4, 0.019666943828529196], [\"features_8:6\", \"features_8\", 0.35, 0.01416990022172949], [\"features_8:6\", \"features_8\", 0.3, 0.009793052475979305], [\"features_8:6\", \"features_8\", 0.25, 0.006409368070953437], [\"features_8:6\", \"features_8\", 0.2, 0.003914911308203991], [\"features_8:6\", \"features_8\", 0.15, 0.00217110125646711], [\"features_8:6\", \"features_8\", 0.1, 0.0009931633407243164], [\"features_8:6\", \"features_8\", 0.05, 0.0002771618625277162], [\"features_8:6\", \"features_8\", 0.9992406368255615, 0.5], [\"features_8:6\", \"features_8\", 0.8969150185585022, 0.2], [\"features_8:6\", \"features_8\", 0.7372037172317505, 0.1], [\"features_8:6\", \"features_8\", 0.5774742364883423, 0.05], [\"features_8:6\", \"features_8\", 0.30263563990592957, 0.01], [\"features_8:6\", \"features_8\", 0.22365926206111908, 0.005], [\"features_8:6\", \"features_8\", 0.10016511380672455, 0.001]], \"hovertemplate\": \"feature_name=features_8:6<br>keep_ratios=%{x}<br>correlations=%{y}<extra></extra>\", \"legendgroup\": \"features_8:6\", \"marker\": {\"color\": \"#EF553B\", \"symbol\": \"circle\"}, \"mode\": \"markers\", \"name\": \"features_8:6\", \"showlegend\": true, \"type\": \"scattergl\", \"x\": [0.37221683296378416, 0.2661677753141168, 0.20302106430155212, 0.16114652623798964, 0.12995426829268292, 0.105460088691796, 0.08560837028824833, 0.06917498152254249, 0.05543237250554324, 0.043941703621581674, 0.03433342572062084, 0.026330376940133036, 0.019666943828529196, 0.01416990022172949, 0.009793052475979305, 0.006409368070953437, 0.003914911308203991, 0.00217110125646711, 0.0009931633407243164, 0.0002771618625277162, 0.5, 0.2, 0.1, 0.05, 0.01, 0.005, 0.001], \"xaxis\": \"x\", \"y\": [0.9993606097227079, 0.9880298315040168, 0.968005260402956, 0.9422432058758512, 0.9185125311516672, 0.8966796722609777, 0.8691583501271831, 0.8470192315888398, 0.8207628044605202, 0.812033146074084, 0.7924242612076786, 0.7505916576104583, 0.7218083865826861, 0.7190694536490836, 0.6917910620806714, 0.6832500117062984, 0.6329076938742266, 0.531705148780321, 0.6263908431983582, 0.6265156430874239, 0.9999985250466664, 0.9673692873623245, 0.8936137911873026, 0.8205444303342708, 0.6922110005571889, 0.6578653673883401, 0.6263908431983582], \"yaxis\": \"y\"}, {\"customdata\": [[\"features_6:5\", \"features_6\", 0.99, 0.31778724747474746], [\"features_6:5\", \"features_6\", 0.95, 0.19791666666666666], [\"features_6:5\", \"features_6\", 0.9, 0.13675820707070707], [\"features_6:5\", \"features_6\", 0.85, 0.1006155303030303], [\"features_6:5\", \"features_6\", 0.8, 0.07575757575757576], [\"features_6:5\", \"features_6\", 0.75, 0.057686237373737376], [\"features_6:5\", \"features_6\", 0.7, 0.043876262626262624], [\"features_6:5\", \"features_6\", 0.65, 0.03345959595959596], [\"features_6:5\", \"features_6\", 0.6, 0.025015782828282828], [\"features_6:5\", \"features_6\", 0.55, 0.018150252525252524], [\"features_6:5\", \"features_6\", 0.5, 0.012941919191919192], [\"features_6:5\", \"features_6\", 0.45, 0.00891729797979798], [\"features_6:5\", \"features_6\", 0.4, 0.006076388888888889], [\"features_6:5\", \"features_6\", 0.35, 0.004261363636363636], [\"features_6:5\", \"features_6\", 0.3, 0.003077651515151515], [\"features_6:5\", \"features_6\", 0.25, 0.002130681818181818], [\"features_6:5\", \"features_6\", 0.2, 0.0014204545454545455], [\"features_6:5\", \"features_6\", 0.15, 0.0008680555555555555], [\"features_6:5\", \"features_6\", 0.1, 0.0004734848484848485], [\"features_6:5\", \"features_6\", 0.05, 0.00015782828282828284], [\"features_6:5\", \"features_6\", 0.9996406435966492, 0.5], [\"features_6:5\", \"features_6\", 0.9511981010437012, 0.2], [\"features_6:5\", \"features_6\", 0.8489685654640198, 0.1], [\"features_6:5\", \"features_6\", 0.7239543795585632, 0.05], [\"features_6:5\", \"features_6\", 0.4647742211818695, 0.01], [\"features_6:5\", \"features_6\", 0.3726471960544586, 0.005], [\"features_6:5\", \"features_6\", 0.16103780269622803, 0.001]], \"hovertemplate\": \"feature_name=features_6:5<br>keep_ratios=%{x}<br>correlations=%{y}<extra></extra>\", \"legendgroup\": \"features_6:5\", \"marker\": {\"color\": \"#00cc96\", \"symbol\": \"circle\"}, \"mode\": \"markers\", \"name\": \"features_6:5\", \"showlegend\": true, \"type\": \"scattergl\", \"x\": [0.31778724747474746, 0.19791666666666666, 0.13675820707070707, 0.1006155303030303, 0.07575757575757576, 0.057686237373737376, 0.043876262626262624, 0.03345959595959596, 0.025015782828282828, 0.018150252525252524, 0.012941919191919192, 0.00891729797979798, 0.006076388888888889, 0.004261363636363636, 0.003077651515151515, 0.002130681818181818, 0.0014204545454545455, 0.0008680555555555555, 0.0004734848484848485, 0.00015782828282828284, 0.5, 0.2, 0.1, 0.05, 0.01, 0.005, 0.001], \"xaxis\": \"x\", \"y\": [0.9987722599962513, 0.9817066764571045, 0.9672259217517143, 0.936321404871691, 0.8794644143006347, 0.7975600802533787, 0.7396325851151289, 0.6002749342898813, 0.4362246284207659, 0.400550289378693, 0.4195522044966077, 0.3812484071290644, 0.14257340585116846, 0.12671186211789792, 0.09616438393429344, 0.1398625473499502, 0.14449581623683455, 0.14900847055703403, 0.1352455813282464, 0.0, 0.9999996918782561, 0.9818091081727552, 0.9369667411081011, 0.7498488636520776, 0.3822298722152714, 0.13334723961854017, 0.14900847055703403], \"yaxis\": \"y\"}, {\"customdata\": [[\"features_3:15\", \"features_3\", 0.9587714672088623, 0.5], [\"features_3:15\", \"features_3\", 0.7722244262695312, 0.2], [\"features_3:15\", \"features_3\", 0.5896565318107605, 0.1], [\"features_3:15\", \"features_3\", 0.41273513436317444, 0.05], [\"features_3:15\", \"features_3\", 0.1386171132326126, 0.01], [\"features_3:15\", \"features_3\", 0.0969511866569519, 0.005], [\"features_3:15\", \"features_3\", 0.05268062278628349, 0.001], [\"features_3:15\", \"features_3\", 0.99, 0.71484375], [\"features_3:15\", \"features_3\", 0.95, 0.46484375], [\"features_3:15\", \"features_3\", 0.9, 0.34765625], [\"features_3:15\", \"features_3\", 0.85, 0.27734375], [\"features_3:15\", \"features_3\", 0.8, 0.22265625], [\"features_3:15\", \"features_3\", 0.75, 0.18359375], [\"features_3:15\", \"features_3\", 0.7, 0.15234375], [\"features_3:15\", \"features_3\", 0.65, 0.125], [\"features_3:15\", \"features_3\", 0.6, 0.10546875], [\"features_3:15\", \"features_3\", 0.55, 0.0859375], [\"features_3:15\", \"features_3\", 0.5, 0.0703125], [\"features_3:15\", \"features_3\", 0.45, 0.05859375], [\"features_3:15\", \"features_3\", 0.4, 0.046875], [\"features_3:15\", \"features_3\", 0.35, 0.03515625], [\"features_3:15\", \"features_3\", 0.3, 0.02734375], [\"features_3:15\", \"features_3\", 0.25, 0.01953125], [\"features_3:15\", \"features_3\", 0.2, 0.015625], [\"features_3:15\", \"features_3\", 0.15, 0.01171875], [\"features_3:15\", \"features_3\", 0.1, 0.0078125], [\"features_3:15\", \"features_3\", 0.05, 0.0]], \"hovertemplate\": \"feature_name=features_3:15<br>keep_ratios=%{x}<br>correlations=%{y}<extra></extra>\", \"legendgroup\": \"features_3:15\", \"marker\": {\"color\": \"#ab63fa\", \"symbol\": \"circle\"}, \"mode\": \"markers\", \"name\": \"features_3:15\", \"showlegend\": true, \"type\": \"scattergl\", \"x\": [0.5, 0.2, 0.1, 0.05, 0.01, 0.005, 0.001, 0.71484375, 0.46484375, 0.34765625, 0.27734375, 0.22265625, 0.18359375, 0.15234375, 0.125, 0.10546875, 0.0859375, 0.0703125, 0.05859375, 0.046875, 0.03515625, 0.02734375, 0.01953125, 0.015625, 0.01171875, 0.0078125, 0.0], \"xaxis\": \"x\", \"y\": [0.9765499120632892, 0.7340875188963593, 0.7203828096938854, -0.023133830894054113, 0.0, 0.0, 0.0, 0.9954001222938285, 0.9619058563626026, 0.9374184835058101, 0.8624633884082811, 0.8473315518892865, 0.6539303979427262, 0.6908374209472016, 0.6206444178393915, 0.7203828096938854, 0.5897181948594042, 0.6046287014569895, -0.09323192704664754, -0.023133830894054113, -0.023133830894054113, 0.10233503468863109, -0.09339693384918915, -0.09339693384918915, -0.09339693384918915, 0.0, 0.0], \"yaxis\": \"y\"}, {\"customdata\": [[\"features_8:19\", \"features_8\", 0.9996750950813293, 0.5], [\"features_8:19\", \"features_8\", 0.9510456323623657, 0.2], [\"features_8:19\", \"features_8\", 0.8372527956962585, 0.1], [\"features_8:19\", \"features_8\", 0.6939923167228699, 0.05], [\"features_8:19\", \"features_8\", 0.366817831993103, 0.01], [\"features_8:19\", \"features_8\", 0.26117292046546936, 0.005], [\"features_8:19\", \"features_8\", 0.11065872013568878, 0.001], [\"features_8:19\", \"features_8\", 0.99, 0.3019101071692535], [\"features_8:19\", \"features_8\", 0.95, 0.1983670546932742], [\"features_8:19\", \"features_8\", 0.9, 0.14160661492978566], [\"features_8:19\", \"features_8\", 0.85, 0.10688054323725056], [\"features_8:19\", \"features_8\", 0.8, 0.08283675166297118], [\"features_8:19\", \"features_8\", 0.75, 0.06497135994087214], [\"features_8:19\", \"features_8\", 0.7, 0.051401977087952695], [\"features_8:19\", \"features_8\", 0.65, 0.04086982631189948], [\"features_8:19\", \"features_8\", 0.6, 0.03247413155949741], [\"features_8:19\", \"features_8\", 0.55, 0.025672117516629712], [\"features_8:19\", \"features_8\", 0.5, 0.020163525498891353], [\"features_8:19\", \"features_8\", 0.45, 0.015728935698447893], [\"features_8:19\", \"features_8\", 0.4, 0.012068089430894309], [\"features_8:19\", \"features_8\", 0.35, 0.009042405764966741], [\"features_8:19\", \"features_8\", 0.3, 0.006571045824094604], [\"features_8:19\", \"features_8\", 0.25, 0.0045847191426459715], [\"features_8:19\", \"features_8\", 0.2, 0.002991038433111604], [\"features_8:19\", \"features_8\", 0.15, 0.001743810051736881], [\"features_8:19\", \"features_8\", 0.1, 0.0008314855875831486], [\"features_8:19\", \"features_8\", 0.05, 0.00025406504065040653]], \"hovertemplate\": \"feature_name=features_8:19<br>keep_ratios=%{x}<br>correlations=%{y}<extra></extra>\", \"legendgroup\": \"features_8:19\", \"marker\": {\"color\": \"#FFA15A\", \"symbol\": \"circle\"}, \"mode\": \"markers\", \"name\": \"features_8:19\", \"showlegend\": true, \"type\": \"scattergl\", \"x\": [0.5, 0.2, 0.1, 0.05, 0.01, 0.005, 0.001, 0.3019101071692535, 0.1983670546932742, 0.14160661492978566, 0.10688054323725056, 0.08283675166297118, 0.06497135994087214, 0.051401977087952695, 0.04086982631189948, 0.03247413155949741, 0.025672117516629712, 0.020163525498891353, 0.015728935698447893, 0.012068089430894309, 0.009042405764966741, 0.006571045824094604, 0.0045847191426459715, 0.002991038433111604, 0.001743810051736881, 0.0008314855875831486, 0.00025406504065040653], \"xaxis\": \"x\", \"y\": [0.9999998609584283, 0.9929673921133181, 0.9573532166444496, 0.9005930840859708, 0.21340491327466493, 0.10139495047830638, -0.11447367061935684, 0.9995055177231853, 0.9929566513401393, 0.9807658648589531, 0.9605366999972637, 0.9461031696532596, 0.9221166919619351, 0.8998481827638333, 0.8725357736056327, 0.8322407148973577, 0.7774714407271259, 0.6767607917955847, 0.5752707681664461, 0.35965768323340375, 0.2280593883721126, 0.1430082968996974, 0.03585277528502875, 0.11652569336341814, 0.14371446618994105, -0.11887620674403757, -0.10825005910048996], \"yaxis\": \"y\"}, {\"customdata\": [[\"features_10:15\", \"features_10\", 0.99, 0.4154453152060963], [\"features_10:15\", \"features_10\", 0.95, 0.3137177433321787], [\"features_10:15\", \"features_10\", 0.9, 0.24945336854866643], [\"features_10:15\", \"features_10\", 0.85, 0.2051545722202979], [\"features_10:15\", \"features_10\", 0.8, 0.17107399549705576], [\"features_10:15\", \"features_10\", 0.75, 0.1435421718046415], [\"features_10:15\", \"features_10\", 0.7, 0.12059988742639419], [\"features_10:15\", \"features_10\", 0.65, 0.10099151368202286], [\"features_10:15\", \"features_10\", 0.6, 0.0841108850017319], [\"features_10:15\", \"features_10\", 0.55, 0.06952502597852442], [\"features_10:15\", \"features_10\", 0.5, 0.05682802216834084], [\"features_10:15\", \"features_10\", 0.45, 0.04577091271215795], [\"features_10:15\", \"features_10\", 0.4, 0.03613179771388985], [\"features_10:15\", \"features_10\", 0.35, 0.027769960166262556], [\"features_10:15\", \"features_10\", 0.3, 0.02059339279528923], [\"features_10:15\", \"features_10\", 0.25, 0.01452091271215795], [\"features_10:15\", \"features_10\", 0.2, 0.009503810183581573], [\"features_10:15\", \"features_10\", 0.15, 0.005509612054035331], [\"features_10:15\", \"features_10\", 0.1, 0.002532906130931763], [\"features_10:15\", \"features_10\", 0.05, 0.0006494631104953239], [\"features_10:15\", \"features_10\", 0.9988833665847778, 0.5], [\"features_10:15\", \"features_10\", 0.8431621193885803, 0.2], [\"features_10:15\", \"features_10\", 0.6472627520561218, 0.1], [\"features_10:15\", \"features_10\", 0.46993905305862427, 0.05], [\"features_10:15\", \"features_10\", 0.20546329021453857, 0.01], [\"features_10:15\", \"features_10\", 0.142537459731102, 0.005], [\"features_10:15\", \"features_10\", 0.06229768693447113, 0.001]], \"hovertemplate\": \"feature_name=features_10:15<br>keep_ratios=%{x}<br>correlations=%{y}<extra></extra>\", \"legendgroup\": \"features_10:15\", \"marker\": {\"color\": \"#19d3f3\", \"symbol\": \"circle\"}, \"mode\": \"markers\", \"name\": \"features_10:15\", \"showlegend\": true, \"type\": \"scattergl\", \"x\": [0.4154453152060963, 0.3137177433321787, 0.24945336854866643, 0.2051545722202979, 0.17107399549705576, 0.1435421718046415, 0.12059988742639419, 0.10099151368202286, 0.0841108850017319, 0.06952502597852442, 0.05682802216834084, 0.04577091271215795, 0.03613179771388985, 0.027769960166262556, 0.02059339279528923, 0.01452091271215795, 0.009503810183581573, 0.005509612054035331, 0.002532906130931763, 0.0006494631104953239, 0.5, 0.2, 0.1, 0.05, 0.01, 0.005, 0.001], \"xaxis\": \"x\", \"y\": [0.9979362666752785, 0.9753485081338784, 0.9112468463415575, 0.8236232896364815, 0.6702270234578485, 0.6327652407891328, 0.601110668537165, 0.5301944774091623, 0.4302539103054899, 0.30983501986230466, 0.2185081969641773, 0.13253997500797865, 0.11821927403752787, 0.0861594386627706, 0.05837383372835667, 0.050487269832358725, 0.0650362210813428, 0.04391763281980896, 0.04357228742329883, 0.0004381136054207843, 0.9999790051382165, 0.7638943530455025, 0.5340304237877915, 0.15854518209013962, 0.054918948760905965, 0.018120450458148352, -0.003973763357043672], \"yaxis\": \"y\"}, {\"customdata\": [[\"features_8:16\", \"features_8\", 0.99, 0.3523073725055432], [\"features_8:16\", \"features_8\", 0.95, 0.2540881374722838], [\"features_8:16\", \"features_8\", 0.9, 0.19481014412416853], [\"features_8:16\", \"features_8\", 0.85, 0.15533767553584626], [\"features_8:16\", \"features_8\", 0.8, 0.1260278085735403], [\"features_8:16\", \"features_8\", 0.75, 0.1028270509977827], [\"features_8:16\", \"features_8\", 0.7, 0.08392230229120473], [\"features_8:16\", \"features_8\", 0.65, 0.06826265705838877], [\"features_8:16\", \"features_8\", 0.6, 0.055212952697708796], [\"features_8:16\", \"features_8\", 0.55, 0.04426505912786401], [\"features_8:16\", \"features_8\", 0.5, 0.03508407243163341], [\"features_8:16\", \"features_8\", 0.45, 0.02733508869179601], [\"features_8:16\", \"features_8\", 0.4, 0.020810236511456023], [\"features_8:16\", \"features_8\", 0.35, 0.015417128603104213], [\"features_8:16\", \"features_8\", 0.3, 0.011017184035476718], [\"features_8:16\", \"features_8\", 0.25, 0.007460273466371028], [\"features_8:16\", \"features_8\", 0.2, 0.004688654841093865], [\"features_8:16\", \"features_8\", 0.15, 0.0026792313377679232], [\"features_8:16\", \"features_8\", 0.1, 0.001304970436067997], [\"features_8:16\", \"features_8\", 0.05, 0.0004157427937915743], [\"features_8:16\", \"features_8\", 0.9995689392089844, 0.5], [\"features_8:16\", \"features_8\", 0.9054405093193054, 0.2], [\"features_8:16\", \"features_8\", 0.7431325912475586, 0.1], [\"features_8:16\", \"features_8\", 0.5772777199745178, 0.05], [\"features_8:16\", \"features_8\", 0.2867092490196228, 0.01], [\"features_8:16\", \"features_8\", 0.20623795688152313, 0.005], [\"features_8:16\", \"features_8\", 0.08560008555650711, 0.001]], \"hovertemplate\": \"feature_name=features_8:16<br>keep_ratios=%{x}<br>correlations=%{y}<extra></extra>\", \"legendgroup\": \"features_8:16\", \"marker\": {\"color\": \"#FF6692\", \"symbol\": \"circle\"}, \"mode\": \"markers\", \"name\": \"features_8:16\", \"showlegend\": true, \"type\": \"scattergl\", \"x\": [0.3523073725055432, 0.2540881374722838, 0.19481014412416853, 0.15533767553584626, 0.1260278085735403, 0.1028270509977827, 0.08392230229120473, 0.06826265705838877, 0.055212952697708796, 0.04426505912786401, 0.03508407243163341, 0.02733508869179601, 0.020810236511456023, 0.015417128603104213, 0.011017184035476718, 0.007460273466371028, 0.004688654841093865, 0.0026792313377679232, 0.001304970436067997, 0.0004157427937915743, 0.5, 0.2, 0.1, 0.05, 0.01, 0.005, 0.001], \"xaxis\": \"x\", \"y\": [0.9990406757815973, 0.986511505213304, 0.960361227266102, 0.9330465122340275, 0.9124620677467624, 0.8781242266844781, 0.7777487048473628, 0.7132754872211872, 0.6607968920752999, 0.6416640731954633, 0.6228858218606546, 0.5306733361016024, 0.4928063465088881, 0.3871690786968959, 0.38704852801670686, 0.2671405849868367, 0.18387895838110996, 0.1576327585008105, 0.06414383254183288, 0.042777098457078645, 0.9999994752570112, 0.9650094947165625, 0.875148516219315, 0.6327232691098393, 0.29961585354889464, 0.18078225385367924, 0.042737819869872046], \"yaxis\": \"y\"}, {\"customdata\": [[\"features_6:13\", \"features_6\", 0.9997127056121826, 0.5], [\"features_6:13\", \"features_6\", 0.95106041431427, 0.2], [\"features_6:13\", \"features_6\", 0.8667811751365662, 0.1], [\"features_6:13\", \"features_6\", 0.7698239088058472, 0.05], [\"features_6:13\", \"features_6\", 0.5352107286453247, 0.01], [\"features_6:13\", \"features_6\", 0.42132216691970825, 0.005], [\"features_6:13\", \"features_6\", 0.177641823887825, 0.001], [\"features_6:13\", \"features_6\", 0.99, 0.3309659090909091], [\"features_6:13\", \"features_6\", 0.95, 0.1979955808080808], [\"features_6:13\", \"features_6\", 0.9, 0.12902462121212122], [\"features_6:13\", \"features_6\", 0.85, 0.08830492424242424], [\"features_6:13\", \"features_6\", 0.8, 0.06186868686868687], [\"features_6:13\", \"features_6\", 0.75, 0.04348169191919192], [\"features_6:13\", \"features_6\", 0.7, 0.030539772727272728], [\"features_6:13\", \"features_6\", 0.65, 0.021543560606060608], [\"features_6:13\", \"features_6\", 0.6, 0.015309343434343434], [\"features_6:13\", \"features_6\", 0.55, 0.010969065656565656], [\"features_6:13\", \"features_6\", 0.5, 0.007970328282828282], [\"features_6:13\", \"features_6\", 0.45, 0.005918560606060606], [\"features_6:13\", \"features_6\", 0.4, 0.004419191919191919], [\"features_6:13\", \"features_6\", 0.35, 0.003235479797979798], [\"features_6:13\", \"features_6\", 0.3, 0.0023674242424242425], [\"features_6:13\", \"features_6\", 0.25, 0.0016571969696969697], [\"features_6:13\", \"features_6\", 0.2, 0.0011837121212121212], [\"features_6:13\", \"features_6\", 0.15, 0.0007102272727272727], [\"features_6:13\", \"features_6\", 0.1, 0.00039457070707070706], [\"features_6:13\", \"features_6\", 0.05, 0.00015782828282828284]], \"hovertemplate\": \"feature_name=features_6:13<br>keep_ratios=%{x}<br>correlations=%{y}<extra></extra>\", \"legendgroup\": \"features_6:13\", \"marker\": {\"color\": \"#B6E880\", \"symbol\": \"circle\"}, \"mode\": \"markers\", \"name\": \"features_6:13\", \"showlegend\": true, \"type\": \"scattergl\", \"x\": [0.5, 0.2, 0.1, 0.05, 0.01, 0.005, 0.001, 0.3309659090909091, 0.1979955808080808, 0.12902462121212122, 0.08830492424242424, 0.06186868686868687, 0.04348169191919192, 0.030539772727272728, 0.021543560606060608, 0.015309343434343434, 0.010969065656565656, 0.007970328282828282, 0.005918560606060606, 0.004419191919191919, 0.003235479797979798, 0.0023674242424242425, 0.0016571969696969697, 0.0011837121212121212, 0.0007102272727272727, 0.00039457070707070706, 0.00015782828282828284], \"xaxis\": \"x\", \"y\": [0.9999997664534326, 0.9893193576053745, 0.9632163023118796, 0.9304641123889166, 0.6297576287123561, 0.030312224245201583, 0.12169153081616045, 0.9992558479425349, 0.9892948913920652, 0.9731432679772261, 0.9562999909021603, 0.9361006152753798, 0.921328775026051, 0.8636427755066345, 0.8575377828560504, 0.8314172620170563, 0.60954878459743, 0.6479654724188859, 0.5058243640514593, 0.046899442809495664, 0.018885157338088654, 0.03197236310200395, 0.12169153081616045, 0.12169153081616045, 0.048956698743897534, -0.051419665581472485, 0.14280047088789757], \"yaxis\": \"y\"}, {\"customdata\": [[\"features_6:19\", \"features_6\", 0.9999076724052429, 0.5], [\"features_6:19\", \"features_6\", 0.9766958355903625, 0.2], [\"features_6:19\", \"features_6\", 0.8838703632354736, 0.1], [\"features_6:19\", \"features_6\", 0.7659372687339783, 0.05], [\"features_6:19\", \"features_6\", 0.5184773802757263, 0.01], [\"features_6:19\", \"features_6\", 0.4295516908168793, 0.005], [\"features_6:19\", \"features_6\", 0.17846667766571045, 0.001], [\"features_6:19\", \"features_6\", 0.99, 0.24021464646464646], [\"features_6:19\", \"features_6\", 0.95, 0.1560921717171717], [\"features_6:19\", \"features_6\", 0.9, 0.11040088383838384], [\"features_6:19\", \"features_6\", 0.85, 0.08175505050505051], [\"features_6:19\", \"features_6\", 0.8, 0.061079545454545456], [\"features_6:19\", \"features_6\", 0.75, 0.04553345959595959], [\"features_6:19\", \"features_6\", 0.7, 0.033854166666666664], [\"features_6:19\", \"features_6\", 0.65, 0.024779040404040404], [\"features_6:19\", \"features_6\", 0.6, 0.01775568181818182], [\"features_6:19\", \"features_6\", 0.55, 0.012626262626262626], [\"features_6:19\", \"features_6\", 0.5, 0.008680555555555556], [\"features_6:19\", \"features_6\", 0.45, 0.005918560606060606], [\"features_6:19\", \"features_6\", 0.4, 0.004024621212121212], [\"features_6:19\", \"features_6\", 0.35, 0.0029987373737373735], [\"features_6:19\", \"features_6\", 0.3, 0.0022095959595959595], [\"features_6:19\", \"features_6\", 0.25, 0.0016571969696969697], [\"features_6:19\", \"features_6\", 0.2, 0.0011837121212121212], [\"features_6:19\", \"features_6\", 0.15, 0.0007891414141414141], [\"features_6:19\", \"features_6\", 0.1, 0.0004734848484848485], [\"features_6:19\", \"features_6\", 0.05, 0.00015782828282828284]], \"hovertemplate\": \"feature_name=features_6:19<br>keep_ratios=%{x}<br>correlations=%{y}<extra></extra>\", \"legendgroup\": \"features_6:19\", \"marker\": {\"color\": \"#FF97FF\", \"symbol\": \"circle\"}, \"mode\": \"markers\", \"name\": \"features_6:19\", \"showlegend\": true, \"type\": \"scattergl\", \"x\": [0.5, 0.2, 0.1, 0.05, 0.01, 0.005, 0.001, 0.24021464646464646, 0.1560921717171717, 0.11040088383838384, 0.08175505050505051, 0.061079545454545456, 0.04553345959595959, 0.033854166666666664, 0.024779040404040404, 0.01775568181818182, 0.012626262626262626, 0.008680555555555556, 0.005918560606060606, 0.004024621212121212, 0.0029987373737373735, 0.0022095959595959595, 0.0016571969696969697, 0.0011837121212121212, 0.0007891414141414141, 0.0004734848484848485, 0.00015782828282828284], \"xaxis\": \"x\", \"y\": [0.9999999275646806, 0.9940045739046769, 0.9180568513634211, 0.7550720578361558, 0.41276240435250444, 0.32836637581267947, 0.32736047860427386, 0.9989802883860045, 0.9763111344105202, 0.9146344069706382, 0.879558003881477, 0.810349711974186, 0.7397378069288051, 0.6696513934947034, 0.5825429226113653, 0.42789414793062214, 0.36761997317812906, 0.4468399180164087, 0.2986390618271132, 0.3335597627048643, 0.33484182055106354, 0.32750024085114526, 0.32489676339212425, 0.3393412641036653, 0.32743226650857105, 0.32743226650857105, 0.3250361737106104], \"yaxis\": \"y\"}, {\"customdata\": [[\"features_3:6\", \"features_3\", 0.99, 0.3203125], [\"features_3:6\", \"features_3\", 0.95, 0.21875], [\"features_3:6\", \"features_3\", 0.9, 0.16796875], [\"features_3:6\", \"features_3\", 0.85, 0.12890625], [\"features_3:6\", \"features_3\", 0.8, 0.10546875], [\"features_3:6\", \"features_3\", 0.75, 0.0859375], [\"features_3:6\", \"features_3\", 0.7, 0.07421875], [\"features_3:6\", \"features_3\", 0.65, 0.0625], [\"features_3:6\", \"features_3\", 0.6, 0.0546875], [\"features_3:6\", \"features_3\", 0.55, 0.046875], [\"features_3:6\", \"features_3\", 0.5, 0.0390625], [\"features_3:6\", \"features_3\", 0.45, 0.03125], [\"features_3:6\", \"features_3\", 0.4, 0.02734375], [\"features_3:6\", \"features_3\", 0.35, 0.01953125], [\"features_3:6\", \"features_3\", 0.3, 0.015625], [\"features_3:6\", \"features_3\", 0.25, 0.01171875], [\"features_3:6\", \"features_3\", 0.2, 0.0078125], [\"features_3:6\", \"features_3\", 0.15, 0.00390625], [\"features_3:6\", \"features_3\", 0.1, 0.0], [\"features_3:6\", \"features_3\", 0.05, 0.0], [\"features_3:6\", \"features_3\", 0.9997130632400513, 0.5], [\"features_3:6\", \"features_3\", 0.9349340200424194, 0.2], [\"features_3:6\", \"features_3\", 0.7848404049873352, 0.1], [\"features_3:6\", \"features_3\", 0.5677230358123779, 0.05], [\"features_3:6\", \"features_3\", 0.2275189608335495, 0.01], [\"features_3:6\", \"features_3\", 0.1769830733537674, 0.005], [\"features_3:6\", \"features_3\", 0.11858584731817245, 0.001]], \"hovertemplate\": \"feature_name=features_3:6<br>keep_ratios=%{x}<br>correlations=%{y}<extra></extra>\", \"legendgroup\": \"features_3:6\", \"marker\": {\"color\": \"#FECB52\", \"symbol\": \"circle\"}, \"mode\": \"markers\", \"name\": \"features_3:6\", \"showlegend\": true, \"type\": \"scattergl\", \"x\": [0.3203125, 0.21875, 0.16796875, 0.12890625, 0.10546875, 0.0859375, 0.07421875, 0.0625, 0.0546875, 0.046875, 0.0390625, 0.03125, 0.02734375, 0.01953125, 0.015625, 0.01171875, 0.0078125, 0.00390625, 0.0, 0.0, 0.5, 0.2, 0.1, 0.05, 0.01, 0.005, 0.001], \"xaxis\": \"x\", \"y\": [0.9963847858953294, 0.978770488266341, 0.9178059445631784, 0.8834243746663217, 0.9024586405972923, 0.8208758547457349, 0.7318102843182797, 0.7318300377763793, 0.7258247435278693, 0.6040303627822987, 0.528370243643328, 0.4622635947270004, 0.45037448778997136, 0.4503661940103252, 0.4503661940103252, 0.3373738291307219, 0.2554297060742065, 0.2554297060742065, 0.23993723835707523, 0.23993723835707523, 0.9999956342472738, 0.9564801182972528, 0.8042738504468889, 0.6040303627822987, 0.2554297060742065, 0.2554297060742065, 0.23993723835707523], \"yaxis\": \"y\"}, {\"customdata\": [[\"features_10:9\", \"features_10\", 0.99, 0.42688127814340143], [\"features_10:9\", \"features_10\", 0.95, 0.3229184707308625], [\"features_10:9\", \"features_10\", 0.9, 0.25746882577069624], [\"features_10:9\", \"features_10\", 0.85, 0.21233113959127123], [\"features_10:9\", \"features_10\", 0.8, 0.17746579494284725], [\"features_10:9\", \"features_10\", 0.75, 0.14913296674748874], [\"features_10:9\", \"features_10\", 0.7, 0.1254600363699342], [\"features_10:9\", \"features_10\", 0.65, 0.10528338240387947], [\"features_10:9\", \"features_10\", 0.6, 0.08785071007966748], [\"features_10:9\", \"features_10\", 0.55, 0.0727506927606512], [\"features_10:9\", \"features_10\", 0.5, 0.05959906477312089], [\"features_10:9\", \"features_10\", 0.45, 0.04813062868029096], [\"features_10:9\", \"features_10\", 0.4, 0.03810724800831313], [\"features_10:9\", \"features_10\", 0.35, 0.029436915483200553], [\"features_10:9\", \"features_10\", 0.3, 0.021984326290266712], [\"features_10:9\", \"features_10\", 0.25, 0.015603351229650156], [\"features_10:9\", \"features_10\", 0.2, 0.010315639071700727], [\"features_10:9\", \"features_10\", 0.15, 0.006045419120193973], [\"features_10:9\", \"features_10\", 0.1, 0.0027981035677173537], [\"features_10:9\", \"features_10\", 0.05, 0.0006873484586075511], [\"features_10:9\", \"features_10\", 0.9984298944473267, 0.5], [\"features_10:9\", \"features_10\", 0.8335923552513123, 0.2], [\"features_10:9\", \"features_10\", 0.6356024146080017, 0.1], [\"features_10:9\", \"features_10\", 0.4586274027824402, 0.05], [\"features_10:9\", \"features_10\", 0.19665966928005219, 0.01], [\"features_10:9\", \"features_10\", 0.13548390567302704, 0.005], [\"features_10:9\", \"features_10\", 0.05996686592698097, 0.001]], \"hovertemplate\": \"feature_name=features_10:9<br>keep_ratios=%{x}<br>correlations=%{y}<extra></extra>\", \"legendgroup\": \"features_10:9\", \"marker\": {\"color\": \"#636efa\", \"symbol\": \"circle\"}, \"mode\": \"markers\", \"name\": \"features_10:9\", \"showlegend\": true, \"type\": \"scattergl\", \"x\": [0.42688127814340143, 0.3229184707308625, 0.25746882577069624, 0.21233113959127123, 0.17746579494284725, 0.14913296674748874, 0.1254600363699342, 0.10528338240387947, 0.08785071007966748, 0.0727506927606512, 0.05959906477312089, 0.04813062868029096, 0.03810724800831313, 0.029436915483200553, 0.021984326290266712, 0.015603351229650156, 0.010315639071700727, 0.006045419120193973, 0.0027981035677173537, 0.0006873484586075511, 0.5, 0.2, 0.1, 0.05, 0.01, 0.005, 0.001], \"xaxis\": \"x\", \"y\": [0.9983407908052602, 0.9753626300535903, 0.925365965326103, 0.8751370906625864, 0.7806178984706835, 0.6970500738762976, 0.5977437647967043, 0.5229317278185566, 0.48758414642435577, 0.47998555374955587, 0.36360032087570937, 0.1784529061226289, 0.18512688526274507, 0.33186732665595176, 0.2966138694157798, 0.2678493050508255, 0.3077144783560982, 0.2612660798336233, 0.21687786609479096, -0.15281775862335417, 0.9999385932753554, 0.838153927881723, 0.5046384200938311, 0.15005583277209011, 0.3023297649677862, 0.24908170774787952, -0.038693492733338566], \"yaxis\": \"y\"}, {\"customdata\": [[\"features_3:14\", \"features_3\", 0.9879715442657471, 0.5], [\"features_3:14\", \"features_3\", 0.8274558782577515, 0.2], [\"features_3:14\", \"features_3\", 0.6041256785392761, 0.1], [\"features_3:14\", \"features_3\", 0.38105928897857666, 0.05], [\"features_3:14\", \"features_3\", 0.12603437900543213, 0.01], [\"features_3:14\", \"features_3\", 0.0922127217054367, 0.005], [\"features_3:14\", \"features_3\", 0.05073926970362663, 0.001], [\"features_3:14\", \"features_3\", 0.99, 0.515625], [\"features_3:14\", \"features_3\", 0.95, 0.3515625], [\"features_3:14\", \"features_3\", 0.9, 0.265625], [\"features_3:14\", \"features_3\", 0.85, 0.21875], [\"features_3:14\", \"features_3\", 0.8, 0.18359375], [\"features_3:14\", \"features_3\", 0.75, 0.15625], [\"features_3:14\", \"features_3\", 0.7, 0.1328125], [\"features_3:14\", \"features_3\", 0.65, 0.11328125], [\"features_3:14\", \"features_3\", 0.6, 0.09765625], [\"features_3:14\", \"features_3\", 0.55, 0.0859375], [\"features_3:14\", \"features_3\", 0.5, 0.07421875], [\"features_3:14\", \"features_3\", 0.45, 0.0625], [\"features_3:14\", \"features_3\", 0.4, 0.05078125], [\"features_3:14\", \"features_3\", 0.35, 0.04296875], [\"features_3:14\", \"features_3\", 0.3, 0.03515625], [\"features_3:14\", \"features_3\", 0.25, 0.02734375], [\"features_3:14\", \"features_3\", 0.2, 0.01953125], [\"features_3:14\", \"features_3\", 0.15, 0.01171875], [\"features_3:14\", \"features_3\", 0.1, 0.0078125], [\"features_3:14\", \"features_3\", 0.05, 0.0]], \"hovertemplate\": \"feature_name=features_3:14<br>keep_ratios=%{x}<br>correlations=%{y}<extra></extra>\", \"legendgroup\": \"features_3:14\", \"marker\": {\"color\": \"#EF553B\", \"symbol\": \"circle\"}, \"mode\": \"markers\", \"name\": \"features_3:14\", \"showlegend\": true, \"type\": \"scattergl\", \"x\": [0.5, 0.2, 0.1, 0.05, 0.01, 0.005, 0.001, 0.515625, 0.3515625, 0.265625, 0.21875, 0.18359375, 0.15625, 0.1328125, 0.11328125, 0.09765625, 0.0859375, 0.07421875, 0.0625, 0.05078125, 0.04296875, 0.03515625, 0.02734375, 0.01953125, 0.01171875, 0.0078125, 0.0], \"xaxis\": \"x\", \"y\": [0.9823443452622287, 0.7865583549547145, 0.36709710118236816, 0.6086865619890055, -0.05007083857314618, 0.0, 0.0, 0.9859685365847499, 0.9278527496920801, 0.843650487908878, 0.7428030867484047, 0.7864149687766726, 0.3380206596246111, 0.22415492098749876, 0.5519827912869544, 0.36709710118236816, 0.36709710118236816, 0.3149995889149916, 0.3186576243877358, 0.6087064076880755, 0.43243178574289476, 0.04632299223334437, 0.046455570903327754, -0.24591303095469116, -0.24591303095469116, -0.05007083857314618, 0.0], \"yaxis\": \"y\"}, {\"customdata\": [[\"features_3:8\", \"features_3\", 0.99, 0.70703125], [\"features_3:8\", \"features_3\", 0.95, 0.49609375], [\"features_3:8\", \"features_3\", 0.9, 0.37890625], [\"features_3:8\", \"features_3\", 0.85, 0.296875], [\"features_3:8\", \"features_3\", 0.8, 0.23828125], [\"features_3:8\", \"features_3\", 0.75, 0.1953125], [\"features_3:8\", \"features_3\", 0.7, 0.16015625], [\"features_3:8\", \"features_3\", 0.65, 0.13671875], [\"features_3:8\", \"features_3\", 0.6, 0.1171875], [\"features_3:8\", \"features_3\", 0.55, 0.1015625], [\"features_3:8\", \"features_3\", 0.5, 0.0859375], [\"features_3:8\", \"features_3\", 0.45, 0.07421875], [\"features_3:8\", \"features_3\", 0.4, 0.05859375], [\"features_3:8\", \"features_3\", 0.35, 0.046875], [\"features_3:8\", \"features_3\", 0.3, 0.03515625], [\"features_3:8\", \"features_3\", 0.25, 0.02734375], [\"features_3:8\", \"features_3\", 0.2, 0.015625], [\"features_3:8\", \"features_3\", 0.15, 0.01171875], [\"features_3:8\", \"features_3\", 0.1, 0.0078125], [\"features_3:8\", \"features_3\", 0.05, 0.00390625], [\"features_3:8\", \"features_3\", 0.9512040019035339, 0.5], [\"features_3:8\", \"features_3\", 0.7582274079322815, 0.2], [\"features_3:8\", \"features_3\", 0.5463517904281616, 0.1], [\"features_3:8\", \"features_3\", 0.3561374247074127, 0.05], [\"features_3:8\", \"features_3\", 0.1388358175754547, 0.01], [\"features_3:8\", \"features_3\", 0.09493837505578995, 0.005], [\"features_3:8\", \"features_3\", 0.04798191040754318, 0.001]], \"hovertemplate\": \"feature_name=features_3:8<br>keep_ratios=%{x}<br>correlations=%{y}<extra></extra>\", \"legendgroup\": \"features_3:8\", \"marker\": {\"color\": \"#00cc96\", \"symbol\": \"circle\"}, \"mode\": \"markers\", \"name\": \"features_3:8\", \"showlegend\": true, \"type\": \"scattergl\", \"x\": [0.70703125, 0.49609375, 0.37890625, 0.296875, 0.23828125, 0.1953125, 0.16015625, 0.13671875, 0.1171875, 0.1015625, 0.0859375, 0.07421875, 0.05859375, 0.046875, 0.03515625, 0.02734375, 0.015625, 0.01171875, 0.0078125, 0.00390625, 0.5, 0.2, 0.1, 0.05, 0.01, 0.005, 0.001], \"xaxis\": \"x\", \"y\": [0.9952473563366919, 0.9524211049782876, 0.7647931692245987, 0.7145101377950199, 0.6161347334389577, 0.6907437386472016, 0.5457709708793187, 0.541191937056243, -0.09490032955429276, -0.09979491331035636, -0.09979491331035636, -0.12197772992123727, -0.12199705004460501, -0.12199705004460501, -0.12199705004460501, -0.11766441711229317, 0.0, 0.0, 0.0, 0.0, 0.9524211049782876, 0.7287635322923511, -0.09979491331035636, -0.12199705004460501, 0.0, 0.0, 0.0], \"yaxis\": \"y\"}, {\"customdata\": [[\"features_6:6\", \"features_6\", 0.99, 0.2770675505050505], [\"features_6:6\", \"features_6\", 0.95, 0.16279987373737373], [\"features_6:6\", \"features_6\", 0.9, 0.10392992424242424], [\"features_6:6\", \"features_6\", 0.85, 0.07054924242424243], [\"features_6:6\", \"features_6\", 0.8, 0.04963699494949495], [\"features_6:6\", \"features_6\", 0.75, 0.035432449494949496], [\"features_6:6\", \"features_6\", 0.7, 0.0257260101010101], [\"features_6:6\", \"features_6\", 0.65, 0.018623737373737372], [\"features_6:6\", \"features_6\", 0.6, 0.013573232323232324], [\"features_6:6\", \"features_6\", 0.55, 0.009864267676767676], [\"features_6:6\", \"features_6\", 0.5, 0.007181186868686869], [\"features_6:6\", \"features_6\", 0.45, 0.005287247474747475], [\"features_6:6\", \"features_6\", 0.4, 0.003945707070707071], [\"features_6:6\", \"features_6\", 0.35, 0.0029198232323232325], [\"features_6:6\", \"features_6\", 0.3, 0.002130681818181818], [\"features_6:6\", \"features_6\", 0.25, 0.0014204545454545455], [\"features_6:6\", \"features_6\", 0.2, 0.000946969696969697], [\"features_6:6\", \"features_6\", 0.15, 0.0005523989898989899], [\"features_6:6\", \"features_6\", 0.1, 0.0003156565656565657], [\"features_6:6\", \"features_6\", 0.05, 7.891414141414142e-05], [\"features_6:6\", \"features_6\", 0.9997632503509521, 0.5], [\"features_6:6\", \"features_6\", 0.9686855673789978, 0.2], [\"features_6:6\", \"features_6\", 0.8952828645706177, 0.1], [\"features_6:6\", \"features_6\", 0.8010374903678894, 0.05], [\"features_6:6\", \"features_6\", 0.5513110160827637, 0.01], [\"features_6:6\", \"features_6\", 0.44086453318595886, 0.005], [\"features_6:6\", \"features_6\", 0.20192183554172516, 0.001]], \"hovertemplate\": \"feature_name=features_6:6<br>keep_ratios=%{x}<br>correlations=%{y}<extra></extra>\", \"legendgroup\": \"features_6:6\", \"marker\": {\"color\": \"#ab63fa\", \"symbol\": \"circle\"}, \"mode\": \"markers\", \"name\": \"features_6:6\", \"showlegend\": true, \"type\": \"scattergl\", \"x\": [0.2770675505050505, 0.16279987373737373, 0.10392992424242424, 0.07054924242424243, 0.04963699494949495, 0.035432449494949496, 0.0257260101010101, 0.018623737373737372, 0.013573232323232324, 0.009864267676767676, 0.007181186868686869, 0.005287247474747475, 0.003945707070707071, 0.0029198232323232325, 0.002130681818181818, 0.0014204545454545455, 0.000946969696969697, 0.0005523989898989899, 0.0003156565656565657, 7.891414141414142e-05, 0.5, 0.2, 0.1, 0.05, 0.01, 0.005, 0.001], \"xaxis\": \"x\", \"y\": [0.9996373221976982, 0.9931691952055886, 0.9642877297581364, 0.923706930568515, 0.8687121874205691, 0.8315706761010054, 0.7229875196185307, 0.5815396667593592, 0.5882847877384461, 0.6612316018706657, 0.650478546945535, 0.41717390433180435, 0.14617241527605673, -0.32214231401247007, 0.3894421117427619, 0.3741119562604761, 0.3761083847377253, 0.38799641446600885, 0.3826501838949449, 0.40265621888428504, 0.9999999286828308, 0.9975067220394204, 0.9624097009214263, 0.8677202355144462, 0.6612316018706657, 0.39356124609812465, 0.3761083847377253], \"yaxis\": \"y\"}, {\"customdata\": [[\"features_3:5\", \"features_3\", 0.9686797857284546, 0.5], [\"features_3:5\", \"features_3\", 0.8348913788795471, 0.2], [\"features_3:5\", \"features_3\", 0.6750234961509705, 0.1], [\"features_3:5\", \"features_3\", 0.5063000321388245, 0.05], [\"features_3:5\", \"features_3\", 0.19784274697303772, 0.01], [\"features_3:5\", \"features_3\", 0.1350533664226532, 0.005], [\"features_3:5\", \"features_3\", 0.07134953141212463, 0.001], [\"features_3:5\", \"features_3\", 0.99, 0.6484375], [\"features_3:5\", \"features_3\", 0.95, 0.42578125], [\"features_3:5\", \"features_3\", 0.9, 0.296875], [\"features_3:5\", \"features_3\", 0.85, 0.21875], [\"features_3:5\", \"features_3\", 0.8, 0.16796875], [\"features_3:5\", \"features_3\", 0.75, 0.1328125], [\"features_3:5\", \"features_3\", 0.7, 0.109375], [\"features_3:5\", \"features_3\", 0.65, 0.08984375], [\"features_3:5\", \"features_3\", 0.6, 0.07421875], [\"features_3:5\", \"features_3\", 0.55, 0.05859375], [\"features_3:5\", \"features_3\", 0.5, 0.046875], [\"features_3:5\", \"features_3\", 0.45, 0.0390625], [\"features_3:5\", \"features_3\", 0.4, 0.02734375], [\"features_3:5\", \"features_3\", 0.35, 0.0234375], [\"features_3:5\", \"features_3\", 0.3, 0.015625], [\"features_3:5\", \"features_3\", 0.25, 0.01171875], [\"features_3:5\", \"features_3\", 0.2, 0.01171875], [\"features_3:5\", \"features_3\", 0.15, 0.0078125], [\"features_3:5\", \"features_3\", 0.1, 0.00390625], [\"features_3:5\", \"features_3\", 0.05, 0.0]], \"hovertemplate\": \"feature_name=features_3:5<br>keep_ratios=%{x}<br>correlations=%{y}<extra></extra>\", \"legendgroup\": \"features_3:5\", \"marker\": {\"color\": \"#FFA15A\", \"symbol\": \"circle\"}, \"mode\": \"markers\", \"name\": \"features_3:5\", \"showlegend\": true, \"type\": \"scattergl\", \"x\": [0.5, 0.2, 0.1, 0.05, 0.01, 0.005, 0.001, 0.6484375, 0.42578125, 0.296875, 0.21875, 0.16796875, 0.1328125, 0.109375, 0.08984375, 0.07421875, 0.05859375, 0.046875, 0.0390625, 0.02734375, 0.0234375, 0.015625, 0.01171875, 0.01171875, 0.0078125, 0.00390625, 0.0], \"xaxis\": \"x\", \"y\": [0.9629529831170073, 0.8399160810184039, 0.7872124484463876, 0.787123335680974, -0.03826353342343679, 0.03874754896526748, 0.0, 0.9917874625991717, 0.9597644749692973, 0.8965561842863319, 0.8462799577497856, 0.8093691982170795, 0.769840883434153, 0.7697409287780547, 0.7872124484463876, 0.7871504297250729, 0.7871504297250729, 0.787123335680974, 0.787123335680974, 0.22970199623488313, 0.22967279890288012, 0.1951847421193911, 0.2553338920263892, 0.2553338920263892, -0.03826353342343679, 0.03874754896526748, 0.0], \"yaxis\": \"y\"}, {\"customdata\": [[\"features_6:11\", \"features_6\", 0.9995853304862976, 0.5], [\"features_6:11\", \"features_6\", 0.9541348218917847, 0.2], [\"features_6:11\", \"features_6\", 0.8588333129882812, 0.1], [\"features_6:11\", \"features_6\", 0.746325671672821, 0.05], [\"features_6:11\", \"features_6\", 0.5077304840087891, 0.01], [\"features_6:11\", \"features_6\", 0.4134539067745209, 0.005], [\"features_6:11\", \"features_6\", 0.17791709303855896, 0.001], [\"features_6:11\", \"features_6\", 0.99, 0.30721275252525254], [\"features_6:11\", \"features_6\", 0.95, 0.19286616161616163], [\"features_6:11\", \"features_6\", 0.9, 0.13154987373737373], [\"features_6:11\", \"features_6\", 0.85, 0.09453914141414141], [\"features_6:11\", \"features_6\", 0.8, 0.0693655303030303], [\"features_6:11\", \"features_6\", 0.75, 0.05113636363636364], [\"features_6:11\", \"features_6\", 0.7, 0.037799873737373736], [\"features_6:11\", \"features_6\", 0.65, 0.027698863636363636], [\"features_6:11\", \"features_6\", 0.6, 0.019807449494949496], [\"features_6:11\", \"features_6\", 0.55, 0.013731060606060606], [\"features_6:11\", \"features_6\", 0.5, 0.009390782828282828], [\"features_6:11\", \"features_6\", 0.45, 0.006470959595959596], [\"features_6:11\", \"features_6\", 0.4, 0.004577020202020202], [\"features_6:11\", \"features_6\", 0.35, 0.003393308080808081], [\"features_6:11\", \"features_6\", 0.3, 0.0025252525252525255], [\"features_6:11\", \"features_6\", 0.25, 0.0018150252525252525], [\"features_6:11\", \"features_6\", 0.2, 0.0011837121212121212], [\"features_6:11\", \"features_6\", 0.15, 0.0007102272727272727], [\"features_6:11\", \"features_6\", 0.1, 0.0003156565656565657], [\"features_6:11\", \"features_6\", 0.05, 7.891414141414142e-05]], \"hovertemplate\": \"feature_name=features_6:11<br>keep_ratios=%{x}<br>correlations=%{y}<extra></extra>\", \"legendgroup\": \"features_6:11\", \"marker\": {\"color\": \"#19d3f3\", \"symbol\": \"circle\"}, \"mode\": \"markers\", \"name\": \"features_6:11\", \"showlegend\": true, \"type\": \"scattergl\", \"x\": [0.5, 0.2, 0.1, 0.05, 0.01, 0.005, 0.001, 0.30721275252525254, 0.19286616161616163, 0.13154987373737373, 0.09453914141414141, 0.0693655303030303, 0.05113636363636364, 0.037799873737373736, 0.027698863636363636, 0.019807449494949496, 0.013731060606060606, 0.009390782828282828, 0.006470959595959596, 0.004577020202020202, 0.003393308080808081, 0.0025252525252525255, 0.0018150252525252525, 0.0011837121212121212, 0.0007102272727272727, 0.0003156565656565657, 7.891414141414142e-05], \"xaxis\": \"x\", \"y\": [0.9999998072192416, 0.9889639935891976, 0.9565497261999003, 0.8801006813712215, 0.48673334421497216, 0.12400637621629451, 0.09596726367430682, 0.9994334500338716, 0.9890079802860414, 0.9799846102330328, 0.9417467488298914, 0.919030310792979, 0.8840249418601867, 0.7492439097256167, 0.6756658112837493, 0.5467880037826346, 0.5090169938520537, 0.49614249065745447, 0.30467329220629513, 0.12397700084038338, 0.13101753862788665, 0.12812276035324227, 0.1318157077752009, 0.09596726367430682, 0.1065236954699742, 0.0, 0.0], \"yaxis\": \"y\"}, {\"customdata\": [[\"features_6:12\", \"features_6\", 0.9986801147460938, 0.5], [\"features_6:12\", \"features_6\", 0.9338377714157104, 0.2], [\"features_6:12\", \"features_6\", 0.8409150838851929, 0.1], [\"features_6:12\", \"features_6\", 0.7403127551078796, 0.05], [\"features_6:12\", \"features_6\", 0.5315621495246887, 0.01], [\"features_6:12\", \"features_6\", 0.4214525520801544, 0.005], [\"features_6:12\", \"features_6\", 0.16409550607204437, 0.001], [\"features_6:12\", \"features_6\", 0.99, 0.37578914141414144], [\"features_6:12\", \"features_6\", 0.95, 0.2309027777777778], [\"features_6:12\", \"features_6\", 0.9, 0.15246212121212122], [\"features_6:12\", \"features_6\", 0.85, 0.10653409090909091], [\"features_6:12\", \"features_6\", 0.8, 0.07567866161616162], [\"features_6:12\", \"features_6\", 0.75, 0.05350378787878788], [\"features_6:12\", \"features_6\", 0.7, 0.037089646464646464], [\"features_6:12\", \"features_6\", 0.65, 0.025094696969696968], [\"features_6:12\", \"features_6\", 0.6, 0.016887626262626264], [\"features_6:12\", \"features_6\", 0.55, 0.011521464646464646], [\"features_6:12\", \"features_6\", 0.5, 0.007970328282828282], [\"features_6:12\", \"features_6\", 0.45, 0.005918560606060606], [\"features_6:12\", \"features_6\", 0.4, 0.004419191919191919], [\"features_6:12\", \"features_6\", 0.35, 0.0033143939393939395], [\"features_6:12\", \"features_6\", 0.3, 0.0025252525252525255], [\"features_6:12\", \"features_6\", 0.25, 0.0018150252525252525], [\"features_6:12\", \"features_6\", 0.2, 0.001341540404040404], [\"features_6:12\", \"features_6\", 0.15, 0.0008680555555555555], [\"features_6:12\", \"features_6\", 0.1, 0.0004734848484848485], [\"features_6:12\", \"features_6\", 0.05, 0.00015782828282828284]], \"hovertemplate\": \"feature_name=features_6:12<br>keep_ratios=%{x}<br>correlations=%{y}<extra></extra>\", \"legendgroup\": \"features_6:12\", \"marker\": {\"color\": \"#FF6692\", \"symbol\": \"circle\"}, \"mode\": \"markers\", \"name\": \"features_6:12\", \"showlegend\": true, \"type\": \"scattergl\", \"x\": [0.5, 0.2, 0.1, 0.05, 0.01, 0.005, 0.001, 0.37578914141414144, 0.2309027777777778, 0.15246212121212122, 0.10653409090909091, 0.07567866161616162, 0.05350378787878788, 0.037089646464646464, 0.025094696969696968, 0.016887626262626264, 0.011521464646464646, 0.007970328282828282, 0.005918560606060606, 0.004419191919191919, 0.0033143939393939395, 0.0025252525252525255, 0.0018150252525252525, 0.001341540404040404, 0.0008680555555555555, 0.0004734848484848485, 0.00015782828282828284], \"xaxis\": \"x\", \"y\": [0.9999883837014822, 0.9844471764829346, 0.9391885640909936, 0.8804652388102887, 0.5846100567792305, 0.005329589610471816, 0.019213531666581806, 0.9989306187380658, 0.9899653055628085, 0.9736121695315767, 0.9472452785136705, 0.9212997248482919, 0.8883976615240694, 0.8482476878132867, 0.7847508641445478, 0.636658553865784, 0.40766023194627593, 0.009550892495536489, 0.022785905437993997, 0.02301868983174073, 0.031164627844589975, 0.04618441130209573, 0.04617355538077974, 0.042282350240824385, 0.019213531666581806, -0.0053621855570590606, 0.003337669202171779], \"yaxis\": \"y\"}, {\"customdata\": [[\"features_8:11\", \"features_8\", 0.99, 0.35882067627494457], [\"features_8:11\", \"features_8\", 0.95, 0.2573332409460458], [\"features_8:11\", \"features_8\", 0.9, 0.1965539541759054], [\"features_8:11\", \"features_8\", 0.85, 0.15642322616407983], [\"features_8:11\", \"features_8\", 0.8, 0.12675535846267555], [\"features_8:11\", \"features_8\", 0.75, 0.10354305247597931], [\"features_8:11\", \"features_8\", 0.7, 0.08474223946784923], [\"features_8:11\", \"features_8\", 0.65, 0.06931356245380636], [\"features_8:11\", \"features_8\", 0.6, 0.0564139874353289], [\"features_8:11\", \"features_8\", 0.55, 0.04559312638580931], [\"features_8:11\", \"features_8\", 0.5, 0.03644678492239468], [\"features_8:11\", \"features_8\", 0.45, 0.02865160753880266], [\"features_8:11\", \"features_8\", 0.4, 0.02202281966001478], [\"features_8:11\", \"features_8\", 0.35, 0.016479582409460458], [\"features_8:11\", \"features_8\", 0.3, 0.011825572801182557], [\"features_8:11\", \"features_8\", 0.25, 0.008072339246119734], [\"features_8:11\", \"features_8\", 0.2, 0.00508130081300813], [\"features_8:11\", \"features_8\", 0.15, 0.0028293606799704362], [\"features_8:11\", \"features_8\", 0.1, 0.0013280672579453067], [\"features_8:11\", \"features_8\", 0.05, 0.00042729120473022913], [\"features_8:11\", \"features_8\", 0.9994657635688782, 0.5], [\"features_8:11\", \"features_8\", 0.903579592704773, 0.2], [\"features_8:11\", \"features_8\", 0.7413544654846191, 0.1], [\"features_8:11\", \"features_8\", 0.5714399218559265, 0.05], [\"features_8:11\", \"features_8\", 0.2771279811859131, 0.01], [\"features_8:11\", \"features_8\", 0.1983993649482727, 0.005], [\"features_8:11\", \"features_8\", 0.0850200280547142, 0.001]], \"hovertemplate\": \"feature_name=features_8:11<br>keep_ratios=%{x}<br>correlations=%{y}<extra></extra>\", \"legendgroup\": \"features_8:11\", \"marker\": {\"color\": \"#B6E880\", \"symbol\": \"circle\"}, \"mode\": \"markers\", \"name\": \"features_8:11\", \"showlegend\": true, \"type\": \"scattergl\", \"x\": [0.35882067627494457, 0.2573332409460458, 0.1965539541759054, 0.15642322616407983, 0.12675535846267555, 0.10354305247597931, 0.08474223946784923, 0.06931356245380636, 0.0564139874353289, 0.04559312638580931, 0.03644678492239468, 0.02865160753880266, 0.02202281966001478, 0.016479582409460458, 0.011825572801182557, 0.008072339246119734, 0.00508130081300813, 0.0028293606799704362, 0.0013280672579453067, 0.00042729120473022913, 0.5, 0.2, 0.1, 0.05, 0.01, 0.005, 0.001], \"xaxis\": \"x\", \"y\": [0.9982593966567301, 0.9726172533663832, 0.9327587468676419, 0.8836745795778912, 0.805569521761724, 0.7623299060468773, 0.7621845028284937, 0.7037624297132805, 0.6707998073053911, 0.6293351526803748, 0.5214563061695918, 0.4804151090151983, 0.4713535897861101, 0.30915109301044214, 0.17386923823284356, 0.2107565259082818, 0.1561539984410507, 0.15534215899394596, 0.27483218357064665, 0.2746058582301122, 0.9999987411478296, 0.9325755124223325, 0.7614651183630421, 0.6581773112919005, 0.17634428128618282, 0.15733910343808838, 0.2606829583419735], \"yaxis\": \"y\"}, {\"customdata\": [[\"features_6:16\", \"features_6\", 0.9946680665016174, 0.5], [\"features_6:16\", \"features_6\", 0.9155431985855103, 0.2], [\"features_6:16\", \"features_6\", 0.822827160358429, 0.1], [\"features_6:16\", \"features_6\", 0.7218466997146606, 0.05], [\"features_6:16\", \"features_6\", 0.500905454158783, 0.01], [\"features_6:16\", \"features_6\", 0.3877470791339874, 0.005], [\"features_6:16\", \"features_6\", 0.16009235382080078, 0.001], [\"features_6:16\", \"features_6\", 0.99, 0.4491003787878788], [\"features_6:16\", \"features_6\", 0.95, 0.270675505050505], [\"features_6:16\", \"features_6\", 0.9, 0.17692550505050506], [\"features_6:16\", \"features_6\", 0.85, 0.12184343434343434], [\"features_6:16\", \"features_6\", 0.8, 0.0849905303030303], [\"features_6:16\", \"features_6\", 0.75, 0.060369318181818184], [\"features_6:16\", \"features_6\", 0.7, 0.04316603535353535], [\"features_6:16\", \"features_6\", 0.65, 0.030618686868686868], [\"features_6:16\", \"features_6\", 0.6, 0.02122790404040404], [\"features_6:16\", \"features_6\", 0.55, 0.014441287878787878], [\"features_6:16\", \"features_6\", 0.5, 0.009943181818181818], [\"features_6:16\", \"features_6\", 0.45, 0.007181186868686869], [\"features_6:16\", \"features_6\", 0.4, 0.005366161616161616], [\"features_6:16\", \"features_6\", 0.35, 0.004024621212121212], [\"features_6:16\", \"features_6\", 0.3, 0.0029987373737373735], [\"features_6:16\", \"features_6\", 0.25, 0.002130681818181818], [\"features_6:16\", \"features_6\", 0.2, 0.0014204545454545455], [\"features_6:16\", \"features_6\", 0.15, 0.0008680555555555555], [\"features_6:16\", \"features_6\", 0.1, 0.0004734848484848485], [\"features_6:16\", \"features_6\", 0.05, 0.00015782828282828284]], \"hovertemplate\": \"feature_name=features_6:16<br>keep_ratios=%{x}<br>correlations=%{y}<extra></extra>\", \"legendgroup\": \"features_6:16\", \"marker\": {\"color\": \"#FF97FF\", \"symbol\": \"circle\"}, \"mode\": \"markers\", \"name\": \"features_6:16\", \"showlegend\": true, \"type\": \"scattergl\", \"x\": [0.5, 0.2, 0.1, 0.05, 0.01, 0.005, 0.001, 0.4491003787878788, 0.270675505050505, 0.17692550505050506, 0.12184343434343434, 0.0849905303030303, 0.060369318181818184, 0.04316603535353535, 0.030618686868686868, 0.02122790404040404, 0.014441287878787878, 0.009943181818181818, 0.007181186868686869, 0.005366161616161616, 0.004024621212121212, 0.0029987373737373735, 0.002130681818181818, 0.0014204545454545455, 0.0008680555555555555, 0.0004734848484848485, 0.00015782828282828284], \"xaxis\": \"x\", \"y\": [0.9992264784597349, 0.9153034498643451, 0.8460844478758434, 0.6047852617573592, -0.10371592778530363, 0.027319187374717963, 0.03326296054418311, 0.9981693686106025, 0.9669077842897946, 0.9285001193670709, 0.882560806047316, 0.8328400834743376, 0.6988755532318623, 0.5597534329428848, 0.4369169538379592, 0.31583714072539226, 0.3818473197307378, -0.10371592778530363, 0.01865961457375407, 0.025940571517102752, 0.02567188953220545, 0.043710330037300446, 0.038300079660620455, 0.048841286234604986, 0.025360234543558357, 0.005896493434683452, 0.030506861965024546], \"yaxis\": \"y\"}, {\"customdata\": [[\"features_8:17\", \"features_8\", 0.9990950226783752, 0.5], [\"features_8:17\", \"features_8\", 0.8714083433151245, 0.2], [\"features_8:17\", \"features_8\", 0.6997246742248535, 0.1], [\"features_8:17\", \"features_8\", 0.5336335301399231, 0.05], [\"features_8:17\", \"features_8\", 0.2565946578979492, 0.01], [\"features_8:17\", \"features_8\", 0.18001681566238403, 0.005], [\"features_8:17\", \"features_8\", 0.07555581629276276, 0.001], [\"features_8:17\", \"features_8\", 0.99, 0.40603058019216554], [\"features_8:17\", \"features_8\", 0.95, 0.29537370657797485], [\"features_8:17\", \"features_8\", 0.9, 0.22754988913525498], [\"features_8:17\", \"features_8\", 0.85, 0.18247644124168513], [\"features_8:17\", \"features_8\", 0.8, 0.14867424242424243], [\"features_8:17\", \"features_8\", 0.75, 0.1219050258684405], [\"features_8:17\", \"features_8\", 0.7, 0.10011317442719882], [\"features_8:17\", \"features_8\", 0.65, 0.08194752402069476], [\"features_8:17\", \"features_8\", 0.6, 0.06669207317073171], [\"features_8:17\", \"features_8\", 0.55, 0.053780949741315594], [\"features_8:17\", \"features_8\", 0.5, 0.042809959349593495], [\"features_8:17\", \"features_8\", 0.45, 0.03351348854397635], [\"features_8:17\", \"features_8\", 0.4, 0.025695214338507022], [\"features_8:17\", \"features_8\", 0.35, 0.01918191056910569], [\"features_8:17\", \"features_8\", 0.3, 0.01378880266075388], [\"features_8:17\", \"features_8\", 0.25, 0.009481245380635625], [\"features_8:17\", \"features_8\", 0.2, 0.006109109386548411], [\"features_8:17\", \"features_8\", 0.15, 0.0035222653362897267], [\"features_8:17\", \"features_8\", 0.1, 0.0016629711751662971], [\"features_8:17\", \"features_8\", 0.05, 0.00048503325942350335]], \"hovertemplate\": \"feature_name=features_8:17<br>keep_ratios=%{x}<br>correlations=%{y}<extra></extra>\", \"legendgroup\": \"features_8:17\", \"marker\": {\"color\": \"#FECB52\", \"symbol\": \"circle\"}, \"mode\": \"markers\", \"name\": \"features_8:17\", \"showlegend\": true, \"type\": \"scattergl\", \"x\": [0.5, 0.2, 0.1, 0.05, 0.01, 0.005, 0.001, 0.40603058019216554, 0.29537370657797485, 0.22754988913525498, 0.18247644124168513, 0.14867424242424243, 0.1219050258684405, 0.10011317442719882, 0.08194752402069476, 0.06669207317073171, 0.053780949741315594, 0.042809959349593495, 0.03351348854397635, 0.025695214338507022, 0.01918191056910569, 0.01378880266075388, 0.009481245380635625, 0.006109109386548411, 0.0035222653362897267, 0.0016629711751662971, 0.00048503325942350335], \"xaxis\": \"x\", \"y\": [0.9999966236828428, 0.9512009435032934, 0.7925860640840149, 0.4386957267630174, 0.014240844218374286, 0.046438807069459076, -0.280085579561411, 0.9991301766288676, 0.9865011574854388, 0.9635954168121076, 0.9223252172587524, 0.9029470019209203, 0.8559276153977448, 0.7946924640965105, 0.7023654941934423, 0.5962582678101723, 0.49224576685665544, 0.2902092189935184, 0.13946272507278518, 0.08066401126260041, 0.08925614166773574, 0.023071833558807226, 0.021264149938911972, 0.0673918073986043, -0.04799620062776337, -0.2786339571364149, -0.2769208314482981], \"yaxis\": \"y\"}, {\"customdata\": [[\"features_3:18\", \"features_3\", 0.9796653985977173, 0.5], [\"features_3:18\", \"features_3\", 0.8238904476165771, 0.2], [\"features_3:18\", \"features_3\", 0.6667471528053284, 0.1], [\"features_3:18\", \"features_3\", 0.4478724002838135, 0.05], [\"features_3:18\", \"features_3\", 0.18929116427898407, 0.01], [\"features_3:18\", \"features_3\", 0.15354999899864197, 0.005], [\"features_3:18\", \"features_3\", 0.09226182103157043, 0.001], [\"features_3:18\", \"features_3\", 0.99, 0.5703125], [\"features_3:18\", \"features_3\", 0.95, 0.39453125], [\"features_3:18\", \"features_3\", 0.9, 0.29296875], [\"features_3:18\", \"features_3\", 0.85, 0.2265625], [\"features_3:18\", \"features_3\", 0.8, 0.1796875], [\"features_3:18\", \"features_3\", 0.75, 0.140625], [\"features_3:18\", \"features_3\", 0.7, 0.11328125], [\"features_3:18\", \"features_3\", 0.65, 0.09375], [\"features_3:18\", \"features_3\", 0.6, 0.078125], [\"features_3:18\", \"features_3\", 0.55, 0.0703125], [\"features_3:18\", \"features_3\", 0.5, 0.05859375], [\"features_3:18\", \"features_3\", 0.45, 0.05078125], [\"features_3:18\", \"features_3\", 0.4, 0.0390625], [\"features_3:18\", \"features_3\", 0.35, 0.03125], [\"features_3:18\", \"features_3\", 0.3, 0.0234375], [\"features_3:18\", \"features_3\", 0.25, 0.015625], [\"features_3:18\", \"features_3\", 0.2, 0.01171875], [\"features_3:18\", \"features_3\", 0.15, 0.00390625], [\"features_3:18\", \"features_3\", 0.1, 0.00390625], [\"features_3:18\", \"features_3\", 0.05, 0.0]], \"hovertemplate\": \"feature_name=features_3:18<br>keep_ratios=%{x}<br>correlations=%{y}<extra></extra>\", \"legendgroup\": \"features_3:18\", \"marker\": {\"color\": \"#636efa\", \"symbol\": \"circle\"}, \"mode\": \"markers\", \"name\": \"features_3:18\", \"showlegend\": true, \"type\": \"scattergl\", \"x\": [0.5, 0.2, 0.1, 0.05, 0.01, 0.005, 0.001, 0.5703125, 0.39453125, 0.29296875, 0.2265625, 0.1796875, 0.140625, 0.11328125, 0.09375, 0.078125, 0.0703125, 0.05859375, 0.05078125, 0.0390625, 0.03125, 0.0234375, 0.015625, 0.01171875, 0.00390625, 0.00390625, 0.0], \"xaxis\": \"x\", \"y\": [0.9993415633379528, 0.9390807807629094, 0.7441079239364186, -0.2749749514930847, 0.3092017898639275, 0.3092017898639275, 0.30748595032819187, 0.9997172929830497, 0.9944881563782242, 0.9841765853874473, 0.967616616367329, 0.9334508249810183, 0.8197076480208674, 0.6787643100137779, -0.25515684207973643, -0.2707215336828727, -0.270785184511952, -0.270785184511952, -0.270785184511952, -0.2749749514930847, -0.275519462641321, -0.275519462641321, -0.275519462641321, 0.3092017898639275, 0.3092017898639275, 0.3092017898639275, 0.30748595032819187], \"yaxis\": \"y\"}, {\"customdata\": [[\"features_10:2\", \"features_10\", 0.99, 0.4168849584343609], [\"features_10:2\", \"features_10\", 0.95, 0.3167485711811569], [\"features_10:2\", \"features_10\", 0.9, 0.25227312088673365], [\"features_10:2\", \"features_10\", 0.85, 0.20777948562521648], [\"features_10:2\", \"features_10\", 0.8, 0.17343912365777625], [\"features_10:2\", \"features_10\", 0.75, 0.14549597332871492], [\"features_10:2\", \"features_10\", 0.7, 0.1220828281953585], [\"features_10:2\", \"features_10\", 0.65, 0.1021388985105646], [\"features_10:2\", \"features_10\", 0.6, 0.08499307239348805], [\"features_10:2\", \"features_10\", 0.55, 0.07019613785936958], [\"features_10:2\", \"features_10\", 0.5, 0.05733676827156217], [\"features_10:2\", \"features_10\", 0.45, 0.0461389418081053], [\"features_10:2\", \"features_10\", 0.4, 0.03641323172843783], [\"features_10:2\", \"features_10\", 0.35, 0.02800268444752338], [\"features_10:2\", \"features_10\", 0.3, 0.02081529269137513], [\"features_10:2\", \"features_10\", 0.25, 0.014759049186006234], [\"features_10:2\", \"features_10\", 0.2, 0.009736534464842397], [\"features_10:2\", \"features_10\", 0.15, 0.0056828022168340835], [\"features_10:2\", \"features_10\", 0.1, 0.002624913404918601], [\"features_10:2\", \"features_10\", 0.05, 0.0006494631104953239], [\"features_10:2\", \"features_10\", 0.9989373087882996, 0.5], [\"features_10:2\", \"features_10\", 0.8396430611610413, 0.2], [\"features_10:2\", \"features_10\", 0.644141674041748, 0.1], [\"features_10:2\", \"features_10\", 0.46803078055381775, 0.05], [\"features_10:2\", \"features_10\", 0.20285551249980927, 0.01], [\"features_10:2\", \"features_10\", 0.14007513225078583, 0.005], [\"features_10:2\", \"features_10\", 0.061532676219940186, 0.001]], \"hovertemplate\": \"feature_name=features_10:2<br>keep_ratios=%{x}<br>correlations=%{y}<extra></extra>\", \"legendgroup\": \"features_10:2\", \"marker\": {\"color\": \"#EF553B\", \"symbol\": \"circle\"}, \"mode\": \"markers\", \"name\": \"features_10:2\", \"showlegend\": true, \"type\": \"scattergl\", \"x\": [0.4168849584343609, 0.3167485711811569, 0.25227312088673365, 0.20777948562521648, 0.17343912365777625, 0.14549597332871492, 0.1220828281953585, 0.1021388985105646, 0.08499307239348805, 0.07019613785936958, 0.05733676827156217, 0.0461389418081053, 0.03641323172843783, 0.02800268444752338, 0.02081529269137513, 0.014759049186006234, 0.009736534464842397, 0.0056828022168340835, 0.002624913404918601, 0.0006494631104953239, 0.5, 0.2, 0.1, 0.05, 0.01, 0.005, 0.001], \"xaxis\": \"x\", \"y\": [0.9985028798882674, 0.9779890611206242, 0.9288424275117952, 0.8438347862162039, 0.6587262720974237, 0.5159083979789117, 0.3530189462693758, 0.29395229933751654, 0.2205838775602174, 0.11207946946086815, 0.09978032703243159, 0.04171438153432773, 0.017140569522867674, -0.02706748637337202, -0.06173800708022248, -0.1034203441574592, -0.09874852982225256, -0.10734664308703519, 0.028739493202928533, 0.009796320422010582, 0.9999825701502791, 0.8162039128587233, 0.2749980386177736, 0.07426467909499967, -0.10088052960194233, -0.0981503639099702, 0.009320434716053157], \"yaxis\": \"y\"}, {\"customdata\": [[\"features_6:18\", \"features_6\", 0.99, 0.4041193181818182], [\"features_6:18\", \"features_6\", 0.95, 0.2412405303030303], [\"features_6:18\", \"features_6\", 0.9, 0.16098484848484848], [\"features_6:18\", \"features_6\", 0.85, 0.11647727272727272], [\"features_6:18\", \"features_6\", 0.8, 0.08641098484848485], [\"features_6:18\", \"features_6\", 0.75, 0.06392045454545454], [\"features_6:18\", \"features_6\", 0.7, 0.04719065656565657], [\"features_6:18\", \"features_6\", 0.65, 0.03480113636363636], [\"features_6:18\", \"features_6\", 0.6, 0.025331439393939392], [\"features_6:18\", \"features_6\", 0.55, 0.017992424242424244], [\"features_6:18\", \"features_6\", 0.5, 0.01223169191919192], [\"features_6:18\", \"features_6\", 0.45, 0.008207070707070708], [\"features_6:18\", \"features_6\", 0.4, 0.00560290404040404], [\"features_6:18\", \"features_6\", 0.35, 0.004024621212121212], [\"features_6:18\", \"features_6\", 0.3, 0.0027619949494949495], [\"features_6:18\", \"features_6\", 0.25, 0.0019728535353535355], [\"features_6:18\", \"features_6\", 0.2, 0.001341540404040404], [\"features_6:18\", \"features_6\", 0.15, 0.0007891414141414141], [\"features_6:18\", \"features_6\", 0.1, 0.00039457070707070706], [\"features_6:18\", \"features_6\", 0.05, 0.00015782828282828284], [\"features_6:18\", \"features_6\", 0.9972874522209167, 0.5], [\"features_6:18\", \"features_6\", 0.9287694096565247, 0.2], [\"features_6:18\", \"features_6\", 0.8246204853057861, 0.1], [\"features_6:18\", \"features_6\", 0.7094038128852844, 0.05], [\"features_6:18\", \"features_6\", 0.474017858505249, 0.01], [\"features_6:18\", \"features_6\", 0.38321447372436523, 0.005], [\"features_6:18\", \"features_6\", 0.16702693700790405, 0.001]], \"hovertemplate\": \"feature_name=features_6:18<br>keep_ratios=%{x}<br>correlations=%{y}<extra></extra>\", \"legendgroup\": \"features_6:18\", \"marker\": {\"color\": \"#00cc96\", \"symbol\": \"circle\"}, \"mode\": \"markers\", \"name\": \"features_6:18\", \"showlegend\": true, \"type\": \"scattergl\", \"x\": [0.4041193181818182, 0.2412405303030303, 0.16098484848484848, 0.11647727272727272, 0.08641098484848485, 0.06392045454545454, 0.04719065656565657, 0.03480113636363636, 0.025331439393939392, 0.017992424242424244, 0.01223169191919192, 0.008207070707070708, 0.00560290404040404, 0.004024621212121212, 0.0027619949494949495, 0.0019728535353535355, 0.001341540404040404, 0.0007891414141414141, 0.00039457070707070706, 0.00015782828282828284, 0.5, 0.2, 0.1, 0.05, 0.01, 0.005, 0.001], \"xaxis\": \"x\", \"y\": [0.9979367100657957, 0.9780653216212084, 0.9403603793381587, 0.8753405021147587, 0.8309756043180208, 0.7053945332458511, 0.5882413734578091, 0.5565704652352215, 0.4672067527391519, 0.2900012185621248, -0.016453619229078814, 0.00958077306214539, 0.08594973974191478, 0.1398197718204738, 0.13872369472824503, 0.14462053894792634, 0.14230764376448815, 0.15241801677994923, 0.1541497742492174, 0.0, 0.9998070619557359, 0.9620248805103571, 0.8475479798175203, 0.5976743769337411, 0.1673532611251205, 0.12490510374073825, 0.14230764376448815], \"yaxis\": \"y\"}, {\"customdata\": [[\"features_10:4\", \"features_10\", 0.999201238155365, 0.5], [\"features_10:4\", \"features_10\", 0.8493261337280273, 0.2], [\"features_10:4\", \"features_10\", 0.653933584690094, 0.1], [\"features_10:4\", \"features_10\", 0.47575297951698303, 0.05], [\"features_10:4\", \"features_10\", 0.20751172304153442, 0.01], [\"features_10:4\", \"features_10\", 0.14496558904647827, 0.005], [\"features_10:4\", \"features_10\", 0.06715211272239685, 0.001], [\"features_10:4\", \"features_10\", 0.99, 0.40496731035677175], [\"features_10:4\", \"features_10\", 0.95, 0.3062922151021822], [\"features_10:4\", \"features_10\", 0.9, 0.24361902493938345], [\"features_10:4\", \"features_10\", 0.85, 0.20050549878766885], [\"features_10:4\", \"features_10\", 0.8, 0.1672908728784205], [\"features_10:4\", \"features_10\", 0.75, 0.14029485625216487], [\"features_10:4\", \"features_10\", 0.7, 0.11776931070315207], [\"features_10:4\", \"features_10\", 0.65, 0.09859932455836508], [\"features_10:4\", \"features_10\", 0.6, 0.08210837374437131], [\"features_10:4\", \"features_10\", 0.55, 0.06783642189123658], [\"features_10:4\", \"features_10\", 0.5, 0.055437088673363354], [\"features_10:4\", \"features_10\", 0.45, 0.044601879113266366], [\"features_10:4\", \"features_10\", 0.4, 0.03519007620367163], [\"features_10:4\", \"features_10\", 0.35, 0.02706637512989262], [\"features_10:4\", \"features_10\", 0.3, 0.020111707655005195], [\"features_10:4\", \"features_10\", 0.25, 0.014223242119847592], [\"features_10:4\", \"features_10\", 0.2, 0.009319795635607897], [\"features_10:4\", \"features_10\", 0.15, 0.0053472462764114995], [\"features_10:4\", \"features_10\", 0.1, 0.002348891582958088], [\"features_10:4\", \"features_10\", 0.05, 0.0005249826809837202]], \"hovertemplate\": \"feature_name=features_10:4<br>keep_ratios=%{x}<br>correlations=%{y}<extra></extra>\", \"legendgroup\": \"features_10:4\", \"marker\": {\"color\": \"#ab63fa\", \"symbol\": \"circle\"}, \"mode\": \"markers\", \"name\": \"features_10:4\", \"showlegend\": true, \"type\": \"scattergl\", \"x\": [0.5, 0.2, 0.1, 0.05, 0.01, 0.005, 0.001, 0.40496731035677175, 0.3062922151021822, 0.24361902493938345, 0.20050549878766885, 0.1672908728784205, 0.14029485625216487, 0.11776931070315207, 0.09859932455836508, 0.08210837374437131, 0.06783642189123658, 0.055437088673363354, 0.044601879113266366, 0.03519007620367163, 0.02706637512989262, 0.020111707655005195, 0.014223242119847592, 0.009319795635607897, 0.0053472462764114995, 0.002348891582958088, 0.0005249826809837202], \"xaxis\": \"x\", \"y\": [0.9999917230698285, 0.7976605669122153, 0.2579068438858608, 0.1281603625161321, 0.15152904763333885, -0.026468916486628816, 0.20573093223822297, 0.9985631123541012, 0.9829354586308894, 0.9131149568181004, 0.7997708051851933, 0.6459407574557114, 0.5110988577222715, 0.38329349565047954, 0.2623648016524165, 0.24444325759015895, 0.2064800288150816, 0.1608253966994024, 0.13809292860538458, 0.10202446447228923, 0.09705845241781316, 0.05943478817835968, 0.08335106822352799, 0.15985237504142835, -0.06862253753674308, -0.043451343573230175, -0.01902161999274305], \"yaxis\": \"y\"}, {\"customdata\": [[\"features_6:10\", \"features_6\", 0.99, 0.34887941919191917], [\"features_6:10\", \"features_6\", 0.95, 0.21661931818181818], [\"features_6:10\", \"features_6\", 0.9, 0.14962121212121213], [\"features_6:10\", \"features_6\", 0.85, 0.10929608585858586], [\"features_6:10\", \"features_6\", 0.8, 0.08207070707070707], [\"features_6:10\", \"features_6\", 0.75, 0.06178977272727273], [\"features_6:10\", \"features_6\", 0.7, 0.04655934343434343], [\"features_6:10\", \"features_6\", 0.65, 0.03511679292929293], [\"features_6:10\", \"features_6\", 0.6, 0.026199494949494948], [\"features_6:10\", \"features_6\", 0.55, 0.019333964646464648], [\"features_6:10\", \"features_6\", 0.5, 0.013888888888888888], [\"features_6:10\", \"features_6\", 0.45, 0.009706439393939394], [\"features_6:10\", \"features_6\", 0.4, 0.006786616161616162], [\"features_6:10\", \"features_6\", 0.35, 0.004655934343434343], [\"features_6:10\", \"features_6\", 0.3, 0.0033143939393939395], [\"features_6:10\", \"features_6\", 0.25, 0.0023674242424242425], [\"features_6:10\", \"features_6\", 0.2, 0.0015782828282828283], [\"features_6:10\", \"features_6\", 0.15, 0.0010258838383838385], [\"features_6:10\", \"features_6\", 0.1, 0.0005523989898989899], [\"features_6:10\", \"features_6\", 0.05, 0.00023674242424242425], [\"features_6:10\", \"features_6\", 0.9994521141052246, 0.5], [\"features_6:10\", \"features_6\", 0.9404243230819702, 0.2], [\"features_6:10\", \"features_6\", 0.8348369598388672, 0.1], [\"features_6:10\", \"features_6\", 0.7127611637115479, 0.05], [\"features_6:10\", \"features_6\", 0.4540259540081024, 0.01], [\"features_6:10\", \"features_6\", 0.35940301418304443, 0.005], [\"features_6:10\", \"features_6\", 0.14619436860084534, 0.001]], \"hovertemplate\": \"feature_name=features_6:10<br>keep_ratios=%{x}<br>correlations=%{y}<extra></extra>\", \"legendgroup\": \"features_6:10\", \"marker\": {\"color\": \"#FFA15A\", \"symbol\": \"circle\"}, \"mode\": \"markers\", \"name\": \"features_6:10\", \"showlegend\": true, \"type\": \"scattergl\", \"x\": [0.34887941919191917, 0.21661931818181818, 0.14962121212121213, 0.10929608585858586, 0.08207070707070707, 0.06178977272727273, 0.04655934343434343, 0.03511679292929293, 0.026199494949494948, 0.019333964646464648, 0.013888888888888888, 0.009706439393939394, 0.006786616161616162, 0.004655934343434343, 0.0033143939393939395, 0.0023674242424242425, 0.0015782828282828283, 0.0010258838383838385, 0.0005523989898989899, 0.00023674242424242425, 0.5, 0.2, 0.1, 0.05, 0.01, 0.005, 0.001], \"xaxis\": \"x\", \"y\": [0.9982587450594331, 0.9750782945103256, 0.9282639984692045, 0.9176805739514399, 0.8961833197138718, 0.6951990381166706, 0.6705975263074272, 0.4968899960688234, 0.3106102002982656, 0.3040085567920686, 0.2047132785836294, 0.1615087428306587, 0.05374788800958794, 0.033037871742522484, 0.05854282572902168, 0.05625294579527625, 0.07903815787792035, 0.0871874896978234, -0.08002484644879143, -0.021950541068770445, 0.999996931826891, 0.9663930611396068, 0.9009002534468409, 0.6915958408683245, 0.1615087428306587, 0.05784475969484023, 0.0871874896978234], \"yaxis\": \"y\"}, {\"customdata\": [[\"features_8:14\", \"features_8\", 0.9991328716278076, 0.5], [\"features_8:14\", \"features_8\", 0.8840866684913635, 0.2], [\"features_8:14\", \"features_8\", 0.7212330102920532, 0.1], [\"features_8:14\", \"features_8\", 0.5574600696563721, 0.05], [\"features_8:14\", \"features_8\", 0.26782792806625366, 0.01], [\"features_8:14\", \"features_8\", 0.18807783722877502, 0.005], [\"features_8:14\", \"features_8\", 0.07715576142072678, 0.001], [\"features_8:14\", \"features_8\", 0.99, 0.39690733555062824], [\"features_8:14\", \"features_8\", 0.95, 0.28358277900960827], [\"features_8:14\", \"features_8\", 0.9, 0.21581670362158167], [\"features_8:14\", \"features_8\", 0.85, 0.17143616038433113], [\"features_8:14\", \"features_8\", 0.8, 0.13840770509977826], [\"features_8:14\", \"features_8\", 0.75, 0.11253926459719142], [\"features_8:14\", \"features_8\", 0.7, 0.09167128603104213], [\"features_8:14\", \"features_8\", 0.65, 0.074544992609017], [\"features_8:14\", \"features_8\", 0.6, 0.06025960827790096], [\"features_8:14\", \"features_8\", 0.55, 0.04836474501108647], [\"features_8:14\", \"features_8\", 0.5, 0.038479305247597934], [\"features_8:14\", \"features_8\", 0.45, 0.030175997782705098], [\"features_8:14\", \"features_8\", 0.4, 0.023200757575757576], [\"features_8:14\", \"features_8\", 0.35, 0.017334164818920916], [\"features_8:14\", \"features_8\", 0.3, 0.012576219512195123], [\"features_8:14\", \"features_8\", 0.25, 0.00870750184774575], [\"features_8:14\", \"features_8\", 0.2, 0.005612527716186253], [\"features_8:14\", \"features_8\", 0.15, 0.00326820029563932], [\"features_8:14\", \"features_8\", 0.1, 0.0015590354767184035], [\"features_8:14\", \"features_8\", 0.05, 0.00048503325942350335]], \"hovertemplate\": \"feature_name=features_8:14<br>keep_ratios=%{x}<br>correlations=%{y}<extra></extra>\", \"legendgroup\": \"features_8:14\", \"marker\": {\"color\": \"#19d3f3\", \"symbol\": \"circle\"}, \"mode\": \"markers\", \"name\": \"features_8:14\", \"showlegend\": true, \"type\": \"scattergl\", \"x\": [0.5, 0.2, 0.1, 0.05, 0.01, 0.005, 0.001, 0.39690733555062824, 0.28358277900960827, 0.21581670362158167, 0.17143616038433113, 0.13840770509977826, 0.11253926459719142, 0.09167128603104213, 0.074544992609017, 0.06025960827790096, 0.04836474501108647, 0.038479305247597934, 0.030175997782705098, 0.023200757575757576, 0.017334164818920916, 0.012576219512195123, 0.00870750184774575, 0.005612527716186253, 0.00326820029563932, 0.0015590354767184035, 0.00048503325942350335], \"xaxis\": \"x\", \"y\": [0.9999960779276297, 0.8702767063998165, 0.6313684640308391, 0.19706113271868858, 0.03597661421911432, -0.04105754419280417, -0.11244211010763955, 0.9986093845218024, 0.9791224177397808, 0.8995097900391122, 0.8414299146440571, 0.729871231932871, 0.6597931447936618, 0.5864210653243731, 0.46595305177750124, 0.2761676827710784, 0.16783897148318005, 0.09978797470385929, 0.06351353924442336, 0.07457052120899438, 0.09970838236837132, 0.06831540864425843, 0.05536038984119374, -0.022988911587392174, -0.07240084327860856, -0.05193717651724618, -0.07277122790143897], \"yaxis\": \"y\"}, {\"customdata\": [[\"features_8:9\", \"features_8\", 0.99, 0.36929508499630453], [\"features_8:9\", \"features_8\", 0.95, 0.2669415188470067], [\"features_8:9\", \"features_8\", 0.9, 0.2052499076127125], [\"features_8:9\", \"features_8\", 0.85, 0.16431079083518108], [\"features_8:9\", \"features_8\", 0.8, 0.13393847006651885], [\"features_8:9\", \"features_8\", 0.75, 0.1101140983000739], [\"features_8:9\", \"features_8\", 0.7, 0.09060883222468588], [\"features_8:9\", \"features_8\", 0.65, 0.07436021803399852], [\"features_8:9\", \"features_8\", 0.6, 0.0607099963045085], [\"features_8:9\", \"features_8\", 0.55, 0.049150036954915], [\"features_8:9\", \"features_8\", 0.5, 0.0393569844789357], [\"features_8:9\", \"features_8\", 0.45, 0.0310190317812269], [\"features_8:9\", \"features_8\", 0.4, 0.023928307464892832], [\"features_8:9\", \"features_8\", 0.35, 0.01794623059866962], [\"features_8:9\", \"features_8\", 0.3, 0.012968865484109386], [\"features_8:9\", \"features_8\", 0.25, 0.008915373244641537], [\"features_8:9\", \"features_8\", 0.2, 0.0056587213599408725], [\"features_8:9\", \"features_8\", 0.15, 0.003210458240946046], [\"features_8:9\", \"features_8\", 0.1, 0.001466648189209165], [\"features_8:9\", \"features_8\", 0.05, 0.0004734848484848485], [\"features_8:9\", \"features_8\", 0.9993852376937866, 0.5], [\"features_8:9\", \"features_8\", 0.894467830657959, 0.2], [\"features_8:9\", \"features_8\", 0.7252696752548218, 0.1], [\"features_8:9\", \"features_8\", 0.5539522171020508, 0.05], [\"features_8:9\", \"features_8\", 0.26437246799468994, 0.01], [\"features_8:9\", \"features_8\", 0.18777956068515778, 0.005], [\"features_8:9\", \"features_8\", 0.07996106892824173, 0.001]], \"hovertemplate\": \"feature_name=features_8:9<br>keep_ratios=%{x}<br>correlations=%{y}<extra></extra>\", \"legendgroup\": \"features_8:9\", \"marker\": {\"color\": \"#FF6692\", \"symbol\": \"circle\"}, \"mode\": \"markers\", \"name\": \"features_8:9\", \"showlegend\": true, \"type\": \"scattergl\", \"x\": [0.36929508499630453, 0.2669415188470067, 0.2052499076127125, 0.16431079083518108, 0.13393847006651885, 0.1101140983000739, 0.09060883222468588, 0.07436021803399852, 0.0607099963045085, 0.049150036954915, 0.0393569844789357, 0.0310190317812269, 0.023928307464892832, 0.01794623059866962, 0.012968865484109386, 0.008915373244641537, 0.0056587213599408725, 0.003210458240946046, 0.001466648189209165, 0.0004734848484848485, 0.5, 0.2, 0.1, 0.05, 0.01, 0.005, 0.001], \"xaxis\": \"x\", \"y\": [0.9979536723815678, 0.9792009899555618, 0.9355482675491656, 0.8678866680772017, 0.8322737867017684, 0.7693690481824627, 0.7241250842463967, 0.6730032173964099, 0.6343652114005195, 0.583613211563341, 0.5314788652810001, 0.5253246745579925, 0.5127204047167556, 0.08803079067690095, 0.1425407750710548, -0.12389752212357383, -0.15136408803404933, -0.058427504285936405, -0.06239391367769459, -0.0706859810566912, 0.9999972272422681, 0.9223558100239272, 0.752438902307772, 0.5850600720126564, 0.174777641266359, -0.19756111627406972, -0.06220181595974417], \"yaxis\": \"y\"}, {\"customdata\": [[\"features_3:13\", \"features_3\", 0.9933129549026489, 0.5], [\"features_3:13\", \"features_3\", 0.8797244429588318, 0.2], [\"features_3:13\", \"features_3\", 0.7241910099983215, 0.1], [\"features_3:13\", \"features_3\", 0.533118486404419, 0.05], [\"features_3:13\", \"features_3\", 0.1907750517129898, 0.01], [\"features_3:13\", \"features_3\", 0.13464058935642242, 0.005], [\"features_3:13\", \"features_3\", 0.06797612458467484, 0.001], [\"features_3:13\", \"features_3\", 0.99, 0.46484375], [\"features_3:13\", \"features_3\", 0.95, 0.30078125], [\"features_3:13\", \"features_3\", 0.9, 0.22265625], [\"features_3:13\", \"features_3\", 0.85, 0.17578125], [\"features_3:13\", \"features_3\", 0.8, 0.140625], [\"features_3:13\", \"features_3\", 0.75, 0.11328125], [\"features_3:13\", \"features_3\", 0.7, 0.08984375], [\"features_3:13\", \"features_3\", 0.65, 0.07421875], [\"features_3:13\", \"features_3\", 0.6, 0.0625], [\"features_3:13\", \"features_3\", 0.55, 0.05078125], [\"features_3:13\", \"features_3\", 0.5, 0.04296875], [\"features_3:13\", \"features_3\", 0.45, 0.03515625], [\"features_3:13\", \"features_3\", 0.4, 0.02734375], [\"features_3:13\", \"features_3\", 0.35, 0.0234375], [\"features_3:13\", \"features_3\", 0.3, 0.01953125], [\"features_3:13\", \"features_3\", 0.25, 0.015625], [\"features_3:13\", \"features_3\", 0.2, 0.01171875], [\"features_3:13\", \"features_3\", 0.15, 0.0078125], [\"features_3:13\", \"features_3\", 0.1, 0.00390625], [\"features_3:13\", \"features_3\", 0.05, 0.0]], \"hovertemplate\": \"feature_name=features_3:13<br>keep_ratios=%{x}<br>correlations=%{y}<extra></extra>\", \"legendgroup\": \"features_3:13\", \"marker\": {\"color\": \"#B6E880\", \"symbol\": \"circle\"}, \"mode\": \"markers\", \"name\": \"features_3:13\", \"showlegend\": true, \"type\": \"scattergl\", \"x\": [0.5, 0.2, 0.1, 0.05, 0.01, 0.005, 0.001, 0.46484375, 0.30078125, 0.22265625, 0.17578125, 0.140625, 0.11328125, 0.08984375, 0.07421875, 0.0625, 0.05078125, 0.04296875, 0.03515625, 0.02734375, 0.0234375, 0.01953125, 0.015625, 0.01171875, 0.0078125, 0.00390625, 0.0], \"xaxis\": \"x\", \"y\": [0.9983790899738687, 0.9522432812663654, 0.7503093175139317, 0.37073509523723386, 0.0, 0.0, 0.0, 0.9976136175881163, 0.9813733549810733, 0.9518182820955141, 0.9420759979751818, 0.8577982196765614, 0.818628364703077, 0.7106060256597252, 0.6142359285193075, 0.5764808324940917, 0.37073509523723386, 0.3459797461731835, 0.1037151095116528, 0.1037151095116528, 0.1037151095116528, 0.10339378553736903, 0.0, 0.0, 0.0, 0.0, 0.0], \"yaxis\": \"y\"}, {\"customdata\": [[\"features_8:15\", \"features_8\", 0.9988444447517395, 0.5], [\"features_8:15\", \"features_8\", 0.8651184439659119, 0.2], [\"features_8:15\", \"features_8\", 0.6902086138725281, 0.1], [\"features_8:15\", \"features_8\", 0.521622896194458, 0.05], [\"features_8:15\", \"features_8\", 0.24847537279129028, 0.01], [\"features_8:15\", \"features_8\", 0.17749226093292236, 0.005], [\"features_8:15\", \"features_8\", 0.07105650752782822, 0.001], [\"features_8:15\", \"features_8\", 0.99, 0.4134562084257206], [\"features_8:15\", \"features_8\", 0.95, 0.3022219142645972], [\"features_8:15\", \"features_8\", 0.9, 0.23346267553584626], [\"features_8:15\", \"features_8\", 0.85, 0.1876270325203252], [\"features_8:15\", \"features_8\", 0.8, 0.15318967110125647], [\"features_8:15\", \"features_8\", 0.75, 0.12599316334072433], [\"features_8:15\", \"features_8\", 0.7, 0.1038779563932003], [\"features_8:15\", \"features_8\", 0.65, 0.08548133776792313], [\"features_8:15\", \"features_8\", 0.6, 0.06991407982261641], [\"features_8:15\", \"features_8\", 0.55, 0.05661031042128603], [\"features_8:15\", \"features_8\", 0.5, 0.04533906134515891], [\"features_8:15\", \"features_8\", 0.45, 0.035719235033259425], [\"features_8:15\", \"features_8\", 0.4, 0.02757760532150776], [\"features_8:15\", \"features_8\", 0.35, 0.020671655580192166], [\"features_8:15\", \"features_8\", 0.3, 0.01488590169992609], [\"features_8:15\", \"features_8\", 0.25, 0.010127956393200296], [\"features_8:15\", \"features_8\", 0.2, 0.006363174427198817], [\"features_8:15\", \"features_8\", 0.15, 0.003556910569105691], [\"features_8:15\", \"features_8\", 0.1, 0.0016976164079822616], [\"features_8:15\", \"features_8\", 0.05, 0.0006120657797487065]], \"hovertemplate\": \"feature_name=features_8:15<br>keep_ratios=%{x}<br>correlations=%{y}<extra></extra>\", \"legendgroup\": \"features_8:15\", \"marker\": {\"color\": \"#FF97FF\", \"symbol\": \"circle\"}, \"mode\": \"markers\", \"name\": \"features_8:15\", \"showlegend\": true, \"type\": \"scattergl\", \"x\": [0.5, 0.2, 0.1, 0.05, 0.01, 0.005, 0.001, 0.4134562084257206, 0.3022219142645972, 0.23346267553584626, 0.1876270325203252, 0.15318967110125647, 0.12599316334072433, 0.1038779563932003, 0.08548133776792313, 0.06991407982261641, 0.05661031042128603, 0.04533906134515891, 0.035719235033259425, 0.02757760532150776, 0.020671655580192166, 0.01488590169992609, 0.010127956393200296, 0.006363174427198817, 0.003556910569105691, 0.0016976164079822616, 0.0006120657797487065], \"xaxis\": \"x\", \"y\": [0.9999914470885242, 0.8967128047333992, 0.7350422374274783, 0.5103387536326163, 0.14538937369141403, 0.09328824254050616, 0.11669492677144236, 0.9986876643555778, 0.9814548105565881, 0.9370292471894899, 0.8978257737934223, 0.861235920237376, 0.7965232208177305, 0.7495452347467622, 0.6402272251943302, 0.5799377267689056, 0.5281676947760865, 0.46314907863058463, 0.41054676189400374, 0.33896507870221293, 0.1862723068897823, 0.14391417195086542, 0.14715781871934064, 0.10263224265975249, 0.06134659221916236, 0.12371300987776442, 0.1144538993936674], \"yaxis\": \"y\"}, {\"customdata\": [[\"features_3:19\", \"features_3\", 0.99, 0.6953125], [\"features_3:19\", \"features_3\", 0.95, 0.45703125], [\"features_3:19\", \"features_3\", 0.9, 0.3359375], [\"features_3:19\", \"features_3\", 0.85, 0.26953125], [\"features_3:19\", \"features_3\", 0.8, 0.21875], [\"features_3:19\", \"features_3\", 0.75, 0.18359375], [\"features_3:19\", \"features_3\", 0.7, 0.15234375], [\"features_3:19\", \"features_3\", 0.65, 0.125], [\"features_3:19\", \"features_3\", 0.6, 0.1015625], [\"features_3:19\", \"features_3\", 0.55, 0.08203125], [\"features_3:19\", \"features_3\", 0.5, 0.06640625], [\"features_3:19\", \"features_3\", 0.45, 0.05078125], [\"features_3:19\", \"features_3\", 0.4, 0.04296875], [\"features_3:19\", \"features_3\", 0.35, 0.03125], [\"features_3:19\", \"features_3\", 0.3, 0.0234375], [\"features_3:19\", \"features_3\", 0.25, 0.01953125], [\"features_3:19\", \"features_3\", 0.2, 0.01171875], [\"features_3:19\", \"features_3\", 0.15, 0.0078125], [\"features_3:19\", \"features_3\", 0.1, 0.00390625], [\"features_3:19\", \"features_3\", 0.05, 0.0], [\"features_3:19\", \"features_3\", 0.9603211879730225, 0.5], [\"features_3:19\", \"features_3\", 0.7751500010490417, 0.2], [\"features_3:19\", \"features_3\", 0.5974463820457458, 0.1], [\"features_3:19\", \"features_3\", 0.4321070909500122, 0.05], [\"features_3:19\", \"features_3\", 0.1625635176897049, 0.01], [\"features_3:19\", \"features_3\", 0.11821891367435455, 0.005], [\"features_3:19\", \"features_3\", 0.06636612117290497, 0.001]], \"hovertemplate\": \"feature_name=features_3:19<br>keep_ratios=%{x}<br>correlations=%{y}<extra></extra>\", \"legendgroup\": \"features_3:19\", \"marker\": {\"color\": \"#FECB52\", \"symbol\": \"circle\"}, \"mode\": \"markers\", \"name\": \"features_3:19\", \"showlegend\": true, \"type\": \"scattergl\", \"x\": [0.6953125, 0.45703125, 0.3359375, 0.26953125, 0.21875, 0.18359375, 0.15234375, 0.125, 0.1015625, 0.08203125, 0.06640625, 0.05078125, 0.04296875, 0.03125, 0.0234375, 0.01953125, 0.01171875, 0.0078125, 0.00390625, 0.0, 0.5, 0.2, 0.1, 0.05, 0.01, 0.005, 0.001], \"xaxis\": \"x\", \"y\": [0.9880328048732491, 0.9619486936242503, 0.9374656420642185, 0.9344096148275878, 0.844870322783529, 0.5806523665928999, 0.4133805401680265, 0.04916682706988014, 0.4467404890155392, 0.6081722776259018, 0.6535224099508479, 0.6535317473344068, -0.07143684896088494, -0.07143684896088494, 0.11916838036168269, 0.11916838036168269, 0.11916838036168269, 0.11916838036168269, 0.11916838036168269, 0.12371833933480447, 0.967096259761812, 0.7344394495951603, 0.6609363540516366, -0.07143831945778853, 0.11916838036168269, 0.11916838036168269, 0.12371833933480447], \"yaxis\": \"y\"}, {\"customdata\": [[\"features_6:9\", \"features_6\", 0.9997925162315369, 0.5], [\"features_6:9\", \"features_6\", 0.9744728803634644, 0.2], [\"features_6:9\", \"features_6\", 0.9011993408203125, 0.1], [\"features_6:9\", \"features_6\", 0.800204336643219, 0.05], [\"features_6:9\", \"features_6\", 0.5576923489570618, 0.01], [\"features_6:9\", \"features_6\", 0.45759621262550354, 0.005], [\"features_6:9\", \"features_6\", 0.18799525499343872, 0.001], [\"features_6:9\", \"features_6\", 0.99, 0.25583964646464646], [\"features_6:9\", \"features_6\", 0.95, 0.15254103535353536], [\"features_6:9\", \"features_6\", 0.9, 0.09911616161616162], [\"features_6:9\", \"features_6\", 0.85, 0.06920770202020202], [\"features_6:9\", \"features_6\", 0.8, 0.04995265151515151], [\"features_6:9\", \"features_6\", 0.75, 0.03637941919191919], [\"features_6:9\", \"features_6\", 0.7, 0.026357323232323232], [\"features_6:9\", \"features_6\", 0.65, 0.018781565656565656], [\"features_6:9\", \"features_6\", 0.6, 0.013336489898989898], [\"features_6:9\", \"features_6\", 0.55, 0.00946969696969697], [\"features_6:9\", \"features_6\", 0.5, 0.006628787878787879], [\"features_6:9\", \"features_6\", 0.45, 0.004813762626262626], [\"features_6:9\", \"features_6\", 0.4, 0.003630050505050505], [\"features_6:9\", \"features_6\", 0.35, 0.0027619949494949495], [\"features_6:9\", \"features_6\", 0.3, 0.002051767676767677], [\"features_6:9\", \"features_6\", 0.25, 0.0015782828282828283], [\"features_6:9\", \"features_6\", 0.2, 0.0011047979797979798], [\"features_6:9\", \"features_6\", 0.15, 0.0007102272727272727], [\"features_6:9\", \"features_6\", 0.1, 0.00039457070707070706], [\"features_6:9\", \"features_6\", 0.05, 0.00015782828282828284]], \"hovertemplate\": \"feature_name=features_6:9<br>keep_ratios=%{x}<br>correlations=%{y}<extra></extra>\", \"legendgroup\": \"features_6:9\", \"marker\": {\"color\": \"#636efa\", \"symbol\": \"circle\"}, \"mode\": \"markers\", \"name\": \"features_6:9\", \"showlegend\": true, \"type\": \"scattergl\", \"x\": [0.5, 0.2, 0.1, 0.05, 0.01, 0.005, 0.001, 0.25583964646464646, 0.15254103535353536, 0.09911616161616162, 0.06920770202020202, 0.04995265151515151, 0.03637941919191919, 0.026357323232323232, 0.018781565656565656, 0.013336489898989898, 0.00946969696969697, 0.006628787878787879, 0.004813762626262626, 0.003630050505050505, 0.0027619949494949495, 0.002051767676767677, 0.0015782828282828283, 0.0011047979797979798, 0.0007102272727272727, 0.00039457070707070706, 0.00015782828282828284], \"xaxis\": \"x\", \"y\": [0.9999999562133823, 0.9983681375055758, 0.9727044432187459, 0.9022801895453626, 0.6980771722455126, 0.734425783226237, -0.059938575794265536, 0.9995051423738116, 0.9949754816139108, 0.9711428407667608, 0.9385168431086133, 0.9022801895453626, 0.8504852847974294, 0.7674018956999384, 0.8006603326843202, 0.7855901981308744, 0.718404583907446, 0.6455386653857462, -0.06638038488183476, -0.0608135522180762, -0.07546739478292729, -0.06093142453203399, -0.03105601430413365, -0.0665703143889088, 0.04068784178911118, 0.10589022112466337, 0.10511096688893141], \"yaxis\": \"y\"}, {\"customdata\": [[\"features_3:10\", \"features_3\", 0.9683754444122314, 0.5], [\"features_3:10\", \"features_3\", 0.8020773530006409, 0.2], [\"features_3:10\", \"features_3\", 0.6374008059501648, 0.1], [\"features_3:10\", \"features_3\", 0.4485669732093811, 0.05], [\"features_3:10\", \"features_3\", 0.18709954619407654, 0.01], [\"features_3:10\", \"features_3\", 0.1493794471025467, 0.005], [\"features_3:10\", \"features_3\", 0.10859754681587219, 0.001], [\"features_3:10\", \"features_3\", 0.99, 0.640625], [\"features_3:10\", \"features_3\", 0.95, 0.4296875], [\"features_3:10\", \"features_3\", 0.9, 0.3203125], [\"features_3:10\", \"features_3\", 0.85, 0.25390625], [\"features_3:10\", \"features_3\", 0.8, 0.19921875], [\"features_3:10\", \"features_3\", 0.75, 0.15625], [\"features_3:10\", \"features_3\", 0.7, 0.125], [\"features_3:10\", \"features_3\", 0.65, 0.10546875], [\"features_3:10\", \"features_3\", 0.6, 0.08984375], [\"features_3:10\", \"features_3\", 0.55, 0.07421875], [\"features_3:10\", \"features_3\", 0.5, 0.05859375], [\"features_3:10\", \"features_3\", 0.45, 0.05078125], [\"features_3:10\", \"features_3\", 0.4, 0.0390625], [\"features_3:10\", \"features_3\", 0.35, 0.03125], [\"features_3:10\", \"features_3\", 0.3, 0.0234375], [\"features_3:10\", \"features_3\", 0.25, 0.015625], [\"features_3:10\", \"features_3\", 0.2, 0.01171875], [\"features_3:10\", \"features_3\", 0.15, 0.0078125], [\"features_3:10\", \"features_3\", 0.1, 0.0], [\"features_3:10\", \"features_3\", 0.05, 0.0]], \"hovertemplate\": \"feature_name=features_3:10<br>keep_ratios=%{x}<br>correlations=%{y}<extra></extra>\", \"legendgroup\": \"features_3:10\", \"marker\": {\"color\": \"#EF553B\", \"symbol\": \"circle\"}, \"mode\": \"markers\", \"name\": \"features_3:10\", \"showlegend\": true, \"type\": \"scattergl\", \"x\": [0.5, 0.2, 0.1, 0.05, 0.01, 0.005, 0.001, 0.640625, 0.4296875, 0.3203125, 0.25390625, 0.19921875, 0.15625, 0.125, 0.10546875, 0.08984375, 0.07421875, 0.05859375, 0.05078125, 0.0390625, 0.03125, 0.0234375, 0.015625, 0.01171875, 0.0078125, 0.0, 0.0], \"xaxis\": \"x\", \"y\": [0.9874484324000308, 0.8889074662205662, 0.747640491473551, 0.24476494354192257, 0.28575725342443625, 0.28575725342443625, 0.25130910650573146, 0.9981386447089216, 0.9811577397419787, 0.9535016838352359, 0.9274431747289342, 0.8889074662205662, 0.7955196790902945, 0.7819394476646996, 0.747640491473551, 0.747640491473551, 0.7485757850025154, 0.1865801983966651, 0.21187240994912404, 0.24476494354192257, 0.24476494354192257, 0.24476494354192257, 0.28575725342443625, 0.28575725342443625, 0.28575725342443625, 0.25130910650573146, 0.25130910650573146], \"yaxis\": \"y\"}, {\"customdata\": [[\"features_3:11\", \"features_3\", 0.99, 0.38671875], [\"features_3:11\", \"features_3\", 0.95, 0.265625], [\"features_3:11\", \"features_3\", 0.9, 0.1953125], [\"features_3:11\", \"features_3\", 0.85, 0.15625], [\"features_3:11\", \"features_3\", 0.8, 0.1328125], [\"features_3:11\", \"features_3\", 0.75, 0.109375], [\"features_3:11\", \"features_3\", 0.7, 0.09375], [\"features_3:11\", \"features_3\", 0.65, 0.078125], [\"features_3:11\", \"features_3\", 0.6, 0.0625], [\"features_3:11\", \"features_3\", 0.55, 0.05078125], [\"features_3:11\", \"features_3\", 0.5, 0.04296875], [\"features_3:11\", \"features_3\", 0.45, 0.03125], [\"features_3:11\", \"features_3\", 0.4, 0.0234375], [\"features_3:11\", \"features_3\", 0.35, 0.01953125], [\"features_3:11\", \"features_3\", 0.3, 0.01171875], [\"features_3:11\", \"features_3\", 0.25, 0.0078125], [\"features_3:11\", \"features_3\", 0.2, 0.00390625], [\"features_3:11\", \"features_3\", 0.15, 0.00390625], [\"features_3:11\", \"features_3\", 0.1, 0.0], [\"features_3:11\", \"features_3\", 0.05, 0.0], [\"features_3:11\", \"features_3\", 0.9977628588676453, 0.5], [\"features_3:11\", \"features_3\", 0.9052329063415527, 0.2], [\"features_3:11\", \"features_3\", 0.7181732058525085, 0.1], [\"features_3:11\", \"features_3\", 0.5368451476097107, 0.05], [\"features_3:11\", \"features_3\", 0.2596651017665863, 0.01], [\"features_3:11\", \"features_3\", 0.2067900002002716, 0.005], [\"features_3:11\", \"features_3\", 0.13375692069530487, 0.001]], \"hovertemplate\": \"feature_name=features_3:11<br>keep_ratios=%{x}<br>correlations=%{y}<extra></extra>\", \"legendgroup\": \"features_3:11\", \"marker\": {\"color\": \"#00cc96\", \"symbol\": \"circle\"}, \"mode\": \"markers\", \"name\": \"features_3:11\", \"showlegend\": true, \"type\": \"scattergl\", \"x\": [0.38671875, 0.265625, 0.1953125, 0.15625, 0.1328125, 0.109375, 0.09375, 0.078125, 0.0625, 0.05078125, 0.04296875, 0.03125, 0.0234375, 0.01953125, 0.01171875, 0.0078125, 0.00390625, 0.00390625, 0.0, 0.0, 0.5, 0.2, 0.1, 0.05, 0.01, 0.005, 0.001], \"xaxis\": \"x\", \"y\": [0.9990949408935265, 0.9447779150777407, 0.9409529643673685, 0.8085398056372981, 0.9484016285562573, 0.8716960196944268, 0.8155160494584045, 0.8131538822682042, 0.8544768692891938, 0.8544771480534084, 0.9025367339874182, 0.9025367339874182, 0.9025324631423723, 0.9024682386021567, 0.607432413141153, 0.20288637323719147, 0.20288745917443213, 0.20288745917443213, 0.0, 0.0, 0.9998981896354107, 0.9404535893990869, 0.8155160494584045, 0.9025367339874182, 0.20288637323719147, 0.20288745917443213, 0.0], \"yaxis\": \"y\"}, {\"customdata\": [[\"features_8:7\", \"features_8\", 0.9994907379150391, 0.5], [\"features_8:7\", \"features_8\", 0.9017763733863831, 0.2], [\"features_8:7\", \"features_8\", 0.7425441741943359, 0.1], [\"features_8:7\", \"features_8\", 0.5745413303375244, 0.05], [\"features_8:7\", \"features_8\", 0.27696192264556885, 0.01], [\"features_8:7\", \"features_8\", 0.19775058329105377, 0.005], [\"features_8:7\", \"features_8\", 0.08486901223659515, 0.001], [\"features_8:7\", \"features_8\", 0.99, 0.36452559127864004], [\"features_8:7\", \"features_8\", 0.95, 0.2613058943089431], [\"features_8:7\", \"features_8\", 0.9, 0.198240022172949], [\"features_8:7\", \"features_8\", 0.85, 0.15687361419068735], [\"features_8:7\", \"features_8\", 0.8, 0.12653593865484108], [\"features_8:7\", \"features_8\", 0.75, 0.10306956762749446], [\"features_8:7\", \"features_8\", 0.7, 0.08419946415373245], [\"features_8:7\", \"features_8\", 0.65, 0.06865530303030302], [\"features_8:7\", \"features_8\", 0.6, 0.05573263118994826], [\"features_8:7\", \"features_8\", 0.55, 0.04493486696230599], [\"features_8:7\", \"features_8\", 0.5, 0.03585781596452328], [\"features_8:7\", \"features_8\", 0.45, 0.028201219512195123], [\"features_8:7\", \"features_8\", 0.4, 0.021722560975609755], [\"features_8:7\", \"features_8\", 0.35, 0.01631790465631929], [\"features_8:7\", \"features_8\", 0.3, 0.011802475979305248], [\"features_8:7\", \"features_8\", 0.25, 0.008095436067997043], [\"features_8:7\", \"features_8\", 0.2, 0.005115946045824094], [\"features_8:7\", \"features_8\", 0.15, 0.002840909090909091], [\"features_8:7\", \"features_8\", 0.1, 0.001316518847006652], [\"features_8:7\", \"features_8\", 0.05, 0.000438839615668884]], \"hovertemplate\": \"feature_name=features_8:7<br>keep_ratios=%{x}<br>correlations=%{y}<extra></extra>\", \"legendgroup\": \"features_8:7\", \"marker\": {\"color\": \"#ab63fa\", \"symbol\": \"circle\"}, \"mode\": \"markers\", \"name\": \"features_8:7\", \"showlegend\": true, \"type\": \"scattergl\", \"x\": [0.5, 0.2, 0.1, 0.05, 0.01, 0.005, 0.001, 0.36452559127864004, 0.2613058943089431, 0.198240022172949, 0.15687361419068735, 0.12653593865484108, 0.10306956762749446, 0.08419946415373245, 0.06865530303030302, 0.05573263118994826, 0.04493486696230599, 0.03585781596452328, 0.028201219512195123, 0.021722560975609755, 0.01631790465631929, 0.011802475979305248, 0.008095436067997043, 0.005115946045824094, 0.002840909090909091, 0.001316518847006652, 0.000438839615668884], \"xaxis\": \"x\", \"y\": [0.9999990710430954, 0.9583123356536667, 0.8181584234767887, 0.6318065210701133, 0.2956703712290418, 0.12582356670464095, -0.08427368021041155, 0.9986647199060539, 0.9840572877996334, 0.9569079798787228, 0.919349328284249, 0.8729893997593496, 0.8277552010416646, 0.7654041643574904, 0.7043676853575079, 0.6496828144641701, 0.5747913722443002, 0.4784806143114183, 0.32439545817582427, 0.3112879561724396, 0.24882109183439977, 0.22671967830101497, 0.23566522112087646, 0.1256511050893062, -0.09380887090023385, -0.09464596812695755, -0.10021116692156815], \"yaxis\": \"y\"}, {\"customdata\": [[\"features_3:0\", \"features_3\", 0.9498555064201355, 0.5], [\"features_3:0\", \"features_3\", 0.7973933219909668, 0.2], [\"features_3:0\", \"features_3\", 0.5312880873680115, 0.1], [\"features_3:0\", \"features_3\", 0.3393789231777191, 0.05], [\"features_3:0\", \"features_3\", 0.12888501584529877, 0.01], [\"features_3:0\", \"features_3\", 0.10395363718271255, 0.005], [\"features_3:0\", \"features_3\", 0.07585350424051285, 0.001], [\"features_3:0\", \"features_3\", 0.99, 0.73046875], [\"features_3:0\", \"features_3\", 0.95, 0.5], [\"features_3:0\", \"features_3\", 0.9, 0.3515625], [\"features_3:0\", \"features_3\", 0.85, 0.25390625], [\"features_3:0\", \"features_3\", 0.8, 0.203125], [\"features_3:0\", \"features_3\", 0.75, 0.17578125], [\"features_3:0\", \"features_3\", 0.7, 0.15625], [\"features_3:0\", \"features_3\", 0.65, 0.13671875], [\"features_3:0\", \"features_3\", 0.6, 0.12109375], [\"features_3:0\", \"features_3\", 0.55, 0.10546875], [\"features_3:0\", \"features_3\", 0.5, 0.08984375], [\"features_3:0\", \"features_3\", 0.45, 0.07421875], [\"features_3:0\", \"features_3\", 0.4, 0.0625], [\"features_3:0\", \"features_3\", 0.35, 0.05078125], [\"features_3:0\", \"features_3\", 0.3, 0.0390625], [\"features_3:0\", \"features_3\", 0.25, 0.03125], [\"features_3:0\", \"features_3\", 0.2, 0.0234375], [\"features_3:0\", \"features_3\", 0.15, 0.01171875], [\"features_3:0\", \"features_3\", 0.1, 0.00390625], [\"features_3:0\", \"features_3\", 0.05, 0.0]], \"hovertemplate\": \"feature_name=features_3:0<br>keep_ratios=%{x}<br>correlations=%{y}<extra></extra>\", \"legendgroup\": \"features_3:0\", \"marker\": {\"color\": \"#FFA15A\", \"symbol\": \"circle\"}, \"mode\": \"markers\", \"name\": \"features_3:0\", \"showlegend\": true, \"type\": \"scattergl\", \"x\": [0.5, 0.2, 0.1, 0.05, 0.01, 0.005, 0.001, 0.73046875, 0.5, 0.3515625, 0.25390625, 0.203125, 0.17578125, 0.15625, 0.13671875, 0.12109375, 0.10546875, 0.08984375, 0.07421875, 0.0625, 0.05078125, 0.0390625, 0.03125, 0.0234375, 0.01171875, 0.00390625, 0.0], \"xaxis\": \"x\", \"y\": [0.9310904375546267, 0.4086631480875004, 0.3955822039013961, 0.2336239882233787, 0.0, 0.0, 0.0, 0.9890028300334879, 0.9309086198210706, 0.713080912340466, 0.48516121665101436, 0.40867516912798696, 0.395324788106319, 0.3953616435121616, 0.3953616435121616, 0.3955822039013961, 0.3955822039013961, 0.33587335792963835, -0.1706610725943011, -0.1706610725943011, 0.2336239882233787, 0.2336239882233787, 0.2336239882233787, 0.0, 0.0, 0.0, 0.0], \"yaxis\": \"y\"}, {\"customdata\": [[\"features_8:13\", \"features_8\", 0.9985540509223938, 0.5], [\"features_8:13\", \"features_8\", 0.868935763835907, 0.2], [\"features_8:13\", \"features_8\", 0.6983779668807983, 0.1], [\"features_8:13\", \"features_8\", 0.5331874489784241, 0.05], [\"features_8:13\", \"features_8\", 0.25429654121398926, 0.01], [\"features_8:13\", \"features_8\", 0.17892730236053467, 0.005], [\"features_8:13\", \"features_8\", 0.07289155572652817, 0.001], [\"features_8:13\", \"features_8\", 0.99, 0.41350240206947525], [\"features_8:13\", \"features_8\", 0.95, 0.29913848854397634], [\"features_8:13\", \"features_8\", 0.9, 0.23017137841832963], [\"features_8:13\", \"features_8\", 0.85, 0.18433573540280856], [\"features_8:13\", \"features_8\", 0.8, 0.14995611603843312], [\"features_8:13\", \"features_8\", 0.75, 0.122724963045085], [\"features_8:13\", \"features_8\", 0.7, 0.10064440133037694], [\"features_8:13\", \"features_8\", 0.65, 0.08237481522542499], [\"features_8:13\", \"features_8\", 0.6, 0.06699233185513673], [\"features_8:13\", \"features_8\", 0.55, 0.05394262749445676], [\"features_8:13\", \"features_8\", 0.5, 0.042833056171470804], [\"features_8:13\", \"features_8\", 0.45, 0.03347884331116038], [\"features_8:13\", \"features_8\", 0.4, 0.025649020694752403], [\"features_8:13\", \"features_8\", 0.35, 0.019228104212860312], [\"features_8:13\", \"features_8\", 0.3, 0.013973577235772357], [\"features_8:13\", \"features_8\", 0.25, 0.009654471544715448], [\"features_8:13\", \"features_8\", 0.2, 0.00620149667405765], [\"features_8:13\", \"features_8\", 0.15, 0.003545362158167036], [\"features_8:13\", \"features_8\", 0.1, 0.0016860679970436068], [\"features_8:13\", \"features_8\", 0.05, 0.0005658721359940872]], \"hovertemplate\": \"feature_name=features_8:13<br>keep_ratios=%{x}<br>correlations=%{y}<extra></extra>\", \"legendgroup\": \"features_8:13\", \"marker\": {\"color\": \"#19d3f3\", \"symbol\": \"circle\"}, \"mode\": \"markers\", \"name\": \"features_8:13\", \"showlegend\": true, \"type\": \"scattergl\", \"x\": [0.5, 0.2, 0.1, 0.05, 0.01, 0.005, 0.001, 0.41350240206947525, 0.29913848854397634, 0.23017137841832963, 0.18433573540280856, 0.14995611603843312, 0.122724963045085, 0.10064440133037694, 0.08237481522542499, 0.06699233185513673, 0.05394262749445676, 0.042833056171470804, 0.03347884331116038, 0.025649020694752403, 0.019228104212860312, 0.013973577235772357, 0.009654471544715448, 0.00620149667405765, 0.003545362158167036, 0.0016860679970436068, 0.0005658721359940872], \"xaxis\": \"x\", \"y\": [0.9999759304200917, 0.9032947483612999, 0.575648391873097, 0.36056326360062246, 0.22725121911674, 0.20986539668057627, -0.03415505347811489, 0.9984540682944201, 0.977197139175751, 0.937861304577055, 0.8584189650713131, 0.7272234492987498, 0.6566762264099377, 0.5663871983094736, 0.4958355414550131, 0.3908131098178884, 0.37811972000885585, 0.3326975029288009, 0.31019977827743406, 0.3250886256838883, 0.27628340106823573, 0.2546723479034769, 0.22616470793444313, 0.23233697731074437, 0.20348026836842836, 0.09547038222968217, -0.0988732768369165], \"yaxis\": \"y\"}, {\"customdata\": [[\"features_8:4\", \"features_8\", 0.9987618923187256, 0.5], [\"features_8:4\", \"features_8\", 0.8749174475669861, 0.2], [\"features_8:4\", \"features_8\", 0.7088444828987122, 0.1], [\"features_8:4\", \"features_8\", 0.5453228950500488, 0.05], [\"features_8:4\", \"features_8\", 0.26634401082992554, 0.01], [\"features_8:4\", \"features_8\", 0.19020676612854004, 0.005], [\"features_8:4\", \"features_8\", 0.07789427042007446, 0.001], [\"features_8:4\", \"features_8\", 0.99, 0.4054878048780488], [\"features_8:4\", \"features_8\", 0.95, 0.29320260532150777], [\"features_8:4\", \"features_8\", 0.9, 0.22478981892091648], [\"features_8:4\", \"features_8\", 0.85, 0.17904656319290466], [\"features_8:4\", \"features_8\", 0.8, 0.14499029933481153], [\"features_8:4\", \"features_8\", 0.75, 0.1181979859571323], [\"features_8:4\", \"features_8\", 0.7, 0.09646387657058389], [\"features_8:4\", \"features_8\", 0.65, 0.07849454915003695], [\"features_8:4\", \"features_8\", 0.6, 0.06356245380635625], [\"features_8:4\", \"features_8\", 0.55, 0.05105552475979305], [\"features_8:4\", \"features_8\", 0.5, 0.040500277161862525], [\"features_8:4\", \"features_8\", 0.45, 0.03161954915003695], [\"features_8:4\", \"features_8\", 0.4, 0.02417082409460458], [\"features_8:4\", \"features_8\", 0.35, 0.017992424242424244], [\"features_8:4\", \"features_8\", 0.3, 0.012876478196600148], [\"features_8:4\", \"features_8\", 0.25, 0.008753695491500369], [\"features_8:4\", \"features_8\", 0.2, 0.005520140428677014], [\"features_8:4\", \"features_8\", 0.15, 0.003129619364375462], [\"features_8:4\", \"features_8\", 0.1, 0.0014897450110864744], [\"features_8:4\", \"features_8\", 0.05, 0.0005196784922394678]], \"hovertemplate\": \"feature_name=features_8:4<br>keep_ratios=%{x}<br>correlations=%{y}<extra></extra>\", \"legendgroup\": \"features_8:4\", \"marker\": {\"color\": \"#FF6692\", \"symbol\": \"circle\"}, \"mode\": \"markers\", \"name\": \"features_8:4\", \"showlegend\": true, \"type\": \"scattergl\", \"x\": [0.5, 0.2, 0.1, 0.05, 0.01, 0.005, 0.001, 0.4054878048780488, 0.29320260532150777, 0.22478981892091648, 0.17904656319290466, 0.14499029933481153, 0.1181979859571323, 0.09646387657058389, 0.07849454915003695, 0.06356245380635625, 0.05105552475979305, 0.040500277161862525, 0.03161954915003695, 0.02417082409460458, 0.017992424242424244, 0.012876478196600148, 0.008753695491500369, 0.005520140428677014, 0.003129619364375462, 0.0014897450110864744, 0.0005196784922394678], \"xaxis\": \"x\", \"y\": [0.9999908764040554, 0.8747949127689953, 0.49580272936499825, 0.15533949270315395, 0.10397283176091975, -0.031859179072889585, -0.04596587474919203, 0.9984782980180897, 0.9764138089350645, 0.9146148335210731, 0.839503973439031, 0.7494760664010045, 0.5817648639043207, 0.4237829157176354, 0.2579089526998234, 0.11583939235919155, 0.15068497577888212, 0.15044483659552688, 0.19919483614133338, 0.15397391467560367, 0.058485562999216825, 0.0818456640310771, 0.1141013019492211, -0.029948344581781652, -0.04693004943150263, -0.048291913450107755, -0.059888141357535625], \"yaxis\": \"y\"}, {\"customdata\": [[\"features_8:0\", \"features_8\", 0.999321460723877, 0.5], [\"features_8:0\", \"features_8\", 0.8941048383712769, 0.2], [\"features_8:0\", \"features_8\", 0.7315633296966553, 0.1], [\"features_8:0\", \"features_8\", 0.5649335980415344, 0.05], [\"features_8:0\", \"features_8\", 0.27175372838974, 0.01], [\"features_8:0\", \"features_8\", 0.19358856976032257, 0.005], [\"features_8:0\", \"features_8\", 0.08140790462493896, 0.001], [\"features_8:0\", \"features_8\", 0.99, 0.38166343311160383], [\"features_8:0\", \"features_8\", 0.95, 0.2714338507021434], [\"features_8:0\", \"features_8\", 0.9, 0.2058619733924612], [\"features_8:0\", \"features_8\", 0.85, 0.16334072431633406], [\"features_8:0\", \"features_8\", 0.8, 0.13209072431633406], [\"features_8:0\", \"features_8\", 0.75, 0.10773512564671102], [\"features_8:0\", \"features_8\", 0.7, 0.08803353658536585], [\"features_8:0\", \"features_8\", 0.65, 0.07179647080561714], [\"features_8:0\", \"features_8\", 0.6, 0.05821553954175905], [\"features_8:0\", \"features_8\", 0.55, 0.04680570953436807], [\"features_8:0\", \"features_8\", 0.5, 0.037289818920916484], [\"features_8:0\", \"features_8\", 0.45, 0.02932141537324464], [\"features_8:0\", \"features_8\", 0.4, 0.022600240206947526], [\"features_8:0\", \"features_8\", 0.35, 0.016953067257945306], [\"features_8:0\", \"features_8\", 0.3, 0.012275960827790096], [\"features_8:0\", \"features_8\", 0.25, 0.008407243163340725], [\"features_8:0\", \"features_8\", 0.2, 0.005335365853658537], [\"features_8:0\", \"features_8\", 0.15, 0.0030256836659275682], [\"features_8:0\", \"features_8\", 0.1, 0.0014204545454545455], [\"features_8:0\", \"features_8\", 0.05, 0.00048503325942350335]], \"hovertemplate\": \"feature_name=features_8:0<br>keep_ratios=%{x}<br>correlations=%{y}<extra></extra>\", \"legendgroup\": \"features_8:0\", \"marker\": {\"color\": \"#B6E880\", \"symbol\": \"circle\"}, \"mode\": \"markers\", \"name\": \"features_8:0\", \"showlegend\": true, \"type\": \"scattergl\", \"x\": [0.5, 0.2, 0.1, 0.05, 0.01, 0.005, 0.001, 0.38166343311160383, 0.2714338507021434, 0.2058619733924612, 0.16334072431633406, 0.13209072431633406, 0.10773512564671102, 0.08803353658536585, 0.07179647080561714, 0.05821553954175905, 0.04680570953436807, 0.037289818920916484, 0.02932141537324464, 0.022600240206947526, 0.016953067257945306, 0.012275960827790096, 0.008407243163340725, 0.005335365853658537, 0.0030256836659275682, 0.0014204545454545455, 0.00048503325942350335], \"xaxis\": \"x\", \"y\": [0.999997785213668, 0.9441412597745678, 0.7916095945517918, 0.4715119989385252, -0.026030375869936596, 0.07001717221787873, -0.2035356396521048, 0.9989086755235896, 0.9822926930388765, 0.9519928920324534, 0.9061965240074603, 0.8641048170647074, 0.8312597503286229, 0.7721740489915933, 0.6699979464745722, 0.5867842945171646, 0.5047617798564894, 0.31982605028391065, 0.2562286704126289, 0.02991415849948974, -0.11679536534634702, -0.10026296345431969, -0.12519790230068184, 0.12059535328779339, 0.13361661528993257, -0.18614286117880396, -0.1928688091778359], \"yaxis\": \"y\"}, {\"customdata\": [[\"features_6:2\", \"features_6\", 0.99, 0.26081123737373735], [\"features_6:2\", \"features_6\", 0.95, 0.16019570707070707], [\"features_6:2\", \"features_6\", 0.9, 0.10606060606060606], [\"features_6:2\", \"features_6\", 0.85, 0.07449494949494949], [\"features_6:2\", \"features_6\", 0.8, 0.05318813131313131], [\"features_6:2\", \"features_6\", 0.75, 0.03772095959595959], [\"features_6:2\", \"features_6\", 0.7, 0.026594065656565656], [\"features_6:2\", \"features_6\", 0.65, 0.018465909090909092], [\"features_6:2\", \"features_6\", 0.6, 0.013020833333333334], [\"features_6:2\", \"features_6\", 0.55, 0.009154040404040404], [\"features_6:2\", \"features_6\", 0.5, 0.006549873737373737], [\"features_6:2\", \"features_6\", 0.45, 0.004734848484848485], [\"features_6:2\", \"features_6\", 0.4, 0.003393308080808081], [\"features_6:2\", \"features_6\", 0.35, 0.0025252525252525255], [\"features_6:2\", \"features_6\", 0.3, 0.0018150252525252525], [\"features_6:2\", \"features_6\", 0.25, 0.0012626262626262627], [\"features_6:2\", \"features_6\", 0.2, 0.0008680555555555555], [\"features_6:2\", \"features_6\", 0.15, 0.0005523989898989899], [\"features_6:2\", \"features_6\", 0.1, 0.0003156565656565657], [\"features_6:2\", \"features_6\", 0.05, 7.891414141414142e-05], [\"features_6:2\", \"features_6\", 0.9997694492340088, 0.5], [\"features_6:2\", \"features_6\", 0.9715360403060913, 0.2], [\"features_6:2\", \"features_6\", 0.8921153545379639, 0.1], [\"features_6:2\", \"features_6\", 0.7908117771148682, 0.05], [\"features_6:2\", \"features_6\", 0.5621944069862366, 0.01], [\"features_6:2\", \"features_6\", 0.45847100019454956, 0.005], [\"features_6:2\", \"features_6\", 0.22034943103790283, 0.001]], \"hovertemplate\": \"feature_name=features_6:2<br>keep_ratios=%{x}<br>correlations=%{y}<extra></extra>\", \"legendgroup\": \"features_6:2\", \"marker\": {\"color\": \"#FF97FF\", \"symbol\": \"circle\"}, \"mode\": \"markers\", \"name\": \"features_6:2\", \"showlegend\": true, \"type\": \"scattergl\", \"x\": [0.26081123737373735, 0.16019570707070707, 0.10606060606060606, 0.07449494949494949, 0.05318813131313131, 0.03772095959595959, 0.026594065656565656, 0.018465909090909092, 0.013020833333333334, 0.009154040404040404, 0.006549873737373737, 0.004734848484848485, 0.003393308080808081, 0.0025252525252525255, 0.0018150252525252525, 0.0012626262626262627, 0.0008680555555555555, 0.0005523989898989899, 0.0003156565656565657, 7.891414141414142e-05, 0.5, 0.2, 0.1, 0.05, 0.01, 0.005, 0.001], \"xaxis\": \"x\", \"y\": [0.9988694643077645, 0.9882440034770673, 0.9567342743453868, 0.9286622524219081, 0.9029688838177543, 0.7919064945658314, 0.7943490692591656, 0.7767597708742422, 0.6975994955628538, 0.5623997472065236, 0.5769064392210039, 0.528371825356915, 0.3836805846052108, 0.38347071264876215, 0.14199746145875242, 0.1477321211283002, 0.1467529288091161, 0.14119132378713423, 0.13594734793067292, 0.1328859140461996, 0.9999998920816461, 0.9958977706493036, 0.9501516411509761, 0.8884513468948627, 0.5998740242016414, 0.5283448453780234, 0.14690387379783063], \"yaxis\": \"y\"}, {\"customdata\": [[\"features_8:12\", \"features_8\", 0.99, 0.39577559127864004], [\"features_8:12\", \"features_8\", 0.95, 0.28921840354767187], [\"features_8:12\", \"features_8\", 0.9, 0.2246858832224686], [\"features_8:12\", \"features_8\", 0.85, 0.18150637472283815], [\"features_8:12\", \"features_8\", 0.8, 0.1489629526977088], [\"features_8:12\", \"features_8\", 0.75, 0.12305986696230599], [\"features_8:12\", \"features_8\", 0.7, 0.10189162971175167], [\"features_8:12\", \"features_8\", 0.65, 0.08414172209903917], [\"features_8:12\", \"features_8\", 0.6, 0.06910569105691057], [\"features_8:12\", \"features_8\", 0.55, 0.05625230968218773], [\"features_8:12\", \"features_8\", 0.5, 0.04518893200295639], [\"features_8:12\", \"features_8\", 0.45, 0.035719235033259425], [\"features_8:12\", \"features_8\", 0.4, 0.02773928307464893], [\"features_8:12\", \"features_8\", 0.35, 0.020995011086474502], [\"features_8:12\", \"features_8\", 0.3, 0.015324741315594975], [\"features_8:12\", \"features_8\", 0.25, 0.010624538063562453], [\"features_8:12\", \"features_8\", 0.2, 0.006790465631929046], [\"features_8:12\", \"features_8\", 0.15, 0.0038687176644493716], [\"features_8:12\", \"features_8\", 0.1, 0.0018361973392461198], [\"features_8:12\", \"features_8\", 0.05, 0.0006005173688100518], [\"features_8:12\", \"features_8\", 0.99913489818573, 0.5], [\"features_8:12\", \"features_8\", 0.8734032511711121, 0.2], [\"features_8:12\", \"features_8\", 0.695082426071167, 0.1], [\"features_8:12\", \"features_8\", 0.5227015018463135, 0.05], [\"features_8:12\", \"features_8\", 0.24253453314304352, 0.01], [\"features_8:12\", \"features_8\", 0.1711144745349884, 0.005], [\"features_8:12\", \"features_8\", 0.06988055258989334, 0.001]], \"hovertemplate\": \"feature_name=features_8:12<br>keep_ratios=%{x}<br>correlations=%{y}<extra></extra>\", \"legendgroup\": \"features_8:12\", \"marker\": {\"color\": \"#FECB52\", \"symbol\": \"circle\"}, \"mode\": \"markers\", \"name\": \"features_8:12\", \"showlegend\": true, \"type\": \"scattergl\", \"x\": [0.39577559127864004, 0.28921840354767187, 0.2246858832224686, 0.18150637472283815, 0.1489629526977088, 0.12305986696230599, 0.10189162971175167, 0.08414172209903917, 0.06910569105691057, 0.05625230968218773, 0.04518893200295639, 0.035719235033259425, 0.02773928307464893, 0.020995011086474502, 0.015324741315594975, 0.010624538063562453, 0.006790465631929046, 0.0038687176644493716, 0.0018361973392461198, 0.0006005173688100518, 0.5, 0.2, 0.1, 0.05, 0.01, 0.005, 0.001], \"xaxis\": \"x\", \"y\": [0.9987953648583986, 0.9767298769954436, 0.9454966334993465, 0.8897398774780421, 0.8657824972357273, 0.8140589394421047, 0.7595783281970304, 0.7033889121980612, 0.5948760025316773, 0.5127580907639526, 0.4067625637384219, 0.36090679212258897, 0.25916568625338426, 0.28634008441132264, 0.3298931725084916, 0.31914542911207305, 0.2743802576593212, 0.2790455453943518, 0.2751859131756178, 0.2761009279828618, 0.9999958759007959, 0.8991499998516892, 0.7415956045709371, 0.4856247191994423, 0.34509542533656795, 0.2791066841328643, 0.2760221188244729], \"yaxis\": \"y\"}, {\"customdata\": [[\"features_8:18\", \"features_8\", 0.99, 0.4086636178861789], [\"features_8:18\", \"features_8\", 0.95, 0.293595251293422], [\"features_8:18\", \"features_8\", 0.9, 0.22533259423503327], [\"features_8:18\", \"features_8\", 0.85, 0.18068643754619365], [\"features_8:18\", \"features_8\", 0.8, 0.14777346637102734], [\"features_8:18\", \"features_8\", 0.75, 0.12158167036215817], [\"features_8:18\", \"features_8\", 0.7, 0.10020556171470806], [\"features_8:18\", \"features_8\", 0.65, 0.08240946045824095], [\"features_8:18\", \"features_8\", 0.6, 0.06744271988174427], [\"features_8:18\", \"features_8\", 0.55, 0.05478566149297857], [\"features_8:18\", \"features_8\", 0.5, 0.043976348854397634], [\"features_8:18\", \"features_8\", 0.45, 0.03472607169253511], [\"features_8:18\", \"features_8\", 0.4, 0.02681541019955654], [\"features_8:18\", \"features_8\", 0.35, 0.020209719142645972], [\"features_8:18\", \"features_8\", 0.3, 0.014689578713968959], [\"features_8:18\", \"features_8\", 0.25, 0.010151053215077605], [\"features_8:18\", \"features_8\", 0.2, 0.00653640059127864], [\"features_8:18\", \"features_8\", 0.15, 0.003764781966001478], [\"features_8:18\", \"features_8\", 0.1, 0.0018015521064301552], [\"features_8:18\", \"features_8\", 0.05, 0.0006120657797487065], [\"features_8:18\", \"features_8\", 0.9986636638641357, 0.5], [\"features_8:18\", \"features_8\", 0.8737947940826416, 0.2], [\"features_8:18\", \"features_8\", 0.6994670033454895, 0.1], [\"features_8:18\", \"features_8\", 0.5287709832191467, 0.05], [\"features_8:18\", \"features_8\", 0.2479982227087021, 0.01], [\"features_8:18\", \"features_8\", 0.17398367822170258, 0.005], [\"features_8:18\", \"features_8\", 0.06979703903198242, 0.001]], \"hovertemplate\": \"feature_name=features_8:18<br>keep_ratios=%{x}<br>correlations=%{y}<extra></extra>\", \"legendgroup\": \"features_8:18\", \"marker\": {\"color\": \"#636efa\", \"symbol\": \"circle\"}, \"mode\": \"markers\", \"name\": \"features_8:18\", \"showlegend\": true, \"type\": \"scattergl\", \"x\": [0.4086636178861789, 0.293595251293422, 0.22533259423503327, 0.18068643754619365, 0.14777346637102734, 0.12158167036215817, 0.10020556171470806, 0.08240946045824095, 0.06744271988174427, 0.05478566149297857, 0.043976348854397634, 0.03472607169253511, 0.02681541019955654, 0.020209719142645972, 0.014689578713968959, 0.010151053215077605, 0.00653640059127864, 0.003764781966001478, 0.0018015521064301552, 0.0006120657797487065, 0.5, 0.2, 0.1, 0.05, 0.01, 0.005, 0.001], \"xaxis\": \"x\", \"y\": [0.9979319706431735, 0.9764241011667865, 0.9433491806057417, 0.8825028647348236, 0.8335185029671139, 0.7820268865501245, 0.7642557089533408, 0.7313842567952206, 0.6848549629922751, 0.6192686476248159, 0.5729330428697186, 0.5693888783822154, 0.5249692858216141, 0.5013864164581343, 0.4653043281002079, 0.43464514385630476, 0.414854831458913, 0.18699204833200114, 0.06430008592299215, -0.23574011429121358, 0.9999805392062406, 0.9203595008048417, 0.7644114234792909, 0.5962511344282111, 0.4309046588492366, 0.384817496943592, 0.0880947400673636], \"yaxis\": \"y\"}, {\"customdata\": [[\"features_10:3\", \"features_10\", 0.99, 0.4053732248008313], [\"features_10:3\", \"features_10\", 0.95, 0.30850580187045373], [\"features_10:3\", \"features_10\", 0.9, 0.24614110668514028], [\"features_10:3\", \"features_10\", 0.85, 0.20292474887426395], [\"features_10:3\", \"features_10\", 0.8, 0.1694016279875303], [\"features_10:3\", \"features_10\", 0.75, 0.14208087980602702], [\"features_10:3\", \"features_10\", 0.7, 0.11921977831659161], [\"features_10:3\", \"features_10\", 0.65, 0.0997791825424316], [\"features_10:3\", \"features_10\", 0.6, 0.083055507447177], [\"features_10:3\", \"features_10\", 0.55, 0.0686103654312435], [\"features_10:3\", \"features_10\", 0.5, 0.056070315206096295], [\"features_10:3\", \"features_10\", 0.45, 0.04514309837201247], [\"features_10:3\", \"features_10\", 0.4, 0.03564470038101836], [\"features_10:3\", \"features_10\", 0.35, 0.027401931070315206], [\"features_10:3\", \"features_10\", 0.3, 0.020311958780741254], [\"features_10:3\", \"features_10\", 0.25, 0.014277364045722203], [\"features_10:3\", \"features_10\", 0.2, 0.009260261517145827], [\"features_10:3\", \"features_10\", 0.15, 0.005266063387599584], [\"features_10:3\", \"features_10\", 0.1, 0.0023055940422583997], [\"features_10:3\", \"features_10\", 0.05, 0.000508746103221337], [\"features_10:3\", \"features_10\", 0.9992383122444153, 0.5], [\"features_10:3\", \"features_10\", 0.8460594415664673, 0.2], [\"features_10:3\", \"features_10\", 0.650607168674469, 0.1], [\"features_10:3\", \"features_10\", 0.47305750846862793, 0.05], [\"features_10:3\", \"features_10\", 0.20807453989982605, 0.01], [\"features_10:3\", \"features_10\", 0.14609746634960175, 0.005], [\"features_10:3\", \"features_10\", 0.06789924204349518, 0.001]], \"hovertemplate\": \"feature_name=features_10:3<br>keep_ratios=%{x}<br>correlations=%{y}<extra></extra>\", \"legendgroup\": \"features_10:3\", \"marker\": {\"color\": \"#EF553B\", \"symbol\": \"circle\"}, \"mode\": \"markers\", \"name\": \"features_10:3\", \"showlegend\": true, \"type\": \"scattergl\", \"x\": [0.4053732248008313, 0.30850580187045373, 0.24614110668514028, 0.20292474887426395, 0.1694016279875303, 0.14208087980602702, 0.11921977831659161, 0.0997791825424316, 0.083055507447177, 0.0686103654312435, 0.056070315206096295, 0.04514309837201247, 0.03564470038101836, 0.027401931070315206, 0.020311958780741254, 0.014277364045722203, 0.009260261517145827, 0.005266063387599584, 0.0023055940422583997, 0.000508746103221337, 0.5, 0.2, 0.1, 0.05, 0.01, 0.005, 0.001], \"xaxis\": \"x\", \"y\": [0.9985658809621913, 0.9851224079538512, 0.9504433688454005, 0.8588474706363576, 0.7887886255077173, 0.7322147057351102, 0.6573044596160789, 0.6081598910466518, 0.5242089230056415, 0.47763093269672396, 0.4673492758602214, 0.41809777665067305, 0.4171442684570046, 0.3902137403117792, 0.34233029645195256, 0.32567645957852165, 0.38243266104336454, 0.25295171653177195, 0.0750389564316319, 0.04374516556173989, 0.9999940241735419, 0.8495048056775978, 0.6098060995562175, 0.43914523604242567, 0.40821265481056507, 0.2285673609327871, 0.11521789598515703], \"yaxis\": \"y\"}, {\"customdata\": [[\"features_8:2\", \"features_8\", 0.99, 0.3681979859571323], [\"features_8:2\", \"features_8\", 0.95, 0.2638349963045085], [\"features_8:2\", \"features_8\", 0.9, 0.2013349963045085], [\"features_8:2\", \"features_8\", 0.85, 0.1604189763488544], [\"features_8:2\", \"features_8\", 0.8, 0.13038155949741315], [\"features_8:2\", \"features_8\", 0.75, 0.10664957501847745], [\"features_8:2\", \"features_8\", 0.7, 0.08729443828529194], [\"features_8:2\", \"features_8\", 0.65, 0.07138072801182557], [\"features_8:2\", \"features_8\", 0.6, 0.05812315225424981], [\"features_8:2\", \"features_8\", 0.55, 0.04696738728750924], [\"features_8:2\", \"features_8\", 0.5, 0.03752078713968958], [\"features_8:2\", \"features_8\", 0.45, 0.029540835181079084], [\"features_8:2\", \"features_8\", 0.4, 0.02283120842572062], [\"features_8:2\", \"features_8\", 0.35, 0.01712629342202513], [\"features_8:2\", \"features_8\", 0.3, 0.012368348115299336], [\"features_8:2\", \"features_8\", 0.25, 0.008488082039911308], [\"features_8:2\", \"features_8\", 0.2, 0.005381559497413156], [\"features_8:2\", \"features_8\", 0.15, 0.0030025868440502587], [\"features_8:2\", \"features_8\", 0.1, 0.0014089061345158905], [\"features_8:2\", \"features_8\", 0.05, 0.0004503880266075388], [\"features_8:2\", \"features_8\", 0.9993011951446533, 0.5], [\"features_8:2\", \"features_8\", 0.8986215591430664, 0.2], [\"features_8:2\", \"features_8\", 0.7339410781860352, 0.1], [\"features_8:2\", \"features_8\", 0.5644592046737671, 0.05], [\"features_8:2\", \"features_8\", 0.2706853449344635, 0.01], [\"features_8:2\", \"features_8\", 0.19288510084152222, 0.005], [\"features_8:2\", \"features_8\", 0.08171534538269043, 0.001]], \"hovertemplate\": \"feature_name=features_8:2<br>keep_ratios=%{x}<br>correlations=%{y}<extra></extra>\", \"legendgroup\": \"features_8:2\", \"marker\": {\"color\": \"#00cc96\", \"symbol\": \"circle\"}, \"mode\": \"markers\", \"name\": \"features_8:2\", \"showlegend\": true, \"type\": \"scattergl\", \"x\": [0.3681979859571323, 0.2638349963045085, 0.2013349963045085, 0.1604189763488544, 0.13038155949741315, 0.10664957501847745, 0.08729443828529194, 0.07138072801182557, 0.05812315225424981, 0.04696738728750924, 0.03752078713968958, 0.029540835181079084, 0.02283120842572062, 0.01712629342202513, 0.012368348115299336, 0.008488082039911308, 0.005381559497413156, 0.0030025868440502587, 0.0014089061345158905, 0.0004503880266075388, 0.5, 0.2, 0.1, 0.05, 0.01, 0.005, 0.001], \"xaxis\": \"x\", \"y\": [0.9983790157279733, 0.9800597372055617, 0.9295864512933332, 0.8587086174980079, 0.7858159403698164, 0.7392685719332086, 0.7430817753777916, 0.6758052459764448, 0.5753289947461704, 0.47091018165494536, 0.42365458270532996, 0.3920453765508938, 0.34221022830428627, 0.3823520927501927, 0.3982387963055486, 0.3250009632342198, 0.251722847843051, -0.08569752130978132, -0.20125983307124995, -0.22788668490183606, 0.9999980048051118, 0.9258087771536996, 0.747982532469076, 0.4674625754642367, 0.3676118692356183, 0.1350540815197871, -0.21730232611006003], \"yaxis\": \"y\"}, {\"customdata\": [[\"features_10:13\", \"features_10\", 0.9989792108535767, 0.5], [\"features_10:13\", \"features_10\", 0.8460410833358765, 0.2], [\"features_10:13\", \"features_10\", 0.6540700197219849, 0.1], [\"features_10:13\", \"features_10\", 0.47978055477142334, 0.05], [\"features_10:13\", \"features_10\", 0.21739573776721954, 0.01], [\"features_10:13\", \"features_10\", 0.15358904004096985, 0.005], [\"features_10:13\", \"features_10\", 0.06939376890659332, 0.001], [\"features_10:13\", \"features_10\", 0.99, 0.4133562088673363], [\"features_10:13\", \"features_10\", 0.95, 0.31189924662279184], [\"features_10:13\", \"features_10\", 0.9, 0.24736426220990648], [\"features_10:13\", \"features_10\", 0.85, 0.20299510737790094], [\"features_10:13\", \"features_10\", 0.8, 0.16885499653619673], [\"features_10:13\", \"features_10\", 0.75, 0.1411662192587461], [\"features_10:13\", \"features_10\", 0.7, 0.11809945445098718], [\"features_10:13\", \"features_10\", 0.65, 0.09851814166955317], [\"features_10:13\", \"features_10\", 0.6, 0.08175116903359889], [\"features_10:13\", \"features_10\", 0.55, 0.06724108070661586], [\"features_10:13\", \"features_10\", 0.5, 0.05463067197783166], [\"features_10:13\", \"features_10\", 0.45, 0.04363309664011084], [\"features_10:13\", \"features_10\", 0.4, 0.03410763768617942], [\"features_10:13\", \"features_10\", 0.35, 0.02595146345687565], [\"features_10:13\", \"features_10\", 0.3, 0.019018444752338066], [\"features_10:13\", \"features_10\", 0.25, 0.01321116210599238], [\"features_10:13\", \"features_10\", 0.2, 0.008470081399376515], [\"features_10:13\", \"features_10\", 0.15, 0.004768141669553169], [\"features_10:13\", \"features_10\", 0.1, 0.0020945185313474193], [\"features_10:13\", \"features_10\", 0.05, 0.0005303948735711811]], \"hovertemplate\": \"feature_name=features_10:13<br>keep_ratios=%{x}<br>correlations=%{y}<extra></extra>\", \"legendgroup\": \"features_10:13\", \"marker\": {\"color\": \"#ab63fa\", \"symbol\": \"circle\"}, \"mode\": \"markers\", \"name\": \"features_10:13\", \"showlegend\": true, \"type\": \"scattergl\", \"x\": [0.5, 0.2, 0.1, 0.05, 0.01, 0.005, 0.001, 0.4133562088673363, 0.31189924662279184, 0.24736426220990648, 0.20299510737790094, 0.16885499653619673, 0.1411662192587461, 0.11809945445098718, 0.09851814166955317, 0.08175116903359889, 0.06724108070661586, 0.05463067197783166, 0.04363309664011084, 0.03410763768617942, 0.02595146345687565, 0.019018444752338066, 0.01321116210599238, 0.008470081399376515, 0.004768141669553169, 0.0020945185313474193, 0.0005303948735711811], \"xaxis\": \"x\", \"y\": [0.9999855793708909, 0.8734165594773791, 0.6166330297180255, 0.3870077460143745, 0.057706044821768276, -0.18300519132074639, -0.07204719178942648, 0.9986951050945589, 0.9754223529500365, 0.9361761020521369, 0.8818643275830128, 0.7572714048998792, 0.7933634334898125, 0.7533571061795244, 0.6003805431914548, 0.6858210389649095, 0.5711104720756502, 0.4053134411168202, 0.2948655478639502, 0.27062947382438873, 0.2596936253730666, 0.24941068889697898, 0.2975094826879571, -0.041290330176582665, -0.17985218094547994, -0.16964870690051426, -0.0670712477883615], \"yaxis\": \"y\"}, {\"customdata\": [[\"features_10:16\", \"features_10\", 0.99, 0.42277342396951856], [\"features_10:16\", \"features_10\", 0.95, 0.3174900415656391], [\"features_10:16\", \"features_10\", 0.9, 0.2516777797021129], [\"features_10:16\", \"features_10\", 0.85, 0.20671869587807412], [\"features_10:16\", \"features_10\", 0.8, 0.1722376169033599], [\"features_10:16\", \"features_10\", 0.75, 0.14439188604087289], [\"features_10:16\", \"features_10\", 0.7, 0.12118981641842744], [\"features_10:16\", \"features_10\", 0.65, 0.10148943540006927], [\"features_10:16\", \"features_10\", 0.6, 0.08459257014201593], [\"features_10:16\", \"features_10\", 0.55, 0.06997965015587114], [\"features_10:16\", \"features_10\", 0.5, 0.05727182196051264], [\"features_10:16\", \"features_10\", 0.45, 0.04619306373397991], [\"features_10:16\", \"features_10\", 0.4, 0.03653771215794943], [\"features_10:16\", \"features_10\", 0.35, 0.028148813647384828], [\"features_10:16\", \"features_10\", 0.3, 0.020950597506061656], [\"features_10:16\", \"features_10\", 0.25, 0.014861880845167994], [\"features_10:16\", \"features_10\", 0.2, 0.009796068583304469], [\"features_10:16\", \"features_10\", 0.15, 0.005693626602009006], [\"features_10:16\", \"features_10\", 0.1, 0.002538318323519224], [\"features_10:16\", \"features_10\", 0.05, 0.0005736924142708694], [\"features_10:16\", \"features_10\", 0.9985624551773071, 0.5], [\"features_10:16\", \"features_10\", 0.8411425948143005, 0.2], [\"features_10:16\", \"features_10\", 0.6458725929260254, 0.1], [\"features_10:16\", \"features_10\", 0.46794357895851135, 0.05], [\"features_10:16\", \"features_10\", 0.20224229991436005, 0.01], [\"features_10:16\", \"features_10\", 0.14022962749004364, 0.005], [\"features_10:16\", \"features_10\", 0.0645378902554512, 0.001]], \"hovertemplate\": \"feature_name=features_10:16<br>keep_ratios=%{x}<br>correlations=%{y}<extra></extra>\", \"legendgroup\": \"features_10:16\", \"marker\": {\"color\": \"#FFA15A\", \"symbol\": \"circle\"}, \"mode\": \"markers\", \"name\": \"features_10:16\", \"showlegend\": true, \"type\": \"scattergl\", \"x\": [0.42277342396951856, 0.3174900415656391, 0.2516777797021129, 0.20671869587807412, 0.1722376169033599, 0.14439188604087289, 0.12118981641842744, 0.10148943540006927, 0.08459257014201593, 0.06997965015587114, 0.05727182196051264, 0.04619306373397991, 0.03653771215794943, 0.028148813647384828, 0.020950597506061656, 0.014861880845167994, 0.009796068583304469, 0.005693626602009006, 0.002538318323519224, 0.0005736924142708694, 0.5, 0.2, 0.1, 0.05, 0.01, 0.005, 0.001], \"xaxis\": \"x\", \"y\": [0.9989031559425454, 0.9845372766854499, 0.9218086621249627, 0.8272162421116412, 0.6355368415409219, 0.4566771565911554, 0.4671901468824686, 0.30812443789853267, 0.22676620262123734, 0.29087269909577673, 0.2596163632244367, 0.19299185549539577, 0.10476712364411328, 0.04831239634241582, 0.026452314482929305, 0.014291432420959076, 0.016930614905119667, -0.053981470508299045, -0.1751782920247678, -0.08585798340045135, 0.9999738053204134, 0.8046904699697821, 0.3045394539257163, 0.22717344484398563, 0.03233475925901903, -0.10443819190810086, -0.19112314773492312], \"yaxis\": \"y\"}, {\"customdata\": [[\"features_6:17\", \"features_6\", 0.9955731630325317, 0.5], [\"features_6:17\", \"features_6\", 0.9020174145698547, 0.2], [\"features_6:17\", \"features_6\", 0.7986769676208496, 0.1], [\"features_6:17\", \"features_6\", 0.6962380409240723, 0.05], [\"features_6:17\", \"features_6\", 0.49098366498947144, 0.01], [\"features_6:17\", \"features_6\", 0.3618563115596771, 0.005], [\"features_6:17\", \"features_6\", 0.13059420883655548, 0.001], [\"features_6:17\", \"features_6\", 0.99, 0.4474431818181818], [\"features_6:17\", \"features_6\", 0.95, 0.28914141414141414], [\"features_6:17\", \"features_6\", 0.9, 0.1972064393939394], [\"features_6:17\", \"features_6\", 0.85, 0.14023042929292928], [\"features_6:17\", \"features_6\", 0.8, 0.10093118686868686], [\"features_6:17\", \"features_6\", 0.75, 0.07244318181818182], [\"features_6:17\", \"features_6\", 0.7, 0.051373106060606064], [\"features_6:17\", \"features_6\", 0.65, 0.035432449494949496], [\"features_6:17\", \"features_6\", 0.6, 0.0234375], [\"features_6:17\", \"features_6\", 0.55, 0.015309343434343434], [\"features_6:17\", \"features_6\", 0.5, 0.01057449494949495], [\"features_6:17\", \"features_6\", 0.45, 0.007891414141414142], [\"features_6:17\", \"features_6\", 0.4, 0.006076388888888889], [\"features_6:17\", \"features_6\", 0.35, 0.004734848484848485], [\"features_6:17\", \"features_6\", 0.3, 0.0035511363636363635], [\"features_6:17\", \"features_6\", 0.25, 0.002683080808080808], [\"features_6:17\", \"features_6\", 0.2, 0.001893939393939394], [\"features_6:17\", \"features_6\", 0.15, 0.0012626262626262627], [\"features_6:17\", \"features_6\", 0.1, 0.0006313131313131314], [\"features_6:17\", \"features_6\", 0.05, 0.00023674242424242425]], \"hovertemplate\": \"feature_name=features_6:17<br>keep_ratios=%{x}<br>correlations=%{y}<extra></extra>\", \"legendgroup\": \"features_6:17\", \"marker\": {\"color\": \"#19d3f3\", \"symbol\": \"circle\"}, \"mode\": \"markers\", \"name\": \"features_6:17\", \"showlegend\": true, \"type\": \"scattergl\", \"x\": [0.5, 0.2, 0.1, 0.05, 0.01, 0.005, 0.001, 0.4474431818181818, 0.28914141414141414, 0.1972064393939394, 0.14023042929292928, 0.10093118686868686, 0.07244318181818182, 0.051373106060606064, 0.035432449494949496, 0.0234375, 0.015309343434343434, 0.01057449494949495, 0.007891414141414142, 0.006076388888888889, 0.004734848484848485, 0.0035511363636363635, 0.002683080808080808, 0.001893939393939394, 0.0012626262626262627, 0.0006313131313131314, 0.00023674242424242425], \"xaxis\": \"x\", \"y\": [0.9993807844594091, 0.9418192219616449, 0.8268130615829377, 0.5972881957491979, 0.1683873285603329, 0.21768050325956012, 0.17964838059713228, 0.9982213201914293, 0.9793405223334468, 0.939478236664878, 0.9095533673860936, 0.830798089438894, 0.6655716552942332, 0.5957271186211617, 0.5199632029233077, 0.5114870466762068, 0.421760621351588, 0.1683873285603329, 0.17670436693696967, 0.15776404732425542, 0.21579679699100618, 0.1935136266485958, 0.20744342872866217, 0.20557402859421284, 0.18568911151903944, 0.20949903196354802, 0.17117495416589085], \"yaxis\": \"y\"}],                        {\"legend\": {\"title\": {\"text\": \"feature_name\"}, \"tracegroupgap\": 0}, \"margin\": {\"t\": 60}, \"template\": {\"data\": {\"bar\": [{\"error_x\": {\"color\": \"#2a3f5f\"}, \"error_y\": {\"color\": \"#2a3f5f\"}, \"marker\": {\"line\": {\"color\": \"#E5ECF6\", \"width\": 0.5}}, \"type\": \"bar\"}], \"barpolar\": [{\"marker\": {\"line\": {\"color\": \"#E5ECF6\", \"width\": 0.5}}, \"type\": \"barpolar\"}], \"carpet\": [{\"aaxis\": {\"endlinecolor\": \"#2a3f5f\", \"gridcolor\": \"white\", \"linecolor\": \"white\", \"minorgridcolor\": \"white\", \"startlinecolor\": \"#2a3f5f\"}, \"baxis\": {\"endlinecolor\": \"#2a3f5f\", \"gridcolor\": \"white\", \"linecolor\": \"white\", \"minorgridcolor\": \"white\", \"startlinecolor\": \"#2a3f5f\"}, \"type\": \"carpet\"}], \"choropleth\": [{\"colorbar\": {\"outlinewidth\": 0, \"ticks\": \"\"}, \"type\": \"choropleth\"}], \"contour\": [{\"colorbar\": {\"outlinewidth\": 0, \"ticks\": \"\"}, \"colorscale\": [[0.0, \"#0d0887\"], [0.1111111111111111, \"#46039f\"], [0.2222222222222222, \"#7201a8\"], [0.3333333333333333, \"#9c179e\"], [0.4444444444444444, \"#bd3786\"], [0.5555555555555556, \"#d8576b\"], [0.6666666666666666, \"#ed7953\"], [0.7777777777777778, \"#fb9f3a\"], [0.8888888888888888, \"#fdca26\"], [1.0, \"#f0f921\"]], \"type\": \"contour\"}], \"contourcarpet\": [{\"colorbar\": {\"outlinewidth\": 0, \"ticks\": \"\"}, \"type\": \"contourcarpet\"}], \"heatmap\": [{\"colorbar\": {\"outlinewidth\": 0, \"ticks\": \"\"}, \"colorscale\": [[0.0, \"#0d0887\"], [0.1111111111111111, \"#46039f\"], [0.2222222222222222, \"#7201a8\"], [0.3333333333333333, \"#9c179e\"], [0.4444444444444444, \"#bd3786\"], [0.5555555555555556, \"#d8576b\"], [0.6666666666666666, \"#ed7953\"], [0.7777777777777778, \"#fb9f3a\"], [0.8888888888888888, \"#fdca26\"], [1.0, \"#f0f921\"]], \"type\": \"heatmap\"}], \"heatmapgl\": [{\"colorbar\": {\"outlinewidth\": 0, \"ticks\": \"\"}, \"colorscale\": [[0.0, \"#0d0887\"], [0.1111111111111111, \"#46039f\"], [0.2222222222222222, \"#7201a8\"], [0.3333333333333333, \"#9c179e\"], [0.4444444444444444, \"#bd3786\"], [0.5555555555555556, \"#d8576b\"], [0.6666666666666666, \"#ed7953\"], [0.7777777777777778, \"#fb9f3a\"], [0.8888888888888888, \"#fdca26\"], [1.0, \"#f0f921\"]], \"type\": \"heatmapgl\"}], \"histogram\": [{\"marker\": {\"colorbar\": {\"outlinewidth\": 0, \"ticks\": \"\"}}, \"type\": \"histogram\"}], \"histogram2d\": [{\"colorbar\": {\"outlinewidth\": 0, \"ticks\": \"\"}, \"colorscale\": [[0.0, \"#0d0887\"], [0.1111111111111111, \"#46039f\"], [0.2222222222222222, \"#7201a8\"], [0.3333333333333333, \"#9c179e\"], [0.4444444444444444, \"#bd3786\"], [0.5555555555555556, \"#d8576b\"], [0.6666666666666666, \"#ed7953\"], [0.7777777777777778, \"#fb9f3a\"], [0.8888888888888888, \"#fdca26\"], [1.0, \"#f0f921\"]], \"type\": \"histogram2d\"}], \"histogram2dcontour\": [{\"colorbar\": {\"outlinewidth\": 0, \"ticks\": \"\"}, \"colorscale\": [[0.0, \"#0d0887\"], [0.1111111111111111, \"#46039f\"], [0.2222222222222222, \"#7201a8\"], [0.3333333333333333, \"#9c179e\"], [0.4444444444444444, \"#bd3786\"], [0.5555555555555556, \"#d8576b\"], [0.6666666666666666, \"#ed7953\"], [0.7777777777777778, \"#fb9f3a\"], [0.8888888888888888, \"#fdca26\"], [1.0, \"#f0f921\"]], \"type\": \"histogram2dcontour\"}], \"mesh3d\": [{\"colorbar\": {\"outlinewidth\": 0, \"ticks\": \"\"}, \"type\": \"mesh3d\"}], \"parcoords\": [{\"line\": {\"colorbar\": {\"outlinewidth\": 0, \"ticks\": \"\"}}, \"type\": \"parcoords\"}], \"pie\": [{\"automargin\": true, \"type\": \"pie\"}], \"scatter\": [{\"marker\": {\"colorbar\": {\"outlinewidth\": 0, \"ticks\": \"\"}}, \"type\": \"scatter\"}], \"scatter3d\": [{\"line\": {\"colorbar\": {\"outlinewidth\": 0, \"ticks\": \"\"}}, \"marker\": {\"colorbar\": {\"outlinewidth\": 0, \"ticks\": \"\"}}, \"type\": \"scatter3d\"}], \"scattercarpet\": [{\"marker\": {\"colorbar\": {\"outlinewidth\": 0, \"ticks\": \"\"}}, \"type\": \"scattercarpet\"}], \"scattergeo\": [{\"marker\": {\"colorbar\": {\"outlinewidth\": 0, \"ticks\": \"\"}}, \"type\": \"scattergeo\"}], \"scattergl\": [{\"marker\": {\"colorbar\": {\"outlinewidth\": 0, \"ticks\": \"\"}}, \"type\": \"scattergl\"}], \"scattermapbox\": [{\"marker\": {\"colorbar\": {\"outlinewidth\": 0, \"ticks\": \"\"}}, \"type\": \"scattermapbox\"}], \"scatterpolar\": [{\"marker\": {\"colorbar\": {\"outlinewidth\": 0, \"ticks\": \"\"}}, \"type\": \"scatterpolar\"}], \"scatterpolargl\": [{\"marker\": {\"colorbar\": {\"outlinewidth\": 0, \"ticks\": \"\"}}, \"type\": \"scatterpolargl\"}], \"scatterternary\": [{\"marker\": {\"colorbar\": {\"outlinewidth\": 0, \"ticks\": \"\"}}, \"type\": \"scatterternary\"}], \"surface\": [{\"colorbar\": {\"outlinewidth\": 0, \"ticks\": \"\"}, \"colorscale\": [[0.0, \"#0d0887\"], [0.1111111111111111, \"#46039f\"], [0.2222222222222222, \"#7201a8\"], [0.3333333333333333, \"#9c179e\"], [0.4444444444444444, \"#bd3786\"], [0.5555555555555556, \"#d8576b\"], [0.6666666666666666, \"#ed7953\"], [0.7777777777777778, \"#fb9f3a\"], [0.8888888888888888, \"#fdca26\"], [1.0, \"#f0f921\"]], \"type\": \"surface\"}], \"table\": [{\"cells\": {\"fill\": {\"color\": \"#EBF0F8\"}, \"line\": {\"color\": \"white\"}}, \"header\": {\"fill\": {\"color\": \"#C8D4E3\"}, \"line\": {\"color\": \"white\"}}, \"type\": \"table\"}]}, \"layout\": {\"annotationdefaults\": {\"arrowcolor\": \"#2a3f5f\", \"arrowhead\": 0, \"arrowwidth\": 1}, \"autotypenumbers\": \"strict\", \"coloraxis\": {\"colorbar\": {\"outlinewidth\": 0, \"ticks\": \"\"}}, \"colorscale\": {\"diverging\": [[0, \"#8e0152\"], [0.1, \"#c51b7d\"], [0.2, \"#de77ae\"], [0.3, \"#f1b6da\"], [0.4, \"#fde0ef\"], [0.5, \"#f7f7f7\"], [0.6, \"#e6f5d0\"], [0.7, \"#b8e186\"], [0.8, \"#7fbc41\"], [0.9, \"#4d9221\"], [1, \"#276419\"]], \"sequential\": [[0.0, \"#0d0887\"], [0.1111111111111111, \"#46039f\"], [0.2222222222222222, \"#7201a8\"], [0.3333333333333333, \"#9c179e\"], [0.4444444444444444, \"#bd3786\"], [0.5555555555555556, \"#d8576b\"], [0.6666666666666666, \"#ed7953\"], [0.7777777777777778, \"#fb9f3a\"], [0.8888888888888888, \"#fdca26\"], [1.0, \"#f0f921\"]], \"sequentialminus\": [[0.0, \"#0d0887\"], [0.1111111111111111, \"#46039f\"], [0.2222222222222222, \"#7201a8\"], [0.3333333333333333, \"#9c179e\"], [0.4444444444444444, \"#bd3786\"], [0.5555555555555556, \"#d8576b\"], [0.6666666666666666, \"#ed7953\"], [0.7777777777777778, \"#fb9f3a\"], [0.8888888888888888, \"#fdca26\"], [1.0, \"#f0f921\"]]}, \"colorway\": [\"#636efa\", \"#EF553B\", \"#00cc96\", \"#ab63fa\", \"#FFA15A\", \"#19d3f3\", \"#FF6692\", \"#B6E880\", \"#FF97FF\", \"#FECB52\"], \"font\": {\"color\": \"#2a3f5f\"}, \"geo\": {\"bgcolor\": \"white\", \"lakecolor\": \"white\", \"landcolor\": \"#E5ECF6\", \"showlakes\": true, \"showland\": true, \"subunitcolor\": \"white\"}, \"hoverlabel\": {\"align\": \"left\"}, \"hovermode\": \"closest\", \"mapbox\": {\"style\": \"light\"}, \"paper_bgcolor\": \"white\", \"plot_bgcolor\": \"#E5ECF6\", \"polar\": {\"angularaxis\": {\"gridcolor\": \"white\", \"linecolor\": \"white\", \"ticks\": \"\"}, \"bgcolor\": \"#E5ECF6\", \"radialaxis\": {\"gridcolor\": \"white\", \"linecolor\": \"white\", \"ticks\": \"\"}}, \"scene\": {\"xaxis\": {\"backgroundcolor\": \"#E5ECF6\", \"gridcolor\": \"white\", \"gridwidth\": 2, \"linecolor\": \"white\", \"showbackground\": true, \"ticks\": \"\", \"zerolinecolor\": \"white\"}, \"yaxis\": {\"backgroundcolor\": \"#E5ECF6\", \"gridcolor\": \"white\", \"gridwidth\": 2, \"linecolor\": \"white\", \"showbackground\": true, \"ticks\": \"\", \"zerolinecolor\": \"white\"}, \"zaxis\": {\"backgroundcolor\": \"#E5ECF6\", \"gridcolor\": \"white\", \"gridwidth\": 2, \"linecolor\": \"white\", \"showbackground\": true, \"ticks\": \"\", \"zerolinecolor\": \"white\"}}, \"shapedefaults\": {\"line\": {\"color\": \"#2a3f5f\"}}, \"ternary\": {\"aaxis\": {\"gridcolor\": \"white\", \"linecolor\": \"white\", \"ticks\": \"\"}, \"baxis\": {\"gridcolor\": \"white\", \"linecolor\": \"white\", \"ticks\": \"\"}, \"bgcolor\": \"#E5ECF6\", \"caxis\": {\"gridcolor\": \"white\", \"linecolor\": \"white\", \"ticks\": \"\"}}, \"title\": {\"x\": 0.05}, \"xaxis\": {\"automargin\": true, \"gridcolor\": \"white\", \"linecolor\": \"white\", \"ticks\": \"\", \"title\": {\"standoff\": 15}, \"zerolinecolor\": \"white\", \"zerolinewidth\": 2}, \"yaxis\": {\"automargin\": true, \"gridcolor\": \"white\", \"linecolor\": \"white\", \"ticks\": \"\", \"title\": {\"standoff\": 15}, \"zerolinecolor\": \"white\", \"zerolinewidth\": 2}}}, \"xaxis\": {\"anchor\": \"y\", \"autorange\": \"reversed\", \"domain\": [0.0, 1.0], \"title\": {\"text\": \"keep_ratios\"}, \"type\": \"log\"}, \"yaxis\": {\"anchor\": \"x\", \"domain\": [0.0, 1.0], \"title\": {\"text\": \"correlations\"}}},                        {\"responsive\": true}                    ).then(function(){\n",
       "                            \n",
       "var gd = document.getElementById('0d877545-877a-482b-a22b-a28b5ddf7352');\n",
       "var x = new MutationObserver(function (mutations, observer) {{\n",
       "        var display = window.getComputedStyle(gd).display;\n",
       "        if (!display || display === 'none') {{\n",
       "            console.log([gd, 'removed!']);\n",
       "            Plotly.purge(gd);\n",
       "            observer.disconnect();\n",
       "        }}\n",
       "}});\n",
       "\n",
       "// Listen for the removal of the full notebook cells\n",
       "var notebookContainer = gd.closest('#notebook-container');\n",
       "if (notebookContainer) {{\n",
       "    x.observe(notebookContainer, {childList: true});\n",
       "}}\n",
       "\n",
       "// Listen for the clearing of the current output cell\n",
       "var outputEl = gd.closest('.output');\n",
       "if (outputEl) {{\n",
       "    x.observe(outputEl, {childList: true});\n",
       "}}\n",
       "\n",
       "                        })                };                });            </script>        </div>"
      ]
     },
     "metadata": {},
     "output_type": "display_data"
    }
   ],
   "source": [
    "import plotly.express as px\n",
    "\n",
    "fig = px.scatter(df, x=\"keep_ratios\", y=\"correlations\", color=\"feature_name\",\n",
    "                 log_x=True, custom_data=['feature_name','layer','cum_sals','keep_ratios'])\n",
    "# fig.update_traces(\n",
    "#     hovertemplate=\"<br>\".join([\n",
    "#         \"feature_name: %{customdata[0]}\",\n",
    "#         \"layer: %{customdata[1]}\",\n",
    "#         \"cum_sals: %{customdata[2]}\",\n",
    "#         \"keep_ratios: %{customdata[3]}\"\n",
    "#     ])\n",
    "# )\n",
    "fig.update_xaxes(autorange=\"reversed\")\n",
    "\n",
    "fig.show()"
   ]
  },
  {
   "cell_type": "code",
   "execution_count": null,
   "id": "c1403136",
   "metadata": {},
   "outputs": [],
   "source": [
    "fig = px.scatter(df, x=\"keep_ratios\", y=\"correlations\", color=\"layer\", log_x = True)\n",
    "# fig.update_traces(\n",
    "#     hovertemplate=\"<br>\".join([\n",
    "#         \"feature_name: %{customdata[0]}\",\n",
    "#         \"layer: %{customdata[1]}\",\n",
    "#         \"cum_sals: %{customdata[2]}\",\n",
    "#         \"keep_ratios: %{customdata[2]}\"\n",
    "#     ])\n",
    "# )\n",
    "fig.update_xaxes(autorange=\"reversed\")\n",
    "\n",
    "fig.show()"
   ]
  },
  {
   "cell_type": "code",
   "execution_count": null,
   "id": "ef5dad4b",
   "metadata": {},
   "outputs": [],
   "source": [
    "fig = px.scatter(df, x=\"keep_ratios\", y=\"correlations\", color=\"layer\", log_x = True)\n",
    "# fig.update_traces(\n",
    "#     hovertemplate=\"<br>\".join([\n",
    "#         \"feature_name: %{customdata[0]}\",\n",
    "#         \"layer: %{customdata[1]}\",\n",
    "#         \"cum_sals: %{customdata[2]}\",\n",
    "#         \"keep_ratios: %{customdata[2]}\"\n",
    "#     ])\n",
    "# )\n",
    "fig.update_xaxes(autorange=\"reversed\")\n",
    "\n",
    "fig.show()"
   ]
  },
  {
   "cell_type": "code",
   "execution_count": null,
   "id": "b4c07a2d",
   "metadata": {},
   "outputs": [],
   "source": [
    "highend= df.loc[df['cum_sals']>.75]\n",
    "\n",
    "pearsonr(highend['cum_sals'],highend['keep_ratios'])"
   ]
  },
  {
   "cell_type": "code",
   "execution_count": null,
   "id": "32a51053",
   "metadata": {},
   "outputs": [],
   "source": [
    "pearsonr(highend['cum_sals'],highend['correlations'])"
   ]
  },
  {
   "cell_type": "code",
   "execution_count": null,
   "id": "acb57a29",
   "metadata": {},
   "outputs": [],
   "source": [
    "fig = px.scatter(df, x=\"cum_sals\", y=\"keep_ratios\", color=\"layer\",log_y = True)\n",
    "# fig.update_traces(\n",
    "#     hovertemplate=\"<br>\".join([\n",
    "#         \"feature_name: %{customdata[0]}\",\n",
    "#         \"layer: %{customdata[1]}\",\n",
    "#         \"cum_sals: %{customdata[2]}\",\n",
    "#         \"keep_ratios: %{customdata[2]}\"\n",
    "#     ])\n",
    "# )\n",
    "fig.update_xaxes(autorange=\"reversed\")\n",
    "fig.update_yaxes(autorange=\"reversed\")\n",
    "fig.show()"
   ]
  },
  {
   "cell_type": "code",
   "execution_count": null,
   "id": "77c74d77",
   "metadata": {},
   "outputs": [],
   "source": [
    "import plotly.express as px\n",
    "\n",
    "fig = px.scatter(highend, x=\"keep_ratios\", y=\"correlations\", color=\"feature_name\",\n",
    "                 log_x=True, custom_data=['feature_name','layer','cum_sals','keep_ratios'])\n",
    "fig.update_traces(\n",
    "    hovertemplate=\"<br>\".join([\n",
    "        \"feature_name: %{customdata[0]}\",\n",
    "        \"layer: %{customdata[1]}\",\n",
    "        \"cum_sals: %{customdata[2]}\",\n",
    "        \"keep_ratios: %{customdata[3]}\"\n",
    "    ])\n",
    ")\n",
    "fig.update_xaxes(autorange=\"reversed\")\n",
    "\n",
    "fig.show()"
   ]
  },
  {
   "cell_type": "code",
   "execution_count": null,
   "id": "436c75bf",
   "metadata": {},
   "outputs": [],
   "source": [
    "fig = px.scatter(df, x=\"cum_sals\", y=\"correlations\", color=\"feature_name\")\n",
    "# fig.update_traces(\n",
    "#     hovertemplate=\"<br>\".join([\n",
    "#         \"feature_name: %{customdata[0]}\",\n",
    "#         \"layer: %{customdata[1]}\",\n",
    "#         \"cum_sals: %{customdata[2]}\",\n",
    "#         \"keep_ratios: %{customdata[2]}\"\n",
    "#     ])\n",
    "# )\n",
    "fig.update_xaxes(autorange=\"reversed\")\n",
    "\n",
    "fig.show()"
   ]
  },
  {
   "cell_type": "code",
   "execution_count": null,
   "id": "47e19ec2",
   "metadata": {},
   "outputs": [],
   "source": [
    "fig = px.scatter(df, x=\"cum_sals\", y=\"keep_ratios\", color=\"layer\",log_y = True)\n",
    "# fig.update_traces(\n",
    "#     hovertemplate=\"<br>\".join([\n",
    "#         \"feature_name: %{customdata[0]}\",\n",
    "#         \"layer: %{customdata[1]}\",\n",
    "#         \"cum_sals: %{customdata[2]}\",\n",
    "#         \"keep_ratios: %{customdata[2]}\"\n",
    "#     ])\n",
    "# )\n",
    "fig.update_xaxes(autorange=\"reversed\")\n",
    "fig.update_yaxes(autorange=\"reversed\")\n",
    "fig.show()"
   ]
  },
  {
   "cell_type": "code",
   "execution_count": null,
   "id": "4d2d2ac1",
   "metadata": {},
   "outputs": [],
   "source": [
    "pearsonr(df['keep_ratios'],df['correlations'])"
   ]
  },
  {
   "cell_type": "code",
   "execution_count": null,
   "id": "f8fde95e",
   "metadata": {},
   "outputs": [],
   "source": [
    "log_ratios = df['keep_ratios'].replace(np.inf, 10e10).replace(-np.inf, -10e10)"
   ]
  },
  {
   "cell_type": "code",
   "execution_count": null,
   "id": "a73df411",
   "metadata": {},
   "outputs": [],
   "source": [
    "pearsonr(log_ratios,df['correlations'])"
   ]
  },
  {
   "cell_type": "code",
   "execution_count": null,
   "id": "51a728a2",
   "metadata": {},
   "outputs": [],
   "source": [
    "pearsonr(df['cum_sals'],df['correlations'])"
   ]
  },
  {
   "cell_type": "code",
   "execution_count": null,
   "id": "0669295e",
   "metadata": {},
   "outputs": [],
   "source": [
    "np.log(df['keep_ratios'])"
   ]
  },
  {
   "cell_type": "code",
   "execution_count": null,
   "id": "4eb3552f",
   "metadata": {},
   "outputs": [],
   "source": [
    "acts = torch.load('./circuit_ranks/alexnet_sparse/imagenet_2/actxgrad/alexnet_sparse_features_6:11_1636834866.3155613.pt')"
   ]
  },
  {
   "cell_type": "code",
   "execution_count": null,
   "id": "6e182f9f",
   "metadata": {},
   "outputs": [],
   "source": [
    "df = load_acc_df_from_folder('cum_salience_accuracies/alexnet/imagenet_2/snip/')"
   ]
  },
  {
   "cell_type": "markdown",
   "id": "65468fb3",
   "metadata": {},
   "source": [
    "### average plots"
   ]
  },
  {
   "cell_type": "code",
   "execution_count": 14,
   "id": "2dc163dd",
   "metadata": {},
   "outputs": [
    {
     "name": "stdout",
     "output_type": "stream",
     "text": [
      "6\n",
      "11\n",
      "57\n",
      "59\n",
      "67\n",
      "88\n",
      "112\n",
      "132\n",
      "0\n",
      "30\n",
      "105\n",
      "115\n",
      "143\n",
      "147\n",
      "156\n",
      "158\n",
      "532\n"
     ]
    },
    {
     "data": {
      "application/vnd.plotly.v1+json": {
       "config": {
        "plotlyServerURL": "https://plot.ly"
       },
       "data": [
        {
         "line": {
          "color": "rgb(45, 55, 196)"
         },
         "mode": "lines",
         "name": "actxgrad",
         "type": "scatter",
         "x": [
          0.001137500000000001,
          0.005312500000000003,
          0.01437500000000001,
          0.05687499999999993,
          0.11749999999999987,
          0.26499999999999985
         ],
         "y": [
          0.04180093399468056,
          0.09823838663459143,
          0.16824894967161688,
          0.37153302950114636,
          0.5311211312718481,
          0.7627265685433786
         ]
        },
        {
         "line": {
          "width": 0
         },
         "marker": {
          "color": "#444"
         },
         "mode": "lines",
         "name": "Upper Bound actxgrad",
         "showlegend": false,
         "type": "scatter",
         "x": [
          0.001137500000000001,
          0.005312500000000003,
          0.01437500000000001,
          0.05687499999999993,
          0.11749999999999987,
          0.26499999999999985
         ],
         "y": [
          0.19484586808929794,
          0.23405203364187138,
          0.3509464847724643,
          0.629141957758641,
          0.7400401245533731,
          0.8924323099273977
         ]
        },
        {
         "fill": "tonexty",
         "fillcolor": "rgba(45, 55, 196, 0.3)",
         "line": {
          "width": 0
         },
         "marker": {
          "color": "#444"
         },
         "mode": "lines",
         "name": "Lower Bound actxgrad",
         "showlegend": false,
         "type": "scatter",
         "x": [
          0.001137500000000001,
          0.005312500000000003,
          0.01437500000000001,
          0.05687499999999993,
          0.11749999999999987,
          0.26499999999999985
         ],
         "y": [
          -0.11124400009993683,
          -0.03757526037268853,
          -0.014448585429230554,
          0.11392410124365171,
          0.32220213799032316,
          0.6330208271593595
         ]
        },
        {
         "line": {
          "color": "rgb(201, 32, 32)"
         },
         "mode": "lines",
         "name": "snip",
         "type": "scatter",
         "x": [
          0.001137500000000001,
          0.005312500000000003,
          0.01437500000000001,
          0.05687499999999993,
          0.11749999999999987,
          0.26499999999999985
         ],
         "y": [
          0.028400413560372588,
          0.08566185120790072,
          0.1422984770754631,
          0.32940988133045035,
          0.4305585590785866,
          0.6545787876908319
         ]
        },
        {
         "line": {
          "width": 0
         },
         "marker": {
          "color": "#444"
         },
         "mode": "lines",
         "name": "Upper Bound snip",
         "showlegend": false,
         "type": "scatter",
         "x": [
          0.001137500000000001,
          0.005312500000000003,
          0.01437500000000001,
          0.05687499999999993,
          0.11749999999999987,
          0.26499999999999985
         ],
         "y": [
          0.17369140861142543,
          0.2430390487735023,
          0.3020017585445727,
          0.5670639067506056,
          0.6600352566991379,
          0.8256989527789014
         ]
        },
        {
         "fill": "tonexty",
         "fillcolor": "rgba(201, 32, 32, 0.3)",
         "line": {
          "width": 0
         },
         "marker": {
          "color": "#444"
         },
         "mode": "lines",
         "name": "Lower Bound snip",
         "showlegend": false,
         "type": "scatter",
         "x": [
          0.001137500000000001,
          0.005312500000000003,
          0.01437500000000001,
          0.05687499999999993,
          0.11749999999999987,
          0.26499999999999985
         ],
         "y": [
          -0.11689058149068024,
          -0.07171534635770087,
          -0.017404804393646528,
          0.09175585591029511,
          0.20108186145803533,
          0.4834586226027624
         ]
        }
       ],
       "layout": {
        "height": 600,
        "legend": {
         "x": 0.99,
         "xanchor": "right",
         "y": 0.99,
         "yanchor": "top"
        },
        "paper_bgcolor": "rgba(0,0,0,0)",
        "plot_bgcolor": "rgba(0,0,0,0)",
        "template": {
         "data": {
          "bar": [
           {
            "error_x": {
             "color": "#2a3f5f"
            },
            "error_y": {
             "color": "#2a3f5f"
            },
            "marker": {
             "line": {
              "color": "#E5ECF6",
              "width": 0.5
             }
            },
            "type": "bar"
           }
          ],
          "barpolar": [
           {
            "marker": {
             "line": {
              "color": "#E5ECF6",
              "width": 0.5
             }
            },
            "type": "barpolar"
           }
          ],
          "carpet": [
           {
            "aaxis": {
             "endlinecolor": "#2a3f5f",
             "gridcolor": "white",
             "linecolor": "white",
             "minorgridcolor": "white",
             "startlinecolor": "#2a3f5f"
            },
            "baxis": {
             "endlinecolor": "#2a3f5f",
             "gridcolor": "white",
             "linecolor": "white",
             "minorgridcolor": "white",
             "startlinecolor": "#2a3f5f"
            },
            "type": "carpet"
           }
          ],
          "choropleth": [
           {
            "colorbar": {
             "outlinewidth": 0,
             "ticks": ""
            },
            "type": "choropleth"
           }
          ],
          "contour": [
           {
            "colorbar": {
             "outlinewidth": 0,
             "ticks": ""
            },
            "colorscale": [
             [
              0,
              "#0d0887"
             ],
             [
              0.1111111111111111,
              "#46039f"
             ],
             [
              0.2222222222222222,
              "#7201a8"
             ],
             [
              0.3333333333333333,
              "#9c179e"
             ],
             [
              0.4444444444444444,
              "#bd3786"
             ],
             [
              0.5555555555555556,
              "#d8576b"
             ],
             [
              0.6666666666666666,
              "#ed7953"
             ],
             [
              0.7777777777777778,
              "#fb9f3a"
             ],
             [
              0.8888888888888888,
              "#fdca26"
             ],
             [
              1,
              "#f0f921"
             ]
            ],
            "type": "contour"
           }
          ],
          "contourcarpet": [
           {
            "colorbar": {
             "outlinewidth": 0,
             "ticks": ""
            },
            "type": "contourcarpet"
           }
          ],
          "heatmap": [
           {
            "colorbar": {
             "outlinewidth": 0,
             "ticks": ""
            },
            "colorscale": [
             [
              0,
              "#0d0887"
             ],
             [
              0.1111111111111111,
              "#46039f"
             ],
             [
              0.2222222222222222,
              "#7201a8"
             ],
             [
              0.3333333333333333,
              "#9c179e"
             ],
             [
              0.4444444444444444,
              "#bd3786"
             ],
             [
              0.5555555555555556,
              "#d8576b"
             ],
             [
              0.6666666666666666,
              "#ed7953"
             ],
             [
              0.7777777777777778,
              "#fb9f3a"
             ],
             [
              0.8888888888888888,
              "#fdca26"
             ],
             [
              1,
              "#f0f921"
             ]
            ],
            "type": "heatmap"
           }
          ],
          "heatmapgl": [
           {
            "colorbar": {
             "outlinewidth": 0,
             "ticks": ""
            },
            "colorscale": [
             [
              0,
              "#0d0887"
             ],
             [
              0.1111111111111111,
              "#46039f"
             ],
             [
              0.2222222222222222,
              "#7201a8"
             ],
             [
              0.3333333333333333,
              "#9c179e"
             ],
             [
              0.4444444444444444,
              "#bd3786"
             ],
             [
              0.5555555555555556,
              "#d8576b"
             ],
             [
              0.6666666666666666,
              "#ed7953"
             ],
             [
              0.7777777777777778,
              "#fb9f3a"
             ],
             [
              0.8888888888888888,
              "#fdca26"
             ],
             [
              1,
              "#f0f921"
             ]
            ],
            "type": "heatmapgl"
           }
          ],
          "histogram": [
           {
            "marker": {
             "colorbar": {
              "outlinewidth": 0,
              "ticks": ""
             }
            },
            "type": "histogram"
           }
          ],
          "histogram2d": [
           {
            "colorbar": {
             "outlinewidth": 0,
             "ticks": ""
            },
            "colorscale": [
             [
              0,
              "#0d0887"
             ],
             [
              0.1111111111111111,
              "#46039f"
             ],
             [
              0.2222222222222222,
              "#7201a8"
             ],
             [
              0.3333333333333333,
              "#9c179e"
             ],
             [
              0.4444444444444444,
              "#bd3786"
             ],
             [
              0.5555555555555556,
              "#d8576b"
             ],
             [
              0.6666666666666666,
              "#ed7953"
             ],
             [
              0.7777777777777778,
              "#fb9f3a"
             ],
             [
              0.8888888888888888,
              "#fdca26"
             ],
             [
              1,
              "#f0f921"
             ]
            ],
            "type": "histogram2d"
           }
          ],
          "histogram2dcontour": [
           {
            "colorbar": {
             "outlinewidth": 0,
             "ticks": ""
            },
            "colorscale": [
             [
              0,
              "#0d0887"
             ],
             [
              0.1111111111111111,
              "#46039f"
             ],
             [
              0.2222222222222222,
              "#7201a8"
             ],
             [
              0.3333333333333333,
              "#9c179e"
             ],
             [
              0.4444444444444444,
              "#bd3786"
             ],
             [
              0.5555555555555556,
              "#d8576b"
             ],
             [
              0.6666666666666666,
              "#ed7953"
             ],
             [
              0.7777777777777778,
              "#fb9f3a"
             ],
             [
              0.8888888888888888,
              "#fdca26"
             ],
             [
              1,
              "#f0f921"
             ]
            ],
            "type": "histogram2dcontour"
           }
          ],
          "mesh3d": [
           {
            "colorbar": {
             "outlinewidth": 0,
             "ticks": ""
            },
            "type": "mesh3d"
           }
          ],
          "parcoords": [
           {
            "line": {
             "colorbar": {
              "outlinewidth": 0,
              "ticks": ""
             }
            },
            "type": "parcoords"
           }
          ],
          "pie": [
           {
            "automargin": true,
            "type": "pie"
           }
          ],
          "scatter": [
           {
            "marker": {
             "colorbar": {
              "outlinewidth": 0,
              "ticks": ""
             }
            },
            "type": "scatter"
           }
          ],
          "scatter3d": [
           {
            "line": {
             "colorbar": {
              "outlinewidth": 0,
              "ticks": ""
             }
            },
            "marker": {
             "colorbar": {
              "outlinewidth": 0,
              "ticks": ""
             }
            },
            "type": "scatter3d"
           }
          ],
          "scattercarpet": [
           {
            "marker": {
             "colorbar": {
              "outlinewidth": 0,
              "ticks": ""
             }
            },
            "type": "scattercarpet"
           }
          ],
          "scattergeo": [
           {
            "marker": {
             "colorbar": {
              "outlinewidth": 0,
              "ticks": ""
             }
            },
            "type": "scattergeo"
           }
          ],
          "scattergl": [
           {
            "marker": {
             "colorbar": {
              "outlinewidth": 0,
              "ticks": ""
             }
            },
            "type": "scattergl"
           }
          ],
          "scattermapbox": [
           {
            "marker": {
             "colorbar": {
              "outlinewidth": 0,
              "ticks": ""
             }
            },
            "type": "scattermapbox"
           }
          ],
          "scatterpolar": [
           {
            "marker": {
             "colorbar": {
              "outlinewidth": 0,
              "ticks": ""
             }
            },
            "type": "scatterpolar"
           }
          ],
          "scatterpolargl": [
           {
            "marker": {
             "colorbar": {
              "outlinewidth": 0,
              "ticks": ""
             }
            },
            "type": "scatterpolargl"
           }
          ],
          "scatterternary": [
           {
            "marker": {
             "colorbar": {
              "outlinewidth": 0,
              "ticks": ""
             }
            },
            "type": "scatterternary"
           }
          ],
          "surface": [
           {
            "colorbar": {
             "outlinewidth": 0,
             "ticks": ""
            },
            "colorscale": [
             [
              0,
              "#0d0887"
             ],
             [
              0.1111111111111111,
              "#46039f"
             ],
             [
              0.2222222222222222,
              "#7201a8"
             ],
             [
              0.3333333333333333,
              "#9c179e"
             ],
             [
              0.4444444444444444,
              "#bd3786"
             ],
             [
              0.5555555555555556,
              "#d8576b"
             ],
             [
              0.6666666666666666,
              "#ed7953"
             ],
             [
              0.7777777777777778,
              "#fb9f3a"
             ],
             [
              0.8888888888888888,
              "#fdca26"
             ],
             [
              1,
              "#f0f921"
             ]
            ],
            "type": "surface"
           }
          ],
          "table": [
           {
            "cells": {
             "fill": {
              "color": "#EBF0F8"
             },
             "line": {
              "color": "white"
             }
            },
            "header": {
             "fill": {
              "color": "#C8D4E3"
             },
             "line": {
              "color": "white"
             }
            },
            "type": "table"
           }
          ]
         },
         "layout": {
          "annotationdefaults": {
           "arrowcolor": "#2a3f5f",
           "arrowhead": 0,
           "arrowwidth": 1
          },
          "autotypenumbers": "strict",
          "coloraxis": {
           "colorbar": {
            "outlinewidth": 0,
            "ticks": ""
           }
          },
          "colorscale": {
           "diverging": [
            [
             0,
             "#8e0152"
            ],
            [
             0.1,
             "#c51b7d"
            ],
            [
             0.2,
             "#de77ae"
            ],
            [
             0.3,
             "#f1b6da"
            ],
            [
             0.4,
             "#fde0ef"
            ],
            [
             0.5,
             "#f7f7f7"
            ],
            [
             0.6,
             "#e6f5d0"
            ],
            [
             0.7,
             "#b8e186"
            ],
            [
             0.8,
             "#7fbc41"
            ],
            [
             0.9,
             "#4d9221"
            ],
            [
             1,
             "#276419"
            ]
           ],
           "sequential": [
            [
             0,
             "#0d0887"
            ],
            [
             0.1111111111111111,
             "#46039f"
            ],
            [
             0.2222222222222222,
             "#7201a8"
            ],
            [
             0.3333333333333333,
             "#9c179e"
            ],
            [
             0.4444444444444444,
             "#bd3786"
            ],
            [
             0.5555555555555556,
             "#d8576b"
            ],
            [
             0.6666666666666666,
             "#ed7953"
            ],
            [
             0.7777777777777778,
             "#fb9f3a"
            ],
            [
             0.8888888888888888,
             "#fdca26"
            ],
            [
             1,
             "#f0f921"
            ]
           ],
           "sequentialminus": [
            [
             0,
             "#0d0887"
            ],
            [
             0.1111111111111111,
             "#46039f"
            ],
            [
             0.2222222222222222,
             "#7201a8"
            ],
            [
             0.3333333333333333,
             "#9c179e"
            ],
            [
             0.4444444444444444,
             "#bd3786"
            ],
            [
             0.5555555555555556,
             "#d8576b"
            ],
            [
             0.6666666666666666,
             "#ed7953"
            ],
            [
             0.7777777777777778,
             "#fb9f3a"
            ],
            [
             0.8888888888888888,
             "#fdca26"
            ],
            [
             1,
             "#f0f921"
            ]
           ]
          },
          "colorway": [
           "#636efa",
           "#EF553B",
           "#00cc96",
           "#ab63fa",
           "#FFA15A",
           "#19d3f3",
           "#FF6692",
           "#B6E880",
           "#FF97FF",
           "#FECB52"
          ],
          "font": {
           "color": "#2a3f5f"
          },
          "geo": {
           "bgcolor": "white",
           "lakecolor": "white",
           "landcolor": "#E5ECF6",
           "showlakes": true,
           "showland": true,
           "subunitcolor": "white"
          },
          "hoverlabel": {
           "align": "left"
          },
          "hovermode": "closest",
          "mapbox": {
           "style": "light"
          },
          "paper_bgcolor": "white",
          "plot_bgcolor": "#E5ECF6",
          "polar": {
           "angularaxis": {
            "gridcolor": "white",
            "linecolor": "white",
            "ticks": ""
           },
           "bgcolor": "#E5ECF6",
           "radialaxis": {
            "gridcolor": "white",
            "linecolor": "white",
            "ticks": ""
           }
          },
          "scene": {
           "xaxis": {
            "backgroundcolor": "#E5ECF6",
            "gridcolor": "white",
            "gridwidth": 2,
            "linecolor": "white",
            "showbackground": true,
            "ticks": "",
            "zerolinecolor": "white"
           },
           "yaxis": {
            "backgroundcolor": "#E5ECF6",
            "gridcolor": "white",
            "gridwidth": 2,
            "linecolor": "white",
            "showbackground": true,
            "ticks": "",
            "zerolinecolor": "white"
           },
           "zaxis": {
            "backgroundcolor": "#E5ECF6",
            "gridcolor": "white",
            "gridwidth": 2,
            "linecolor": "white",
            "showbackground": true,
            "ticks": "",
            "zerolinecolor": "white"
           }
          },
          "shapedefaults": {
           "line": {
            "color": "#2a3f5f"
           }
          },
          "ternary": {
           "aaxis": {
            "gridcolor": "white",
            "linecolor": "white",
            "ticks": ""
           },
           "baxis": {
            "gridcolor": "white",
            "linecolor": "white",
            "ticks": ""
           },
           "bgcolor": "#E5ECF6",
           "caxis": {
            "gridcolor": "white",
            "linecolor": "white",
            "ticks": ""
           }
          },
          "title": {
           "x": 0.05
          },
          "xaxis": {
           "automargin": true,
           "gridcolor": "white",
           "linecolor": "white",
           "ticks": "",
           "title": {
            "standoff": 15
           },
           "zerolinecolor": "white",
           "zerolinewidth": 2
          },
          "yaxis": {
           "automargin": true,
           "gridcolor": "white",
           "linecolor": "white",
           "ticks": "",
           "title": {
            "standoff": 15
           },
           "zerolinecolor": "white",
           "zerolinewidth": 2
          }
         }
        },
        "width": 900,
        "xaxis": {
         "autorange": "reversed",
         "title": {
          "text": "Size Ratio (log scale)"
         },
         "type": "log"
        },
        "yaxis": {
         "range": [
          -0.3,
          1
         ],
         "title": {
          "text": "Pearson R of Activations"
         }
        }
       }
      },
      "text/html": [
       "<div>                            <div id=\"afea838a-5433-4c14-8f18-c351146a5787\" class=\"plotly-graph-div\" style=\"height:600px; width:900px;\"></div>            <script type=\"text/javascript\">                require([\"plotly\"], function(Plotly) {                    window.PLOTLYENV=window.PLOTLYENV || {};                                    if (document.getElementById(\"afea838a-5433-4c14-8f18-c351146a5787\")) {                    Plotly.newPlot(                        \"afea838a-5433-4c14-8f18-c351146a5787\",                        [{\"line\": {\"color\": \"rgb(45, 55, 196)\"}, \"mode\": \"lines\", \"name\": \"actxgrad\", \"type\": \"scatter\", \"x\": [0.001137500000000001, 0.005312500000000003, 0.01437500000000001, 0.05687499999999993, 0.11749999999999987, 0.26499999999999985], \"y\": [0.04180093399468056, 0.09823838663459143, 0.16824894967161688, 0.37153302950114636, 0.5311211312718481, 0.7627265685433786]}, {\"line\": {\"width\": 0}, \"marker\": {\"color\": \"#444\"}, \"mode\": \"lines\", \"name\": \"Upper Bound actxgrad\", \"showlegend\": false, \"type\": \"scatter\", \"x\": [0.001137500000000001, 0.005312500000000003, 0.01437500000000001, 0.05687499999999993, 0.11749999999999987, 0.26499999999999985], \"y\": [0.19484586808929794, 0.23405203364187138, 0.3509464847724643, 0.629141957758641, 0.7400401245533731, 0.8924323099273977]}, {\"fill\": \"tonexty\", \"fillcolor\": \"rgba(45, 55, 196, 0.3)\", \"line\": {\"width\": 0}, \"marker\": {\"color\": \"#444\"}, \"mode\": \"lines\", \"name\": \"Lower Bound actxgrad\", \"showlegend\": false, \"type\": \"scatter\", \"x\": [0.001137500000000001, 0.005312500000000003, 0.01437500000000001, 0.05687499999999993, 0.11749999999999987, 0.26499999999999985], \"y\": [-0.11124400009993683, -0.03757526037268853, -0.014448585429230554, 0.11392410124365171, 0.32220213799032316, 0.6330208271593595]}, {\"line\": {\"color\": \"rgb(201, 32, 32)\"}, \"mode\": \"lines\", \"name\": \"snip\", \"type\": \"scatter\", \"x\": [0.001137500000000001, 0.005312500000000003, 0.01437500000000001, 0.05687499999999993, 0.11749999999999987, 0.26499999999999985], \"y\": [0.028400413560372588, 0.08566185120790072, 0.1422984770754631, 0.32940988133045035, 0.4305585590785866, 0.6545787876908319]}, {\"line\": {\"width\": 0}, \"marker\": {\"color\": \"#444\"}, \"mode\": \"lines\", \"name\": \"Upper Bound snip\", \"showlegend\": false, \"type\": \"scatter\", \"x\": [0.001137500000000001, 0.005312500000000003, 0.01437500000000001, 0.05687499999999993, 0.11749999999999987, 0.26499999999999985], \"y\": [0.17369140861142543, 0.2430390487735023, 0.3020017585445727, 0.5670639067506056, 0.6600352566991379, 0.8256989527789014]}, {\"fill\": \"tonexty\", \"fillcolor\": \"rgba(201, 32, 32, 0.3)\", \"line\": {\"width\": 0}, \"marker\": {\"color\": \"#444\"}, \"mode\": \"lines\", \"name\": \"Lower Bound snip\", \"showlegend\": false, \"type\": \"scatter\", \"x\": [0.001137500000000001, 0.005312500000000003, 0.01437500000000001, 0.05687499999999993, 0.11749999999999987, 0.26499999999999985], \"y\": [-0.11689058149068024, -0.07171534635770087, -0.017404804393646528, 0.09175585591029511, 0.20108186145803533, 0.4834586226027624]}],                        {\"height\": 600, \"legend\": {\"x\": 0.99, \"xanchor\": \"right\", \"y\": 0.99, \"yanchor\": \"top\"}, \"paper_bgcolor\": \"rgba(0,0,0,0)\", \"plot_bgcolor\": \"rgba(0,0,0,0)\", \"template\": {\"data\": {\"bar\": [{\"error_x\": {\"color\": \"#2a3f5f\"}, \"error_y\": {\"color\": \"#2a3f5f\"}, \"marker\": {\"line\": {\"color\": \"#E5ECF6\", \"width\": 0.5}}, \"type\": \"bar\"}], \"barpolar\": [{\"marker\": {\"line\": {\"color\": \"#E5ECF6\", \"width\": 0.5}}, \"type\": \"barpolar\"}], \"carpet\": [{\"aaxis\": {\"endlinecolor\": \"#2a3f5f\", \"gridcolor\": \"white\", \"linecolor\": \"white\", \"minorgridcolor\": \"white\", \"startlinecolor\": \"#2a3f5f\"}, \"baxis\": {\"endlinecolor\": \"#2a3f5f\", \"gridcolor\": \"white\", \"linecolor\": \"white\", \"minorgridcolor\": \"white\", \"startlinecolor\": \"#2a3f5f\"}, \"type\": \"carpet\"}], \"choropleth\": [{\"colorbar\": {\"outlinewidth\": 0, \"ticks\": \"\"}, \"type\": \"choropleth\"}], \"contour\": [{\"colorbar\": {\"outlinewidth\": 0, \"ticks\": \"\"}, \"colorscale\": [[0.0, \"#0d0887\"], [0.1111111111111111, \"#46039f\"], [0.2222222222222222, \"#7201a8\"], [0.3333333333333333, \"#9c179e\"], [0.4444444444444444, \"#bd3786\"], [0.5555555555555556, \"#d8576b\"], [0.6666666666666666, \"#ed7953\"], [0.7777777777777778, \"#fb9f3a\"], [0.8888888888888888, \"#fdca26\"], [1.0, \"#f0f921\"]], \"type\": \"contour\"}], \"contourcarpet\": [{\"colorbar\": {\"outlinewidth\": 0, \"ticks\": \"\"}, \"type\": \"contourcarpet\"}], \"heatmap\": [{\"colorbar\": {\"outlinewidth\": 0, \"ticks\": \"\"}, \"colorscale\": [[0.0, \"#0d0887\"], [0.1111111111111111, \"#46039f\"], [0.2222222222222222, \"#7201a8\"], [0.3333333333333333, \"#9c179e\"], [0.4444444444444444, \"#bd3786\"], [0.5555555555555556, \"#d8576b\"], [0.6666666666666666, \"#ed7953\"], [0.7777777777777778, \"#fb9f3a\"], [0.8888888888888888, \"#fdca26\"], [1.0, \"#f0f921\"]], \"type\": \"heatmap\"}], \"heatmapgl\": [{\"colorbar\": {\"outlinewidth\": 0, \"ticks\": \"\"}, \"colorscale\": [[0.0, \"#0d0887\"], [0.1111111111111111, \"#46039f\"], [0.2222222222222222, \"#7201a8\"], [0.3333333333333333, \"#9c179e\"], [0.4444444444444444, \"#bd3786\"], [0.5555555555555556, \"#d8576b\"], [0.6666666666666666, \"#ed7953\"], [0.7777777777777778, \"#fb9f3a\"], [0.8888888888888888, \"#fdca26\"], [1.0, \"#f0f921\"]], \"type\": \"heatmapgl\"}], \"histogram\": [{\"marker\": {\"colorbar\": {\"outlinewidth\": 0, \"ticks\": \"\"}}, \"type\": \"histogram\"}], \"histogram2d\": [{\"colorbar\": {\"outlinewidth\": 0, \"ticks\": \"\"}, \"colorscale\": [[0.0, \"#0d0887\"], [0.1111111111111111, \"#46039f\"], [0.2222222222222222, \"#7201a8\"], [0.3333333333333333, \"#9c179e\"], [0.4444444444444444, \"#bd3786\"], [0.5555555555555556, \"#d8576b\"], [0.6666666666666666, \"#ed7953\"], [0.7777777777777778, \"#fb9f3a\"], [0.8888888888888888, \"#fdca26\"], [1.0, \"#f0f921\"]], \"type\": \"histogram2d\"}], \"histogram2dcontour\": [{\"colorbar\": {\"outlinewidth\": 0, \"ticks\": \"\"}, \"colorscale\": [[0.0, \"#0d0887\"], [0.1111111111111111, \"#46039f\"], [0.2222222222222222, \"#7201a8\"], [0.3333333333333333, \"#9c179e\"], [0.4444444444444444, \"#bd3786\"], [0.5555555555555556, \"#d8576b\"], [0.6666666666666666, \"#ed7953\"], [0.7777777777777778, \"#fb9f3a\"], [0.8888888888888888, \"#fdca26\"], [1.0, \"#f0f921\"]], \"type\": \"histogram2dcontour\"}], \"mesh3d\": [{\"colorbar\": {\"outlinewidth\": 0, \"ticks\": \"\"}, \"type\": \"mesh3d\"}], \"parcoords\": [{\"line\": {\"colorbar\": {\"outlinewidth\": 0, \"ticks\": \"\"}}, \"type\": \"parcoords\"}], \"pie\": [{\"automargin\": true, \"type\": \"pie\"}], \"scatter\": [{\"marker\": {\"colorbar\": {\"outlinewidth\": 0, \"ticks\": \"\"}}, \"type\": \"scatter\"}], \"scatter3d\": [{\"line\": {\"colorbar\": {\"outlinewidth\": 0, \"ticks\": \"\"}}, \"marker\": {\"colorbar\": {\"outlinewidth\": 0, \"ticks\": \"\"}}, \"type\": \"scatter3d\"}], \"scattercarpet\": [{\"marker\": {\"colorbar\": {\"outlinewidth\": 0, \"ticks\": \"\"}}, \"type\": \"scattercarpet\"}], \"scattergeo\": [{\"marker\": {\"colorbar\": {\"outlinewidth\": 0, \"ticks\": \"\"}}, \"type\": \"scattergeo\"}], \"scattergl\": [{\"marker\": {\"colorbar\": {\"outlinewidth\": 0, \"ticks\": \"\"}}, \"type\": \"scattergl\"}], \"scattermapbox\": [{\"marker\": {\"colorbar\": {\"outlinewidth\": 0, \"ticks\": \"\"}}, \"type\": \"scattermapbox\"}], \"scatterpolar\": [{\"marker\": {\"colorbar\": {\"outlinewidth\": 0, \"ticks\": \"\"}}, \"type\": \"scatterpolar\"}], \"scatterpolargl\": [{\"marker\": {\"colorbar\": {\"outlinewidth\": 0, \"ticks\": \"\"}}, \"type\": \"scatterpolargl\"}], \"scatterternary\": [{\"marker\": {\"colorbar\": {\"outlinewidth\": 0, \"ticks\": \"\"}}, \"type\": \"scatterternary\"}], \"surface\": [{\"colorbar\": {\"outlinewidth\": 0, \"ticks\": \"\"}, \"colorscale\": [[0.0, \"#0d0887\"], [0.1111111111111111, \"#46039f\"], [0.2222222222222222, \"#7201a8\"], [0.3333333333333333, \"#9c179e\"], [0.4444444444444444, \"#bd3786\"], [0.5555555555555556, \"#d8576b\"], [0.6666666666666666, \"#ed7953\"], [0.7777777777777778, \"#fb9f3a\"], [0.8888888888888888, \"#fdca26\"], [1.0, \"#f0f921\"]], \"type\": \"surface\"}], \"table\": [{\"cells\": {\"fill\": {\"color\": \"#EBF0F8\"}, \"line\": {\"color\": \"white\"}}, \"header\": {\"fill\": {\"color\": \"#C8D4E3\"}, \"line\": {\"color\": \"white\"}}, \"type\": \"table\"}]}, \"layout\": {\"annotationdefaults\": {\"arrowcolor\": \"#2a3f5f\", \"arrowhead\": 0, \"arrowwidth\": 1}, \"autotypenumbers\": \"strict\", \"coloraxis\": {\"colorbar\": {\"outlinewidth\": 0, \"ticks\": \"\"}}, \"colorscale\": {\"diverging\": [[0, \"#8e0152\"], [0.1, \"#c51b7d\"], [0.2, \"#de77ae\"], [0.3, \"#f1b6da\"], [0.4, \"#fde0ef\"], [0.5, \"#f7f7f7\"], [0.6, \"#e6f5d0\"], [0.7, \"#b8e186\"], [0.8, \"#7fbc41\"], [0.9, \"#4d9221\"], [1, \"#276419\"]], \"sequential\": [[0.0, \"#0d0887\"], [0.1111111111111111, \"#46039f\"], [0.2222222222222222, \"#7201a8\"], [0.3333333333333333, \"#9c179e\"], [0.4444444444444444, \"#bd3786\"], [0.5555555555555556, \"#d8576b\"], [0.6666666666666666, \"#ed7953\"], [0.7777777777777778, \"#fb9f3a\"], [0.8888888888888888, \"#fdca26\"], [1.0, \"#f0f921\"]], \"sequentialminus\": [[0.0, \"#0d0887\"], [0.1111111111111111, \"#46039f\"], [0.2222222222222222, \"#7201a8\"], [0.3333333333333333, \"#9c179e\"], [0.4444444444444444, \"#bd3786\"], [0.5555555555555556, \"#d8576b\"], [0.6666666666666666, \"#ed7953\"], [0.7777777777777778, \"#fb9f3a\"], [0.8888888888888888, \"#fdca26\"], [1.0, \"#f0f921\"]]}, \"colorway\": [\"#636efa\", \"#EF553B\", \"#00cc96\", \"#ab63fa\", \"#FFA15A\", \"#19d3f3\", \"#FF6692\", \"#B6E880\", \"#FF97FF\", \"#FECB52\"], \"font\": {\"color\": \"#2a3f5f\"}, \"geo\": {\"bgcolor\": \"white\", \"lakecolor\": \"white\", \"landcolor\": \"#E5ECF6\", \"showlakes\": true, \"showland\": true, \"subunitcolor\": \"white\"}, \"hoverlabel\": {\"align\": \"left\"}, \"hovermode\": \"closest\", \"mapbox\": {\"style\": \"light\"}, \"paper_bgcolor\": \"white\", \"plot_bgcolor\": \"#E5ECF6\", \"polar\": {\"angularaxis\": {\"gridcolor\": \"white\", \"linecolor\": \"white\", \"ticks\": \"\"}, \"bgcolor\": \"#E5ECF6\", \"radialaxis\": {\"gridcolor\": \"white\", \"linecolor\": \"white\", \"ticks\": \"\"}}, \"scene\": {\"xaxis\": {\"backgroundcolor\": \"#E5ECF6\", \"gridcolor\": \"white\", \"gridwidth\": 2, \"linecolor\": \"white\", \"showbackground\": true, \"ticks\": \"\", \"zerolinecolor\": \"white\"}, \"yaxis\": {\"backgroundcolor\": \"#E5ECF6\", \"gridcolor\": \"white\", \"gridwidth\": 2, \"linecolor\": \"white\", \"showbackground\": true, \"ticks\": \"\", \"zerolinecolor\": \"white\"}, \"zaxis\": {\"backgroundcolor\": \"#E5ECF6\", \"gridcolor\": \"white\", \"gridwidth\": 2, \"linecolor\": \"white\", \"showbackground\": true, \"ticks\": \"\", \"zerolinecolor\": \"white\"}}, \"shapedefaults\": {\"line\": {\"color\": \"#2a3f5f\"}}, \"ternary\": {\"aaxis\": {\"gridcolor\": \"white\", \"linecolor\": \"white\", \"ticks\": \"\"}, \"baxis\": {\"gridcolor\": \"white\", \"linecolor\": \"white\", \"ticks\": \"\"}, \"bgcolor\": \"#E5ECF6\", \"caxis\": {\"gridcolor\": \"white\", \"linecolor\": \"white\", \"ticks\": \"\"}}, \"title\": {\"x\": 0.05}, \"xaxis\": {\"automargin\": true, \"gridcolor\": \"white\", \"linecolor\": \"white\", \"ticks\": \"\", \"title\": {\"standoff\": 15}, \"zerolinecolor\": \"white\", \"zerolinewidth\": 2}, \"yaxis\": {\"automargin\": true, \"gridcolor\": \"white\", \"linecolor\": \"white\", \"ticks\": \"\", \"title\": {\"standoff\": 15}, \"zerolinecolor\": \"white\", \"zerolinewidth\": 2}}}, \"width\": 900, \"xaxis\": {\"autorange\": \"reversed\", \"title\": {\"text\": \"Size Ratio (log scale)\"}, \"type\": \"log\"}, \"yaxis\": {\"range\": [-0.3, 1], \"title\": {\"text\": \"Pearson R of Activations\"}}},                        {\"responsive\": true}                    ).then(function(){\n",
       "                            \n",
       "var gd = document.getElementById('afea838a-5433-4c14-8f18-c351146a5787');\n",
       "var x = new MutationObserver(function (mutations, observer) {{\n",
       "        var display = window.getComputedStyle(gd).display;\n",
       "        if (!display || display === 'none') {{\n",
       "            console.log([gd, 'removed!']);\n",
       "            Plotly.purge(gd);\n",
       "            observer.disconnect();\n",
       "        }}\n",
       "}});\n",
       "\n",
       "// Listen for the removal of the full notebook cells\n",
       "var notebookContainer = gd.closest('#notebook-container');\n",
       "if (notebookContainer) {{\n",
       "    x.observe(notebookContainer, {childList: true});\n",
       "}}\n",
       "\n",
       "// Listen for the clearing of the current output cell\n",
       "var outputEl = gd.closest('.output');\n",
       "if (outputEl) {{\n",
       "    x.observe(outputEl, {childList: true});\n",
       "}}\n",
       "\n",
       "                        })                };                });            </script>        </div>"
      ]
     },
     "metadata": {},
     "output_type": "display_data"
    }
   ],
   "source": [
    "###Plotting all data\n",
    "import plotly.graph_objs as go\n",
    "from plotly.graph_objs import *\n",
    "\n",
    "\n",
    "\n",
    "# fig = go.Figure([\n",
    "#     go.Scatter(\n",
    "#         x=x,\n",
    "#         y=y,\n",
    "#         line=dict(color='rgb(0,100,80)'),\n",
    "#         mode='lines'\n",
    "#     ),\n",
    "#     go.Scatter(\n",
    "#         x=x+x[::-1], # x, then x reversed\n",
    "#         y=y_upper+y_lower[::-1], # upper, then lower reversed\n",
    "#         fill='toself',\n",
    "#         fillcolor='rgba(0,100,80,0.2)',\n",
    "#         line=dict(color='rgba(255,255,255,0)'),\n",
    "#         hoverinfo=\"skip\",\n",
    "#         showlegend=False\n",
    "#     )\n",
    "# ])\n",
    "\n",
    "\n",
    "data = {'actxgrad':{},\n",
    "        'snip':{}\n",
    "       }\n",
    "\n",
    "\n",
    "folders = {'actxgrad':'cum_salience_accuracies/alexnet/imagenet_2/actxgrad/',\n",
    "           'snip':'cum_salience_accuracies/alexnet/imagenet_2/snip/'}\n",
    "\n",
    "\n",
    "\n",
    "colors = {'actxgrad':[45, 55, 196],\n",
    "          'snip':[201, 32, 32]}\n",
    "\n",
    "\n",
    "\n",
    "for model in folders:\n",
    "    df = load_acc_df_from_folder(folders[model],keep_ratios = [.5,.2,.1,.05,.01,.005,.001])\n",
    "    data[model]['x'] = list(df['keep_ratios'])\n",
    "    data[model]['y'] = list(df['correlations'])\n",
    "\n",
    "print(len(data[model]['x']))\n",
    "\n",
    "   \n",
    "def bin_data(data_x,data_y,bin_size=20):\n",
    "    xs = []\n",
    "    ys = []\n",
    "    stds = []\n",
    "    zipped_data = zip(data_x, data_y)\n",
    "    sorted_zipped_data = sorted(zipped_data)\n",
    "    bin_i = 1\n",
    "    curr_ys = []\n",
    "    x_sum=0\n",
    "    for d in sorted_zipped_data:\n",
    "        bin_i+=1\n",
    "        curr_ys.append(d[1])\n",
    "        x_sum+=d[0]\n",
    "        if bin_i == bin_size:\n",
    "            xs.append(x_sum/bin_size)\n",
    "            ys.append(np.mean(np.array(curr_ys)))\n",
    "            stds.append(np.std(np.array(curr_ys)))\n",
    "            bin_i = 1\n",
    "            curr_ys = []\n",
    "            x_sum=0\n",
    "    return xs,ys,stds\n",
    "\n",
    "\n",
    "\n",
    "binned_data = {}\n",
    "\n",
    "for folder in folders:\n",
    "    xs,ys,stds = bin_data(data[folder]['x'],data[folder]['y'],bin_size=80)\n",
    "    binned_data[folder] = [xs,ys,stds]\n",
    "\n",
    "\n",
    "    \n",
    "\n",
    "    \n",
    "fig = go.Figure()\n",
    "for model in binned_data:\n",
    "    color = 'rgb(%s, %s, %s)'%(colors[model][0],colors[model][1],colors[model][2])\n",
    "    color_fill = 'rgba(%s, %s, %s, 0.3)'%(colors[model][0],colors[model][1],colors[model][2])\n",
    "    \n",
    "    fig.add_trace(\n",
    "        go.Scatter(\n",
    "        name=model,\n",
    "        x=binned_data[model][0],\n",
    "        y=binned_data[model][1],\n",
    "        mode='lines',\n",
    "        line=dict(color=color),\n",
    "        )                 \n",
    "    )\n",
    "    fig.add_trace(\n",
    "        go.Scatter(\n",
    "        name='Upper Bound %s'%model,\n",
    "        x=binned_data[model][0],\n",
    "        y=np.array(binned_data[model][1])+np.array(binned_data[model][2]),\n",
    "        mode='lines',\n",
    "        marker=dict(color=\"#444\"),\n",
    "        line=dict(width=0),\n",
    "        showlegend=False\n",
    "    )          \n",
    "    )\n",
    "    fig.add_trace(\n",
    "        go.Scatter(\n",
    "        name='Lower Bound %s'%model,\n",
    "        x=binned_data[model][0],\n",
    "        y=np.array(binned_data[model][1])-np.array(binned_data[model][2]),\n",
    "        marker=dict(color=\"#444\"),\n",
    "        line=dict(width=0),\n",
    "        mode='lines',\n",
    "        fillcolor=color_fill,\n",
    "        fill='tonexty',\n",
    "        showlegend=False\n",
    "    )       \n",
    "    )\n",
    "    \n",
    "    \n",
    "# fig = go.Figure([\n",
    "#     go.Scatter(\n",
    "#         name='worst subgraphs',\n",
    "#         x=worst_xs,\n",
    "#         y=worst_ys,\n",
    "#         mode='lines',\n",
    "#         line=dict(color='rgb(201, 32, 32)'),\n",
    "#     ),\n",
    "#     go.Scatter(\n",
    "#         name='Upper Bound worst',\n",
    "#         x=xs,\n",
    "#         y=np.array(worst_ys)+np.array(worst_stds),\n",
    "#         mode='lines',\n",
    "#         marker=dict(color=\"#444\"),\n",
    "#         line=dict(width=0),\n",
    "#         showlegend=False\n",
    "#     ),\n",
    "#     go.Scatter(\n",
    "#         name='Lower Bound worst',\n",
    "#         x=xs,\n",
    "#         y=np.array(worst_ys)-np.array(worst_stds),\n",
    "#         marker=dict(color=\"#444\"),\n",
    "#         line=dict(width=0),\n",
    "#         mode='lines',\n",
    "#         fillcolor='rgba(201, 32, 32, 0.3)',\n",
    "#         fill='tonexty',\n",
    "#         showlegend=False\n",
    "#     ),\n",
    "#     go.Scatter(\n",
    "#         name='random subgraphs',\n",
    "#         x=random_xs,\n",
    "#         y=random_ys,\n",
    "#         mode='lines',\n",
    "#         line=dict(color='rgb(45, 55, 196)'),\n",
    "#     ),\n",
    "#     go.Scatter(\n",
    "#         name='Upper Bound random',\n",
    "#         x=xs,\n",
    "#         y=np.array(random_ys)+np.array(random_stds),\n",
    "#         mode='lines',\n",
    "#         marker=dict(color=\"#444\"),\n",
    "#         line=dict(width=0),\n",
    "#         showlegend=False\n",
    "#     ),\n",
    "#     go.Scatter(\n",
    "#         name='Lower Bound random',\n",
    "#         x=xs,\n",
    "#         y=np.array(random_ys)-np.array(random_stds),\n",
    "#         marker=dict(color=\"#444\"),\n",
    "#         line=dict(width=0),\n",
    "#         mode='lines',\n",
    "#         fillcolor='rgba(45, 55, 196, 0.3)',\n",
    "#         fill='tonexty',\n",
    "#         showlegend=False\n",
    "#     ),\n",
    "\n",
    "#     go.Scatter(\n",
    "#         name='best subgraphs',\n",
    "#         x=best_xs,\n",
    "#         y=best_ys,\n",
    "#         mode='lines',\n",
    "#         line=dict(color='rgb(50, 173, 61)'),\n",
    "#     ),\n",
    "#     go.Scatter(\n",
    "#         name='Upper Bound best',\n",
    "#         x=best_xs,\n",
    "#         y=np.array(best_ys)+np.array(best_stds),\n",
    "#         mode='lines',\n",
    "#         marker=dict(color=\"#444\"),\n",
    "#         line=dict(width=0),\n",
    "#         showlegend=False\n",
    "#     ),\n",
    "#     go.Scatter(\n",
    "#         name='Lower Bound best',\n",
    "#         x=best_xs,\n",
    "#         y=np.array(best_ys)-np.array(best_stds),\n",
    "#         marker=dict(color=\"#444\"),\n",
    "#         line=dict(width=0),\n",
    "#         mode='lines',\n",
    "#         fillcolor='rgba(50, 173, 61, 0.3)',\n",
    "#         fill='tonexty',\n",
    "#         showlegend=False\n",
    "#     ),\n",
    "\n",
    "\n",
    "# ])\n",
    "# fig.update_layout(\n",
    "#     yaxis_title='Wind speed (m/s)',\n",
    "#     title='Continuous, variable value error bars',\n",
    "#     hovermode=\"x\"\n",
    "# )\n",
    "# fig.show()\n",
    "\n",
    "\n",
    "# fig = go.Figure([\n",
    "#     go.Scatter(x = data['best']['x'],\n",
    "#                y = data['best']['y'],\n",
    "#                mode='markers',\n",
    "#                name = 'best subgraph'),\n",
    "#     go.Scatter(x = data['random']['x'],\n",
    "#                y = data['random']['y'],\n",
    "#                mode='markers',\n",
    "#                name = 'random subgraph'),\n",
    "#     go.Scatter(x = data['worst']['x'],\n",
    "#                y = data['worst']['y'],\n",
    "#                mode='markers',\n",
    "#                name='worst subgraph'),   \n",
    "# ])\n",
    "\n",
    "\n",
    "\n",
    "layout = Layout(\n",
    "    paper_bgcolor='rgba(0,0,0,0)',\n",
    "    plot_bgcolor='rgba(0,0,0,0)'\n",
    ")\n",
    "\n",
    "fig.layout = layout\n",
    "fig.update_xaxes(type=\"log\",title_text='Size Ratio (log scale)',autorange=\"reversed\")\n",
    "fig.update_yaxes(title_text='Pearson R of Activations')\n",
    "fig.update_layout(yaxis_range=[-.3,1],legend=dict(\n",
    "    yanchor=\"top\",\n",
    "    y=0.99,\n",
    "    xanchor=\"right\",\n",
    "    x=0.99),\n",
    "    width=900,\n",
    "    height=600)\n",
    "fig"
   ]
  },
  {
   "cell_type": "markdown",
   "id": "d9692489",
   "metadata": {},
   "source": [
    "## check for mask 'collapse'"
   ]
  },
  {
   "cell_type": "code",
   "execution_count": null,
   "id": "48686f89",
   "metadata": {},
   "outputs": [],
   "source": [
    "import torch\n",
    "import os\n",
    "\n",
    "mask_folder = 'circuit_masks/alexnet_sparse/force/'\n",
    "\n",
    "\n",
    "\n",
    "masks = []\n",
    "\n",
    "for f in os.listdir(mask_folder):\n",
    "    if '.pt' in f:\n",
    "        masks.append(torch.load(mask_folder+f))"
   ]
  },
  {
   "cell_type": "code",
   "execution_count": null,
   "id": "5bbf7b5d",
   "metadata": {},
   "outputs": [],
   "source": [
    "from circuit_pruner.force import *\n",
    "import time\n",
    "import os\n",
    "from circuit_pruner.utils import update_sys_path\n",
    "\n",
    "\n",
    "\n",
    "##DATA LOADER###\n",
    "import torch.utils.data as data\n",
    "import torchvision.datasets as datasets\n",
    "from circuit_pruner.data_loading import rank_image_data\n",
    "from circuit_pruner.dissected_Conv2d import *\n",
    "from copy import deepcopy\n",
    "\n",
    "\n",
    "config = 'configs/alexnet_sparse_config.py'\n",
    "\n",
    "if '/' in config:\n",
    "    config_root_path = ('/').join(config.split('/')[:-1])\n",
    "    update_sys_path(config_root_path)\n",
    "config_module = config.split('/')[-1].replace('.py','')\n",
    "params = __import__(config_module)\n",
    "\n",
    "\n",
    "\n",
    "\n",
    "device= 'cuda:0'\n",
    "model = deepcopy(params.model).to(device)\n",
    "\n",
    "for m in masks:\n",
    "    if m['keep_ratio'] == .001:\n",
    "        break\n",
    "        \n",
    "\n",
    "\n",
    "\n",
    "T = 1\n",
    "ratio = m['keep_ratio']\n",
    "\n",
    "\n",
    "structure = m['structure']\n",
    "\n",
    "data_path = m['data_path']\n",
    "\n",
    "\n",
    "batch_size = 200\n",
    "\n",
    "\n",
    "\n",
    "feature_target = {m['layer']:[m['unit']]}\n",
    "\n",
    "\n",
    "kwargs = {'num_workers': params.num_workers, 'pin_memory': True, 'sampler':None} if 'cuda' in device else {}\n",
    "dataloader = data.DataLoader(rank_image_data(data_path,\n",
    "                                            params.preprocess,\n",
    "                                            label_file_path = params.label_file_path,class_folders=True),\n",
    "                                            batch_size=batch_size,\n",
    "                                            shuffle=False,\n",
    "                                            **kwargs)\n",
    "\n",
    "\n",
    "\n",
    "\n",
    "ranks  = circuit_snip_rank(model, dataloader, feature_targets = feature_target, feature_targets_coefficients = None, full_dataset = True, device=device, criterion= None, setup_net=True,rank_field='image',mask=m['mask'])"
   ]
  },
  {
   "cell_type": "code",
   "execution_count": null,
   "id": "1e96e811",
   "metadata": {},
   "outputs": [],
   "source": [
    "x = list(range(10))"
   ]
  },
  {
   "cell_type": "code",
   "execution_count": null,
   "id": "68c697c2",
   "metadata": {},
   "outputs": [],
   "source": []
  }
 ],
 "metadata": {
  "kernelspec": {
   "display_name": "viscnn",
   "language": "python",
   "name": "viscnn"
  },
  "language_info": {
   "codemirror_mode": {
    "name": "ipython",
    "version": 3
   },
   "file_extension": ".py",
   "mimetype": "text/x-python",
   "name": "python",
   "nbconvert_exporter": "python",
   "pygments_lexer": "ipython3",
   "version": "3.7.10"
  }
 },
 "nbformat": 4,
 "nbformat_minor": 5
}
